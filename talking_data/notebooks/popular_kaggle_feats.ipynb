{
 "cells": [
  {
   "cell_type": "code",
   "execution_count": 1,
   "metadata": {},
   "outputs": [],
   "source": [
    "%matplotlib inline\n",
    "import numpy as np\n",
    "import pandas as pd\n",
    "import gc\n",
    "import lightgbm as lgb\n",
    "from sklearn.metrics import precision_score, recall_score, roc_auc_score\n",
    "import matplotlib.pyplot as plt\n",
    "from itertools import combinations"
   ]
  },
  {
   "cell_type": "markdown",
   "metadata": {},
   "source": [
    "# Prepare data"
   ]
  },
  {
   "cell_type": "code",
   "execution_count": 2,
   "metadata": {},
   "outputs": [],
   "source": [
    "hdf_path = '../derived_data/source.hdf'"
   ]
  },
  {
   "cell_type": "code",
   "execution_count": 3,
   "metadata": {},
   "outputs": [
    {
     "name": "stdout",
     "output_type": "stream",
     "text": [
      "CPU times: user 434 ms, sys: 8.07 s, total: 8.5 s\n",
      "Wall time: 38.5 s\n"
     ]
    }
   ],
   "source": [
    "%%time\n",
    "train = pd.read_hdf(hdf_path, key='train')"
   ]
  },
  {
   "cell_type": "code",
   "execution_count": 4,
   "metadata": {},
   "outputs": [],
   "source": [
    "train.loc[:, 'day'] = train.click_time.dt.day.astype('uint8')"
   ]
  },
  {
   "cell_type": "code",
   "execution_count": 5,
   "metadata": {},
   "outputs": [],
   "source": [
    "train.loc[:, 'hour'] = train.click_time.dt.hour.astype('uint8')"
   ]
  },
  {
   "cell_type": "code",
   "execution_count": 6,
   "metadata": {},
   "outputs": [
    {
     "data": {
      "text/html": [
       "<div>\n",
       "<style scoped>\n",
       "    .dataframe tbody tr th:only-of-type {\n",
       "        vertical-align: middle;\n",
       "    }\n",
       "\n",
       "    .dataframe tbody tr th {\n",
       "        vertical-align: top;\n",
       "    }\n",
       "\n",
       "    .dataframe thead th {\n",
       "        text-align: right;\n",
       "    }\n",
       "</style>\n",
       "<table border=\"1\" class=\"dataframe\">\n",
       "  <thead>\n",
       "    <tr style=\"text-align: right;\">\n",
       "      <th></th>\n",
       "      <th>ip</th>\n",
       "      <th>app</th>\n",
       "      <th>device</th>\n",
       "      <th>os</th>\n",
       "      <th>channel</th>\n",
       "      <th>click_time</th>\n",
       "      <th>is_attributed</th>\n",
       "      <th>day</th>\n",
       "      <th>hour</th>\n",
       "    </tr>\n",
       "  </thead>\n",
       "  <tbody>\n",
       "    <tr>\n",
       "      <th>0</th>\n",
       "      <td>83230</td>\n",
       "      <td>3</td>\n",
       "      <td>1</td>\n",
       "      <td>13</td>\n",
       "      <td>379</td>\n",
       "      <td>2017-11-06 14:32:21</td>\n",
       "      <td>0</td>\n",
       "      <td>6</td>\n",
       "      <td>14</td>\n",
       "    </tr>\n",
       "    <tr>\n",
       "      <th>1</th>\n",
       "      <td>17357</td>\n",
       "      <td>3</td>\n",
       "      <td>1</td>\n",
       "      <td>19</td>\n",
       "      <td>379</td>\n",
       "      <td>2017-11-06 14:33:34</td>\n",
       "      <td>0</td>\n",
       "      <td>6</td>\n",
       "      <td>14</td>\n",
       "    </tr>\n",
       "    <tr>\n",
       "      <th>2</th>\n",
       "      <td>35810</td>\n",
       "      <td>3</td>\n",
       "      <td>1</td>\n",
       "      <td>13</td>\n",
       "      <td>379</td>\n",
       "      <td>2017-11-06 14:34:12</td>\n",
       "      <td>0</td>\n",
       "      <td>6</td>\n",
       "      <td>14</td>\n",
       "    </tr>\n",
       "    <tr>\n",
       "      <th>3</th>\n",
       "      <td>45745</td>\n",
       "      <td>14</td>\n",
       "      <td>1</td>\n",
       "      <td>13</td>\n",
       "      <td>478</td>\n",
       "      <td>2017-11-06 14:34:52</td>\n",
       "      <td>0</td>\n",
       "      <td>6</td>\n",
       "      <td>14</td>\n",
       "    </tr>\n",
       "    <tr>\n",
       "      <th>4</th>\n",
       "      <td>161007</td>\n",
       "      <td>3</td>\n",
       "      <td>1</td>\n",
       "      <td>13</td>\n",
       "      <td>379</td>\n",
       "      <td>2017-11-06 14:35:08</td>\n",
       "      <td>0</td>\n",
       "      <td>6</td>\n",
       "      <td>14</td>\n",
       "    </tr>\n",
       "  </tbody>\n",
       "</table>\n",
       "</div>"
      ],
      "text/plain": [
       "       ip  app  device  os  channel          click_time  is_attributed  day  \\\n",
       "0   83230    3       1  13      379 2017-11-06 14:32:21              0    6   \n",
       "1   17357    3       1  19      379 2017-11-06 14:33:34              0    6   \n",
       "2   35810    3       1  13      379 2017-11-06 14:34:12              0    6   \n",
       "3   45745   14       1  13      478 2017-11-06 14:34:52              0    6   \n",
       "4  161007    3       1  13      379 2017-11-06 14:35:08              0    6   \n",
       "\n",
       "   hour  \n",
       "0    14  \n",
       "1    14  \n",
       "2    14  \n",
       "3    14  \n",
       "4    14  "
      ]
     },
     "execution_count": 6,
     "metadata": {},
     "output_type": "execute_result"
    }
   ],
   "source": [
    "train.head()"
   ]
  },
  {
   "cell_type": "code",
   "execution_count": 7,
   "metadata": {},
   "outputs": [
    {
     "name": "stdout",
     "output_type": "stream",
     "text": [
      "CPU times: user 3.75 s, sys: 3.35 s, total: 7.1 s\n",
      "Wall time: 2.14 s\n"
     ]
    }
   ],
   "source": [
    "%%time\n",
    "train.drop(['click_time'], axis=1, inplace=True)"
   ]
  },
  {
   "cell_type": "code",
   "execution_count": 8,
   "metadata": {},
   "outputs": [
    {
     "data": {
      "text/plain": [
       "0"
      ]
     },
     "execution_count": 8,
     "metadata": {},
     "output_type": "execute_result"
    }
   ],
   "source": [
    "gc.collect()"
   ]
  },
  {
   "cell_type": "code",
   "execution_count": 9,
   "metadata": {},
   "outputs": [],
   "source": [
    "train = train.loc[train.day.isin([7, 8])].copy()"
   ]
  },
  {
   "cell_type": "code",
   "execution_count": 9,
   "metadata": {},
   "outputs": [],
   "source": [
    "train = train.loc[train.day.isin([9])].copy()"
   ]
  },
  {
   "cell_type": "code",
   "execution_count": 10,
   "metadata": {},
   "outputs": [
    {
     "data": {
      "text/plain": [
       "31"
      ]
     },
     "execution_count": 10,
     "metadata": {},
     "output_type": "execute_result"
    }
   ],
   "source": [
    "gc.collect()"
   ]
  },
  {
   "cell_type": "code",
   "execution_count": 11,
   "metadata": {},
   "outputs": [
    {
     "data": {
      "text/html": [
       "<div>\n",
       "<style scoped>\n",
       "    .dataframe tbody tr th:only-of-type {\n",
       "        vertical-align: middle;\n",
       "    }\n",
       "\n",
       "    .dataframe tbody tr th {\n",
       "        vertical-align: top;\n",
       "    }\n",
       "\n",
       "    .dataframe thead th {\n",
       "        text-align: right;\n",
       "    }\n",
       "</style>\n",
       "<table border=\"1\" class=\"dataframe\">\n",
       "  <thead>\n",
       "    <tr style=\"text-align: right;\">\n",
       "      <th></th>\n",
       "      <th>ip</th>\n",
       "      <th>app</th>\n",
       "      <th>device</th>\n",
       "      <th>os</th>\n",
       "      <th>channel</th>\n",
       "      <th>is_attributed</th>\n",
       "      <th>day</th>\n",
       "      <th>hour</th>\n",
       "    </tr>\n",
       "  </thead>\n",
       "  <tbody>\n",
       "    <tr>\n",
       "      <th>131886953</th>\n",
       "      <td>201143</td>\n",
       "      <td>11</td>\n",
       "      <td>1</td>\n",
       "      <td>13</td>\n",
       "      <td>487</td>\n",
       "      <td>0</td>\n",
       "      <td>9</td>\n",
       "      <td>0</td>\n",
       "    </tr>\n",
       "    <tr>\n",
       "      <th>131886954</th>\n",
       "      <td>34684</td>\n",
       "      <td>2</td>\n",
       "      <td>1</td>\n",
       "      <td>13</td>\n",
       "      <td>469</td>\n",
       "      <td>0</td>\n",
       "      <td>9</td>\n",
       "      <td>0</td>\n",
       "    </tr>\n",
       "    <tr>\n",
       "      <th>131886955</th>\n",
       "      <td>207368</td>\n",
       "      <td>26</td>\n",
       "      <td>1</td>\n",
       "      <td>19</td>\n",
       "      <td>477</td>\n",
       "      <td>0</td>\n",
       "      <td>9</td>\n",
       "      <td>0</td>\n",
       "    </tr>\n",
       "    <tr>\n",
       "      <th>131886956</th>\n",
       "      <td>110176</td>\n",
       "      <td>18</td>\n",
       "      <td>1</td>\n",
       "      <td>8</td>\n",
       "      <td>121</td>\n",
       "      <td>0</td>\n",
       "      <td>9</td>\n",
       "      <td>0</td>\n",
       "    </tr>\n",
       "    <tr>\n",
       "      <th>131886957</th>\n",
       "      <td>109644</td>\n",
       "      <td>12</td>\n",
       "      <td>1</td>\n",
       "      <td>19</td>\n",
       "      <td>265</td>\n",
       "      <td>0</td>\n",
       "      <td>9</td>\n",
       "      <td>0</td>\n",
       "    </tr>\n",
       "  </tbody>\n",
       "</table>\n",
       "</div>"
      ],
      "text/plain": [
       "               ip  app  device  os  channel  is_attributed  day  hour\n",
       "131886953  201143   11       1  13      487              0    9     0\n",
       "131886954   34684    2       1  13      469              0    9     0\n",
       "131886955  207368   26       1  19      477              0    9     0\n",
       "131886956  110176   18       1   8      121              0    9     0\n",
       "131886957  109644   12       1  19      265              0    9     0"
      ]
     },
     "execution_count": 11,
     "metadata": {},
     "output_type": "execute_result"
    }
   ],
   "source": [
    "train.head()"
   ]
  },
  {
   "cell_type": "code",
   "execution_count": 12,
   "metadata": {},
   "outputs": [],
   "source": [
    "most_freq_hours_in_test_data = [4, 5, 9, 10, 13, 14]\n",
    "least_freq_hours_in_test_data = [6, 11, 15]"
   ]
  },
  {
   "cell_type": "code",
   "execution_count": 13,
   "metadata": {},
   "outputs": [],
   "source": [
    "train.loc[:, 'in_test_hh'] = (\n",
    "    3 - 2*train.hour.isin(most_freq_hours_in_test_data) - 1*train.hour.isin(least_freq_hours_in_test_data)\n",
    ").astype('uint8')"
   ]
  },
  {
   "cell_type": "code",
   "execution_count": 14,
   "metadata": {},
   "outputs": [
    {
     "data": {
      "text/html": [
       "<div>\n",
       "<style scoped>\n",
       "    .dataframe tbody tr th:only-of-type {\n",
       "        vertical-align: middle;\n",
       "    }\n",
       "\n",
       "    .dataframe tbody tr th {\n",
       "        vertical-align: top;\n",
       "    }\n",
       "\n",
       "    .dataframe thead th {\n",
       "        text-align: right;\n",
       "    }\n",
       "</style>\n",
       "<table border=\"1\" class=\"dataframe\">\n",
       "  <thead>\n",
       "    <tr style=\"text-align: right;\">\n",
       "      <th></th>\n",
       "      <th>ip</th>\n",
       "      <th>app</th>\n",
       "      <th>device</th>\n",
       "      <th>os</th>\n",
       "      <th>channel</th>\n",
       "      <th>is_attributed</th>\n",
       "      <th>day</th>\n",
       "      <th>hour</th>\n",
       "      <th>in_test_hh</th>\n",
       "    </tr>\n",
       "  </thead>\n",
       "  <tbody>\n",
       "    <tr>\n",
       "      <th>131886953</th>\n",
       "      <td>201143</td>\n",
       "      <td>11</td>\n",
       "      <td>1</td>\n",
       "      <td>13</td>\n",
       "      <td>487</td>\n",
       "      <td>0</td>\n",
       "      <td>9</td>\n",
       "      <td>0</td>\n",
       "      <td>3</td>\n",
       "    </tr>\n",
       "    <tr>\n",
       "      <th>131886954</th>\n",
       "      <td>34684</td>\n",
       "      <td>2</td>\n",
       "      <td>1</td>\n",
       "      <td>13</td>\n",
       "      <td>469</td>\n",
       "      <td>0</td>\n",
       "      <td>9</td>\n",
       "      <td>0</td>\n",
       "      <td>3</td>\n",
       "    </tr>\n",
       "    <tr>\n",
       "      <th>131886955</th>\n",
       "      <td>207368</td>\n",
       "      <td>26</td>\n",
       "      <td>1</td>\n",
       "      <td>19</td>\n",
       "      <td>477</td>\n",
       "      <td>0</td>\n",
       "      <td>9</td>\n",
       "      <td>0</td>\n",
       "      <td>3</td>\n",
       "    </tr>\n",
       "    <tr>\n",
       "      <th>131886956</th>\n",
       "      <td>110176</td>\n",
       "      <td>18</td>\n",
       "      <td>1</td>\n",
       "      <td>8</td>\n",
       "      <td>121</td>\n",
       "      <td>0</td>\n",
       "      <td>9</td>\n",
       "      <td>0</td>\n",
       "      <td>3</td>\n",
       "    </tr>\n",
       "    <tr>\n",
       "      <th>131886957</th>\n",
       "      <td>109644</td>\n",
       "      <td>12</td>\n",
       "      <td>1</td>\n",
       "      <td>19</td>\n",
       "      <td>265</td>\n",
       "      <td>0</td>\n",
       "      <td>9</td>\n",
       "      <td>0</td>\n",
       "      <td>3</td>\n",
       "    </tr>\n",
       "  </tbody>\n",
       "</table>\n",
       "</div>"
      ],
      "text/plain": [
       "               ip  app  device  os  channel  is_attributed  day  hour  \\\n",
       "131886953  201143   11       1  13      487              0    9     0   \n",
       "131886954   34684    2       1  13      469              0    9     0   \n",
       "131886955  207368   26       1  19      477              0    9     0   \n",
       "131886956  110176   18       1   8      121              0    9     0   \n",
       "131886957  109644   12       1  19      265              0    9     0   \n",
       "\n",
       "           in_test_hh  \n",
       "131886953           3  \n",
       "131886954           3  \n",
       "131886955           3  \n",
       "131886956           3  \n",
       "131886957           3  "
      ]
     },
     "execution_count": 14,
     "metadata": {},
     "output_type": "execute_result"
    }
   ],
   "source": [
    "train.head()"
   ]
  },
  {
   "cell_type": "code",
   "execution_count": 15,
   "metadata": {},
   "outputs": [
    {
     "data": {
      "text/plain": [
       "31"
      ]
     },
     "execution_count": 15,
     "metadata": {},
     "output_type": "execute_result"
    }
   ],
   "source": [
    "gc.collect()"
   ]
  },
  {
   "cell_type": "code",
   "execution_count": 16,
   "metadata": {},
   "outputs": [],
   "source": [
    "uint8_max = np.iinfo(np.uint8).max\n",
    "uint16_max = np.iinfo(np.uint16).max\n",
    "uint32_max = np.iinfo(np.uint32).max\n",
    "def choose_int_type(n):\n",
    "    if n <= uint8_max:\n",
    "        return 'uint8'\n",
    "    elif n <= uint16_max:\n",
    "        return 'uint16'\n",
    "    elif n <= uint32_max:\n",
    "        return 'uint32'\n",
    "    else:\n",
    "        return 'uint64'"
   ]
  },
  {
   "cell_type": "code",
   "execution_count": 17,
   "metadata": {},
   "outputs": [],
   "source": [
    "def process(dat, itercols, combo_max=None):\n",
    "    combos = []\n",
    "    if combo_max is None:\n",
    "        combo_max = len(itercols)\n",
    "    for i in range(combo_max):\n",
    "        combos += list(combinations(itercols, i+1))\n",
    "    for hour in ['hour', 'in_test_hh']:\n",
    "        for combo in combos:\n",
    "            print('Process {hour}, {combo}'.format(hour=hour, combo=combo))\n",
    "            combo = list(combo)\n",
    "            feats = ['day', hour] + combo\n",
    "            gp = dat[feats].groupby(feats).size()\n",
    "            int_type = choose_int_type(gp.max())\n",
    "            gp = gp.astype(int_type)\n",
    "            gp = gp.reset_index().rename(columns={0: '_'.join(['n'] + feats)})\n",
    "            dat = dat.merge(gp, on=feats, how='left')\n",
    "            del gp\n",
    "            gc.collect()\n",
    "    return dat"
   ]
  },
  {
   "cell_type": "code",
   "execution_count": 18,
   "metadata": {},
   "outputs": [
    {
     "data": {
      "text/plain": [
       "0"
      ]
     },
     "execution_count": 18,
     "metadata": {},
     "output_type": "execute_result"
    }
   ],
   "source": [
    "gc.collect()"
   ]
  },
  {
   "cell_type": "code",
   "execution_count": 19,
   "metadata": {},
   "outputs": [
    {
     "name": "stdout",
     "output_type": "stream",
     "text": [
      "Process hour, ('ip',)\n",
      "Process hour, ('app',)\n",
      "Process hour, ('device',)\n",
      "Process hour, ('os',)\n",
      "Process hour, ('channel',)\n",
      "Process hour, ('ip', 'app')\n",
      "Process hour, ('ip', 'device')\n",
      "Process hour, ('ip', 'os')\n",
      "Process hour, ('ip', 'channel')\n",
      "Process hour, ('app', 'device')\n",
      "Process hour, ('app', 'os')\n",
      "Process hour, ('app', 'channel')\n",
      "Process hour, ('device', 'os')\n",
      "Process hour, ('device', 'channel')\n",
      "Process hour, ('os', 'channel')\n",
      "Process in_test_hh, ('ip',)\n",
      "Process in_test_hh, ('app',)\n",
      "Process in_test_hh, ('device',)\n",
      "Process in_test_hh, ('os',)\n",
      "Process in_test_hh, ('channel',)\n",
      "Process in_test_hh, ('ip', 'app')\n",
      "Process in_test_hh, ('ip', 'device')\n",
      "Process in_test_hh, ('ip', 'os')\n",
      "Process in_test_hh, ('ip', 'channel')\n",
      "Process in_test_hh, ('app', 'device')\n",
      "Process in_test_hh, ('app', 'os')\n",
      "Process in_test_hh, ('app', 'channel')\n",
      "Process in_test_hh, ('device', 'os')\n",
      "Process in_test_hh, ('device', 'channel')\n",
      "Process in_test_hh, ('os', 'channel')\n"
     ]
    }
   ],
   "source": [
    "train = process(train, ['ip', 'app', 'device', 'os', 'channel'], combo_max=2)"
   ]
  },
  {
   "cell_type": "code",
   "execution_count": 20,
   "metadata": {},
   "outputs": [
    {
     "data": {
      "text/html": [
       "<div>\n",
       "<style scoped>\n",
       "    .dataframe tbody tr th:only-of-type {\n",
       "        vertical-align: middle;\n",
       "    }\n",
       "\n",
       "    .dataframe tbody tr th {\n",
       "        vertical-align: top;\n",
       "    }\n",
       "\n",
       "    .dataframe thead th {\n",
       "        text-align: right;\n",
       "    }\n",
       "</style>\n",
       "<table border=\"1\" class=\"dataframe\">\n",
       "  <thead>\n",
       "    <tr style=\"text-align: right;\">\n",
       "      <th></th>\n",
       "      <th>ip</th>\n",
       "      <th>app</th>\n",
       "      <th>device</th>\n",
       "      <th>os</th>\n",
       "      <th>channel</th>\n",
       "      <th>is_attributed</th>\n",
       "      <th>day</th>\n",
       "      <th>hour</th>\n",
       "      <th>in_test_hh</th>\n",
       "      <th>n_day_hour_ip</th>\n",
       "      <th>...</th>\n",
       "      <th>n_day_in_test_hh_ip_app</th>\n",
       "      <th>n_day_in_test_hh_ip_device</th>\n",
       "      <th>n_day_in_test_hh_ip_os</th>\n",
       "      <th>n_day_in_test_hh_ip_channel</th>\n",
       "      <th>n_day_in_test_hh_app_device</th>\n",
       "      <th>n_day_in_test_hh_app_os</th>\n",
       "      <th>n_day_in_test_hh_app_channel</th>\n",
       "      <th>n_day_in_test_hh_device_os</th>\n",
       "      <th>n_day_in_test_hh_device_channel</th>\n",
       "      <th>n_day_in_test_hh_os_channel</th>\n",
       "    </tr>\n",
       "  </thead>\n",
       "  <tbody>\n",
       "    <tr>\n",
       "      <th>0</th>\n",
       "      <td>201143</td>\n",
       "      <td>11</td>\n",
       "      <td>1</td>\n",
       "      <td>13</td>\n",
       "      <td>487</td>\n",
       "      <td>0</td>\n",
       "      <td>9</td>\n",
       "      <td>0</td>\n",
       "      <td>3</td>\n",
       "      <td>70</td>\n",
       "      <td>...</td>\n",
       "      <td>26</td>\n",
       "      <td>499</td>\n",
       "      <td>75</td>\n",
       "      <td>2</td>\n",
       "      <td>484701</td>\n",
       "      <td>103999</td>\n",
       "      <td>46202</td>\n",
       "      <td>4575591</td>\n",
       "      <td>45996</td>\n",
       "      <td>9952</td>\n",
       "    </tr>\n",
       "    <tr>\n",
       "      <th>1</th>\n",
       "      <td>34684</td>\n",
       "      <td>2</td>\n",
       "      <td>1</td>\n",
       "      <td>13</td>\n",
       "      <td>469</td>\n",
       "      <td>0</td>\n",
       "      <td>9</td>\n",
       "      <td>0</td>\n",
       "      <td>3</td>\n",
       "      <td>54</td>\n",
       "      <td>...</td>\n",
       "      <td>28</td>\n",
       "      <td>337</td>\n",
       "      <td>41</td>\n",
       "      <td>2</td>\n",
       "      <td>2550798</td>\n",
       "      <td>552085</td>\n",
       "      <td>191254</td>\n",
       "      <td>4575591</td>\n",
       "      <td>302134</td>\n",
       "      <td>62632</td>\n",
       "    </tr>\n",
       "    <tr>\n",
       "      <th>2</th>\n",
       "      <td>207368</td>\n",
       "      <td>26</td>\n",
       "      <td>1</td>\n",
       "      <td>19</td>\n",
       "      <td>477</td>\n",
       "      <td>0</td>\n",
       "      <td>9</td>\n",
       "      <td>0</td>\n",
       "      <td>3</td>\n",
       "      <td>101</td>\n",
       "      <td>...</td>\n",
       "      <td>9</td>\n",
       "      <td>509</td>\n",
       "      <td>182</td>\n",
       "      <td>23</td>\n",
       "      <td>435656</td>\n",
       "      <td>115176</td>\n",
       "      <td>141539</td>\n",
       "      <td>5217777</td>\n",
       "      <td>826835</td>\n",
       "      <td>205731</td>\n",
       "    </tr>\n",
       "    <tr>\n",
       "      <th>3</th>\n",
       "      <td>110176</td>\n",
       "      <td>18</td>\n",
       "      <td>1</td>\n",
       "      <td>8</td>\n",
       "      <td>121</td>\n",
       "      <td>0</td>\n",
       "      <td>9</td>\n",
       "      <td>0</td>\n",
       "      <td>3</td>\n",
       "      <td>146</td>\n",
       "      <td>...</td>\n",
       "      <td>50</td>\n",
       "      <td>813</td>\n",
       "      <td>99</td>\n",
       "      <td>14</td>\n",
       "      <td>1937135</td>\n",
       "      <td>65358</td>\n",
       "      <td>355637</td>\n",
       "      <td>626314</td>\n",
       "      <td>521749</td>\n",
       "      <td>14106</td>\n",
       "    </tr>\n",
       "    <tr>\n",
       "      <th>4</th>\n",
       "      <td>109644</td>\n",
       "      <td>12</td>\n",
       "      <td>1</td>\n",
       "      <td>19</td>\n",
       "      <td>265</td>\n",
       "      <td>0</td>\n",
       "      <td>9</td>\n",
       "      <td>0</td>\n",
       "      <td>3</td>\n",
       "      <td>393</td>\n",
       "      <td>...</td>\n",
       "      <td>321</td>\n",
       "      <td>2326</td>\n",
       "      <td>763</td>\n",
       "      <td>93</td>\n",
       "      <td>2573155</td>\n",
       "      <td>642138</td>\n",
       "      <td>526726</td>\n",
       "      <td>5217777</td>\n",
       "      <td>639559</td>\n",
       "      <td>152975</td>\n",
       "    </tr>\n",
       "  </tbody>\n",
       "</table>\n",
       "<p>5 rows × 39 columns</p>\n",
       "</div>"
      ],
      "text/plain": [
       "       ip  app  device  os  channel  is_attributed  day  hour  in_test_hh  \\\n",
       "0  201143   11       1  13      487              0    9     0           3   \n",
       "1   34684    2       1  13      469              0    9     0           3   \n",
       "2  207368   26       1  19      477              0    9     0           3   \n",
       "3  110176   18       1   8      121              0    9     0           3   \n",
       "4  109644   12       1  19      265              0    9     0           3   \n",
       "\n",
       "   n_day_hour_ip             ...               n_day_in_test_hh_ip_app  \\\n",
       "0             70             ...                                    26   \n",
       "1             54             ...                                    28   \n",
       "2            101             ...                                     9   \n",
       "3            146             ...                                    50   \n",
       "4            393             ...                                   321   \n",
       "\n",
       "   n_day_in_test_hh_ip_device  n_day_in_test_hh_ip_os  \\\n",
       "0                         499                      75   \n",
       "1                         337                      41   \n",
       "2                         509                     182   \n",
       "3                         813                      99   \n",
       "4                        2326                     763   \n",
       "\n",
       "   n_day_in_test_hh_ip_channel  n_day_in_test_hh_app_device  \\\n",
       "0                            2                       484701   \n",
       "1                            2                      2550798   \n",
       "2                           23                       435656   \n",
       "3                           14                      1937135   \n",
       "4                           93                      2573155   \n",
       "\n",
       "   n_day_in_test_hh_app_os  n_day_in_test_hh_app_channel  \\\n",
       "0                   103999                         46202   \n",
       "1                   552085                        191254   \n",
       "2                   115176                        141539   \n",
       "3                    65358                        355637   \n",
       "4                   642138                        526726   \n",
       "\n",
       "   n_day_in_test_hh_device_os  n_day_in_test_hh_device_channel  \\\n",
       "0                     4575591                            45996   \n",
       "1                     4575591                           302134   \n",
       "2                     5217777                           826835   \n",
       "3                      626314                           521749   \n",
       "4                     5217777                           639559   \n",
       "\n",
       "   n_day_in_test_hh_os_channel  \n",
       "0                         9952  \n",
       "1                        62632  \n",
       "2                       205731  \n",
       "3                        14106  \n",
       "4                       152975  \n",
       "\n",
       "[5 rows x 39 columns]"
      ]
     },
     "execution_count": 20,
     "metadata": {},
     "output_type": "execute_result"
    }
   ],
   "source": [
    "train.head()"
   ]
  },
  {
   "cell_type": "code",
   "execution_count": 21,
   "metadata": {},
   "outputs": [
    {
     "data": {
      "text/plain": [
       "114"
      ]
     },
     "execution_count": 21,
     "metadata": {},
     "output_type": "execute_result"
    }
   ],
   "source": [
    "gc.collect()"
   ]
  },
  {
   "cell_type": "code",
   "execution_count": 22,
   "metadata": {},
   "outputs": [],
   "source": [
    "valid = train.loc[train.day == 7].copy()\n",
    "train = train.loc[train.day == 8].copy()"
   ]
  },
  {
   "cell_type": "code",
   "execution_count": 23,
   "metadata": {},
   "outputs": [
    {
     "data": {
      "text/plain": [
       "23"
      ]
     },
     "execution_count": 23,
     "metadata": {},
     "output_type": "execute_result"
    }
   ],
   "source": [
    "gc.collect()"
   ]
  },
  {
   "cell_type": "code",
   "execution_count": 22,
   "metadata": {},
   "outputs": [],
   "source": [
    "train.drop(['ip', 'day'], axis=1, inplace=True)"
   ]
  },
  {
   "cell_type": "code",
   "execution_count": 24,
   "metadata": {},
   "outputs": [],
   "source": [
    "valid.drop(['ip', 'day'], axis=1, inplace=True)"
   ]
  },
  {
   "cell_type": "code",
   "execution_count": 25,
   "metadata": {},
   "outputs": [
    {
     "data": {
      "text/plain": [
       "14"
      ]
     },
     "execution_count": 25,
     "metadata": {},
     "output_type": "execute_result"
    }
   ],
   "source": [
    "gc.collect()"
   ]
  },
  {
   "cell_type": "code",
   "execution_count": 26,
   "metadata": {},
   "outputs": [],
   "source": [
    "train.to_hdf('../derived_data/kaggle_populer.hdf', key='train', mode='w')\n",
    "valid.to_hdf('../derived_data/kaggle_populer.hdf', key='valid', mode='w')"
   ]
  },
  {
   "cell_type": "code",
   "execution_count": 2,
   "metadata": {},
   "outputs": [],
   "source": [
    "train = pd.read_hdf('../derived_data/kaggle_popular.hdf', key='train')\n",
    "valid = pd.read_hdf('../derived_data/kaggle_populer.hdf', key='valid')"
   ]
  },
  {
   "cell_type": "markdown",
   "metadata": {},
   "source": [
    "# Light GBM"
   ]
  },
  {
   "cell_type": "code",
   "execution_count": 23,
   "metadata": {},
   "outputs": [
    {
     "data": {
      "text/plain": [
       "Index(['app', 'device', 'os', 'channel', 'is_attributed', 'hour', 'in_test_hh',\n",
       "       'n_day_hour_ip', 'n_day_hour_app', 'n_day_hour_device', 'n_day_hour_os',\n",
       "       'n_day_hour_channel', 'n_day_hour_ip_app', 'n_day_hour_ip_device',\n",
       "       'n_day_hour_ip_os', 'n_day_hour_ip_channel', 'n_day_hour_app_device',\n",
       "       'n_day_hour_app_os', 'n_day_hour_app_channel', 'n_day_hour_device_os',\n",
       "       'n_day_hour_device_channel', 'n_day_hour_os_channel',\n",
       "       'n_day_in_test_hh_ip', 'n_day_in_test_hh_app',\n",
       "       'n_day_in_test_hh_device', 'n_day_in_test_hh_os',\n",
       "       'n_day_in_test_hh_channel', 'n_day_in_test_hh_ip_app',\n",
       "       'n_day_in_test_hh_ip_device', 'n_day_in_test_hh_ip_os',\n",
       "       'n_day_in_test_hh_ip_channel', 'n_day_in_test_hh_app_device',\n",
       "       'n_day_in_test_hh_app_os', 'n_day_in_test_hh_app_channel',\n",
       "       'n_day_in_test_hh_device_os', 'n_day_in_test_hh_device_channel',\n",
       "       'n_day_in_test_hh_os_channel'],\n",
       "      dtype='object')"
      ]
     },
     "execution_count": 23,
     "metadata": {},
     "output_type": "execute_result"
    }
   ],
   "source": [
    "train.columns"
   ]
  },
  {
   "cell_type": "code",
   "execution_count": 24,
   "metadata": {},
   "outputs": [],
   "source": [
    "target = 'is_attributed'"
   ]
  },
  {
   "cell_type": "code",
   "execution_count": 25,
   "metadata": {},
   "outputs": [],
   "source": [
    "predictors = train.columns.tolist()"
   ]
  },
  {
   "cell_type": "code",
   "execution_count": 26,
   "metadata": {},
   "outputs": [],
   "source": [
    "predictors.remove(target)"
   ]
  },
  {
   "cell_type": "code",
   "execution_count": 27,
   "metadata": {},
   "outputs": [
    {
     "data": {
      "text/plain": [
       "['app',\n",
       " 'device',\n",
       " 'os',\n",
       " 'channel',\n",
       " 'hour',\n",
       " 'in_test_hh',\n",
       " 'n_day_hour_ip',\n",
       " 'n_day_hour_app',\n",
       " 'n_day_hour_device',\n",
       " 'n_day_hour_os',\n",
       " 'n_day_hour_channel',\n",
       " 'n_day_hour_ip_app',\n",
       " 'n_day_hour_ip_device',\n",
       " 'n_day_hour_ip_os',\n",
       " 'n_day_hour_ip_channel',\n",
       " 'n_day_hour_app_device',\n",
       " 'n_day_hour_app_os',\n",
       " 'n_day_hour_app_channel',\n",
       " 'n_day_hour_device_os',\n",
       " 'n_day_hour_device_channel',\n",
       " 'n_day_hour_os_channel',\n",
       " 'n_day_in_test_hh_ip',\n",
       " 'n_day_in_test_hh_app',\n",
       " 'n_day_in_test_hh_device',\n",
       " 'n_day_in_test_hh_os',\n",
       " 'n_day_in_test_hh_channel',\n",
       " 'n_day_in_test_hh_ip_app',\n",
       " 'n_day_in_test_hh_ip_device',\n",
       " 'n_day_in_test_hh_ip_os',\n",
       " 'n_day_in_test_hh_ip_channel',\n",
       " 'n_day_in_test_hh_app_device',\n",
       " 'n_day_in_test_hh_app_os',\n",
       " 'n_day_in_test_hh_app_channel',\n",
       " 'n_day_in_test_hh_device_os',\n",
       " 'n_day_in_test_hh_device_channel',\n",
       " 'n_day_in_test_hh_os_channel']"
      ]
     },
     "execution_count": 27,
     "metadata": {},
     "output_type": "execute_result"
    }
   ],
   "source": [
    "predictors"
   ]
  },
  {
   "cell_type": "code",
   "execution_count": 28,
   "metadata": {},
   "outputs": [],
   "source": [
    "categorical = ['app', 'device', 'os', 'channel', 'hour', 'in_test_hh']"
   ]
  },
  {
   "cell_type": "code",
   "execution_count": 29,
   "metadata": {},
   "outputs": [
    {
     "data": {
      "text/plain": [
       "0"
      ]
     },
     "execution_count": 29,
     "metadata": {},
     "output_type": "execute_result"
    }
   ],
   "source": [
    "gc.collect()"
   ]
  },
  {
   "cell_type": "code",
   "execution_count": 30,
   "metadata": {},
   "outputs": [],
   "source": [
    "params = {\n",
    "    'boosting_type': 'gbdt',  # I think dart would be better, but takes too long to run\n",
    "    'drop_rate': 0.1,  # Rate at which to drop trees\n",
    "    'objective': 'binary',\n",
    "    'metric': 'auc',\n",
    "    'learning_rate': 0.1,\n",
    "    'num_leaves': 7,  # Was 255: Reduced to control overfitting\n",
    "    'max_depth': 4,  # Was 8: LightGBM splits leaf-wise, so control depth via num_leaves\n",
    "    'min_child_samples': 100,\n",
    "    'max_bin': 100,\n",
    "    'subsample': 0.7,  # Was 0.7\n",
    "    'subsample_freq': 1,\n",
    "    'colsample_bytree': 0.7,\n",
    "    'min_child_weight': 0,\n",
    "    'subsample_for_bin': 200000,\n",
    "    'min_split_gain': 0,\n",
    "    'reg_alpha': 0,\n",
    "    'reg_lambda': 0,\n",
    "    'nthread': 8,\n",
    "    'verbose': 0,\n",
    "    'scale_pos_weight': 300\n",
    "}"
   ]
  },
  {
   "cell_type": "code",
   "execution_count": 31,
   "metadata": {},
   "outputs": [],
   "source": [
    "dtrain = lgb.Dataset(\n",
    "    train.loc[:, predictors].values,\n",
    "    label=train.loc[:, target].values,\n",
    "    feature_name=predictors,\n",
    "    categorical_feature=categorical\n",
    ")"
   ]
  },
  {
   "cell_type": "code",
   "execution_count": 32,
   "metadata": {},
   "outputs": [],
   "source": [
    "del train"
   ]
  },
  {
   "cell_type": "code",
   "execution_count": 33,
   "metadata": {},
   "outputs": [
    {
     "data": {
      "text/plain": [
       "34"
      ]
     },
     "execution_count": 33,
     "metadata": {},
     "output_type": "execute_result"
    }
   ],
   "source": [
    "gc.collect()"
   ]
  },
  {
   "cell_type": "code",
   "execution_count": 34,
   "metadata": {},
   "outputs": [
    {
     "name": "stdout",
     "output_type": "stream",
     "text": [
      "CPU times: user 1h 56min 28s, sys: 8min 52s, total: 2h 5min 21s\n",
      "Wall time: 31min 46s\n"
     ]
    }
   ],
   "source": [
    "%%time\n",
    "lgb_model = lgb.train(\n",
    "    params=params,\n",
    "    train_set=dtrain,\n",
    "    num_boost_round=900,\n",
    "    categorical_feature=categorical\n",
    ")"
   ]
  },
  {
   "cell_type": "code",
   "execution_count": 35,
   "metadata": {},
   "outputs": [
    {
     "data": {
      "text/plain": [
       "<matplotlib.axes._subplots.AxesSubplot at 0x7f5768a31898>"
      ]
     },
     "execution_count": 35,
     "metadata": {},
     "output_type": "execute_result"
    },
    {
     "data": {
      "image/png": "[encoded data removed]",
      "text/plain": [
       "<Figure size 504x720 with 1 Axes>"
      ]
     },
     "metadata": {},
     "output_type": "display_data"
    }
   ],
   "source": [
    "f, ax = plt.subplots(figsize=[7,10])\n",
    "lgb.plot_importance(lgb_model, ax=ax, max_num_features=len(predictors))"
   ]
  },
  {
   "cell_type": "code",
   "execution_count": 40,
   "metadata": {},
   "outputs": [],
   "source": [
    "pred = lgb_model.predict(valid.loc[:, predictors], num_iteration=lgb_model.best_iteration)"
   ]
  },
  {
   "cell_type": "code",
   "execution_count": 41,
   "metadata": {},
   "outputs": [
    {
     "data": {
      "text/plain": [
       "(59633310,)"
      ]
     },
     "execution_count": 41,
     "metadata": {},
     "output_type": "execute_result"
    }
   ],
   "source": [
    "pred.shape"
   ]
  },
  {
   "cell_type": "code",
   "execution_count": 42,
   "metadata": {},
   "outputs": [],
   "source": [
    "valid.loc[:, 'pred'] = pred"
   ]
  },
  {
   "cell_type": "code",
   "execution_count": 43,
   "metadata": {},
   "outputs": [
    {
     "data": {
      "text/html": [
       "<div>\n",
       "<style scoped>\n",
       "    .dataframe tbody tr th:only-of-type {\n",
       "        vertical-align: middle;\n",
       "    }\n",
       "\n",
       "    .dataframe tbody tr th {\n",
       "        vertical-align: top;\n",
       "    }\n",
       "\n",
       "    .dataframe thead th {\n",
       "        text-align: right;\n",
       "    }\n",
       "</style>\n",
       "<table border=\"1\" class=\"dataframe\">\n",
       "  <thead>\n",
       "    <tr style=\"text-align: right;\">\n",
       "      <th></th>\n",
       "      <th>app</th>\n",
       "      <th>device</th>\n",
       "      <th>os</th>\n",
       "      <th>channel</th>\n",
       "      <th>is_attributed</th>\n",
       "      <th>hour</th>\n",
       "      <th>in_test_hh</th>\n",
       "      <th>n_day_hour_ip</th>\n",
       "      <th>n_day_hour_app</th>\n",
       "      <th>n_day_hour_device</th>\n",
       "      <th>...</th>\n",
       "      <th>n_day_in_test_hh_ip_device</th>\n",
       "      <th>n_day_in_test_hh_ip_os</th>\n",
       "      <th>n_day_in_test_hh_ip_channel</th>\n",
       "      <th>n_day_in_test_hh_app_device</th>\n",
       "      <th>n_day_in_test_hh_app_os</th>\n",
       "      <th>n_day_in_test_hh_app_channel</th>\n",
       "      <th>n_day_in_test_hh_device_os</th>\n",
       "      <th>n_day_in_test_hh_device_channel</th>\n",
       "      <th>n_day_in_test_hh_os_channel</th>\n",
       "      <th>pred</th>\n",
       "    </tr>\n",
       "  </thead>\n",
       "  <tbody>\n",
       "    <tr>\n",
       "      <th>0</th>\n",
       "      <td>2</td>\n",
       "      <td>1</td>\n",
       "      <td>32</td>\n",
       "      <td>237</td>\n",
       "      <td>0</td>\n",
       "      <td>0</td>\n",
       "      <td>3</td>\n",
       "      <td>90</td>\n",
       "      <td>337709</td>\n",
       "      <td>3456007</td>\n",
       "      <td>...</td>\n",
       "      <td>937</td>\n",
       "      <td>8</td>\n",
       "      <td>173</td>\n",
       "      <td>3408505</td>\n",
       "      <td>34018</td>\n",
       "      <td>383064</td>\n",
       "      <td>249501</td>\n",
       "      <td>371440</td>\n",
       "      <td>3425</td>\n",
       "      <td>0.006935</td>\n",
       "    </tr>\n",
       "    <tr>\n",
       "      <th>1</th>\n",
       "      <td>3</td>\n",
       "      <td>1</td>\n",
       "      <td>25</td>\n",
       "      <td>424</td>\n",
       "      <td>0</td>\n",
       "      <td>0</td>\n",
       "      <td>3</td>\n",
       "      <td>328</td>\n",
       "      <td>718328</td>\n",
       "      <td>3456007</td>\n",
       "      <td>...</td>\n",
       "      <td>2588</td>\n",
       "      <td>212</td>\n",
       "      <td>27</td>\n",
       "      <td>5243862</td>\n",
       "      <td>125695</td>\n",
       "      <td>239596</td>\n",
       "      <td>683028</td>\n",
       "      <td>279272</td>\n",
       "      <td>6096</td>\n",
       "      <td>0.010294</td>\n",
       "    </tr>\n",
       "    <tr>\n",
       "      <th>2</th>\n",
       "      <td>8</td>\n",
       "      <td>2</td>\n",
       "      <td>13</td>\n",
       "      <td>145</td>\n",
       "      <td>0</td>\n",
       "      <td>0</td>\n",
       "      <td>3</td>\n",
       "      <td>788</td>\n",
       "      <td>95558</td>\n",
       "      <td>100959</td>\n",
       "      <td>...</td>\n",
       "      <td>554</td>\n",
       "      <td>1501</td>\n",
       "      <td>221</td>\n",
       "      <td>55162</td>\n",
       "      <td>171857</td>\n",
       "      <td>614183</td>\n",
       "      <td>221899</td>\n",
       "      <td>50858</td>\n",
       "      <td>160698</td>\n",
       "      <td>0.012833</td>\n",
       "    </tr>\n",
       "    <tr>\n",
       "      <th>3</th>\n",
       "      <td>2</td>\n",
       "      <td>1</td>\n",
       "      <td>13</td>\n",
       "      <td>122</td>\n",
       "      <td>0</td>\n",
       "      <td>0</td>\n",
       "      <td>3</td>\n",
       "      <td>47</td>\n",
       "      <td>337709</td>\n",
       "      <td>3456007</td>\n",
       "      <td>...</td>\n",
       "      <td>274</td>\n",
       "      <td>18</td>\n",
       "      <td>6</td>\n",
       "      <td>3408505</td>\n",
       "      <td>756654</td>\n",
       "      <td>309356</td>\n",
       "      <td>6533490</td>\n",
       "      <td>449202</td>\n",
       "      <td>101557</td>\n",
       "      <td>0.128455</td>\n",
       "    </tr>\n",
       "    <tr>\n",
       "      <th>4</th>\n",
       "      <td>15</td>\n",
       "      <td>1</td>\n",
       "      <td>8</td>\n",
       "      <td>245</td>\n",
       "      <td>0</td>\n",
       "      <td>0</td>\n",
       "      <td>3</td>\n",
       "      <td>153</td>\n",
       "      <td>307250</td>\n",
       "      <td>3456007</td>\n",
       "      <td>...</td>\n",
       "      <td>1149</td>\n",
       "      <td>5</td>\n",
       "      <td>34</td>\n",
       "      <td>3036324</td>\n",
       "      <td>88113</td>\n",
       "      <td>1260446</td>\n",
       "      <td>865747</td>\n",
       "      <td>1903508</td>\n",
       "      <td>57531</td>\n",
       "      <td>0.100233</td>\n",
       "    </tr>\n",
       "  </tbody>\n",
       "</table>\n",
       "<p>5 rows × 38 columns</p>\n",
       "</div>"
      ],
      "text/plain": [
       "   app  device  os  channel  is_attributed  hour  in_test_hh  n_day_hour_ip  \\\n",
       "0    2       1  32      237              0     0           3             90   \n",
       "1    3       1  25      424              0     0           3            328   \n",
       "2    8       2  13      145              0     0           3            788   \n",
       "3    2       1  13      122              0     0           3             47   \n",
       "4   15       1   8      245              0     0           3            153   \n",
       "\n",
       "   n_day_hour_app  n_day_hour_device    ...     n_day_in_test_hh_ip_device  \\\n",
       "0          337709            3456007    ...                            937   \n",
       "1          718328            3456007    ...                           2588   \n",
       "2           95558             100959    ...                            554   \n",
       "3          337709            3456007    ...                            274   \n",
       "4          307250            3456007    ...                           1149   \n",
       "\n",
       "   n_day_in_test_hh_ip_os  n_day_in_test_hh_ip_channel  \\\n",
       "0                       8                          173   \n",
       "1                     212                           27   \n",
       "2                    1501                          221   \n",
       "3                      18                            6   \n",
       "4                       5                           34   \n",
       "\n",
       "   n_day_in_test_hh_app_device  n_day_in_test_hh_app_os  \\\n",
       "0                      3408505                    34018   \n",
       "1                      5243862                   125695   \n",
       "2                        55162                   171857   \n",
       "3                      3408505                   756654   \n",
       "4                      3036324                    88113   \n",
       "\n",
       "   n_day_in_test_hh_app_channel  n_day_in_test_hh_device_os  \\\n",
       "0                        383064                      249501   \n",
       "1                        239596                      683028   \n",
       "2                        614183                      221899   \n",
       "3                        309356                     6533490   \n",
       "4                       1260446                      865747   \n",
       "\n",
       "   n_day_in_test_hh_device_channel  n_day_in_test_hh_os_channel      pred  \n",
       "0                           371440                         3425  0.006935  \n",
       "1                           279272                         6096  0.010294  \n",
       "2                            50858                       160698  0.012833  \n",
       "3                           449202                       101557  0.128455  \n",
       "4                          1903508                        57531  0.100233  \n",
       "\n",
       "[5 rows x 38 columns]"
      ]
     },
     "execution_count": 43,
     "metadata": {},
     "output_type": "execute_result"
    }
   ],
   "source": [
    "valid.head()"
   ]
  },
  {
   "cell_type": "code",
   "execution_count": 44,
   "metadata": {},
   "outputs": [
    {
     "data": {
      "text/plain": [
       "0.9774249161184317"
      ]
     },
     "execution_count": 44,
     "metadata": {},
     "output_type": "execute_result"
    }
   ],
   "source": [
    "roc_auc_score(valid.loc[:, target], pred)"
   ]
  },
  {
   "cell_type": "code",
   "execution_count": 36,
   "metadata": {},
   "outputs": [],
   "source": [
    "import pickle"
   ]
  },
  {
   "cell_type": "code",
   "execution_count": 37,
   "metadata": {},
   "outputs": [],
   "source": [
    "with open('../results/kaggle_popular9.pickle', 'wb') as f:\n",
    "    pickle.dump(lgb_model, f)"
   ]
  },
  {
   "cell_type": "code",
   "execution_count": null,
   "metadata": {},
   "outputs": [],
   "source": []
  }
 ],
 "metadata": {
  "kernelspec": {
   "display_name": "Python 3",
   "language": "python",
   "name": "python3"
  },
  "language_info": {
   "codemirror_mode": {
    "name": "ipython",
    "version": 3
   },
   "file_extension": ".py",
   "mimetype": "text/x-python",
   "name": "python",
   "nbconvert_exporter": "python",
   "pygments_lexer": "ipython3",
   "version": "3.6.5"
  }
 },
 "nbformat": 4,
 "nbformat_minor": 2
}
