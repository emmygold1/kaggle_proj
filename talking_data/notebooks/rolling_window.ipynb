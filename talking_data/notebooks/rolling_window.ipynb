{
 "cells": [
  {
   "cell_type": "code",
   "execution_count": 1,
   "metadata": {},
   "outputs": [],
   "source": [
    "%matplotlib inline\n",
    "import numpy as np\n",
    "import pandas as pd\n",
    "import gc\n",
    "import lightgbm as lgb\n",
    "from sklearn.metrics import precision_score, recall_score, roc_auc_score\n",
    "import matplotlib.pyplot as plt\n",
    "from itertools import combinations\n",
    "from sklearn.model_selection import train_test_split"
   ]
  },
  {
   "cell_type": "markdown",
   "metadata": {},
   "source": [
    "# Prepare data"
   ]
  },
  {
   "cell_type": "code",
   "execution_count": 2,
   "metadata": {
    "collapsed": true
   },
   "outputs": [],
   "source": [
    "hdf_path = '../derived_data/source.hdf'"
   ]
  },
  {
   "cell_type": "code",
   "execution_count": 3,
   "metadata": {},
   "outputs": [
    {
     "name": "stdout",
     "output_type": "stream",
     "text": [
      "CPU times: user 238 ms, sys: 1.86 s, total: 2.1 s\n",
      "Wall time: 2.12 s\n"
     ]
    }
   ],
   "source": [
    "%%time\n",
    "train = pd.read_hdf(hdf_path, key='train')"
   ]
  },
  {
   "cell_type": "code",
   "execution_count": 4,
   "metadata": {},
   "outputs": [
    {
     "data": {
      "text/html": [
       "<div>\n",
       "<style scoped>\n",
       "    .dataframe tbody tr th:only-of-type {\n",
       "        vertical-align: middle;\n",
       "    }\n",
       "\n",
       "    .dataframe tbody tr th {\n",
       "        vertical-align: top;\n",
       "    }\n",
       "\n",
       "    .dataframe thead th {\n",
       "        text-align: right;\n",
       "    }\n",
       "</style>\n",
       "<table border=\"1\" class=\"dataframe\">\n",
       "  <thead>\n",
       "    <tr style=\"text-align: right;\">\n",
       "      <th></th>\n",
       "      <th>ip</th>\n",
       "      <th>app</th>\n",
       "      <th>device</th>\n",
       "      <th>os</th>\n",
       "      <th>channel</th>\n",
       "      <th>click_time</th>\n",
       "      <th>is_attributed</th>\n",
       "    </tr>\n",
       "  </thead>\n",
       "  <tbody>\n",
       "    <tr>\n",
       "      <th>0</th>\n",
       "      <td>83230</td>\n",
       "      <td>3</td>\n",
       "      <td>1</td>\n",
       "      <td>13</td>\n",
       "      <td>379</td>\n",
       "      <td>2017-11-06 14:32:21</td>\n",
       "      <td>0</td>\n",
       "    </tr>\n",
       "    <tr>\n",
       "      <th>1</th>\n",
       "      <td>17357</td>\n",
       "      <td>3</td>\n",
       "      <td>1</td>\n",
       "      <td>19</td>\n",
       "      <td>379</td>\n",
       "      <td>2017-11-06 14:33:34</td>\n",
       "      <td>0</td>\n",
       "    </tr>\n",
       "    <tr>\n",
       "      <th>2</th>\n",
       "      <td>35810</td>\n",
       "      <td>3</td>\n",
       "      <td>1</td>\n",
       "      <td>13</td>\n",
       "      <td>379</td>\n",
       "      <td>2017-11-06 14:34:12</td>\n",
       "      <td>0</td>\n",
       "    </tr>\n",
       "    <tr>\n",
       "      <th>3</th>\n",
       "      <td>45745</td>\n",
       "      <td>14</td>\n",
       "      <td>1</td>\n",
       "      <td>13</td>\n",
       "      <td>478</td>\n",
       "      <td>2017-11-06 14:34:52</td>\n",
       "      <td>0</td>\n",
       "    </tr>\n",
       "    <tr>\n",
       "      <th>4</th>\n",
       "      <td>161007</td>\n",
       "      <td>3</td>\n",
       "      <td>1</td>\n",
       "      <td>13</td>\n",
       "      <td>379</td>\n",
       "      <td>2017-11-06 14:35:08</td>\n",
       "      <td>0</td>\n",
       "    </tr>\n",
       "  </tbody>\n",
       "</table>\n",
       "</div>"
      ],
      "text/plain": [
       "       ip  app  device  os  channel          click_time  is_attributed\n",
       "0   83230    3       1  13      379 2017-11-06 14:32:21              0\n",
       "1   17357    3       1  19      379 2017-11-06 14:33:34              0\n",
       "2   35810    3       1  13      379 2017-11-06 14:34:12              0\n",
       "3   45745   14       1  13      478 2017-11-06 14:34:52              0\n",
       "4  161007    3       1  13      379 2017-11-06 14:35:08              0"
      ]
     },
     "execution_count": 4,
     "metadata": {},
     "output_type": "execute_result"
    }
   ],
   "source": [
    "train.head()"
   ]
  },
  {
   "cell_type": "code",
   "execution_count": 5,
   "metadata": {
    "collapsed": true
   },
   "outputs": [],
   "source": [
    "train.set_index('click_time', inplace=True)"
   ]
  },
  {
   "cell_type": "code",
   "execution_count": 6,
   "metadata": {},
   "outputs": [
    {
     "data": {
      "text/plain": [
       "0"
      ]
     },
     "execution_count": 6,
     "metadata": {},
     "output_type": "execute_result"
    }
   ],
   "source": [
    "gc.collect()"
   ]
  },
  {
   "cell_type": "code",
   "execution_count": 7,
   "metadata": {
    "collapsed": true
   },
   "outputs": [],
   "source": [
    "train = train.loc['2017-11-08 00:00:00':'2017-11-08 23:59:59'].copy()"
   ]
  },
  {
   "cell_type": "code",
   "execution_count": 8,
   "metadata": {},
   "outputs": [
    {
     "data": {
      "text/plain": [
       "26"
      ]
     },
     "execution_count": 8,
     "metadata": {},
     "output_type": "execute_result"
    }
   ],
   "source": [
    "gc.collect()"
   ]
  },
  {
   "cell_type": "code",
   "execution_count": 9,
   "metadata": {},
   "outputs": [
    {
     "data": {
      "text/html": [
       "<div>\n",
       "<style scoped>\n",
       "    .dataframe tbody tr th:only-of-type {\n",
       "        vertical-align: middle;\n",
       "    }\n",
       "\n",
       "    .dataframe tbody tr th {\n",
       "        vertical-align: top;\n",
       "    }\n",
       "\n",
       "    .dataframe thead th {\n",
       "        text-align: right;\n",
       "    }\n",
       "</style>\n",
       "<table border=\"1\" class=\"dataframe\">\n",
       "  <thead>\n",
       "    <tr style=\"text-align: right;\">\n",
       "      <th></th>\n",
       "      <th>ip</th>\n",
       "      <th>app</th>\n",
       "      <th>device</th>\n",
       "      <th>os</th>\n",
       "      <th>channel</th>\n",
       "      <th>is_attributed</th>\n",
       "    </tr>\n",
       "    <tr>\n",
       "      <th>click_time</th>\n",
       "      <th></th>\n",
       "      <th></th>\n",
       "      <th></th>\n",
       "      <th></th>\n",
       "      <th></th>\n",
       "      <th></th>\n",
       "    </tr>\n",
       "  </thead>\n",
       "  <tbody>\n",
       "    <tr>\n",
       "      <th>2017-11-08</th>\n",
       "      <td>48240</td>\n",
       "      <td>23</td>\n",
       "      <td>1</td>\n",
       "      <td>13</td>\n",
       "      <td>153</td>\n",
       "      <td>0</td>\n",
       "    </tr>\n",
       "    <tr>\n",
       "      <th>2017-11-08</th>\n",
       "      <td>45702</td>\n",
       "      <td>13</td>\n",
       "      <td>1</td>\n",
       "      <td>16</td>\n",
       "      <td>477</td>\n",
       "      <td>0</td>\n",
       "    </tr>\n",
       "    <tr>\n",
       "      <th>2017-11-08</th>\n",
       "      <td>123214</td>\n",
       "      <td>12</td>\n",
       "      <td>1</td>\n",
       "      <td>13</td>\n",
       "      <td>259</td>\n",
       "      <td>0</td>\n",
       "    </tr>\n",
       "    <tr>\n",
       "      <th>2017-11-08</th>\n",
       "      <td>98052</td>\n",
       "      <td>15</td>\n",
       "      <td>1</td>\n",
       "      <td>19</td>\n",
       "      <td>265</td>\n",
       "      <td>0</td>\n",
       "    </tr>\n",
       "    <tr>\n",
       "      <th>2017-11-08</th>\n",
       "      <td>97903</td>\n",
       "      <td>6</td>\n",
       "      <td>1</td>\n",
       "      <td>18</td>\n",
       "      <td>125</td>\n",
       "      <td>0</td>\n",
       "    </tr>\n",
       "  </tbody>\n",
       "</table>\n",
       "</div>"
      ],
      "text/plain": [
       "                ip  app  device  os  channel  is_attributed\n",
       "click_time                                                 \n",
       "2017-11-08   48240   23       1  13      153              0\n",
       "2017-11-08   45702   13       1  16      477              0\n",
       "2017-11-08  123214   12       1  13      259              0\n",
       "2017-11-08   98052   15       1  19      265              0\n",
       "2017-11-08   97903    6       1  18      125              0"
      ]
     },
     "execution_count": 9,
     "metadata": {},
     "output_type": "execute_result"
    }
   ],
   "source": [
    "train.head()"
   ]
  },
  {
   "cell_type": "code",
   "execution_count": 10,
   "metadata": {
    "collapsed": true
   },
   "outputs": [],
   "source": [
    "uint8_max = np.iinfo(np.uint8).max\n",
    "uint16_max = np.iinfo(np.uint16).max\n",
    "uint32_max = np.iinfo(np.uint32).max\n",
    "def choose_int_type(n):\n",
    "    if n <= uint8_max:\n",
    "        return 'uint8'\n",
    "    elif n <= uint16_max:\n",
    "        return 'uint16'\n",
    "    elif n <= uint32_max:\n",
    "        return 'uint32'\n",
    "    else:\n",
    "        return 'uint64'"
   ]
  },
  {
   "cell_type": "code",
   "execution_count": 11,
   "metadata": {
    "collapsed": true
   },
   "outputs": [],
   "source": [
    "def rolling_count(df, time_win='1h'):\n",
    "    return df.groupby(level=0, sort=False).size().rolling(time_win).sum()"
   ]
  },
  {
   "cell_type": "code",
   "execution_count": 12,
   "metadata": {},
   "outputs": [
    {
     "data": {
      "text/plain": [
       "0"
      ]
     },
     "execution_count": 12,
     "metadata": {},
     "output_type": "execute_result"
    }
   ],
   "source": [
    "gc.collect()"
   ]
  },
  {
   "cell_type": "code",
   "execution_count": 13,
   "metadata": {
    "collapsed": true
   },
   "outputs": [],
   "source": [
    "def process(df, features, time_win='1h'):\n",
    "    res = df.reset_index()\n",
    "    for feature in features:\n",
    "        print('Processing {feature}'.format(feature=feature))\n",
    "        if isinstance(feature, str):\n",
    "            feature = [feature]\n",
    "        elif isinstance(feature, list):\n",
    "            pass\n",
    "        else:\n",
    "            print('Skip invalid feature!')\n",
    "            continue\n",
    "        tmp = df.groupby(feature, sort=False).apply(rolling_count, time_win=time_win)\n",
    "        tmp = tmp.astype(choose_int_type(tmp.max()))\n",
    "        tmp.name = 'n_' + '_'.join(feature)\n",
    "        tmp = tmp.reset_index()\n",
    "        res = res.merge(tmp, on=['click_time']+feature, how='left')\n",
    "        del tmp\n",
    "        gc.collect()\n",
    "    return res"
   ]
  },
  {
   "cell_type": "code",
   "execution_count": 14,
   "metadata": {
    "collapsed": true
   },
   "outputs": [],
   "source": [
    "features = ['ip', 'app', 'device', 'os', 'channel']\n",
    "feature_combos = list(combinations(features, 1)) + list(combinations(features, 2))"
   ]
  },
  {
   "cell_type": "code",
   "execution_count": 16,
   "metadata": {
    "collapsed": true
   },
   "outputs": [],
   "source": [
    "feature_combos = [list(feature_combo) for feature_combo in feature_combos]"
   ]
  },
  {
   "cell_type": "code",
   "execution_count": 17,
   "metadata": {},
   "outputs": [
    {
     "data": {
      "text/plain": [
       "[['ip'],\n",
       " ['app'],\n",
       " ['device'],\n",
       " ['os'],\n",
       " ['channel'],\n",
       " ['ip', 'app'],\n",
       " ['ip', 'device'],\n",
       " ['ip', 'os'],\n",
       " ['ip', 'channel'],\n",
       " ['app', 'device'],\n",
       " ['app', 'os'],\n",
       " ['app', 'channel'],\n",
       " ['device', 'os'],\n",
       " ['device', 'channel'],\n",
       " ['os', 'channel']]"
      ]
     },
     "execution_count": 17,
     "metadata": {},
     "output_type": "execute_result"
    }
   ],
   "source": [
    "feature_combos"
   ]
  },
  {
   "cell_type": "code",
   "execution_count": 19,
   "metadata": {},
   "outputs": [
    {
     "name": "stdout",
     "output_type": "stream",
     "text": [
      "Processing ['ip']\n",
      "Processing ['app']\n",
      "Processing ['device']\n",
      "Processing ['os']\n",
      "Processing ['channel']\n",
      "Processing ['ip', 'app']\n",
      "Processing ['ip', 'device']\n",
      "Processing ['ip', 'os']\n",
      "Processing ['ip', 'channel']\n",
      "Processing ['app', 'device']\n",
      "Processing ['app', 'os']\n",
      "Processing ['app', 'channel']\n",
      "Processing ['device', 'os']\n",
      "Processing ['device', 'channel']\n",
      "Processing ['os', 'channel']\n",
      "CPU times: user 2h 19min 2s, sys: 3min, total: 2h 22min 2s\n",
      "Wall time: 2h 18min 28s\n"
     ]
    }
   ],
   "source": [
    "%%time\n",
    "train = process(train, feature_combos, time_win='30min')"
   ]
  },
  {
   "cell_type": "code",
   "execution_count": 20,
   "metadata": {},
   "outputs": [
    {
     "data": {
      "text/plain": [
       "64"
      ]
     },
     "execution_count": 20,
     "metadata": {},
     "output_type": "execute_result"
    }
   ],
   "source": [
    "gc.collect()"
   ]
  },
  {
   "cell_type": "code",
   "execution_count": 21,
   "metadata": {},
   "outputs": [
    {
     "data": {
      "text/html": [
       "<div>\n",
       "<style scoped>\n",
       "    .dataframe tbody tr th:only-of-type {\n",
       "        vertical-align: middle;\n",
       "    }\n",
       "\n",
       "    .dataframe tbody tr th {\n",
       "        vertical-align: top;\n",
       "    }\n",
       "\n",
       "    .dataframe thead th {\n",
       "        text-align: right;\n",
       "    }\n",
       "</style>\n",
       "<table border=\"1\" class=\"dataframe\">\n",
       "  <thead>\n",
       "    <tr style=\"text-align: right;\">\n",
       "      <th></th>\n",
       "      <th>click_time</th>\n",
       "      <th>ip</th>\n",
       "      <th>app</th>\n",
       "      <th>device</th>\n",
       "      <th>os</th>\n",
       "      <th>channel</th>\n",
       "      <th>is_attributed</th>\n",
       "      <th>n_ip</th>\n",
       "      <th>n_app</th>\n",
       "      <th>n_device</th>\n",
       "      <th>...</th>\n",
       "      <th>n_ip_app</th>\n",
       "      <th>n_ip_device</th>\n",
       "      <th>n_ip_os</th>\n",
       "      <th>n_ip_channel</th>\n",
       "      <th>n_app_device</th>\n",
       "      <th>n_app_os</th>\n",
       "      <th>n_app_channel</th>\n",
       "      <th>n_device_os</th>\n",
       "      <th>n_device_channel</th>\n",
       "      <th>n_os_channel</th>\n",
       "    </tr>\n",
       "  </thead>\n",
       "  <tbody>\n",
       "    <tr>\n",
       "      <th>0</th>\n",
       "      <td>2017-11-08</td>\n",
       "      <td>48240</td>\n",
       "      <td>23</td>\n",
       "      <td>1</td>\n",
       "      <td>13</td>\n",
       "      <td>153</td>\n",
       "      <td>0</td>\n",
       "      <td>1</td>\n",
       "      <td>19</td>\n",
       "      <td>734</td>\n",
       "      <td>...</td>\n",
       "      <td>1</td>\n",
       "      <td>1</td>\n",
       "      <td>1</td>\n",
       "      <td>1</td>\n",
       "      <td>19</td>\n",
       "      <td>3</td>\n",
       "      <td>19</td>\n",
       "      <td>167</td>\n",
       "      <td>39</td>\n",
       "      <td>7</td>\n",
       "    </tr>\n",
       "    <tr>\n",
       "      <th>1</th>\n",
       "      <td>2017-11-08</td>\n",
       "      <td>45702</td>\n",
       "      <td>13</td>\n",
       "      <td>1</td>\n",
       "      <td>16</td>\n",
       "      <td>477</td>\n",
       "      <td>0</td>\n",
       "      <td>1</td>\n",
       "      <td>19</td>\n",
       "      <td>734</td>\n",
       "      <td>...</td>\n",
       "      <td>1</td>\n",
       "      <td>1</td>\n",
       "      <td>1</td>\n",
       "      <td>1</td>\n",
       "      <td>19</td>\n",
       "      <td>1</td>\n",
       "      <td>13</td>\n",
       "      <td>7</td>\n",
       "      <td>17</td>\n",
       "      <td>1</td>\n",
       "    </tr>\n",
       "    <tr>\n",
       "      <th>2</th>\n",
       "      <td>2017-11-08</td>\n",
       "      <td>123214</td>\n",
       "      <td>12</td>\n",
       "      <td>1</td>\n",
       "      <td>13</td>\n",
       "      <td>259</td>\n",
       "      <td>0</td>\n",
       "      <td>1</td>\n",
       "      <td>102</td>\n",
       "      <td>734</td>\n",
       "      <td>...</td>\n",
       "      <td>1</td>\n",
       "      <td>1</td>\n",
       "      <td>1</td>\n",
       "      <td>1</td>\n",
       "      <td>99</td>\n",
       "      <td>29</td>\n",
       "      <td>9</td>\n",
       "      <td>167</td>\n",
       "      <td>13</td>\n",
       "      <td>4</td>\n",
       "    </tr>\n",
       "    <tr>\n",
       "      <th>3</th>\n",
       "      <td>2017-11-08</td>\n",
       "      <td>98052</td>\n",
       "      <td>15</td>\n",
       "      <td>1</td>\n",
       "      <td>19</td>\n",
       "      <td>265</td>\n",
       "      <td>0</td>\n",
       "      <td>3</td>\n",
       "      <td>96</td>\n",
       "      <td>734</td>\n",
       "      <td>...</td>\n",
       "      <td>2</td>\n",
       "      <td>3</td>\n",
       "      <td>2</td>\n",
       "      <td>1</td>\n",
       "      <td>95</td>\n",
       "      <td>24</td>\n",
       "      <td>9</td>\n",
       "      <td>211</td>\n",
       "      <td>11</td>\n",
       "      <td>6</td>\n",
       "    </tr>\n",
       "    <tr>\n",
       "      <th>4</th>\n",
       "      <td>2017-11-08</td>\n",
       "      <td>97903</td>\n",
       "      <td>6</td>\n",
       "      <td>1</td>\n",
       "      <td>18</td>\n",
       "      <td>125</td>\n",
       "      <td>0</td>\n",
       "      <td>2</td>\n",
       "      <td>13</td>\n",
       "      <td>734</td>\n",
       "      <td>...</td>\n",
       "      <td>1</td>\n",
       "      <td>2</td>\n",
       "      <td>2</td>\n",
       "      <td>1</td>\n",
       "      <td>13</td>\n",
       "      <td>1</td>\n",
       "      <td>8</td>\n",
       "      <td>50</td>\n",
       "      <td>8</td>\n",
       "      <td>1</td>\n",
       "    </tr>\n",
       "  </tbody>\n",
       "</table>\n",
       "<p>5 rows × 22 columns</p>\n",
       "</div>"
      ],
      "text/plain": [
       "  click_time      ip  app  device  os  channel  is_attributed  n_ip  n_app  \\\n",
       "0 2017-11-08   48240   23       1  13      153              0     1     19   \n",
       "1 2017-11-08   45702   13       1  16      477              0     1     19   \n",
       "2 2017-11-08  123214   12       1  13      259              0     1    102   \n",
       "3 2017-11-08   98052   15       1  19      265              0     3     96   \n",
       "4 2017-11-08   97903    6       1  18      125              0     2     13   \n",
       "\n",
       "   n_device      ...       n_ip_app  n_ip_device  n_ip_os  n_ip_channel  \\\n",
       "0       734      ...              1            1        1             1   \n",
       "1       734      ...              1            1        1             1   \n",
       "2       734      ...              1            1        1             1   \n",
       "3       734      ...              2            3        2             1   \n",
       "4       734      ...              1            2        2             1   \n",
       "\n",
       "   n_app_device  n_app_os  n_app_channel  n_device_os  n_device_channel  \\\n",
       "0            19         3             19          167                39   \n",
       "1            19         1             13            7                17   \n",
       "2            99        29              9          167                13   \n",
       "3            95        24              9          211                11   \n",
       "4            13         1              8           50                 8   \n",
       "\n",
       "   n_os_channel  \n",
       "0             7  \n",
       "1             1  \n",
       "2             4  \n",
       "3             6  \n",
       "4             1  \n",
       "\n",
       "[5 rows x 22 columns]"
      ]
     },
     "execution_count": 21,
     "metadata": {},
     "output_type": "execute_result"
    }
   ],
   "source": [
    "train.head()"
   ]
  },
  {
   "cell_type": "code",
   "execution_count": 22,
   "metadata": {},
   "outputs": [
    {
     "data": {
      "text/plain": [
       "72"
      ]
     },
     "execution_count": 22,
     "metadata": {},
     "output_type": "execute_result"
    }
   ],
   "source": [
    "gc.collect()"
   ]
  },
  {
   "cell_type": "code",
   "execution_count": null,
   "metadata": {
    "collapsed": true
   },
   "outputs": [],
   "source": [
    "valid = train.loc[train.click_time >= '2017-11-08 00:00:00'].copy()"
   ]
  },
  {
   "cell_type": "code",
   "execution_count": 18,
   "metadata": {
    "collapsed": true
   },
   "outputs": [],
   "source": [
    "train = train.loc[train.click_time <= '2017-11-07 23:59:59'].copy()"
   ]
  },
  {
   "cell_type": "code",
   "execution_count": 19,
   "metadata": {},
   "outputs": [
    {
     "data": {
      "text/plain": [
       "24"
      ]
     },
     "execution_count": 19,
     "metadata": {},
     "output_type": "execute_result"
    }
   ],
   "source": [
    "gc.collect()"
   ]
  },
  {
   "cell_type": "code",
   "execution_count": 20,
   "metadata": {},
   "outputs": [
    {
     "data": {
      "text/html": [
       "<div>\n",
       "<style scoped>\n",
       "    .dataframe tbody tr th:only-of-type {\n",
       "        vertical-align: middle;\n",
       "    }\n",
       "\n",
       "    .dataframe tbody tr th {\n",
       "        vertical-align: top;\n",
       "    }\n",
       "\n",
       "    .dataframe thead th {\n",
       "        text-align: right;\n",
       "    }\n",
       "</style>\n",
       "<table border=\"1\" class=\"dataframe\">\n",
       "  <thead>\n",
       "    <tr style=\"text-align: right;\">\n",
       "      <th></th>\n",
       "      <th>click_time</th>\n",
       "      <th>ip</th>\n",
       "      <th>app</th>\n",
       "      <th>device</th>\n",
       "      <th>os</th>\n",
       "      <th>channel</th>\n",
       "      <th>is_attributed</th>\n",
       "      <th>n_ip</th>\n",
       "      <th>n_app</th>\n",
       "      <th>n_channel</th>\n",
       "    </tr>\n",
       "  </thead>\n",
       "  <tbody>\n",
       "    <tr>\n",
       "      <th>0</th>\n",
       "      <td>2017-11-07</td>\n",
       "      <td>70712</td>\n",
       "      <td>2</td>\n",
       "      <td>1</td>\n",
       "      <td>32</td>\n",
       "      <td>237</td>\n",
       "      <td>0</td>\n",
       "      <td>1</td>\n",
       "      <td>84</td>\n",
       "      <td>5</td>\n",
       "    </tr>\n",
       "    <tr>\n",
       "      <th>1</th>\n",
       "      <td>2017-11-07</td>\n",
       "      <td>45892</td>\n",
       "      <td>3</td>\n",
       "      <td>1</td>\n",
       "      <td>25</td>\n",
       "      <td>424</td>\n",
       "      <td>0</td>\n",
       "      <td>1</td>\n",
       "      <td>96</td>\n",
       "      <td>6</td>\n",
       "    </tr>\n",
       "    <tr>\n",
       "      <th>2</th>\n",
       "      <td>2017-11-07</td>\n",
       "      <td>37774</td>\n",
       "      <td>8</td>\n",
       "      <td>2</td>\n",
       "      <td>13</td>\n",
       "      <td>145</td>\n",
       "      <td>0</td>\n",
       "      <td>2</td>\n",
       "      <td>41</td>\n",
       "      <td>41</td>\n",
       "    </tr>\n",
       "    <tr>\n",
       "      <th>3</th>\n",
       "      <td>2017-11-07</td>\n",
       "      <td>41179</td>\n",
       "      <td>2</td>\n",
       "      <td>1</td>\n",
       "      <td>13</td>\n",
       "      <td>122</td>\n",
       "      <td>0</td>\n",
       "      <td>1</td>\n",
       "      <td>84</td>\n",
       "      <td>15</td>\n",
       "    </tr>\n",
       "    <tr>\n",
       "      <th>4</th>\n",
       "      <td>2017-11-07</td>\n",
       "      <td>83111</td>\n",
       "      <td>15</td>\n",
       "      <td>1</td>\n",
       "      <td>8</td>\n",
       "      <td>245</td>\n",
       "      <td>0</td>\n",
       "      <td>1</td>\n",
       "      <td>91</td>\n",
       "      <td>33</td>\n",
       "    </tr>\n",
       "  </tbody>\n",
       "</table>\n",
       "</div>"
      ],
      "text/plain": [
       "  click_time     ip  app  device  os  channel  is_attributed  n_ip  n_app  \\\n",
       "0 2017-11-07  70712    2       1  32      237              0     1     84   \n",
       "1 2017-11-07  45892    3       1  25      424              0     1     96   \n",
       "2 2017-11-07  37774    8       2  13      145              0     2     41   \n",
       "3 2017-11-07  41179    2       1  13      122              0     1     84   \n",
       "4 2017-11-07  83111   15       1   8      245              0     1     91   \n",
       "\n",
       "   n_channel  \n",
       "0          5  \n",
       "1          6  \n",
       "2         41  \n",
       "3         15  \n",
       "4         33  "
      ]
     },
     "execution_count": 20,
     "metadata": {},
     "output_type": "execute_result"
    }
   ],
   "source": [
    "train.head()"
   ]
  },
  {
   "cell_type": "code",
   "execution_count": 21,
   "metadata": {},
   "outputs": [
    {
     "data": {
      "text/plain": [
       "0"
      ]
     },
     "execution_count": 21,
     "metadata": {},
     "output_type": "execute_result"
    }
   ],
   "source": [
    "gc.collect()"
   ]
  },
  {
   "cell_type": "code",
   "execution_count": null,
   "metadata": {
    "collapsed": true
   },
   "outputs": [],
   "source": [
    "train = pd.read_hdf('../derived_data/rolling_window.hdf', key='train')"
   ]
  },
  {
   "cell_type": "code",
   "execution_count": 64,
   "metadata": {
    "collapsed": true
   },
   "outputs": [],
   "source": [
    "valid = pd.read_hdf('../derived_data/rolling_window.hdf', key='valid')"
   ]
  },
  {
   "cell_type": "code",
   "execution_count": 45,
   "metadata": {
    "collapsed": true
   },
   "outputs": [],
   "source": [
    "train.drop(['ip', 'click_time'], axis=1, inplace=True)"
   ]
  },
  {
   "cell_type": "code",
   "execution_count": 46,
   "metadata": {
    "collapsed": true
   },
   "outputs": [],
   "source": [
    "valid.drop(['ip', 'click_time'], axis=1, inplace=True)"
   ]
  },
  {
   "cell_type": "code",
   "execution_count": 47,
   "metadata": {},
   "outputs": [
    {
     "data": {
      "text/plain": [
       "90"
      ]
     },
     "execution_count": 47,
     "metadata": {},
     "output_type": "execute_result"
    }
   ],
   "source": [
    "gc.collect()"
   ]
  },
  {
   "cell_type": "code",
   "execution_count": 40,
   "metadata": {
    "collapsed": true
   },
   "outputs": [],
   "source": [
    "train.to_hdf('../derived_data/rolling_window.hdf', key='train', mode='w')\n",
    "valid.to_hdf('../derived_data/rolling_window.hdf', key='valid')"
   ]
  },
  {
   "cell_type": "code",
   "execution_count": 23,
   "metadata": {
    "collapsed": true
   },
   "outputs": [],
   "source": [
    "train, valid = train_test_split(train, test_size=0.05, stratify=train.is_attributed)"
   ]
  },
  {
   "cell_type": "code",
   "execution_count": 24,
   "metadata": {},
   "outputs": [
    {
     "data": {
      "text/plain": [
       "(59797821, 22)"
      ]
     },
     "execution_count": 24,
     "metadata": {},
     "output_type": "execute_result"
    }
   ],
   "source": [
    "train.shape"
   ]
  },
  {
   "cell_type": "code",
   "execution_count": 26,
   "metadata": {},
   "outputs": [
    {
     "data": {
      "text/plain": [
       "0    0.997564\n",
       "1    0.002436\n",
       "Name: is_attributed, dtype: float64"
      ]
     },
     "execution_count": 26,
     "metadata": {},
     "output_type": "execute_result"
    }
   ],
   "source": [
    "train.is_attributed.value_counts(normalize=True)"
   ]
  },
  {
   "cell_type": "code",
   "execution_count": 27,
   "metadata": {},
   "outputs": [
    {
     "data": {
      "text/plain": [
       "(3147254, 22)"
      ]
     },
     "execution_count": 27,
     "metadata": {},
     "output_type": "execute_result"
    }
   ],
   "source": [
    "valid.shape"
   ]
  },
  {
   "cell_type": "code",
   "execution_count": 28,
   "metadata": {},
   "outputs": [
    {
     "data": {
      "text/plain": [
       "0    0.997564\n",
       "1    0.002436\n",
       "Name: is_attributed, dtype: float64"
      ]
     },
     "execution_count": 28,
     "metadata": {},
     "output_type": "execute_result"
    }
   ],
   "source": [
    "valid.is_attributed.value_counts(normalize=True)"
   ]
  },
  {
   "cell_type": "code",
   "execution_count": 29,
   "metadata": {},
   "outputs": [
    {
     "data": {
      "text/plain": [
       "13"
      ]
     },
     "execution_count": 29,
     "metadata": {},
     "output_type": "execute_result"
    }
   ],
   "source": [
    "gc.collect()"
   ]
  },
  {
   "cell_type": "markdown",
   "metadata": {},
   "source": [
    "# Light GBM"
   ]
  },
  {
   "cell_type": "code",
   "execution_count": 48,
   "metadata": {},
   "outputs": [
    {
     "data": {
      "text/plain": [
       "Index(['app', 'device', 'os', 'channel', 'is_attributed', 'n_ip', 'n_app',\n",
       "       'n_device', 'n_os', 'n_channel', 'n_ip_app', 'n_ip_device', 'n_ip_os',\n",
       "       'n_ip_channel', 'n_app_device', 'n_app_os', 'n_app_channel',\n",
       "       'n_device_os', 'n_device_channel', 'n_os_channel'],\n",
       "      dtype='object')"
      ]
     },
     "execution_count": 48,
     "metadata": {},
     "output_type": "execute_result"
    }
   ],
   "source": [
    "train.columns"
   ]
  },
  {
   "cell_type": "code",
   "execution_count": 49,
   "metadata": {
    "collapsed": true
   },
   "outputs": [],
   "source": [
    "target = 'is_attributed'"
   ]
  },
  {
   "cell_type": "code",
   "execution_count": 50,
   "metadata": {
    "collapsed": true
   },
   "outputs": [],
   "source": [
    "predictors = train.columns.tolist()"
   ]
  },
  {
   "cell_type": "code",
   "execution_count": 51,
   "metadata": {
    "collapsed": true
   },
   "outputs": [],
   "source": [
    "predictors.remove(target)"
   ]
  },
  {
   "cell_type": "code",
   "execution_count": 52,
   "metadata": {},
   "outputs": [
    {
     "data": {
      "text/plain": [
       "['app',\n",
       " 'device',\n",
       " 'os',\n",
       " 'channel',\n",
       " 'n_ip',\n",
       " 'n_app',\n",
       " 'n_device',\n",
       " 'n_os',\n",
       " 'n_channel',\n",
       " 'n_ip_app',\n",
       " 'n_ip_device',\n",
       " 'n_ip_os',\n",
       " 'n_ip_channel',\n",
       " 'n_app_device',\n",
       " 'n_app_os',\n",
       " 'n_app_channel',\n",
       " 'n_device_os',\n",
       " 'n_device_channel',\n",
       " 'n_os_channel']"
      ]
     },
     "execution_count": 52,
     "metadata": {},
     "output_type": "execute_result"
    }
   ],
   "source": [
    "predictors"
   ]
  },
  {
   "cell_type": "code",
   "execution_count": 53,
   "metadata": {
    "collapsed": true
   },
   "outputs": [],
   "source": [
    "categorical = ['app', 'device', 'os', 'channel']"
   ]
  },
  {
   "cell_type": "code",
   "execution_count": 54,
   "metadata": {},
   "outputs": [
    {
     "data": {
      "text/plain": [
       "0"
      ]
     },
     "execution_count": 54,
     "metadata": {},
     "output_type": "execute_result"
    }
   ],
   "source": [
    "gc.collect()"
   ]
  },
  {
   "cell_type": "code",
   "execution_count": 55,
   "metadata": {
    "collapsed": true
   },
   "outputs": [],
   "source": [
    "params = {\n",
    "    'boosting_type': 'gbdt',  # I think dart would be better, but takes too long to run\n",
    "    'drop_rate': 0.1,  # Rate at which to drop trees\n",
    "    'objective': 'binary',\n",
    "    'metric': 'auc',\n",
    "    'learning_rate': 0.1,\n",
    "    'num_leaves': 7,  # Was 255: Reduced to control overfitting\n",
    "    'max_depth': 4,  # Was 8: LightGBM splits leaf-wise, so control depth via num_leaves\n",
    "    'min_child_samples': 100,\n",
    "    'max_bin': 100,\n",
    "    'subsample': 0.7,  # Was 0.7\n",
    "    'subsample_freq': 1,\n",
    "    'colsample_bytree': 0.7,\n",
    "    'min_child_weight': 0,\n",
    "    'subsample_for_bin': 200000,\n",
    "    'min_split_gain': 0,\n",
    "    'reg_alpha': 0,\n",
    "    'reg_lambda': 0,\n",
    "    'nthread': 8,\n",
    "    'verbose': 0,\n",
    "    'scale_pos_weight': 300\n",
    "}"
   ]
  },
  {
   "cell_type": "code",
   "execution_count": 56,
   "metadata": {
    "collapsed": true
   },
   "outputs": [],
   "source": [
    "dtrain = lgb.Dataset(\n",
    "    train.loc[:, predictors],\n",
    "    label=train.loc[:, target],\n",
    "    feature_name=predictors,\n",
    "    categorical_feature=categorical\n",
    ")\n",
    "\n",
    "dvalid = lgb.Dataset(\n",
    "    valid.loc[:, predictors],\n",
    "    label=valid.loc[:, target],\n",
    "    feature_name=predictors,\n",
    "    categorical_feature=categorical\n",
    ")"
   ]
  },
  {
   "cell_type": "code",
   "execution_count": 59,
   "metadata": {},
   "outputs": [
    {
     "data": {
      "text/plain": [
       "51"
      ]
     },
     "execution_count": 59,
     "metadata": {},
     "output_type": "execute_result"
    }
   ],
   "source": [
    "gc.collect()"
   ]
  },
  {
   "cell_type": "code",
   "execution_count": 87,
   "metadata": {},
   "outputs": [
    {
     "name": "stdout",
     "output_type": "stream",
     "text": [
      "CPU times: user 1h 5min 52s, sys: 7min 10s, total: 1h 13min 2s\n",
      "Wall time: 18min 20s\n"
     ]
    }
   ],
   "source": [
    "%%time\n",
    "lgb_model = lgb.train(\n",
    "    params=params,\n",
    "    train_set=dtrain,\n",
    "    num_boost_round=900,\n",
    "    categorical_feature=categorical\n",
    ")"
   ]
  },
  {
   "cell_type": "code",
   "execution_count": 60,
   "metadata": {},
   "outputs": [
    {
     "name": "stderr",
     "output_type": "stream",
     "text": [
      "/home/fei/miniconda3/envs/kaggle_ml/lib/python3.6/site-packages/lightgbm/basic.py:1036: UserWarning: Using categorical_feature in Dataset.\n",
      "  warnings.warn('Using categorical_feature in Dataset.')\n",
      "/home/fei/miniconda3/envs/kaggle_ml/lib/python3.6/site-packages/lightgbm/basic.py:681: UserWarning: categorical_feature in param dict is overrided.\n",
      "  warnings.warn('categorical_feature in param dict is overrided.')\n"
     ]
    },
    {
     "name": "stdout",
     "output_type": "stream",
     "text": [
      "Training until validation scores don't improve for 50 rounds.\n",
      "[10]\ttrain's auc: 0.961978\tvalid's auc: 0.963576\n",
      "[20]\ttrain's auc: 0.964149\tvalid's auc: 0.965568\n",
      "[30]\ttrain's auc: 0.968454\tvalid's auc: 0.969697\n",
      "[40]\ttrain's auc: 0.969794\tvalid's auc: 0.971006\n",
      "[50]\ttrain's auc: 0.970879\tvalid's auc: 0.972038\n",
      "[60]\ttrain's auc: 0.971512\tvalid's auc: 0.972627\n",
      "[70]\ttrain's auc: 0.972055\tvalid's auc: 0.973138\n",
      "[80]\ttrain's auc: 0.972505\tvalid's auc: 0.97354\n",
      "[90]\ttrain's auc: 0.972807\tvalid's auc: 0.97379\n",
      "[100]\ttrain's auc: 0.973119\tvalid's auc: 0.974015\n",
      "[110]\ttrain's auc: 0.973394\tvalid's auc: 0.97417\n",
      "[120]\ttrain's auc: 0.973622\tvalid's auc: 0.974383\n",
      "[130]\ttrain's auc: 0.973808\tvalid's auc: 0.974589\n",
      "[140]\ttrain's auc: 0.973972\tvalid's auc: 0.974685\n",
      "[150]\ttrain's auc: 0.974132\tvalid's auc: 0.974761\n",
      "[160]\ttrain's auc: 0.974255\tvalid's auc: 0.974836\n",
      "[170]\ttrain's auc: 0.974391\tvalid's auc: 0.974961\n",
      "[180]\ttrain's auc: 0.974545\tvalid's auc: 0.975055\n",
      "[190]\ttrain's auc: 0.974642\tvalid's auc: 0.975131\n",
      "[200]\ttrain's auc: 0.974768\tvalid's auc: 0.975236\n",
      "[210]\ttrain's auc: 0.974883\tvalid's auc: 0.97532\n",
      "[220]\ttrain's auc: 0.974991\tvalid's auc: 0.975407\n",
      "[230]\ttrain's auc: 0.975079\tvalid's auc: 0.975435\n",
      "[240]\ttrain's auc: 0.975147\tvalid's auc: 0.975466\n",
      "[250]\ttrain's auc: 0.975249\tvalid's auc: 0.975487\n",
      "[260]\ttrain's auc: 0.97531\tvalid's auc: 0.975539\n",
      "[270]\ttrain's auc: 0.975396\tvalid's auc: 0.975583\n",
      "[280]\ttrain's auc: 0.975461\tvalid's auc: 0.975621\n",
      "[290]\ttrain's auc: 0.975537\tvalid's auc: 0.975662\n",
      "[300]\ttrain's auc: 0.975593\tvalid's auc: 0.975672\n",
      "[310]\ttrain's auc: 0.975661\tvalid's auc: 0.975708\n",
      "[320]\ttrain's auc: 0.975734\tvalid's auc: 0.975756\n",
      "[330]\ttrain's auc: 0.975823\tvalid's auc: 0.975794\n",
      "[340]\ttrain's auc: 0.975892\tvalid's auc: 0.975786\n",
      "[350]\ttrain's auc: 0.97596\tvalid's auc: 0.9758\n",
      "[360]\ttrain's auc: 0.976034\tvalid's auc: 0.975844\n",
      "[370]\ttrain's auc: 0.976097\tvalid's auc: 0.975859\n",
      "[380]\ttrain's auc: 0.976146\tvalid's auc: 0.975885\n",
      "[390]\ttrain's auc: 0.976199\tvalid's auc: 0.975884\n",
      "[400]\ttrain's auc: 0.976263\tvalid's auc: 0.975911\n",
      "[410]\ttrain's auc: 0.976331\tvalid's auc: 0.97594\n",
      "[420]\ttrain's auc: 0.976397\tvalid's auc: 0.975955\n",
      "[430]\ttrain's auc: 0.976444\tvalid's auc: 0.975976\n",
      "[440]\ttrain's auc: 0.976502\tvalid's auc: 0.975993\n",
      "[450]\ttrain's auc: 0.976579\tvalid's auc: 0.975991\n",
      "[460]\ttrain's auc: 0.976627\tvalid's auc: 0.976004\n",
      "[470]\ttrain's auc: 0.976672\tvalid's auc: 0.975993\n",
      "[480]\ttrain's auc: 0.97673\tvalid's auc: 0.976044\n",
      "[490]\ttrain's auc: 0.976773\tvalid's auc: 0.976046\n",
      "[500]\ttrain's auc: 0.976833\tvalid's auc: 0.976057\n",
      "[510]\ttrain's auc: 0.976884\tvalid's auc: 0.976068\n",
      "[520]\ttrain's auc: 0.976934\tvalid's auc: 0.976093\n",
      "[530]\ttrain's auc: 0.976972\tvalid's auc: 0.976102\n",
      "[540]\ttrain's auc: 0.977009\tvalid's auc: 0.976131\n",
      "[550]\ttrain's auc: 0.97706\tvalid's auc: 0.97612\n",
      "[560]\ttrain's auc: 0.977097\tvalid's auc: 0.976138\n",
      "[570]\ttrain's auc: 0.97714\tvalid's auc: 0.97614\n",
      "[580]\ttrain's auc: 0.977177\tvalid's auc: 0.976162\n",
      "[590]\ttrain's auc: 0.977215\tvalid's auc: 0.976195\n",
      "[600]\ttrain's auc: 0.977257\tvalid's auc: 0.976236\n",
      "[610]\ttrain's auc: 0.977292\tvalid's auc: 0.976231\n",
      "[620]\ttrain's auc: 0.977331\tvalid's auc: 0.976226\n",
      "[630]\ttrain's auc: 0.977378\tvalid's auc: 0.976219\n",
      "[640]\ttrain's auc: 0.977415\tvalid's auc: 0.976203\n",
      "[650]\ttrain's auc: 0.977464\tvalid's auc: 0.976225\n",
      "[660]\ttrain's auc: 0.977505\tvalid's auc: 0.976239\n",
      "[670]\ttrain's auc: 0.977552\tvalid's auc: 0.976259\n",
      "[680]\ttrain's auc: 0.97758\tvalid's auc: 0.976262\n",
      "[690]\ttrain's auc: 0.977605\tvalid's auc: 0.976263\n",
      "[700]\ttrain's auc: 0.977643\tvalid's auc: 0.976253\n",
      "[710]\ttrain's auc: 0.977673\tvalid's auc: 0.976247\n",
      "[720]\ttrain's auc: 0.977708\tvalid's auc: 0.976225\n",
      "[730]\ttrain's auc: 0.977745\tvalid's auc: 0.976247\n",
      "[740]\ttrain's auc: 0.97777\tvalid's auc: 0.976262\n",
      "[750]\ttrain's auc: 0.97781\tvalid's auc: 0.976236\n",
      "[760]\ttrain's auc: 0.977848\tvalid's auc: 0.976232\n",
      "[770]\ttrain's auc: 0.977878\tvalid's auc: 0.976243\n",
      "[780]\ttrain's auc: 0.977914\tvalid's auc: 0.976249\n",
      "Early stopping, best iteration is:\n",
      "[735]\ttrain's auc: 0.977758\tvalid's auc: 0.976275\n",
      "CPU times: user 5h 40min 19s, sys: 43min 14s, total: 6h 23min 34s\n",
      "Wall time: 2h 1min 41s\n"
     ]
    }
   ],
   "source": [
    "%%time\n",
    "evals_results = {}\n",
    "lgb_model = lgb.train(\n",
    "    params, \n",
    "    dtrain, \n",
    "    valid_sets= [dtrain, dvalid], \n",
    "    valid_names=['train', 'valid'], \n",
    "    evals_result=evals_results, \n",
    "    num_boost_round=1000,\n",
    "    early_stopping_rounds=50,\n",
    "    verbose_eval=10, \n",
    "    feval=None\n",
    ")"
   ]
  },
  {
   "cell_type": "code",
   "execution_count": 61,
   "metadata": {},
   "outputs": [
    {
     "data": {
      "text/plain": [
       "<matplotlib.axes._subplots.AxesSubplot at 0x7f29f0289048>"
      ]
     },
     "execution_count": 61,
     "metadata": {},
     "output_type": "execute_result"
    },
    {
     "data": {
      "image/png": "[encoded data removed]",
      "text/plain": [
       "<Figure size 504x720 with 1 Axes>"
      ]
     },
     "metadata": {},
     "output_type": "display_data"
    }
   ],
   "source": [
    "f, ax = plt.subplots(figsize=[7,10])\n",
    "lgb.plot_importance(lgb_model, ax=ax, max_num_features=len(predictors))"
   ]
  },
  {
   "cell_type": "code",
   "execution_count": 65,
   "metadata": {
    "collapsed": true
   },
   "outputs": [],
   "source": [
    "pred = lgb_model.predict(valid.loc[:, predictors], num_iteration=lgb_model.best_iteration)"
   ]
  },
  {
   "cell_type": "code",
   "execution_count": 66,
   "metadata": {},
   "outputs": [
    {
     "data": {
      "text/plain": [
       "(3147254,)"
      ]
     },
     "execution_count": 66,
     "metadata": {},
     "output_type": "execute_result"
    }
   ],
   "source": [
    "pred.shape"
   ]
  },
  {
   "cell_type": "code",
   "execution_count": 67,
   "metadata": {
    "collapsed": true
   },
   "outputs": [],
   "source": [
    "valid.loc[:, 'pred1'] = pred"
   ]
  },
  {
   "cell_type": "code",
   "execution_count": 68,
   "metadata": {},
   "outputs": [
    {
     "data": {
      "text/html": [
       "<div>\n",
       "<style scoped>\n",
       "    .dataframe tbody tr th:only-of-type {\n",
       "        vertical-align: middle;\n",
       "    }\n",
       "\n",
       "    .dataframe tbody tr th {\n",
       "        vertical-align: top;\n",
       "    }\n",
       "\n",
       "    .dataframe thead th {\n",
       "        text-align: right;\n",
       "    }\n",
       "</style>\n",
       "<table border=\"1\" class=\"dataframe\">\n",
       "  <thead>\n",
       "    <tr style=\"text-align: right;\">\n",
       "      <th></th>\n",
       "      <th>click_time</th>\n",
       "      <th>ip</th>\n",
       "      <th>app</th>\n",
       "      <th>device</th>\n",
       "      <th>os</th>\n",
       "      <th>channel</th>\n",
       "      <th>is_attributed</th>\n",
       "      <th>n_ip</th>\n",
       "      <th>n_app</th>\n",
       "      <th>n_device</th>\n",
       "      <th>...</th>\n",
       "      <th>n_ip_device</th>\n",
       "      <th>n_ip_os</th>\n",
       "      <th>n_ip_channel</th>\n",
       "      <th>n_app_device</th>\n",
       "      <th>n_app_os</th>\n",
       "      <th>n_app_channel</th>\n",
       "      <th>n_device_os</th>\n",
       "      <th>n_device_channel</th>\n",
       "      <th>n_os_channel</th>\n",
       "      <th>pred</th>\n",
       "    </tr>\n",
       "  </thead>\n",
       "  <tbody>\n",
       "    <tr>\n",
       "      <th>14839506</th>\n",
       "      <td>2017-11-08 04:26:06</td>\n",
       "      <td>79827</td>\n",
       "      <td>2</td>\n",
       "      <td>1</td>\n",
       "      <td>49</td>\n",
       "      <td>219</td>\n",
       "      <td>0</td>\n",
       "      <td>826</td>\n",
       "      <td>240218</td>\n",
       "      <td>1676223</td>\n",
       "      <td>...</td>\n",
       "      <td>777</td>\n",
       "      <td>8</td>\n",
       "      <td>10</td>\n",
       "      <td>233039</td>\n",
       "      <td>825</td>\n",
       "      <td>17960</td>\n",
       "      <td>4988</td>\n",
       "      <td>24110</td>\n",
       "      <td>56</td>\n",
       "      <td>0.055222</td>\n",
       "    </tr>\n",
       "    <tr>\n",
       "      <th>14136297</th>\n",
       "      <td>2017-11-08 04:14:14</td>\n",
       "      <td>4019</td>\n",
       "      <td>6</td>\n",
       "      <td>2</td>\n",
       "      <td>19</td>\n",
       "      <td>459</td>\n",
       "      <td>0</td>\n",
       "      <td>726</td>\n",
       "      <td>21080</td>\n",
       "      <td>44566</td>\n",
       "      <td>...</td>\n",
       "      <td>48</td>\n",
       "      <td>109</td>\n",
       "      <td>23</td>\n",
       "      <td>735</td>\n",
       "      <td>4530</td>\n",
       "      <td>13406</td>\n",
       "      <td>6109</td>\n",
       "      <td>800</td>\n",
       "      <td>6927</td>\n",
       "      <td>0.007393</td>\n",
       "    </tr>\n",
       "    <tr>\n",
       "      <th>26045122</th>\n",
       "      <td>2017-11-08 07:57:47</td>\n",
       "      <td>49186</td>\n",
       "      <td>3</td>\n",
       "      <td>1</td>\n",
       "      <td>30</td>\n",
       "      <td>205</td>\n",
       "      <td>0</td>\n",
       "      <td>54</td>\n",
       "      <td>407540</td>\n",
       "      <td>1539308</td>\n",
       "      <td>...</td>\n",
       "      <td>53</td>\n",
       "      <td>3</td>\n",
       "      <td>1</td>\n",
       "      <td>399638</td>\n",
       "      <td>2182</td>\n",
       "      <td>10687</td>\n",
       "      <td>9179</td>\n",
       "      <td>30616</td>\n",
       "      <td>290</td>\n",
       "      <td>0.003859</td>\n",
       "    </tr>\n",
       "    <tr>\n",
       "      <th>6912737</th>\n",
       "      <td>2017-11-08 02:07:02</td>\n",
       "      <td>86729</td>\n",
       "      <td>15</td>\n",
       "      <td>1</td>\n",
       "      <td>13</td>\n",
       "      <td>265</td>\n",
       "      <td>0</td>\n",
       "      <td>63</td>\n",
       "      <td>125841</td>\n",
       "      <td>1410510</td>\n",
       "      <td>...</td>\n",
       "      <td>63</td>\n",
       "      <td>29</td>\n",
       "      <td>5</td>\n",
       "      <td>122781</td>\n",
       "      <td>27158</td>\n",
       "      <td>9897</td>\n",
       "      <td>311861</td>\n",
       "      <td>39900</td>\n",
       "      <td>9658</td>\n",
       "      <td>0.050335</td>\n",
       "    </tr>\n",
       "    <tr>\n",
       "      <th>11903636</th>\n",
       "      <td>2017-11-08 03:33:21</td>\n",
       "      <td>22691</td>\n",
       "      <td>2</td>\n",
       "      <td>1</td>\n",
       "      <td>17</td>\n",
       "      <td>212</td>\n",
       "      <td>0</td>\n",
       "      <td>42</td>\n",
       "      <td>204868</td>\n",
       "      <td>1492922</td>\n",
       "      <td>...</td>\n",
       "      <td>42</td>\n",
       "      <td>26</td>\n",
       "      <td>12</td>\n",
       "      <td>199090</td>\n",
       "      <td>10337</td>\n",
       "      <td>8655</td>\n",
       "      <td>77973</td>\n",
       "      <td>10862</td>\n",
       "      <td>594</td>\n",
       "      <td>0.011114</td>\n",
       "    </tr>\n",
       "  </tbody>\n",
       "</table>\n",
       "<p>5 rows × 23 columns</p>\n",
       "</div>"
      ],
      "text/plain": [
       "                  click_time     ip  app  device  os  channel  is_attributed  \\\n",
       "14839506 2017-11-08 04:26:06  79827    2       1  49      219              0   \n",
       "14136297 2017-11-08 04:14:14   4019    6       2  19      459              0   \n",
       "26045122 2017-11-08 07:57:47  49186    3       1  30      205              0   \n",
       "6912737  2017-11-08 02:07:02  86729   15       1  13      265              0   \n",
       "11903636 2017-11-08 03:33:21  22691    2       1  17      212              0   \n",
       "\n",
       "          n_ip   n_app  n_device    ...     n_ip_device  n_ip_os  \\\n",
       "14839506   826  240218   1676223    ...             777        8   \n",
       "14136297   726   21080     44566    ...              48      109   \n",
       "26045122    54  407540   1539308    ...              53        3   \n",
       "6912737     63  125841   1410510    ...              63       29   \n",
       "11903636    42  204868   1492922    ...              42       26   \n",
       "\n",
       "          n_ip_channel  n_app_device  n_app_os  n_app_channel  n_device_os  \\\n",
       "14839506            10        233039       825          17960         4988   \n",
       "14136297            23           735      4530          13406         6109   \n",
       "26045122             1        399638      2182          10687         9179   \n",
       "6912737              5        122781     27158           9897       311861   \n",
       "11903636            12        199090     10337           8655        77973   \n",
       "\n",
       "          n_device_channel  n_os_channel      pred  \n",
       "14839506             24110            56  0.055222  \n",
       "14136297               800          6927  0.007393  \n",
       "26045122             30616           290  0.003859  \n",
       "6912737              39900          9658  0.050335  \n",
       "11903636             10862           594  0.011114  \n",
       "\n",
       "[5 rows x 23 columns]"
      ]
     },
     "execution_count": 68,
     "metadata": {},
     "output_type": "execute_result"
    }
   ],
   "source": [
    "valid.head()"
   ]
  },
  {
   "cell_type": "code",
   "execution_count": 69,
   "metadata": {},
   "outputs": [
    {
     "data": {
      "text/plain": [
       "0.9762747715085776"
      ]
     },
     "execution_count": 69,
     "metadata": {},
     "output_type": "execute_result"
    }
   ],
   "source": [
    "roc_auc_score(valid.loc[:, target], pred)"
   ]
  },
  {
   "cell_type": "code",
   "execution_count": null,
   "metadata": {
    "collapsed": true
   },
   "outputs": [],
   "source": [
    "pred = lgb_model.predict(train.loc[:, predictors], num_iteration=lgb_model.best_iteration)"
   ]
  },
  {
   "cell_type": "code",
   "execution_count": null,
   "metadata": {
    "collapsed": true
   },
   "outputs": [],
   "source": [
    "train.loc[: 'pred1'] = pred"
   ]
  },
  {
   "cell_type": "code",
   "execution_count": null,
   "metadata": {
    "collapsed": true
   },
   "outputs": [],
   "source": [
    "predictors.append('pred1')"
   ]
  },
  {
   "cell_type": "code",
   "execution_count": null,
   "metadata": {
    "collapsed": true
   },
   "outputs": [],
   "source": [
    "dtrain = lgb.Dataset(\n",
    "    train.loc[:, predictors],\n",
    "    label=train.loc[:, target],\n",
    "    feature_name=predictors,\n",
    "    categorical_feature=categorical\n",
    ")\n",
    "\n",
    "dvalid = lgb.Dataset(\n",
    "    valid.loc[:, predictors],\n",
    "    label=valid.loc[:, target],\n",
    "    feature_name=predictors,\n",
    "    categorical_feature=categorical\n",
    ")"
   ]
  },
  {
   "cell_type": "code",
   "execution_count": null,
   "metadata": {
    "collapsed": true
   },
   "outputs": [],
   "source": [
    "%%time\n",
    "evals_results = {}\n",
    "lgb_model = lgb.train(\n",
    "    params, \n",
    "    dtrain, \n",
    "    valid_sets= [dtrain, dvalid], \n",
    "    valid_names=['train', 'valid'], \n",
    "    evals_result=evals_results, \n",
    "    num_boost_round=1000,\n",
    "    early_stopping_rounds=50,\n",
    "    verbose_eval=10, \n",
    "    feval=None\n",
    ")"
   ]
  },
  {
   "cell_type": "code",
   "execution_count": 61,
   "metadata": {},
   "outputs": [
    {
     "data": {
      "text/plain": [
       "<matplotlib.axes._subplots.AxesSubplot at 0x7f29f0289048>"
      ]
     },
     "execution_count": 61,
     "metadata": {},
     "output_type": "execute_result"
    },
    {
     "data": {
      "image/png": "[encoded data removed]",
      "text/plain": [
       "<Figure size 504x720 with 1 Axes>"
      ]
     },
     "metadata": {},
     "output_type": "display_data"
    }
   ],
   "source": [
    "f, ax = plt.subplots(figsize=[7,10])\n",
    "lgb.plot_importance(lgb_model, ax=ax, max_num_features=len(predictors))"
   ]
  },
  {
   "cell_type": "code",
   "execution_count": 65,
   "metadata": {
    "collapsed": true
   },
   "outputs": [],
   "source": [
    "pred = lgb_model.predict(valid.loc[:, predictors], num_iteration=lgb_model.best_iteration)"
   ]
  },
  {
   "cell_type": "code",
   "execution_count": null,
   "metadata": {
    "collapsed": true
   },
   "outputs": [],
   "source": [
    "roc_auc_score(valid.loc[:, target], pred)"
   ]
  },
  {
   "cell_type": "code",
   "execution_count": 70,
   "metadata": {
    "collapsed": true
   },
   "outputs": [],
   "source": [
    "import pickle"
   ]
  },
  {
   "cell_type": "code",
   "execution_count": 71,
   "metadata": {
    "collapsed": true
   },
   "outputs": [],
   "source": [
    "with open('../results/rolling_window_combo2_day8.pickle', 'wb') as f:\n",
    "    pickle.dump(lgb_model, f)"
   ]
  },
  {
   "cell_type": "code",
   "execution_count": 34,
   "metadata": {
    "collapsed": true
   },
   "outputs": [],
   "source": [
    "with open('../results/rolling_window.pickle', 'rb') as f:\n",
    "    lgb_model = pickle.load(f)"
   ]
  },
  {
   "cell_type": "code",
   "execution_count": 35,
   "metadata": {
    "collapsed": true
   },
   "outputs": [],
   "source": [
    "pred = lgb_model.predict(train.loc[:, predictors], num_iteration=lgb_model.best_iteration)"
   ]
  },
  {
   "cell_type": "code",
   "execution_count": 36,
   "metadata": {},
   "outputs": [
    {
     "data": {
      "text/plain": [
       "0.9763103757568603"
      ]
     },
     "execution_count": 36,
     "metadata": {},
     "output_type": "execute_result"
    }
   ],
   "source": [
    "roc_auc_score(train.loc[:, target], pred)"
   ]
  },
  {
   "cell_type": "code",
   "execution_count": null,
   "metadata": {
    "collapsed": true
   },
   "outputs": [],
   "source": []
  }
 ],
 "metadata": {
  "kernelspec": {
   "display_name": "Python 3",
   "language": "python",
   "name": "python3"
  },
  "language_info": {
   "codemirror_mode": {
    "name": "ipython",
    "version": 3
   },
   "file_extension": ".py",
   "mimetype": "text/x-python",
   "name": "python",
   "nbconvert_exporter": "python",
   "pygments_lexer": "ipython3",
   "version": "3.6.1"
  }
 },
 "nbformat": 4,
 "nbformat_minor": 2
}
