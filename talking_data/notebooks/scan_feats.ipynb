{
 "cells": [
  {
   "cell_type": "code",
   "execution_count": 1,
   "metadata": {
    "collapsed": true
   },
   "outputs": [],
   "source": [
    "%matplotlib inline\n",
    "import numpy as np\n",
    "import pandas as pd\n",
    "import gc\n",
    "import lightgbm as lgb\n",
    "from sklearn.metrics import precision_score, recall_score, roc_auc_score\n",
    "import matplotlib.pyplot as plt\n",
    "from itertools import combinations\n",
    "from sklearn.model_selection import train_test_split\n",
    "import pickle\n",
    "from multiprocessing import Pool\n",
    "from tqdm import tqdm"
   ]
  },
  {
   "cell_type": "markdown",
   "metadata": {},
   "source": [
    "# Prepare data\n",
    "\n",
    "* Attributed rate: how attribution is distributed in combinations\n",
    "* Click counts: how clicks are distributed in combinations\n",
    "* Rolling click counts: how clicks are distributed in combinations in sliding windows"
   ]
  },
  {
   "cell_type": "code",
   "execution_count": 2,
   "metadata": {
    "collapsed": true
   },
   "outputs": [],
   "source": [
    "hdf_path = '../derived_data/source.hdf'"
   ]
  },
  {
   "cell_type": "code",
   "execution_count": 3,
   "metadata": {
    "collapsed": true
   },
   "outputs": [],
   "source": [
    "res_hdf_path = '../derived_data/feats_pile.hdf'"
   ]
  },
  {
   "cell_type": "code",
   "execution_count": 4,
   "metadata": {},
   "outputs": [
    {
     "name": "stdout",
     "output_type": "stream",
     "text": [
      "CPU times: user 428 ms, sys: 4.88 s, total: 5.31 s\n",
      "Wall time: 20.4 s\n"
     ]
    }
   ],
   "source": [
    "%%time\n",
    "dat = pd.read_hdf(hdf_path, key='train')"
   ]
  },
  {
   "cell_type": "code",
   "execution_count": 5,
   "metadata": {},
   "outputs": [
    {
     "data": {
      "text/html": [
       "<div>\n",
       "<style>\n",
       "    .dataframe thead tr:only-child th {\n",
       "        text-align: right;\n",
       "    }\n",
       "\n",
       "    .dataframe thead th {\n",
       "        text-align: left;\n",
       "    }\n",
       "\n",
       "    .dataframe tbody tr th {\n",
       "        vertical-align: top;\n",
       "    }\n",
       "</style>\n",
       "<table border=\"1\" class=\"dataframe\">\n",
       "  <thead>\n",
       "    <tr style=\"text-align: right;\">\n",
       "      <th></th>\n",
       "      <th>ip</th>\n",
       "      <th>app</th>\n",
       "      <th>device</th>\n",
       "      <th>os</th>\n",
       "      <th>channel</th>\n",
       "      <th>click_time</th>\n",
       "      <th>is_attributed</th>\n",
       "    </tr>\n",
       "  </thead>\n",
       "  <tbody>\n",
       "    <tr>\n",
       "      <th>0</th>\n",
       "      <td>83230</td>\n",
       "      <td>3</td>\n",
       "      <td>1</td>\n",
       "      <td>13</td>\n",
       "      <td>379</td>\n",
       "      <td>2017-11-06 14:32:21</td>\n",
       "      <td>0</td>\n",
       "    </tr>\n",
       "    <tr>\n",
       "      <th>1</th>\n",
       "      <td>17357</td>\n",
       "      <td>3</td>\n",
       "      <td>1</td>\n",
       "      <td>19</td>\n",
       "      <td>379</td>\n",
       "      <td>2017-11-06 14:33:34</td>\n",
       "      <td>0</td>\n",
       "    </tr>\n",
       "    <tr>\n",
       "      <th>2</th>\n",
       "      <td>35810</td>\n",
       "      <td>3</td>\n",
       "      <td>1</td>\n",
       "      <td>13</td>\n",
       "      <td>379</td>\n",
       "      <td>2017-11-06 14:34:12</td>\n",
       "      <td>0</td>\n",
       "    </tr>\n",
       "    <tr>\n",
       "      <th>3</th>\n",
       "      <td>45745</td>\n",
       "      <td>14</td>\n",
       "      <td>1</td>\n",
       "      <td>13</td>\n",
       "      <td>478</td>\n",
       "      <td>2017-11-06 14:34:52</td>\n",
       "      <td>0</td>\n",
       "    </tr>\n",
       "    <tr>\n",
       "      <th>4</th>\n",
       "      <td>161007</td>\n",
       "      <td>3</td>\n",
       "      <td>1</td>\n",
       "      <td>13</td>\n",
       "      <td>379</td>\n",
       "      <td>2017-11-06 14:35:08</td>\n",
       "      <td>0</td>\n",
       "    </tr>\n",
       "  </tbody>\n",
       "</table>\n",
       "</div>"
      ],
      "text/plain": [
       "       ip  app  device  os  channel          click_time  is_attributed\n",
       "0   83230    3       1  13      379 2017-11-06 14:32:21              0\n",
       "1   17357    3       1  19      379 2017-11-06 14:33:34              0\n",
       "2   35810    3       1  13      379 2017-11-06 14:34:12              0\n",
       "3   45745   14       1  13      478 2017-11-06 14:34:52              0\n",
       "4  161007    3       1  13      379 2017-11-06 14:35:08              0"
      ]
     },
     "execution_count": 5,
     "metadata": {},
     "output_type": "execute_result"
    }
   ],
   "source": [
    "dat.head()"
   ]
  },
  {
   "cell_type": "code",
   "execution_count": 6,
   "metadata": {
    "collapsed": true
   },
   "outputs": [],
   "source": [
    "train = dat.loc[(dat.click_time >= '2017-11-08 04:00:00') & (dat.click_time < '2017-11-08 15:00:00')].copy()"
   ]
  },
  {
   "cell_type": "code",
   "execution_count": 7,
   "metadata": {
    "collapsed": true
   },
   "outputs": [],
   "source": [
    "valid = dat.loc[(dat.click_time >= '2017-11-09 04:00:00') & (dat.click_time < '2017-11-09 15:00:00')].copy()"
   ]
  },
  {
   "cell_type": "code",
   "execution_count": 8,
   "metadata": {
    "collapsed": true
   },
   "outputs": [],
   "source": [
    "del dat"
   ]
  },
  {
   "cell_type": "code",
   "execution_count": 9,
   "metadata": {},
   "outputs": [
    {
     "data": {
      "text/plain": [
       "91"
      ]
     },
     "execution_count": 9,
     "metadata": {},
     "output_type": "execute_result"
    }
   ],
   "source": [
    "gc.collect()"
   ]
  },
  {
   "cell_type": "code",
   "execution_count": 10,
   "metadata": {
    "collapsed": true
   },
   "outputs": [],
   "source": [
    "most_freq_hours_in_test_data = [4, 5, 9, 10, 13, 14]\n",
    "least_freq_hours_in_test_data = [6, 11, 15]"
   ]
  },
  {
   "cell_type": "code",
   "execution_count": 11,
   "metadata": {
    "collapsed": true
   },
   "outputs": [],
   "source": [
    "feats2comb = ['ip', 'app', 'device', 'os', 'channel']"
   ]
  },
  {
   "cell_type": "code",
   "execution_count": 12,
   "metadata": {
    "collapsed": true
   },
   "outputs": [],
   "source": [
    "def get_all_comb_feats(feats2comb, n=None):\n",
    "    if n is None:\n",
    "        n = len(feats2comb)\n",
    "    res = []\n",
    "    for i in range(n):\n",
    "        for comb_feats in combinations(feats2comb, i+1):\n",
    "            res.append(list(comb_feats))\n",
    "    return res"
   ]
  },
  {
   "cell_type": "code",
   "execution_count": 13,
   "metadata": {
    "collapsed": true
   },
   "outputs": [],
   "source": [
    "uint8_max = np.iinfo(np.uint8).max\n",
    "uint16_max = np.iinfo(np.uint16).max\n",
    "uint32_max = np.iinfo(np.uint32).max\n",
    "def choose_int_type(n):\n",
    "    if n <= uint8_max:\n",
    "        return 'uint8'\n",
    "    elif n <= uint16_max:\n",
    "        return 'uint16'\n",
    "    elif n <= uint32_max:\n",
    "        return 'uint32'\n",
    "    else:\n",
    "        return 'uint64'"
   ]
  },
  {
   "cell_type": "code",
   "execution_count": 14,
   "metadata": {
    "collapsed": true
   },
   "outputs": [],
   "source": [
    "def get_label_count(args):\n",
    "    gp = args[0].groupby(args[1], sort=False).size()\n",
    "    gp = gp.astype(choose_int_type(gp.max()))\n",
    "    gp = gp.to_frame().rename(columns={0: 'n_' + '_'.join(args[1]) + '_count'})\n",
    "    gc.collect()\n",
    "    return gp"
   ]
  },
  {
   "cell_type": "code",
   "execution_count": 15,
   "metadata": {
    "collapsed": true
   },
   "outputs": [],
   "source": [
    "def get_label_cumcount(args):\n",
    "    gp = args[0].groupby(args[1], sort=False).cumcount()\n",
    "    gp = gp.astype(choose_int_type(gp.max()))\n",
    "    gp = gp.to_frame().rename(columns={0: 'n_' + '_'.join(args[1]) + '_cumcount'})\n",
    "    gc.collect()\n",
    "    return gp"
   ]
  },
  {
   "cell_type": "code",
   "execution_count": 16,
   "metadata": {
    "collapsed": true
   },
   "outputs": [],
   "source": [
    "time_win = '30min'"
   ]
  },
  {
   "cell_type": "code",
   "execution_count": 92,
   "metadata": {
    "collapsed": true
   },
   "outputs": [],
   "source": [
    "def rolling_sum(df):\n",
    "    return df.set_index('click_time').rolling(time_win).sum()\n",
    "\n",
    "def get_label_rolling_sum(args):\n",
    "    feats = ['click_time'] + args[1]\n",
    "    gp = args[0].groupby(feats, sort=False).size()\n",
    "    gp = gp.reset_index().groupby(args[1], sort=False)[['click_time', 0]].apply(rolling_sum)\n",
    "    gp.loc[:, 0] = gp.loc[:, 0].astype('float16')\n",
    "    gp = gp.rename(columns={0: '_'.join(args[1]) + '_rolling_sum'})\n",
    "    gc.collect()\n",
    "    return gp"
   ]
  },
  {
   "cell_type": "code",
   "execution_count": 18,
   "metadata": {
    "collapsed": true
   },
   "outputs": [],
   "source": [
    "def rolling_count(df):\n",
    "    return df.groupby('click_time', sort=False).size().rolling(time_win).count()\n",
    "\n",
    "def get_label_rolling_count(args):\n",
    "    gp = args[0].groupby(args[1], sort=False).apply(rolling_count)\n",
    "    gp = gp.astype(choose_int_type(gp.max()))\n",
    "    gp = gp.to_frame().rename(columns={0: '_'.join(args[1]) + '_rolling_count'})\n",
    "    gc.collect()\n",
    "    return gp"
   ]
  },
  {
   "cell_type": "code",
   "execution_count": 19,
   "metadata": {
    "collapsed": true
   },
   "outputs": [],
   "source": [
    "def rolling_max(df):\n",
    "    return df.groupby('click_time', sort=False).size().rolling(time_win).max()\n",
    "\n",
    "def get_label_rolling_max(args):\n",
    "    gp = args[0].groupby(args[1], sort=False).apply(rolling_max)\n",
    "    gp = gp.astype(choose_int_type(gp.max()))\n",
    "    gp = gp.to_frame().rename(columns={0: '_'.join(args[1]) + '_rolling_max'})\n",
    "    gc.collect()\n",
    "    return gp"
   ]
  },
  {
   "cell_type": "code",
   "execution_count": 20,
   "metadata": {
    "collapsed": true
   },
   "outputs": [],
   "source": [
    "def rolling_min(df):\n",
    "    return df.groupby('click_time', sort=False).size().rolling(time_win).min()\n",
    "\n",
    "def get_label_rolling_min(args):\n",
    "    gp = args[0].groupby(args[1], sort=False).apply(rolling_min)\n",
    "    gp = gp.astype(choose_int_type(gp.min()))\n",
    "    gp = gp.to_frame().rename(columns={0: '_'.join(args[1]) + '_rolling_min'})\n",
    "    gc.collect()\n",
    "    return gp"
   ]
  },
  {
   "cell_type": "code",
   "execution_count": 21,
   "metadata": {
    "collapsed": true
   },
   "outputs": [],
   "source": [
    "def rolling_mean(df):\n",
    "    return df.groupby('click_time', sort=False).size().rolling(time_win).mean()\n",
    "\n",
    "def get_label_rolling_mean(args):\n",
    "    gp = args[0].groupby(args[1], sort=False).apply(rolling_mean)\n",
    "    gp = gp.astype('float16')\n",
    "    gp = gp.to_frame().rename(columns={0: '_'.join(args[1]) + '_rolling_mean'})\n",
    "    gc.collect()\n",
    "    return gp"
   ]
  },
  {
   "cell_type": "code",
   "execution_count": 22,
   "metadata": {
    "collapsed": true
   },
   "outputs": [],
   "source": [
    "def rolling_std(df):\n",
    "    return df.groupby('click_time', sort=False).size().rolling(time_win).std()\n",
    "\n",
    "def get_label_rolling_std(args):\n",
    "    gp = args[0].groupby(args[1], sort=False).apply(rolling_std)\n",
    "    gp = gp.astype('float16')\n",
    "    gp = gp.to_frame().rename(columns={0: '_'.join(args[1]) + '_rolling_std'})\n",
    "    gc.collect()\n",
    "    return gp"
   ]
  },
  {
   "cell_type": "code",
   "execution_count": 105,
   "metadata": {
    "collapsed": true
   },
   "outputs": [],
   "source": [
    "def get_labels(function, all_comb_feats):\n",
    "    print(pd.datetime.now())\n",
    "    aggs = []\n",
    "    with Pool(processes=8) as pool:\n",
    "        for dist in pool.imap_unordered(function, all_comb_feats):\n",
    "            aggs.append(dist.copy())\n",
    "            gc.collect()\n",
    "    return aggs"
   ]
  },
  {
   "cell_type": "code",
   "execution_count": 101,
   "metadata": {
    "collapsed": true
   },
   "outputs": [],
   "source": [
    "def merge(df, dists):\n",
    "    for dist in tqdm(dists):\n",
    "        df = df.merge(dist, left_on=dist.index.names, right_index=True, how='left')\n",
    "    return df"
   ]
  },
  {
   "cell_type": "code",
   "execution_count": 25,
   "metadata": {
    "collapsed": true
   },
   "outputs": [],
   "source": [
    "def cummerge(df, dists):\n",
    "    for dist in tqdm(dists):\n",
    "        df = df.merge(dist, left_index=True, right_index=True, how='left')\n",
    "    return df"
   ]
  },
  {
   "cell_type": "code",
   "execution_count": 97,
   "metadata": {
    "collapsed": true
   },
   "outputs": [],
   "source": [
    "all_comb_feats = get_all_comb_feats(feats2comb, 1)"
   ]
  },
  {
   "cell_type": "code",
   "execution_count": 98,
   "metadata": {},
   "outputs": [
    {
     "data": {
      "text/plain": [
       "5"
      ]
     },
     "execution_count": 98,
     "metadata": {},
     "output_type": "execute_result"
    }
   ],
   "source": [
    "len(all_comb_feats)"
   ]
  },
  {
   "cell_type": "code",
   "execution_count": 99,
   "metadata": {
    "collapsed": true
   },
   "outputs": [],
   "source": [
    "train_all_comb_feats =[(train, comb_feat) for comb_feat in all_comb_feats]\n",
    "                  # [['hour'] + comb_feat for comb_feat in all_comb_feats] +\n",
    "                  # [['minute'] + comb_feat for comb_feat in all_comb_feats] +\n",
    "                  # [['day_section'] + comb_feat for comb_feat in all_comb_feats] +\n",
    "                  # [['in_test_hh', 'day_section'] + comb_feat for comb_feat in all_comb_feats])"
   ]
  },
  {
   "cell_type": "code",
   "execution_count": 29,
   "metadata": {
    "collapsed": true
   },
   "outputs": [],
   "source": [
    "valid_all_comb_feats =[(valid, comb_feat) for comb_feat in all_comb_feats]"
   ]
  },
  {
   "cell_type": "code",
   "execution_count": 103,
   "metadata": {
    "collapsed": true
   },
   "outputs": [],
   "source": [
    "def process(df, all_comb_feats, to_get):\n",
    "    print('Adding hour...')\n",
    "    df.loc[:, 'hour'] = df.click_time.dt.hour.astype('uint8')\n",
    "    print('Adding minute...')\n",
    "    df.loc[:, 'minute'] = df.hour.astype('uint16') * 60 + df.click_time.dt.minute.astype('uint16')\n",
    "    print('Adding in_test_hh')\n",
    "    df.loc[:, 'in_test_hh'] = (\n",
    "        3 - 2*df.hour.isin(most_freq_hours_in_test_data) -\n",
    "        1*df.hour.isin(least_freq_hours_in_test_data)\n",
    "    ).astype('uint8')\n",
    "    print('Adding day_section...')\n",
    "    df.loc[:, 'day_section'] = (df.hour // 6).astype('uint8')\n",
    "    if to_get == 'cumcounts':\n",
    "        print('Getting cummulative counts...')\n",
    "        df_counts = get_labels(get_label_cumcount, all_comb_feats)\n",
    "        print('Cummulative Merging...')\n",
    "        df = cummerge(df, df_counts)\n",
    "    else:\n",
    "        if to_get == 'count':\n",
    "            print('Getting count...')\n",
    "            df_counts = get_labels(get_label_count, all_comb_feats)\n",
    "        elif to_get == 'rolling_count':\n",
    "            print('Getting rolling count...')\n",
    "            df_counts = get_labels(get_label_rolling_count, all_comb_feats)\n",
    "        elif to_get == 'rolling_sum':\n",
    "            print('Getting rolling sum...')\n",
    "            df_counts = get_labels(get_label_rolling_sum, all_comb_feats)\n",
    "        elif to_get == 'rolling_max':\n",
    "            print('Getting rolling max...')\n",
    "            df_counts = get_labels(get_label_rolling_max, all_comb_feats)\n",
    "        elif to_get == 'rolling_min':\n",
    "            print('Getting rolling min...')\n",
    "            df_counts = get_labels(get_label_rolling_min, all_comb_feats)\n",
    "        elif to_get == 'rolling_mean':\n",
    "            print('Getting rolling mean...')\n",
    "            df_counts = get_labels(get_label_rolling_mean, all_comb_feats)\n",
    "        elif to_get == 'rolling_std':\n",
    "            print('Getting rolling std...')\n",
    "            df_counts = get_labels(get_label_rolling_std, all_comb_feats)\n",
    "        print('Merging...')\n",
    "        df = merge(df, df_counts)\n",
    "    \n",
    "    gc.collect()\n",
    "    return df"
   ]
  },
  {
   "cell_type": "code",
   "execution_count": null,
   "metadata": {
    "collapsed": true
   },
   "outputs": [],
   "source": [
    "train_all"
   ]
  },
  {
   "cell_type": "code",
   "execution_count": 94,
   "metadata": {
    "collapsed": true
   },
   "outputs": [],
   "source": [
    "to_get = 'rolling_sum'"
   ]
  },
  {
   "cell_type": "code",
   "execution_count": 106,
   "metadata": {},
   "outputs": [
    {
     "data": {
      "text/html": [
       "<div>\n",
       "<style>\n",
       "    .dataframe thead tr:only-child th {\n",
       "        text-align: right;\n",
       "    }\n",
       "\n",
       "    .dataframe thead th {\n",
       "        text-align: left;\n",
       "    }\n",
       "\n",
       "    .dataframe tbody tr th {\n",
       "        vertical-align: top;\n",
       "    }\n",
       "</style>\n",
       "<table border=\"1\" class=\"dataframe\">\n",
       "  <thead>\n",
       "    <tr style=\"text-align: right;\">\n",
       "      <th></th>\n",
       "      <th>ip</th>\n",
       "      <th>app</th>\n",
       "      <th>device</th>\n",
       "      <th>os</th>\n",
       "      <th>channel</th>\n",
       "      <th>click_time</th>\n",
       "      <th>is_attributed</th>\n",
       "      <th>hour</th>\n",
       "      <th>minute</th>\n",
       "      <th>in_test_hh</th>\n",
       "      <th>day_section</th>\n",
       "    </tr>\n",
       "  </thead>\n",
       "  <tbody>\n",
       "    <tr>\n",
       "      <th>82259195</th>\n",
       "      <td>58991</td>\n",
       "      <td>12</td>\n",
       "      <td>1</td>\n",
       "      <td>26</td>\n",
       "      <td>259</td>\n",
       "      <td>2017-11-08 04:00:00</td>\n",
       "      <td>0</td>\n",
       "      <td>4</td>\n",
       "      <td>240</td>\n",
       "      <td>1</td>\n",
       "      <td>0</td>\n",
       "    </tr>\n",
       "    <tr>\n",
       "      <th>82259196</th>\n",
       "      <td>184626</td>\n",
       "      <td>18</td>\n",
       "      <td>1</td>\n",
       "      <td>19</td>\n",
       "      <td>121</td>\n",
       "      <td>2017-11-08 04:00:00</td>\n",
       "      <td>0</td>\n",
       "      <td>4</td>\n",
       "      <td>240</td>\n",
       "      <td>1</td>\n",
       "      <td>0</td>\n",
       "    </tr>\n",
       "    <tr>\n",
       "      <th>82259197</th>\n",
       "      <td>151871</td>\n",
       "      <td>3</td>\n",
       "      <td>1</td>\n",
       "      <td>9</td>\n",
       "      <td>280</td>\n",
       "      <td>2017-11-08 04:00:00</td>\n",
       "      <td>0</td>\n",
       "      <td>4</td>\n",
       "      <td>240</td>\n",
       "      <td>1</td>\n",
       "      <td>0</td>\n",
       "    </tr>\n",
       "    <tr>\n",
       "      <th>82259198</th>\n",
       "      <td>4180</td>\n",
       "      <td>3</td>\n",
       "      <td>1</td>\n",
       "      <td>19</td>\n",
       "      <td>424</td>\n",
       "      <td>2017-11-08 04:00:00</td>\n",
       "      <td>0</td>\n",
       "      <td>4</td>\n",
       "      <td>240</td>\n",
       "      <td>1</td>\n",
       "      <td>0</td>\n",
       "    </tr>\n",
       "    <tr>\n",
       "      <th>82259199</th>\n",
       "      <td>231270</td>\n",
       "      <td>9</td>\n",
       "      <td>1</td>\n",
       "      <td>15</td>\n",
       "      <td>466</td>\n",
       "      <td>2017-11-08 04:00:00</td>\n",
       "      <td>0</td>\n",
       "      <td>4</td>\n",
       "      <td>240</td>\n",
       "      <td>1</td>\n",
       "      <td>0</td>\n",
       "    </tr>\n",
       "  </tbody>\n",
       "</table>\n",
       "</div>"
      ],
      "text/plain": [
       "              ip  app  device  os  channel          click_time  is_attributed  \\\n",
       "82259195   58991   12       1  26      259 2017-11-08 04:00:00              0   \n",
       "82259196  184626   18       1  19      121 2017-11-08 04:00:00              0   \n",
       "82259197  151871    3       1   9      280 2017-11-08 04:00:00              0   \n",
       "82259198    4180    3       1  19      424 2017-11-08 04:00:00              0   \n",
       "82259199  231270    9       1  15      466 2017-11-08 04:00:00              0   \n",
       "\n",
       "          hour  minute  in_test_hh  day_section  \n",
       "82259195     4     240           1            0  \n",
       "82259196     4     240           1            0  \n",
       "82259197     4     240           1            0  \n",
       "82259198     4     240           1            0  \n",
       "82259199     4     240           1            0  "
      ]
     },
     "execution_count": 106,
     "metadata": {},
     "output_type": "execute_result"
    }
   ],
   "source": [
    "train.head()"
   ]
  },
  {
   "cell_type": "code",
   "execution_count": 107,
   "metadata": {},
   "outputs": [
    {
     "name": "stdout",
     "output_type": "stream",
     "text": [
      "Adding hour...\n",
      "Adding minute...\n",
      "Adding in_test_hh\n",
      "Adding day_section...\n",
      "Getting rolling sum...\n",
      "2018-04-19 13:42:12.316003\n"
     ]
    },
    {
     "name": "stderr",
     "output_type": "stream",
     "text": [
      "Process ForkPoolWorker-7:\n",
      "Process ForkPoolWorker-4:\n",
      "Process ForkPoolWorker-6:\n",
      "Process ForkPoolWorker-3:\n",
      "Process ForkPoolWorker-8:\n",
      "Process ForkPoolWorker-5:\n",
      "Process ForkPoolWorker-2:\n",
      "Traceback (most recent call last):\n",
      "Traceback (most recent call last):\n",
      "Traceback (most recent call last):\n",
      "Traceback (most recent call last):\n",
      "Traceback (most recent call last):\n",
      "  File \"/home/feiz/miniconda3/envs/analysis_py3/lib/python3.6/multiprocessing/process.py\", line 249, in _bootstrap\n",
      "    self.run()\n",
      "Traceback (most recent call last):\n",
      "  File \"/home/feiz/miniconda3/envs/analysis_py3/lib/python3.6/multiprocessing/process.py\", line 249, in _bootstrap\n",
      "    self.run()\n",
      "  File \"/home/feiz/miniconda3/envs/analysis_py3/lib/python3.6/multiprocessing/process.py\", line 249, in _bootstrap\n",
      "    self.run()\n",
      "  File \"/home/feiz/miniconda3/envs/analysis_py3/lib/python3.6/multiprocessing/process.py\", line 93, in run\n",
      "    self._target(*self._args, **self._kwargs)\n",
      "  File \"/home/feiz/miniconda3/envs/analysis_py3/lib/python3.6/multiprocessing/process.py\", line 249, in _bootstrap\n",
      "    self.run()\n",
      "  File \"/home/feiz/miniconda3/envs/analysis_py3/lib/python3.6/multiprocessing/process.py\", line 93, in run\n",
      "    self._target(*self._args, **self._kwargs)\n",
      "  File \"/home/feiz/miniconda3/envs/analysis_py3/lib/python3.6/multiprocessing/process.py\", line 249, in _bootstrap\n",
      "    self.run()\n",
      "Traceback (most recent call last):\n",
      "  File \"/home/feiz/miniconda3/envs/analysis_py3/lib/python3.6/multiprocessing/process.py\", line 249, in _bootstrap\n",
      "    self.run()\n",
      "  File \"/home/feiz/miniconda3/envs/analysis_py3/lib/python3.6/multiprocessing/process.py\", line 93, in run\n",
      "    self._target(*self._args, **self._kwargs)\n",
      "  File \"/home/feiz/miniconda3/envs/analysis_py3/lib/python3.6/multiprocessing/pool.py\", line 108, in worker\n",
      "    task = get()\n",
      "  File \"/home/feiz/miniconda3/envs/analysis_py3/lib/python3.6/multiprocessing/process.py\", line 93, in run\n",
      "    self._target(*self._args, **self._kwargs)\n",
      "  File \"/home/feiz/miniconda3/envs/analysis_py3/lib/python3.6/multiprocessing/process.py\", line 249, in _bootstrap\n",
      "    self.run()\n",
      "  File \"/home/feiz/miniconda3/envs/analysis_py3/lib/python3.6/multiprocessing/pool.py\", line 108, in worker\n",
      "    task = get()\n",
      "  File \"/home/feiz/miniconda3/envs/analysis_py3/lib/python3.6/multiprocessing/queues.py\", line 342, in get\n",
      "    with self._rlock:\n",
      "  File \"/home/feiz/miniconda3/envs/analysis_py3/lib/python3.6/multiprocessing/pool.py\", line 108, in worker\n",
      "    task = get()\n",
      "  File \"/home/feiz/miniconda3/envs/analysis_py3/lib/python3.6/multiprocessing/process.py\", line 93, in run\n",
      "    self._target(*self._args, **self._kwargs)\n",
      "  File \"/home/feiz/miniconda3/envs/analysis_py3/lib/python3.6/multiprocessing/pool.py\", line 108, in worker\n",
      "    task = get()\n",
      "  File \"/home/feiz/miniconda3/envs/analysis_py3/lib/python3.6/multiprocessing/synchronize.py\", line 96, in __enter__\n",
      "    return self._semlock.__enter__()\n",
      "  File \"/home/feiz/miniconda3/envs/analysis_py3/lib/python3.6/multiprocessing/queues.py\", line 343, in get\n",
      "    res = self._reader.recv_bytes()\n",
      "  File \"/home/feiz/miniconda3/envs/analysis_py3/lib/python3.6/multiprocessing/process.py\", line 93, in run\n",
      "    self._target(*self._args, **self._kwargs)\n",
      "  File \"/home/feiz/miniconda3/envs/analysis_py3/lib/python3.6/multiprocessing/process.py\", line 93, in run\n",
      "    self._target(*self._args, **self._kwargs)\n",
      "  File \"/home/feiz/miniconda3/envs/analysis_py3/lib/python3.6/multiprocessing/pool.py\", line 108, in worker\n",
      "    task = get()\n",
      "  File \"/home/feiz/miniconda3/envs/analysis_py3/lib/python3.6/multiprocessing/pool.py\", line 108, in worker\n",
      "    task = get()\n",
      "  File \"/home/feiz/miniconda3/envs/analysis_py3/lib/python3.6/multiprocessing/queues.py\", line 342, in get\n",
      "    with self._rlock:\n",
      "  File \"/home/feiz/miniconda3/envs/analysis_py3/lib/python3.6/multiprocessing/pool.py\", line 108, in worker\n",
      "    task = get()\n",
      "  File \"/home/feiz/miniconda3/envs/analysis_py3/lib/python3.6/multiprocessing/queues.py\", line 342, in get\n",
      "    with self._rlock:\n",
      "  File \"/home/feiz/miniconda3/envs/analysis_py3/lib/python3.6/multiprocessing/connection.py\", line 216, in recv_bytes\n",
      "    buf = self._recv_bytes(maxlength)\n",
      "  File \"/home/feiz/miniconda3/envs/analysis_py3/lib/python3.6/multiprocessing/synchronize.py\", line 96, in __enter__\n",
      "    return self._semlock.__enter__()\n",
      "  File \"/home/feiz/miniconda3/envs/analysis_py3/lib/python3.6/multiprocessing/queues.py\", line 342, in get\n",
      "    with self._rlock:\n",
      "  File \"/home/feiz/miniconda3/envs/analysis_py3/lib/python3.6/multiprocessing/synchronize.py\", line 96, in __enter__\n",
      "    return self._semlock.__enter__()\n",
      "  File \"/home/feiz/miniconda3/envs/analysis_py3/lib/python3.6/multiprocessing/queues.py\", line 342, in get\n",
      "    with self._rlock:\n",
      "KeyboardInterrupt\n",
      "  File \"/home/feiz/miniconda3/envs/analysis_py3/lib/python3.6/multiprocessing/connection.py\", line 407, in _recv_bytes\n",
      "    buf = self._recv(4)\n",
      "KeyboardInterrupt\n",
      "  File \"/home/feiz/miniconda3/envs/analysis_py3/lib/python3.6/multiprocessing/queues.py\", line 342, in get\n",
      "    with self._rlock:\n",
      "KeyboardInterrupt\n",
      "  File \"/home/feiz/miniconda3/envs/analysis_py3/lib/python3.6/multiprocessing/synchronize.py\", line 96, in __enter__\n",
      "    return self._semlock.__enter__()\n",
      "  File \"/home/feiz/miniconda3/envs/analysis_py3/lib/python3.6/multiprocessing/synchronize.py\", line 96, in __enter__\n",
      "    return self._semlock.__enter__()\n",
      "  File \"/home/feiz/miniconda3/envs/analysis_py3/lib/python3.6/multiprocessing/connection.py\", line 379, in _recv\n",
      "    chunk = read(handle, remaining)\n",
      "  File \"/home/feiz/miniconda3/envs/analysis_py3/lib/python3.6/multiprocessing/synchronize.py\", line 96, in __enter__\n",
      "    return self._semlock.__enter__()\n",
      "KeyboardInterrupt\n",
      "KeyboardInterrupt\n",
      "KeyboardInterrupt\n"
     ]
    },
    {
     "ename": "KeyboardInterrupt",
     "evalue": "",
     "output_type": "error",
     "traceback": [
      "\u001b[0;31m---------------------------------------------------------------------------\u001b[0m",
      "\u001b[0;31mIndexError\u001b[0m                                Traceback (most recent call last)",
      "\u001b[0;32m~/miniconda3/envs/analysis_py3/lib/python3.6/multiprocessing/pool.py\u001b[0m in \u001b[0;36mnext\u001b[0;34m(self, timeout)\u001b[0m\n\u001b[1;32m    683\u001b[0m             \u001b[0;32mtry\u001b[0m\u001b[0;34m:\u001b[0m\u001b[0;34m\u001b[0m\u001b[0m\n\u001b[0;32m--> 684\u001b[0;31m                 \u001b[0mitem\u001b[0m \u001b[0;34m=\u001b[0m \u001b[0mself\u001b[0m\u001b[0;34m.\u001b[0m\u001b[0m_items\u001b[0m\u001b[0;34m.\u001b[0m\u001b[0mpopleft\u001b[0m\u001b[0;34m(\u001b[0m\u001b[0;34m)\u001b[0m\u001b[0;34m\u001b[0m\u001b[0m\n\u001b[0m\u001b[1;32m    685\u001b[0m             \u001b[0;32mexcept\u001b[0m \u001b[0mIndexError\u001b[0m\u001b[0;34m:\u001b[0m\u001b[0;34m\u001b[0m\u001b[0m\n",
      "\u001b[0;31mIndexError\u001b[0m: pop from an empty deque",
      "\nDuring handling of the above exception, another exception occurred:\n",
      "\u001b[0;31mKeyboardInterrupt\u001b[0m                         Traceback (most recent call last)",
      "\u001b[0;32m<timed exec>\u001b[0m in \u001b[0;36m<module>\u001b[0;34m()\u001b[0m\n",
      "\u001b[0;32m<ipython-input-103-0e25ce181513>\u001b[0m in \u001b[0;36mprocess\u001b[0;34m(df, all_comb_feats, to_get)\u001b[0m\n\u001b[1;32m     25\u001b[0m         \u001b[0;32melif\u001b[0m \u001b[0mto_get\u001b[0m \u001b[0;34m==\u001b[0m \u001b[0;34m'rolling_sum'\u001b[0m\u001b[0;34m:\u001b[0m\u001b[0;34m\u001b[0m\u001b[0m\n\u001b[1;32m     26\u001b[0m             \u001b[0mprint\u001b[0m\u001b[0;34m(\u001b[0m\u001b[0;34m'Getting rolling sum...'\u001b[0m\u001b[0;34m)\u001b[0m\u001b[0;34m\u001b[0m\u001b[0m\n\u001b[0;32m---> 27\u001b[0;31m             \u001b[0mdf_counts\u001b[0m \u001b[0;34m=\u001b[0m \u001b[0mget_labels\u001b[0m\u001b[0;34m(\u001b[0m\u001b[0mget_label_rolling_sum\u001b[0m\u001b[0;34m,\u001b[0m \u001b[0mall_comb_feats\u001b[0m\u001b[0;34m)\u001b[0m\u001b[0;34m\u001b[0m\u001b[0m\n\u001b[0m\u001b[1;32m     28\u001b[0m         \u001b[0;32melif\u001b[0m \u001b[0mto_get\u001b[0m \u001b[0;34m==\u001b[0m \u001b[0;34m'rolling_max'\u001b[0m\u001b[0;34m:\u001b[0m\u001b[0;34m\u001b[0m\u001b[0m\n\u001b[1;32m     29\u001b[0m             \u001b[0mprint\u001b[0m\u001b[0;34m(\u001b[0m\u001b[0;34m'Getting rolling max...'\u001b[0m\u001b[0;34m)\u001b[0m\u001b[0;34m\u001b[0m\u001b[0m\n",
      "\u001b[0;32m<ipython-input-105-6b8e5e584981>\u001b[0m in \u001b[0;36mget_labels\u001b[0;34m(function, all_comb_feats)\u001b[0m\n\u001b[1;32m      3\u001b[0m     \u001b[0maggs\u001b[0m \u001b[0;34m=\u001b[0m \u001b[0;34m[\u001b[0m\u001b[0;34m]\u001b[0m\u001b[0;34m\u001b[0m\u001b[0m\n\u001b[1;32m      4\u001b[0m     \u001b[0;32mwith\u001b[0m \u001b[0mPool\u001b[0m\u001b[0;34m(\u001b[0m\u001b[0mprocesses\u001b[0m\u001b[0;34m=\u001b[0m\u001b[0;36m8\u001b[0m\u001b[0;34m)\u001b[0m \u001b[0;32mas\u001b[0m \u001b[0mpool\u001b[0m\u001b[0;34m:\u001b[0m\u001b[0;34m\u001b[0m\u001b[0m\n\u001b[0;32m----> 5\u001b[0;31m         \u001b[0;32mfor\u001b[0m \u001b[0mdist\u001b[0m \u001b[0;32min\u001b[0m \u001b[0mpool\u001b[0m\u001b[0;34m.\u001b[0m\u001b[0mimap_unordered\u001b[0m\u001b[0;34m(\u001b[0m\u001b[0mfunction\u001b[0m\u001b[0;34m,\u001b[0m \u001b[0mall_comb_feats\u001b[0m\u001b[0;34m)\u001b[0m\u001b[0;34m:\u001b[0m\u001b[0;34m\u001b[0m\u001b[0m\n\u001b[0m\u001b[1;32m      6\u001b[0m             \u001b[0maggs\u001b[0m\u001b[0;34m.\u001b[0m\u001b[0mappend\u001b[0m\u001b[0;34m(\u001b[0m\u001b[0mdist\u001b[0m\u001b[0;34m.\u001b[0m\u001b[0mcopy\u001b[0m\u001b[0;34m(\u001b[0m\u001b[0;34m)\u001b[0m\u001b[0;34m)\u001b[0m\u001b[0;34m\u001b[0m\u001b[0m\n\u001b[1;32m      7\u001b[0m             \u001b[0mgc\u001b[0m\u001b[0;34m.\u001b[0m\u001b[0mcollect\u001b[0m\u001b[0;34m(\u001b[0m\u001b[0;34m)\u001b[0m\u001b[0;34m\u001b[0m\u001b[0m\n",
      "\u001b[0;32m~/miniconda3/envs/analysis_py3/lib/python3.6/multiprocessing/pool.py\u001b[0m in \u001b[0;36mnext\u001b[0;34m(self, timeout)\u001b[0m\n\u001b[1;32m    686\u001b[0m                 \u001b[0;32mif\u001b[0m \u001b[0mself\u001b[0m\u001b[0;34m.\u001b[0m\u001b[0m_index\u001b[0m \u001b[0;34m==\u001b[0m \u001b[0mself\u001b[0m\u001b[0;34m.\u001b[0m\u001b[0m_length\u001b[0m\u001b[0;34m:\u001b[0m\u001b[0;34m\u001b[0m\u001b[0m\n\u001b[1;32m    687\u001b[0m                     \u001b[0;32mraise\u001b[0m \u001b[0mStopIteration\u001b[0m\u001b[0;34m\u001b[0m\u001b[0m\n\u001b[0;32m--> 688\u001b[0;31m                 \u001b[0mself\u001b[0m\u001b[0;34m.\u001b[0m\u001b[0m_cond\u001b[0m\u001b[0;34m.\u001b[0m\u001b[0mwait\u001b[0m\u001b[0;34m(\u001b[0m\u001b[0mtimeout\u001b[0m\u001b[0;34m)\u001b[0m\u001b[0;34m\u001b[0m\u001b[0m\n\u001b[0m\u001b[1;32m    689\u001b[0m                 \u001b[0;32mtry\u001b[0m\u001b[0;34m:\u001b[0m\u001b[0;34m\u001b[0m\u001b[0m\n\u001b[1;32m    690\u001b[0m                     \u001b[0mitem\u001b[0m \u001b[0;34m=\u001b[0m \u001b[0mself\u001b[0m\u001b[0;34m.\u001b[0m\u001b[0m_items\u001b[0m\u001b[0;34m.\u001b[0m\u001b[0mpopleft\u001b[0m\u001b[0;34m(\u001b[0m\u001b[0;34m)\u001b[0m\u001b[0;34m\u001b[0m\u001b[0m\n",
      "\u001b[0;32m~/miniconda3/envs/analysis_py3/lib/python3.6/threading.py\u001b[0m in \u001b[0;36mwait\u001b[0;34m(self, timeout)\u001b[0m\n\u001b[1;32m    293\u001b[0m         \u001b[0;32mtry\u001b[0m\u001b[0;34m:\u001b[0m    \u001b[0;31m# restore state no matter what (e.g., KeyboardInterrupt)\u001b[0m\u001b[0;34m\u001b[0m\u001b[0m\n\u001b[1;32m    294\u001b[0m             \u001b[0;32mif\u001b[0m \u001b[0mtimeout\u001b[0m \u001b[0;32mis\u001b[0m \u001b[0;32mNone\u001b[0m\u001b[0;34m:\u001b[0m\u001b[0;34m\u001b[0m\u001b[0m\n\u001b[0;32m--> 295\u001b[0;31m                 \u001b[0mwaiter\u001b[0m\u001b[0;34m.\u001b[0m\u001b[0macquire\u001b[0m\u001b[0;34m(\u001b[0m\u001b[0;34m)\u001b[0m\u001b[0;34m\u001b[0m\u001b[0m\n\u001b[0m\u001b[1;32m    296\u001b[0m                 \u001b[0mgotit\u001b[0m \u001b[0;34m=\u001b[0m \u001b[0;32mTrue\u001b[0m\u001b[0;34m\u001b[0m\u001b[0m\n\u001b[1;32m    297\u001b[0m             \u001b[0;32melse\u001b[0m\u001b[0;34m:\u001b[0m\u001b[0;34m\u001b[0m\u001b[0m\n",
      "\u001b[0;31mKeyboardInterrupt\u001b[0m: "
     ]
    }
   ],
   "source": [
    "%%time\n",
    "train = process(train, train_all_comb_feats, to_get)"
   ]
  },
  {
   "cell_type": "code",
   "execution_count": 33,
   "metadata": {},
   "outputs": [
    {
     "name": "stdout",
     "output_type": "stream",
     "text": [
      "Adding hour...\n",
      "Adding minute...\n",
      "Adding in_test_hh\n",
      "Adding day_section...\n",
      "Getting rolling mean...\n",
      "2018-04-19 11:48:05.966697\n"
     ]
    },
    {
     "name": "stderr",
     "output_type": "stream",
     "text": [
      "Process ForkPoolWorker-12:\n",
      "  File \"/home/feiz/miniconda3/envs/analysis_py3/lib/python3.6/site-packages/pandas/core/indexes/datetimelike.py\", line 399, in take\n",
      "    return self[maybe_slice]\n",
      "Process ForkPoolWorker-15:\n",
      "Traceback (most recent call last):\n",
      "  File \"/home/feiz/miniconda3/envs/analysis_py3/lib/python3.6/multiprocessing/process.py\", line 249, in _bootstrap\n",
      "    self.run()\n",
      "  File \"/home/feiz/miniconda3/envs/analysis_py3/lib/python3.6/multiprocessing/process.py\", line 93, in run\n",
      "    self._target(*self._args, **self._kwargs)\n",
      "  File \"/home/feiz/miniconda3/envs/analysis_py3/lib/python3.6/multiprocessing/pool.py\", line 119, in worker\n",
      "    result = (True, func(*args, **kwds))\n",
      "Process ForkPoolWorker-11:\n",
      "  File \"<ipython-input-21-6343438f49f9>\", line 5, in get_label_rolling_mean\n",
      "    gp = args[0].groupby(args[1], sort=False).apply(rolling_mean)\n",
      "  File \"/home/feiz/miniconda3/envs/analysis_py3/lib/python3.6/site-packages/pandas/core/groupby.py\", line 716, in apply\n",
      "    return self._python_apply_general(f)\n",
      "Traceback (most recent call last):\n",
      "KeyboardInterrupt\n",
      "  File \"/home/feiz/miniconda3/envs/analysis_py3/lib/python3.6/multiprocessing/process.py\", line 249, in _bootstrap\n",
      "    self.run()\n",
      "  File \"/home/feiz/miniconda3/envs/analysis_py3/lib/python3.6/multiprocessing/process.py\", line 93, in run\n",
      "    self._target(*self._args, **self._kwargs)\n",
      "  File \"/home/feiz/miniconda3/envs/analysis_py3/lib/python3.6/multiprocessing/pool.py\", line 119, in worker\n",
      "    result = (True, func(*args, **kwds))\n",
      "  File \"<ipython-input-21-6343438f49f9>\", line 5, in get_label_rolling_mean\n",
      "    gp = args[0].groupby(args[1], sort=False).apply(rolling_mean)\n",
      "  File \"/home/feiz/miniconda3/envs/analysis_py3/lib/python3.6/site-packages/pandas/core/groupby.py\", line 716, in apply\n",
      "    return self._python_apply_general(f)\n",
      "  File \"/home/feiz/miniconda3/envs/analysis_py3/lib/python3.6/site-packages/pandas/core/groupby.py\", line 720, in _python_apply_general\n",
      "    self.axis)\n",
      "  File \"/home/feiz/miniconda3/envs/analysis_py3/lib/python3.6/site-packages/pandas/core/groupby.py\", line 1713, in apply\n",
      "    values, mutated = splitter.fast_apply(f, group_keys)\n",
      "  File \"/home/feiz/miniconda3/envs/analysis_py3/lib/python3.6/site-packages/pandas/core/groupby.py\", line 4383, in fast_apply\n",
      "    results, mutated = lib.apply_frame_axis0(sdata, f, names, starts, ends)\n",
      "Process ForkPoolWorker-13:\n",
      "  File \"pandas/_libs/src/reduce.pyx\", line 519, in pandas._libs.lib.apply_frame_axis0 (pandas/_libs/lib.c:41912)\n",
      "  File \"<ipython-input-21-6343438f49f9>\", line 2, in rolling_mean\n",
      "    return df.groupby('click_time', sort=False).size().rolling(time_win).mean()\n",
      "  File \"/home/feiz/miniconda3/envs/analysis_py3/lib/python3.6/site-packages/pandas/core/window.py\", line 1228, in mean\n",
      "    return super(Rolling, self).mean(*args, **kwargs)\n",
      "  File \"/home/feiz/miniconda3/envs/analysis_py3/lib/python3.6/site-packages/pandas/core/window.py\", line 891, in mean\n",
      "    return self._apply('roll_mean', 'mean', **kwargs)\n",
      "  File \"/home/feiz/miniconda3/envs/analysis_py3/lib/python3.6/site-packages/pandas/core/window.py\", line 753, in _apply\n",
      "    blocks, obj, index = self._create_blocks(how=how)\n",
      "  File \"/home/feiz/miniconda3/envs/analysis_py3/lib/python3.6/site-packages/pandas/core/window.py\", line 143, in _create_blocks\n",
      "    blocks = obj.as_blocks(copy=False).values()\n",
      "  File \"/home/feiz/miniconda3/envs/analysis_py3/lib/python3.6/site-packages/pandas/core/generic.py\", line 3232, in as_blocks\n",
      "    combined = self._data.combine(blocks, copy=copy)\n",
      "  File \"/home/feiz/miniconda3/envs/analysis_py3/lib/python3.6/site-packages/pandas/core/internals.py\", line 3380, in combine\n",
      "    axes[0] = self.items.take(indexer)\n",
      "  File \"/home/feiz/miniconda3/envs/analysis_py3/lib/python3.6/site-packages/pandas/core/indexes/datetimelike.py\", line 281, in __getitem__\n",
      "    attribs = self._get_attributes_dict()\n",
      "Traceback (most recent call last):\n",
      "  File \"/home/feiz/miniconda3/envs/analysis_py3/lib/python3.6/multiprocessing/process.py\", line 249, in _bootstrap\n",
      "    self.run()\n",
      "  File \"/home/feiz/miniconda3/envs/analysis_py3/lib/python3.6/multiprocessing/process.py\", line 93, in run\n",
      "    self._target(*self._args, **self._kwargs)\n",
      "  File \"/home/feiz/miniconda3/envs/analysis_py3/lib/python3.6/site-packages/pandas/core/indexes/base.py\", line 703, in _get_attributes_dict\n",
      "    return dict([(k, getattr(self, k, None)) for k in self._attributes])\n",
      "  File \"/home/feiz/miniconda3/envs/analysis_py3/lib/python3.6/multiprocessing/pool.py\", line 119, in worker\n",
      "    result = (True, func(*args, **kwds))\n",
      "  File \"<ipython-input-21-6343438f49f9>\", line 5, in get_label_rolling_mean\n",
      "    gp = args[0].groupby(args[1], sort=False).apply(rolling_mean)\n",
      "Traceback (most recent call last):\n",
      "  File \"/home/feiz/miniconda3/envs/analysis_py3/lib/python3.6/site-packages/pandas/core/groupby.py\", line 716, in apply\n",
      "    return self._python_apply_general(f)\n",
      "KeyboardInterrupt\n",
      "  File \"/home/feiz/miniconda3/envs/analysis_py3/lib/python3.6/site-packages/pandas/core/groupby.py\", line 720, in _python_apply_general\n",
      "    self.axis)\n",
      "  File \"/home/feiz/miniconda3/envs/analysis_py3/lib/python3.6/site-packages/pandas/core/groupby.py\", line 1705, in apply\n",
      "    splitter = self._get_splitter(data, axis=axis)\n",
      "  File \"/home/feiz/miniconda3/envs/analysis_py3/lib/python3.6/site-packages/pandas/core/groupby.py\", line 1807, in _get_compressed_labels\n",
      "    all_labels = [ping.labels for ping in self.groupings]\n",
      "  File \"/home/feiz/miniconda3/envs/analysis_py3/lib/python3.6/site-packages/pandas/core/groupby.py\", line 1688, in _get_splitter\n",
      "    comp_ids, _, ngroups = self.group_info\n",
      "  File \"pandas/_libs/src/properties.pyx\", line 34, in pandas._libs.lib.cache_readonly.__get__ (pandas/_libs/lib.c:44442)\n",
      "  File \"/home/feiz/miniconda3/envs/analysis_py3/lib/python3.6/site-packages/pandas/core/groupby.py\", line 1800, in group_info\n",
      "    comp_ids, obs_group_ids = self._get_compressed_labels()\n",
      "  File \"/home/feiz/miniconda3/envs/analysis_py3/lib/python3.6/site-packages/pandas/core/groupby.py\", line 1807, in <listcomp>\n",
      "    all_labels = [ping.labels for ping in self.groupings]\n",
      "  File \"/home/feiz/miniconda3/envs/analysis_py3/lib/python3.6/site-packages/pandas/core/groupby.py\", line 2460, in labels\n",
      "    self._make_labels()\n",
      "  File \"/home/feiz/miniconda3/envs/analysis_py3/lib/python3.6/site-packages/pandas/core/groupby.py\", line 2472, in _make_labels\n",
      "    self.grouper, sort=self.sort)\n",
      "  File \"/home/feiz/miniconda3/envs/analysis_py3/lib/python3.6/site-packages/pandas/core/algorithms.py\", line 555, in factorize\n",
      "    labels = table.get_labels(values, uniques, 0, na_sentinel, check_nulls)\n",
      "  File \"pandas/_libs/hashtable_class_helper.pxi\", line 661, in pandas._libs.hashtable.UInt64HashTable.get_labels (pandas/_libs/hashtable.c:12409)\n",
      "  File \"/home/feiz/miniconda3/envs/analysis_py3/lib/python3.6/site-packages/numpy/core/numeric.py\", line 463, in asarray\n",
      "    def asarray(a, dtype=None, order=None):\n",
      "KeyboardInterrupt\n",
      "  File \"/home/feiz/miniconda3/envs/analysis_py3/lib/python3.6/multiprocessing/process.py\", line 249, in _bootstrap\n",
      "    self.run()\n",
      "  File \"/home/feiz/miniconda3/envs/analysis_py3/lib/python3.6/multiprocessing/process.py\", line 93, in run\n",
      "    self._target(*self._args, **self._kwargs)\n",
      "  File \"/home/feiz/miniconda3/envs/analysis_py3/lib/python3.6/multiprocessing/pool.py\", line 119, in worker\n",
      "    result = (True, func(*args, **kwds))\n",
      "  File \"<ipython-input-21-6343438f49f9>\", line 5, in get_label_rolling_mean\n",
      "    gp = args[0].groupby(args[1], sort=False).apply(rolling_mean)\n",
      "  File \"/home/feiz/miniconda3/envs/analysis_py3/lib/python3.6/site-packages/pandas/core/groupby.py\", line 716, in apply\n",
      "    return self._python_apply_general(f)\n",
      "  File \"/home/feiz/miniconda3/envs/analysis_py3/lib/python3.6/site-packages/pandas/core/groupby.py\", line 720, in _python_apply_general\n",
      "    self.axis)\n",
      "  File \"/home/feiz/miniconda3/envs/analysis_py3/lib/python3.6/site-packages/pandas/core/groupby.py\", line 1713, in apply\n",
      "    values, mutated = splitter.fast_apply(f, group_keys)\n",
      "  File \"/home/feiz/miniconda3/envs/analysis_py3/lib/python3.6/site-packages/pandas/core/groupby.py\", line 4383, in fast_apply\n",
      "    results, mutated = lib.apply_frame_axis0(sdata, f, names, starts, ends)\n",
      "  File \"pandas/_libs/src/reduce.pyx\", line 519, in pandas._libs.lib.apply_frame_axis0 (pandas/_libs/lib.c:41912)\n"
     ]
    },
    {
     "name": "stderr",
     "output_type": "stream",
     "text": [
      "  File \"<ipython-input-21-6343438f49f9>\", line 2, in rolling_mean\n",
      "    return df.groupby('click_time', sort=False).size().rolling(time_win).mean()\n",
      "  File \"/home/feiz/miniconda3/envs/analysis_py3/lib/python3.6/site-packages/pandas/core/groupby.py\", line 1126, in size\n",
      "    result = self.grouper.size()\n",
      "  File \"/home/feiz/miniconda3/envs/analysis_py3/lib/python3.6/site-packages/pandas/core/groupby.py\", line 1764, in size\n",
      "    ids, _, ngroup = self.group_info\n",
      "  File \"pandas/_libs/src/properties.pyx\", line 34, in pandas._libs.lib.cache_readonly.__get__ (pandas/_libs/lib.c:44442)\n",
      "  File \"/home/feiz/miniconda3/envs/analysis_py3/lib/python3.6/site-packages/pandas/core/groupby.py\", line 1800, in group_info\n",
      "    comp_ids, obs_group_ids = self._get_compressed_labels()\n",
      "  File \"/home/feiz/miniconda3/envs/analysis_py3/lib/python3.6/site-packages/pandas/core/groupby.py\", line 1807, in _get_compressed_labels\n",
      "    all_labels = [ping.labels for ping in self.groupings]\n",
      "  File \"/home/feiz/miniconda3/envs/analysis_py3/lib/python3.6/site-packages/pandas/core/groupby.py\", line 1807, in <listcomp>\n",
      "    all_labels = [ping.labels for ping in self.groupings]\n",
      "  File \"/home/feiz/miniconda3/envs/analysis_py3/lib/python3.6/site-packages/pandas/core/groupby.py\", line 2460, in labels\n",
      "    self._make_labels()\n",
      "  File \"/home/feiz/miniconda3/envs/analysis_py3/lib/python3.6/site-packages/pandas/core/groupby.py\", line 2472, in _make_labels\n",
      "    self.grouper, sort=self.sort)\n",
      "  File \"/home/feiz/miniconda3/envs/analysis_py3/lib/python3.6/site-packages/pandas/core/algorithms.py\", line 555, in factorize\n",
      "    labels = table.get_labels(values, uniques, 0, na_sentinel, check_nulls)\n",
      "  File \"pandas/_libs/hashtable_class_helper.pxi\", line 869, in pandas._libs.hashtable.Int64HashTable.get_labels (pandas/_libs/hashtable.c:15606)\n",
      "  File \"/home/feiz/miniconda3/envs/analysis_py3/lib/python3.6/site-packages/numpy/core/numeric.py\", line 463, in asarray\n",
      "    def asarray(a, dtype=None, order=None):\n",
      "KeyboardInterrupt\n",
      "Process ForkPoolWorker-9:\n",
      "Traceback (most recent call last):\n",
      "  File \"/home/feiz/miniconda3/envs/analysis_py3/lib/python3.6/multiprocessing/process.py\", line 249, in _bootstrap\n",
      "    self.run()\n",
      "  File \"/home/feiz/miniconda3/envs/analysis_py3/lib/python3.6/multiprocessing/process.py\", line 93, in run\n",
      "    self._target(*self._args, **self._kwargs)\n",
      "  File \"/home/feiz/miniconda3/envs/analysis_py3/lib/python3.6/multiprocessing/pool.py\", line 119, in worker\n",
      "    result = (True, func(*args, **kwds))\n",
      "  File \"<ipython-input-21-6343438f49f9>\", line 5, in get_label_rolling_mean\n",
      "    gp = args[0].groupby(args[1], sort=False).apply(rolling_mean)\n",
      "  File \"/home/feiz/miniconda3/envs/analysis_py3/lib/python3.6/site-packages/pandas/core/groupby.py\", line 716, in apply\n",
      "    return self._python_apply_general(f)\n",
      "  File \"/home/feiz/miniconda3/envs/analysis_py3/lib/python3.6/site-packages/pandas/core/groupby.py\", line 720, in _python_apply_general\n",
      "    self.axis)\n",
      "  File \"/home/feiz/miniconda3/envs/analysis_py3/lib/python3.6/site-packages/pandas/core/groupby.py\", line 1713, in apply\n",
      "    values, mutated = splitter.fast_apply(f, group_keys)\n",
      "  File \"/home/feiz/miniconda3/envs/analysis_py3/lib/python3.6/site-packages/pandas/core/groupby.py\", line 4383, in fast_apply\n",
      "    results, mutated = lib.apply_frame_axis0(sdata, f, names, starts, ends)\n",
      "  File \"pandas/_libs/src/reduce.pyx\", line 519, in pandas._libs.lib.apply_frame_axis0 (pandas/_libs/lib.c:41912)\n",
      "  File \"<ipython-input-21-6343438f49f9>\", line 2, in rolling_mean\n",
      "    return df.groupby('click_time', sort=False).size().rolling(time_win).mean()\n",
      "  File \"/home/feiz/miniconda3/envs/analysis_py3/lib/python3.6/site-packages/pandas/core/window.py\", line 1228, in mean\n",
      "    return super(Rolling, self).mean(*args, **kwargs)\n",
      "  File \"/home/feiz/miniconda3/envs/analysis_py3/lib/python3.6/site-packages/pandas/core/window.py\", line 891, in mean\n",
      "    return self._apply('roll_mean', 'mean', **kwargs)\n",
      "  File \"/home/feiz/miniconda3/envs/analysis_py3/lib/python3.6/site-packages/pandas/core/window.py\", line 753, in _apply\n",
      "    blocks, obj, index = self._create_blocks(how=how)\n",
      "  File \"/home/feiz/miniconda3/envs/analysis_py3/lib/python3.6/site-packages/pandas/core/window.py\", line 143, in _create_blocks\n",
      "    blocks = obj.as_blocks(copy=False).values()\n",
      "  File \"/home/feiz/miniconda3/envs/analysis_py3/lib/python3.6/site-packages/pandas/core/generic.py\", line 3232, in as_blocks\n",
      "    combined = self._data.combine(blocks, copy=copy)\n",
      "  File \"/home/feiz/miniconda3/envs/analysis_py3/lib/python3.6/site-packages/pandas/core/internals.py\", line 3376, in combine\n",
      "    axis=0, allow_fill=False)\n",
      "  File \"/home/feiz/miniconda3/envs/analysis_py3/lib/python3.6/site-packages/pandas/core/internals.py\", line 225, in mgr_locs\n",
      "    new_mgr_locs = BlockPlacement(new_mgr_locs)\n",
      "  File \"pandas/_libs/lib.pyx\", line 1755, in pandas._libs.lib.BlockPlacement.__init__ (pandas/_libs/lib.c:29027)\n",
      "  File \"/home/feiz/miniconda3/envs/analysis_py3/lib/python3.6/site-packages/numpy/core/numeric.py\", line 729, in require\n",
      "    requirements = set(possible_flags[x.upper()] for x in requirements)\n",
      "KeyboardInterrupt\n",
      "Process ForkPoolWorker-16:\n",
      "Traceback (most recent call last):\n",
      "  File \"/home/feiz/miniconda3/envs/analysis_py3/lib/python3.6/multiprocessing/process.py\", line 249, in _bootstrap\n",
      "    self.run()\n",
      "  File \"/home/feiz/miniconda3/envs/analysis_py3/lib/python3.6/multiprocessing/process.py\", line 93, in run\n",
      "    self._target(*self._args, **self._kwargs)\n",
      "  File \"/home/feiz/miniconda3/envs/analysis_py3/lib/python3.6/multiprocessing/pool.py\", line 119, in worker\n",
      "    result = (True, func(*args, **kwds))\n",
      "  File \"<ipython-input-21-6343438f49f9>\", line 5, in get_label_rolling_mean\n",
      "    gp = args[0].groupby(args[1], sort=False).apply(rolling_mean)\n",
      "  File \"/home/feiz/miniconda3/envs/analysis_py3/lib/python3.6/site-packages/pandas/core/groupby.py\", line 716, in apply\n",
      "    return self._python_apply_general(f)\n",
      "  File \"/home/feiz/miniconda3/envs/analysis_py3/lib/python3.6/site-packages/pandas/core/groupby.py\", line 720, in _python_apply_general\n",
      "    self.axis)\n",
      "  File \"/home/feiz/miniconda3/envs/analysis_py3/lib/python3.6/site-packages/pandas/core/groupby.py\", line 1713, in apply\n",
      "    values, mutated = splitter.fast_apply(f, group_keys)\n",
      "  File \"/home/feiz/miniconda3/envs/analysis_py3/lib/python3.6/site-packages/pandas/core/groupby.py\", line 4382, in fast_apply\n",
      "    sdata = self._get_sorted_data()\n",
      "  File \"/home/feiz/miniconda3/envs/analysis_py3/lib/python3.6/site-packages/pandas/core/groupby.py\", line 4350, in _get_sorted_data\n",
      "    return self.data.take(self.sort_idx, axis=self.axis, convert=False)\n",
      "  File \"/home/feiz/miniconda3/envs/analysis_py3/lib/python3.6/site-packages/pandas/core/generic.py\", line 1817, in take\n",
      "    convert=True, verify=True)\n",
      "  File \"/home/feiz/miniconda3/envs/analysis_py3/lib/python3.6/site-packages/pandas/core/internals.py\", line 4011, in take\n",
      "    axis=axis, allow_dups=True)\n",
      "  File \"/home/feiz/miniconda3/envs/analysis_py3/lib/python3.6/site-packages/pandas/core/internals.py\", line 3897, in reindex_indexer\n",
      "    for blk in self.blocks]\n",
      "  File \"/home/feiz/miniconda3/envs/analysis_py3/lib/python3.6/site-packages/pandas/core/internals.py\", line 3897, in <listcomp>\n",
      "    for blk in self.blocks]\n",
      "  File \"/home/feiz/miniconda3/envs/analysis_py3/lib/python3.6/site-packages/pandas/core/internals.py\", line 1046, in take_nd\n",
      "    allow_fill=True, fill_value=fill_value)\n",
      "  File \"/home/feiz/miniconda3/envs/analysis_py3/lib/python3.6/site-packages/pandas/core/algorithms.py\", line 1466, in take_nd\n",
      "    func(arr, indexer, out, fill_value)\n",
      "  File \"/home/feiz/miniconda3/envs/analysis_py3/lib/python3.6/site-packages/pandas/core/algorithms.py\", line 1365, in func\n",
      "    mask_info=mask_info)\n",
      "  File \"/home/feiz/miniconda3/envs/analysis_py3/lib/python3.6/site-packages/pandas/core/algorithms.py\", line 1222, in _take_nd_object\n",
      "    arr.take(_ensure_platform_int(indexer), axis=axis, out=out)\n",
      "KeyboardInterrupt\n",
      "Process ForkPoolWorker-10:\n",
      "Traceback (most recent call last):\n",
      "KeyboardInterrupt\n",
      "  File \"/home/feiz/miniconda3/envs/analysis_py3/lib/python3.6/multiprocessing/process.py\", line 249, in _bootstrap\n",
      "    self.run()\n",
      "  File \"/home/feiz/miniconda3/envs/analysis_py3/lib/python3.6/multiprocessing/process.py\", line 93, in run\n",
      "    self._target(*self._args, **self._kwargs)\n"
     ]
    },
    {
     "name": "stderr",
     "output_type": "stream",
     "text": [
      "  File \"/home/feiz/miniconda3/envs/analysis_py3/lib/python3.6/multiprocessing/pool.py\", line 119, in worker\n",
      "    result = (True, func(*args, **kwds))\n",
      "  File \"<ipython-input-21-6343438f49f9>\", line 5, in get_label_rolling_mean\n",
      "    gp = args[0].groupby(args[1], sort=False).apply(rolling_mean)\n",
      "  File \"/home/feiz/miniconda3/envs/analysis_py3/lib/python3.6/site-packages/pandas/core/groupby.py\", line 716, in apply\n",
      "    return self._python_apply_general(f)\n",
      "  File \"/home/feiz/miniconda3/envs/analysis_py3/lib/python3.6/site-packages/pandas/core/groupby.py\", line 720, in _python_apply_general\n",
      "    self.axis)\n",
      "  File \"/home/feiz/miniconda3/envs/analysis_py3/lib/python3.6/site-packages/pandas/core/groupby.py\", line 1706, in apply\n",
      "    group_keys = self._get_group_keys()\n",
      "  File \"/home/feiz/miniconda3/envs/analysis_py3/lib/python3.6/site-packages/pandas/core/groupby.py\", line 1701, in _get_group_keys\n",
      "    self.labels)\n",
      "  File \"/home/feiz/miniconda3/envs/analysis_py3/lib/python3.6/site-packages/pandas/core/sorting.py\", line 290, in get_flattened_iterator\n",
      "    return [mapper.get_key(i) for i in range(ngroups)]\n",
      "  File \"/home/feiz/miniconda3/envs/analysis_py3/lib/python3.6/site-packages/pandas/core/sorting.py\", line 290, in <listcomp>\n",
      "    return [mapper.get_key(i) for i in range(ngroups)]\n",
      "  File \"/home/feiz/miniconda3/envs/analysis_py3/lib/python3.6/site-packages/pandas/core/sorting.py\", line 284, in get_key\n",
      "    for table, level in zip(self.tables, self.levels))\n",
      "  File \"/home/feiz/miniconda3/envs/analysis_py3/lib/python3.6/site-packages/pandas/core/sorting.py\", line 284, in <genexpr>\n",
      "    for table, level in zip(self.tables, self.levels))\n"
     ]
    },
    {
     "ename": "KeyboardInterrupt",
     "evalue": "",
     "output_type": "error",
     "traceback": [
      "\u001b[0;31m---------------------------------------------------------------------------\u001b[0m",
      "\u001b[0;31mIndexError\u001b[0m                                Traceback (most recent call last)",
      "\u001b[0;32m~/miniconda3/envs/analysis_py3/lib/python3.6/multiprocessing/pool.py\u001b[0m in \u001b[0;36mnext\u001b[0;34m(self, timeout)\u001b[0m\n\u001b[1;32m    683\u001b[0m             \u001b[0;32mtry\u001b[0m\u001b[0;34m:\u001b[0m\u001b[0;34m\u001b[0m\u001b[0m\n\u001b[0;32m--> 684\u001b[0;31m                 \u001b[0mitem\u001b[0m \u001b[0;34m=\u001b[0m \u001b[0mself\u001b[0m\u001b[0;34m.\u001b[0m\u001b[0m_items\u001b[0m\u001b[0;34m.\u001b[0m\u001b[0mpopleft\u001b[0m\u001b[0;34m(\u001b[0m\u001b[0;34m)\u001b[0m\u001b[0;34m\u001b[0m\u001b[0m\n\u001b[0m\u001b[1;32m    685\u001b[0m             \u001b[0;32mexcept\u001b[0m \u001b[0mIndexError\u001b[0m\u001b[0;34m:\u001b[0m\u001b[0;34m\u001b[0m\u001b[0m\n",
      "\u001b[0;31mIndexError\u001b[0m: pop from an empty deque",
      "\nDuring handling of the above exception, another exception occurred:\n",
      "\u001b[0;31mKeyboardInterrupt\u001b[0m                         Traceback (most recent call last)",
      "\u001b[0;32m<timed exec>\u001b[0m in \u001b[0;36m<module>\u001b[0;34m()\u001b[0m\n",
      "\u001b[0;32m<ipython-input-30-244770604a87>\u001b[0m in \u001b[0;36mprocess\u001b[0;34m(df, all_comb_feats, to_get)\u001b[0m\n\u001b[1;32m     31\u001b[0m         \u001b[0;32melif\u001b[0m \u001b[0mto_get\u001b[0m \u001b[0;34m==\u001b[0m \u001b[0;34m'rolling_mean'\u001b[0m\u001b[0;34m:\u001b[0m\u001b[0;34m\u001b[0m\u001b[0m\n\u001b[1;32m     32\u001b[0m             \u001b[0mprint\u001b[0m\u001b[0;34m(\u001b[0m\u001b[0;34m'Getting rolling mean...'\u001b[0m\u001b[0;34m)\u001b[0m\u001b[0;34m\u001b[0m\u001b[0m\n\u001b[0;32m---> 33\u001b[0;31m             \u001b[0mdf_counts\u001b[0m \u001b[0;34m=\u001b[0m \u001b[0mget_labels\u001b[0m\u001b[0;34m(\u001b[0m\u001b[0mget_label_rolling_mean\u001b[0m\u001b[0;34m,\u001b[0m \u001b[0mall_comb_feats\u001b[0m\u001b[0;34m)\u001b[0m\u001b[0;34m\u001b[0m\u001b[0m\n\u001b[0m\u001b[1;32m     34\u001b[0m         \u001b[0;32melif\u001b[0m \u001b[0mto_get\u001b[0m \u001b[0;34m==\u001b[0m \u001b[0;34m'rolling_std'\u001b[0m\u001b[0;34m:\u001b[0m\u001b[0;34m\u001b[0m\u001b[0m\n\u001b[1;32m     35\u001b[0m             \u001b[0mprint\u001b[0m\u001b[0;34m(\u001b[0m\u001b[0;34m'Getting rolling std...'\u001b[0m\u001b[0;34m)\u001b[0m\u001b[0;34m\u001b[0m\u001b[0m\n",
      "\u001b[0;32m<ipython-input-23-6b8e5e584981>\u001b[0m in \u001b[0;36mget_labels\u001b[0;34m(function, all_comb_feats)\u001b[0m\n\u001b[1;32m      3\u001b[0m     \u001b[0maggs\u001b[0m \u001b[0;34m=\u001b[0m \u001b[0;34m[\u001b[0m\u001b[0;34m]\u001b[0m\u001b[0;34m\u001b[0m\u001b[0m\n\u001b[1;32m      4\u001b[0m     \u001b[0;32mwith\u001b[0m \u001b[0mPool\u001b[0m\u001b[0;34m(\u001b[0m\u001b[0mprocesses\u001b[0m\u001b[0;34m=\u001b[0m\u001b[0;36m8\u001b[0m\u001b[0;34m)\u001b[0m \u001b[0;32mas\u001b[0m \u001b[0mpool\u001b[0m\u001b[0;34m:\u001b[0m\u001b[0;34m\u001b[0m\u001b[0m\n\u001b[0;32m----> 5\u001b[0;31m         \u001b[0;32mfor\u001b[0m \u001b[0mdist\u001b[0m \u001b[0;32min\u001b[0m \u001b[0mpool\u001b[0m\u001b[0;34m.\u001b[0m\u001b[0mimap_unordered\u001b[0m\u001b[0;34m(\u001b[0m\u001b[0mfunction\u001b[0m\u001b[0;34m,\u001b[0m \u001b[0mall_comb_feats\u001b[0m\u001b[0;34m)\u001b[0m\u001b[0;34m:\u001b[0m\u001b[0;34m\u001b[0m\u001b[0m\n\u001b[0m\u001b[1;32m      6\u001b[0m             \u001b[0maggs\u001b[0m\u001b[0;34m.\u001b[0m\u001b[0mappend\u001b[0m\u001b[0;34m(\u001b[0m\u001b[0mdist\u001b[0m\u001b[0;34m.\u001b[0m\u001b[0mcopy\u001b[0m\u001b[0;34m(\u001b[0m\u001b[0;34m)\u001b[0m\u001b[0;34m)\u001b[0m\u001b[0;34m\u001b[0m\u001b[0m\n\u001b[1;32m      7\u001b[0m             \u001b[0mgc\u001b[0m\u001b[0;34m.\u001b[0m\u001b[0mcollect\u001b[0m\u001b[0;34m(\u001b[0m\u001b[0;34m)\u001b[0m\u001b[0;34m\u001b[0m\u001b[0m\n",
      "\u001b[0;32m~/miniconda3/envs/analysis_py3/lib/python3.6/multiprocessing/pool.py\u001b[0m in \u001b[0;36mnext\u001b[0;34m(self, timeout)\u001b[0m\n\u001b[1;32m    686\u001b[0m                 \u001b[0;32mif\u001b[0m \u001b[0mself\u001b[0m\u001b[0;34m.\u001b[0m\u001b[0m_index\u001b[0m \u001b[0;34m==\u001b[0m \u001b[0mself\u001b[0m\u001b[0;34m.\u001b[0m\u001b[0m_length\u001b[0m\u001b[0;34m:\u001b[0m\u001b[0;34m\u001b[0m\u001b[0m\n\u001b[1;32m    687\u001b[0m                     \u001b[0;32mraise\u001b[0m \u001b[0mStopIteration\u001b[0m\u001b[0;34m\u001b[0m\u001b[0m\n\u001b[0;32m--> 688\u001b[0;31m                 \u001b[0mself\u001b[0m\u001b[0;34m.\u001b[0m\u001b[0m_cond\u001b[0m\u001b[0;34m.\u001b[0m\u001b[0mwait\u001b[0m\u001b[0;34m(\u001b[0m\u001b[0mtimeout\u001b[0m\u001b[0;34m)\u001b[0m\u001b[0;34m\u001b[0m\u001b[0m\n\u001b[0m\u001b[1;32m    689\u001b[0m                 \u001b[0;32mtry\u001b[0m\u001b[0;34m:\u001b[0m\u001b[0;34m\u001b[0m\u001b[0m\n\u001b[1;32m    690\u001b[0m                     \u001b[0mitem\u001b[0m \u001b[0;34m=\u001b[0m \u001b[0mself\u001b[0m\u001b[0;34m.\u001b[0m\u001b[0m_items\u001b[0m\u001b[0;34m.\u001b[0m\u001b[0mpopleft\u001b[0m\u001b[0;34m(\u001b[0m\u001b[0;34m)\u001b[0m\u001b[0;34m\u001b[0m\u001b[0m\n",
      "\u001b[0;32m~/miniconda3/envs/analysis_py3/lib/python3.6/threading.py\u001b[0m in \u001b[0;36mwait\u001b[0;34m(self, timeout)\u001b[0m\n\u001b[1;32m    293\u001b[0m         \u001b[0;32mtry\u001b[0m\u001b[0;34m:\u001b[0m    \u001b[0;31m# restore state no matter what (e.g., KeyboardInterrupt)\u001b[0m\u001b[0;34m\u001b[0m\u001b[0m\n\u001b[1;32m    294\u001b[0m             \u001b[0;32mif\u001b[0m \u001b[0mtimeout\u001b[0m \u001b[0;32mis\u001b[0m \u001b[0;32mNone\u001b[0m\u001b[0;34m:\u001b[0m\u001b[0;34m\u001b[0m\u001b[0m\n\u001b[0;32m--> 295\u001b[0;31m                 \u001b[0mwaiter\u001b[0m\u001b[0;34m.\u001b[0m\u001b[0macquire\u001b[0m\u001b[0;34m(\u001b[0m\u001b[0;34m)\u001b[0m\u001b[0;34m\u001b[0m\u001b[0m\n\u001b[0m\u001b[1;32m    296\u001b[0m                 \u001b[0mgotit\u001b[0m \u001b[0;34m=\u001b[0m \u001b[0;32mTrue\u001b[0m\u001b[0;34m\u001b[0m\u001b[0m\n\u001b[1;32m    297\u001b[0m             \u001b[0;32melse\u001b[0m\u001b[0;34m:\u001b[0m\u001b[0;34m\u001b[0m\u001b[0m\n",
      "\u001b[0;31mKeyboardInterrupt\u001b[0m: "
     ]
    }
   ],
   "source": [
    "%%time\n",
    "valid = process(valid, valid_all_comb_feats, to_get)"
   ]
  },
  {
   "cell_type": "code",
   "execution_count": 36,
   "metadata": {},
   "outputs": [
    {
     "name": "stdout",
     "output_type": "stream",
     "text": [
      "CPU times: user 1.65 s, sys: 1.62 s, total: 3.27 s\n",
      "Wall time: 3.28 s\n"
     ]
    }
   ],
   "source": [
    "%%time\n",
    "train.to_hdf(res_hdf_path, key=to_get+'_train', model='r+')"
   ]
  },
  {
   "cell_type": "code",
   "execution_count": 37,
   "metadata": {},
   "outputs": [
    {
     "name": "stdout",
     "output_type": "stream",
     "text": [
      "CPU times: user 1.76 s, sys: 1.61 s, total: 3.36 s\n",
      "Wall time: 3.55 s\n"
     ]
    }
   ],
   "source": [
    "%%time\n",
    "valid.to_hdf(res_hdf_path, key=to_get+'_valid', model='r+')"
   ]
  },
  {
   "cell_type": "code",
   "execution_count": 38,
   "metadata": {},
   "outputs": [
    {
     "data": {
      "text/plain": [
       "0"
      ]
     },
     "execution_count": 38,
     "metadata": {},
     "output_type": "execute_result"
    }
   ],
   "source": [
    "gc.collect()"
   ]
  },
  {
   "cell_type": "code",
   "execution_count": 10,
   "metadata": {
    "collapsed": true
   },
   "outputs": [],
   "source": [
    "train = pd.read_hdf(res_hdf_path, key=to_get+'_train')"
   ]
  },
  {
   "cell_type": "code",
   "execution_count": 11,
   "metadata": {
    "collapsed": true
   },
   "outputs": [],
   "source": [
    "valid = pd.read_hdf(res_hdf_path, key=to_get+'_valid')"
   ]
  },
  {
   "cell_type": "markdown",
   "metadata": {},
   "source": [
    "# Split for training"
   ]
  },
  {
   "cell_type": "code",
   "execution_count": 39,
   "metadata": {},
   "outputs": [
    {
     "data": {
      "text/plain": [
       "0"
      ]
     },
     "execution_count": 39,
     "metadata": {},
     "output_type": "execute_result"
    }
   ],
   "source": [
    "gc.collect()"
   ]
  },
  {
   "cell_type": "code",
   "execution_count": 40,
   "metadata": {
    "collapsed": true
   },
   "outputs": [],
   "source": [
    "train.drop(['ip', 'click_time'], axis=1, inplace=True)"
   ]
  },
  {
   "cell_type": "code",
   "execution_count": 41,
   "metadata": {
    "collapsed": true
   },
   "outputs": [],
   "source": [
    "valid.drop(['ip', 'click_time'], axis=1, inplace=True)"
   ]
  },
  {
   "cell_type": "code",
   "execution_count": 42,
   "metadata": {},
   "outputs": [
    {
     "data": {
      "text/plain": [
       "14"
      ]
     },
     "execution_count": 42,
     "metadata": {},
     "output_type": "execute_result"
    }
   ],
   "source": [
    "gc.collect()"
   ]
  },
  {
   "cell_type": "code",
   "execution_count": 43,
   "metadata": {
    "collapsed": true
   },
   "outputs": [],
   "source": [
    "_, valid = train_test_split(valid, test_size=0.2, stratify=valid.is_attributed)"
   ]
  },
  {
   "cell_type": "code",
   "execution_count": 44,
   "metadata": {},
   "outputs": [
    {
     "data": {
      "text/plain": [
       "(36475438, 14)"
      ]
     },
     "execution_count": 44,
     "metadata": {},
     "output_type": "execute_result"
    }
   ],
   "source": [
    "train.shape"
   ]
  },
  {
   "cell_type": "code",
   "execution_count": 45,
   "metadata": {},
   "outputs": [
    {
     "data": {
      "text/plain": [
       "0    0.997421\n",
       "1    0.002579\n",
       "Name: is_attributed, dtype: float64"
      ]
     },
     "execution_count": 45,
     "metadata": {},
     "output_type": "execute_result"
    }
   ],
   "source": [
    "train.is_attributed.value_counts(normalize=True)"
   ]
  },
  {
   "cell_type": "code",
   "execution_count": 46,
   "metadata": {},
   "outputs": [
    {
     "data": {
      "text/plain": [
       "(7433836, 14)"
      ]
     },
     "execution_count": 46,
     "metadata": {},
     "output_type": "execute_result"
    }
   ],
   "source": [
    "valid.shape"
   ]
  },
  {
   "cell_type": "code",
   "execution_count": 47,
   "metadata": {},
   "outputs": [
    {
     "data": {
      "text/plain": [
       "0    0.997415\n",
       "1    0.002585\n",
       "Name: is_attributed, dtype: float64"
      ]
     },
     "execution_count": 47,
     "metadata": {},
     "output_type": "execute_result"
    }
   ],
   "source": [
    "valid.is_attributed.value_counts(normalize=True)"
   ]
  },
  {
   "cell_type": "markdown",
   "metadata": {},
   "source": [
    "# Light GBM"
   ]
  },
  {
   "cell_type": "code",
   "execution_count": 48,
   "metadata": {},
   "outputs": [
    {
     "data": {
      "text/plain": [
       "Index(['app', 'device', 'os', 'channel', 'is_attributed', 'hour', 'minute',\n",
       "       'in_test_hh', 'day_section', 'app_rolling_mean', 'device_rolling_mean',\n",
       "       'os_rolling_mean', 'channel_rolling_mean', 'ip_rolling_mean'],\n",
       "      dtype='object')"
      ]
     },
     "execution_count": 48,
     "metadata": {},
     "output_type": "execute_result"
    }
   ],
   "source": [
    "train.columns"
   ]
  },
  {
   "cell_type": "code",
   "execution_count": 49,
   "metadata": {
    "collapsed": true
   },
   "outputs": [],
   "source": [
    "target = 'is_attributed'"
   ]
  },
  {
   "cell_type": "code",
   "execution_count": 50,
   "metadata": {
    "collapsed": true
   },
   "outputs": [],
   "source": [
    "predictors = train.columns.tolist()"
   ]
  },
  {
   "cell_type": "code",
   "execution_count": 51,
   "metadata": {
    "collapsed": true
   },
   "outputs": [],
   "source": [
    "predictors.remove(target)"
   ]
  },
  {
   "cell_type": "code",
   "execution_count": 52,
   "metadata": {},
   "outputs": [
    {
     "data": {
      "text/plain": [
       "['app',\n",
       " 'device',\n",
       " 'os',\n",
       " 'channel',\n",
       " 'hour',\n",
       " 'minute',\n",
       " 'in_test_hh',\n",
       " 'day_section',\n",
       " 'app_rolling_mean',\n",
       " 'device_rolling_mean',\n",
       " 'os_rolling_mean',\n",
       " 'channel_rolling_mean',\n",
       " 'ip_rolling_mean']"
      ]
     },
     "execution_count": 52,
     "metadata": {},
     "output_type": "execute_result"
    }
   ],
   "source": [
    "predictors"
   ]
  },
  {
   "cell_type": "code",
   "execution_count": 53,
   "metadata": {
    "collapsed": true
   },
   "outputs": [],
   "source": [
    "categorical = ['app', 'device', 'os', 'channel', 'hour', 'minute', 'in_test_hh', 'day_section']"
   ]
  },
  {
   "cell_type": "code",
   "execution_count": 54,
   "metadata": {},
   "outputs": [
    {
     "data": {
      "text/plain": [
       "20"
      ]
     },
     "execution_count": 54,
     "metadata": {},
     "output_type": "execute_result"
    }
   ],
   "source": [
    "gc.collect()"
   ]
  },
  {
   "cell_type": "code",
   "execution_count": 55,
   "metadata": {
    "collapsed": true
   },
   "outputs": [],
   "source": [
    "params = {\n",
    "    'boosting_type': 'dart',  # I think dart would be better, but takes too long to run\n",
    "    'drop_rate': 0.1,  # Rate at which to drop trees\n",
    "    'objective': 'binary',\n",
    "    'metric': 'auc',\n",
    "    'learning_rate': 0.1,\n",
    "    'num_leaves': 10,  # Was 255: Reduced to control overfitting\n",
    "    'max_depth': -1,  # Was 8: LightGBM splits leaf-wise, so control depth via num_leaves\n",
    "    'min_child_samples': 10,\n",
    "    'max_bin': 100,\n",
    "    'subsample': 0.7,  # Was 0.7\n",
    "    'subsample_freq': 1,\n",
    "    'colsample_bytree': 0.7,\n",
    "    'min_child_weight': 0,\n",
    "    'subsample_for_bin': 200000,\n",
    "    'min_split_gain': 0,\n",
    "    'reg_alpha': 0,\n",
    "    'reg_lambda': 0,\n",
    "    'nthread': 8,\n",
    "    'verbose': 0,\n",
    "    'scale_pos_weight': 200\n",
    "}"
   ]
  },
  {
   "cell_type": "code",
   "execution_count": 56,
   "metadata": {
    "collapsed": true
   },
   "outputs": [],
   "source": [
    "dtrain = lgb.Dataset(\n",
    "    train.loc[:, predictors],\n",
    "    label=train.loc[:, target],\n",
    "    feature_name=predictors,\n",
    "    categorical_feature=categorical\n",
    ")\n",
    "\n",
    "dvalid = lgb.Dataset(\n",
    "    valid.loc[:, predictors],\n",
    "    label=valid.loc[:, target],\n",
    "    feature_name=predictors,\n",
    "    categorical_feature=categorical\n",
    ")"
   ]
  },
  {
   "cell_type": "code",
   "execution_count": 57,
   "metadata": {
    "collapsed": true
   },
   "outputs": [],
   "source": [
    "del train"
   ]
  },
  {
   "cell_type": "code",
   "execution_count": 58,
   "metadata": {
    "collapsed": true
   },
   "outputs": [],
   "source": [
    "del valid"
   ]
  },
  {
   "cell_type": "code",
   "execution_count": 59,
   "metadata": {},
   "outputs": [
    {
     "data": {
      "text/plain": [
       "40"
      ]
     },
     "execution_count": 59,
     "metadata": {},
     "output_type": "execute_result"
    }
   ],
   "source": [
    "gc.collect()"
   ]
  },
  {
   "cell_type": "code",
   "execution_count": 60,
   "metadata": {},
   "outputs": [
    {
     "name": "stderr",
     "output_type": "stream",
     "text": [
      "/home/feiz/miniconda3/envs/analysis_py3/lib/python3.6/site-packages/lightgbm/basic.py:1036: UserWarning: Using categorical_feature in Dataset.\n",
      "  warnings.warn('Using categorical_feature in Dataset.')\n",
      "/home/feiz/miniconda3/envs/analysis_py3/lib/python3.6/site-packages/lightgbm/basic.py:681: UserWarning: categorical_feature in param dict is overrided.\n",
      "  warnings.warn('categorical_feature in param dict is overrided.')\n"
     ]
    },
    {
     "name": "stdout",
     "output_type": "stream",
     "text": [
      "Training until validation scores don't improve for 50 rounds.\n",
      "[10]\ttrain's auc: 0.962929\tvalid's auc: 0.949707\n",
      "[20]\ttrain's auc: 0.967621\tvalid's auc: 0.953299\n",
      "[30]\ttrain's auc: 0.969822\tvalid's auc: 0.955643\n",
      "[40]\ttrain's auc: 0.971145\tvalid's auc: 0.956978\n",
      "[50]\ttrain's auc: 0.971719\tvalid's auc: 0.957234\n",
      "[60]\ttrain's auc: 0.972168\tvalid's auc: 0.957728\n",
      "[70]\ttrain's auc: 0.972398\tvalid's auc: 0.957835\n",
      "[80]\ttrain's auc: 0.972676\tvalid's auc: 0.95822\n"
     ]
    },
    {
     "ename": "KeyboardInterrupt",
     "evalue": "",
     "output_type": "error",
     "traceback": [
      "\u001b[0;31m---------------------------------------------------------------------------\u001b[0m",
      "\u001b[0;31mKeyboardInterrupt\u001b[0m                         Traceback (most recent call last)",
      "\u001b[0;32m<timed exec>\u001b[0m in \u001b[0;36m<module>\u001b[0;34m()\u001b[0m\n",
      "\u001b[0;32m~/miniconda3/envs/analysis_py3/lib/python3.6/site-packages/lightgbm/engine.py\u001b[0m in \u001b[0;36mtrain\u001b[0;34m(params, train_set, num_boost_round, valid_sets, valid_names, fobj, feval, init_model, feature_name, categorical_feature, early_stopping_rounds, evals_result, verbose_eval, learning_rates, keep_training_booster, callbacks)\u001b[0m\n\u001b[1;32m    199\u001b[0m                                     evaluation_result_list=None))\n\u001b[1;32m    200\u001b[0m \u001b[0;34m\u001b[0m\u001b[0m\n\u001b[0;32m--> 201\u001b[0;31m         \u001b[0mbooster\u001b[0m\u001b[0;34m.\u001b[0m\u001b[0mupdate\u001b[0m\u001b[0;34m(\u001b[0m\u001b[0mfobj\u001b[0m\u001b[0;34m=\u001b[0m\u001b[0mfobj\u001b[0m\u001b[0;34m)\u001b[0m\u001b[0;34m\u001b[0m\u001b[0m\n\u001b[0m\u001b[1;32m    202\u001b[0m \u001b[0;34m\u001b[0m\u001b[0m\n\u001b[1;32m    203\u001b[0m         \u001b[0mevaluation_result_list\u001b[0m \u001b[0;34m=\u001b[0m \u001b[0;34m[\u001b[0m\u001b[0;34m]\u001b[0m\u001b[0;34m\u001b[0m\u001b[0m\n",
      "\u001b[0;32m~/miniconda3/envs/analysis_py3/lib/python3.6/site-packages/lightgbm/basic.py\u001b[0m in \u001b[0;36mupdate\u001b[0;34m(self, train_set, fobj)\u001b[0m\n\u001b[1;32m   1519\u001b[0m             _safe_call(_LIB.LGBM_BoosterUpdateOneIter(\n\u001b[1;32m   1520\u001b[0m                 \u001b[0mself\u001b[0m\u001b[0;34m.\u001b[0m\u001b[0mhandle\u001b[0m\u001b[0;34m,\u001b[0m\u001b[0;34m\u001b[0m\u001b[0m\n\u001b[0;32m-> 1521\u001b[0;31m                 ctypes.byref(is_finished)))\n\u001b[0m\u001b[1;32m   1522\u001b[0m             \u001b[0mself\u001b[0m\u001b[0;34m.\u001b[0m\u001b[0m__is_predicted_cur_iter\u001b[0m \u001b[0;34m=\u001b[0m \u001b[0;34m[\u001b[0m\u001b[0;32mFalse\u001b[0m \u001b[0;32mfor\u001b[0m \u001b[0m_\u001b[0m \u001b[0;32min\u001b[0m \u001b[0mrange_\u001b[0m\u001b[0;34m(\u001b[0m\u001b[0mself\u001b[0m\u001b[0;34m.\u001b[0m\u001b[0m__num_dataset\u001b[0m\u001b[0;34m)\u001b[0m\u001b[0;34m]\u001b[0m\u001b[0;34m\u001b[0m\u001b[0m\n\u001b[1;32m   1523\u001b[0m             \u001b[0;32mreturn\u001b[0m \u001b[0mis_finished\u001b[0m\u001b[0;34m.\u001b[0m\u001b[0mvalue\u001b[0m \u001b[0;34m==\u001b[0m \u001b[0;36m1\u001b[0m\u001b[0;34m\u001b[0m\u001b[0m\n",
      "\u001b[0;31mKeyboardInterrupt\u001b[0m: "
     ]
    }
   ],
   "source": [
    "%%time\n",
    "evals_results = {}\n",
    "lgb_model = lgb.train(\n",
    "    params, \n",
    "    dtrain, \n",
    "    valid_sets= [dtrain, dvalid], \n",
    "    valid_names=['train', 'valid'], \n",
    "    evals_result=evals_results, \n",
    "    num_boost_round=1000,\n",
    "    early_stopping_rounds=50,\n",
    "    verbose_eval=10, \n",
    "    feval=None\n",
    ")"
   ]
  },
  {
   "cell_type": "code",
   "execution_count": 61,
   "metadata": {},
   "outputs": [
    {
     "ename": "NameError",
     "evalue": "name 'lgb_model' is not defined",
     "output_type": "error",
     "traceback": [
      "\u001b[0;31m---------------------------------------------------------------------------\u001b[0m",
      "\u001b[0;31mNameError\u001b[0m                                 Traceback (most recent call last)",
      "\u001b[0;32m<ipython-input-61-391015bbcd14>\u001b[0m in \u001b[0;36m<module>\u001b[0;34m()\u001b[0m\n\u001b[1;32m      1\u001b[0m \u001b[0mf\u001b[0m\u001b[0;34m,\u001b[0m \u001b[0max\u001b[0m \u001b[0;34m=\u001b[0m \u001b[0mplt\u001b[0m\u001b[0;34m.\u001b[0m\u001b[0msubplots\u001b[0m\u001b[0;34m(\u001b[0m\u001b[0mfigsize\u001b[0m\u001b[0;34m=\u001b[0m\u001b[0;34m[\u001b[0m\u001b[0;36m7\u001b[0m\u001b[0;34m,\u001b[0m\u001b[0;36m10\u001b[0m\u001b[0;34m]\u001b[0m\u001b[0;34m)\u001b[0m\u001b[0;34m\u001b[0m\u001b[0m\n\u001b[0;32m----> 2\u001b[0;31m \u001b[0mlgb\u001b[0m\u001b[0;34m.\u001b[0m\u001b[0mplot_importance\u001b[0m\u001b[0;34m(\u001b[0m\u001b[0mlgb_model\u001b[0m\u001b[0;34m,\u001b[0m \u001b[0max\u001b[0m\u001b[0;34m=\u001b[0m\u001b[0max\u001b[0m\u001b[0;34m,\u001b[0m \u001b[0mmax_num_features\u001b[0m\u001b[0;34m=\u001b[0m\u001b[0mlen\u001b[0m\u001b[0;34m(\u001b[0m\u001b[0mpredictors\u001b[0m\u001b[0;34m)\u001b[0m\u001b[0;34m)\u001b[0m\u001b[0;34m\u001b[0m\u001b[0m\n\u001b[0m",
      "\u001b[0;31mNameError\u001b[0m: name 'lgb_model' is not defined"
     ]
    },
    {
     "data": {
      "image/png": "[encoded data removed]",
      "text/plain": [
       "<matplotlib.figure.Figure at 0x7f98e287c390>"
      ]
     },
     "metadata": {},
     "output_type": "display_data"
    }
   ],
   "source": [
    "f, ax = plt.subplots(figsize=[7,10])\n",
    "lgb.plot_importance(lgb_model, ax=ax, max_num_features=len(predictors))"
   ]
  },
  {
   "cell_type": "code",
   "execution_count": null,
   "metadata": {
    "collapsed": true
   },
   "outputs": [],
   "source": [
    "import pickle"
   ]
  },
  {
   "cell_type": "code",
   "execution_count": null,
   "metadata": {
    "collapsed": true
   },
   "outputs": [],
   "source": [
    "with open('../results/{}.pickle'.format(to_get), 'wb') as f:\n",
    "    pickle.dump(lgb_model, f)"
   ]
  },
  {
   "cell_type": "markdown",
   "metadata": {
    "collapsed": true
   },
   "source": [
    "# Create submission"
   ]
  },
  {
   "cell_type": "code",
   "execution_count": null,
   "metadata": {
    "collapsed": true
   },
   "outputs": [],
   "source": [
    "test = pd.read_hdf(hdf_path, key='test')"
   ]
  },
  {
   "cell_type": "code",
   "execution_count": null,
   "metadata": {
    "collapsed": true
   },
   "outputs": [],
   "source": [
    "test.head()"
   ]
  },
  {
   "cell_type": "code",
   "execution_count": null,
   "metadata": {
    "collapsed": true
   },
   "outputs": [],
   "source": [
    "test_all_comb_feats =[(test, comb_feat) for comb_feat in all_comb_feats]"
   ]
  },
  {
   "cell_type": "code",
   "execution_count": null,
   "metadata": {
    "collapsed": true
   },
   "outputs": [],
   "source": [
    "test = process(test, test_all_comb_feats, to_get)"
   ]
  },
  {
   "cell_type": "code",
   "execution_count": null,
   "metadata": {
    "collapsed": true
   },
   "outputs": [],
   "source": [
    "test.head()"
   ]
  },
  {
   "cell_type": "code",
   "execution_count": null,
   "metadata": {
    "collapsed": true
   },
   "outputs": [],
   "source": [
    "pred = lgb_model.predict(test.loc[:, predictors], num_iteration=lgb_model.best_iteration)"
   ]
  },
  {
   "cell_type": "code",
   "execution_count": null,
   "metadata": {
    "collapsed": true
   },
   "outputs": [],
   "source": [
    "test.loc[:, 'is_attributed'] = pred"
   ]
  },
  {
   "cell_type": "code",
   "execution_count": null,
   "metadata": {
    "collapsed": true
   },
   "outputs": [],
   "source": [
    "test.loc[:, ['click_id', 'is_attributed']].to_csv('../results/{}.csv'.format(to_get), index=False)"
   ]
  },
  {
   "cell_type": "code",
   "execution_count": null,
   "metadata": {
    "collapsed": true
   },
   "outputs": [],
   "source": [
    "test.loc[:, ['click_id', 'is_attributed']].head()"
   ]
  },
  {
   "cell_type": "code",
   "execution_count": null,
   "metadata": {
    "collapsed": true
   },
   "outputs": [],
   "source": []
  }
 ],
 "metadata": {
  "kernelspec": {
   "display_name": "Python 3",
   "language": "python",
   "name": "python3"
  },
  "language_info": {
   "codemirror_mode": {
    "name": "ipython",
    "version": 3
   },
   "file_extension": ".py",
   "mimetype": "text/x-python",
   "name": "python",
   "nbconvert_exporter": "python",
   "pygments_lexer": "ipython3",
   "version": "3.6.1"
  }
 },
 "nbformat": 4,
 "nbformat_minor": 2
}
