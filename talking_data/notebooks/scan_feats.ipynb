{
 "cells": [
  {
   "cell_type": "code",
   "execution_count": 1,
   "metadata": {
    "collapsed": true
   },
   "outputs": [],
   "source": [
    "%matplotlib inline\n",
    "import numpy as np\n",
    "import pandas as pd\n",
    "import gc\n",
    "import lightgbm as lgb\n",
    "from sklearn.metrics import precision_score, recall_score, roc_auc_score\n",
    "import matplotlib.pyplot as plt\n",
    "from itertools import combinations\n",
    "from sklearn.model_selection import train_test_split\n",
    "import pickle\n",
    "from multiprocessing import Pool\n",
    "from tqdm import tqdm"
   ]
  },
  {
   "cell_type": "markdown",
   "metadata": {},
   "source": [
    "# Prepare data\n",
    "\n",
    "* Attributed rate: how attribution is distributed in combinations\n",
    "* Click counts: how clicks are distributed in combinations\n",
    "* Rolling click counts: how clicks are distributed in combinations in sliding windows"
   ]
  },
  {
   "cell_type": "code",
   "execution_count": 2,
   "metadata": {
    "collapsed": true
   },
   "outputs": [],
   "source": [
    "hdf_path = '../derived_data/source.hdf'"
   ]
  },
  {
   "cell_type": "code",
   "execution_count": 3,
   "metadata": {
    "collapsed": true
   },
   "outputs": [],
   "source": [
    "res_hdf_path = '../derived_data/feats_pile.hdf'"
   ]
  },
  {
   "cell_type": "code",
   "execution_count": 4,
   "metadata": {},
   "outputs": [
    {
     "name": "stdout",
     "output_type": "stream",
     "text": [
      "CPU times: user 348 ms, sys: 4.56 s, total: 4.9 s\n",
      "Wall time: 19.9 s\n"
     ]
    }
   ],
   "source": [
    "%%time\n",
    "dat = pd.read_hdf(hdf_path, key='train')"
   ]
  },
  {
   "cell_type": "code",
   "execution_count": 5,
   "metadata": {},
   "outputs": [
    {
     "data": {
      "text/html": [
       "<div>\n",
       "<style>\n",
       "    .dataframe thead tr:only-child th {\n",
       "        text-align: right;\n",
       "    }\n",
       "\n",
       "    .dataframe thead th {\n",
       "        text-align: left;\n",
       "    }\n",
       "\n",
       "    .dataframe tbody tr th {\n",
       "        vertical-align: top;\n",
       "    }\n",
       "</style>\n",
       "<table border=\"1\" class=\"dataframe\">\n",
       "  <thead>\n",
       "    <tr style=\"text-align: right;\">\n",
       "      <th></th>\n",
       "      <th>ip</th>\n",
       "      <th>app</th>\n",
       "      <th>device</th>\n",
       "      <th>os</th>\n",
       "      <th>channel</th>\n",
       "      <th>click_time</th>\n",
       "      <th>is_attributed</th>\n",
       "    </tr>\n",
       "  </thead>\n",
       "  <tbody>\n",
       "    <tr>\n",
       "      <th>0</th>\n",
       "      <td>83230</td>\n",
       "      <td>3</td>\n",
       "      <td>1</td>\n",
       "      <td>13</td>\n",
       "      <td>379</td>\n",
       "      <td>2017-11-06 14:32:21</td>\n",
       "      <td>0</td>\n",
       "    </tr>\n",
       "    <tr>\n",
       "      <th>1</th>\n",
       "      <td>17357</td>\n",
       "      <td>3</td>\n",
       "      <td>1</td>\n",
       "      <td>19</td>\n",
       "      <td>379</td>\n",
       "      <td>2017-11-06 14:33:34</td>\n",
       "      <td>0</td>\n",
       "    </tr>\n",
       "    <tr>\n",
       "      <th>2</th>\n",
       "      <td>35810</td>\n",
       "      <td>3</td>\n",
       "      <td>1</td>\n",
       "      <td>13</td>\n",
       "      <td>379</td>\n",
       "      <td>2017-11-06 14:34:12</td>\n",
       "      <td>0</td>\n",
       "    </tr>\n",
       "    <tr>\n",
       "      <th>3</th>\n",
       "      <td>45745</td>\n",
       "      <td>14</td>\n",
       "      <td>1</td>\n",
       "      <td>13</td>\n",
       "      <td>478</td>\n",
       "      <td>2017-11-06 14:34:52</td>\n",
       "      <td>0</td>\n",
       "    </tr>\n",
       "    <tr>\n",
       "      <th>4</th>\n",
       "      <td>161007</td>\n",
       "      <td>3</td>\n",
       "      <td>1</td>\n",
       "      <td>13</td>\n",
       "      <td>379</td>\n",
       "      <td>2017-11-06 14:35:08</td>\n",
       "      <td>0</td>\n",
       "    </tr>\n",
       "  </tbody>\n",
       "</table>\n",
       "</div>"
      ],
      "text/plain": [
       "       ip  app  device  os  channel          click_time  is_attributed\n",
       "0   83230    3       1  13      379 2017-11-06 14:32:21              0\n",
       "1   17357    3       1  19      379 2017-11-06 14:33:34              0\n",
       "2   35810    3       1  13      379 2017-11-06 14:34:12              0\n",
       "3   45745   14       1  13      478 2017-11-06 14:34:52              0\n",
       "4  161007    3       1  13      379 2017-11-06 14:35:08              0"
      ]
     },
     "execution_count": 5,
     "metadata": {},
     "output_type": "execute_result"
    }
   ],
   "source": [
    "dat.head()"
   ]
  },
  {
   "cell_type": "code",
   "execution_count": 6,
   "metadata": {
    "collapsed": true
   },
   "outputs": [],
   "source": [
    "train = dat.loc[(dat.click_time >= '2017-11-08 04:00:00') & (dat.click_time < '2017-11-08 15:00:00')].copy()"
   ]
  },
  {
   "cell_type": "code",
   "execution_count": 7,
   "metadata": {
    "collapsed": true
   },
   "outputs": [],
   "source": [
    "valid = dat.loc[(dat.click_time >= '2017-11-09 04:00:00') & (dat.click_time < '2017-11-09 15:00:00')].copy()"
   ]
  },
  {
   "cell_type": "code",
   "execution_count": 8,
   "metadata": {
    "collapsed": true
   },
   "outputs": [],
   "source": [
    "del dat"
   ]
  },
  {
   "cell_type": "code",
   "execution_count": 9,
   "metadata": {},
   "outputs": [
    {
     "data": {
      "text/plain": [
       "69"
      ]
     },
     "execution_count": 9,
     "metadata": {},
     "output_type": "execute_result"
    }
   ],
   "source": [
    "gc.collect()"
   ]
  },
  {
   "cell_type": "code",
   "execution_count": 10,
   "metadata": {
    "collapsed": true
   },
   "outputs": [],
   "source": [
    "most_freq_hours_in_test_data = [4, 5, 9, 10, 13, 14]\n",
    "least_freq_hours_in_test_data = [6, 11, 15]"
   ]
  },
  {
   "cell_type": "code",
   "execution_count": 11,
   "metadata": {
    "collapsed": true
   },
   "outputs": [],
   "source": [
    "feats2comb = ['ip', 'app', 'device', 'os', 'channel']"
   ]
  },
  {
   "cell_type": "code",
   "execution_count": 12,
   "metadata": {
    "collapsed": true
   },
   "outputs": [],
   "source": [
    "def get_all_comb_feats(feats2comb, n=None):\n",
    "    if n is None:\n",
    "        n = len(feats2comb)\n",
    "    res = []\n",
    "    for i in range(n):\n",
    "        for comb_feats in combinations(feats2comb, i+1):\n",
    "            res.append(list(comb_feats))\n",
    "    return res"
   ]
  },
  {
   "cell_type": "code",
   "execution_count": 33,
   "metadata": {
    "collapsed": true
   },
   "outputs": [],
   "source": [
    "uint8_max = np.iinfo(np.uint8).max\n",
    "uint16_max = np.iinfo(np.uint16).max\n",
    "uint32_max = np.iinfo(np.uint32).max\n",
    "int8_max = np.iinfo(np.int8).max\n",
    "int16_max = np.iinfo(np.int16).max\n",
    "int32_max = np.iinfo(np.int32).max\n",
    "def choose_uint_type(n):\n",
    "    if n <= uint8_max:\n",
    "        return 'uint8'\n",
    "    elif n <= uint16_max:\n",
    "        return 'uint16'\n",
    "    elif n <= uint32_max:\n",
    "        return 'uint32'\n",
    "    else:\n",
    "        return 'uint64'\n",
    "def choose_int_type(n):\n",
    "    if n <= int8_max:\n",
    "        return 'int8'\n",
    "    elif n <= int16_max:\n",
    "        return 'int16'\n",
    "    elif n <= int32_max:\n",
    "        return 'int32'\n",
    "    else:\n",
    "        return 'int64'"
   ]
  },
  {
   "cell_type": "code",
   "execution_count": 34,
   "metadata": {
    "collapsed": true
   },
   "outputs": [],
   "source": [
    "def get_next_click(args):\n",
    "    click_cols = args[1]\n",
    "    df = args[0]\n",
    "    gp = df.groupby(click_cols)\n",
    "    next_click_col = 'nextclick_{}'.format('_'.join(click_cols))\n",
    "    nextnext_click_col = 'nextnextclick_{}'.format('_'.join(click_cols))\n",
    "    next_click = (gp['epochtime'].shift(-1) - df.epochtime).fillna(-1)\n",
    "    next_click = next_click.astype(choose_int_type(next_click.max()))\n",
    "    next_click.name = next_click_col\n",
    "    next_click = next_click.to_frame()\n",
    "    nextnext_click = (gp['epochtime'].shift(-2) - df.epochtime).fillna(-1)\n",
    "    nextnext_click = nextnext_click.astype(choose_int_type(nextnext_click.max()))\n",
    "    nextnext_click.name = nextnext_click_col\n",
    "    nextnext_click = nextnext_click.to_frame()\n",
    "    res = pd.concat([next_click, nextnext_click], axis=1)\n",
    "    del gp\n",
    "    del next_click\n",
    "    del nextnext_click\n",
    "    gc.collect()\n",
    "    return res"
   ]
  },
  {
   "cell_type": "code",
   "execution_count": null,
   "metadata": {
    "collapsed": true
   },
   "outputs": [],
   "source": [
    "def get_label_count(args):\n",
    "    gp = args[0].groupby(args[1], sort=False).size()\n",
    "    gp = gp.astype(choose_int_type(gp.max()))\n",
    "    gp = gp.to_frame().rename(columns={0: 'n_' + '_'.join(args[1]) + '_count'})\n",
    "    gc.collect()\n",
    "    return gp"
   ]
  },
  {
   "cell_type": "code",
   "execution_count": null,
   "metadata": {
    "collapsed": true
   },
   "outputs": [],
   "source": [
    "def get_label_cumcount(args):\n",
    "    gp = args[0].groupby(args[1], sort=False).cumcount()\n",
    "    gp = gp.astype(choose_int_type(gp.max()))\n",
    "    gp = gp.to_frame().rename(columns={0: 'n_' + '_'.join(args[1]) + '_cumcount'})\n",
    "    gc.collect()\n",
    "    return gp"
   ]
  },
  {
   "cell_type": "code",
   "execution_count": null,
   "metadata": {
    "collapsed": true
   },
   "outputs": [],
   "source": [
    "time_win = '15min'"
   ]
  },
  {
   "cell_type": "code",
   "execution_count": null,
   "metadata": {
    "collapsed": true
   },
   "outputs": [],
   "source": [
    "def rolling_sum(df):\n",
    "    return df.groupby('click_time', sort=False).size().rolling(time_win).sum()\n",
    "\n",
    "def get_label_rolling_sum(args):\n",
    "    gp = args[0].groupby(args[1], sort=False).apply(rolling_sum)\n",
    "    gp = gp.astype(choose_int_type(gp.max()))\n",
    "    gp = gp.to_frame().rename(columns={0: '_'.join(args[1]) + '_rolling_sum'})\n",
    "    gc.collect()\n",
    "    return gp"
   ]
  },
  {
   "cell_type": "code",
   "execution_count": null,
   "metadata": {
    "collapsed": true
   },
   "outputs": [],
   "source": [
    "def rolling_count(df):\n",
    "    return df.groupby('click_time', sort=False).size().rolling(time_win).count()\n",
    "\n",
    "def get_label_rolling_count(args):\n",
    "    gp = args[0].groupby(args[1], sort=False).apply(rolling_count)\n",
    "    gp = gp.astype(choose_int_type(gp.max()))\n",
    "    gp = gp.to_frame().rename(columns={0: '_'.join(args[1]) + '_rolling_count'})\n",
    "    gc.collect()\n",
    "    return gp"
   ]
  },
  {
   "cell_type": "code",
   "execution_count": null,
   "metadata": {
    "collapsed": true
   },
   "outputs": [],
   "source": [
    "def rolling_max(df):\n",
    "    return df.groupby('click_time', sort=False).size().rolling(time_win).max()\n",
    "\n",
    "def get_label_rolling_max(args):\n",
    "    gp = args[0].groupby(args[1], sort=False).apply(rolling_max)\n",
    "    gp = gp.astype(choose_int_type(gp.max()))\n",
    "    gp = gp.to_frame().rename(columns={0: '_'.join(args[1]) + '_rolling_max'})\n",
    "    gc.collect()\n",
    "    return gp"
   ]
  },
  {
   "cell_type": "code",
   "execution_count": null,
   "metadata": {
    "collapsed": true
   },
   "outputs": [],
   "source": [
    "def rolling_min(df):\n",
    "    return df.groupby('click_time', sort=False).size().rolling(time_win).min()\n",
    "\n",
    "def get_label_rolling_min(args):\n",
    "    gp = args[0].groupby(args[1], sort=False).apply(rolling_min)\n",
    "    gp = gp.astype(choose_int_type(gp.min()))\n",
    "    gp = gp.to_frame().rename(columns={0: '_'.join(args[1]) + '_rolling_min'})\n",
    "    gc.collect()\n",
    "    return gp"
   ]
  },
  {
   "cell_type": "code",
   "execution_count": null,
   "metadata": {
    "collapsed": true
   },
   "outputs": [],
   "source": [
    "def rolling_mean(df):\n",
    "    return df.groupby('click_time', sort=False).size().rolling(time_win).mean()\n",
    "\n",
    "def get_label_rolling_mean(args):\n",
    "    gp = args[0].groupby(args[1], sort=False).apply(rolling_mean)\n",
    "    gp = gp.astype('float16')\n",
    "    gp = gp.to_frame().rename(columns={0: '_'.join(args[1]) + '_rolling_mean'})\n",
    "    gc.collect()\n",
    "    return gp"
   ]
  },
  {
   "cell_type": "code",
   "execution_count": null,
   "metadata": {
    "collapsed": true
   },
   "outputs": [],
   "source": [
    "def rolling_std(df):\n",
    "    return df.groupby('click_time', sort=False).size().rolling(time_win).std()\n",
    "\n",
    "def get_label_rolling_std(args):\n",
    "    gp = args[0].groupby(args[1], sort=False).apply(rolling_std)\n",
    "    gp = gp.fillna(-1)\n",
    "    gp = gp.astype('float16')\n",
    "    gp = gp.to_frame().rename(columns={0: '_'.join(args[1]) + '_rolling_std'})\n",
    "    gc.collect()\n",
    "    return gp"
   ]
  },
  {
   "cell_type": "code",
   "execution_count": null,
   "metadata": {
    "collapsed": true
   },
   "outputs": [],
   "source": [
    "def get_nunique(array):\n",
    "    return len(np.unique(array))\n",
    "\n",
    "def get_label_rolling_nunique(args):\n",
    "    df = args[0].loc[:, ['click_time']].copy()\n",
    "    comb_colname = 'nunique_{}'.format('_'.join(args[1]))\n",
    "    if len(args[1]) == 1:\n",
    "        df.loc[:, comb_colname] = args[0].loc[:, args[1][0]]\n",
    "    else:\n",
    "        df.loc[:, comb_colname] = ''\n",
    "        for colname in args[1]:\n",
    "            df.loc[:, comb_colname] += '_' + args[0].loc[:, colname].astype(str)\n",
    "    gc.collect()\n",
    "    return df.rolling(time_win, on='click_time').apply(get_nunique)"
   ]
  },
  {
   "cell_type": "code",
   "execution_count": 25,
   "metadata": {
    "collapsed": true
   },
   "outputs": [],
   "source": [
    "def get_entropy(array):\n",
    "    values, counts = np.unique(array, return_counts=True)\n",
    "    prob = counts / len(array)\n",
    "    return - (prob * np.log(prob)).sum()\n",
    "\n",
    "def get_label_rolling_entropy(args):\n",
    "    df = args[0].loc[:, ['click_time']].copy()\n",
    "    comb_colname = 'entropy_{}'.format('_'.join(args[1]))\n",
    "    if len(args[1]) == 1:\n",
    "        df.loc[:, comb_colname] = args[0].loc[:, args[1][0]]\n",
    "    else:\n",
    "        df.loc[:, comb_colname] = ''\n",
    "        for colname in args[1]:\n",
    "            df.loc[:, comb_colname] += '_' + args[0].loc[:, colname].astype(str)\n",
    "    gc.collect()\n",
    "    return df.rolling(time_win, on='click_time').apply(get_entropy)"
   ]
  },
  {
   "cell_type": "code",
   "execution_count": 26,
   "metadata": {
    "collapsed": true
   },
   "outputs": [],
   "source": [
    "def get_frequency(array):\n",
    "    return (array == array[-1]).sum()\n",
    "\n",
    "def get_label_rolling_frequency(args):\n",
    "    df = args[0].loc[:, ['click_time']].copy()\n",
    "    comb_colname = 'freq_{}'.format('_'.join(args[1]))\n",
    "    if len(args[1]) == 1:\n",
    "        df.loc[:, comb_colname] = args[0].loc[:, args[1][0]]\n",
    "    else:\n",
    "        df.loc[:, comb_colname] = ''\n",
    "        for colname in args[1]:\n",
    "            df.loc[:, comb_colname] += '_' + args[0].loc[:, colname].astype(str)\n",
    "    gc.collect()\n",
    "    return df.rolling(time_win, on='click_time').apply(get_frequency)"
   ]
  },
  {
   "cell_type": "code",
   "execution_count": 27,
   "metadata": {
    "collapsed": true
   },
   "outputs": [],
   "source": [
    "def get_probability(array):\n",
    "    values, counts = np.unique(array, return_counts=True)\n",
    "    prob = counts / len(array)\n",
    "    return prob[values == array[-1]]\n",
    "\n",
    "def get_label_rolling_frequency(args):\n",
    "    df = args[0].loc[:, ['click_time']].copy()\n",
    "    comb_colname = 'freq_{}'.format('_'.join(args[1]))\n",
    "    if len(args[1]) == 1:\n",
    "        df.loc[:, comb_colname] = args[0].loc[:, args[1][0]]\n",
    "    else:\n",
    "        df.loc[:, comb_colname] = ''\n",
    "        for colname in args[1]:\n",
    "            df.loc[:, comb_colname] += '_' + args[0].loc[:, colname].astype(str)\n",
    "    gc.collect()\n",
    "    return df.rolling(time_win, on='click_time').apply(get_probability)"
   ]
  },
  {
   "cell_type": "code",
   "execution_count": 15,
   "metadata": {
    "collapsed": true
   },
   "outputs": [],
   "source": [
    "def get_labels(function, all_comb_feats):\n",
    "    print(pd.datetime.now())\n",
    "    aggs = []\n",
    "    with Pool(processes=4) as pool:\n",
    "        for dist in pool.imap_unordered(function, all_comb_feats):\n",
    "            aggs.append(dist.copy())\n",
    "            gc.collect()\n",
    "    return aggs"
   ]
  },
  {
   "cell_type": "code",
   "execution_count": 16,
   "metadata": {
    "collapsed": true
   },
   "outputs": [],
   "source": [
    "def merge(df, dists):\n",
    "    for dist in tqdm(dists):\n",
    "        df = df.merge(dist, left_on=dist.index.names, right_index=True, how='left')\n",
    "        gc.collect()\n",
    "    return df"
   ]
  },
  {
   "cell_type": "code",
   "execution_count": 16,
   "metadata": {
    "collapsed": true
   },
   "outputs": [],
   "source": [
    "def cummerge(df, dists):\n",
    "    for dist in tqdm(dists):\n",
    "        df = df.merge(dist, left_index=True, right_index=True, how='left')\n",
    "        del dist\n",
    "        gc.collect()\n",
    "    return df"
   ]
  },
  {
   "cell_type": "code",
   "execution_count": 17,
   "metadata": {
    "collapsed": true
   },
   "outputs": [],
   "source": [
    "all_comb_feats = get_all_comb_feats(feats2comb, 5)"
   ]
  },
  {
   "cell_type": "code",
   "execution_count": 18,
   "metadata": {},
   "outputs": [
    {
     "data": {
      "text/plain": [
       "31"
      ]
     },
     "execution_count": 18,
     "metadata": {},
     "output_type": "execute_result"
    }
   ],
   "source": [
    "len(all_comb_feats)"
   ]
  },
  {
   "cell_type": "code",
   "execution_count": 19,
   "metadata": {
    "collapsed": true
   },
   "outputs": [],
   "source": [
    "train_all_comb_feats =[(train, comb_feat) for comb_feat in all_comb_feats]\n",
    "                  # [['hour'] + comb_feat for comb_feat in all_comb_feats] +\n",
    "                  # [['minute'] + comb_feat for comb_feat in all_comb_feats] +\n",
    "                  # [['day_section'] + comb_feat for comb_feat in all_comb_feats] +\n",
    "                  # [['in_test_hh', 'day_section'] + comb_feat for comb_feat in all_comb_feats])"
   ]
  },
  {
   "cell_type": "code",
   "execution_count": 20,
   "metadata": {
    "collapsed": true
   },
   "outputs": [],
   "source": [
    "valid_all_comb_feats =[(valid, comb_feat) for comb_feat in all_comb_feats]"
   ]
  },
  {
   "cell_type": "code",
   "execution_count": 21,
   "metadata": {
    "collapsed": true
   },
   "outputs": [],
   "source": [
    "def process(df, all_comb_feats, to_get):\n",
    "    print('Adding hour...')\n",
    "    df.loc[:, 'hour'] = df.click_time.dt.hour.astype('uint8')\n",
    "    print('Adding minute...')\n",
    "    df.loc[:, 'minute'] = df.hour.astype('uint16') * 60 + df.click_time.dt.minute.astype('uint16')\n",
    "    print('Adding in_test_hh')\n",
    "    df.loc[:, 'in_test_hh'] = (\n",
    "        3 - 2*df.hour.isin(most_freq_hours_in_test_data) -\n",
    "        1*df.hour.isin(least_freq_hours_in_test_data)\n",
    "    ).astype('uint8')\n",
    "    print('Adding day_section...')\n",
    "    df.loc[:, 'day_section'] = (df.hour // 6).astype('uint8')\n",
    "    df.loc[:, 'epochtime'] = df.click_time.astype(np.int64) / 1e9\n",
    "    \n",
    "    if isinstance(to_get, str):\n",
    "        to_get = [to_get]\n",
    "    cumset = {'cumcount', 'rolling_nunique', 'rolling_entropy',\n",
    "              'rolling_frequency', 'rolling_probability',\n",
    "              'next_click'}\n",
    "    normset = {'count', 'rolling_count', 'rolling_sum',\n",
    "               'rolling_max', 'rolling_min', 'rolling_mean',\n",
    "               'rolling_std'}\n",
    "    cum_toget = cumset & set(to_get)\n",
    "    norm_toget = normset & set(to_get)\n",
    "    if len(cum_toget) > 0:\n",
    "        df_counts = []\n",
    "        if 'cumcount' in cum_toget:\n",
    "            print('Getting cummulative counts...')\n",
    "            df_counts += get_labels(get_label_cumcount, all_comb_feats)\n",
    "        if 'rolling_nunique' in cum_toget:\n",
    "            print('Getting rolling  nunique...')\n",
    "            df_counts += get_labels(get_label_rolling_nunique, all_comb_feats)\n",
    "        if 'rolling_entropy' in cum_toget:\n",
    "            print('Getting rolling entropy...')\n",
    "            df_counts += get_labels(get_label_rolling_entropy, all_comb_feats)\n",
    "        if 'rolling_frequency' in cum_toget:\n",
    "            print('Getting rolling frequency...')\n",
    "            df_counts += get_labels(get_label_rolling_frequency, all_comb_feats)\n",
    "        if 'rolling_probability' in cum_toget:\n",
    "            print('Getting rolling probability...')\n",
    "            df_counts += get_labels(get_label_rolling_probability, all_comb_feats)\n",
    "        if 'next_click' in cum_toget:\n",
    "            print('Getting next click...')\n",
    "            df_counts += get_labels(get_next_click, all_comb_feats) \n",
    "        print('Concat...')\n",
    "        df = cummerge(df, df_counts)\n",
    "    elif len(normset) > 0:\n",
    "        df_counts = []\n",
    "        if 'count' in normset:\n",
    "            print('Getting count...')\n",
    "            df_counts += get_labels(get_label_count, all_comb_feats)\n",
    "        if 'rolling_count'  in normset:\n",
    "            print('Getting rolling count...')\n",
    "            df_counts += get_labels(get_label_rolling_count, all_comb_feats)\n",
    "        if 'rolling_sum' in normset:\n",
    "            print('Getting rolling sum...')\n",
    "            df_counts += get_labels(get_label_rolling_sum, all_comb_feats)\n",
    "        if 'rolling_max' in normset:\n",
    "            print('Getting rolling max...')\n",
    "            df_counts += get_labels(get_label_rolling_max, all_comb_feats)\n",
    "        if 'rolling_min' in normset:\n",
    "            print('Getting rolling min...')\n",
    "            df_counts += get_labels(get_label_rolling_min, all_comb_feats)\n",
    "        if 'rolling_mean' in normset:\n",
    "            print('Getting rolling mean...')\n",
    "            df_counts += get_labels(get_label_rolling_mean, all_comb_feats)\n",
    "        if 'rolling_std' in normset:\n",
    "            print('Getting rolling std...')\n",
    "            df_counts += get_labels(get_label_rolling_std, all_comb_feats)\n",
    "        print('Merging...')\n",
    "        df = merge(df, df_counts)\n",
    "    \n",
    "    gc.collect()\n",
    "    return df"
   ]
  },
  {
   "cell_type": "code",
   "execution_count": 22,
   "metadata": {
    "collapsed": true
   },
   "outputs": [],
   "source": [
    "to_get = ['next_click']"
   ]
  },
  {
   "cell_type": "code",
   "execution_count": 23,
   "metadata": {
    "collapsed": true
   },
   "outputs": [],
   "source": [
    "train_all_comb_feats = [comb for comb in train_all_comb_feats if 'ip' in comb[1]]\n",
    "valid_all_comb_feats = [comb for comb in valid_all_comb_feats if 'ip' in comb[1]]"
   ]
  },
  {
   "cell_type": "code",
   "execution_count": 24,
   "metadata": {},
   "outputs": [
    {
     "data": {
      "text/plain": [
       "16"
      ]
     },
     "execution_count": 24,
     "metadata": {},
     "output_type": "execute_result"
    }
   ],
   "source": [
    "len(train_all_comb_feats)"
   ]
  },
  {
   "cell_type": "code",
   "execution_count": 25,
   "metadata": {},
   "outputs": [
    {
     "data": {
      "text/plain": [
       "16"
      ]
     },
     "execution_count": 25,
     "metadata": {},
     "output_type": "execute_result"
    }
   ],
   "source": [
    "len(valid_all_comb_feats)"
   ]
  },
  {
   "cell_type": "code",
   "execution_count": 26,
   "metadata": {},
   "outputs": [
    {
     "name": "stdout",
     "output_type": "stream",
     "text": [
      "Adding hour...\n",
      "Adding minute...\n",
      "Adding in_test_hh\n",
      "Adding day_section...\n",
      "Getting next click...\n",
      "2018-04-23 13:49:28.779178\n"
     ]
    },
    {
     "name": "stderr",
     "output_type": "stream",
     "text": [
      "\r",
      "  0%|          | 0/16 [00:00<?, ?it/s]"
     ]
    },
    {
     "name": "stdout",
     "output_type": "stream",
     "text": [
      "Concat...\n"
     ]
    },
    {
     "name": "stderr",
     "output_type": "stream",
     "text": [
      "100%|██████████| 16/16 [04:20<00:00, 25.35s/it]"
     ]
    },
    {
     "name": "stdout",
     "output_type": "stream",
     "text": [
      "CPU times: user 1min 40s, sys: 1min 48s, total: 3min 29s\n",
      "Wall time: 7min 20s\n"
     ]
    },
    {
     "name": "stderr",
     "output_type": "stream",
     "text": [
      "\n"
     ]
    }
   ],
   "source": [
    "%%time\n",
    "train = process(train, train_all_comb_feats, to_get)"
   ]
  },
  {
   "cell_type": "code",
   "execution_count": 29,
   "metadata": {},
   "outputs": [
    {
     "data": {
      "text/plain": [
       "0"
      ]
     },
     "execution_count": 29,
     "metadata": {},
     "output_type": "execute_result"
    }
   ],
   "source": [
    "gc.collect()"
   ]
  },
  {
   "cell_type": "code",
   "execution_count": 27,
   "metadata": {},
   "outputs": [],
   "source": [
    "train.drop(['ip', 'click_time', 'epochtime'], axis=1, inplace=True)"
   ]
  },
  {
   "cell_type": "code",
   "execution_count": 28,
   "metadata": {},
   "outputs": [
    {
     "data": {
      "text/plain": [
       "119"
      ]
     },
     "execution_count": 28,
     "metadata": {},
     "output_type": "execute_result"
    }
   ],
   "source": [
    "gc.collect()"
   ]
  },
  {
   "cell_type": "code",
   "execution_count": 35,
   "metadata": {},
   "outputs": [
    {
     "name": "stdout",
     "output_type": "stream",
     "text": [
      "Adding hour...\n",
      "Adding minute...\n",
      "Adding in_test_hh\n",
      "Adding day_section...\n",
      "Getting next click...\n",
      "2018-04-23 14:00:47.449359\n"
     ]
    },
    {
     "name": "stderr",
     "output_type": "stream",
     "text": [
      "\r",
      "  0%|          | 0/16 [00:00<?, ?it/s]"
     ]
    },
    {
     "name": "stdout",
     "output_type": "stream",
     "text": [
      "Concat...\n"
     ]
    },
    {
     "name": "stderr",
     "output_type": "stream",
     "text": [
      "100%|██████████| 16/16 [01:41<00:00, 10.77s/it]"
     ]
    },
    {
     "name": "stdout",
     "output_type": "stream",
     "text": [
      "CPU times: user 1min 15s, sys: 1min 14s, total: 2min 29s\n",
      "Wall time: 4min 39s\n"
     ]
    },
    {
     "name": "stderr",
     "output_type": "stream",
     "text": [
      "\n"
     ]
    }
   ],
   "source": [
    "%%time\n",
    "valid = process(valid, valid_all_comb_feats, to_get)"
   ]
  },
  {
   "cell_type": "code",
   "execution_count": 38,
   "metadata": {},
   "outputs": [
    {
     "data": {
      "text/plain": [
       "0"
      ]
     },
     "execution_count": 38,
     "metadata": {},
     "output_type": "execute_result"
    }
   ],
   "source": [
    "gc.collect()"
   ]
  },
  {
   "cell_type": "code",
   "execution_count": 39,
   "metadata": {
    "collapsed": true
   },
   "outputs": [],
   "source": [
    "valid.drop(['ip', 'click_time', 'epochtime'], axis=1, inplace=True)"
   ]
  },
  {
   "cell_type": "code",
   "execution_count": 41,
   "metadata": {},
   "outputs": [
    {
     "data": {
      "text/plain": [
       "0"
      ]
     },
     "execution_count": 41,
     "metadata": {},
     "output_type": "execute_result"
    }
   ],
   "source": [
    "gc.collect()"
   ]
  },
  {
   "cell_type": "code",
   "execution_count": 36,
   "metadata": {},
   "outputs": [
    {
     "name": "stdout",
     "output_type": "stream",
     "text": [
      "CPU times: user 1.65 s, sys: 1.62 s, total: 3.27 s\n",
      "Wall time: 3.28 s\n"
     ]
    }
   ],
   "source": [
    "%%time\n",
    "train.to_hdf(res_hdf_path, key=to_get+'_train', model='r+')"
   ]
  },
  {
   "cell_type": "code",
   "execution_count": 37,
   "metadata": {},
   "outputs": [
    {
     "name": "stdout",
     "output_type": "stream",
     "text": [
      "CPU times: user 1.76 s, sys: 1.61 s, total: 3.36 s\n",
      "Wall time: 3.55 s\n"
     ]
    }
   ],
   "source": [
    "%%time\n",
    "valid.to_hdf(res_hdf_path, key=to_get+'_valid', model='r+')"
   ]
  },
  {
   "cell_type": "code",
   "execution_count": 38,
   "metadata": {},
   "outputs": [
    {
     "data": {
      "text/plain": [
       "0"
      ]
     },
     "execution_count": 38,
     "metadata": {},
     "output_type": "execute_result"
    }
   ],
   "source": [
    "gc.collect()"
   ]
  },
  {
   "cell_type": "code",
   "execution_count": 10,
   "metadata": {
    "collapsed": true
   },
   "outputs": [],
   "source": [
    "train = pd.read_hdf(res_hdf_path, key=to_get+'_train')"
   ]
  },
  {
   "cell_type": "code",
   "execution_count": 11,
   "metadata": {
    "collapsed": true
   },
   "outputs": [],
   "source": [
    "valid = pd.read_hdf(res_hdf_path, key=to_get+'_valid')"
   ]
  },
  {
   "cell_type": "markdown",
   "metadata": {},
   "source": [
    "# Split for training"
   ]
  },
  {
   "cell_type": "code",
   "execution_count": 25,
   "metadata": {},
   "outputs": [
    {
     "data": {
      "text/plain": [
       "9"
      ]
     },
     "execution_count": 25,
     "metadata": {},
     "output_type": "execute_result"
    }
   ],
   "source": [
    "gc.collect()"
   ]
  },
  {
   "cell_type": "code",
   "execution_count": 28,
   "metadata": {},
   "outputs": [
    {
     "data": {
      "text/plain": [
       "14"
      ]
     },
     "execution_count": 28,
     "metadata": {},
     "output_type": "execute_result"
    }
   ],
   "source": [
    "gc.collect()"
   ]
  },
  {
   "cell_type": "code",
   "execution_count": 44,
   "metadata": {
    "collapsed": true
   },
   "outputs": [],
   "source": [
    "_, valid = train_test_split(valid, test_size=0.2, stratify=valid.is_attributed)"
   ]
  },
  {
   "cell_type": "code",
   "execution_count": 45,
   "metadata": {},
   "outputs": [
    {
     "data": {
      "text/plain": [
       "(36475438, 41)"
      ]
     },
     "execution_count": 45,
     "metadata": {},
     "output_type": "execute_result"
    }
   ],
   "source": [
    "train.shape"
   ]
  },
  {
   "cell_type": "code",
   "execution_count": 46,
   "metadata": {},
   "outputs": [
    {
     "data": {
      "text/plain": [
       "0    0.997421\n",
       "1    0.002579\n",
       "Name: is_attributed, dtype: float64"
      ]
     },
     "execution_count": 46,
     "metadata": {},
     "output_type": "execute_result"
    }
   ],
   "source": [
    "train.is_attributed.value_counts(normalize=True)"
   ]
  },
  {
   "cell_type": "code",
   "execution_count": 47,
   "metadata": {},
   "outputs": [
    {
     "data": {
      "text/plain": [
       "(7433836, 41)"
      ]
     },
     "execution_count": 47,
     "metadata": {},
     "output_type": "execute_result"
    }
   ],
   "source": [
    "valid.shape"
   ]
  },
  {
   "cell_type": "code",
   "execution_count": 48,
   "metadata": {},
   "outputs": [
    {
     "data": {
      "text/plain": [
       "0    0.997415\n",
       "1    0.002585\n",
       "Name: is_attributed, dtype: float64"
      ]
     },
     "execution_count": 48,
     "metadata": {},
     "output_type": "execute_result"
    }
   ],
   "source": [
    "valid.is_attributed.value_counts(normalize=True)"
   ]
  },
  {
   "cell_type": "markdown",
   "metadata": {},
   "source": [
    "# Light GBM"
   ]
  },
  {
   "cell_type": "code",
   "execution_count": 49,
   "metadata": {},
   "outputs": [
    {
     "data": {
      "text/plain": [
       "124"
      ]
     },
     "execution_count": 49,
     "metadata": {},
     "output_type": "execute_result"
    }
   ],
   "source": [
    "gc.collect()"
   ]
  },
  {
   "cell_type": "code",
   "execution_count": 50,
   "metadata": {},
   "outputs": [
    {
     "data": {
      "text/plain": [
       "Index(['app', 'device', 'os', 'channel', 'is_attributed', 'hour', 'minute',\n",
       "       'in_test_hh', 'day_section', 'nextclick_ip', 'nextnextclick_ip',\n",
       "       'nextclick_ip_device', 'nextnextclick_ip_device', 'nextclick_ip_app',\n",
       "       'nextnextclick_ip_app', 'nextclick_ip_os', 'nextnextclick_ip_os',\n",
       "       'nextclick_ip_channel', 'nextnextclick_ip_channel',\n",
       "       'nextclick_ip_app_device', 'nextnextclick_ip_app_device',\n",
       "       'nextclick_ip_app_os', 'nextnextclick_ip_app_os',\n",
       "       'nextclick_ip_device_os', 'nextnextclick_ip_device_os',\n",
       "       'nextclick_ip_app_channel', 'nextnextclick_ip_app_channel',\n",
       "       'nextclick_ip_device_channel', 'nextnextclick_ip_device_channel',\n",
       "       'nextclick_ip_os_channel', 'nextnextclick_ip_os_channel',\n",
       "       'nextclick_ip_app_device_channel',\n",
       "       'nextnextclick_ip_app_device_channel', 'nextclick_ip_app_device_os',\n",
       "       'nextnextclick_ip_app_device_os', 'nextclick_ip_app_os_channel',\n",
       "       'nextnextclick_ip_app_os_channel', 'nextclick_ip_device_os_channel',\n",
       "       'nextnextclick_ip_device_os_channel',\n",
       "       'nextclick_ip_app_device_os_channel',\n",
       "       'nextnextclick_ip_app_device_os_channel'],\n",
       "      dtype='object')"
      ]
     },
     "execution_count": 50,
     "metadata": {},
     "output_type": "execute_result"
    }
   ],
   "source": [
    "train.columns"
   ]
  },
  {
   "cell_type": "code",
   "execution_count": 51,
   "metadata": {
    "collapsed": true
   },
   "outputs": [],
   "source": [
    "target = 'is_attributed'"
   ]
  },
  {
   "cell_type": "code",
   "execution_count": 52,
   "metadata": {
    "collapsed": true
   },
   "outputs": [],
   "source": [
    "predictors = train.columns.tolist()"
   ]
  },
  {
   "cell_type": "code",
   "execution_count": 53,
   "metadata": {
    "collapsed": true
   },
   "outputs": [],
   "source": [
    "predictors.remove(target)"
   ]
  },
  {
   "cell_type": "code",
   "execution_count": 54,
   "metadata": {},
   "outputs": [
    {
     "data": {
      "text/plain": [
       "['app',\n",
       " 'device',\n",
       " 'os',\n",
       " 'channel',\n",
       " 'hour',\n",
       " 'minute',\n",
       " 'in_test_hh',\n",
       " 'day_section',\n",
       " 'nextclick_ip',\n",
       " 'nextnextclick_ip',\n",
       " 'nextclick_ip_device',\n",
       " 'nextnextclick_ip_device',\n",
       " 'nextclick_ip_app',\n",
       " 'nextnextclick_ip_app',\n",
       " 'nextclick_ip_os',\n",
       " 'nextnextclick_ip_os',\n",
       " 'nextclick_ip_channel',\n",
       " 'nextnextclick_ip_channel',\n",
       " 'nextclick_ip_app_device',\n",
       " 'nextnextclick_ip_app_device',\n",
       " 'nextclick_ip_app_os',\n",
       " 'nextnextclick_ip_app_os',\n",
       " 'nextclick_ip_device_os',\n",
       " 'nextnextclick_ip_device_os',\n",
       " 'nextclick_ip_app_channel',\n",
       " 'nextnextclick_ip_app_channel',\n",
       " 'nextclick_ip_device_channel',\n",
       " 'nextnextclick_ip_device_channel',\n",
       " 'nextclick_ip_os_channel',\n",
       " 'nextnextclick_ip_os_channel',\n",
       " 'nextclick_ip_app_device_channel',\n",
       " 'nextnextclick_ip_app_device_channel',\n",
       " 'nextclick_ip_app_device_os',\n",
       " 'nextnextclick_ip_app_device_os',\n",
       " 'nextclick_ip_app_os_channel',\n",
       " 'nextnextclick_ip_app_os_channel',\n",
       " 'nextclick_ip_device_os_channel',\n",
       " 'nextnextclick_ip_device_os_channel',\n",
       " 'nextclick_ip_app_device_os_channel',\n",
       " 'nextnextclick_ip_app_device_os_channel']"
      ]
     },
     "execution_count": 54,
     "metadata": {},
     "output_type": "execute_result"
    }
   ],
   "source": [
    "predictors"
   ]
  },
  {
   "cell_type": "code",
   "execution_count": 55,
   "metadata": {
    "collapsed": true
   },
   "outputs": [],
   "source": [
    "categorical = ['app', 'device', 'os', 'channel', 'hour', 'minute', 'in_test_hh', 'day_section']"
   ]
  },
  {
   "cell_type": "code",
   "execution_count": 56,
   "metadata": {},
   "outputs": [
    {
     "data": {
      "text/plain": [
       "0"
      ]
     },
     "execution_count": 56,
     "metadata": {},
     "output_type": "execute_result"
    }
   ],
   "source": [
    "gc.collect()"
   ]
  },
  {
   "cell_type": "code",
   "execution_count": 57,
   "metadata": {
    "collapsed": true
   },
   "outputs": [],
   "source": [
    "params = {\n",
    "    'boosting_type': 'dart',  # I think dart would be better, but takes too long to run\n",
    "    'drop_rate': 0.1,  # Rate at which to drop trees\n",
    "    'objective': 'binary',\n",
    "    'metric': 'auc',\n",
    "    'learning_rate': 0.1,\n",
    "    'num_leaves': 10,  # Was 255: Reduced to control overfitting Try increasing this\n",
    "    'max_depth': -1,  # Was 8: LightGBM splits leaf-wise, so control depth via num_leaves\n",
    "    'min_child_samples': 10, # try increasing this\n",
    "    'max_bin': 100, # try increasing this\n",
    "    'subsample': 0.7,  # Was 0.7 # try decreasing this\n",
    "    'subsample_freq': 1, # try 0\n",
    "    'colsample_bytree': 0.7, # try decreasing\n",
    "    'min_child_weight': 0, # try increasing\n",
    "    'subsample_for_bin': 200000,\n",
    "    'min_split_gain': 0,\n",
    "    'reg_alpha': 0,\n",
    "    'reg_lambda': 0,\n",
    "    'nthread': 8,\n",
    "    'verbose': 0,\n",
    "    'scale_pos_weight': 200\n",
    "}"
   ]
  },
  {
   "cell_type": "code",
   "execution_count": 58,
   "metadata": {
    "collapsed": true
   },
   "outputs": [],
   "source": [
    "dtrain = lgb.Dataset(\n",
    "    train.loc[:, predictors],\n",
    "    label=train.loc[:, target],\n",
    "    feature_name=predictors,\n",
    "    categorical_feature=categorical\n",
    ")\n",
    "\n",
    "dvalid = lgb.Dataset(\n",
    "    valid.loc[:, predictors],\n",
    "    label=valid.loc[:, target],\n",
    "    feature_name=predictors,\n",
    "    categorical_feature=categorical\n",
    ")"
   ]
  },
  {
   "cell_type": "code",
   "execution_count": 59,
   "metadata": {
    "collapsed": true
   },
   "outputs": [],
   "source": [
    "del train"
   ]
  },
  {
   "cell_type": "code",
   "execution_count": 60,
   "metadata": {
    "collapsed": true
   },
   "outputs": [],
   "source": [
    "del valid"
   ]
  },
  {
   "cell_type": "code",
   "execution_count": 62,
   "metadata": {},
   "outputs": [
    {
     "data": {
      "text/plain": [
       "0"
      ]
     },
     "execution_count": 62,
     "metadata": {},
     "output_type": "execute_result"
    }
   ],
   "source": [
    "gc.collect()"
   ]
  },
  {
   "cell_type": "code",
   "execution_count": 63,
   "metadata": {},
   "outputs": [
    {
     "name": "stderr",
     "output_type": "stream",
     "text": [
      "/home/feiz/miniconda3/envs/analysis_py3/lib/python3.6/site-packages/lightgbm/basic.py:1036: UserWarning: Using categorical_feature in Dataset.\n",
      "  warnings.warn('Using categorical_feature in Dataset.')\n",
      "/home/feiz/miniconda3/envs/analysis_py3/lib/python3.6/site-packages/lightgbm/basic.py:681: UserWarning: categorical_feature in param dict is overrided.\n",
      "  warnings.warn('categorical_feature in param dict is overrided.')\n"
     ]
    },
    {
     "name": "stdout",
     "output_type": "stream",
     "text": [
      "Training until validation scores don't improve for 50 rounds.\n",
      "[10]\ttrain's auc: 0.968274\tvalid's auc: 0.955206\n",
      "[20]\ttrain's auc: 0.971515\tvalid's auc: 0.958996\n",
      "[30]\ttrain's auc: 0.975121\tvalid's auc: 0.964352\n",
      "[40]\ttrain's auc: 0.976489\tvalid's auc: 0.966193\n",
      "[50]\ttrain's auc: 0.977209\tvalid's auc: 0.967419\n",
      "[60]\ttrain's auc: 0.977631\tvalid's auc: 0.967692\n",
      "[70]\ttrain's auc: 0.978172\tvalid's auc: 0.968748\n",
      "[80]\ttrain's auc: 0.978537\tvalid's auc: 0.969553\n",
      "[90]\ttrain's auc: 0.978774\tvalid's auc: 0.969795\n",
      "[100]\ttrain's auc: 0.978915\tvalid's auc: 0.969678\n",
      "[110]\ttrain's auc: 0.978978\tvalid's auc: 0.969968\n",
      "[120]\ttrain's auc: 0.979379\tvalid's auc: 0.970582\n",
      "[130]\ttrain's auc: 0.9796\tvalid's auc: 0.970644\n",
      "[140]\ttrain's auc: 0.979883\tvalid's auc: 0.970842\n",
      "[150]\ttrain's auc: 0.980194\tvalid's auc: 0.971132\n",
      "[160]\ttrain's auc: 0.980247\tvalid's auc: 0.971324\n",
      "[170]\ttrain's auc: 0.980621\tvalid's auc: 0.971559\n",
      "[180]\ttrain's auc: 0.981041\tvalid's auc: 0.97195\n",
      "[190]\ttrain's auc: 0.98172\tvalid's auc: 0.972699\n",
      "[200]\ttrain's auc: 0.982014\tvalid's auc: 0.972972\n",
      "[210]\ttrain's auc: 0.982132\tvalid's auc: 0.97297\n",
      "[220]\ttrain's auc: 0.98245\tvalid's auc: 0.973227\n",
      "[230]\ttrain's auc: 0.98258\tvalid's auc: 0.97335\n",
      "[240]\ttrain's auc: 0.982987\tvalid's auc: 0.973695\n",
      "[250]\ttrain's auc: 0.983152\tvalid's auc: 0.973774\n",
      "[260]\ttrain's auc: 0.983477\tvalid's auc: 0.973868\n",
      "[270]\ttrain's auc: 0.983767\tvalid's auc: 0.974173\n",
      "[280]\ttrain's auc: 0.983946\tvalid's auc: 0.974172\n",
      "[290]\ttrain's auc: 0.984302\tvalid's auc: 0.974354\n",
      "[300]\ttrain's auc: 0.984388\tvalid's auc: 0.974278\n",
      "[310]\ttrain's auc: 0.984389\tvalid's auc: 0.974295\n",
      "[320]\ttrain's auc: 0.98463\tvalid's auc: 0.974322\n",
      "[330]\ttrain's auc: 0.984695\tvalid's auc: 0.974279\n",
      "[340]\ttrain's auc: 0.984729\tvalid's auc: 0.974406\n",
      "[350]\ttrain's auc: 0.9849\tvalid's auc: 0.974252\n",
      "[360]\ttrain's auc: 0.98515\tvalid's auc: 0.97431\n",
      "[370]\ttrain's auc: 0.985252\tvalid's auc: 0.974382\n",
      "[380]\ttrain's auc: 0.985423\tvalid's auc: 0.97433\n",
      "Early stopping, best iteration is:\n",
      "[338]\ttrain's auc: 0.984743\tvalid's auc: 0.974416\n",
      "CPU times: user 8h 52min 33s, sys: 1h 15min 19s, total: 10h 7min 53s\n",
      "Wall time: 1h 33min 20s\n"
     ]
    }
   ],
   "source": [
    "%%time\n",
    "evals_results = {}\n",
    "lgb_model = lgb.train(\n",
    "    params, \n",
    "    dtrain, \n",
    "    valid_sets= [dtrain, dvalid], \n",
    "    valid_names=['train', 'valid'], \n",
    "    evals_result=evals_results, \n",
    "    num_boost_round=1000,\n",
    "    early_stopping_rounds=50,\n",
    "    verbose_eval=10, \n",
    "    feval=None\n",
    ")"
   ]
  },
  {
   "cell_type": "code",
   "execution_count": 64,
   "metadata": {},
   "outputs": [
    {
     "data": {
      "text/plain": [
       "<matplotlib.axes._subplots.AxesSubplot at 0x7f6938c607f0>"
      ]
     },
     "execution_count": 64,
     "metadata": {},
     "output_type": "execute_result"
    },
    {
     "data": {
      "image/png": "[encoded data removed]",
      "text/plain": [
       "<matplotlib.figure.Figure at 0x7f6938c30438>"
      ]
     },
     "metadata": {},
     "output_type": "display_data"
    }
   ],
   "source": [
    "f, ax = plt.subplots(figsize=[7,10])\n",
    "lgb.plot_importance(lgb_model, ax=ax, max_num_features=len(predictors))"
   ]
  },
  {
   "cell_type": "code",
   "execution_count": 65,
   "metadata": {
    "collapsed": true
   },
   "outputs": [],
   "source": [
    "import pickle"
   ]
  },
  {
   "cell_type": "code",
   "execution_count": 66,
   "metadata": {
    "collapsed": true
   },
   "outputs": [],
   "source": [
    "with open('../results/{}.pickle'.format(to_get), 'wb') as f:\n",
    "    pickle.dump(lgb_model, f)"
   ]
  },
  {
   "cell_type": "markdown",
   "metadata": {
    "collapsed": true
   },
   "source": [
    "# Create submission"
   ]
  },
  {
   "cell_type": "code",
   "execution_count": 67,
   "metadata": {
    "collapsed": true
   },
   "outputs": [],
   "source": [
    "test = pd.read_hdf(hdf_path, key='test')"
   ]
  },
  {
   "cell_type": "code",
   "execution_count": 68,
   "metadata": {},
   "outputs": [
    {
     "data": {
      "text/html": [
       "<div>\n",
       "<style>\n",
       "    .dataframe thead tr:only-child th {\n",
       "        text-align: right;\n",
       "    }\n",
       "\n",
       "    .dataframe thead th {\n",
       "        text-align: left;\n",
       "    }\n",
       "\n",
       "    .dataframe tbody tr th {\n",
       "        vertical-align: top;\n",
       "    }\n",
       "</style>\n",
       "<table border=\"1\" class=\"dataframe\">\n",
       "  <thead>\n",
       "    <tr style=\"text-align: right;\">\n",
       "      <th></th>\n",
       "      <th>click_id</th>\n",
       "      <th>ip</th>\n",
       "      <th>app</th>\n",
       "      <th>device</th>\n",
       "      <th>os</th>\n",
       "      <th>channel</th>\n",
       "      <th>click_time</th>\n",
       "    </tr>\n",
       "  </thead>\n",
       "  <tbody>\n",
       "    <tr>\n",
       "      <th>0</th>\n",
       "      <td>0</td>\n",
       "      <td>5744</td>\n",
       "      <td>9</td>\n",
       "      <td>1</td>\n",
       "      <td>3</td>\n",
       "      <td>107</td>\n",
       "      <td>2017-11-10 04:00:00</td>\n",
       "    </tr>\n",
       "    <tr>\n",
       "      <th>1</th>\n",
       "      <td>1</td>\n",
       "      <td>119901</td>\n",
       "      <td>9</td>\n",
       "      <td>1</td>\n",
       "      <td>3</td>\n",
       "      <td>466</td>\n",
       "      <td>2017-11-10 04:00:00</td>\n",
       "    </tr>\n",
       "    <tr>\n",
       "      <th>2</th>\n",
       "      <td>2</td>\n",
       "      <td>72287</td>\n",
       "      <td>21</td>\n",
       "      <td>1</td>\n",
       "      <td>19</td>\n",
       "      <td>128</td>\n",
       "      <td>2017-11-10 04:00:00</td>\n",
       "    </tr>\n",
       "    <tr>\n",
       "      <th>3</th>\n",
       "      <td>3</td>\n",
       "      <td>78477</td>\n",
       "      <td>15</td>\n",
       "      <td>1</td>\n",
       "      <td>13</td>\n",
       "      <td>111</td>\n",
       "      <td>2017-11-10 04:00:00</td>\n",
       "    </tr>\n",
       "    <tr>\n",
       "      <th>4</th>\n",
       "      <td>4</td>\n",
       "      <td>123080</td>\n",
       "      <td>12</td>\n",
       "      <td>1</td>\n",
       "      <td>13</td>\n",
       "      <td>328</td>\n",
       "      <td>2017-11-10 04:00:00</td>\n",
       "    </tr>\n",
       "  </tbody>\n",
       "</table>\n",
       "</div>"
      ],
      "text/plain": [
       "   click_id      ip  app  device  os  channel          click_time\n",
       "0         0    5744    9       1   3      107 2017-11-10 04:00:00\n",
       "1         1  119901    9       1   3      466 2017-11-10 04:00:00\n",
       "2         2   72287   21       1  19      128 2017-11-10 04:00:00\n",
       "3         3   78477   15       1  13      111 2017-11-10 04:00:00\n",
       "4         4  123080   12       1  13      328 2017-11-10 04:00:00"
      ]
     },
     "execution_count": 68,
     "metadata": {},
     "output_type": "execute_result"
    }
   ],
   "source": [
    "test.head()"
   ]
  },
  {
   "cell_type": "code",
   "execution_count": 69,
   "metadata": {
    "collapsed": true
   },
   "outputs": [],
   "source": [
    "test_all_comb_feats =[(test, comb_feat) for comb_feat in all_comb_feats]"
   ]
  },
  {
   "cell_type": "code",
   "execution_count": 70,
   "metadata": {
    "collapsed": true
   },
   "outputs": [],
   "source": [
    "test_all_comb_feats = [comb for comb in test_all_comb_feats if 'ip' in comb[1]]"
   ]
  },
  {
   "cell_type": "code",
   "execution_count": 71,
   "metadata": {},
   "outputs": [
    {
     "name": "stdout",
     "output_type": "stream",
     "text": [
      "Adding hour...\n",
      "Adding minute...\n",
      "Adding in_test_hh\n",
      "Adding day_section...\n",
      "Getting next click...\n",
      "2018-04-23 15:43:53.269033\n"
     ]
    },
    {
     "name": "stderr",
     "output_type": "stream",
     "text": [
      "\r",
      "  0%|          | 0/16 [00:00<?, ?it/s]"
     ]
    },
    {
     "name": "stdout",
     "output_type": "stream",
     "text": [
      "Concat...\n"
     ]
    },
    {
     "name": "stderr",
     "output_type": "stream",
     "text": [
      "100%|██████████| 16/16 [00:26<00:00,  1.87s/it]\n"
     ]
    }
   ],
   "source": [
    "test = process(test, test_all_comb_feats, to_get)"
   ]
  },
  {
   "cell_type": "code",
   "execution_count": 72,
   "metadata": {},
   "outputs": [
    {
     "data": {
      "text/html": [
       "<div>\n",
       "<style>\n",
       "    .dataframe thead tr:only-child th {\n",
       "        text-align: right;\n",
       "    }\n",
       "\n",
       "    .dataframe thead th {\n",
       "        text-align: left;\n",
       "    }\n",
       "\n",
       "    .dataframe tbody tr th {\n",
       "        vertical-align: top;\n",
       "    }\n",
       "</style>\n",
       "<table border=\"1\" class=\"dataframe\">\n",
       "  <thead>\n",
       "    <tr style=\"text-align: right;\">\n",
       "      <th></th>\n",
       "      <th>click_id</th>\n",
       "      <th>ip</th>\n",
       "      <th>app</th>\n",
       "      <th>device</th>\n",
       "      <th>os</th>\n",
       "      <th>channel</th>\n",
       "      <th>click_time</th>\n",
       "      <th>hour</th>\n",
       "      <th>minute</th>\n",
       "      <th>in_test_hh</th>\n",
       "      <th>...</th>\n",
       "      <th>nextclick_ip_app_device_os</th>\n",
       "      <th>nextnextclick_ip_app_device_os</th>\n",
       "      <th>nextclick_ip_app_device_channel</th>\n",
       "      <th>nextnextclick_ip_app_device_channel</th>\n",
       "      <th>nextclick_ip_app_os_channel</th>\n",
       "      <th>nextnextclick_ip_app_os_channel</th>\n",
       "      <th>nextclick_ip_device_os_channel</th>\n",
       "      <th>nextnextclick_ip_device_os_channel</th>\n",
       "      <th>nextclick_ip_app_device_os_channel</th>\n",
       "      <th>nextnextclick_ip_app_device_os_channel</th>\n",
       "    </tr>\n",
       "  </thead>\n",
       "  <tbody>\n",
       "    <tr>\n",
       "      <th>0</th>\n",
       "      <td>0</td>\n",
       "      <td>5744</td>\n",
       "      <td>9</td>\n",
       "      <td>1</td>\n",
       "      <td>3</td>\n",
       "      <td>107</td>\n",
       "      <td>2017-11-10 04:00:00</td>\n",
       "      <td>4</td>\n",
       "      <td>240</td>\n",
       "      <td>1</td>\n",
       "      <td>...</td>\n",
       "      <td>-1</td>\n",
       "      <td>-1</td>\n",
       "      <td>1434</td>\n",
       "      <td>4560</td>\n",
       "      <td>-1</td>\n",
       "      <td>-1</td>\n",
       "      <td>-1</td>\n",
       "      <td>-1</td>\n",
       "      <td>-1</td>\n",
       "      <td>-1</td>\n",
       "    </tr>\n",
       "    <tr>\n",
       "      <th>1</th>\n",
       "      <td>1</td>\n",
       "      <td>119901</td>\n",
       "      <td>9</td>\n",
       "      <td>1</td>\n",
       "      <td>3</td>\n",
       "      <td>466</td>\n",
       "      <td>2017-11-10 04:00:00</td>\n",
       "      <td>4</td>\n",
       "      <td>240</td>\n",
       "      <td>1</td>\n",
       "      <td>...</td>\n",
       "      <td>399</td>\n",
       "      <td>750</td>\n",
       "      <td>359</td>\n",
       "      <td>580</td>\n",
       "      <td>18377</td>\n",
       "      <td>-1</td>\n",
       "      <td>18377</td>\n",
       "      <td>-1</td>\n",
       "      <td>18377</td>\n",
       "      <td>-1</td>\n",
       "    </tr>\n",
       "    <tr>\n",
       "      <th>2</th>\n",
       "      <td>2</td>\n",
       "      <td>72287</td>\n",
       "      <td>21</td>\n",
       "      <td>1</td>\n",
       "      <td>19</td>\n",
       "      <td>128</td>\n",
       "      <td>2017-11-10 04:00:00</td>\n",
       "      <td>4</td>\n",
       "      <td>240</td>\n",
       "      <td>1</td>\n",
       "      <td>...</td>\n",
       "      <td>88</td>\n",
       "      <td>215</td>\n",
       "      <td>88</td>\n",
       "      <td>215</td>\n",
       "      <td>88</td>\n",
       "      <td>215</td>\n",
       "      <td>88</td>\n",
       "      <td>215</td>\n",
       "      <td>88</td>\n",
       "      <td>215</td>\n",
       "    </tr>\n",
       "    <tr>\n",
       "      <th>3</th>\n",
       "      <td>3</td>\n",
       "      <td>78477</td>\n",
       "      <td>15</td>\n",
       "      <td>1</td>\n",
       "      <td>13</td>\n",
       "      <td>111</td>\n",
       "      <td>2017-11-10 04:00:00</td>\n",
       "      <td>4</td>\n",
       "      <td>240</td>\n",
       "      <td>1</td>\n",
       "      <td>...</td>\n",
       "      <td>425</td>\n",
       "      <td>488</td>\n",
       "      <td>3181</td>\n",
       "      <td>-1</td>\n",
       "      <td>3181</td>\n",
       "      <td>-1</td>\n",
       "      <td>3181</td>\n",
       "      <td>-1</td>\n",
       "      <td>3181</td>\n",
       "      <td>-1</td>\n",
       "    </tr>\n",
       "    <tr>\n",
       "      <th>4</th>\n",
       "      <td>4</td>\n",
       "      <td>123080</td>\n",
       "      <td>12</td>\n",
       "      <td>1</td>\n",
       "      <td>13</td>\n",
       "      <td>328</td>\n",
       "      <td>2017-11-10 04:00:00</td>\n",
       "      <td>4</td>\n",
       "      <td>240</td>\n",
       "      <td>1</td>\n",
       "      <td>...</td>\n",
       "      <td>1208</td>\n",
       "      <td>2750</td>\n",
       "      <td>1208</td>\n",
       "      <td>-1</td>\n",
       "      <td>1208</td>\n",
       "      <td>-1</td>\n",
       "      <td>1208</td>\n",
       "      <td>-1</td>\n",
       "      <td>1208</td>\n",
       "      <td>-1</td>\n",
       "    </tr>\n",
       "  </tbody>\n",
       "</table>\n",
       "<p>5 rows × 44 columns</p>\n",
       "</div>"
      ],
      "text/plain": [
       "   click_id      ip  app  device  os  channel          click_time  hour  \\\n",
       "0         0    5744    9       1   3      107 2017-11-10 04:00:00     4   \n",
       "1         1  119901    9       1   3      466 2017-11-10 04:00:00     4   \n",
       "2         2   72287   21       1  19      128 2017-11-10 04:00:00     4   \n",
       "3         3   78477   15       1  13      111 2017-11-10 04:00:00     4   \n",
       "4         4  123080   12       1  13      328 2017-11-10 04:00:00     4   \n",
       "\n",
       "   minute  in_test_hh                   ...                    \\\n",
       "0     240           1                   ...                     \n",
       "1     240           1                   ...                     \n",
       "2     240           1                   ...                     \n",
       "3     240           1                   ...                     \n",
       "4     240           1                   ...                     \n",
       "\n",
       "   nextclick_ip_app_device_os  nextnextclick_ip_app_device_os  \\\n",
       "0                          -1                              -1   \n",
       "1                         399                             750   \n",
       "2                          88                             215   \n",
       "3                         425                             488   \n",
       "4                        1208                            2750   \n",
       "\n",
       "   nextclick_ip_app_device_channel  nextnextclick_ip_app_device_channel  \\\n",
       "0                             1434                                 4560   \n",
       "1                              359                                  580   \n",
       "2                               88                                  215   \n",
       "3                             3181                                   -1   \n",
       "4                             1208                                   -1   \n",
       "\n",
       "   nextclick_ip_app_os_channel  nextnextclick_ip_app_os_channel  \\\n",
       "0                           -1                               -1   \n",
       "1                        18377                               -1   \n",
       "2                           88                              215   \n",
       "3                         3181                               -1   \n",
       "4                         1208                               -1   \n",
       "\n",
       "   nextclick_ip_device_os_channel  nextnextclick_ip_device_os_channel  \\\n",
       "0                              -1                                  -1   \n",
       "1                           18377                                  -1   \n",
       "2                              88                                 215   \n",
       "3                            3181                                  -1   \n",
       "4                            1208                                  -1   \n",
       "\n",
       "   nextclick_ip_app_device_os_channel  nextnextclick_ip_app_device_os_channel  \n",
       "0                                  -1                                      -1  \n",
       "1                               18377                                      -1  \n",
       "2                                  88                                     215  \n",
       "3                                3181                                      -1  \n",
       "4                                1208                                      -1  \n",
       "\n",
       "[5 rows x 44 columns]"
      ]
     },
     "execution_count": 72,
     "metadata": {},
     "output_type": "execute_result"
    }
   ],
   "source": [
    "test.head()"
   ]
  },
  {
   "cell_type": "code",
   "execution_count": 73,
   "metadata": {
    "collapsed": true
   },
   "outputs": [],
   "source": [
    "pred = lgb_model.predict(test.loc[:, predictors], num_iteration=lgb_model.best_iteration)"
   ]
  },
  {
   "cell_type": "code",
   "execution_count": 74,
   "metadata": {
    "collapsed": true
   },
   "outputs": [],
   "source": [
    "test.loc[:, 'is_attributed'] = pred"
   ]
  },
  {
   "cell_type": "code",
   "execution_count": 75,
   "metadata": {
    "collapsed": true
   },
   "outputs": [],
   "source": [
    "test.loc[:, ['click_id', 'is_attributed']].to_csv('../results/{}.csv'.format('_'.join(to_get)), index=False)"
   ]
  },
  {
   "cell_type": "code",
   "execution_count": 76,
   "metadata": {},
   "outputs": [
    {
     "data": {
      "text/html": [
       "<div>\n",
       "<style>\n",
       "    .dataframe thead tr:only-child th {\n",
       "        text-align: right;\n",
       "    }\n",
       "\n",
       "    .dataframe thead th {\n",
       "        text-align: left;\n",
       "    }\n",
       "\n",
       "    .dataframe tbody tr th {\n",
       "        vertical-align: top;\n",
       "    }\n",
       "</style>\n",
       "<table border=\"1\" class=\"dataframe\">\n",
       "  <thead>\n",
       "    <tr style=\"text-align: right;\">\n",
       "      <th></th>\n",
       "      <th>click_id</th>\n",
       "      <th>is_attributed</th>\n",
       "    </tr>\n",
       "  </thead>\n",
       "  <tbody>\n",
       "    <tr>\n",
       "      <th>0</th>\n",
       "      <td>0</td>\n",
       "      <td>0.111594</td>\n",
       "    </tr>\n",
       "    <tr>\n",
       "      <th>1</th>\n",
       "      <td>1</td>\n",
       "      <td>0.069211</td>\n",
       "    </tr>\n",
       "    <tr>\n",
       "      <th>2</th>\n",
       "      <td>2</td>\n",
       "      <td>0.011778</td>\n",
       "    </tr>\n",
       "    <tr>\n",
       "      <th>3</th>\n",
       "      <td>3</td>\n",
       "      <td>0.021184</td>\n",
       "    </tr>\n",
       "    <tr>\n",
       "      <th>4</th>\n",
       "      <td>4</td>\n",
       "      <td>0.034609</td>\n",
       "    </tr>\n",
       "  </tbody>\n",
       "</table>\n",
       "</div>"
      ],
      "text/plain": [
       "   click_id  is_attributed\n",
       "0         0       0.111594\n",
       "1         1       0.069211\n",
       "2         2       0.011778\n",
       "3         3       0.021184\n",
       "4         4       0.034609"
      ]
     },
     "execution_count": 76,
     "metadata": {},
     "output_type": "execute_result"
    }
   ],
   "source": [
    "test.loc[:, ['click_id', 'is_attributed']].head()"
   ]
  },
  {
   "cell_type": "code",
   "execution_count": null,
   "metadata": {
    "collapsed": true
   },
   "outputs": [],
   "source": []
  }
 ],
 "metadata": {
  "kernelspec": {
   "display_name": "Python 3",
   "language": "python",
   "name": "python3"
  },
  "language_info": {
   "codemirror_mode": {
    "name": "ipython",
    "version": 3
   },
   "file_extension": ".py",
   "mimetype": "text/x-python",
   "name": "python",
   "nbconvert_exporter": "python",
   "pygments_lexer": "ipython3",
   "version": "3.6.1"
  }
 },
 "nbformat": 4,
 "nbformat_minor": 2
}
