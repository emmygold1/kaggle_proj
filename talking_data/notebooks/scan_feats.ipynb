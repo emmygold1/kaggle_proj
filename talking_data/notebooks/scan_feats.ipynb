{
 "cells": [
  {
   "cell_type": "code",
   "execution_count": 1,
   "metadata": {
    "collapsed": true
   },
   "outputs": [],
   "source": [
    "%matplotlib inline\n",
    "import numpy as np\n",
    "import pandas as pd\n",
    "import gc\n",
    "import lightgbm as lgb\n",
    "from sklearn.metrics import precision_score, recall_score, roc_auc_score\n",
    "import matplotlib.pyplot as plt\n",
    "from itertools import combinations\n",
    "from sklearn.model_selection import train_test_split\n",
    "import pickle\n",
    "from multiprocessing import Pool\n",
    "from tqdm import tqdm"
   ]
  },
  {
   "cell_type": "markdown",
   "metadata": {},
   "source": [
    "# Prepare data\n",
    "\n",
    "* Attributed rate: how attribution is distributed in combinations\n",
    "* Click counts: how clicks are distributed in combinations\n",
    "* Rolling click counts: how clicks are distributed in combinations in sliding windows"
   ]
  },
  {
   "cell_type": "code",
   "execution_count": 2,
   "metadata": {
    "collapsed": true
   },
   "outputs": [],
   "source": [
    "hdf_path = '../derived_data/source.hdf'"
   ]
  },
  {
   "cell_type": "code",
   "execution_count": 3,
   "metadata": {
    "collapsed": true
   },
   "outputs": [],
   "source": [
    "res_hdf_path = '../derived_data/feats_pile.hdf'"
   ]
  },
  {
   "cell_type": "code",
   "execution_count": 4,
   "metadata": {},
   "outputs": [
    {
     "name": "stdout",
     "output_type": "stream",
     "text": [
      "CPU times: user 224 ms, sys: 2 s, total: 2.23 s\n",
      "Wall time: 2.23 s\n"
     ]
    }
   ],
   "source": [
    "%%time\n",
    "dat = pd.read_hdf(hdf_path, key='train')"
   ]
  },
  {
   "cell_type": "code",
   "execution_count": 5,
   "metadata": {},
   "outputs": [
    {
     "data": {
      "text/html": [
       "<div>\n",
       "<style>\n",
       "    .dataframe thead tr:only-child th {\n",
       "        text-align: right;\n",
       "    }\n",
       "\n",
       "    .dataframe thead th {\n",
       "        text-align: left;\n",
       "    }\n",
       "\n",
       "    .dataframe tbody tr th {\n",
       "        vertical-align: top;\n",
       "    }\n",
       "</style>\n",
       "<table border=\"1\" class=\"dataframe\">\n",
       "  <thead>\n",
       "    <tr style=\"text-align: right;\">\n",
       "      <th></th>\n",
       "      <th>ip</th>\n",
       "      <th>app</th>\n",
       "      <th>device</th>\n",
       "      <th>os</th>\n",
       "      <th>channel</th>\n",
       "      <th>click_time</th>\n",
       "      <th>is_attributed</th>\n",
       "    </tr>\n",
       "  </thead>\n",
       "  <tbody>\n",
       "    <tr>\n",
       "      <th>0</th>\n",
       "      <td>83230</td>\n",
       "      <td>3</td>\n",
       "      <td>1</td>\n",
       "      <td>13</td>\n",
       "      <td>379</td>\n",
       "      <td>2017-11-06 14:32:21</td>\n",
       "      <td>0</td>\n",
       "    </tr>\n",
       "    <tr>\n",
       "      <th>1</th>\n",
       "      <td>17357</td>\n",
       "      <td>3</td>\n",
       "      <td>1</td>\n",
       "      <td>19</td>\n",
       "      <td>379</td>\n",
       "      <td>2017-11-06 14:33:34</td>\n",
       "      <td>0</td>\n",
       "    </tr>\n",
       "    <tr>\n",
       "      <th>2</th>\n",
       "      <td>35810</td>\n",
       "      <td>3</td>\n",
       "      <td>1</td>\n",
       "      <td>13</td>\n",
       "      <td>379</td>\n",
       "      <td>2017-11-06 14:34:12</td>\n",
       "      <td>0</td>\n",
       "    </tr>\n",
       "    <tr>\n",
       "      <th>3</th>\n",
       "      <td>45745</td>\n",
       "      <td>14</td>\n",
       "      <td>1</td>\n",
       "      <td>13</td>\n",
       "      <td>478</td>\n",
       "      <td>2017-11-06 14:34:52</td>\n",
       "      <td>0</td>\n",
       "    </tr>\n",
       "    <tr>\n",
       "      <th>4</th>\n",
       "      <td>161007</td>\n",
       "      <td>3</td>\n",
       "      <td>1</td>\n",
       "      <td>13</td>\n",
       "      <td>379</td>\n",
       "      <td>2017-11-06 14:35:08</td>\n",
       "      <td>0</td>\n",
       "    </tr>\n",
       "  </tbody>\n",
       "</table>\n",
       "</div>"
      ],
      "text/plain": [
       "       ip  app  device  os  channel          click_time  is_attributed\n",
       "0   83230    3       1  13      379 2017-11-06 14:32:21              0\n",
       "1   17357    3       1  19      379 2017-11-06 14:33:34              0\n",
       "2   35810    3       1  13      379 2017-11-06 14:34:12              0\n",
       "3   45745   14       1  13      478 2017-11-06 14:34:52              0\n",
       "4  161007    3       1  13      379 2017-11-06 14:35:08              0"
      ]
     },
     "execution_count": 5,
     "metadata": {},
     "output_type": "execute_result"
    }
   ],
   "source": [
    "dat.head()"
   ]
  },
  {
   "cell_type": "code",
   "execution_count": 6,
   "metadata": {
    "collapsed": true
   },
   "outputs": [],
   "source": [
    "train = dat.loc[(dat.click_time >= '2017-11-08 04:00:00') & (dat.click_time < '2017-11-08 15:00:00')].copy()"
   ]
  },
  {
   "cell_type": "code",
   "execution_count": 7,
   "metadata": {
    "collapsed": true
   },
   "outputs": [],
   "source": [
    "valid = dat.loc[(dat.click_time >= '2017-11-09 04:00:00') & (dat.click_time < '2017-11-09 15:00:00')].copy()"
   ]
  },
  {
   "cell_type": "code",
   "execution_count": 8,
   "metadata": {
    "collapsed": true
   },
   "outputs": [],
   "source": [
    "del dat"
   ]
  },
  {
   "cell_type": "code",
   "execution_count": 9,
   "metadata": {},
   "outputs": [
    {
     "data": {
      "text/plain": [
       "91"
      ]
     },
     "execution_count": 9,
     "metadata": {},
     "output_type": "execute_result"
    }
   ],
   "source": [
    "gc.collect()"
   ]
  },
  {
   "cell_type": "code",
   "execution_count": 10,
   "metadata": {
    "collapsed": true
   },
   "outputs": [],
   "source": [
    "most_freq_hours_in_test_data = [4, 5, 9, 10, 13, 14]\n",
    "least_freq_hours_in_test_data = [6, 11, 15]"
   ]
  },
  {
   "cell_type": "code",
   "execution_count": 11,
   "metadata": {
    "collapsed": true
   },
   "outputs": [],
   "source": [
    "feats2comb = ['ip', 'app', 'device', 'os', 'channel']"
   ]
  },
  {
   "cell_type": "code",
   "execution_count": 12,
   "metadata": {
    "collapsed": true
   },
   "outputs": [],
   "source": [
    "def get_all_comb_feats(feats2comb, n=None):\n",
    "    if n is None:\n",
    "        n = len(feats2comb)\n",
    "    res = []\n",
    "    for i in range(n):\n",
    "        for comb_feats in combinations(feats2comb, i+1):\n",
    "            res.append(list(comb_feats))\n",
    "    return res"
   ]
  },
  {
   "cell_type": "code",
   "execution_count": 13,
   "metadata": {
    "collapsed": true
   },
   "outputs": [],
   "source": [
    "uint8_max = np.iinfo(np.uint8).max\n",
    "uint16_max = np.iinfo(np.uint16).max\n",
    "uint32_max = np.iinfo(np.uint32).max\n",
    "def choose_int_type(n):\n",
    "    if n <= uint8_max:\n",
    "        return 'uint8'\n",
    "    elif n <= uint16_max:\n",
    "        return 'uint16'\n",
    "    elif n <= uint32_max:\n",
    "        return 'uint32'\n",
    "    else:\n",
    "        return 'uint64'"
   ]
  },
  {
   "cell_type": "code",
   "execution_count": 14,
   "metadata": {
    "collapsed": true
   },
   "outputs": [],
   "source": [
    "def get_label_count(args):\n",
    "    gp = args[0].groupby(args[1], sort=False).size()\n",
    "    gp = gp.astype(choose_int_type(gp.max()))\n",
    "    gp = gp.to_frame().rename(columns={0: 'n_' + '_'.join(args[1]) + '_count'})\n",
    "    gc.collect()\n",
    "    return gp"
   ]
  },
  {
   "cell_type": "code",
   "execution_count": 15,
   "metadata": {
    "collapsed": true
   },
   "outputs": [],
   "source": [
    "def get_label_cumcount(args):\n",
    "    gp = args[0].groupby(args[1], sort=False).cumcount()\n",
    "    gp = gp.astype(choose_int_type(gp.max()))\n",
    "    gp = gp.to_frame().rename(columns={0: 'n_' + '_'.join(args[1]) + '_cumcount'})\n",
    "    gc.collect()\n",
    "    return gp"
   ]
  },
  {
   "cell_type": "code",
   "execution_count": 16,
   "metadata": {
    "collapsed": true
   },
   "outputs": [],
   "source": [
    "time_win = '15min'"
   ]
  },
  {
   "cell_type": "code",
   "execution_count": 17,
   "metadata": {
    "collapsed": true
   },
   "outputs": [],
   "source": [
    "def rolling_sum(df):\n",
    "    return df.groupby('click_time', sort=False).size().rolling(time_win).sum()\n",
    "\n",
    "def get_label_rolling_sum(args):\n",
    "    gp = args[0].groupby(args[1], sort=False).apply(rolling_sum)\n",
    "    gp = gp.astype(choose_int_type(gp.max()))\n",
    "    gp = gp.to_frame().rename(columns={0: '_'.join(args[1]) + '_rolling_sum'})\n",
    "    gc.collect()\n",
    "    return gp"
   ]
  },
  {
   "cell_type": "code",
   "execution_count": 18,
   "metadata": {
    "collapsed": true
   },
   "outputs": [],
   "source": [
    "def rolling_count(df):\n",
    "    return df.groupby('click_time', sort=False).size().rolling(time_win).count()\n",
    "\n",
    "def get_label_rolling_count(args):\n",
    "    gp = args[0].groupby(args[1], sort=False).apply(rolling_count)\n",
    "    gp = gp.astype(choose_int_type(gp.max()))\n",
    "    gp = gp.to_frame().rename(columns={0: '_'.join(args[1]) + '_rolling_count'})\n",
    "    gc.collect()\n",
    "    return gp"
   ]
  },
  {
   "cell_type": "code",
   "execution_count": 19,
   "metadata": {
    "collapsed": true
   },
   "outputs": [],
   "source": [
    "def rolling_max(df):\n",
    "    return df.groupby('click_time', sort=False).size().rolling(time_win).max()\n",
    "\n",
    "def get_label_rolling_max(args):\n",
    "    gp = args[0].groupby(args[1], sort=False).apply(rolling_max)\n",
    "    gp = gp.astype(choose_int_type(gp.max()))\n",
    "    gp = gp.to_frame().rename(columns={0: '_'.join(args[1]) + '_rolling_max'})\n",
    "    gc.collect()\n",
    "    return gp"
   ]
  },
  {
   "cell_type": "code",
   "execution_count": 20,
   "metadata": {
    "collapsed": true
   },
   "outputs": [],
   "source": [
    "def rolling_min(df):\n",
    "    return df.groupby('click_time', sort=False).size().rolling(time_win).min()\n",
    "\n",
    "def get_label_rolling_min(args):\n",
    "    gp = args[0].groupby(args[1], sort=False).apply(rolling_min)\n",
    "    gp = gp.astype(choose_int_type(gp.min()))\n",
    "    gp = gp.to_frame().rename(columns={0: '_'.join(args[1]) + '_rolling_min'})\n",
    "    gc.collect()\n",
    "    return gp"
   ]
  },
  {
   "cell_type": "code",
   "execution_count": 21,
   "metadata": {
    "collapsed": true
   },
   "outputs": [],
   "source": [
    "def rolling_mean(df):\n",
    "    return df.groupby('click_time', sort=False).size().rolling(time_win).mean()\n",
    "\n",
    "def get_label_rolling_mean(args):\n",
    "    gp = args[0].groupby(args[1], sort=False).apply(rolling_mean)\n",
    "    gp = gp.astype('float16')\n",
    "    gp = gp.to_frame().rename(columns={0: '_'.join(args[1]) + '_rolling_mean'})\n",
    "    gc.collect()\n",
    "    return gp"
   ]
  },
  {
   "cell_type": "code",
   "execution_count": 22,
   "metadata": {
    "collapsed": true
   },
   "outputs": [],
   "source": [
    "def rolling_std(df):\n",
    "    return df.groupby('click_time', sort=False).size().rolling(time_win).std()\n",
    "\n",
    "def get_label_rolling_std(args):\n",
    "    gp = args[0].groupby(args[1], sort=False).apply(rolling_std)\n",
    "    gp = gp.fillna(-1)\n",
    "    gp = gp.astype('float16')\n",
    "    gp = gp.to_frame().rename(columns={0: '_'.join(args[1]) + '_rolling_std'})\n",
    "    gc.collect()\n",
    "    return gp"
   ]
  },
  {
   "cell_type": "code",
   "execution_count": 23,
   "metadata": {
    "collapsed": true
   },
   "outputs": [],
   "source": [
    "def get_labels(function, all_comb_feats):\n",
    "    print(pd.datetime.now())\n",
    "    aggs = []\n",
    "    with Pool(processes=8) as pool:\n",
    "        for dist in pool.imap_unordered(function, all_comb_feats):\n",
    "            aggs.append(dist.copy())\n",
    "            gc.collect()\n",
    "    return aggs"
   ]
  },
  {
   "cell_type": "code",
   "execution_count": 24,
   "metadata": {
    "collapsed": true
   },
   "outputs": [],
   "source": [
    "def merge(df, dists):\n",
    "    for dist in tqdm(dists):\n",
    "        df = df.merge(dist, left_on=dist.index.names, right_index=True, how='left')\n",
    "    return df"
   ]
  },
  {
   "cell_type": "code",
   "execution_count": 25,
   "metadata": {
    "collapsed": true
   },
   "outputs": [],
   "source": [
    "def cummerge(df, dists):\n",
    "    for dist in tqdm(dists):\n",
    "        df = df.merge(dist, left_index=True, right_index=True, how='left')\n",
    "    return df"
   ]
  },
  {
   "cell_type": "code",
   "execution_count": 26,
   "metadata": {
    "collapsed": true
   },
   "outputs": [],
   "source": [
    "all_comb_feats = get_all_comb_feats(feats2comb, 1)"
   ]
  },
  {
   "cell_type": "code",
   "execution_count": 27,
   "metadata": {},
   "outputs": [
    {
     "data": {
      "text/plain": [
       "5"
      ]
     },
     "execution_count": 27,
     "metadata": {},
     "output_type": "execute_result"
    }
   ],
   "source": [
    "len(all_comb_feats)"
   ]
  },
  {
   "cell_type": "code",
   "execution_count": 28,
   "metadata": {
    "collapsed": true
   },
   "outputs": [],
   "source": [
    "train_all_comb_feats =[(train, comb_feat) for comb_feat in all_comb_feats]\n",
    "                  # [['hour'] + comb_feat for comb_feat in all_comb_feats] +\n",
    "                  # [['minute'] + comb_feat for comb_feat in all_comb_feats] +\n",
    "                  # [['day_section'] + comb_feat for comb_feat in all_comb_feats] +\n",
    "                  # [['in_test_hh', 'day_section'] + comb_feat for comb_feat in all_comb_feats])"
   ]
  },
  {
   "cell_type": "code",
   "execution_count": 29,
   "metadata": {
    "collapsed": true
   },
   "outputs": [],
   "source": [
    "valid_all_comb_feats =[(valid, comb_feat) for comb_feat in all_comb_feats]"
   ]
  },
  {
   "cell_type": "code",
   "execution_count": 30,
   "metadata": {
    "collapsed": true
   },
   "outputs": [],
   "source": [
    "def process(df, all_comb_feats, to_get):\n",
    "    print('Adding hour...')\n",
    "    df.loc[:, 'hour'] = df.click_time.dt.hour.astype('uint8')\n",
    "    print('Adding minute...')\n",
    "    df.loc[:, 'minute'] = df.hour.astype('uint16') * 60 + df.click_time.dt.minute.astype('uint16')\n",
    "    print('Adding in_test_hh')\n",
    "    df.loc[:, 'in_test_hh'] = (\n",
    "        3 - 2*df.hour.isin(most_freq_hours_in_test_data) -\n",
    "        1*df.hour.isin(least_freq_hours_in_test_data)\n",
    "    ).astype('uint8')\n",
    "    print('Adding day_section...')\n",
    "    df.loc[:, 'day_section'] = (df.hour // 6).astype('uint8')\n",
    "    df_counts = []\n",
    "    if isinstance(to_get, str):\n",
    "        to_get = [to_get]\n",
    "    if 'cumcounts' in to_get:\n",
    "        print('Getting cummulative counts...')\n",
    "        df_counts += get_labels(get_label_cumcount, all_comb_feats)\n",
    "        print('Cummulative Merging...')\n",
    "        df = cummerge(df, df_counts)\n",
    "    else:\n",
    "        if 'count' in to_get:\n",
    "            print('Getting count...')\n",
    "            df_counts += get_labels(get_label_count, all_comb_feats)\n",
    "        if 'rolling_count'  in to_get:\n",
    "            print('Getting rolling count...')\n",
    "            df_counts += get_labels(get_label_rolling_count, all_comb_feats)\n",
    "        if 'rolling_sum' in to_get:\n",
    "            print('Getting rolling sum...')\n",
    "            df_counts += get_labels(get_label_rolling_sum, all_comb_feats)\n",
    "        if 'rolling_max' in to_get:\n",
    "            print('Getting rolling max...')\n",
    "            df_counts += get_labels(get_label_rolling_max, all_comb_feats)\n",
    "        if 'rolling_min' in to_get:\n",
    "            print('Getting rolling min...')\n",
    "            df_counts += get_labels(get_label_rolling_min, all_comb_feats)\n",
    "        if 'rolling_mean' in to_get:\n",
    "            print('Getting rolling mean...')\n",
    "            df_counts += get_labels(get_label_rolling_mean, all_comb_feats)\n",
    "        if 'rolling_std' in to_get:\n",
    "            print('Getting rolling std...')\n",
    "            df_counts += get_labels(get_label_rolling_std, all_comb_feats)\n",
    "        print('Merging...')\n",
    "        df = merge(df, df_counts)\n",
    "    \n",
    "    gc.collect()\n",
    "    return df"
   ]
  },
  {
   "cell_type": "code",
   "execution_count": 31,
   "metadata": {
    "collapsed": true
   },
   "outputs": [],
   "source": [
    "to_get = ['rolling_count', 'rolling_max', 'rolling_min']"
   ]
  },
  {
   "cell_type": "code",
   "execution_count": 32,
   "metadata": {},
   "outputs": [
    {
     "name": "stdout",
     "output_type": "stream",
     "text": [
      "Adding hour...\n",
      "Adding minute...\n",
      "Adding in_test_hh\n",
      "Adding day_section...\n",
      "Getting rolling count...\n",
      "2018-04-20 15:25:11.571736\n",
      "Getting rolling max...\n",
      "2018-04-20 15:27:13.544383\n",
      "Getting rolling min...\n",
      "2018-04-20 15:29:20.143268\n"
     ]
    },
    {
     "name": "stderr",
     "output_type": "stream",
     "text": [
      "\r",
      "  0%|          | 0/15 [00:00<?, ?it/s]"
     ]
    },
    {
     "name": "stdout",
     "output_type": "stream",
     "text": [
      "Merging...\n"
     ]
    },
    {
     "name": "stderr",
     "output_type": "stream",
     "text": [
      "100%|██████████| 15/15 [01:42<00:00,  8.64s/it]"
     ]
    },
    {
     "name": "stdout",
     "output_type": "stream",
     "text": [
      "CPU times: user 1min 33s, sys: 56.2 s, total: 2min 29s\n",
      "Wall time: 8min 4s\n"
     ]
    },
    {
     "name": "stderr",
     "output_type": "stream",
     "text": [
      "\n"
     ]
    }
   ],
   "source": [
    "%%time\n",
    "train = process(train, train_all_comb_feats, to_get)"
   ]
  },
  {
   "cell_type": "code",
   "execution_count": 33,
   "metadata": {},
   "outputs": [
    {
     "name": "stdout",
     "output_type": "stream",
     "text": [
      "Adding hour...\n",
      "Adding minute...\n",
      "Adding in_test_hh\n",
      "Adding day_section...\n",
      "Getting rolling count...\n",
      "2018-04-20 15:33:16.487007\n",
      "Getting rolling max...\n",
      "2018-04-20 15:35:23.429186\n",
      "Getting rolling min...\n",
      "2018-04-20 15:37:32.388485\n"
     ]
    },
    {
     "name": "stderr",
     "output_type": "stream",
     "text": [
      "\r",
      "  0%|          | 0/15 [00:00<?, ?it/s]"
     ]
    },
    {
     "name": "stdout",
     "output_type": "stream",
     "text": [
      "Merging...\n"
     ]
    },
    {
     "name": "stderr",
     "output_type": "stream",
     "text": [
      "100%|██████████| 15/15 [01:40<00:00,  8.39s/it]"
     ]
    },
    {
     "name": "stdout",
     "output_type": "stream",
     "text": [
      "CPU times: user 1min 32s, sys: 57.9 s, total: 2min 30s\n",
      "Wall time: 8min 11s\n"
     ]
    },
    {
     "name": "stderr",
     "output_type": "stream",
     "text": [
      "\n"
     ]
    }
   ],
   "source": [
    "%%time\n",
    "valid = process(valid, valid_all_comb_feats, to_get)"
   ]
  },
  {
   "cell_type": "code",
   "execution_count": 36,
   "metadata": {},
   "outputs": [
    {
     "name": "stdout",
     "output_type": "stream",
     "text": [
      "CPU times: user 1.65 s, sys: 1.62 s, total: 3.27 s\n",
      "Wall time: 3.28 s\n"
     ]
    }
   ],
   "source": [
    "%%time\n",
    "train.to_hdf(res_hdf_path, key=to_get+'_train', model='r+')"
   ]
  },
  {
   "cell_type": "code",
   "execution_count": 37,
   "metadata": {},
   "outputs": [
    {
     "name": "stdout",
     "output_type": "stream",
     "text": [
      "CPU times: user 1.76 s, sys: 1.61 s, total: 3.36 s\n",
      "Wall time: 3.55 s\n"
     ]
    }
   ],
   "source": [
    "%%time\n",
    "valid.to_hdf(res_hdf_path, key=to_get+'_valid', model='r+')"
   ]
  },
  {
   "cell_type": "code",
   "execution_count": 38,
   "metadata": {},
   "outputs": [
    {
     "data": {
      "text/plain": [
       "0"
      ]
     },
     "execution_count": 38,
     "metadata": {},
     "output_type": "execute_result"
    }
   ],
   "source": [
    "gc.collect()"
   ]
  },
  {
   "cell_type": "code",
   "execution_count": 10,
   "metadata": {
    "collapsed": true
   },
   "outputs": [],
   "source": [
    "train = pd.read_hdf(res_hdf_path, key=to_get+'_train')"
   ]
  },
  {
   "cell_type": "code",
   "execution_count": 11,
   "metadata": {
    "collapsed": true
   },
   "outputs": [],
   "source": [
    "valid = pd.read_hdf(res_hdf_path, key=to_get+'_valid')"
   ]
  },
  {
   "cell_type": "markdown",
   "metadata": {},
   "source": [
    "# Split for training"
   ]
  },
  {
   "cell_type": "code",
   "execution_count": 35,
   "metadata": {},
   "outputs": [
    {
     "data": {
      "text/plain": [
       "32"
      ]
     },
     "execution_count": 35,
     "metadata": {},
     "output_type": "execute_result"
    }
   ],
   "source": [
    "gc.collect()"
   ]
  },
  {
   "cell_type": "code",
   "execution_count": 36,
   "metadata": {
    "collapsed": true
   },
   "outputs": [],
   "source": [
    "train.drop(['ip', 'click_time'], axis=1, inplace=True)"
   ]
  },
  {
   "cell_type": "code",
   "execution_count": 37,
   "metadata": {
    "collapsed": true
   },
   "outputs": [],
   "source": [
    "valid.drop(['ip', 'click_time'], axis=1, inplace=True)"
   ]
  },
  {
   "cell_type": "code",
   "execution_count": 38,
   "metadata": {},
   "outputs": [
    {
     "data": {
      "text/plain": [
       "7"
      ]
     },
     "execution_count": 38,
     "metadata": {},
     "output_type": "execute_result"
    }
   ],
   "source": [
    "gc.collect()"
   ]
  },
  {
   "cell_type": "code",
   "execution_count": 39,
   "metadata": {
    "collapsed": true
   },
   "outputs": [],
   "source": [
    "_, valid = train_test_split(valid, test_size=0.2, stratify=valid.is_attributed)"
   ]
  },
  {
   "cell_type": "code",
   "execution_count": 40,
   "metadata": {},
   "outputs": [
    {
     "data": {
      "text/plain": [
       "(36475438, 24)"
      ]
     },
     "execution_count": 40,
     "metadata": {},
     "output_type": "execute_result"
    }
   ],
   "source": [
    "train.shape"
   ]
  },
  {
   "cell_type": "code",
   "execution_count": 41,
   "metadata": {},
   "outputs": [
    {
     "data": {
      "text/plain": [
       "0    0.997421\n",
       "1    0.002579\n",
       "Name: is_attributed, dtype: float64"
      ]
     },
     "execution_count": 41,
     "metadata": {},
     "output_type": "execute_result"
    }
   ],
   "source": [
    "train.is_attributed.value_counts(normalize=True)"
   ]
  },
  {
   "cell_type": "code",
   "execution_count": 42,
   "metadata": {},
   "outputs": [
    {
     "data": {
      "text/plain": [
       "(7433836, 24)"
      ]
     },
     "execution_count": 42,
     "metadata": {},
     "output_type": "execute_result"
    }
   ],
   "source": [
    "valid.shape"
   ]
  },
  {
   "cell_type": "code",
   "execution_count": 43,
   "metadata": {},
   "outputs": [
    {
     "data": {
      "text/plain": [
       "0    0.997415\n",
       "1    0.002585\n",
       "Name: is_attributed, dtype: float64"
      ]
     },
     "execution_count": 43,
     "metadata": {},
     "output_type": "execute_result"
    }
   ],
   "source": [
    "valid.is_attributed.value_counts(normalize=True)"
   ]
  },
  {
   "cell_type": "markdown",
   "metadata": {},
   "source": [
    "# Light GBM"
   ]
  },
  {
   "cell_type": "code",
   "execution_count": 44,
   "metadata": {},
   "outputs": [
    {
     "data": {
      "text/plain": [
       "Index(['app', 'device', 'os', 'channel', 'is_attributed', 'hour', 'minute',\n",
       "       'in_test_hh', 'day_section', 'app_rolling_count',\n",
       "       'device_rolling_count', 'os_rolling_count', 'channel_rolling_count',\n",
       "       'ip_rolling_count', 'app_rolling_max', 'device_rolling_max',\n",
       "       'os_rolling_max', 'channel_rolling_max', 'ip_rolling_max',\n",
       "       'app_rolling_min', 'device_rolling_min', 'os_rolling_min',\n",
       "       'channel_rolling_min', 'ip_rolling_min'],\n",
       "      dtype='object')"
      ]
     },
     "execution_count": 44,
     "metadata": {},
     "output_type": "execute_result"
    }
   ],
   "source": [
    "train.columns"
   ]
  },
  {
   "cell_type": "code",
   "execution_count": 45,
   "metadata": {
    "collapsed": true
   },
   "outputs": [],
   "source": [
    "target = 'is_attributed'"
   ]
  },
  {
   "cell_type": "code",
   "execution_count": 46,
   "metadata": {
    "collapsed": true
   },
   "outputs": [],
   "source": [
    "predictors = train.columns.tolist()"
   ]
  },
  {
   "cell_type": "code",
   "execution_count": 47,
   "metadata": {
    "collapsed": true
   },
   "outputs": [],
   "source": [
    "predictors.remove(target)"
   ]
  },
  {
   "cell_type": "code",
   "execution_count": 48,
   "metadata": {},
   "outputs": [
    {
     "data": {
      "text/plain": [
       "['app',\n",
       " 'device',\n",
       " 'os',\n",
       " 'channel',\n",
       " 'hour',\n",
       " 'minute',\n",
       " 'in_test_hh',\n",
       " 'day_section',\n",
       " 'app_rolling_count',\n",
       " 'device_rolling_count',\n",
       " 'os_rolling_count',\n",
       " 'channel_rolling_count',\n",
       " 'ip_rolling_count',\n",
       " 'app_rolling_max',\n",
       " 'device_rolling_max',\n",
       " 'os_rolling_max',\n",
       " 'channel_rolling_max',\n",
       " 'ip_rolling_max',\n",
       " 'app_rolling_min',\n",
       " 'device_rolling_min',\n",
       " 'os_rolling_min',\n",
       " 'channel_rolling_min',\n",
       " 'ip_rolling_min']"
      ]
     },
     "execution_count": 48,
     "metadata": {},
     "output_type": "execute_result"
    }
   ],
   "source": [
    "predictors"
   ]
  },
  {
   "cell_type": "code",
   "execution_count": 49,
   "metadata": {
    "collapsed": true
   },
   "outputs": [],
   "source": [
    "categorical = ['app', 'device', 'os', 'channel', 'hour', 'minute', 'in_test_hh', 'day_section']"
   ]
  },
  {
   "cell_type": "code",
   "execution_count": 50,
   "metadata": {},
   "outputs": [
    {
     "data": {
      "text/plain": [
       "19"
      ]
     },
     "execution_count": 50,
     "metadata": {},
     "output_type": "execute_result"
    }
   ],
   "source": [
    "gc.collect()"
   ]
  },
  {
   "cell_type": "code",
   "execution_count": 51,
   "metadata": {
    "collapsed": true
   },
   "outputs": [],
   "source": [
    "params = {\n",
    "    'boosting_type': 'dart',  # I think dart would be better, but takes too long to run\n",
    "    'drop_rate': 0.1,  # Rate at which to drop trees\n",
    "    'objective': 'binary',\n",
    "    'metric': 'auc',\n",
    "    'learning_rate': 0.1,\n",
    "    'num_leaves': 10,  # Was 255: Reduced to control overfitting\n",
    "    'max_depth': -1,  # Was 8: LightGBM splits leaf-wise, so control depth via num_leaves\n",
    "    'min_child_samples': 10,\n",
    "    'max_bin': 100,\n",
    "    'subsample': 0.7,  # Was 0.7\n",
    "    'subsample_freq': 1,\n",
    "    'colsample_bytree': 0.7,\n",
    "    'min_child_weight': 0,\n",
    "    'subsample_for_bin': 200000,\n",
    "    'min_split_gain': 0,\n",
    "    'reg_alpha': 0,\n",
    "    'reg_lambda': 0,\n",
    "    'nthread': 8,\n",
    "    'verbose': 0,\n",
    "    'scale_pos_weight': 200\n",
    "}"
   ]
  },
  {
   "cell_type": "code",
   "execution_count": 52,
   "metadata": {
    "collapsed": true
   },
   "outputs": [],
   "source": [
    "dtrain = lgb.Dataset(\n",
    "    train.loc[:, predictors],\n",
    "    label=train.loc[:, target],\n",
    "    feature_name=predictors,\n",
    "    categorical_feature=categorical\n",
    ")\n",
    "\n",
    "dvalid = lgb.Dataset(\n",
    "    valid.loc[:, predictors],\n",
    "    label=valid.loc[:, target],\n",
    "    feature_name=predictors,\n",
    "    categorical_feature=categorical\n",
    ")"
   ]
  },
  {
   "cell_type": "code",
   "execution_count": 53,
   "metadata": {
    "collapsed": true
   },
   "outputs": [],
   "source": [
    "del train"
   ]
  },
  {
   "cell_type": "code",
   "execution_count": 54,
   "metadata": {
    "collapsed": true
   },
   "outputs": [],
   "source": [
    "del valid"
   ]
  },
  {
   "cell_type": "code",
   "execution_count": 55,
   "metadata": {},
   "outputs": [
    {
     "data": {
      "text/plain": [
       "38"
      ]
     },
     "execution_count": 55,
     "metadata": {},
     "output_type": "execute_result"
    }
   ],
   "source": [
    "gc.collect()"
   ]
  },
  {
   "cell_type": "code",
   "execution_count": 56,
   "metadata": {},
   "outputs": [
    {
     "name": "stderr",
     "output_type": "stream",
     "text": [
      "/home/feiz/miniconda3/envs/analysis_py3/lib/python3.6/site-packages/lightgbm/basic.py:1036: UserWarning: Using categorical_feature in Dataset.\n",
      "  warnings.warn('Using categorical_feature in Dataset.')\n",
      "/home/feiz/miniconda3/envs/analysis_py3/lib/python3.6/site-packages/lightgbm/basic.py:681: UserWarning: categorical_feature in param dict is overrided.\n",
      "  warnings.warn('categorical_feature in param dict is overrided.')\n"
     ]
    },
    {
     "name": "stdout",
     "output_type": "stream",
     "text": [
      "Training until validation scores don't improve for 50 rounds.\n",
      "[10]\ttrain's auc: 0.966481\tvalid's auc: 0.955691\n",
      "[20]\ttrain's auc: 0.967731\tvalid's auc: 0.957397\n",
      "[30]\ttrain's auc: 0.970834\tvalid's auc: 0.960225\n",
      "[40]\ttrain's auc: 0.971668\tvalid's auc: 0.961344\n",
      "[50]\ttrain's auc: 0.972115\tvalid's auc: 0.961712\n",
      "[60]\ttrain's auc: 0.97252\tvalid's auc: 0.962113\n",
      "[70]\ttrain's auc: 0.972872\tvalid's auc: 0.962318\n",
      "[80]\ttrain's auc: 0.973193\tvalid's auc: 0.962361\n",
      "[90]\ttrain's auc: 0.973318\tvalid's auc: 0.962402\n",
      "[100]\ttrain's auc: 0.97346\tvalid's auc: 0.962398\n",
      "[110]\ttrain's auc: 0.973511\tvalid's auc: 0.962499\n",
      "[120]\ttrain's auc: 0.973835\tvalid's auc: 0.96258\n",
      "[130]\ttrain's auc: 0.974163\tvalid's auc: 0.962619\n",
      "[140]\ttrain's auc: 0.974345\tvalid's auc: 0.963044\n",
      "[150]\ttrain's auc: 0.974499\tvalid's auc: 0.962993\n",
      "[160]\ttrain's auc: 0.97447\tvalid's auc: 0.962965\n",
      "[170]\ttrain's auc: 0.974919\tvalid's auc: 0.962974\n",
      "[180]\ttrain's auc: 0.97519\tvalid's auc: 0.963285\n",
      "[190]\ttrain's auc: 0.975709\tvalid's auc: 0.963413\n",
      "[200]\ttrain's auc: 0.975993\tvalid's auc: 0.963464\n",
      "[210]\ttrain's auc: 0.976022\tvalid's auc: 0.963468\n",
      "[220]\ttrain's auc: 0.976339\tvalid's auc: 0.963701\n",
      "[230]\ttrain's auc: 0.976559\tvalid's auc: 0.963682\n",
      "[240]\ttrain's auc: 0.976893\tvalid's auc: 0.963924\n",
      "[250]\ttrain's auc: 0.977133\tvalid's auc: 0.963836\n",
      "[260]\ttrain's auc: 0.977281\tvalid's auc: 0.963979\n",
      "[270]\ttrain's auc: 0.977579\tvalid's auc: 0.964077\n",
      "[280]\ttrain's auc: 0.977852\tvalid's auc: 0.964091\n",
      "[290]\ttrain's auc: 0.978159\tvalid's auc: 0.96405\n",
      "[300]\ttrain's auc: 0.978258\tvalid's auc: 0.964105\n",
      "[310]\ttrain's auc: 0.97827\tvalid's auc: 0.964119\n",
      "[320]\ttrain's auc: 0.978446\tvalid's auc: 0.964166\n",
      "[330]\ttrain's auc: 0.978601\tvalid's auc: 0.964113\n",
      "[340]\ttrain's auc: 0.978597\tvalid's auc: 0.964085\n",
      "[350]\ttrain's auc: 0.978769\tvalid's auc: 0.964207\n",
      "[360]\ttrain's auc: 0.978886\tvalid's auc: 0.964229\n",
      "[370]\ttrain's auc: 0.978999\tvalid's auc: 0.964241\n",
      "[380]\ttrain's auc: 0.979109\tvalid's auc: 0.964251\n",
      "[390]\ttrain's auc: 0.979233\tvalid's auc: 0.964325\n",
      "[400]\ttrain's auc: 0.97939\tvalid's auc: 0.964447\n",
      "[410]\ttrain's auc: 0.979596\tvalid's auc: 0.964461\n",
      "[420]\ttrain's auc: 0.979684\tvalid's auc: 0.964451\n",
      "[430]\ttrain's auc: 0.979896\tvalid's auc: 0.964364\n",
      "[440]\ttrain's auc: 0.979983\tvalid's auc: 0.964337\n",
      "[450]\ttrain's auc: 0.980147\tvalid's auc: 0.964275\n",
      "Early stopping, best iteration is:\n",
      "[407]\ttrain's auc: 0.979499\tvalid's auc: 0.964499\n",
      "CPU times: user 11h 42min 4s, sys: 7min 13s, total: 11h 49min 18s\n",
      "Wall time: 1h 46min 38s\n"
     ]
    }
   ],
   "source": [
    "%%time\n",
    "evals_results = {}\n",
    "lgb_model = lgb.train(\n",
    "    params, \n",
    "    dtrain, \n",
    "    valid_sets= [dtrain, dvalid], \n",
    "    valid_names=['train', 'valid'], \n",
    "    evals_result=evals_results, \n",
    "    num_boost_round=1000,\n",
    "    early_stopping_rounds=50,\n",
    "    verbose_eval=10, \n",
    "    feval=None\n",
    ")"
   ]
  },
  {
   "cell_type": "code",
   "execution_count": 57,
   "metadata": {},
   "outputs": [
    {
     "data": {
      "text/plain": [
       "<matplotlib.axes._subplots.AxesSubplot at 0x7fb4df210898>"
      ]
     },
     "execution_count": 57,
     "metadata": {},
     "output_type": "execute_result"
    },
    {
     "data": {
      "image/png": "[encoded data removed]",
      "text/plain": [
       "<matplotlib.figure.Figure at 0x7fb4df2097b8>"
      ]
     },
     "metadata": {},
     "output_type": "display_data"
    }
   ],
   "source": [
    "f, ax = plt.subplots(figsize=[7,10])\n",
    "lgb.plot_importance(lgb_model, ax=ax, max_num_features=len(predictors))"
   ]
  },
  {
   "cell_type": "code",
   "execution_count": 58,
   "metadata": {
    "collapsed": true
   },
   "outputs": [],
   "source": [
    "import pickle"
   ]
  },
  {
   "cell_type": "code",
   "execution_count": 59,
   "metadata": {
    "collapsed": true
   },
   "outputs": [],
   "source": [
    "with open('../results/{}.pickle'.format(to_get), 'wb') as f:\n",
    "    pickle.dump(lgb_model, f)"
   ]
  },
  {
   "cell_type": "markdown",
   "metadata": {
    "collapsed": true
   },
   "source": [
    "# Create submission"
   ]
  },
  {
   "cell_type": "code",
   "execution_count": 60,
   "metadata": {
    "collapsed": true
   },
   "outputs": [],
   "source": [
    "test = pd.read_hdf(hdf_path, key='test')"
   ]
  },
  {
   "cell_type": "code",
   "execution_count": 61,
   "metadata": {},
   "outputs": [
    {
     "data": {
      "text/html": [
       "<div>\n",
       "<style>\n",
       "    .dataframe thead tr:only-child th {\n",
       "        text-align: right;\n",
       "    }\n",
       "\n",
       "    .dataframe thead th {\n",
       "        text-align: left;\n",
       "    }\n",
       "\n",
       "    .dataframe tbody tr th {\n",
       "        vertical-align: top;\n",
       "    }\n",
       "</style>\n",
       "<table border=\"1\" class=\"dataframe\">\n",
       "  <thead>\n",
       "    <tr style=\"text-align: right;\">\n",
       "      <th></th>\n",
       "      <th>click_id</th>\n",
       "      <th>ip</th>\n",
       "      <th>app</th>\n",
       "      <th>device</th>\n",
       "      <th>os</th>\n",
       "      <th>channel</th>\n",
       "      <th>click_time</th>\n",
       "    </tr>\n",
       "  </thead>\n",
       "  <tbody>\n",
       "    <tr>\n",
       "      <th>0</th>\n",
       "      <td>0</td>\n",
       "      <td>5744</td>\n",
       "      <td>9</td>\n",
       "      <td>1</td>\n",
       "      <td>3</td>\n",
       "      <td>107</td>\n",
       "      <td>2017-11-10 04:00:00</td>\n",
       "    </tr>\n",
       "    <tr>\n",
       "      <th>1</th>\n",
       "      <td>1</td>\n",
       "      <td>119901</td>\n",
       "      <td>9</td>\n",
       "      <td>1</td>\n",
       "      <td>3</td>\n",
       "      <td>466</td>\n",
       "      <td>2017-11-10 04:00:00</td>\n",
       "    </tr>\n",
       "    <tr>\n",
       "      <th>2</th>\n",
       "      <td>2</td>\n",
       "      <td>72287</td>\n",
       "      <td>21</td>\n",
       "      <td>1</td>\n",
       "      <td>19</td>\n",
       "      <td>128</td>\n",
       "      <td>2017-11-10 04:00:00</td>\n",
       "    </tr>\n",
       "    <tr>\n",
       "      <th>3</th>\n",
       "      <td>3</td>\n",
       "      <td>78477</td>\n",
       "      <td>15</td>\n",
       "      <td>1</td>\n",
       "      <td>13</td>\n",
       "      <td>111</td>\n",
       "      <td>2017-11-10 04:00:00</td>\n",
       "    </tr>\n",
       "    <tr>\n",
       "      <th>4</th>\n",
       "      <td>4</td>\n",
       "      <td>123080</td>\n",
       "      <td>12</td>\n",
       "      <td>1</td>\n",
       "      <td>13</td>\n",
       "      <td>328</td>\n",
       "      <td>2017-11-10 04:00:00</td>\n",
       "    </tr>\n",
       "  </tbody>\n",
       "</table>\n",
       "</div>"
      ],
      "text/plain": [
       "   click_id      ip  app  device  os  channel          click_time\n",
       "0         0    5744    9       1   3      107 2017-11-10 04:00:00\n",
       "1         1  119901    9       1   3      466 2017-11-10 04:00:00\n",
       "2         2   72287   21       1  19      128 2017-11-10 04:00:00\n",
       "3         3   78477   15       1  13      111 2017-11-10 04:00:00\n",
       "4         4  123080   12       1  13      328 2017-11-10 04:00:00"
      ]
     },
     "execution_count": 61,
     "metadata": {},
     "output_type": "execute_result"
    }
   ],
   "source": [
    "test.head()"
   ]
  },
  {
   "cell_type": "code",
   "execution_count": 62,
   "metadata": {
    "collapsed": true
   },
   "outputs": [],
   "source": [
    "test_all_comb_feats =[(test, comb_feat) for comb_feat in all_comb_feats]"
   ]
  },
  {
   "cell_type": "code",
   "execution_count": 63,
   "metadata": {},
   "outputs": [
    {
     "name": "stdout",
     "output_type": "stream",
     "text": [
      "Adding hour...\n",
      "Adding minute...\n",
      "Adding in_test_hh\n",
      "Adding day_section...\n",
      "Getting rolling count...\n",
      "2018-04-20 17:47:35.416183\n",
      "Getting rolling max...\n",
      "2018-04-20 17:49:19.581285\n",
      "Getting rolling min...\n",
      "2018-04-20 17:51:05.645015\n"
     ]
    },
    {
     "name": "stderr",
     "output_type": "stream",
     "text": [
      "\r",
      "  0%|          | 0/15 [00:00<?, ?it/s]"
     ]
    },
    {
     "name": "stdout",
     "output_type": "stream",
     "text": [
      "Merging...\n"
     ]
    },
    {
     "name": "stderr",
     "output_type": "stream",
     "text": [
      "100%|██████████| 15/15 [00:48<00:00,  3.99s/it]\n"
     ]
    }
   ],
   "source": [
    "test = process(test, test_all_comb_feats, to_get)"
   ]
  },
  {
   "cell_type": "code",
   "execution_count": 64,
   "metadata": {},
   "outputs": [
    {
     "data": {
      "text/html": [
       "<div>\n",
       "<style>\n",
       "    .dataframe thead tr:only-child th {\n",
       "        text-align: right;\n",
       "    }\n",
       "\n",
       "    .dataframe thead th {\n",
       "        text-align: left;\n",
       "    }\n",
       "\n",
       "    .dataframe tbody tr th {\n",
       "        vertical-align: top;\n",
       "    }\n",
       "</style>\n",
       "<table border=\"1\" class=\"dataframe\">\n",
       "  <thead>\n",
       "    <tr style=\"text-align: right;\">\n",
       "      <th></th>\n",
       "      <th>click_id</th>\n",
       "      <th>ip</th>\n",
       "      <th>app</th>\n",
       "      <th>device</th>\n",
       "      <th>os</th>\n",
       "      <th>channel</th>\n",
       "      <th>click_time</th>\n",
       "      <th>hour</th>\n",
       "      <th>minute</th>\n",
       "      <th>in_test_hh</th>\n",
       "      <th>...</th>\n",
       "      <th>app_rolling_max</th>\n",
       "      <th>device_rolling_max</th>\n",
       "      <th>os_rolling_max</th>\n",
       "      <th>channel_rolling_max</th>\n",
       "      <th>ip_rolling_max</th>\n",
       "      <th>app_rolling_min</th>\n",
       "      <th>device_rolling_min</th>\n",
       "      <th>os_rolling_min</th>\n",
       "      <th>channel_rolling_min</th>\n",
       "      <th>ip_rolling_min</th>\n",
       "    </tr>\n",
       "  </thead>\n",
       "  <tbody>\n",
       "    <tr>\n",
       "      <th>0</th>\n",
       "      <td>0</td>\n",
       "      <td>5744</td>\n",
       "      <td>9</td>\n",
       "      <td>1</td>\n",
       "      <td>3</td>\n",
       "      <td>107</td>\n",
       "      <td>2017-11-10 04:00:00</td>\n",
       "      <td>4</td>\n",
       "      <td>240</td>\n",
       "      <td>1</td>\n",
       "      <td>...</td>\n",
       "      <td>49</td>\n",
       "      <td>408</td>\n",
       "      <td>4</td>\n",
       "      <td>31</td>\n",
       "      <td>1</td>\n",
       "      <td>49</td>\n",
       "      <td>152</td>\n",
       "      <td>4</td>\n",
       "      <td>31</td>\n",
       "      <td>1</td>\n",
       "    </tr>\n",
       "    <tr>\n",
       "      <th>1</th>\n",
       "      <td>1</td>\n",
       "      <td>119901</td>\n",
       "      <td>9</td>\n",
       "      <td>1</td>\n",
       "      <td>3</td>\n",
       "      <td>466</td>\n",
       "      <td>2017-11-10 04:00:00</td>\n",
       "      <td>4</td>\n",
       "      <td>240</td>\n",
       "      <td>1</td>\n",
       "      <td>...</td>\n",
       "      <td>49</td>\n",
       "      <td>408</td>\n",
       "      <td>4</td>\n",
       "      <td>7</td>\n",
       "      <td>1</td>\n",
       "      <td>49</td>\n",
       "      <td>152</td>\n",
       "      <td>4</td>\n",
       "      <td>7</td>\n",
       "      <td>1</td>\n",
       "    </tr>\n",
       "    <tr>\n",
       "      <th>2</th>\n",
       "      <td>2</td>\n",
       "      <td>72287</td>\n",
       "      <td>21</td>\n",
       "      <td>1</td>\n",
       "      <td>19</td>\n",
       "      <td>128</td>\n",
       "      <td>2017-11-10 04:00:00</td>\n",
       "      <td>4</td>\n",
       "      <td>240</td>\n",
       "      <td>1</td>\n",
       "      <td>...</td>\n",
       "      <td>10</td>\n",
       "      <td>408</td>\n",
       "      <td>102</td>\n",
       "      <td>6</td>\n",
       "      <td>1</td>\n",
       "      <td>10</td>\n",
       "      <td>152</td>\n",
       "      <td>102</td>\n",
       "      <td>6</td>\n",
       "      <td>1</td>\n",
       "    </tr>\n",
       "    <tr>\n",
       "      <th>3</th>\n",
       "      <td>3</td>\n",
       "      <td>78477</td>\n",
       "      <td>15</td>\n",
       "      <td>1</td>\n",
       "      <td>13</td>\n",
       "      <td>111</td>\n",
       "      <td>2017-11-10 04:00:00</td>\n",
       "      <td>4</td>\n",
       "      <td>240</td>\n",
       "      <td>1</td>\n",
       "      <td>...</td>\n",
       "      <td>30</td>\n",
       "      <td>408</td>\n",
       "      <td>76</td>\n",
       "      <td>1</td>\n",
       "      <td>1</td>\n",
       "      <td>30</td>\n",
       "      <td>152</td>\n",
       "      <td>76</td>\n",
       "      <td>1</td>\n",
       "      <td>1</td>\n",
       "    </tr>\n",
       "    <tr>\n",
       "      <th>4</th>\n",
       "      <td>4</td>\n",
       "      <td>123080</td>\n",
       "      <td>12</td>\n",
       "      <td>1</td>\n",
       "      <td>13</td>\n",
       "      <td>328</td>\n",
       "      <td>2017-11-10 04:00:00</td>\n",
       "      <td>4</td>\n",
       "      <td>240</td>\n",
       "      <td>1</td>\n",
       "      <td>...</td>\n",
       "      <td>40</td>\n",
       "      <td>408</td>\n",
       "      <td>76</td>\n",
       "      <td>3</td>\n",
       "      <td>1</td>\n",
       "      <td>40</td>\n",
       "      <td>152</td>\n",
       "      <td>76</td>\n",
       "      <td>3</td>\n",
       "      <td>1</td>\n",
       "    </tr>\n",
       "  </tbody>\n",
       "</table>\n",
       "<p>5 rows × 26 columns</p>\n",
       "</div>"
      ],
      "text/plain": [
       "   click_id      ip  app  device  os  channel          click_time  hour  \\\n",
       "0         0    5744    9       1   3      107 2017-11-10 04:00:00     4   \n",
       "1         1  119901    9       1   3      466 2017-11-10 04:00:00     4   \n",
       "2         2   72287   21       1  19      128 2017-11-10 04:00:00     4   \n",
       "3         3   78477   15       1  13      111 2017-11-10 04:00:00     4   \n",
       "4         4  123080   12       1  13      328 2017-11-10 04:00:00     4   \n",
       "\n",
       "   minute  in_test_hh       ...        app_rolling_max  device_rolling_max  \\\n",
       "0     240           1       ...                     49                 408   \n",
       "1     240           1       ...                     49                 408   \n",
       "2     240           1       ...                     10                 408   \n",
       "3     240           1       ...                     30                 408   \n",
       "4     240           1       ...                     40                 408   \n",
       "\n",
       "   os_rolling_max  channel_rolling_max  ip_rolling_max  app_rolling_min  \\\n",
       "0               4                   31               1               49   \n",
       "1               4                    7               1               49   \n",
       "2             102                    6               1               10   \n",
       "3              76                    1               1               30   \n",
       "4              76                    3               1               40   \n",
       "\n",
       "   device_rolling_min  os_rolling_min  channel_rolling_min  ip_rolling_min  \n",
       "0                 152               4                   31               1  \n",
       "1                 152               4                    7               1  \n",
       "2                 152             102                    6               1  \n",
       "3                 152              76                    1               1  \n",
       "4                 152              76                    3               1  \n",
       "\n",
       "[5 rows x 26 columns]"
      ]
     },
     "execution_count": 64,
     "metadata": {},
     "output_type": "execute_result"
    }
   ],
   "source": [
    "test.head()"
   ]
  },
  {
   "cell_type": "code",
   "execution_count": 65,
   "metadata": {
    "collapsed": true
   },
   "outputs": [],
   "source": [
    "pred = lgb_model.predict(test.loc[:, predictors], num_iteration=lgb_model.best_iteration)"
   ]
  },
  {
   "cell_type": "code",
   "execution_count": 66,
   "metadata": {
    "collapsed": true
   },
   "outputs": [],
   "source": [
    "test.loc[:, 'is_attributed'] = pred"
   ]
  },
  {
   "cell_type": "code",
   "execution_count": 67,
   "metadata": {
    "collapsed": true
   },
   "outputs": [],
   "source": [
    "test.loc[:, ['click_id', 'is_attributed']].to_csv('../results/{}.csv'.format('_'.join(to_get)), index=False)"
   ]
  },
  {
   "cell_type": "code",
   "execution_count": 68,
   "metadata": {},
   "outputs": [
    {
     "data": {
      "text/html": [
       "<div>\n",
       "<style>\n",
       "    .dataframe thead tr:only-child th {\n",
       "        text-align: right;\n",
       "    }\n",
       "\n",
       "    .dataframe thead th {\n",
       "        text-align: left;\n",
       "    }\n",
       "\n",
       "    .dataframe tbody tr th {\n",
       "        vertical-align: top;\n",
       "    }\n",
       "</style>\n",
       "<table border=\"1\" class=\"dataframe\">\n",
       "  <thead>\n",
       "    <tr style=\"text-align: right;\">\n",
       "      <th></th>\n",
       "      <th>click_id</th>\n",
       "      <th>is_attributed</th>\n",
       "    </tr>\n",
       "  </thead>\n",
       "  <tbody>\n",
       "    <tr>\n",
       "      <th>0</th>\n",
       "      <td>0</td>\n",
       "      <td>0.144527</td>\n",
       "    </tr>\n",
       "    <tr>\n",
       "      <th>1</th>\n",
       "      <td>1</td>\n",
       "      <td>0.461827</td>\n",
       "    </tr>\n",
       "    <tr>\n",
       "      <th>2</th>\n",
       "      <td>2</td>\n",
       "      <td>0.374029</td>\n",
       "    </tr>\n",
       "    <tr>\n",
       "      <th>3</th>\n",
       "      <td>3</td>\n",
       "      <td>0.356037</td>\n",
       "    </tr>\n",
       "    <tr>\n",
       "      <th>4</th>\n",
       "      <td>4</td>\n",
       "      <td>0.231412</td>\n",
       "    </tr>\n",
       "  </tbody>\n",
       "</table>\n",
       "</div>"
      ],
      "text/plain": [
       "   click_id  is_attributed\n",
       "0         0       0.144527\n",
       "1         1       0.461827\n",
       "2         2       0.374029\n",
       "3         3       0.356037\n",
       "4         4       0.231412"
      ]
     },
     "execution_count": 68,
     "metadata": {},
     "output_type": "execute_result"
    }
   ],
   "source": [
    "test.loc[:, ['click_id', 'is_attributed']].head()"
   ]
  },
  {
   "cell_type": "code",
   "execution_count": null,
   "metadata": {
    "collapsed": true
   },
   "outputs": [],
   "source": []
  }
 ],
 "metadata": {
  "kernelspec": {
   "display_name": "Python 3",
   "language": "python",
   "name": "python3"
  },
  "language_info": {
   "codemirror_mode": {
    "name": "ipython",
    "version": 3
   },
   "file_extension": ".py",
   "mimetype": "text/x-python",
   "name": "python",
   "nbconvert_exporter": "python",
   "pygments_lexer": "ipython3",
   "version": "3.6.1"
  }
 },
 "nbformat": 4,
 "nbformat_minor": 2
}
