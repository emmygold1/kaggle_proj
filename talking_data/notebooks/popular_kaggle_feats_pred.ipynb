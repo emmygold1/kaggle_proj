{
 "cells": [
  {
   "cell_type": "code",
   "execution_count": 1,
   "metadata": {},
   "outputs": [],
   "source": [
    "%matplotlib inline\n",
    "import numpy as np\n",
    "import pandas as pd\n",
    "import gc\n",
    "import lightgbm as lgb\n",
    "from sklearn.metrics import precision_score, recall_score, roc_auc_score\n",
    "import matplotlib.pyplot as plt\n",
    "from itertools import combinations"
   ]
  },
  {
   "cell_type": "markdown",
   "metadata": {},
   "source": [
    "# Prepare data"
   ]
  },
  {
   "cell_type": "code",
   "execution_count": 2,
   "metadata": {},
   "outputs": [],
   "source": [
    "hdf_path = '../derived_data/source.hdf'"
   ]
  },
  {
   "cell_type": "code",
   "execution_count": 3,
   "metadata": {},
   "outputs": [
    {
     "name": "stdout",
     "output_type": "stream",
     "text": [
      "CPU times: user 203 ms, sys: 959 ms, total: 1.16 s\n",
      "Wall time: 4.47 s\n"
     ]
    }
   ],
   "source": [
    "%%time\n",
    "test = pd.read_hdf(hdf_path, key='test')"
   ]
  },
  {
   "cell_type": "code",
   "execution_count": 4,
   "metadata": {},
   "outputs": [],
   "source": [
    "test.loc[:, 'day'] = test.click_time.dt.day.astype('uint8')"
   ]
  },
  {
   "cell_type": "code",
   "execution_count": 5,
   "metadata": {},
   "outputs": [],
   "source": [
    "test.loc[:, 'hour'] = test.click_time.dt.hour.astype('uint8')"
   ]
  },
  {
   "cell_type": "code",
   "execution_count": 6,
   "metadata": {},
   "outputs": [
    {
     "data": {
      "text/html": [
       "<div>\n",
       "<style scoped>\n",
       "    .dataframe tbody tr th:only-of-type {\n",
       "        vertical-align: middle;\n",
       "    }\n",
       "\n",
       "    .dataframe tbody tr th {\n",
       "        vertical-align: top;\n",
       "    }\n",
       "\n",
       "    .dataframe thead th {\n",
       "        text-align: right;\n",
       "    }\n",
       "</style>\n",
       "<table border=\"1\" class=\"dataframe\">\n",
       "  <thead>\n",
       "    <tr style=\"text-align: right;\">\n",
       "      <th></th>\n",
       "      <th>click_id</th>\n",
       "      <th>ip</th>\n",
       "      <th>app</th>\n",
       "      <th>device</th>\n",
       "      <th>os</th>\n",
       "      <th>channel</th>\n",
       "      <th>click_time</th>\n",
       "      <th>day</th>\n",
       "      <th>hour</th>\n",
       "    </tr>\n",
       "  </thead>\n",
       "  <tbody>\n",
       "    <tr>\n",
       "      <th>0</th>\n",
       "      <td>0</td>\n",
       "      <td>5744</td>\n",
       "      <td>9</td>\n",
       "      <td>1</td>\n",
       "      <td>3</td>\n",
       "      <td>107</td>\n",
       "      <td>2017-11-10 04:00:00</td>\n",
       "      <td>10</td>\n",
       "      <td>4</td>\n",
       "    </tr>\n",
       "    <tr>\n",
       "      <th>1</th>\n",
       "      <td>1</td>\n",
       "      <td>119901</td>\n",
       "      <td>9</td>\n",
       "      <td>1</td>\n",
       "      <td>3</td>\n",
       "      <td>466</td>\n",
       "      <td>2017-11-10 04:00:00</td>\n",
       "      <td>10</td>\n",
       "      <td>4</td>\n",
       "    </tr>\n",
       "    <tr>\n",
       "      <th>2</th>\n",
       "      <td>2</td>\n",
       "      <td>72287</td>\n",
       "      <td>21</td>\n",
       "      <td>1</td>\n",
       "      <td>19</td>\n",
       "      <td>128</td>\n",
       "      <td>2017-11-10 04:00:00</td>\n",
       "      <td>10</td>\n",
       "      <td>4</td>\n",
       "    </tr>\n",
       "    <tr>\n",
       "      <th>3</th>\n",
       "      <td>3</td>\n",
       "      <td>78477</td>\n",
       "      <td>15</td>\n",
       "      <td>1</td>\n",
       "      <td>13</td>\n",
       "      <td>111</td>\n",
       "      <td>2017-11-10 04:00:00</td>\n",
       "      <td>10</td>\n",
       "      <td>4</td>\n",
       "    </tr>\n",
       "    <tr>\n",
       "      <th>4</th>\n",
       "      <td>4</td>\n",
       "      <td>123080</td>\n",
       "      <td>12</td>\n",
       "      <td>1</td>\n",
       "      <td>13</td>\n",
       "      <td>328</td>\n",
       "      <td>2017-11-10 04:00:00</td>\n",
       "      <td>10</td>\n",
       "      <td>4</td>\n",
       "    </tr>\n",
       "  </tbody>\n",
       "</table>\n",
       "</div>"
      ],
      "text/plain": [
       "   click_id      ip  app  device  os  channel          click_time  day  hour\n",
       "0         0    5744    9       1   3      107 2017-11-10 04:00:00   10     4\n",
       "1         1  119901    9       1   3      466 2017-11-10 04:00:00   10     4\n",
       "2         2   72287   21       1  19      128 2017-11-10 04:00:00   10     4\n",
       "3         3   78477   15       1  13      111 2017-11-10 04:00:00   10     4\n",
       "4         4  123080   12       1  13      328 2017-11-10 04:00:00   10     4"
      ]
     },
     "execution_count": 6,
     "metadata": {},
     "output_type": "execute_result"
    }
   ],
   "source": [
    "test.head()"
   ]
  },
  {
   "cell_type": "code",
   "execution_count": 7,
   "metadata": {},
   "outputs": [
    {
     "name": "stdout",
     "output_type": "stream",
     "text": [
      "<class 'pandas.core.frame.DataFrame'>\n",
      "Int64Index: 18790469 entries, 0 to 18790468\n",
      "Data columns (total 9 columns):\n",
      "click_id      uint32\n",
      "ip            uint32\n",
      "app           uint16\n",
      "device        uint16\n",
      "os            uint16\n",
      "channel       uint16\n",
      "click_time    datetime64[ns]\n",
      "day           uint8\n",
      "hour          uint8\n",
      "dtypes: datetime64[ns](1), uint16(4), uint32(2), uint8(2)\n",
      "memory usage: 609.3 MB\n"
     ]
    }
   ],
   "source": [
    "test.info()"
   ]
  },
  {
   "cell_type": "code",
   "execution_count": 8,
   "metadata": {},
   "outputs": [
    {
     "name": "stdout",
     "output_type": "stream",
     "text": [
      "CPU times: user 576 ms, sys: 414 ms, total: 990 ms\n",
      "Wall time: 262 ms\n"
     ]
    }
   ],
   "source": [
    "%%time\n",
    "test.drop(['click_time'], axis=1, inplace=True)"
   ]
  },
  {
   "cell_type": "code",
   "execution_count": 9,
   "metadata": {},
   "outputs": [
    {
     "data": {
      "text/plain": [
       "17"
      ]
     },
     "execution_count": 9,
     "metadata": {},
     "output_type": "execute_result"
    }
   ],
   "source": [
    "gc.collect()"
   ]
  },
  {
   "cell_type": "code",
   "execution_count": 10,
   "metadata": {},
   "outputs": [],
   "source": [
    "most_freq_hours_in_test_data = [4, 5, 9, 10, 13, 14]\n",
    "least_freq_hours_in_test_data = [6, 11, 15]"
   ]
  },
  {
   "cell_type": "code",
   "execution_count": 11,
   "metadata": {},
   "outputs": [],
   "source": [
    "test.loc[:, 'in_test_hh'] = (\n",
    "    3 - 2*test.hour.isin(most_freq_hours_in_test_data) - 1*test.hour.isin(least_freq_hours_in_test_data)\n",
    ").astype('uint8')"
   ]
  },
  {
   "cell_type": "code",
   "execution_count": 12,
   "metadata": {},
   "outputs": [
    {
     "data": {
      "text/html": [
       "<div>\n",
       "<style scoped>\n",
       "    .dataframe tbody tr th:only-of-type {\n",
       "        vertical-align: middle;\n",
       "    }\n",
       "\n",
       "    .dataframe tbody tr th {\n",
       "        vertical-align: top;\n",
       "    }\n",
       "\n",
       "    .dataframe thead th {\n",
       "        text-align: right;\n",
       "    }\n",
       "</style>\n",
       "<table border=\"1\" class=\"dataframe\">\n",
       "  <thead>\n",
       "    <tr style=\"text-align: right;\">\n",
       "      <th></th>\n",
       "      <th>click_id</th>\n",
       "      <th>ip</th>\n",
       "      <th>app</th>\n",
       "      <th>device</th>\n",
       "      <th>os</th>\n",
       "      <th>channel</th>\n",
       "      <th>day</th>\n",
       "      <th>hour</th>\n",
       "      <th>in_test_hh</th>\n",
       "    </tr>\n",
       "  </thead>\n",
       "  <tbody>\n",
       "    <tr>\n",
       "      <th>0</th>\n",
       "      <td>0</td>\n",
       "      <td>5744</td>\n",
       "      <td>9</td>\n",
       "      <td>1</td>\n",
       "      <td>3</td>\n",
       "      <td>107</td>\n",
       "      <td>10</td>\n",
       "      <td>4</td>\n",
       "      <td>1</td>\n",
       "    </tr>\n",
       "    <tr>\n",
       "      <th>1</th>\n",
       "      <td>1</td>\n",
       "      <td>119901</td>\n",
       "      <td>9</td>\n",
       "      <td>1</td>\n",
       "      <td>3</td>\n",
       "      <td>466</td>\n",
       "      <td>10</td>\n",
       "      <td>4</td>\n",
       "      <td>1</td>\n",
       "    </tr>\n",
       "    <tr>\n",
       "      <th>2</th>\n",
       "      <td>2</td>\n",
       "      <td>72287</td>\n",
       "      <td>21</td>\n",
       "      <td>1</td>\n",
       "      <td>19</td>\n",
       "      <td>128</td>\n",
       "      <td>10</td>\n",
       "      <td>4</td>\n",
       "      <td>1</td>\n",
       "    </tr>\n",
       "    <tr>\n",
       "      <th>3</th>\n",
       "      <td>3</td>\n",
       "      <td>78477</td>\n",
       "      <td>15</td>\n",
       "      <td>1</td>\n",
       "      <td>13</td>\n",
       "      <td>111</td>\n",
       "      <td>10</td>\n",
       "      <td>4</td>\n",
       "      <td>1</td>\n",
       "    </tr>\n",
       "    <tr>\n",
       "      <th>4</th>\n",
       "      <td>4</td>\n",
       "      <td>123080</td>\n",
       "      <td>12</td>\n",
       "      <td>1</td>\n",
       "      <td>13</td>\n",
       "      <td>328</td>\n",
       "      <td>10</td>\n",
       "      <td>4</td>\n",
       "      <td>1</td>\n",
       "    </tr>\n",
       "  </tbody>\n",
       "</table>\n",
       "</div>"
      ],
      "text/plain": [
       "   click_id      ip  app  device  os  channel  day  hour  in_test_hh\n",
       "0         0    5744    9       1   3      107   10     4           1\n",
       "1         1  119901    9       1   3      466   10     4           1\n",
       "2         2   72287   21       1  19      128   10     4           1\n",
       "3         3   78477   15       1  13      111   10     4           1\n",
       "4         4  123080   12       1  13      328   10     4           1"
      ]
     },
     "execution_count": 12,
     "metadata": {},
     "output_type": "execute_result"
    }
   ],
   "source": [
    "test.head()"
   ]
  },
  {
   "cell_type": "code",
   "execution_count": 13,
   "metadata": {},
   "outputs": [
    {
     "data": {
      "text/plain": [
       "38"
      ]
     },
     "execution_count": 13,
     "metadata": {},
     "output_type": "execute_result"
    }
   ],
   "source": [
    "gc.collect()"
   ]
  },
  {
   "cell_type": "code",
   "execution_count": 14,
   "metadata": {},
   "outputs": [],
   "source": [
    "uint8_max = np.iinfo(np.uint8).max\n",
    "uint16_max = np.iinfo(np.uint16).max\n",
    "uint32_max = np.iinfo(np.uint32).max\n",
    "def choose_int_type(n):\n",
    "    if n <= uint8_max:\n",
    "        return 'uint8'\n",
    "    elif n <= uint16_max:\n",
    "        return 'uint16'\n",
    "    elif n <= uint32_max:\n",
    "        return 'uint32'\n",
    "    else:\n",
    "        return 'uint64'"
   ]
  },
  {
   "cell_type": "code",
   "execution_count": 15,
   "metadata": {},
   "outputs": [],
   "source": [
    "def process(dat, itercols, combo_max=None):\n",
    "    combos = []\n",
    "    if combo_max is None:\n",
    "        combo_max = len(itercols)\n",
    "    for i in range(combo_max):\n",
    "        combos += list(combinations(itercols, i+1))\n",
    "    for hour in ['hour', 'in_test_hh']:\n",
    "        for combo in combos:\n",
    "            print('Process {hour}, {combo}'.format(hour=hour, combo=combo))\n",
    "            combo = list(combo)\n",
    "            feats = ['day', hour] + combo\n",
    "            gp = dat[feats].groupby(feats).size()\n",
    "            int_type = choose_int_type(gp.max())\n",
    "            gp = gp.astype(int_type)\n",
    "            gp = gp.reset_index().rename(columns={0: '_'.join(['n'] + feats)})\n",
    "            dat = dat.merge(gp, on=feats, how='left')\n",
    "            del gp\n",
    "            gc.collect()\n",
    "    return dat"
   ]
  },
  {
   "cell_type": "code",
   "execution_count": 16,
   "metadata": {},
   "outputs": [
    {
     "data": {
      "text/plain": [
       "0"
      ]
     },
     "execution_count": 16,
     "metadata": {},
     "output_type": "execute_result"
    }
   ],
   "source": [
    "gc.collect()"
   ]
  },
  {
   "cell_type": "code",
   "execution_count": 17,
   "metadata": {},
   "outputs": [
    {
     "name": "stdout",
     "output_type": "stream",
     "text": [
      "Process hour, ('ip',)\n",
      "Process hour, ('app',)\n",
      "Process hour, ('device',)\n",
      "Process hour, ('os',)\n",
      "Process hour, ('channel',)\n",
      "Process hour, ('ip', 'app')\n",
      "Process hour, ('ip', 'device')\n",
      "Process hour, ('ip', 'os')\n",
      "Process hour, ('ip', 'channel')\n",
      "Process hour, ('app', 'device')\n",
      "Process hour, ('app', 'os')\n",
      "Process hour, ('app', 'channel')\n",
      "Process hour, ('device', 'os')\n",
      "Process hour, ('device', 'channel')\n",
      "Process hour, ('os', 'channel')\n",
      "Process in_test_hh, ('ip',)\n",
      "Process in_test_hh, ('app',)\n",
      "Process in_test_hh, ('device',)\n",
      "Process in_test_hh, ('os',)\n",
      "Process in_test_hh, ('channel',)\n",
      "Process in_test_hh, ('ip', 'app')\n",
      "Process in_test_hh, ('ip', 'device')\n",
      "Process in_test_hh, ('ip', 'os')\n",
      "Process in_test_hh, ('ip', 'channel')\n",
      "Process in_test_hh, ('app', 'device')\n",
      "Process in_test_hh, ('app', 'os')\n",
      "Process in_test_hh, ('app', 'channel')\n",
      "Process in_test_hh, ('device', 'os')\n",
      "Process in_test_hh, ('device', 'channel')\n",
      "Process in_test_hh, ('os', 'channel')\n",
      "CPU times: user 7min 24s, sys: 4min 41s, total: 12min 6s\n",
      "Wall time: 4min 29s\n"
     ]
    }
   ],
   "source": [
    "%%time\n",
    "test = process(test, ['ip', 'app', 'device', 'os', 'channel'], combo_max=2)"
   ]
  },
  {
   "cell_type": "code",
   "execution_count": 18,
   "metadata": {},
   "outputs": [
    {
     "data": {
      "text/html": [
       "<div>\n",
       "<style scoped>\n",
       "    .dataframe tbody tr th:only-of-type {\n",
       "        vertical-align: middle;\n",
       "    }\n",
       "\n",
       "    .dataframe tbody tr th {\n",
       "        vertical-align: top;\n",
       "    }\n",
       "\n",
       "    .dataframe thead th {\n",
       "        text-align: right;\n",
       "    }\n",
       "</style>\n",
       "<table border=\"1\" class=\"dataframe\">\n",
       "  <thead>\n",
       "    <tr style=\"text-align: right;\">\n",
       "      <th></th>\n",
       "      <th>click_id</th>\n",
       "      <th>ip</th>\n",
       "      <th>app</th>\n",
       "      <th>device</th>\n",
       "      <th>os</th>\n",
       "      <th>channel</th>\n",
       "      <th>day</th>\n",
       "      <th>hour</th>\n",
       "      <th>in_test_hh</th>\n",
       "      <th>n_day_hour_ip</th>\n",
       "      <th>...</th>\n",
       "      <th>n_day_in_test_hh_ip_app</th>\n",
       "      <th>n_day_in_test_hh_ip_device</th>\n",
       "      <th>n_day_in_test_hh_ip_os</th>\n",
       "      <th>n_day_in_test_hh_ip_channel</th>\n",
       "      <th>n_day_in_test_hh_app_device</th>\n",
       "      <th>n_day_in_test_hh_app_os</th>\n",
       "      <th>n_day_in_test_hh_app_channel</th>\n",
       "      <th>n_day_in_test_hh_device_os</th>\n",
       "      <th>n_day_in_test_hh_device_channel</th>\n",
       "      <th>n_day_in_test_hh_os_channel</th>\n",
       "    </tr>\n",
       "  </thead>\n",
       "  <tbody>\n",
       "    <tr>\n",
       "      <th>0</th>\n",
       "      <td>0</td>\n",
       "      <td>5744</td>\n",
       "      <td>9</td>\n",
       "      <td>1</td>\n",
       "      <td>3</td>\n",
       "      <td>107</td>\n",
       "      <td>10</td>\n",
       "      <td>4</td>\n",
       "      <td>1</td>\n",
       "      <td>34</td>\n",
       "      <td>...</td>\n",
       "      <td>28</td>\n",
       "      <td>91</td>\n",
       "      <td>3</td>\n",
       "      <td>4</td>\n",
       "      <td>2605722</td>\n",
       "      <td>45011</td>\n",
       "      <td>269100</td>\n",
       "      <td>274004</td>\n",
       "      <td>1182849</td>\n",
       "      <td>29931</td>\n",
       "    </tr>\n",
       "    <tr>\n",
       "      <th>1</th>\n",
       "      <td>1</td>\n",
       "      <td>119901</td>\n",
       "      <td>9</td>\n",
       "      <td>1</td>\n",
       "      <td>3</td>\n",
       "      <td>466</td>\n",
       "      <td>10</td>\n",
       "      <td>4</td>\n",
       "      <td>1</td>\n",
       "      <td>403</td>\n",
       "      <td>...</td>\n",
       "      <td>289</td>\n",
       "      <td>2069</td>\n",
       "      <td>43</td>\n",
       "      <td>38</td>\n",
       "      <td>2605722</td>\n",
       "      <td>45011</td>\n",
       "      <td>372385</td>\n",
       "      <td>274004</td>\n",
       "      <td>396504</td>\n",
       "      <td>6854</td>\n",
       "    </tr>\n",
       "    <tr>\n",
       "      <th>2</th>\n",
       "      <td>2</td>\n",
       "      <td>72287</td>\n",
       "      <td>21</td>\n",
       "      <td>1</td>\n",
       "      <td>19</td>\n",
       "      <td>128</td>\n",
       "      <td>10</td>\n",
       "      <td>4</td>\n",
       "      <td>1</td>\n",
       "      <td>229</td>\n",
       "      <td>...</td>\n",
       "      <td>312</td>\n",
       "      <td>2092</td>\n",
       "      <td>197</td>\n",
       "      <td>158</td>\n",
       "      <td>615512</td>\n",
       "      <td>173657</td>\n",
       "      <td>219945</td>\n",
       "      <td>4213080</td>\n",
       "      <td>486787</td>\n",
       "      <td>134873</td>\n",
       "    </tr>\n",
       "    <tr>\n",
       "      <th>3</th>\n",
       "      <td>3</td>\n",
       "      <td>78477</td>\n",
       "      <td>15</td>\n",
       "      <td>1</td>\n",
       "      <td>13</td>\n",
       "      <td>111</td>\n",
       "      <td>10</td>\n",
       "      <td>4</td>\n",
       "      <td>1</td>\n",
       "      <td>239</td>\n",
       "      <td>...</td>\n",
       "      <td>42</td>\n",
       "      <td>1190</td>\n",
       "      <td>328</td>\n",
       "      <td>2</td>\n",
       "      <td>1048609</td>\n",
       "      <td>230437</td>\n",
       "      <td>67035</td>\n",
       "      <td>3759433</td>\n",
       "      <td>66694</td>\n",
       "      <td>14169</td>\n",
       "    </tr>\n",
       "    <tr>\n",
       "      <th>4</th>\n",
       "      <td>4</td>\n",
       "      <td>123080</td>\n",
       "      <td>12</td>\n",
       "      <td>1</td>\n",
       "      <td>13</td>\n",
       "      <td>328</td>\n",
       "      <td>10</td>\n",
       "      <td>4</td>\n",
       "      <td>1</td>\n",
       "      <td>60</td>\n",
       "      <td>...</td>\n",
       "      <td>24</td>\n",
       "      <td>203</td>\n",
       "      <td>49</td>\n",
       "      <td>2</td>\n",
       "      <td>2139490</td>\n",
       "      <td>524679</td>\n",
       "      <td>191979</td>\n",
       "      <td>3759433</td>\n",
       "      <td>190644</td>\n",
       "      <td>43693</td>\n",
       "    </tr>\n",
       "  </tbody>\n",
       "</table>\n",
       "<p>5 rows × 39 columns</p>\n",
       "</div>"
      ],
      "text/plain": [
       "   click_id      ip  app  device  os  channel  day  hour  in_test_hh  \\\n",
       "0         0    5744    9       1   3      107   10     4           1   \n",
       "1         1  119901    9       1   3      466   10     4           1   \n",
       "2         2   72287   21       1  19      128   10     4           1   \n",
       "3         3   78477   15       1  13      111   10     4           1   \n",
       "4         4  123080   12       1  13      328   10     4           1   \n",
       "\n",
       "   n_day_hour_ip             ...               n_day_in_test_hh_ip_app  \\\n",
       "0             34             ...                                    28   \n",
       "1            403             ...                                   289   \n",
       "2            229             ...                                   312   \n",
       "3            239             ...                                    42   \n",
       "4             60             ...                                    24   \n",
       "\n",
       "   n_day_in_test_hh_ip_device  n_day_in_test_hh_ip_os  \\\n",
       "0                          91                       3   \n",
       "1                        2069                      43   \n",
       "2                        2092                     197   \n",
       "3                        1190                     328   \n",
       "4                         203                      49   \n",
       "\n",
       "   n_day_in_test_hh_ip_channel  n_day_in_test_hh_app_device  \\\n",
       "0                            4                      2605722   \n",
       "1                           38                      2605722   \n",
       "2                          158                       615512   \n",
       "3                            2                      1048609   \n",
       "4                            2                      2139490   \n",
       "\n",
       "   n_day_in_test_hh_app_os  n_day_in_test_hh_app_channel  \\\n",
       "0                    45011                        269100   \n",
       "1                    45011                        372385   \n",
       "2                   173657                        219945   \n",
       "3                   230437                         67035   \n",
       "4                   524679                        191979   \n",
       "\n",
       "   n_day_in_test_hh_device_os  n_day_in_test_hh_device_channel  \\\n",
       "0                      274004                          1182849   \n",
       "1                      274004                           396504   \n",
       "2                     4213080                           486787   \n",
       "3                     3759433                            66694   \n",
       "4                     3759433                           190644   \n",
       "\n",
       "   n_day_in_test_hh_os_channel  \n",
       "0                        29931  \n",
       "1                         6854  \n",
       "2                       134873  \n",
       "3                        14169  \n",
       "4                        43693  \n",
       "\n",
       "[5 rows x 39 columns]"
      ]
     },
     "execution_count": 18,
     "metadata": {},
     "output_type": "execute_result"
    }
   ],
   "source": [
    "test.head()"
   ]
  },
  {
   "cell_type": "code",
   "execution_count": 19,
   "metadata": {},
   "outputs": [
    {
     "data": {
      "text/plain": [
       "119"
      ]
     },
     "execution_count": 19,
     "metadata": {},
     "output_type": "execute_result"
    }
   ],
   "source": [
    "gc.collect()"
   ]
  },
  {
   "cell_type": "code",
   "execution_count": 20,
   "metadata": {},
   "outputs": [],
   "source": [
    "test.drop(['ip', 'day'], axis=1, inplace=True)"
   ]
  },
  {
   "cell_type": "markdown",
   "metadata": {},
   "source": [
    "# Light GBM"
   ]
  },
  {
   "cell_type": "code",
   "execution_count": 21,
   "metadata": {},
   "outputs": [
    {
     "data": {
      "text/plain": [
       "Index(['click_id', 'app', 'device', 'os', 'channel', 'hour', 'in_test_hh',\n",
       "       'n_day_hour_ip', 'n_day_hour_app', 'n_day_hour_device', 'n_day_hour_os',\n",
       "       'n_day_hour_channel', 'n_day_hour_ip_app', 'n_day_hour_ip_device',\n",
       "       'n_day_hour_ip_os', 'n_day_hour_ip_channel', 'n_day_hour_app_device',\n",
       "       'n_day_hour_app_os', 'n_day_hour_app_channel', 'n_day_hour_device_os',\n",
       "       'n_day_hour_device_channel', 'n_day_hour_os_channel',\n",
       "       'n_day_in_test_hh_ip', 'n_day_in_test_hh_app',\n",
       "       'n_day_in_test_hh_device', 'n_day_in_test_hh_os',\n",
       "       'n_day_in_test_hh_channel', 'n_day_in_test_hh_ip_app',\n",
       "       'n_day_in_test_hh_ip_device', 'n_day_in_test_hh_ip_os',\n",
       "       'n_day_in_test_hh_ip_channel', 'n_day_in_test_hh_app_device',\n",
       "       'n_day_in_test_hh_app_os', 'n_day_in_test_hh_app_channel',\n",
       "       'n_day_in_test_hh_device_os', 'n_day_in_test_hh_device_channel',\n",
       "       'n_day_in_test_hh_os_channel'],\n",
       "      dtype='object')"
      ]
     },
     "execution_count": 21,
     "metadata": {},
     "output_type": "execute_result"
    }
   ],
   "source": [
    "test.columns"
   ]
  },
  {
   "cell_type": "code",
   "execution_count": 22,
   "metadata": {},
   "outputs": [],
   "source": [
    "predictors = test.columns.tolist()"
   ]
  },
  {
   "cell_type": "code",
   "execution_count": 23,
   "metadata": {},
   "outputs": [],
   "source": [
    "predictors.remove('click_id')"
   ]
  },
  {
   "cell_type": "code",
   "execution_count": 24,
   "metadata": {},
   "outputs": [
    {
     "data": {
      "text/plain": [
       "['app',\n",
       " 'device',\n",
       " 'os',\n",
       " 'channel',\n",
       " 'hour',\n",
       " 'in_test_hh',\n",
       " 'n_day_hour_ip',\n",
       " 'n_day_hour_app',\n",
       " 'n_day_hour_device',\n",
       " 'n_day_hour_os',\n",
       " 'n_day_hour_channel',\n",
       " 'n_day_hour_ip_app',\n",
       " 'n_day_hour_ip_device',\n",
       " 'n_day_hour_ip_os',\n",
       " 'n_day_hour_ip_channel',\n",
       " 'n_day_hour_app_device',\n",
       " 'n_day_hour_app_os',\n",
       " 'n_day_hour_app_channel',\n",
       " 'n_day_hour_device_os',\n",
       " 'n_day_hour_device_channel',\n",
       " 'n_day_hour_os_channel',\n",
       " 'n_day_in_test_hh_ip',\n",
       " 'n_day_in_test_hh_app',\n",
       " 'n_day_in_test_hh_device',\n",
       " 'n_day_in_test_hh_os',\n",
       " 'n_day_in_test_hh_channel',\n",
       " 'n_day_in_test_hh_ip_app',\n",
       " 'n_day_in_test_hh_ip_device',\n",
       " 'n_day_in_test_hh_ip_os',\n",
       " 'n_day_in_test_hh_ip_channel',\n",
       " 'n_day_in_test_hh_app_device',\n",
       " 'n_day_in_test_hh_app_os',\n",
       " 'n_day_in_test_hh_app_channel',\n",
       " 'n_day_in_test_hh_device_os',\n",
       " 'n_day_in_test_hh_device_channel',\n",
       " 'n_day_in_test_hh_os_channel']"
      ]
     },
     "execution_count": 24,
     "metadata": {},
     "output_type": "execute_result"
    }
   ],
   "source": [
    "predictors"
   ]
  },
  {
   "cell_type": "code",
   "execution_count": 25,
   "metadata": {},
   "outputs": [
    {
     "data": {
      "text/plain": [
       "0"
      ]
     },
     "execution_count": 25,
     "metadata": {},
     "output_type": "execute_result"
    }
   ],
   "source": [
    "gc.collect()"
   ]
  },
  {
   "cell_type": "code",
   "execution_count": 26,
   "metadata": {},
   "outputs": [],
   "source": [
    "import pickle\n",
    "\n",
    "with open('../results/kaggle_popular9.pickle', 'rb') as f:\n",
    "    lgb_model = pickle.load(f)"
   ]
  },
  {
   "cell_type": "code",
   "execution_count": 28,
   "metadata": {},
   "outputs": [
    {
     "name": "stdout",
     "output_type": "stream",
     "text": [
      "CPU times: user 11min 53s, sys: 6.48 s, total: 12min\n",
      "Wall time: 3min 5s\n"
     ]
    }
   ],
   "source": [
    "%%time\n",
    "pred = lgb_model.predict(test.loc[:, predictors], num_iteration=lgb_model.best_iteration)"
   ]
  },
  {
   "cell_type": "code",
   "execution_count": 29,
   "metadata": {},
   "outputs": [],
   "source": [
    "submit = pd.DataFrame({'click_id': test.click_id, 'is_attributed': pred})\n",
    "\n",
    "submit.to_csv('../results/kaggle_popular_day9_single_combo2.csv', index=False, float_format='%.9f')"
   ]
  },
  {
   "cell_type": "code",
   "execution_count": null,
   "metadata": {},
   "outputs": [],
   "source": []
  }
 ],
 "metadata": {
  "kernelspec": {
   "display_name": "Python 3",
   "language": "python",
   "name": "python3"
  },
  "language_info": {
   "codemirror_mode": {
    "name": "ipython",
    "version": 3
   },
   "file_extension": ".py",
   "mimetype": "text/x-python",
   "name": "python",
   "nbconvert_exporter": "python",
   "pygments_lexer": "ipython3",
   "version": "3.6.5"
  }
 },
 "nbformat": 4,
 "nbformat_minor": 2
}
