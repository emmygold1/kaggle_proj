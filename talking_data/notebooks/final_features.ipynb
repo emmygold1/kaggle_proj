{
 "cells": [
  {
   "cell_type": "code",
   "execution_count": 1,
   "metadata": {
    "collapsed": true
   },
   "outputs": [],
   "source": [
    "%matplotlib inline\n",
    "import numpy as np\n",
    "import pandas as pd\n",
    "import gc\n",
    "import lightgbm as lgb\n",
    "import matplotlib.pyplot as plt\n",
    "import pickle\n",
    "import time"
   ]
  },
  {
   "cell_type": "markdown",
   "metadata": {},
   "source": [
    "# Prepare data\n",
    "\n",
    "* Attributed rate: how attribution is distributed in combinations\n",
    "* Click counts: how clicks are distributed in combinations\n",
    "* Rolling click counts: how clicks are distributed in combinations in sliding windows"
   ]
  },
  {
   "cell_type": "code",
   "execution_count": 2,
   "metadata": {
    "collapsed": true
   },
   "outputs": [],
   "source": [
    "hdf_path = '../derived_data/source.hdf'"
   ]
  },
  {
   "cell_type": "code",
   "execution_count": 3,
   "metadata": {
    "collapsed": true
   },
   "outputs": [],
   "source": [
    "res_hdf_path = '../derived_data/feats_pile.hdf'"
   ]
  },
  {
   "cell_type": "code",
   "execution_count": 4,
   "metadata": {},
   "outputs": [
    {
     "name": "stdout",
     "output_type": "stream",
     "text": [
      "CPU times: user 188 ms, sys: 1.88 s, total: 2.07 s\n",
      "Wall time: 2.07 s\n"
     ]
    }
   ],
   "source": [
    "%%time\n",
    "dat = pd.read_hdf(hdf_path, key='train')"
   ]
  },
  {
   "cell_type": "code",
   "execution_count": 5,
   "metadata": {},
   "outputs": [
    {
     "data": {
      "text/html": [
       "<div>\n",
       "<style>\n",
       "    .dataframe thead tr:only-child th {\n",
       "        text-align: right;\n",
       "    }\n",
       "\n",
       "    .dataframe thead th {\n",
       "        text-align: left;\n",
       "    }\n",
       "\n",
       "    .dataframe tbody tr th {\n",
       "        vertical-align: top;\n",
       "    }\n",
       "</style>\n",
       "<table border=\"1\" class=\"dataframe\">\n",
       "  <thead>\n",
       "    <tr style=\"text-align: right;\">\n",
       "      <th></th>\n",
       "      <th>ip</th>\n",
       "      <th>app</th>\n",
       "      <th>device</th>\n",
       "      <th>os</th>\n",
       "      <th>channel</th>\n",
       "      <th>click_time</th>\n",
       "      <th>is_attributed</th>\n",
       "    </tr>\n",
       "  </thead>\n",
       "  <tbody>\n",
       "    <tr>\n",
       "      <th>0</th>\n",
       "      <td>83230</td>\n",
       "      <td>3</td>\n",
       "      <td>1</td>\n",
       "      <td>13</td>\n",
       "      <td>379</td>\n",
       "      <td>2017-11-06 14:32:21</td>\n",
       "      <td>0</td>\n",
       "    </tr>\n",
       "    <tr>\n",
       "      <th>1</th>\n",
       "      <td>17357</td>\n",
       "      <td>3</td>\n",
       "      <td>1</td>\n",
       "      <td>19</td>\n",
       "      <td>379</td>\n",
       "      <td>2017-11-06 14:33:34</td>\n",
       "      <td>0</td>\n",
       "    </tr>\n",
       "    <tr>\n",
       "      <th>2</th>\n",
       "      <td>35810</td>\n",
       "      <td>3</td>\n",
       "      <td>1</td>\n",
       "      <td>13</td>\n",
       "      <td>379</td>\n",
       "      <td>2017-11-06 14:34:12</td>\n",
       "      <td>0</td>\n",
       "    </tr>\n",
       "    <tr>\n",
       "      <th>3</th>\n",
       "      <td>45745</td>\n",
       "      <td>14</td>\n",
       "      <td>1</td>\n",
       "      <td>13</td>\n",
       "      <td>478</td>\n",
       "      <td>2017-11-06 14:34:52</td>\n",
       "      <td>0</td>\n",
       "    </tr>\n",
       "    <tr>\n",
       "      <th>4</th>\n",
       "      <td>161007</td>\n",
       "      <td>3</td>\n",
       "      <td>1</td>\n",
       "      <td>13</td>\n",
       "      <td>379</td>\n",
       "      <td>2017-11-06 14:35:08</td>\n",
       "      <td>0</td>\n",
       "    </tr>\n",
       "  </tbody>\n",
       "</table>\n",
       "</div>"
      ],
      "text/plain": [
       "       ip  app  device  os  channel          click_time  is_attributed\n",
       "0   83230    3       1  13      379 2017-11-06 14:32:21              0\n",
       "1   17357    3       1  19      379 2017-11-06 14:33:34              0\n",
       "2   35810    3       1  13      379 2017-11-06 14:34:12              0\n",
       "3   45745   14       1  13      478 2017-11-06 14:34:52              0\n",
       "4  161007    3       1  13      379 2017-11-06 14:35:08              0"
      ]
     },
     "execution_count": 5,
     "metadata": {},
     "output_type": "execute_result"
    }
   ],
   "source": [
    "dat.head()"
   ]
  },
  {
   "cell_type": "code",
   "execution_count": 6,
   "metadata": {
    "collapsed": true
   },
   "outputs": [],
   "source": [
    "train = dat.loc[(dat.click_time >= '2017-11-09 04:00:00') & (dat.click_time < '2017-11-09 15:00:00')].copy()"
   ]
  },
  {
   "cell_type": "code",
   "execution_count": 7,
   "metadata": {
    "collapsed": true
   },
   "outputs": [],
   "source": [
    "train_len = train.shape[0]"
   ]
  },
  {
   "cell_type": "code",
   "execution_count": 8,
   "metadata": {
    "collapsed": true
   },
   "outputs": [],
   "source": [
    "test = pd.read_hdf(hdf_path, key='test')"
   ]
  },
  {
   "cell_type": "code",
   "execution_count": 9,
   "metadata": {
    "collapsed": true
   },
   "outputs": [],
   "source": [
    "train = train.append(test)"
   ]
  },
  {
   "cell_type": "code",
   "execution_count": 10,
   "metadata": {},
   "outputs": [
    {
     "data": {
      "text/html": [
       "<div>\n",
       "<style>\n",
       "    .dataframe thead tr:only-child th {\n",
       "        text-align: right;\n",
       "    }\n",
       "\n",
       "    .dataframe thead th {\n",
       "        text-align: left;\n",
       "    }\n",
       "\n",
       "    .dataframe tbody tr th {\n",
       "        vertical-align: top;\n",
       "    }\n",
       "</style>\n",
       "<table border=\"1\" class=\"dataframe\">\n",
       "  <thead>\n",
       "    <tr style=\"text-align: right;\">\n",
       "      <th></th>\n",
       "      <th>app</th>\n",
       "      <th>channel</th>\n",
       "      <th>click_id</th>\n",
       "      <th>click_time</th>\n",
       "      <th>device</th>\n",
       "      <th>ip</th>\n",
       "      <th>is_attributed</th>\n",
       "      <th>os</th>\n",
       "    </tr>\n",
       "  </thead>\n",
       "  <tbody>\n",
       "    <tr>\n",
       "      <th>144708152</th>\n",
       "      <td>2</td>\n",
       "      <td>477</td>\n",
       "      <td>NaN</td>\n",
       "      <td>2017-11-09 04:00:00</td>\n",
       "      <td>1</td>\n",
       "      <td>38877</td>\n",
       "      <td>0.0</td>\n",
       "      <td>19</td>\n",
       "    </tr>\n",
       "    <tr>\n",
       "      <th>144708153</th>\n",
       "      <td>14</td>\n",
       "      <td>489</td>\n",
       "      <td>NaN</td>\n",
       "      <td>2017-11-09 04:00:00</td>\n",
       "      <td>1</td>\n",
       "      <td>104271</td>\n",
       "      <td>0.0</td>\n",
       "      <td>18</td>\n",
       "    </tr>\n",
       "    <tr>\n",
       "      <th>144708154</th>\n",
       "      <td>3</td>\n",
       "      <td>280</td>\n",
       "      <td>NaN</td>\n",
       "      <td>2017-11-09 04:00:00</td>\n",
       "      <td>1</td>\n",
       "      <td>92922</td>\n",
       "      <td>0.0</td>\n",
       "      <td>13</td>\n",
       "    </tr>\n",
       "    <tr>\n",
       "      <th>144708155</th>\n",
       "      <td>3</td>\n",
       "      <td>19</td>\n",
       "      <td>NaN</td>\n",
       "      <td>2017-11-09 04:00:00</td>\n",
       "      <td>1</td>\n",
       "      <td>6505</td>\n",
       "      <td>0.0</td>\n",
       "      <td>13</td>\n",
       "    </tr>\n",
       "    <tr>\n",
       "      <th>144708156</th>\n",
       "      <td>9</td>\n",
       "      <td>334</td>\n",
       "      <td>NaN</td>\n",
       "      <td>2017-11-09 04:00:00</td>\n",
       "      <td>1</td>\n",
       "      <td>19964</td>\n",
       "      <td>0.0</td>\n",
       "      <td>13</td>\n",
       "    </tr>\n",
       "  </tbody>\n",
       "</table>\n",
       "</div>"
      ],
      "text/plain": [
       "           app  channel  click_id          click_time  device      ip  \\\n",
       "144708152    2      477       NaN 2017-11-09 04:00:00       1   38877   \n",
       "144708153   14      489       NaN 2017-11-09 04:00:00       1  104271   \n",
       "144708154    3      280       NaN 2017-11-09 04:00:00       1   92922   \n",
       "144708155    3       19       NaN 2017-11-09 04:00:00       1    6505   \n",
       "144708156    9      334       NaN 2017-11-09 04:00:00       1   19964   \n",
       "\n",
       "           is_attributed  os  \n",
       "144708152            0.0  19  \n",
       "144708153            0.0  18  \n",
       "144708154            0.0  13  \n",
       "144708155            0.0  13  \n",
       "144708156            0.0  13  "
      ]
     },
     "execution_count": 10,
     "metadata": {},
     "output_type": "execute_result"
    }
   ],
   "source": [
    "train.head()"
   ]
  },
  {
   "cell_type": "code",
   "execution_count": 11,
   "metadata": {
    "collapsed": true
   },
   "outputs": [],
   "source": [
    "del dat\n",
    "del test"
   ]
  },
  {
   "cell_type": "code",
   "execution_count": 12,
   "metadata": {},
   "outputs": [
    {
     "data": {
      "text/plain": [
       "223"
      ]
     },
     "execution_count": 12,
     "metadata": {},
     "output_type": "execute_result"
    }
   ],
   "source": [
    "gc.collect()"
   ]
  },
  {
   "cell_type": "code",
   "execution_count": 13,
   "metadata": {
    "collapsed": true
   },
   "outputs": [],
   "source": [
    "most_freq_hours_in_test_data = [4, 5, 9, 10, 13, 14]\n",
    "least_freq_hours_in_test_data = [6, 11, 15]"
   ]
  },
  {
   "cell_type": "code",
   "execution_count": 14,
   "metadata": {
    "collapsed": true
   },
   "outputs": [],
   "source": [
    "uint8_max = np.iinfo(np.uint8).max\n",
    "uint16_max = np.iinfo(np.uint16).max\n",
    "uint32_max = np.iinfo(np.uint32).max\n",
    "int8_max = np.iinfo(np.int8).max\n",
    "int16_max = np.iinfo(np.int16).max\n",
    "int32_max = np.iinfo(np.int32).max\n",
    "def choose_uint_type(n):\n",
    "    if n <= uint8_max:\n",
    "        return 'uint8'\n",
    "    elif n <= uint16_max:\n",
    "        return 'uint16'\n",
    "    elif n <= uint32_max:\n",
    "        return 'uint32'\n",
    "    else:\n",
    "        return 'uint64'\n",
    "def choose_int_type(n):\n",
    "    if n <= int8_max:\n",
    "        return 'int8'\n",
    "    elif n <= int16_max:\n",
    "        return 'int16'\n",
    "    elif n <= int32_max:\n",
    "        return 'int32'\n",
    "    else:\n",
    "        return 'int64'"
   ]
  },
  {
   "cell_type": "code",
   "execution_count": 15,
   "metadata": {
    "collapsed": true
   },
   "outputs": [],
   "source": [
    "def get_next_click(df, selcols):\n",
    "    gp = df.groupby(selcols)\n",
    "    next_click_col = 'nextclick_{}'.format('_'.join(selcols))\n",
    "    next_click = (gp['epochtime'].shift(-1) - df.epochtime).fillna(-1)\n",
    "    next_click = next_click.astype(choose_int_type(next_click.max()))\n",
    "    next_click.name = next_click_col\n",
    "    next_click = next_click.to_frame()\n",
    "    df = pd.concat([df, next_click], axis=1)\n",
    "    del gp\n",
    "    del next_click\n",
    "    gc.collect()\n",
    "    return df"
   ]
  },
  {
   "cell_type": "code",
   "execution_count": 16,
   "metadata": {
    "collapsed": true
   },
   "outputs": [],
   "source": [
    "def get_nextnext_click(df, selcols):\n",
    "    gp = df.groupby(selcols)\n",
    "    next_click_col = 'nextnextclick_{}'.format('_'.join(selcols))\n",
    "    next_click = (gp['epochtime'].shift(-2) - df.epochtime).fillna(-1)\n",
    "    next_click = next_click.astype(choose_int_type(next_click.max()))\n",
    "    next_click.name = next_click_col\n",
    "    next_click = next_click.to_frame()\n",
    "    df = pd.concat([df, next_click], axis=1)\n",
    "    del gp\n",
    "    del next_click\n",
    "    gc.collect()\n",
    "    return df"
   ]
  },
  {
   "cell_type": "code",
   "execution_count": 17,
   "metadata": {
    "collapsed": true
   },
   "outputs": [],
   "source": [
    "def get_nunique(df, selcols):\n",
    "    gp = df[selcols].groupby(by=selcols[0:-1])[selcols[-1]].nunique()\n",
    "    gp = gp.astype(choose_uint_type(gp.max()))\n",
    "    gp = gp.to_frame().rename(columns={selcols[-1]: 'nunique_{}'.format('_'.join(selcols))})\n",
    "    df = df.merge(gp, left_on=selcols[0:-1], right_index=True, how='left')\n",
    "    del gp\n",
    "    gc.collect()\n",
    "    return df"
   ]
  },
  {
   "cell_type": "code",
   "execution_count": 18,
   "metadata": {
    "collapsed": true
   },
   "outputs": [],
   "source": [
    "def get_count(df, selcols):\n",
    "    gp = df[selcols].groupby(by=selcols).size()\n",
    "    gp = gp.astype(choose_uint_type(gp.max()))\n",
    "    gp = gp.to_frame().rename(columns={0: 'count_{}'.format('_'.join(selcols))})\n",
    "    df = df.merge(gp, left_on=selcols, right_index=True, how='left')\n",
    "    del gp\n",
    "    gc.collect()\n",
    "    return df"
   ]
  },
  {
   "cell_type": "code",
   "execution_count": 19,
   "metadata": {
    "collapsed": true
   },
   "outputs": [],
   "source": [
    "def get_var(df, selcols):\n",
    "    gp = df[selcols].groupby(by=selcols[0:-1])[selcols[-1]].var()\n",
    "    gp = gp.fillna(0).astype('float16').to_frame().rename(columns={selcols[-1]: 'var_{}'.format('_'.join(selcols))})\n",
    "    df = df.merge(gp, left_on=selcols[0:-1], right_index=True, how='left')\n",
    "    del gp\n",
    "    gc.collect()\n",
    "    return df"
   ]
  },
  {
   "cell_type": "code",
   "execution_count": 20,
   "metadata": {
    "collapsed": true
   },
   "outputs": [],
   "source": [
    "def get_mean(df, selcols):\n",
    "    gp = df[selcols].groupby(by=selcols[0:-1])[selcols[-1]].mean()\n",
    "    gp = gp.astype('float16').to_frame().rename(columns={selcols[-1]: 'mean_{}'.format('_'.join(selcols))})\n",
    "    df = df.merge(gp, left_on=selcols[0:-1], right_index=True, how='left')\n",
    "    del gp\n",
    "    gc.collect()\n",
    "    return df"
   ]
  },
  {
   "cell_type": "code",
   "execution_count": 21,
   "metadata": {
    "collapsed": true
   },
   "outputs": [],
   "source": [
    "def get_skew(df, selcols):\n",
    "    gp = df[selcols].groupby(by=selcols[0:-1])[selcols[-1]].skew()\n",
    "    gp = gp.fillna(0).astype('float16').to_frame().rename(columns={selcols[-1]: 'skew_{}'.format('_'.join(selcols))})\n",
    "    df = df.merge(gp, left_on=selcols[0:-1], right_index=True, how='left')\n",
    "    del gp\n",
    "    gc.collect()\n",
    "    return df"
   ]
  },
  {
   "cell_type": "code",
   "execution_count": 22,
   "metadata": {
    "collapsed": true
   },
   "outputs": [],
   "source": [
    "time_win = '15min'"
   ]
  },
  {
   "cell_type": "code",
   "execution_count": 23,
   "metadata": {
    "collapsed": true
   },
   "outputs": [],
   "source": [
    "def rolling_count(df):\n",
    "    return df.groupby('click_time', sort=False).size().rolling(time_win).count()\n",
    "\n",
    "def get_label_rolling_count(df, selcols):\n",
    "    gp = df.groupby(selcols, sort=False).apply(rolling_count)\n",
    "    gp = gp.astype(choose_uint_type(gp.max()))\n",
    "    gp = gp.to_frame().rename(columns={0: 'rolling_count_' + '_'.join(selcols)})\n",
    "    df = df.merge(gp, left_on=selcols+['click_time'], right_index=True, how='left')\n",
    "    del gp\n",
    "    gc.collect()\n",
    "    return df"
   ]
  },
  {
   "cell_type": "code",
   "execution_count": 24,
   "metadata": {
    "collapsed": true
   },
   "outputs": [],
   "source": [
    "def rolling_sum(df):\n",
    "    return df.groupby('click_time', sort=False).size().rolling(time_win).sum()\n",
    "\n",
    "def get_label_rolling_sum(df, selcols):\n",
    "    gp = df.groupby(selcols, sort=False).apply(rolling_sum)\n",
    "    gp = gp.astype(choose_uint_type(gp.max()))\n",
    "    gp = gp.to_frame().rename(columns={0: 'rolling_sum_' + '_'.join(selcols)})\n",
    "    df = df.merge(gp, left_on=selcols+['click_time'], right_index=True, how='left')\n",
    "    del gp\n",
    "    gc.collect()\n",
    "    return df"
   ]
  },
  {
   "cell_type": "code",
   "execution_count": 25,
   "metadata": {
    "collapsed": true
   },
   "outputs": [],
   "source": [
    "def rolling_mean(df):\n",
    "    return df.groupby('click_time', sort=False).size().rolling(time_win).mean()\n",
    "\n",
    "def get_label_rolling_mean(df, selcols):\n",
    "    gp = df.groupby(selcols, sort=False).apply(rolling_mean)\n",
    "    gp = gp.astype('float16').to_frame().rename(columns={0: 'rolling_mean_' + '_'.join(selcols)})\n",
    "    df = df.merge(gp, left_on=selcols+['click_time'], right_index=True, how='left')\n",
    "    del gp\n",
    "    gc.collect()\n",
    "    return df"
   ]
  },
  {
   "cell_type": "code",
   "execution_count": 26,
   "metadata": {
    "collapsed": true
   },
   "outputs": [],
   "source": [
    "def rolling_std(df):\n",
    "    return df.groupby('click_time', sort=False).size().rolling(time_win).std()\n",
    "\n",
    "def get_label_rolling_std(df, selcols):\n",
    "    gp = df.groupby(selcols, sort=False).apply(rolling_std)\n",
    "    gp = gp.fillna(0).astype('float16').to_frame().rename(columns={0: 'rolling_std_' + '_'.join(selcols)})\n",
    "    df = df.merge(gp, left_on=selcols+['click_time'], right_index=True, how='left')\n",
    "    del gp\n",
    "    gc.collect()\n",
    "    return df"
   ]
  },
  {
   "cell_type": "code",
   "execution_count": 27,
   "metadata": {
    "collapsed": true
   },
   "outputs": [],
   "source": [
    "def rolling_max(df):\n",
    "    return df.groupby('click_time', sort=False).size().rolling(time_win).max()\n",
    "\n",
    "def get_label_rolling_max(df, selcols):\n",
    "    gp = df.groupby(selcols, sort=False).apply(rolling_max)\n",
    "    gp = gp.astype(choose_uint_type(gp.max()))\n",
    "    gp = gp.to_frame().rename(columns={0: 'rolling_max_' + '_'.join(selcols)})\n",
    "    df = df.merge(gp, left_on=selcols+['click_time'], right_index=True, how='left')\n",
    "    del gp\n",
    "    gc.collect()\n",
    "    return df"
   ]
  },
  {
   "cell_type": "code",
   "execution_count": 28,
   "metadata": {
    "collapsed": true
   },
   "outputs": [],
   "source": [
    "def rolling_min(df):\n",
    "    return df.groupby('click_time', sort=False).size().rolling(time_win).min()\n",
    "\n",
    "def get_label_rolling_min(df, selcols):\n",
    "    gp = df.groupby(selcols, sort=False).apply(rolling_min)\n",
    "    gp = gp.astype(choose_uint_type(gp.max()))\n",
    "    gp = gp.to_frame().rename(columns={0: 'rolling_min_' + '_'.join(selcols)})\n",
    "    df = df.merge(gp, left_on=selcols+['click_time'], right_index=True, how='left')\n",
    "    del gp\n",
    "    gc.collect()\n",
    "    return df"
   ]
  },
  {
   "cell_type": "code",
   "execution_count": 29,
   "metadata": {
    "collapsed": true
   },
   "outputs": [],
   "source": [
    "get_count_list =[\n",
    "    ['ip'],\n",
    "    ['ip', 'device'],\n",
    "    ['ip', 'app', 'os'],\n",
    "    ['app', 'channel'],\n",
    "    ['ip', 'app', 'device', 'os'],\n",
    "    ['app', 'device', 'channel'],\n",
    "    ['day_section', 'in_test_hh', 'ip'],\n",
    "    ['day_section', 'in_test_hh', 'ip', 'device'],\n",
    "    ['day_section', 'in_test_hh', 'ip', 'app', 'os'],\n",
    "    ['day_section', 'in_test_hh', 'app', 'channel'],\n",
    "    ['day_section', 'in_test_hh', 'ip', 'app', 'device', 'os'],\n",
    "    ['day_section', 'in_test_hh', 'app', 'device', 'channel'],\n",
    "    ['hour', 'ip'],\n",
    "    ['hour', 'ip', 'device'],\n",
    "    ['hour', 'ip', 'app', 'os'],\n",
    "    ['hour', 'app', 'channel'],\n",
    "    ['hour', 'ip', 'app', 'device', 'os'],\n",
    "    ['hour', 'app', 'device', 'channel'],\n",
    "    ['minute', 'ip'],\n",
    "    ['minute', 'ip', 'device'],\n",
    "    ['minute', 'ip', 'app', 'os'],\n",
    "    ['minute', 'app', 'channel'],\n",
    "    ['minute', 'ip', 'app', 'device', 'os'],\n",
    "    ['minute', 'app', 'device', 'channel'],\n",
    "    ['minute', 'ip'],\n",
    "    ['day', 'ip', 'device'],\n",
    "    ['day', 'ip', 'app', 'os'],\n",
    "    ['day', 'app', 'channel'],\n",
    "    ['day', 'ip', 'app', 'device', 'os'],\n",
    "    ['day', 'app', 'device', 'channel'],\n",
    "]\n",
    "\n",
    "get_rolling_list = [\n",
    "    ['ip'],\n",
    "    ['app'],\n",
    "    ['channel']\n",
    "]\n",
    "\n",
    "get_nunique_list = [\n",
    "    ['ip', 'channel'],\n",
    "    ['ip', 'device', 'os', 'app'],\n",
    "    ['ip', 'day', 'hour'],\n",
    "    ['ip', 'app'],\n",
    "    ['ip', 'app', 'os'],\n",
    "    ['ip', 'device']\n",
    "]\n",
    "\n",
    "get_var_list = [\n",
    "    ['ip', 'day', 'channel', 'minute'],\n",
    "    ['ip', 'app', 'os', 'minute']\n",
    "]\n",
    "\n",
    "get_mean_list = [\n",
    "    ['ip', 'app', 'channel', 'minute']\n",
    "]\n",
    "\n",
    "get_next_list = [\n",
    "    ['ip', 'app', 'device', 'os'],\n",
    "    ['ip'],\n",
    "    ['ip', 'app', 'os']\n",
    "]\n",
    "\n",
    "get_nextnext_list = [\n",
    "    ['ip']\n",
    "]"
   ]
  },
  {
   "cell_type": "code",
   "execution_count": 30,
   "metadata": {},
   "outputs": [
    {
     "name": "stdout",
     "output_type": "stream",
     "text": [
      "Adding hour...\n",
      "Adding minute...\n",
      "Adding in_test_hh\n",
      "Adding day_section...\n",
      "next\n",
      "62.15675950050354\n",
      "nextnext\n",
      "72.58931016921997\n",
      "rolling\n",
      "2156.969789981842\n",
      "count\n",
      "3247.82607960701\n",
      "nunique\n",
      "3548.6243419647217\n",
      "var\n",
      "3672.060247898102\n",
      "mean\n",
      "5064.833784341812\n",
      "drop\n",
      "CPU times: user 1h 14min 26s, sys: 9min 50s, total: 1h 24min 17s\n",
      "Wall time: 1h 25min 6s\n"
     ]
    }
   ],
   "source": [
    "%%time\n",
    "print('Adding hour...')\n",
    "train.loc[:, 'day'] = train.click_time.dt.day.astype('uint8')\n",
    "train.loc[:, 'hour'] = train.click_time.dt.hour.astype('uint8')\n",
    "print('Adding minute...')\n",
    "train.loc[:, 'minute'] = train.hour.astype('uint16') * 60 + train.click_time.dt.minute.astype('uint16')\n",
    "print('Adding in_test_hh')\n",
    "train.loc[:, 'in_test_hh'] = (\n",
    "    3 - 2*train.hour.isin(most_freq_hours_in_test_data) -\n",
    "    1*train.hour.isin(least_freq_hours_in_test_data)\n",
    ").astype('uint8')\n",
    "print('Adding day_section...')\n",
    "train.loc[:, 'day_section'] = (train.hour // 6).astype('uint8')\n",
    "train.loc[:, 'epochtime'] = train.click_time.astype(np.int64) / 1e9\n",
    "gc.collect()\n",
    "start = time.time()\n",
    "print('next')\n",
    "for selcols in get_next_list:\n",
    "    train = get_next_click(train, selcols)\n",
    "    gc.collect()\n",
    "print(time.time() - start)\n",
    "print('nextnext')\n",
    "for selcols in get_nextnext_list:\n",
    "    train = get_nextnext_click(train, selcols)\n",
    "    gc.collect()\n",
    "print(time.time() - start)\n",
    "train.drop('epochtime', axis=1, inplace=True)\n",
    "gc.collect()\n",
    "print('rolling')\n",
    "for selcols in get_rolling_list:\n",
    "    train = get_label_rolling_count(train, selcols)\n",
    "    train = get_label_rolling_sum(train, selcols)\n",
    "    train = get_label_rolling_mean(train, selcols)\n",
    "    train = get_label_rolling_std(train, selcols)\n",
    "    train = get_label_rolling_max(train, selcols)\n",
    "    train = get_label_rolling_min(train, selcols)\n",
    "    gc.collect()\n",
    "train.drop('click_time', axis=1, inplace=True)\n",
    "gc.collect()\n",
    "print(time.time() - start)\n",
    "print('count')\n",
    "for selcols in get_count_list:\n",
    "    train = get_count(train, selcols)\n",
    "    gc.collect()\n",
    "print(time.time() - start)\n",
    "print('nunique')\n",
    "for selcols in get_nunique_list:\n",
    "    train = get_nunique(train, selcols)\n",
    "    gc.collect()\n",
    "print(time.time() - start)\n",
    "print('var')\n",
    "for selcols in get_var_list:\n",
    "    train = get_var(train, selcols)\n",
    "    gc.collect()\n",
    "train.drop(['day'], axis=1, inplace=True)\n",
    "print(time.time() - start)\n",
    "print('mean')\n",
    "for selcols in get_mean_list:\n",
    "    train = get_mean(train, selcols)\n",
    "    train = get_skew(train, selcols)\n",
    "    gc.collect()\n",
    "print(time.time() - start)\n",
    "\n",
    "print('drop')\n",
    "train.drop('ip', axis=1, inplace=True)\n",
    "gc.collect()"
   ]
  },
  {
   "cell_type": "code",
   "execution_count": 31,
   "metadata": {},
   "outputs": [
    {
     "data": {
      "text/plain": [
       "0"
      ]
     },
     "execution_count": 31,
     "metadata": {},
     "output_type": "execute_result"
    }
   ],
   "source": [
    "gc.collect()"
   ]
  },
  {
   "cell_type": "code",
   "execution_count": 41,
   "metadata": {},
   "outputs": [],
   "source": [
    "train = pd.read_hdf(res_hdf_path, key='complete_features')"
   ]
  },
  {
   "cell_type": "code",
   "execution_count": 5,
   "metadata": {},
   "outputs": [
    {
     "data": {
      "text/html": [
       "<div>\n",
       "<style>\n",
       "    .dataframe thead tr:only-child th {\n",
       "        text-align: right;\n",
       "    }\n",
       "\n",
       "    .dataframe thead th {\n",
       "        text-align: left;\n",
       "    }\n",
       "\n",
       "    .dataframe tbody tr th {\n",
       "        vertical-align: top;\n",
       "    }\n",
       "</style>\n",
       "<table border=\"1\" class=\"dataframe\">\n",
       "  <thead>\n",
       "    <tr style=\"text-align: right;\">\n",
       "      <th></th>\n",
       "      <th>app</th>\n",
       "      <th>channel</th>\n",
       "      <th>click_id</th>\n",
       "      <th>device</th>\n",
       "      <th>is_attributed</th>\n",
       "      <th>os</th>\n",
       "      <th>hour</th>\n",
       "      <th>minute</th>\n",
       "      <th>in_test_hh</th>\n",
       "      <th>day_section</th>\n",
       "      <th>...</th>\n",
       "      <th>nunique_ip_channel</th>\n",
       "      <th>nunique_ip_device_os_app</th>\n",
       "      <th>nunique_ip_day_hour</th>\n",
       "      <th>nunique_ip_app</th>\n",
       "      <th>nunique_ip_app_os</th>\n",
       "      <th>nunique_ip_device</th>\n",
       "      <th>var_ip_day_channel_minute</th>\n",
       "      <th>var_ip_app_os_minute</th>\n",
       "      <th>mean_ip_app_channel_minute</th>\n",
       "      <th>skew_ip_app_channel_minute</th>\n",
       "    </tr>\n",
       "  </thead>\n",
       "  <tbody>\n",
       "    <tr>\n",
       "      <th>144708152</th>\n",
       "      <td>2</td>\n",
       "      <td>477</td>\n",
       "      <td>NaN</td>\n",
       "      <td>1</td>\n",
       "      <td>0.0</td>\n",
       "      <td>19</td>\n",
       "      <td>4</td>\n",
       "      <td>240</td>\n",
       "      <td>1</td>\n",
       "      <td>0</td>\n",
       "      <td>...</td>\n",
       "      <td>89</td>\n",
       "      <td>25</td>\n",
       "      <td>11</td>\n",
       "      <td>35</td>\n",
       "      <td>23</td>\n",
       "      <td>7</td>\n",
       "      <td>32480.0</td>\n",
       "      <td>45952.0</td>\n",
       "      <td>331.50</td>\n",
       "      <td>0.710938</td>\n",
       "    </tr>\n",
       "    <tr>\n",
       "      <th>144708153</th>\n",
       "      <td>14</td>\n",
       "      <td>489</td>\n",
       "      <td>NaN</td>\n",
       "      <td>1</td>\n",
       "      <td>0.0</td>\n",
       "      <td>18</td>\n",
       "      <td>4</td>\n",
       "      <td>240</td>\n",
       "      <td>1</td>\n",
       "      <td>0</td>\n",
       "      <td>...</td>\n",
       "      <td>91</td>\n",
       "      <td>21</td>\n",
       "      <td>11</td>\n",
       "      <td>43</td>\n",
       "      <td>31</td>\n",
       "      <td>6</td>\n",
       "      <td>46752.0</td>\n",
       "      <td>51712.0</td>\n",
       "      <td>572.50</td>\n",
       "      <td>-0.172607</td>\n",
       "    </tr>\n",
       "    <tr>\n",
       "      <th>144708154</th>\n",
       "      <td>3</td>\n",
       "      <td>280</td>\n",
       "      <td>NaN</td>\n",
       "      <td>1</td>\n",
       "      <td>0.0</td>\n",
       "      <td>13</td>\n",
       "      <td>4</td>\n",
       "      <td>240</td>\n",
       "      <td>1</td>\n",
       "      <td>0</td>\n",
       "      <td>...</td>\n",
       "      <td>100</td>\n",
       "      <td>27</td>\n",
       "      <td>11</td>\n",
       "      <td>63</td>\n",
       "      <td>67</td>\n",
       "      <td>14</td>\n",
       "      <td>3402.0</td>\n",
       "      <td>47520.0</td>\n",
       "      <td>335.25</td>\n",
       "      <td>0.068665</td>\n",
       "    </tr>\n",
       "    <tr>\n",
       "      <th>144708155</th>\n",
       "      <td>3</td>\n",
       "      <td>19</td>\n",
       "      <td>NaN</td>\n",
       "      <td>1</td>\n",
       "      <td>0.0</td>\n",
       "      <td>13</td>\n",
       "      <td>4</td>\n",
       "      <td>240</td>\n",
       "      <td>1</td>\n",
       "      <td>0</td>\n",
       "      <td>...</td>\n",
       "      <td>92</td>\n",
       "      <td>25</td>\n",
       "      <td>11</td>\n",
       "      <td>36</td>\n",
       "      <td>33</td>\n",
       "      <td>5</td>\n",
       "      <td>27440.0</td>\n",
       "      <td>22656.0</td>\n",
       "      <td>603.50</td>\n",
       "      <td>-0.224487</td>\n",
       "    </tr>\n",
       "    <tr>\n",
       "      <th>144708156</th>\n",
       "      <td>9</td>\n",
       "      <td>334</td>\n",
       "      <td>NaN</td>\n",
       "      <td>1</td>\n",
       "      <td>0.0</td>\n",
       "      <td>13</td>\n",
       "      <td>4</td>\n",
       "      <td>240</td>\n",
       "      <td>1</td>\n",
       "      <td>0</td>\n",
       "      <td>...</td>\n",
       "      <td>94</td>\n",
       "      <td>25</td>\n",
       "      <td>11</td>\n",
       "      <td>38</td>\n",
       "      <td>30</td>\n",
       "      <td>5</td>\n",
       "      <td>28256.0</td>\n",
       "      <td>49376.0</td>\n",
       "      <td>493.25</td>\n",
       "      <td>0.226440</td>\n",
       "    </tr>\n",
       "  </tbody>\n",
       "</table>\n",
       "<p>5 rows × 72 columns</p>\n",
       "</div>"
      ],
      "text/plain": [
       "           app  channel  click_id  device  is_attributed  os  hour  minute  \\\n",
       "144708152    2      477       NaN       1            0.0  19     4     240   \n",
       "144708153   14      489       NaN       1            0.0  18     4     240   \n",
       "144708154    3      280       NaN       1            0.0  13     4     240   \n",
       "144708155    3       19       NaN       1            0.0  13     4     240   \n",
       "144708156    9      334       NaN       1            0.0  13     4     240   \n",
       "\n",
       "           in_test_hh  day_section             ...              \\\n",
       "144708152           1            0             ...               \n",
       "144708153           1            0             ...               \n",
       "144708154           1            0             ...               \n",
       "144708155           1            0             ...               \n",
       "144708156           1            0             ...               \n",
       "\n",
       "           nunique_ip_channel  nunique_ip_device_os_app  nunique_ip_day_hour  \\\n",
       "144708152                  89                        25                   11   \n",
       "144708153                  91                        21                   11   \n",
       "144708154                 100                        27                   11   \n",
       "144708155                  92                        25                   11   \n",
       "144708156                  94                        25                   11   \n",
       "\n",
       "           nunique_ip_app  nunique_ip_app_os  nunique_ip_device  \\\n",
       "144708152              35                 23                  7   \n",
       "144708153              43                 31                  6   \n",
       "144708154              63                 67                 14   \n",
       "144708155              36                 33                  5   \n",
       "144708156              38                 30                  5   \n",
       "\n",
       "           var_ip_day_channel_minute  var_ip_app_os_minute  \\\n",
       "144708152                    32480.0               45952.0   \n",
       "144708153                    46752.0               51712.0   \n",
       "144708154                     3402.0               47520.0   \n",
       "144708155                    27440.0               22656.0   \n",
       "144708156                    28256.0               49376.0   \n",
       "\n",
       "           mean_ip_app_channel_minute  skew_ip_app_channel_minute  \n",
       "144708152                      331.50                    0.710938  \n",
       "144708153                      572.50                   -0.172607  \n",
       "144708154                      335.25                    0.068665  \n",
       "144708155                      603.50                   -0.224487  \n",
       "144708156                      493.25                    0.226440  \n",
       "\n",
       "[5 rows x 72 columns]"
      ]
     },
     "execution_count": 5,
     "metadata": {},
     "output_type": "execute_result"
    }
   ],
   "source": [
    "train.head()"
   ]
  },
  {
   "cell_type": "markdown",
   "metadata": {},
   "source": [
    "# Split for training"
   ]
  },
  {
   "cell_type": "code",
   "execution_count": 6,
   "metadata": {},
   "outputs": [
    {
     "data": {
      "text/plain": [
       "Index(['app', 'channel', 'click_id', 'device', 'is_attributed', 'os', 'hour',\n",
       "       'minute', 'in_test_hh', 'day_section', 'nextclick_ip_app_device_os',\n",
       "       'nextclick_ip', 'nextclick_ip_app_os', 'nextnextclick_ip',\n",
       "       'rolling_count_ip', 'rolling_sum_ip', 'rolling_mean_ip',\n",
       "       'rolling_std_ip', 'rolling_max_ip', 'rolling_min_ip',\n",
       "       'rolling_count_app', 'rolling_sum_app', 'rolling_mean_app',\n",
       "       'rolling_std_app', 'rolling_max_app', 'rolling_min_app',\n",
       "       'rolling_count_channel', 'rolling_sum_channel', 'rolling_mean_channel',\n",
       "       'rolling_std_channel', 'rolling_max_channel', 'rolling_min_channel',\n",
       "       'count_ip', 'count_ip_device', 'count_ip_app_os', 'count_app_channel',\n",
       "       'count_ip_app_device_os', 'count_app_device_channel',\n",
       "       'count_day_section_in_test_hh_ip',\n",
       "       'count_day_section_in_test_hh_ip_device',\n",
       "       'count_day_section_in_test_hh_ip_app_os',\n",
       "       'count_day_section_in_test_hh_app_channel',\n",
       "       'count_day_section_in_test_hh_ip_app_device_os',\n",
       "       'count_day_section_in_test_hh_app_device_channel', 'count_hour_ip',\n",
       "       'count_hour_ip_device', 'count_hour_ip_app_os',\n",
       "       'count_hour_app_channel', 'count_hour_ip_app_device_os',\n",
       "       'count_hour_app_device_channel', 'count_minute_ip_x',\n",
       "       'count_minute_ip_device', 'count_minute_ip_app_os',\n",
       "       'count_minute_app_channel', 'count_minute_ip_app_device_os',\n",
       "       'count_minute_app_device_channel', 'count_minute_ip_y',\n",
       "       'count_day_ip_device', 'count_day_ip_app_os', 'count_day_app_channel',\n",
       "       'count_day_ip_app_device_os', 'count_day_app_device_channel',\n",
       "       'nunique_ip_channel', 'nunique_ip_device_os_app', 'nunique_ip_day_hour',\n",
       "       'nunique_ip_app', 'nunique_ip_app_os', 'nunique_ip_device',\n",
       "       'var_ip_day_channel_minute', 'var_ip_app_os_minute',\n",
       "       'mean_ip_app_channel_minute', 'skew_ip_app_channel_minute'],\n",
       "      dtype='object')"
      ]
     },
     "execution_count": 6,
     "metadata": {},
     "output_type": "execute_result"
    }
   ],
   "source": [
    "train.columns"
   ]
  },
  {
   "cell_type": "code",
   "execution_count": 7,
   "metadata": {},
   "outputs": [
    {
     "data": {
      "text/plain": [
       "130"
      ]
     },
     "execution_count": 7,
     "metadata": {},
     "output_type": "execute_result"
    }
   ],
   "source": [
    "gc.collect()"
   ]
  },
  {
   "cell_type": "code",
   "execution_count": 10,
   "metadata": {
    "collapsed": true
   },
   "outputs": [],
   "source": [
    "train_len = train.click_id.isnull().sum()"
   ]
  },
  {
   "cell_type": "code",
   "execution_count": 11,
   "metadata": {
    "collapsed": true
   },
   "outputs": [],
   "source": [
    "val_size = 7000000"
   ]
  },
  {
   "cell_type": "code",
   "execution_count": 12,
   "metadata": {},
   "outputs": [],
   "source": [
    "train_df = train.iloc[:train_len-val_size].copy()"
   ]
  },
  {
   "cell_type": "code",
   "execution_count": 13,
   "metadata": {
    "collapsed": true
   },
   "outputs": [],
   "source": [
    "valid_df = train.iloc[train_len-val_size:train_len].copy()"
   ]
  },
  {
   "cell_type": "code",
   "execution_count": 42,
   "metadata": {
    "collapsed": true
   },
   "outputs": [],
   "source": [
    "test_df = train.iloc[train_len:].copy()"
   ]
  },
  {
   "cell_type": "code",
   "execution_count": 43,
   "metadata": {
    "collapsed": true
   },
   "outputs": [],
   "source": [
    "del train"
   ]
  },
  {
   "cell_type": "code",
   "execution_count": 44,
   "metadata": {},
   "outputs": [
    {
     "data": {
      "text/plain": [
       "3543"
      ]
     },
     "execution_count": 44,
     "metadata": {},
     "output_type": "execute_result"
    }
   ],
   "source": [
    "gc.collect()"
   ]
  },
  {
   "cell_type": "code",
   "execution_count": 16,
   "metadata": {},
   "outputs": [
    {
     "data": {
      "text/plain": [
       "(30169180, 72)"
      ]
     },
     "execution_count": 16,
     "metadata": {},
     "output_type": "execute_result"
    }
   ],
   "source": [
    "train_df.shape"
   ]
  },
  {
   "cell_type": "code",
   "execution_count": 17,
   "metadata": {},
   "outputs": [
    {
     "data": {
      "text/plain": [
       "(7000000, 72)"
      ]
     },
     "execution_count": 17,
     "metadata": {},
     "output_type": "execute_result"
    }
   ],
   "source": [
    "valid_df.shape"
   ]
  },
  {
   "cell_type": "code",
   "execution_count": 18,
   "metadata": {},
   "outputs": [
    {
     "data": {
      "text/plain": [
       "0.0    0.997381\n",
       "1.0    0.002619\n",
       "Name: is_attributed, dtype: float64"
      ]
     },
     "execution_count": 18,
     "metadata": {},
     "output_type": "execute_result"
    }
   ],
   "source": [
    "train_df.is_attributed.value_counts(normalize=True)"
   ]
  },
  {
   "cell_type": "code",
   "execution_count": 19,
   "metadata": {},
   "outputs": [
    {
     "data": {
      "text/plain": [
       "0.0    0.997559\n",
       "1.0    0.002441\n",
       "Name: is_attributed, dtype: float64"
      ]
     },
     "execution_count": 19,
     "metadata": {},
     "output_type": "execute_result"
    }
   ],
   "source": [
    "valid_df.is_attributed.value_counts(normalize=True)"
   ]
  },
  {
   "cell_type": "markdown",
   "metadata": {},
   "source": [
    "# Light GBM"
   ]
  },
  {
   "cell_type": "code",
   "execution_count": 20,
   "metadata": {},
   "outputs": [
    {
     "data": {
      "text/plain": [
       "0"
      ]
     },
     "execution_count": 20,
     "metadata": {},
     "output_type": "execute_result"
    }
   ],
   "source": [
    "gc.collect()"
   ]
  },
  {
   "cell_type": "code",
   "execution_count": 21,
   "metadata": {},
   "outputs": [
    {
     "data": {
      "text/plain": [
       "72"
      ]
     },
     "execution_count": 21,
     "metadata": {},
     "output_type": "execute_result"
    }
   ],
   "source": [
    "len(train_df.columns)"
   ]
  },
  {
   "cell_type": "code",
   "execution_count": 22,
   "metadata": {},
   "outputs": [
    {
     "data": {
      "text/plain": [
       "Index(['app', 'channel', 'click_id', 'device', 'is_attributed', 'os', 'hour',\n",
       "       'minute', 'in_test_hh', 'day_section', 'nextclick_ip_app_device_os',\n",
       "       'nextclick_ip', 'nextclick_ip_app_os', 'nextnextclick_ip',\n",
       "       'rolling_count_ip', 'rolling_sum_ip', 'rolling_mean_ip',\n",
       "       'rolling_std_ip', 'rolling_max_ip', 'rolling_min_ip',\n",
       "       'rolling_count_app', 'rolling_sum_app', 'rolling_mean_app',\n",
       "       'rolling_std_app', 'rolling_max_app', 'rolling_min_app',\n",
       "       'rolling_count_channel', 'rolling_sum_channel', 'rolling_mean_channel',\n",
       "       'rolling_std_channel', 'rolling_max_channel', 'rolling_min_channel',\n",
       "       'count_ip', 'count_ip_device', 'count_ip_app_os', 'count_app_channel',\n",
       "       'count_ip_app_device_os', 'count_app_device_channel',\n",
       "       'count_day_section_in_test_hh_ip',\n",
       "       'count_day_section_in_test_hh_ip_device',\n",
       "       'count_day_section_in_test_hh_ip_app_os',\n",
       "       'count_day_section_in_test_hh_app_channel',\n",
       "       'count_day_section_in_test_hh_ip_app_device_os',\n",
       "       'count_day_section_in_test_hh_app_device_channel', 'count_hour_ip',\n",
       "       'count_hour_ip_device', 'count_hour_ip_app_os',\n",
       "       'count_hour_app_channel', 'count_hour_ip_app_device_os',\n",
       "       'count_hour_app_device_channel', 'count_minute_ip_x',\n",
       "       'count_minute_ip_device', 'count_minute_ip_app_os',\n",
       "       'count_minute_app_channel', 'count_minute_ip_app_device_os',\n",
       "       'count_minute_app_device_channel', 'count_minute_ip_y',\n",
       "       'count_day_ip_device', 'count_day_ip_app_os', 'count_day_app_channel',\n",
       "       'count_day_ip_app_device_os', 'count_day_app_device_channel',\n",
       "       'nunique_ip_channel', 'nunique_ip_device_os_app', 'nunique_ip_day_hour',\n",
       "       'nunique_ip_app', 'nunique_ip_app_os', 'nunique_ip_device',\n",
       "       'var_ip_day_channel_minute', 'var_ip_app_os_minute',\n",
       "       'mean_ip_app_channel_minute', 'skew_ip_app_channel_minute'],\n",
       "      dtype='object')"
      ]
     },
     "execution_count": 22,
     "metadata": {},
     "output_type": "execute_result"
    }
   ],
   "source": [
    "train_df.columns"
   ]
  },
  {
   "cell_type": "code",
   "execution_count": 23,
   "metadata": {
    "collapsed": true
   },
   "outputs": [],
   "source": [
    "train_df.drop('click_id', axis=1, inplace=True)\n",
    "valid_df.drop('click_id', axis=1, inplace=True)"
   ]
  },
  {
   "cell_type": "code",
   "execution_count": 24,
   "metadata": {},
   "outputs": [
    {
     "data": {
      "text/plain": [
       "7"
      ]
     },
     "execution_count": 24,
     "metadata": {},
     "output_type": "execute_result"
    }
   ],
   "source": [
    "gc.collect()"
   ]
  },
  {
   "cell_type": "code",
   "execution_count": 25,
   "metadata": {
    "collapsed": true
   },
   "outputs": [],
   "source": [
    "target = 'is_attributed'"
   ]
  },
  {
   "cell_type": "code",
   "execution_count": 26,
   "metadata": {},
   "outputs": [],
   "source": [
    "predictors = train_df.columns.tolist()"
   ]
  },
  {
   "cell_type": "code",
   "execution_count": 27,
   "metadata": {
    "collapsed": true
   },
   "outputs": [],
   "source": [
    "predictors.remove(target)"
   ]
  },
  {
   "cell_type": "code",
   "execution_count": 28,
   "metadata": {},
   "outputs": [
    {
     "data": {
      "text/plain": [
       "['app',\n",
       " 'channel',\n",
       " 'device',\n",
       " 'os',\n",
       " 'hour',\n",
       " 'minute',\n",
       " 'in_test_hh',\n",
       " 'day_section',\n",
       " 'nextclick_ip_app_device_os',\n",
       " 'nextclick_ip',\n",
       " 'nextclick_ip_app_os',\n",
       " 'nextnextclick_ip',\n",
       " 'rolling_count_ip',\n",
       " 'rolling_sum_ip',\n",
       " 'rolling_mean_ip',\n",
       " 'rolling_std_ip',\n",
       " 'rolling_max_ip',\n",
       " 'rolling_min_ip',\n",
       " 'rolling_count_app',\n",
       " 'rolling_sum_app',\n",
       " 'rolling_mean_app',\n",
       " 'rolling_std_app',\n",
       " 'rolling_max_app',\n",
       " 'rolling_min_app',\n",
       " 'rolling_count_channel',\n",
       " 'rolling_sum_channel',\n",
       " 'rolling_mean_channel',\n",
       " 'rolling_std_channel',\n",
       " 'rolling_max_channel',\n",
       " 'rolling_min_channel',\n",
       " 'count_ip',\n",
       " 'count_ip_device',\n",
       " 'count_ip_app_os',\n",
       " 'count_app_channel',\n",
       " 'count_ip_app_device_os',\n",
       " 'count_app_device_channel',\n",
       " 'count_day_section_in_test_hh_ip',\n",
       " 'count_day_section_in_test_hh_ip_device',\n",
       " 'count_day_section_in_test_hh_ip_app_os',\n",
       " 'count_day_section_in_test_hh_app_channel',\n",
       " 'count_day_section_in_test_hh_ip_app_device_os',\n",
       " 'count_day_section_in_test_hh_app_device_channel',\n",
       " 'count_hour_ip',\n",
       " 'count_hour_ip_device',\n",
       " 'count_hour_ip_app_os',\n",
       " 'count_hour_app_channel',\n",
       " 'count_hour_ip_app_device_os',\n",
       " 'count_hour_app_device_channel',\n",
       " 'count_minute_ip_x',\n",
       " 'count_minute_ip_device',\n",
       " 'count_minute_ip_app_os',\n",
       " 'count_minute_app_channel',\n",
       " 'count_minute_ip_app_device_os',\n",
       " 'count_minute_app_device_channel',\n",
       " 'count_minute_ip_y',\n",
       " 'count_day_ip_device',\n",
       " 'count_day_ip_app_os',\n",
       " 'count_day_app_channel',\n",
       " 'count_day_ip_app_device_os',\n",
       " 'count_day_app_device_channel',\n",
       " 'nunique_ip_channel',\n",
       " 'nunique_ip_device_os_app',\n",
       " 'nunique_ip_day_hour',\n",
       " 'nunique_ip_app',\n",
       " 'nunique_ip_app_os',\n",
       " 'nunique_ip_device',\n",
       " 'var_ip_day_channel_minute',\n",
       " 'var_ip_app_os_minute',\n",
       " 'mean_ip_app_channel_minute',\n",
       " 'skew_ip_app_channel_minute']"
      ]
     },
     "execution_count": 28,
     "metadata": {},
     "output_type": "execute_result"
    }
   ],
   "source": [
    "predictors"
   ]
  },
  {
   "cell_type": "code",
   "execution_count": 29,
   "metadata": {
    "collapsed": true
   },
   "outputs": [],
   "source": [
    "categorical = ['app', 'device', 'os', 'channel', 'hour', 'minute', 'in_test_hh', 'day_section']"
   ]
  },
  {
   "cell_type": "code",
   "execution_count": 30,
   "metadata": {},
   "outputs": [
    {
     "data": {
      "text/plain": [
       "0"
      ]
     },
     "execution_count": 30,
     "metadata": {},
     "output_type": "execute_result"
    }
   ],
   "source": [
    "gc.collect()"
   ]
  },
  {
   "cell_type": "code",
   "execution_count": 31,
   "metadata": {
    "collapsed": true
   },
   "outputs": [],
   "source": [
    "params = {\n",
    "    'boosting_type': 'dart',  # I think dart would be better, but takes too long to run\n",
    "    'drop_rate': 0.1,  # Rate at which to drop trees\n",
    "    'objective': 'binary',\n",
    "    'metric': 'auc',\n",
    "    'learning_rate': 0.1,\n",
    "    'num_leaves': 15,  # Was 255: Reduced to control overfitting Try increasing this\n",
    "    # 'max_depth': 4,  # Was 8: LightGBM splits leaf-wise, so control depth via num_leaves\n",
    "    'min_child_samples': 100, # try increasing this\n",
    "    'max_bin': 100, # try increasing this\n",
    "    'bagging_fraction': 0.6,  # Was 0.7 # try decreasing this\n",
    "    'subsample_freq': 1, # try 0\n",
    "    'feature_fraction': 0.8, # try decreasing\n",
    "    'min_child_weight': 0, # try increasing\n",
    "    'min_data_in_leaf': 100\n",
    "    'subsample_for_bin': 200000,\n",
    "    'min_split_gain': 0,\n",
    "    'reg_alpha': 0,\n",
    "    'reg_lambda': 0,\n",
    "    'num_thread': 8,\n",
    "    'verbose': 0,\n",
    "    'scale_pos_weight': 200\n",
    "}"
   ]
  },
  {
   "cell_type": "code",
   "execution_count": 32,
   "metadata": {
    "collapsed": true
   },
   "outputs": [],
   "source": [
    "dtrain = lgb.Dataset(\n",
    "    train_df.loc[:, predictors],\n",
    "    label=train_df.loc[:, target],\n",
    "    feature_name=predictors,\n",
    "    categorical_feature=categorical\n",
    ")\n",
    "\n",
    "dvalid = lgb.Dataset(\n",
    "    valid_df.loc[:, predictors],\n",
    "    label=valid_df.loc[:, target],\n",
    "    feature_name=predictors,\n",
    "    categorical_feature=categorical\n",
    ")"
   ]
  },
  {
   "cell_type": "code",
   "execution_count": 33,
   "metadata": {
    "collapsed": true
   },
   "outputs": [],
   "source": [
    "del train_df"
   ]
  },
  {
   "cell_type": "code",
   "execution_count": 34,
   "metadata": {
    "collapsed": true
   },
   "outputs": [],
   "source": [
    "del valid_df"
   ]
  },
  {
   "cell_type": "code",
   "execution_count": 37,
   "metadata": {},
   "outputs": [
    {
     "data": {
      "text/plain": [
       "0"
      ]
     },
     "execution_count": 37,
     "metadata": {},
     "output_type": "execute_result"
    }
   ],
   "source": [
    "gc.collect()"
   ]
  },
  {
   "cell_type": "code",
   "execution_count": 38,
   "metadata": {},
   "outputs": [
    {
     "name": "stderr",
     "output_type": "stream",
     "text": [
      "/home/feiz/miniconda3/envs/analysis_py3/lib/python3.6/site-packages/lightgbm/basic.py:1036: UserWarning: Using categorical_feature in Dataset.\n",
      "  warnings.warn('Using categorical_feature in Dataset.')\n",
      "/home/feiz/miniconda3/envs/analysis_py3/lib/python3.6/site-packages/lightgbm/basic.py:681: UserWarning: categorical_feature in param dict is overrided.\n",
      "  warnings.warn('categorical_feature in param dict is overrided.')\n"
     ]
    },
    {
     "name": "stdout",
     "output_type": "stream",
     "text": [
      "Training until validation scores don't improve for 50 rounds.\n",
      "[10]\ttrain's auc: 0.963938\tvalid's auc: 0.971025\n",
      "[20]\ttrain's auc: 0.969379\tvalid's auc: 0.973844\n",
      "[30]\ttrain's auc: 0.972634\tvalid's auc: 0.976231\n",
      "[40]\ttrain's auc: 0.973625\tvalid's auc: 0.977075\n",
      "[50]\ttrain's auc: 0.974756\tvalid's auc: 0.977749\n",
      "[60]\ttrain's auc: 0.97578\tvalid's auc: 0.978271\n",
      "[70]\ttrain's auc: 0.976063\tvalid's auc: 0.978836\n",
      "[80]\ttrain's auc: 0.976671\tvalid's auc: 0.979103\n",
      "[90]\ttrain's auc: 0.977006\tvalid's auc: 0.979532\n",
      "[100]\ttrain's auc: 0.977438\tvalid's auc: 0.979918\n",
      "[110]\ttrain's auc: 0.977365\tvalid's auc: 0.979856\n",
      "[120]\ttrain's auc: 0.977968\tvalid's auc: 0.980336\n",
      "[130]\ttrain's auc: 0.978402\tvalid's auc: 0.980528\n",
      "[140]\ttrain's auc: 0.978885\tvalid's auc: 0.980891\n",
      "[150]\ttrain's auc: 0.979045\tvalid's auc: 0.980768\n",
      "[160]\ttrain's auc: 0.979075\tvalid's auc: 0.980975\n",
      "[170]\ttrain's auc: 0.979757\tvalid's auc: 0.981412\n",
      "[180]\ttrain's auc: 0.980164\tvalid's auc: 0.981622\n",
      "[190]\ttrain's auc: 0.980886\tvalid's auc: 0.981934\n",
      "[200]\ttrain's auc: 0.98133\tvalid's auc: 0.982183\n",
      "[210]\ttrain's auc: 0.98135\tvalid's auc: 0.982151\n",
      "[220]\ttrain's auc: 0.981606\tvalid's auc: 0.982076\n",
      "[230]\ttrain's auc: 0.981698\tvalid's auc: 0.98203\n",
      "[240]\ttrain's auc: 0.98225\tvalid's auc: 0.98225\n",
      "[250]\ttrain's auc: 0.982599\tvalid's auc: 0.982357\n",
      "[260]\ttrain's auc: 0.982877\tvalid's auc: 0.982511\n",
      "[270]\ttrain's auc: 0.983303\tvalid's auc: 0.982745\n",
      "[280]\ttrain's auc: 0.983483\tvalid's auc: 0.982783\n",
      "[290]\ttrain's auc: 0.983704\tvalid's auc: 0.982854\n",
      "[300]\ttrain's auc: 0.983739\tvalid's auc: 0.982795\n",
      "[310]\ttrain's auc: 0.983728\tvalid's auc: 0.982867\n",
      "[320]\ttrain's auc: 0.983945\tvalid's auc: 0.982902\n",
      "[330]\ttrain's auc: 0.984169\tvalid's auc: 0.983019\n",
      "[340]\ttrain's auc: 0.984199\tvalid's auc: 0.98302\n",
      "[350]\ttrain's auc: 0.984353\tvalid's auc: 0.983138\n",
      "[360]\ttrain's auc: 0.984534\tvalid's auc: 0.983221\n",
      "[370]\ttrain's auc: 0.984657\tvalid's auc: 0.983172\n",
      "[380]\ttrain's auc: 0.98484\tvalid's auc: 0.983251\n",
      "[390]\ttrain's auc: 0.984984\tvalid's auc: 0.983284\n",
      "[400]\ttrain's auc: 0.985225\tvalid's auc: 0.98324\n",
      "[410]\ttrain's auc: 0.985378\tvalid's auc: 0.983315\n",
      "[420]\ttrain's auc: 0.985456\tvalid's auc: 0.983369\n",
      "[430]\ttrain's auc: 0.9856\tvalid's auc: 0.983287\n",
      "[440]\ttrain's auc: 0.985768\tvalid's auc: 0.983296\n",
      "[450]\ttrain's auc: 0.985903\tvalid's auc: 0.9833\n",
      "[460]\ttrain's auc: 0.985912\tvalid's auc: 0.983343\n",
      "[470]\ttrain's auc: 0.985966\tvalid's auc: 0.983363\n",
      "[480]\ttrain's auc: 0.986026\tvalid's auc: 0.983406\n",
      "[490]\ttrain's auc: 0.986141\tvalid's auc: 0.983379\n",
      "[500]\ttrain's auc: 0.98624\tvalid's auc: 0.983436\n",
      "[510]\ttrain's auc: 0.986371\tvalid's auc: 0.983387\n",
      "[520]\ttrain's auc: 0.986414\tvalid's auc: 0.983421\n",
      "[530]\ttrain's auc: 0.986451\tvalid's auc: 0.983389\n",
      "[540]\ttrain's auc: 0.986493\tvalid's auc: 0.983388\n",
      "[550]\ttrain's auc: 0.986555\tvalid's auc: 0.983341\n",
      "[560]\ttrain's auc: 0.986631\tvalid's auc: 0.983425\n",
      "[570]\ttrain's auc: 0.986633\tvalid's auc: 0.98338\n",
      "Early stopping, best iteration is:\n",
      "[526]\ttrain's auc: 0.986408\tvalid's auc: 0.983457\n",
      "CPU times: user 14h 58min 37s, sys: 8min 39s, total: 15h 7min 17s\n",
      "Wall time: 2h 15min 3s\n"
     ]
    }
   ],
   "source": [
    "%%time\n",
    "evals_results = {}\n",
    "lgb_model = lgb.train(\n",
    "    params, \n",
    "    dtrain, \n",
    "    valid_sets= [dtrain, dvalid], \n",
    "    valid_names=['train', 'valid'], \n",
    "    evals_result=evals_results, \n",
    "    num_boost_round=1000,\n",
    "    early_stopping_rounds=50,\n",
    "    verbose_eval=10, \n",
    "    feval=None\n",
    ")"
   ]
  },
  {
   "cell_type": "code",
   "execution_count": 40,
   "metadata": {},
   "outputs": [
    {
     "data": {
      "text/plain": [
       "<matplotlib.axes._subplots.AxesSubplot at 0x7fd273fc57b8>"
      ]
     },
     "execution_count": 40,
     "metadata": {},
     "output_type": "execute_result"
    },
    {
     "data": {
      "image/png": "[encoded data removed]",
      "text/plain": [
       "<matplotlib.figure.Figure at 0x7fd2840b2e80>"
      ]
     },
     "metadata": {},
     "output_type": "display_data"
    }
   ],
   "source": [
    "f, ax = plt.subplots(figsize=[7,15])\n",
    "lgb.plot_importance(lgb_model, ax=ax, max_num_features=len(predictors))"
   ]
  },
  {
   "cell_type": "code",
   "execution_count": 65,
   "metadata": {
    "collapsed": true
   },
   "outputs": [],
   "source": [
    "import pickle"
   ]
  },
  {
   "cell_type": "code",
   "execution_count": 66,
   "metadata": {
    "collapsed": true
   },
   "outputs": [],
   "source": [
    "with open('../results/{}.pickle'.format(to_get), 'wb') as f:\n",
    "    pickle.dump(lgb_model, f)"
   ]
  },
  {
   "cell_type": "markdown",
   "metadata": {
    "collapsed": true
   },
   "source": [
    "# Create submission"
   ]
  },
  {
   "cell_type": "code",
   "execution_count": 67,
   "metadata": {
    "collapsed": true
   },
   "outputs": [],
   "source": [
    "test = pd.read_hdf(hdf_path, key='test')"
   ]
  },
  {
   "cell_type": "code",
   "execution_count": 68,
   "metadata": {},
   "outputs": [
    {
     "data": {
      "text/html": [
       "<div>\n",
       "<style>\n",
       "    .dataframe thead tr:only-child th {\n",
       "        text-align: right;\n",
       "    }\n",
       "\n",
       "    .dataframe thead th {\n",
       "        text-align: left;\n",
       "    }\n",
       "\n",
       "    .dataframe tbody tr th {\n",
       "        vertical-align: top;\n",
       "    }\n",
       "</style>\n",
       "<table border=\"1\" class=\"dataframe\">\n",
       "  <thead>\n",
       "    <tr style=\"text-align: right;\">\n",
       "      <th></th>\n",
       "      <th>click_id</th>\n",
       "      <th>ip</th>\n",
       "      <th>app</th>\n",
       "      <th>device</th>\n",
       "      <th>os</th>\n",
       "      <th>channel</th>\n",
       "      <th>click_time</th>\n",
       "    </tr>\n",
       "  </thead>\n",
       "  <tbody>\n",
       "    <tr>\n",
       "      <th>0</th>\n",
       "      <td>0</td>\n",
       "      <td>5744</td>\n",
       "      <td>9</td>\n",
       "      <td>1</td>\n",
       "      <td>3</td>\n",
       "      <td>107</td>\n",
       "      <td>2017-11-10 04:00:00</td>\n",
       "    </tr>\n",
       "    <tr>\n",
       "      <th>1</th>\n",
       "      <td>1</td>\n",
       "      <td>119901</td>\n",
       "      <td>9</td>\n",
       "      <td>1</td>\n",
       "      <td>3</td>\n",
       "      <td>466</td>\n",
       "      <td>2017-11-10 04:00:00</td>\n",
       "    </tr>\n",
       "    <tr>\n",
       "      <th>2</th>\n",
       "      <td>2</td>\n",
       "      <td>72287</td>\n",
       "      <td>21</td>\n",
       "      <td>1</td>\n",
       "      <td>19</td>\n",
       "      <td>128</td>\n",
       "      <td>2017-11-10 04:00:00</td>\n",
       "    </tr>\n",
       "    <tr>\n",
       "      <th>3</th>\n",
       "      <td>3</td>\n",
       "      <td>78477</td>\n",
       "      <td>15</td>\n",
       "      <td>1</td>\n",
       "      <td>13</td>\n",
       "      <td>111</td>\n",
       "      <td>2017-11-10 04:00:00</td>\n",
       "    </tr>\n",
       "    <tr>\n",
       "      <th>4</th>\n",
       "      <td>4</td>\n",
       "      <td>123080</td>\n",
       "      <td>12</td>\n",
       "      <td>1</td>\n",
       "      <td>13</td>\n",
       "      <td>328</td>\n",
       "      <td>2017-11-10 04:00:00</td>\n",
       "    </tr>\n",
       "  </tbody>\n",
       "</table>\n",
       "</div>"
      ],
      "text/plain": [
       "   click_id      ip  app  device  os  channel          click_time\n",
       "0         0    5744    9       1   3      107 2017-11-10 04:00:00\n",
       "1         1  119901    9       1   3      466 2017-11-10 04:00:00\n",
       "2         2   72287   21       1  19      128 2017-11-10 04:00:00\n",
       "3         3   78477   15       1  13      111 2017-11-10 04:00:00\n",
       "4         4  123080   12       1  13      328 2017-11-10 04:00:00"
      ]
     },
     "execution_count": 68,
     "metadata": {},
     "output_type": "execute_result"
    }
   ],
   "source": [
    "test.head()"
   ]
  },
  {
   "cell_type": "code",
   "execution_count": 69,
   "metadata": {
    "collapsed": true
   },
   "outputs": [],
   "source": [
    "test_all_comb_feats =[(test, comb_feat) for comb_feat in all_comb_feats]"
   ]
  },
  {
   "cell_type": "code",
   "execution_count": 70,
   "metadata": {
    "collapsed": true
   },
   "outputs": [],
   "source": [
    "test_all_comb_feats = [comb for comb in test_all_comb_feats if 'ip' in comb[1]]"
   ]
  },
  {
   "cell_type": "code",
   "execution_count": 71,
   "metadata": {},
   "outputs": [
    {
     "name": "stdout",
     "output_type": "stream",
     "text": [
      "Adding hour...\n",
      "Adding minute...\n",
      "Adding in_test_hh\n",
      "Adding day_section...\n",
      "Getting next click...\n",
      "2018-04-23 15:43:53.269033\n"
     ]
    },
    {
     "name": "stderr",
     "output_type": "stream",
     "text": [
      "\r",
      "  0%|          | 0/16 [00:00<?, ?it/s]"
     ]
    },
    {
     "name": "stdout",
     "output_type": "stream",
     "text": [
      "Concat...\n"
     ]
    },
    {
     "name": "stderr",
     "output_type": "stream",
     "text": [
      "100%|██████████| 16/16 [00:26<00:00,  1.87s/it]\n"
     ]
    }
   ],
   "source": [
    "test = process(test, test_all_comb_feats, to_get)"
   ]
  },
  {
   "cell_type": "code",
   "execution_count": 72,
   "metadata": {},
   "outputs": [
    {
     "data": {
      "text/html": [
       "<div>\n",
       "<style>\n",
       "    .dataframe thead tr:only-child th {\n",
       "        text-align: right;\n",
       "    }\n",
       "\n",
       "    .dataframe thead th {\n",
       "        text-align: left;\n",
       "    }\n",
       "\n",
       "    .dataframe tbody tr th {\n",
       "        vertical-align: top;\n",
       "    }\n",
       "</style>\n",
       "<table border=\"1\" class=\"dataframe\">\n",
       "  <thead>\n",
       "    <tr style=\"text-align: right;\">\n",
       "      <th></th>\n",
       "      <th>click_id</th>\n",
       "      <th>ip</th>\n",
       "      <th>app</th>\n",
       "      <th>device</th>\n",
       "      <th>os</th>\n",
       "      <th>channel</th>\n",
       "      <th>click_time</th>\n",
       "      <th>hour</th>\n",
       "      <th>minute</th>\n",
       "      <th>in_test_hh</th>\n",
       "      <th>...</th>\n",
       "      <th>nextclick_ip_app_device_os</th>\n",
       "      <th>nextnextclick_ip_app_device_os</th>\n",
       "      <th>nextclick_ip_app_device_channel</th>\n",
       "      <th>nextnextclick_ip_app_device_channel</th>\n",
       "      <th>nextclick_ip_app_os_channel</th>\n",
       "      <th>nextnextclick_ip_app_os_channel</th>\n",
       "      <th>nextclick_ip_device_os_channel</th>\n",
       "      <th>nextnextclick_ip_device_os_channel</th>\n",
       "      <th>nextclick_ip_app_device_os_channel</th>\n",
       "      <th>nextnextclick_ip_app_device_os_channel</th>\n",
       "    </tr>\n",
       "  </thead>\n",
       "  <tbody>\n",
       "    <tr>\n",
       "      <th>0</th>\n",
       "      <td>0</td>\n",
       "      <td>5744</td>\n",
       "      <td>9</td>\n",
       "      <td>1</td>\n",
       "      <td>3</td>\n",
       "      <td>107</td>\n",
       "      <td>2017-11-10 04:00:00</td>\n",
       "      <td>4</td>\n",
       "      <td>240</td>\n",
       "      <td>1</td>\n",
       "      <td>...</td>\n",
       "      <td>-1</td>\n",
       "      <td>-1</td>\n",
       "      <td>1434</td>\n",
       "      <td>4560</td>\n",
       "      <td>-1</td>\n",
       "      <td>-1</td>\n",
       "      <td>-1</td>\n",
       "      <td>-1</td>\n",
       "      <td>-1</td>\n",
       "      <td>-1</td>\n",
       "    </tr>\n",
       "    <tr>\n",
       "      <th>1</th>\n",
       "      <td>1</td>\n",
       "      <td>119901</td>\n",
       "      <td>9</td>\n",
       "      <td>1</td>\n",
       "      <td>3</td>\n",
       "      <td>466</td>\n",
       "      <td>2017-11-10 04:00:00</td>\n",
       "      <td>4</td>\n",
       "      <td>240</td>\n",
       "      <td>1</td>\n",
       "      <td>...</td>\n",
       "      <td>399</td>\n",
       "      <td>750</td>\n",
       "      <td>359</td>\n",
       "      <td>580</td>\n",
       "      <td>18377</td>\n",
       "      <td>-1</td>\n",
       "      <td>18377</td>\n",
       "      <td>-1</td>\n",
       "      <td>18377</td>\n",
       "      <td>-1</td>\n",
       "    </tr>\n",
       "    <tr>\n",
       "      <th>2</th>\n",
       "      <td>2</td>\n",
       "      <td>72287</td>\n",
       "      <td>21</td>\n",
       "      <td>1</td>\n",
       "      <td>19</td>\n",
       "      <td>128</td>\n",
       "      <td>2017-11-10 04:00:00</td>\n",
       "      <td>4</td>\n",
       "      <td>240</td>\n",
       "      <td>1</td>\n",
       "      <td>...</td>\n",
       "      <td>88</td>\n",
       "      <td>215</td>\n",
       "      <td>88</td>\n",
       "      <td>215</td>\n",
       "      <td>88</td>\n",
       "      <td>215</td>\n",
       "      <td>88</td>\n",
       "      <td>215</td>\n",
       "      <td>88</td>\n",
       "      <td>215</td>\n",
       "    </tr>\n",
       "    <tr>\n",
       "      <th>3</th>\n",
       "      <td>3</td>\n",
       "      <td>78477</td>\n",
       "      <td>15</td>\n",
       "      <td>1</td>\n",
       "      <td>13</td>\n",
       "      <td>111</td>\n",
       "      <td>2017-11-10 04:00:00</td>\n",
       "      <td>4</td>\n",
       "      <td>240</td>\n",
       "      <td>1</td>\n",
       "      <td>...</td>\n",
       "      <td>425</td>\n",
       "      <td>488</td>\n",
       "      <td>3181</td>\n",
       "      <td>-1</td>\n",
       "      <td>3181</td>\n",
       "      <td>-1</td>\n",
       "      <td>3181</td>\n",
       "      <td>-1</td>\n",
       "      <td>3181</td>\n",
       "      <td>-1</td>\n",
       "    </tr>\n",
       "    <tr>\n",
       "      <th>4</th>\n",
       "      <td>4</td>\n",
       "      <td>123080</td>\n",
       "      <td>12</td>\n",
       "      <td>1</td>\n",
       "      <td>13</td>\n",
       "      <td>328</td>\n",
       "      <td>2017-11-10 04:00:00</td>\n",
       "      <td>4</td>\n",
       "      <td>240</td>\n",
       "      <td>1</td>\n",
       "      <td>...</td>\n",
       "      <td>1208</td>\n",
       "      <td>2750</td>\n",
       "      <td>1208</td>\n",
       "      <td>-1</td>\n",
       "      <td>1208</td>\n",
       "      <td>-1</td>\n",
       "      <td>1208</td>\n",
       "      <td>-1</td>\n",
       "      <td>1208</td>\n",
       "      <td>-1</td>\n",
       "    </tr>\n",
       "  </tbody>\n",
       "</table>\n",
       "<p>5 rows × 44 columns</p>\n",
       "</div>"
      ],
      "text/plain": [
       "   click_id      ip  app  device  os  channel          click_time  hour  \\\n",
       "0         0    5744    9       1   3      107 2017-11-10 04:00:00     4   \n",
       "1         1  119901    9       1   3      466 2017-11-10 04:00:00     4   \n",
       "2         2   72287   21       1  19      128 2017-11-10 04:00:00     4   \n",
       "3         3   78477   15       1  13      111 2017-11-10 04:00:00     4   \n",
       "4         4  123080   12       1  13      328 2017-11-10 04:00:00     4   \n",
       "\n",
       "   minute  in_test_hh                   ...                    \\\n",
       "0     240           1                   ...                     \n",
       "1     240           1                   ...                     \n",
       "2     240           1                   ...                     \n",
       "3     240           1                   ...                     \n",
       "4     240           1                   ...                     \n",
       "\n",
       "   nextclick_ip_app_device_os  nextnextclick_ip_app_device_os  \\\n",
       "0                          -1                              -1   \n",
       "1                         399                             750   \n",
       "2                          88                             215   \n",
       "3                         425                             488   \n",
       "4                        1208                            2750   \n",
       "\n",
       "   nextclick_ip_app_device_channel  nextnextclick_ip_app_device_channel  \\\n",
       "0                             1434                                 4560   \n",
       "1                              359                                  580   \n",
       "2                               88                                  215   \n",
       "3                             3181                                   -1   \n",
       "4                             1208                                   -1   \n",
       "\n",
       "   nextclick_ip_app_os_channel  nextnextclick_ip_app_os_channel  \\\n",
       "0                           -1                               -1   \n",
       "1                        18377                               -1   \n",
       "2                           88                              215   \n",
       "3                         3181                               -1   \n",
       "4                         1208                               -1   \n",
       "\n",
       "   nextclick_ip_device_os_channel  nextnextclick_ip_device_os_channel  \\\n",
       "0                              -1                                  -1   \n",
       "1                           18377                                  -1   \n",
       "2                              88                                 215   \n",
       "3                            3181                                  -1   \n",
       "4                            1208                                  -1   \n",
       "\n",
       "   nextclick_ip_app_device_os_channel  nextnextclick_ip_app_device_os_channel  \n",
       "0                                  -1                                      -1  \n",
       "1                               18377                                      -1  \n",
       "2                                  88                                     215  \n",
       "3                                3181                                      -1  \n",
       "4                                1208                                      -1  \n",
       "\n",
       "[5 rows x 44 columns]"
      ]
     },
     "execution_count": 72,
     "metadata": {},
     "output_type": "execute_result"
    }
   ],
   "source": [
    "test.head()"
   ]
  },
  {
   "cell_type": "code",
   "execution_count": 45,
   "metadata": {
    "collapsed": true
   },
   "outputs": [],
   "source": [
    "pred = lgb_model.predict(test_df.loc[:, predictors], num_iteration=lgb_model.best_iteration)"
   ]
  },
  {
   "cell_type": "code",
   "execution_count": 49,
   "metadata": {
    "collapsed": true
   },
   "outputs": [],
   "source": [
    "test_df.loc[:, 'is_attributed'] = pred"
   ]
  },
  {
   "cell_type": "code",
   "execution_count": 52,
   "metadata": {
    "collapsed": true
   },
   "outputs": [],
   "source": [
    "test_df.loc[:, 'click_id'] = test_df.click_id.astype('int')"
   ]
  },
  {
   "cell_type": "code",
   "execution_count": 53,
   "metadata": {
    "collapsed": true
   },
   "outputs": [],
   "source": [
    "test_df.loc[:, ['click_id', 'is_attributed']].to_csv('../results/final.csv', index=False)"
   ]
  },
  {
   "cell_type": "code",
   "execution_count": 54,
   "metadata": {},
   "outputs": [
    {
     "data": {
      "text/html": [
       "<div>\n",
       "<style>\n",
       "    .dataframe thead tr:only-child th {\n",
       "        text-align: right;\n",
       "    }\n",
       "\n",
       "    .dataframe thead th {\n",
       "        text-align: left;\n",
       "    }\n",
       "\n",
       "    .dataframe tbody tr th {\n",
       "        vertical-align: top;\n",
       "    }\n",
       "</style>\n",
       "<table border=\"1\" class=\"dataframe\">\n",
       "  <thead>\n",
       "    <tr style=\"text-align: right;\">\n",
       "      <th></th>\n",
       "      <th>click_id</th>\n",
       "      <th>is_attributed</th>\n",
       "    </tr>\n",
       "  </thead>\n",
       "  <tbody>\n",
       "    <tr>\n",
       "      <th>0</th>\n",
       "      <td>0</td>\n",
       "      <td>0.243915</td>\n",
       "    </tr>\n",
       "    <tr>\n",
       "      <th>1</th>\n",
       "      <td>1</td>\n",
       "      <td>0.052169</td>\n",
       "    </tr>\n",
       "    <tr>\n",
       "      <th>2</th>\n",
       "      <td>2</td>\n",
       "      <td>0.010647</td>\n",
       "    </tr>\n",
       "    <tr>\n",
       "      <th>3</th>\n",
       "      <td>3</td>\n",
       "      <td>0.051693</td>\n",
       "    </tr>\n",
       "    <tr>\n",
       "      <th>4</th>\n",
       "      <td>4</td>\n",
       "      <td>0.070534</td>\n",
       "    </tr>\n",
       "  </tbody>\n",
       "</table>\n",
       "</div>"
      ],
      "text/plain": [
       "   click_id  is_attributed\n",
       "0         0       0.243915\n",
       "1         1       0.052169\n",
       "2         2       0.010647\n",
       "3         3       0.051693\n",
       "4         4       0.070534"
      ]
     },
     "execution_count": 54,
     "metadata": {},
     "output_type": "execute_result"
    }
   ],
   "source": [
    "test_df.loc[:, ['click_id', 'is_attributed']].head()"
   ]
  },
  {
   "cell_type": "code",
   "execution_count": null,
   "metadata": {
    "collapsed": true
   },
   "outputs": [],
   "source": []
  }
 ],
 "metadata": {
  "kernelspec": {
   "display_name": "Python 3",
   "language": "python",
   "name": "python3"
  },
  "language_info": {
   "codemirror_mode": {
    "name": "ipython",
    "version": 3
   },
   "file_extension": ".py",
   "mimetype": "text/x-python",
   "name": "python",
   "nbconvert_exporter": "python",
   "pygments_lexer": "ipython3",
   "version": "3.6.1"
  }
 },
 "nbformat": 4,
 "nbformat_minor": 2
}
