{
 "cells": [
  {
   "cell_type": "code",
   "execution_count": 1,
   "metadata": {
    "collapsed": true
   },
   "outputs": [],
   "source": [
    "%matplotlib inline\n",
    "import numpy as np\n",
    "import pandas as pd\n",
    "import gc\n",
    "import lightgbm as lgb\n",
    "import matplotlib.pyplot as plt\n",
    "import pickle\n",
    "import time\n",
    "from sklearn.model_selection import train_test_split\n",
    "from sklearn.gaussian_process import GaussianProcessClassifier\n",
    "from sklearn.metrics import roc_auc_score"
   ]
  },
  {
   "cell_type": "markdown",
   "metadata": {},
   "source": [
    "# Prepare data\n",
    "\n",
    "* Attributed rate: how attribution is distributed in combinations\n",
    "* Click counts: how clicks are distributed in combinations\n",
    "* Rolling click counts: how clicks are distributed in combinations in sliding windows"
   ]
  },
  {
   "cell_type": "code",
   "execution_count": 2,
   "metadata": {
    "collapsed": true
   },
   "outputs": [],
   "source": [
    "hdf_path = '../derived_data/source.hdf'"
   ]
  },
  {
   "cell_type": "code",
   "execution_count": 3,
   "metadata": {
    "collapsed": true
   },
   "outputs": [],
   "source": [
    "res_hdf_path = '../derived_data/feats_pile.hdf'"
   ]
  },
  {
   "cell_type": "code",
   "execution_count": 4,
   "metadata": {},
   "outputs": [
    {
     "name": "stdout",
     "output_type": "stream",
     "text": [
      "CPU times: user 320 ms, sys: 4.78 s, total: 5.1 s\n",
      "Wall time: 19.7 s\n"
     ]
    }
   ],
   "source": [
    "%%time\n",
    "dat = pd.read_hdf(hdf_path, key='train')"
   ]
  },
  {
   "cell_type": "code",
   "execution_count": 5,
   "metadata": {},
   "outputs": [
    {
     "data": {
      "text/html": [
       "<div>\n",
       "<style>\n",
       "    .dataframe thead tr:only-child th {\n",
       "        text-align: right;\n",
       "    }\n",
       "\n",
       "    .dataframe thead th {\n",
       "        text-align: left;\n",
       "    }\n",
       "\n",
       "    .dataframe tbody tr th {\n",
       "        vertical-align: top;\n",
       "    }\n",
       "</style>\n",
       "<table border=\"1\" class=\"dataframe\">\n",
       "  <thead>\n",
       "    <tr style=\"text-align: right;\">\n",
       "      <th></th>\n",
       "      <th>ip</th>\n",
       "      <th>app</th>\n",
       "      <th>device</th>\n",
       "      <th>os</th>\n",
       "      <th>channel</th>\n",
       "      <th>click_time</th>\n",
       "      <th>is_attributed</th>\n",
       "    </tr>\n",
       "  </thead>\n",
       "  <tbody>\n",
       "    <tr>\n",
       "      <th>0</th>\n",
       "      <td>83230</td>\n",
       "      <td>3</td>\n",
       "      <td>1</td>\n",
       "      <td>13</td>\n",
       "      <td>379</td>\n",
       "      <td>2017-11-06 14:32:21</td>\n",
       "      <td>0</td>\n",
       "    </tr>\n",
       "    <tr>\n",
       "      <th>1</th>\n",
       "      <td>17357</td>\n",
       "      <td>3</td>\n",
       "      <td>1</td>\n",
       "      <td>19</td>\n",
       "      <td>379</td>\n",
       "      <td>2017-11-06 14:33:34</td>\n",
       "      <td>0</td>\n",
       "    </tr>\n",
       "    <tr>\n",
       "      <th>2</th>\n",
       "      <td>35810</td>\n",
       "      <td>3</td>\n",
       "      <td>1</td>\n",
       "      <td>13</td>\n",
       "      <td>379</td>\n",
       "      <td>2017-11-06 14:34:12</td>\n",
       "      <td>0</td>\n",
       "    </tr>\n",
       "    <tr>\n",
       "      <th>3</th>\n",
       "      <td>45745</td>\n",
       "      <td>14</td>\n",
       "      <td>1</td>\n",
       "      <td>13</td>\n",
       "      <td>478</td>\n",
       "      <td>2017-11-06 14:34:52</td>\n",
       "      <td>0</td>\n",
       "    </tr>\n",
       "    <tr>\n",
       "      <th>4</th>\n",
       "      <td>161007</td>\n",
       "      <td>3</td>\n",
       "      <td>1</td>\n",
       "      <td>13</td>\n",
       "      <td>379</td>\n",
       "      <td>2017-11-06 14:35:08</td>\n",
       "      <td>0</td>\n",
       "    </tr>\n",
       "  </tbody>\n",
       "</table>\n",
       "</div>"
      ],
      "text/plain": [
       "       ip  app  device  os  channel          click_time  is_attributed\n",
       "0   83230    3       1  13      379 2017-11-06 14:32:21              0\n",
       "1   17357    3       1  19      379 2017-11-06 14:33:34              0\n",
       "2   35810    3       1  13      379 2017-11-06 14:34:12              0\n",
       "3   45745   14       1  13      478 2017-11-06 14:34:52              0\n",
       "4  161007    3       1  13      379 2017-11-06 14:35:08              0"
      ]
     },
     "execution_count": 5,
     "metadata": {},
     "output_type": "execute_result"
    }
   ],
   "source": [
    "dat.head()"
   ]
  },
  {
   "cell_type": "code",
   "execution_count": 6,
   "metadata": {
    "collapsed": true
   },
   "outputs": [],
   "source": [
    "train = dat.loc[(dat.click_time >= '2017-11-09 04:00:00') & (dat.click_time < '2017-11-09 15:00:00')].copy()"
   ]
  },
  {
   "cell_type": "code",
   "execution_count": 7,
   "metadata": {
    "collapsed": true
   },
   "outputs": [],
   "source": [
    "train_len = train.shape[0]"
   ]
  },
  {
   "cell_type": "code",
   "execution_count": 8,
   "metadata": {
    "collapsed": true
   },
   "outputs": [],
   "source": [
    "test = pd.read_hdf(hdf_path, key='test')"
   ]
  },
  {
   "cell_type": "code",
   "execution_count": 9,
   "metadata": {
    "collapsed": true
   },
   "outputs": [],
   "source": [
    "train = train.append(test)"
   ]
  },
  {
   "cell_type": "code",
   "execution_count": 10,
   "metadata": {},
   "outputs": [
    {
     "data": {
      "text/html": [
       "<div>\n",
       "<style>\n",
       "    .dataframe thead tr:only-child th {\n",
       "        text-align: right;\n",
       "    }\n",
       "\n",
       "    .dataframe thead th {\n",
       "        text-align: left;\n",
       "    }\n",
       "\n",
       "    .dataframe tbody tr th {\n",
       "        vertical-align: top;\n",
       "    }\n",
       "</style>\n",
       "<table border=\"1\" class=\"dataframe\">\n",
       "  <thead>\n",
       "    <tr style=\"text-align: right;\">\n",
       "      <th></th>\n",
       "      <th>app</th>\n",
       "      <th>channel</th>\n",
       "      <th>click_id</th>\n",
       "      <th>click_time</th>\n",
       "      <th>device</th>\n",
       "      <th>ip</th>\n",
       "      <th>is_attributed</th>\n",
       "      <th>os</th>\n",
       "    </tr>\n",
       "  </thead>\n",
       "  <tbody>\n",
       "    <tr>\n",
       "      <th>144708152</th>\n",
       "      <td>2</td>\n",
       "      <td>477</td>\n",
       "      <td>NaN</td>\n",
       "      <td>2017-11-09 04:00:00</td>\n",
       "      <td>1</td>\n",
       "      <td>38877</td>\n",
       "      <td>0.0</td>\n",
       "      <td>19</td>\n",
       "    </tr>\n",
       "    <tr>\n",
       "      <th>144708153</th>\n",
       "      <td>14</td>\n",
       "      <td>489</td>\n",
       "      <td>NaN</td>\n",
       "      <td>2017-11-09 04:00:00</td>\n",
       "      <td>1</td>\n",
       "      <td>104271</td>\n",
       "      <td>0.0</td>\n",
       "      <td>18</td>\n",
       "    </tr>\n",
       "    <tr>\n",
       "      <th>144708154</th>\n",
       "      <td>3</td>\n",
       "      <td>280</td>\n",
       "      <td>NaN</td>\n",
       "      <td>2017-11-09 04:00:00</td>\n",
       "      <td>1</td>\n",
       "      <td>92922</td>\n",
       "      <td>0.0</td>\n",
       "      <td>13</td>\n",
       "    </tr>\n",
       "    <tr>\n",
       "      <th>144708155</th>\n",
       "      <td>3</td>\n",
       "      <td>19</td>\n",
       "      <td>NaN</td>\n",
       "      <td>2017-11-09 04:00:00</td>\n",
       "      <td>1</td>\n",
       "      <td>6505</td>\n",
       "      <td>0.0</td>\n",
       "      <td>13</td>\n",
       "    </tr>\n",
       "    <tr>\n",
       "      <th>144708156</th>\n",
       "      <td>9</td>\n",
       "      <td>334</td>\n",
       "      <td>NaN</td>\n",
       "      <td>2017-11-09 04:00:00</td>\n",
       "      <td>1</td>\n",
       "      <td>19964</td>\n",
       "      <td>0.0</td>\n",
       "      <td>13</td>\n",
       "    </tr>\n",
       "  </tbody>\n",
       "</table>\n",
       "</div>"
      ],
      "text/plain": [
       "           app  channel  click_id          click_time  device      ip  \\\n",
       "144708152    2      477       NaN 2017-11-09 04:00:00       1   38877   \n",
       "144708153   14      489       NaN 2017-11-09 04:00:00       1  104271   \n",
       "144708154    3      280       NaN 2017-11-09 04:00:00       1   92922   \n",
       "144708155    3       19       NaN 2017-11-09 04:00:00       1    6505   \n",
       "144708156    9      334       NaN 2017-11-09 04:00:00       1   19964   \n",
       "\n",
       "           is_attributed  os  \n",
       "144708152            0.0  19  \n",
       "144708153            0.0  18  \n",
       "144708154            0.0  13  \n",
       "144708155            0.0  13  \n",
       "144708156            0.0  13  "
      ]
     },
     "execution_count": 10,
     "metadata": {},
     "output_type": "execute_result"
    }
   ],
   "source": [
    "train.head()"
   ]
  },
  {
   "cell_type": "code",
   "execution_count": 11,
   "metadata": {
    "collapsed": true
   },
   "outputs": [],
   "source": [
    "del dat\n",
    "del test"
   ]
  },
  {
   "cell_type": "code",
   "execution_count": 12,
   "metadata": {},
   "outputs": [
    {
     "data": {
      "text/plain": [
       "223"
      ]
     },
     "execution_count": 12,
     "metadata": {},
     "output_type": "execute_result"
    }
   ],
   "source": [
    "gc.collect()"
   ]
  },
  {
   "cell_type": "code",
   "execution_count": 13,
   "metadata": {
    "collapsed": true
   },
   "outputs": [],
   "source": [
    "most_freq_hours_in_test_data = [4, 5, 9, 10, 13, 14]\n",
    "least_freq_hours_in_test_data = [6, 11, 15]"
   ]
  },
  {
   "cell_type": "code",
   "execution_count": 14,
   "metadata": {
    "collapsed": true
   },
   "outputs": [],
   "source": [
    "uint8_max = np.iinfo(np.uint8).max\n",
    "uint16_max = np.iinfo(np.uint16).max\n",
    "uint32_max = np.iinfo(np.uint32).max\n",
    "int8_max = np.iinfo(np.int8).max\n",
    "int16_max = np.iinfo(np.int16).max\n",
    "int32_max = np.iinfo(np.int32).max\n",
    "def choose_uint_type(n):\n",
    "    if n <= uint8_max:\n",
    "        return 'uint8'\n",
    "    elif n <= uint16_max:\n",
    "        return 'uint16'\n",
    "    elif n <= uint32_max:\n",
    "        return 'uint32'\n",
    "    else:\n",
    "        return 'uint64'\n",
    "def choose_int_type(n):\n",
    "    if n <= int8_max:\n",
    "        return 'int8'\n",
    "    elif n <= int16_max:\n",
    "        return 'int16'\n",
    "    elif n <= int32_max:\n",
    "        return 'int32'\n",
    "    else:\n",
    "        return 'int64'"
   ]
  },
  {
   "cell_type": "code",
   "execution_count": 15,
   "metadata": {
    "collapsed": true
   },
   "outputs": [],
   "source": [
    "def get_next_click(df, selcols):\n",
    "    gp = df.groupby(selcols)\n",
    "    next_click_col = 'nextclick_{}'.format('_'.join(selcols))\n",
    "    next_click = (gp['epochtime'].shift(-1) - df.epochtime).fillna(-1)\n",
    "    next_click = next_click.astype(choose_int_type(next_click.max()))\n",
    "    next_click.name = next_click_col\n",
    "    next_click = next_click.to_frame()\n",
    "    df = pd.concat([df, next_click], axis=1)\n",
    "    del gp\n",
    "    del next_click\n",
    "    gc.collect()\n",
    "    return df"
   ]
  },
  {
   "cell_type": "code",
   "execution_count": 15,
   "metadata": {
    "collapsed": true
   },
   "outputs": [],
   "source": [
    "def get_previous_click(df, selcols):\n",
    "    gp = df.groupby(selcols)\n",
    "    previous_click_col = 'previousclick_{}'.format('_'.join(selcols))\n",
    "    previous_click = (df.epochtime - gp['epochtime'].shift(1)).fillna(-1)\n",
    "    previous_click = previous_click.astype(choose_int_type(previous_click.max()))\n",
    "    previous_click.name = previous_click_col\n",
    "    previous_click = previous_click.to_frame()\n",
    "    df = pd.concat([df, previous_click], axis=1)\n",
    "    del gp\n",
    "    del previous_click\n",
    "    gc.collect()\n",
    "    return df"
   ]
  },
  {
   "cell_type": "code",
   "execution_count": 16,
   "metadata": {
    "collapsed": true
   },
   "outputs": [],
   "source": [
    "def get_previousprevious_click(df, selcols):\n",
    "    gp = df.groupby(selcols)\n",
    "    previous_click_col = 'previouspreviousclick_{}'.format('_'.join(selcols))\n",
    "    previous_click = (df.epochtime - gp['epochtime'].shift(2)).fillna(-1)\n",
    "    previous_click = previous_click.astype(choose_int_type(previous_click.max()))\n",
    "    previous_click.name = previous_click_col\n",
    "    previous_click = previous_click.to_frame()\n",
    "    df = pd.concat([df, previous_click], axis=1)\n",
    "    del gp\n",
    "    del previous_click\n",
    "    gc.collect()\n",
    "    return df"
   ]
  },
  {
   "cell_type": "code",
   "execution_count": 17,
   "metadata": {
    "collapsed": true
   },
   "outputs": [],
   "source": [
    "def get_nextnext_click(df, selcols):\n",
    "    gp = df.groupby(selcols)\n",
    "    next_click_col = 'nextnextclick_{}'.format('_'.join(selcols))\n",
    "    next_click = (gp['epochtime'].shift(-2) - df.epochtime).fillna(-1)\n",
    "    next_click = next_click.astype(choose_int_type(next_click.max()))\n",
    "    next_click.name = next_click_col\n",
    "    next_click = next_click.to_frame()\n",
    "    df = pd.concat([df, next_click], axis=1)\n",
    "    del gp\n",
    "    del next_click\n",
    "    gc.collect()\n",
    "    return df"
   ]
  },
  {
   "cell_type": "code",
   "execution_count": 17,
   "metadata": {
    "collapsed": true
   },
   "outputs": [],
   "source": [
    "def get_nunique(df, selcols):\n",
    "    gp = df[selcols].groupby(by=selcols[0:-1])[selcols[-1]].nunique()\n",
    "    gp = gp.astype(choose_uint_type(gp.max()))\n",
    "    gp = gp.to_frame().rename(columns={selcols[-1]: 'nunique_{}'.format('_'.join(selcols))})\n",
    "    df = df.merge(gp, left_on=selcols[0:-1], right_index=True, how='left')\n",
    "    del gp\n",
    "    gc.collect()\n",
    "    return df"
   ]
  },
  {
   "cell_type": "code",
   "execution_count": 18,
   "metadata": {
    "collapsed": true
   },
   "outputs": [],
   "source": [
    "def get_count(df, selcols):\n",
    "    gp = df[selcols].groupby(by=selcols).size()\n",
    "    gp = gp.astype(choose_uint_type(gp.max()))\n",
    "    gp = gp.to_frame().rename(columns={0: 'count_{}'.format('_'.join(selcols))})\n",
    "    df = df.merge(gp, left_on=selcols, right_index=True, how='left')\n",
    "    del gp\n",
    "    gc.collect()\n",
    "    return df"
   ]
  },
  {
   "cell_type": "code",
   "execution_count": 19,
   "metadata": {
    "collapsed": true
   },
   "outputs": [],
   "source": [
    "def get_std(df, selcols):\n",
    "    gp = df[selcols].groupby(by=selcols[0:-1])[selcols[-1]].std()\n",
    "    gp = gp.fillna(0).astype('float16').to_frame().rename(columns={selcols[-1]: 'std_{}'.format('_'.join(selcols))})\n",
    "    df = df.merge(gp, left_on=selcols[0:-1], right_index=True, how='left')\n",
    "    del gp\n",
    "    gc.collect()\n",
    "    return df"
   ]
  },
  {
   "cell_type": "code",
   "execution_count": 20,
   "metadata": {
    "collapsed": true
   },
   "outputs": [],
   "source": [
    "def get_mean(df, selcols):\n",
    "    gp = df[selcols].groupby(by=selcols[0:-1])[selcols[-1]].mean()\n",
    "    gp = gp.astype('float16').to_frame().rename(columns={selcols[-1]: 'mean_{}'.format('_'.join(selcols))})\n",
    "    df = df.merge(gp, left_on=selcols[0:-1], right_index=True, how='left')\n",
    "    del gp\n",
    "    gc.collect()\n",
    "    return df"
   ]
  },
  {
   "cell_type": "code",
   "execution_count": 21,
   "metadata": {
    "collapsed": true
   },
   "outputs": [],
   "source": [
    "def get_skew(df, selcols):\n",
    "    gp = df[selcols].groupby(by=selcols[0:-1])[selcols[-1]].skew()\n",
    "    gp = gp.fillna(0).astype('float16').to_frame().rename(columns={selcols[-1]: 'skew_{}'.format('_'.join(selcols))})\n",
    "    df = df.merge(gp, left_on=selcols[0:-1], right_index=True, how='left')\n",
    "    del gp\n",
    "    gc.collect()\n",
    "    return df"
   ]
  },
  {
   "cell_type": "code",
   "execution_count": 23,
   "metadata": {
    "collapsed": true
   },
   "outputs": [],
   "source": [
    "time_win = '15min'"
   ]
  },
  {
   "cell_type": "code",
   "execution_count": 23,
   "metadata": {
    "collapsed": true
   },
   "outputs": [],
   "source": [
    "def rolling_count(df):\n",
    "    return df.groupby('click_time', sort=False).size().rolling(time_win).count()\n",
    "\n",
    "def get_label_rolling_count(df, selcols):\n",
    "    gp = df.groupby(selcols, sort=False).apply(rolling_count)\n",
    "    gp = gp.astype(choose_uint_type(gp.max()))\n",
    "    gp = gp.to_frame().rename(columns={0: 'rolling_count_' + '_'.join(selcols)})\n",
    "    df = df.merge(gp, left_on=selcols+['click_time'], right_index=True, how='left')\n",
    "    del gp\n",
    "    gc.collect()\n",
    "    return df"
   ]
  },
  {
   "cell_type": "code",
   "execution_count": 24,
   "metadata": {
    "collapsed": true
   },
   "outputs": [],
   "source": [
    "def rolling_sum(df):\n",
    "    return df.groupby('click_time', sort=False).size().rolling(time_win).sum()\n",
    "\n",
    "def get_label_rolling_sum(df, selcols):\n",
    "    gp = df.groupby(selcols, sort=False).apply(rolling_sum)\n",
    "    gp = gp.astype(choose_uint_type(gp.max()))\n",
    "    gp = gp.to_frame().rename(columns={0: 'rolling_sum_' + '_'.join(selcols)})\n",
    "    df = df.merge(gp, left_on=selcols+['click_time'], right_index=True, how='left')\n",
    "    del gp\n",
    "    gc.collect()\n",
    "    return df"
   ]
  },
  {
   "cell_type": "code",
   "execution_count": 25,
   "metadata": {
    "collapsed": true
   },
   "outputs": [],
   "source": [
    "def rolling_mean(df):\n",
    "    return df.groupby('click_time', sort=False).size().rolling(time_win).mean()\n",
    "\n",
    "def get_label_rolling_mean(df, selcols):\n",
    "    gp = df.groupby(selcols, sort=False).apply(rolling_mean)\n",
    "    gp = gp.astype('float16').to_frame().rename(columns={0: 'rolling_mean_' + '_'.join(selcols)})\n",
    "    df = df.merge(gp, left_on=selcols+['click_time'], right_index=True, how='left')\n",
    "    del gp\n",
    "    gc.collect()\n",
    "    return df"
   ]
  },
  {
   "cell_type": "code",
   "execution_count": 26,
   "metadata": {
    "collapsed": true
   },
   "outputs": [],
   "source": [
    "def rolling_std(df):\n",
    "    return df.groupby('click_time', sort=False).size().rolling(time_win).std()\n",
    "\n",
    "def get_label_rolling_std(df, selcols):\n",
    "    gp = df.groupby(selcols, sort=False).apply(rolling_std)\n",
    "    gp = gp.fillna(0).astype('float16').to_frame().rename(columns={0: 'rolling_std_' + '_'.join(selcols)})\n",
    "    df = df.merge(gp, left_on=selcols+['click_time'], right_index=True, how='left')\n",
    "    del gp\n",
    "    gc.collect()\n",
    "    return df"
   ]
  },
  {
   "cell_type": "code",
   "execution_count": 27,
   "metadata": {
    "collapsed": true
   },
   "outputs": [],
   "source": [
    "def rolling_max(df):\n",
    "    return df.groupby('click_time', sort=False).size().rolling(time_win).max()\n",
    "\n",
    "def get_label_rolling_max(df, selcols):\n",
    "    gp = df.groupby(selcols, sort=False).apply(rolling_max)\n",
    "    gp = gp.astype(choose_uint_type(gp.max()))\n",
    "    gp = gp.to_frame().rename(columns={0: 'rolling_max_' + '_'.join(selcols)})\n",
    "    df = df.merge(gp, left_on=selcols+['click_time'], right_index=True, how='left')\n",
    "    del gp\n",
    "    gc.collect()\n",
    "    return df"
   ]
  },
  {
   "cell_type": "code",
   "execution_count": 24,
   "metadata": {
    "collapsed": true
   },
   "outputs": [],
   "source": [
    "def rolling_min(df):\n",
    "    return df.groupby('click_time', sort=False).size().rolling(time_win).min()\n",
    "\n",
    "def get_label_rolling_min(df, selcols):\n",
    "    gp = df.groupby(selcols, sort=False).apply(rolling_min)\n",
    "    gp = gp.astype(choose_uint_type(gp.max()))\n",
    "    gp = gp.to_frame().rename(columns={0: 'rolling_min_' + '_'.join(selcols)})\n",
    "    df = df.merge(gp, left_on=selcols+['click_time'], right_index=True, how='left')\n",
    "    del gp\n",
    "    gc.collect()\n",
    "    return df"
   ]
  },
  {
   "cell_type": "code",
   "execution_count": 22,
   "metadata": {
    "collapsed": true
   },
   "outputs": [],
   "source": [
    "get_count_list =[\n",
    "    ['ip'],\n",
    "    ['ip', 'device'],\n",
    "    ['ip', 'app', 'os'],\n",
    "    ['app', 'channel'],\n",
    "    ['ip', 'app', 'device', 'os'],\n",
    "    ['app', 'device', 'channel'],\n",
    "    ['day_section', 'in_test_hh', 'ip'],\n",
    "    ['day_section', 'in_test_hh', 'ip', 'device'],\n",
    "    ['day_section', 'in_test_hh', 'ip', 'app', 'os'],\n",
    "    ['day_section', 'in_test_hh', 'app', 'channel'],\n",
    "    ['day_section', 'in_test_hh', 'ip', 'app', 'device', 'os'],\n",
    "    ['day_section', 'in_test_hh', 'app', 'device', 'channel'],\n",
    "    ['hour', 'ip'],\n",
    "    ['hour', 'ip', 'device'],\n",
    "    ['hour', 'ip', 'app', 'os'],\n",
    "    ['hour', 'app', 'channel'],\n",
    "    ['hour', 'ip', 'app', 'device', 'os'],\n",
    "    ['hour', 'app', 'device', 'channel'],\n",
    "    ['minute', 'ip'],\n",
    "    ['minute', 'ip', 'device'],\n",
    "    ['minute', 'ip', 'app', 'os'],\n",
    "    ['minute', 'app', 'channel'],\n",
    "    ['minute', 'ip', 'app', 'device', 'os'],\n",
    "    ['minute', 'app', 'device', 'channel'],\n",
    "    ['day', 'ip'],\n",
    "    ['day', 'ip', 'device'],\n",
    "    ['day', 'ip', 'app', 'os'],\n",
    "    ['day', 'app', 'channel'],\n",
    "    ['day', 'ip', 'app', 'device', 'os'],\n",
    "    ['day', 'app', 'device', 'channel'],\n",
    "]\n",
    "\n",
    "get_rolling_list = [\n",
    "    # ['ip'],\n",
    "    ['app'],\n",
    "    # ['channel']\n",
    "]\n",
    "\n",
    "get_nunique_list = [\n",
    "    ['ip', 'channel'],\n",
    "    ['ip', 'day', 'hour'],\n",
    "    ['ip', 'app'],\n",
    "    ['ip', 'app', 'os'],\n",
    "    ['ip', 'app', 'device', 'os', 'channel'],\n",
    "    ['ip', 'app', 'channel'],\n",
    "    ['ip', 'device', 'os', 'channel'],\n",
    "    ['ip', 'device'],\n",
    "    ['ip', 'device', 'os', 'app'],\n",
    "    ['channel', 'app'],\n",
    "    ['device', 'os', 'app']\n",
    "]\n",
    "\n",
    "get_std_list = [\n",
    "    ['ip', 'day', 'channel', 'minute'],\n",
    "    ['ip', 'app', 'os', 'minute']\n",
    "]\n",
    "\n",
    "get_mean_list = [\n",
    "    ['ip', 'app', 'channel', 'minute']\n",
    "]\n",
    "\n",
    "get_previousprevious_list = [\n",
    "    ['ip']\n",
    "]\n",
    "\n",
    "get_previous_list = [\n",
    "    ['ip', 'app', 'device', 'os'],\n",
    "    ['ip'],\n",
    "    ['ip', 'app', 'os']\n",
    "]"
   ]
  },
  {
   "cell_type": "code",
   "execution_count": 23,
   "metadata": {},
   "outputs": [
    {
     "name": "stdout",
     "output_type": "stream",
     "text": [
      "Adding hour...\n",
      "Adding minute...\n",
      "Adding in_test_hh\n",
      "Adding day_section...\n",
      "previousprevious\n",
      "7.3403639793396\n",
      "previous\n",
      "72.35601758956909\n",
      "count\n",
      "1079.8156759738922\n",
      "nunique\n",
      "1632.2371292114258\n",
      "std\n",
      "1750.4229936599731\n",
      "mean\n",
      "3107.449274778366\n",
      "drop\n",
      "CPU times: user 43min 42s, sys: 8min 23s, total: 52min 6s\n",
      "Wall time: 52min 26s\n"
     ]
    }
   ],
   "source": [
    "%%time\n",
    "print('Adding hour...')\n",
    "train.loc[:, 'day'] = train.click_time.dt.day.astype('uint8')\n",
    "train.loc[:, 'hour'] = train.click_time.dt.hour.astype('uint8')\n",
    "print('Adding minute...')\n",
    "train.loc[:, 'minute'] = train.hour.astype('uint16') * 60 + train.click_time.dt.minute.astype('uint16')\n",
    "print('Adding in_test_hh')\n",
    "train.loc[:, 'in_test_hh'] = (\n",
    "    3 - 2*train.hour.isin(most_freq_hours_in_test_data) -\n",
    "    1*train.hour.isin(least_freq_hours_in_test_data)\n",
    ").astype('uint8')\n",
    "print('Adding day_section...')\n",
    "train.loc[:, 'day_section'] = (train.hour // 6).astype('uint8')\n",
    "train.loc[:, 'epochtime'] = train.click_time.astype(np.int64) / 1e9\n",
    "gc.collect()\n",
    "start = time.time()\n",
    "print('previousprevious')\n",
    "for selcols in get_previousprevious_list:\n",
    "    train = get_previousprevious_click(train, selcols)\n",
    "    gc.collect()\n",
    "print(time.time() - start)\n",
    "print('previous')\n",
    "for selcols in get_previous_list:\n",
    "    train = get_previous_click(train, selcols)\n",
    "    gc.collect()\n",
    "print(time.time() - start)\n",
    "train.drop('epochtime', axis=1, inplace=True)\n",
    "gc.collect()\n",
    "# print('rolling')\n",
    "# for selcols in get_rolling_list:\n",
    "    # train = get_label_rolling_min(train, selcols)\n",
    "    # gc.collect()\n",
    "# train.drop('click_time', axis=1, inplace=True)\n",
    "# gc.collect()\n",
    "# print(time.time() - start)\n",
    "print('count')\n",
    "for selcols in get_count_list:\n",
    "    train = get_count(train, selcols)\n",
    "    gc.collect()\n",
    "print(time.time() - start)\n",
    "print('nunique')\n",
    "for selcols in get_nunique_list:\n",
    "    train = get_nunique(train, selcols)\n",
    "    gc.collect()\n",
    "print(time.time() - start)\n",
    "print('std')\n",
    "for selcols in get_std_list:\n",
    "    train = get_std(train, selcols)\n",
    "    gc.collect()\n",
    "train.drop(['day'], axis=1, inplace=True)\n",
    "print(time.time() - start)\n",
    "print('mean')\n",
    "for selcols in get_mean_list:\n",
    "    train = get_mean(train, selcols)\n",
    "    train = get_skew(train, selcols)\n",
    "    gc.collect()\n",
    "print(time.time() - start)\n",
    "\n",
    "print('drop')\n",
    "train.drop('ip', axis=1, inplace=True)\n",
    "gc.collect()"
   ]
  },
  {
   "cell_type": "code",
   "execution_count": 24,
   "metadata": {},
   "outputs": [
    {
     "data": {
      "text/plain": [
       "Index(['app', 'channel', 'click_id', 'click_time', 'device', 'is_attributed',\n",
       "       'os', 'hour', 'minute', 'in_test_hh', 'day_section',\n",
       "       'previouspreviousclick_ip', 'previousclick_ip_app_device_os',\n",
       "       'previousclick_ip', 'previousclick_ip_app_os', 'count_ip',\n",
       "       'count_ip_device', 'count_ip_app_os', 'count_app_channel',\n",
       "       'count_ip_app_device_os', 'count_app_device_channel',\n",
       "       'count_day_section_in_test_hh_ip',\n",
       "       'count_day_section_in_test_hh_ip_device',\n",
       "       'count_day_section_in_test_hh_ip_app_os',\n",
       "       'count_day_section_in_test_hh_app_channel',\n",
       "       'count_day_section_in_test_hh_ip_app_device_os',\n",
       "       'count_day_section_in_test_hh_app_device_channel', 'count_hour_ip',\n",
       "       'count_hour_ip_device', 'count_hour_ip_app_os',\n",
       "       'count_hour_app_channel', 'count_hour_ip_app_device_os',\n",
       "       'count_hour_app_device_channel', 'count_minute_ip',\n",
       "       'count_minute_ip_device', 'count_minute_ip_app_os',\n",
       "       'count_minute_app_channel', 'count_minute_ip_app_device_os',\n",
       "       'count_minute_app_device_channel', 'count_day_ip',\n",
       "       'count_day_ip_device', 'count_day_ip_app_os', 'count_day_app_channel',\n",
       "       'count_day_ip_app_device_os', 'count_day_app_device_channel',\n",
       "       'nunique_ip_channel', 'nunique_ip_day_hour', 'nunique_ip_app',\n",
       "       'nunique_ip_app_os', 'nunique_ip_app_device_os_channel',\n",
       "       'nunique_ip_app_channel', 'nunique_ip_device_os_channel',\n",
       "       'nunique_ip_device', 'nunique_ip_device_os_app', 'nunique_channel_app',\n",
       "       'nunique_device_os_app', 'std_ip_day_channel_minute',\n",
       "       'std_ip_app_os_minute', 'mean_ip_app_channel_minute',\n",
       "       'skew_ip_app_channel_minute'],\n",
       "      dtype='object')"
      ]
     },
     "execution_count": 24,
     "metadata": {},
     "output_type": "execute_result"
    }
   ],
   "source": [
    "train.columns"
   ]
  },
  {
   "cell_type": "code",
   "execution_count": 25,
   "metadata": {},
   "outputs": [
    {
     "data": {
      "text/plain": [
       "0"
      ]
     },
     "execution_count": 25,
     "metadata": {},
     "output_type": "execute_result"
    }
   ],
   "source": [
    "gc.collect()"
   ]
  },
  {
   "cell_type": "code",
   "execution_count": 26,
   "metadata": {
    "collapsed": true
   },
   "outputs": [],
   "source": [
    "train.to_hdf(res_hdf_path, key='complete_features')"
   ]
  },
  {
   "cell_type": "code",
   "execution_count": 4,
   "metadata": {
    "collapsed": true
   },
   "outputs": [],
   "source": [
    "train = pd.read_hdf(res_hdf_path, key='complete_features')"
   ]
  },
  {
   "cell_type": "code",
   "execution_count": 28,
   "metadata": {},
   "outputs": [
    {
     "data": {
      "text/html": [
       "<div>\n",
       "<style>\n",
       "    .dataframe thead tr:only-child th {\n",
       "        text-align: right;\n",
       "    }\n",
       "\n",
       "    .dataframe thead th {\n",
       "        text-align: left;\n",
       "    }\n",
       "\n",
       "    .dataframe tbody tr th {\n",
       "        vertical-align: top;\n",
       "    }\n",
       "</style>\n",
       "<table border=\"1\" class=\"dataframe\">\n",
       "  <thead>\n",
       "    <tr style=\"text-align: right;\">\n",
       "      <th></th>\n",
       "      <th>app</th>\n",
       "      <th>channel</th>\n",
       "      <th>click_id</th>\n",
       "      <th>click_time</th>\n",
       "      <th>device</th>\n",
       "      <th>is_attributed</th>\n",
       "      <th>os</th>\n",
       "      <th>hour</th>\n",
       "      <th>minute</th>\n",
       "      <th>in_test_hh</th>\n",
       "      <th>...</th>\n",
       "      <th>nunique_ip_app_os</th>\n",
       "      <th>nunique_ip_device</th>\n",
       "      <th>nunique_ip_app_device_os_channel</th>\n",
       "      <th>nunique_ip_app_channel</th>\n",
       "      <th>nunique_ip_device_os_app_y</th>\n",
       "      <th>nunique_ip_device_os_channel</th>\n",
       "      <th>std_ip_day_channel_minute</th>\n",
       "      <th>std_ip_app_os_minute</th>\n",
       "      <th>mean_ip_app_channel_minute</th>\n",
       "      <th>skew_ip_app_channel_minute</th>\n",
       "    </tr>\n",
       "  </thead>\n",
       "  <tbody>\n",
       "    <tr>\n",
       "      <th>144708152</th>\n",
       "      <td>2</td>\n",
       "      <td>477</td>\n",
       "      <td>NaN</td>\n",
       "      <td>2017-11-09 04:00:00</td>\n",
       "      <td>1</td>\n",
       "      <td>0.0</td>\n",
       "      <td>19</td>\n",
       "      <td>4</td>\n",
       "      <td>240</td>\n",
       "      <td>1</td>\n",
       "      <td>...</td>\n",
       "      <td>23</td>\n",
       "      <td>7</td>\n",
       "      <td>11</td>\n",
       "      <td>13</td>\n",
       "      <td>25</td>\n",
       "      <td>72</td>\n",
       "      <td>180.2500</td>\n",
       "      <td>214.375</td>\n",
       "      <td>331.50</td>\n",
       "      <td>0.710938</td>\n",
       "    </tr>\n",
       "    <tr>\n",
       "      <th>144708153</th>\n",
       "      <td>14</td>\n",
       "      <td>489</td>\n",
       "      <td>NaN</td>\n",
       "      <td>2017-11-09 04:00:00</td>\n",
       "      <td>1</td>\n",
       "      <td>0.0</td>\n",
       "      <td>18</td>\n",
       "      <td>4</td>\n",
       "      <td>240</td>\n",
       "      <td>1</td>\n",
       "      <td>...</td>\n",
       "      <td>31</td>\n",
       "      <td>6</td>\n",
       "      <td>4</td>\n",
       "      <td>10</td>\n",
       "      <td>21</td>\n",
       "      <td>42</td>\n",
       "      <td>216.2500</td>\n",
       "      <td>227.375</td>\n",
       "      <td>572.50</td>\n",
       "      <td>-0.172607</td>\n",
       "    </tr>\n",
       "    <tr>\n",
       "      <th>144708154</th>\n",
       "      <td>3</td>\n",
       "      <td>280</td>\n",
       "      <td>NaN</td>\n",
       "      <td>2017-11-09 04:00:00</td>\n",
       "      <td>1</td>\n",
       "      <td>0.0</td>\n",
       "      <td>13</td>\n",
       "      <td>4</td>\n",
       "      <td>240</td>\n",
       "      <td>1</td>\n",
       "      <td>...</td>\n",
       "      <td>67</td>\n",
       "      <td>14</td>\n",
       "      <td>17</td>\n",
       "      <td>19</td>\n",
       "      <td>27</td>\n",
       "      <td>83</td>\n",
       "      <td>58.3125</td>\n",
       "      <td>218.000</td>\n",
       "      <td>335.25</td>\n",
       "      <td>0.068665</td>\n",
       "    </tr>\n",
       "    <tr>\n",
       "      <th>144708155</th>\n",
       "      <td>3</td>\n",
       "      <td>19</td>\n",
       "      <td>NaN</td>\n",
       "      <td>2017-11-09 04:00:00</td>\n",
       "      <td>1</td>\n",
       "      <td>0.0</td>\n",
       "      <td>13</td>\n",
       "      <td>4</td>\n",
       "      <td>240</td>\n",
       "      <td>1</td>\n",
       "      <td>...</td>\n",
       "      <td>33</td>\n",
       "      <td>5</td>\n",
       "      <td>15</td>\n",
       "      <td>18</td>\n",
       "      <td>25</td>\n",
       "      <td>67</td>\n",
       "      <td>165.6250</td>\n",
       "      <td>150.500</td>\n",
       "      <td>603.50</td>\n",
       "      <td>-0.224487</td>\n",
       "    </tr>\n",
       "    <tr>\n",
       "      <th>144708156</th>\n",
       "      <td>9</td>\n",
       "      <td>334</td>\n",
       "      <td>NaN</td>\n",
       "      <td>2017-11-09 04:00:00</td>\n",
       "      <td>1</td>\n",
       "      <td>0.0</td>\n",
       "      <td>13</td>\n",
       "      <td>4</td>\n",
       "      <td>240</td>\n",
       "      <td>1</td>\n",
       "      <td>...</td>\n",
       "      <td>30</td>\n",
       "      <td>5</td>\n",
       "      <td>14</td>\n",
       "      <td>17</td>\n",
       "      <td>25</td>\n",
       "      <td>77</td>\n",
       "      <td>168.1250</td>\n",
       "      <td>222.250</td>\n",
       "      <td>493.25</td>\n",
       "      <td>0.226440</td>\n",
       "    </tr>\n",
       "  </tbody>\n",
       "</table>\n",
       "<p>5 rows × 62 columns</p>\n",
       "</div>"
      ],
      "text/plain": [
       "           app  channel  click_id          click_time  device  is_attributed  \\\n",
       "144708152    2      477       NaN 2017-11-09 04:00:00       1            0.0   \n",
       "144708153   14      489       NaN 2017-11-09 04:00:00       1            0.0   \n",
       "144708154    3      280       NaN 2017-11-09 04:00:00       1            0.0   \n",
       "144708155    3       19       NaN 2017-11-09 04:00:00       1            0.0   \n",
       "144708156    9      334       NaN 2017-11-09 04:00:00       1            0.0   \n",
       "\n",
       "           os  hour  minute  in_test_hh             ...              \\\n",
       "144708152  19     4     240           1             ...               \n",
       "144708153  18     4     240           1             ...               \n",
       "144708154  13     4     240           1             ...               \n",
       "144708155  13     4     240           1             ...               \n",
       "144708156  13     4     240           1             ...               \n",
       "\n",
       "           nunique_ip_app_os  nunique_ip_device  \\\n",
       "144708152                 23                  7   \n",
       "144708153                 31                  6   \n",
       "144708154                 67                 14   \n",
       "144708155                 33                  5   \n",
       "144708156                 30                  5   \n",
       "\n",
       "           nunique_ip_app_device_os_channel  nunique_ip_app_channel  \\\n",
       "144708152                                11                      13   \n",
       "144708153                                 4                      10   \n",
       "144708154                                17                      19   \n",
       "144708155                                15                      18   \n",
       "144708156                                14                      17   \n",
       "\n",
       "           nunique_ip_device_os_app_y  nunique_ip_device_os_channel  \\\n",
       "144708152                          25                            72   \n",
       "144708153                          21                            42   \n",
       "144708154                          27                            83   \n",
       "144708155                          25                            67   \n",
       "144708156                          25                            77   \n",
       "\n",
       "           std_ip_day_channel_minute  std_ip_app_os_minute  \\\n",
       "144708152                   180.2500               214.375   \n",
       "144708153                   216.2500               227.375   \n",
       "144708154                    58.3125               218.000   \n",
       "144708155                   165.6250               150.500   \n",
       "144708156                   168.1250               222.250   \n",
       "\n",
       "           mean_ip_app_channel_minute  skew_ip_app_channel_minute  \n",
       "144708152                      331.50                    0.710938  \n",
       "144708153                      572.50                   -0.172607  \n",
       "144708154                      335.25                    0.068665  \n",
       "144708155                      603.50                   -0.224487  \n",
       "144708156                      493.25                    0.226440  \n",
       "\n",
       "[5 rows x 62 columns]"
      ]
     },
     "execution_count": 28,
     "metadata": {},
     "output_type": "execute_result"
    }
   ],
   "source": [
    "train.head()"
   ]
  },
  {
   "cell_type": "markdown",
   "metadata": {},
   "source": [
    "# Split for training"
   ]
  },
  {
   "cell_type": "code",
   "execution_count": 27,
   "metadata": {},
   "outputs": [
    {
     "data": {
      "text/plain": [
       "Index(['app', 'channel', 'click_id', 'click_time', 'device', 'is_attributed',\n",
       "       'os', 'hour', 'minute', 'in_test_hh', 'day_section',\n",
       "       'previouspreviousclick_ip', 'previousclick_ip_app_device_os',\n",
       "       'previousclick_ip', 'previousclick_ip_app_os', 'count_ip',\n",
       "       'count_ip_device', 'count_ip_app_os', 'count_app_channel',\n",
       "       'count_ip_app_device_os', 'count_app_device_channel',\n",
       "       'count_day_section_in_test_hh_ip',\n",
       "       'count_day_section_in_test_hh_ip_device',\n",
       "       'count_day_section_in_test_hh_ip_app_os',\n",
       "       'count_day_section_in_test_hh_app_channel',\n",
       "       'count_day_section_in_test_hh_ip_app_device_os',\n",
       "       'count_day_section_in_test_hh_app_device_channel', 'count_hour_ip',\n",
       "       'count_hour_ip_device', 'count_hour_ip_app_os',\n",
       "       'count_hour_app_channel', 'count_hour_ip_app_device_os',\n",
       "       'count_hour_app_device_channel', 'count_minute_ip',\n",
       "       'count_minute_ip_device', 'count_minute_ip_app_os',\n",
       "       'count_minute_app_channel', 'count_minute_ip_app_device_os',\n",
       "       'count_minute_app_device_channel', 'count_day_ip',\n",
       "       'count_day_ip_device', 'count_day_ip_app_os', 'count_day_app_channel',\n",
       "       'count_day_ip_app_device_os', 'count_day_app_device_channel',\n",
       "       'nunique_ip_channel', 'nunique_ip_day_hour', 'nunique_ip_app',\n",
       "       'nunique_ip_app_os', 'nunique_ip_app_device_os_channel',\n",
       "       'nunique_ip_app_channel', 'nunique_ip_device_os_channel',\n",
       "       'nunique_ip_device', 'nunique_ip_device_os_app', 'nunique_channel_app',\n",
       "       'nunique_device_os_app', 'std_ip_day_channel_minute',\n",
       "       'std_ip_app_os_minute', 'mean_ip_app_channel_minute',\n",
       "       'skew_ip_app_channel_minute'],\n",
       "      dtype='object')"
      ]
     },
     "execution_count": 27,
     "metadata": {},
     "output_type": "execute_result"
    }
   ],
   "source": [
    "train.columns"
   ]
  },
  {
   "cell_type": "code",
   "execution_count": 28,
   "metadata": {},
   "outputs": [
    {
     "data": {
      "text/plain": [
       "0"
      ]
     },
     "execution_count": 28,
     "metadata": {},
     "output_type": "execute_result"
    }
   ],
   "source": [
    "gc.collect()"
   ]
  },
  {
   "cell_type": "code",
   "execution_count": 5,
   "metadata": {
    "collapsed": true
   },
   "outputs": [],
   "source": [
    "train_len = train.click_id.isnull().sum()"
   ]
  },
  {
   "cell_type": "code",
   "execution_count": 31,
   "metadata": {},
   "outputs": [
    {
     "data": {
      "text/plain": [
       "37169180"
      ]
     },
     "execution_count": 31,
     "metadata": {},
     "output_type": "execute_result"
    }
   ],
   "source": [
    "train_len"
   ]
  },
  {
   "cell_type": "code",
   "execution_count": 29,
   "metadata": {
    "collapsed": true
   },
   "outputs": [],
   "source": [
    "train_df, valid_df = train_test_split(train.iloc[:train_len], test_size=0.05,\n",
    "                                      stratify=train.iloc[:train_len].is_attributed,\n",
    "                                      random_state=4)"
   ]
  },
  {
   "cell_type": "code",
   "execution_count": 30,
   "metadata": {
    "collapsed": true
   },
   "outputs": [],
   "source": [
    "train_df.drop('click_id', axis=1, inplace=True)\n",
    "valid_df.drop('click_id', axis=1, inplace=True)"
   ]
  },
  {
   "cell_type": "code",
   "execution_count": 31,
   "metadata": {
    "collapsed": true
   },
   "outputs": [],
   "source": [
    "del train"
   ]
  },
  {
   "cell_type": "code",
   "execution_count": 32,
   "metadata": {},
   "outputs": [
    {
     "data": {
      "text/plain": [
       "32"
      ]
     },
     "execution_count": 32,
     "metadata": {},
     "output_type": "execute_result"
    }
   ],
   "source": [
    "gc.collect()"
   ]
  },
  {
   "cell_type": "code",
   "execution_count": 33,
   "metadata": {},
   "outputs": [
    {
     "data": {
      "text/plain": [
       "(35310721, 59)"
      ]
     },
     "execution_count": 33,
     "metadata": {},
     "output_type": "execute_result"
    }
   ],
   "source": [
    "train_df.shape"
   ]
  },
  {
   "cell_type": "code",
   "execution_count": 34,
   "metadata": {},
   "outputs": [
    {
     "data": {
      "text/plain": [
       "(1858459, 59)"
      ]
     },
     "execution_count": 34,
     "metadata": {},
     "output_type": "execute_result"
    }
   ],
   "source": [
    "valid_df.shape"
   ]
  },
  {
   "cell_type": "code",
   "execution_count": 35,
   "metadata": {},
   "outputs": [
    {
     "data": {
      "text/plain": [
       "0.0    0.997415\n",
       "1.0    0.002585\n",
       "Name: is_attributed, dtype: float64"
      ]
     },
     "execution_count": 35,
     "metadata": {},
     "output_type": "execute_result"
    }
   ],
   "source": [
    "train_df.is_attributed.value_counts(normalize=True)"
   ]
  },
  {
   "cell_type": "code",
   "execution_count": 36,
   "metadata": {},
   "outputs": [
    {
     "data": {
      "text/plain": [
       "0.0    0.997415\n",
       "1.0    0.002585\n",
       "Name: is_attributed, dtype: float64"
      ]
     },
     "execution_count": 36,
     "metadata": {},
     "output_type": "execute_result"
    }
   ],
   "source": [
    "valid_df.is_attributed.value_counts(normalize=True)"
   ]
  },
  {
   "cell_type": "markdown",
   "metadata": {},
   "source": [
    "# Light GBM\n",
    "## Training"
   ]
  },
  {
   "cell_type": "code",
   "execution_count": 37,
   "metadata": {},
   "outputs": [
    {
     "data": {
      "text/plain": [
       "0"
      ]
     },
     "execution_count": 37,
     "metadata": {},
     "output_type": "execute_result"
    }
   ],
   "source": [
    "gc.collect()"
   ]
  },
  {
   "cell_type": "code",
   "execution_count": 38,
   "metadata": {},
   "outputs": [
    {
     "data": {
      "text/plain": [
       "59"
      ]
     },
     "execution_count": 38,
     "metadata": {},
     "output_type": "execute_result"
    }
   ],
   "source": [
    "len(train_df.columns)"
   ]
  },
  {
   "cell_type": "code",
   "execution_count": 39,
   "metadata": {},
   "outputs": [
    {
     "data": {
      "text/plain": [
       "Index(['app', 'channel', 'click_time', 'device', 'is_attributed', 'os', 'hour',\n",
       "       'minute', 'in_test_hh', 'day_section', 'previouspreviousclick_ip',\n",
       "       'previousclick_ip_app_device_os', 'previousclick_ip',\n",
       "       'previousclick_ip_app_os', 'count_ip', 'count_ip_device',\n",
       "       'count_ip_app_os', 'count_app_channel', 'count_ip_app_device_os',\n",
       "       'count_app_device_channel', 'count_day_section_in_test_hh_ip',\n",
       "       'count_day_section_in_test_hh_ip_device',\n",
       "       'count_day_section_in_test_hh_ip_app_os',\n",
       "       'count_day_section_in_test_hh_app_channel',\n",
       "       'count_day_section_in_test_hh_ip_app_device_os',\n",
       "       'count_day_section_in_test_hh_app_device_channel', 'count_hour_ip',\n",
       "       'count_hour_ip_device', 'count_hour_ip_app_os',\n",
       "       'count_hour_app_channel', 'count_hour_ip_app_device_os',\n",
       "       'count_hour_app_device_channel', 'count_minute_ip',\n",
       "       'count_minute_ip_device', 'count_minute_ip_app_os',\n",
       "       'count_minute_app_channel', 'count_minute_ip_app_device_os',\n",
       "       'count_minute_app_device_channel', 'count_day_ip',\n",
       "       'count_day_ip_device', 'count_day_ip_app_os', 'count_day_app_channel',\n",
       "       'count_day_ip_app_device_os', 'count_day_app_device_channel',\n",
       "       'nunique_ip_channel', 'nunique_ip_day_hour', 'nunique_ip_app',\n",
       "       'nunique_ip_app_os', 'nunique_ip_app_device_os_channel',\n",
       "       'nunique_ip_app_channel', 'nunique_ip_device_os_channel',\n",
       "       'nunique_ip_device', 'nunique_ip_device_os_app', 'nunique_channel_app',\n",
       "       'nunique_device_os_app', 'std_ip_day_channel_minute',\n",
       "       'std_ip_app_os_minute', 'mean_ip_app_channel_minute',\n",
       "       'skew_ip_app_channel_minute'],\n",
       "      dtype='object')"
      ]
     },
     "execution_count": 39,
     "metadata": {},
     "output_type": "execute_result"
    }
   ],
   "source": [
    "train_df.columns"
   ]
  },
  {
   "cell_type": "code",
   "execution_count": 40,
   "metadata": {},
   "outputs": [
    {
     "data": {
      "text/plain": [
       "0"
      ]
     },
     "execution_count": 40,
     "metadata": {},
     "output_type": "execute_result"
    }
   ],
   "source": [
    "gc.collect()"
   ]
  },
  {
   "cell_type": "code",
   "execution_count": 41,
   "metadata": {
    "collapsed": true
   },
   "outputs": [],
   "source": [
    "target = 'is_attributed'"
   ]
  },
  {
   "cell_type": "code",
   "execution_count": 42,
   "metadata": {
    "collapsed": true
   },
   "outputs": [],
   "source": [
    "predictors = train_df.columns.tolist()"
   ]
  },
  {
   "cell_type": "code",
   "execution_count": 43,
   "metadata": {
    "collapsed": true
   },
   "outputs": [],
   "source": [
    "predictors.remove(target)\n",
    "predictors.remove('click_time')"
   ]
  },
  {
   "cell_type": "code",
   "execution_count": 44,
   "metadata": {
    "collapsed": true
   },
   "outputs": [],
   "source": [
    "categorical = ['app', 'device', 'os', 'channel', 'hour', 'minute', 'in_test_hh', 'day_section']"
   ]
  },
  {
   "cell_type": "code",
   "execution_count": 45,
   "metadata": {},
   "outputs": [
    {
     "data": {
      "text/plain": [
       "0"
      ]
     },
     "execution_count": 45,
     "metadata": {},
     "output_type": "execute_result"
    }
   ],
   "source": [
    "gc.collect()"
   ]
  },
  {
   "cell_type": "code",
   "execution_count": 46,
   "metadata": {
    "collapsed": true
   },
   "outputs": [],
   "source": [
    "params = {\n",
    "    'boosting_type': 'dart',  # I think dart would be better, but takes too long to run\n",
    "    'drop_rate': 0.1,  # Rate at which to drop trees\n",
    "    'objective': 'binary',\n",
    "    'metric': 'auc',\n",
    "    'learning_rate': 0.1,\n",
    "    'num_leaves': 7,  # Was 255: Reduced to control overfitting Try increasing this\n",
    "    # 'max_depth': 4,  # Was 8: LightGBM splits leaf-wise, so control depth via num_leaves\n",
    "    'min_child_samples': 100, # try increasing this\n",
    "    'max_bin': 100, # try increasing this\n",
    "    'bagging_fraction': 0.6,  # Was 0.7 # try decreasing this\n",
    "    'subsample_freq': 1, # try 0\n",
    "    'feature_fraction': 1, # try decreasing\n",
    "    'min_child_weight': 0, # try increasing\n",
    "    'min_data_in_leaf': 100,\n",
    "    'subsample_for_bin': 200000,\n",
    "    'min_split_gain': 0,\n",
    "    'reg_alpha': 0,\n",
    "    'reg_lambda': 0,\n",
    "    'num_thread': 8,\n",
    "    'verbose': 0,\n",
    "    'scale_pos_weight': 200\n",
    "}"
   ]
  },
  {
   "cell_type": "code",
   "execution_count": 47,
   "metadata": {
    "collapsed": true
   },
   "outputs": [],
   "source": [
    "dtrain = lgb.Dataset(\n",
    "    train_df.loc[:, predictors],\n",
    "    label=train_df.loc[:, target].astype('uint8'),\n",
    "    feature_name=predictors,\n",
    "    categorical_feature=categorical\n",
    ")\n",
    "\n",
    "dvalid = lgb.Dataset(\n",
    "    valid_df.loc[:, predictors],\n",
    "    label=valid_df.loc[:, target].astype('uint8'),\n",
    "    feature_name=predictors,\n",
    "    categorical_feature=categorical\n",
    ")"
   ]
  },
  {
   "cell_type": "code",
   "execution_count": 48,
   "metadata": {
    "collapsed": true
   },
   "outputs": [],
   "source": [
    "del train_df"
   ]
  },
  {
   "cell_type": "code",
   "execution_count": 49,
   "metadata": {
    "collapsed": true
   },
   "outputs": [],
   "source": [
    "del valid_df"
   ]
  },
  {
   "cell_type": "code",
   "execution_count": 50,
   "metadata": {},
   "outputs": [
    {
     "data": {
      "text/plain": [
       "73"
      ]
     },
     "execution_count": 50,
     "metadata": {},
     "output_type": "execute_result"
    }
   ],
   "source": [
    "gc.collect()"
   ]
  },
  {
   "cell_type": "code",
   "execution_count": 51,
   "metadata": {},
   "outputs": [
    {
     "name": "stderr",
     "output_type": "stream",
     "text": [
      "/home/feiz/miniconda3/envs/analysis_py3/lib/python3.6/site-packages/lightgbm/basic.py:681: UserWarning: categorical_feature in param dict is overrided.\n",
      "  warnings.warn('categorical_feature in param dict is overrided.')\n"
     ]
    },
    {
     "name": "stdout",
     "output_type": "stream",
     "text": [
      "Training until validation scores don't improve for 50 rounds.\n",
      "[10]\ttrain's auc: 0.953137\tvalid's auc: 0.951466\n",
      "[20]\ttrain's auc: 0.962016\tvalid's auc: 0.96046\n",
      "[30]\ttrain's auc: 0.966424\tvalid's auc: 0.96571\n",
      "[40]\ttrain's auc: 0.968205\tvalid's auc: 0.967545\n",
      "[50]\ttrain's auc: 0.968647\tvalid's auc: 0.968115\n",
      "[60]\ttrain's auc: 0.969192\tvalid's auc: 0.968619\n",
      "[70]\ttrain's auc: 0.969609\tvalid's auc: 0.969014\n",
      "[80]\ttrain's auc: 0.969945\tvalid's auc: 0.969388\n",
      "[90]\ttrain's auc: 0.969983\tvalid's auc: 0.969424\n",
      "[100]\ttrain's auc: 0.9701\tvalid's auc: 0.969575\n",
      "[110]\ttrain's auc: 0.970134\tvalid's auc: 0.969632\n",
      "[120]\ttrain's auc: 0.970424\tvalid's auc: 0.969792\n",
      "[130]\ttrain's auc: 0.970783\tvalid's auc: 0.970137\n",
      "[140]\ttrain's auc: 0.971096\tvalid's auc: 0.970258\n",
      "[150]\ttrain's auc: 0.971266\tvalid's auc: 0.970378\n",
      "[160]\ttrain's auc: 0.971271\tvalid's auc: 0.970375\n",
      "[170]\ttrain's auc: 0.971696\tvalid's auc: 0.97071\n",
      "[180]\ttrain's auc: 0.972166\tvalid's auc: 0.971071\n",
      "[190]\ttrain's auc: 0.972904\tvalid's auc: 0.97166\n",
      "[200]\ttrain's auc: 0.973208\tvalid's auc: 0.971781\n",
      "[210]\ttrain's auc: 0.973346\tvalid's auc: 0.971907\n",
      "[220]\ttrain's auc: 0.973798\tvalid's auc: 0.972033\n",
      "[230]\ttrain's auc: 0.973943\tvalid's auc: 0.972086\n",
      "[240]\ttrain's auc: 0.97455\tvalid's auc: 0.972414\n",
      "[250]\ttrain's auc: 0.974841\tvalid's auc: 0.972404\n",
      "[260]\ttrain's auc: 0.975347\tvalid's auc: 0.972585\n",
      "[270]\ttrain's auc: 0.975809\tvalid's auc: 0.972866\n",
      "[280]\ttrain's auc: 0.976022\tvalid's auc: 0.97296\n",
      "[290]\ttrain's auc: 0.976387\tvalid's auc: 0.973126\n",
      "[300]\ttrain's auc: 0.976439\tvalid's auc: 0.973142\n",
      "[310]\ttrain's auc: 0.976405\tvalid's auc: 0.973042\n",
      "[320]\ttrain's auc: 0.976676\tvalid's auc: 0.973136\n",
      "[330]\ttrain's auc: 0.976877\tvalid's auc: 0.97319\n",
      "[340]\ttrain's auc: 0.976887\tvalid's auc: 0.973182\n",
      "[350]\ttrain's auc: 0.977111\tvalid's auc: 0.97333\n",
      "[360]\ttrain's auc: 0.977339\tvalid's auc: 0.973443\n",
      "[370]\ttrain's auc: 0.977556\tvalid's auc: 0.973548\n",
      "[380]\ttrain's auc: 0.977695\tvalid's auc: 0.973431\n",
      "[390]\ttrain's auc: 0.977923\tvalid's auc: 0.973404\n",
      "[400]\ttrain's auc: 0.978338\tvalid's auc: 0.973529\n",
      "[410]\ttrain's auc: 0.978584\tvalid's auc: 0.973593\n",
      "[420]\ttrain's auc: 0.978747\tvalid's auc: 0.973754\n",
      "[430]\ttrain's auc: 0.978982\tvalid's auc: 0.973793\n",
      "[440]\ttrain's auc: 0.979093\tvalid's auc: 0.973778\n",
      "[450]\ttrain's auc: 0.979317\tvalid's auc: 0.973717\n",
      "[460]\ttrain's auc: 0.979427\tvalid's auc: 0.97375\n",
      "[470]\ttrain's auc: 0.979525\tvalid's auc: 0.973737\n",
      "[480]\ttrain's auc: 0.979618\tvalid's auc: 0.973688\n",
      "Early stopping, best iteration is:\n",
      "[430]\ttrain's auc: 0.978982\tvalid's auc: 0.973793\n",
      "CPU times: user 9h 50min 30s, sys: 1h 14min 9s, total: 11h 4min 40s\n",
      "Wall time: 1h 41min 53s\n"
     ]
    }
   ],
   "source": [
    "%%time\n",
    "evals_results = {}\n",
    "lgb_model = lgb.train(\n",
    "    params, \n",
    "    dtrain, \n",
    "    valid_sets= [dtrain, dvalid], \n",
    "    valid_names=['train', 'valid'], \n",
    "    evals_result=evals_results, \n",
    "    num_boost_round=1000,\n",
    "    early_stopping_rounds=50,\n",
    "    verbose_eval=10, \n",
    "    feval=None,\n",
    "    categorical_feature=categorical\n",
    ")"
   ]
  },
  {
   "cell_type": "code",
   "execution_count": 52,
   "metadata": {},
   "outputs": [
    {
     "data": {
      "text/plain": [
       "<matplotlib.axes._subplots.AxesSubplot at 0x7f003c91cc88>"
      ]
     },
     "execution_count": 52,
     "metadata": {},
     "output_type": "execute_result"
    },
    {
     "data": {
      "image/png": "[encoded data removed]",
      "text/plain": [
       "<matplotlib.figure.Figure at 0x7f003c94ebe0>"
      ]
     },
     "metadata": {},
     "output_type": "display_data"
    }
   ],
   "source": [
    "f, ax = plt.subplots(figsize=[7,15])\n",
    "lgb.plot_importance(lgb_model, ax=ax, max_num_features=len(predictors))"
   ]
  },
  {
   "cell_type": "code",
   "execution_count": 57,
   "metadata": {},
   "outputs": [
    {
     "data": {
      "text/plain": [
       "<matplotlib.axes._subplots.AxesSubplot at 0x7f5d6ef15dd8>"
      ]
     },
     "execution_count": 57,
     "metadata": {},
     "output_type": "execute_result"
    },
    {
     "data": {
      "image/png": "[encoded data removed]",
      "text/plain": [
       "<Figure size 504x1080 with 1 Axes>"
      ]
     },
     "metadata": {},
     "output_type": "display_data"
    }
   ],
   "source": [
    "f, ax = plt.subplots(figsize=[7,15])\n",
    "lgb.plot_importance(lgb_model, ax=ax, max_num_features=len(predictors))"
   ]
  },
  {
   "cell_type": "code",
   "execution_count": 65,
   "metadata": {
    "collapsed": true
   },
   "outputs": [],
   "source": [
    "import pickle"
   ]
  },
  {
   "cell_type": "code",
   "execution_count": 66,
   "metadata": {
    "collapsed": true
   },
   "outputs": [],
   "source": [
    "with open('../results/{}.pickle'.format(to_get), 'wb') as f:\n",
    "    pickle.dump(lgb_model, f)"
   ]
  },
  {
   "cell_type": "markdown",
   "metadata": {
    "collapsed": true
   },
   "source": [
    "## Create submission"
   ]
  },
  {
   "cell_type": "code",
   "execution_count": 67,
   "metadata": {
    "collapsed": true
   },
   "outputs": [],
   "source": [
    "test = pd.read_hdf(hdf_path, key='test')"
   ]
  },
  {
   "cell_type": "code",
   "execution_count": 68,
   "metadata": {},
   "outputs": [
    {
     "data": {
      "text/html": [
       "<div>\n",
       "<style>\n",
       "    .dataframe thead tr:only-child th {\n",
       "        text-align: right;\n",
       "    }\n",
       "\n",
       "    .dataframe thead th {\n",
       "        text-align: left;\n",
       "    }\n",
       "\n",
       "    .dataframe tbody tr th {\n",
       "        vertical-align: top;\n",
       "    }\n",
       "</style>\n",
       "<table border=\"1\" class=\"dataframe\">\n",
       "  <thead>\n",
       "    <tr style=\"text-align: right;\">\n",
       "      <th></th>\n",
       "      <th>click_id</th>\n",
       "      <th>ip</th>\n",
       "      <th>app</th>\n",
       "      <th>device</th>\n",
       "      <th>os</th>\n",
       "      <th>channel</th>\n",
       "      <th>click_time</th>\n",
       "    </tr>\n",
       "  </thead>\n",
       "  <tbody>\n",
       "    <tr>\n",
       "      <th>0</th>\n",
       "      <td>0</td>\n",
       "      <td>5744</td>\n",
       "      <td>9</td>\n",
       "      <td>1</td>\n",
       "      <td>3</td>\n",
       "      <td>107</td>\n",
       "      <td>2017-11-10 04:00:00</td>\n",
       "    </tr>\n",
       "    <tr>\n",
       "      <th>1</th>\n",
       "      <td>1</td>\n",
       "      <td>119901</td>\n",
       "      <td>9</td>\n",
       "      <td>1</td>\n",
       "      <td>3</td>\n",
       "      <td>466</td>\n",
       "      <td>2017-11-10 04:00:00</td>\n",
       "    </tr>\n",
       "    <tr>\n",
       "      <th>2</th>\n",
       "      <td>2</td>\n",
       "      <td>72287</td>\n",
       "      <td>21</td>\n",
       "      <td>1</td>\n",
       "      <td>19</td>\n",
       "      <td>128</td>\n",
       "      <td>2017-11-10 04:00:00</td>\n",
       "    </tr>\n",
       "    <tr>\n",
       "      <th>3</th>\n",
       "      <td>3</td>\n",
       "      <td>78477</td>\n",
       "      <td>15</td>\n",
       "      <td>1</td>\n",
       "      <td>13</td>\n",
       "      <td>111</td>\n",
       "      <td>2017-11-10 04:00:00</td>\n",
       "    </tr>\n",
       "    <tr>\n",
       "      <th>4</th>\n",
       "      <td>4</td>\n",
       "      <td>123080</td>\n",
       "      <td>12</td>\n",
       "      <td>1</td>\n",
       "      <td>13</td>\n",
       "      <td>328</td>\n",
       "      <td>2017-11-10 04:00:00</td>\n",
       "    </tr>\n",
       "  </tbody>\n",
       "</table>\n",
       "</div>"
      ],
      "text/plain": [
       "   click_id      ip  app  device  os  channel          click_time\n",
       "0         0    5744    9       1   3      107 2017-11-10 04:00:00\n",
       "1         1  119901    9       1   3      466 2017-11-10 04:00:00\n",
       "2         2   72287   21       1  19      128 2017-11-10 04:00:00\n",
       "3         3   78477   15       1  13      111 2017-11-10 04:00:00\n",
       "4         4  123080   12       1  13      328 2017-11-10 04:00:00"
      ]
     },
     "execution_count": 68,
     "metadata": {},
     "output_type": "execute_result"
    }
   ],
   "source": [
    "test.head()"
   ]
  },
  {
   "cell_type": "code",
   "execution_count": 69,
   "metadata": {
    "collapsed": true
   },
   "outputs": [],
   "source": [
    "test_all_comb_feats =[(test, comb_feat) for comb_feat in all_comb_feats]"
   ]
  },
  {
   "cell_type": "code",
   "execution_count": 70,
   "metadata": {
    "collapsed": true
   },
   "outputs": [],
   "source": [
    "test_all_comb_feats = [comb for comb in test_all_comb_feats if 'ip' in comb[1]]"
   ]
  },
  {
   "cell_type": "code",
   "execution_count": 71,
   "metadata": {},
   "outputs": [
    {
     "name": "stdout",
     "output_type": "stream",
     "text": [
      "Adding hour...\n",
      "Adding minute...\n",
      "Adding in_test_hh\n",
      "Adding day_section...\n",
      "Getting next click...\n",
      "2018-04-23 15:43:53.269033\n"
     ]
    },
    {
     "name": "stderr",
     "output_type": "stream",
     "text": [
      "\r",
      "  0%|          | 0/16 [00:00<?, ?it/s]"
     ]
    },
    {
     "name": "stdout",
     "output_type": "stream",
     "text": [
      "Concat...\n"
     ]
    },
    {
     "name": "stderr",
     "output_type": "stream",
     "text": [
      "100%|██████████| 16/16 [00:26<00:00,  1.87s/it]\n"
     ]
    }
   ],
   "source": [
    "test = process(test, test_all_comb_feats, to_get)"
   ]
  },
  {
   "cell_type": "code",
   "execution_count": 72,
   "metadata": {},
   "outputs": [
    {
     "data": {
      "text/html": [
       "<div>\n",
       "<style>\n",
       "    .dataframe thead tr:only-child th {\n",
       "        text-align: right;\n",
       "    }\n",
       "\n",
       "    .dataframe thead th {\n",
       "        text-align: left;\n",
       "    }\n",
       "\n",
       "    .dataframe tbody tr th {\n",
       "        vertical-align: top;\n",
       "    }\n",
       "</style>\n",
       "<table border=\"1\" class=\"dataframe\">\n",
       "  <thead>\n",
       "    <tr style=\"text-align: right;\">\n",
       "      <th></th>\n",
       "      <th>click_id</th>\n",
       "      <th>ip</th>\n",
       "      <th>app</th>\n",
       "      <th>device</th>\n",
       "      <th>os</th>\n",
       "      <th>channel</th>\n",
       "      <th>click_time</th>\n",
       "      <th>hour</th>\n",
       "      <th>minute</th>\n",
       "      <th>in_test_hh</th>\n",
       "      <th>...</th>\n",
       "      <th>nextclick_ip_app_device_os</th>\n",
       "      <th>nextnextclick_ip_app_device_os</th>\n",
       "      <th>nextclick_ip_app_device_channel</th>\n",
       "      <th>nextnextclick_ip_app_device_channel</th>\n",
       "      <th>nextclick_ip_app_os_channel</th>\n",
       "      <th>nextnextclick_ip_app_os_channel</th>\n",
       "      <th>nextclick_ip_device_os_channel</th>\n",
       "      <th>nextnextclick_ip_device_os_channel</th>\n",
       "      <th>nextclick_ip_app_device_os_channel</th>\n",
       "      <th>nextnextclick_ip_app_device_os_channel</th>\n",
       "    </tr>\n",
       "  </thead>\n",
       "  <tbody>\n",
       "    <tr>\n",
       "      <th>0</th>\n",
       "      <td>0</td>\n",
       "      <td>5744</td>\n",
       "      <td>9</td>\n",
       "      <td>1</td>\n",
       "      <td>3</td>\n",
       "      <td>107</td>\n",
       "      <td>2017-11-10 04:00:00</td>\n",
       "      <td>4</td>\n",
       "      <td>240</td>\n",
       "      <td>1</td>\n",
       "      <td>...</td>\n",
       "      <td>-1</td>\n",
       "      <td>-1</td>\n",
       "      <td>1434</td>\n",
       "      <td>4560</td>\n",
       "      <td>-1</td>\n",
       "      <td>-1</td>\n",
       "      <td>-1</td>\n",
       "      <td>-1</td>\n",
       "      <td>-1</td>\n",
       "      <td>-1</td>\n",
       "    </tr>\n",
       "    <tr>\n",
       "      <th>1</th>\n",
       "      <td>1</td>\n",
       "      <td>119901</td>\n",
       "      <td>9</td>\n",
       "      <td>1</td>\n",
       "      <td>3</td>\n",
       "      <td>466</td>\n",
       "      <td>2017-11-10 04:00:00</td>\n",
       "      <td>4</td>\n",
       "      <td>240</td>\n",
       "      <td>1</td>\n",
       "      <td>...</td>\n",
       "      <td>399</td>\n",
       "      <td>750</td>\n",
       "      <td>359</td>\n",
       "      <td>580</td>\n",
       "      <td>18377</td>\n",
       "      <td>-1</td>\n",
       "      <td>18377</td>\n",
       "      <td>-1</td>\n",
       "      <td>18377</td>\n",
       "      <td>-1</td>\n",
       "    </tr>\n",
       "    <tr>\n",
       "      <th>2</th>\n",
       "      <td>2</td>\n",
       "      <td>72287</td>\n",
       "      <td>21</td>\n",
       "      <td>1</td>\n",
       "      <td>19</td>\n",
       "      <td>128</td>\n",
       "      <td>2017-11-10 04:00:00</td>\n",
       "      <td>4</td>\n",
       "      <td>240</td>\n",
       "      <td>1</td>\n",
       "      <td>...</td>\n",
       "      <td>88</td>\n",
       "      <td>215</td>\n",
       "      <td>88</td>\n",
       "      <td>215</td>\n",
       "      <td>88</td>\n",
       "      <td>215</td>\n",
       "      <td>88</td>\n",
       "      <td>215</td>\n",
       "      <td>88</td>\n",
       "      <td>215</td>\n",
       "    </tr>\n",
       "    <tr>\n",
       "      <th>3</th>\n",
       "      <td>3</td>\n",
       "      <td>78477</td>\n",
       "      <td>15</td>\n",
       "      <td>1</td>\n",
       "      <td>13</td>\n",
       "      <td>111</td>\n",
       "      <td>2017-11-10 04:00:00</td>\n",
       "      <td>4</td>\n",
       "      <td>240</td>\n",
       "      <td>1</td>\n",
       "      <td>...</td>\n",
       "      <td>425</td>\n",
       "      <td>488</td>\n",
       "      <td>3181</td>\n",
       "      <td>-1</td>\n",
       "      <td>3181</td>\n",
       "      <td>-1</td>\n",
       "      <td>3181</td>\n",
       "      <td>-1</td>\n",
       "      <td>3181</td>\n",
       "      <td>-1</td>\n",
       "    </tr>\n",
       "    <tr>\n",
       "      <th>4</th>\n",
       "      <td>4</td>\n",
       "      <td>123080</td>\n",
       "      <td>12</td>\n",
       "      <td>1</td>\n",
       "      <td>13</td>\n",
       "      <td>328</td>\n",
       "      <td>2017-11-10 04:00:00</td>\n",
       "      <td>4</td>\n",
       "      <td>240</td>\n",
       "      <td>1</td>\n",
       "      <td>...</td>\n",
       "      <td>1208</td>\n",
       "      <td>2750</td>\n",
       "      <td>1208</td>\n",
       "      <td>-1</td>\n",
       "      <td>1208</td>\n",
       "      <td>-1</td>\n",
       "      <td>1208</td>\n",
       "      <td>-1</td>\n",
       "      <td>1208</td>\n",
       "      <td>-1</td>\n",
       "    </tr>\n",
       "  </tbody>\n",
       "</table>\n",
       "<p>5 rows × 44 columns</p>\n",
       "</div>"
      ],
      "text/plain": [
       "   click_id      ip  app  device  os  channel          click_time  hour  \\\n",
       "0         0    5744    9       1   3      107 2017-11-10 04:00:00     4   \n",
       "1         1  119901    9       1   3      466 2017-11-10 04:00:00     4   \n",
       "2         2   72287   21       1  19      128 2017-11-10 04:00:00     4   \n",
       "3         3   78477   15       1  13      111 2017-11-10 04:00:00     4   \n",
       "4         4  123080   12       1  13      328 2017-11-10 04:00:00     4   \n",
       "\n",
       "   minute  in_test_hh                   ...                    \\\n",
       "0     240           1                   ...                     \n",
       "1     240           1                   ...                     \n",
       "2     240           1                   ...                     \n",
       "3     240           1                   ...                     \n",
       "4     240           1                   ...                     \n",
       "\n",
       "   nextclick_ip_app_device_os  nextnextclick_ip_app_device_os  \\\n",
       "0                          -1                              -1   \n",
       "1                         399                             750   \n",
       "2                          88                             215   \n",
       "3                         425                             488   \n",
       "4                        1208                            2750   \n",
       "\n",
       "   nextclick_ip_app_device_channel  nextnextclick_ip_app_device_channel  \\\n",
       "0                             1434                                 4560   \n",
       "1                              359                                  580   \n",
       "2                               88                                  215   \n",
       "3                             3181                                   -1   \n",
       "4                             1208                                   -1   \n",
       "\n",
       "   nextclick_ip_app_os_channel  nextnextclick_ip_app_os_channel  \\\n",
       "0                           -1                               -1   \n",
       "1                        18377                               -1   \n",
       "2                           88                              215   \n",
       "3                         3181                               -1   \n",
       "4                         1208                               -1   \n",
       "\n",
       "   nextclick_ip_device_os_channel  nextnextclick_ip_device_os_channel  \\\n",
       "0                              -1                                  -1   \n",
       "1                           18377                                  -1   \n",
       "2                              88                                 215   \n",
       "3                            3181                                  -1   \n",
       "4                            1208                                  -1   \n",
       "\n",
       "   nextclick_ip_app_device_os_channel  nextnextclick_ip_app_device_os_channel  \n",
       "0                                  -1                                      -1  \n",
       "1                               18377                                      -1  \n",
       "2                                  88                                     215  \n",
       "3                                3181                                      -1  \n",
       "4                                1208                                      -1  \n",
       "\n",
       "[5 rows x 44 columns]"
      ]
     },
     "execution_count": 72,
     "metadata": {},
     "output_type": "execute_result"
    }
   ],
   "source": [
    "test.head()"
   ]
  },
  {
   "cell_type": "code",
   "execution_count": 54,
   "metadata": {},
   "outputs": [
    {
     "data": {
      "text/plain": [
       "224"
      ]
     },
     "execution_count": 54,
     "metadata": {},
     "output_type": "execute_result"
    }
   ],
   "source": [
    "train = pd.read_hdf(res_hdf_path, key='complete_features')\n",
    "train_len = train.click_id.isnull().sum()\n",
    "test_df = train.iloc[train_len:].copy()\n",
    "del train\n",
    "gc.collect()"
   ]
  },
  {
   "cell_type": "code",
   "execution_count": 61,
   "metadata": {
    "collapsed": true
   },
   "outputs": [],
   "source": [
    "pred = lgb_model.predict(test_df.loc[:, predictors], num_iteration=lgb_model.best_iteration)"
   ]
  },
  {
   "cell_type": "code",
   "execution_count": 62,
   "metadata": {
    "collapsed": true
   },
   "outputs": [],
   "source": [
    "test_df.loc[:, 'is_attributed'] = pred"
   ]
  },
  {
   "cell_type": "code",
   "execution_count": 63,
   "metadata": {
    "collapsed": true
   },
   "outputs": [],
   "source": [
    "test_df.loc[:, 'click_id'] = test_df.click_id.astype('int')"
   ]
  },
  {
   "cell_type": "code",
   "execution_count": 64,
   "metadata": {
    "collapsed": true
   },
   "outputs": [],
   "source": [
    "test_df.loc[:, ['click_id', 'is_attributed']].to_csv('../results/final4.csv', index=False, float_format='%.9f')"
   ]
  },
  {
   "cell_type": "code",
   "execution_count": 61,
   "metadata": {},
   "outputs": [
    {
     "data": {
      "text/html": [
       "<div>\n",
       "<style>\n",
       "    .dataframe thead tr:only-child th {\n",
       "        text-align: right;\n",
       "    }\n",
       "\n",
       "    .dataframe thead th {\n",
       "        text-align: left;\n",
       "    }\n",
       "\n",
       "    .dataframe tbody tr th {\n",
       "        vertical-align: top;\n",
       "    }\n",
       "</style>\n",
       "<table border=\"1\" class=\"dataframe\">\n",
       "  <thead>\n",
       "    <tr style=\"text-align: right;\">\n",
       "      <th></th>\n",
       "      <th>click_id</th>\n",
       "      <th>is_attributed</th>\n",
       "    </tr>\n",
       "  </thead>\n",
       "  <tbody>\n",
       "    <tr>\n",
       "      <th>0</th>\n",
       "      <td>0</td>\n",
       "      <td>0.175618</td>\n",
       "    </tr>\n",
       "    <tr>\n",
       "      <th>1</th>\n",
       "      <td>1</td>\n",
       "      <td>0.079657</td>\n",
       "    </tr>\n",
       "    <tr>\n",
       "      <th>2</th>\n",
       "      <td>2</td>\n",
       "      <td>0.011602</td>\n",
       "    </tr>\n",
       "    <tr>\n",
       "      <th>3</th>\n",
       "      <td>3</td>\n",
       "      <td>0.038028</td>\n",
       "    </tr>\n",
       "    <tr>\n",
       "      <th>4</th>\n",
       "      <td>4</td>\n",
       "      <td>0.021625</td>\n",
       "    </tr>\n",
       "  </tbody>\n",
       "</table>\n",
       "</div>"
      ],
      "text/plain": [
       "   click_id  is_attributed\n",
       "0         0       0.175618\n",
       "1         1       0.079657\n",
       "2         2       0.011602\n",
       "3         3       0.038028\n",
       "4         4       0.021625"
      ]
     },
     "execution_count": 61,
     "metadata": {},
     "output_type": "execute_result"
    }
   ],
   "source": [
    "test_df.loc[:, ['click_id', 'is_attributed']].head()"
   ]
  },
  {
   "cell_type": "markdown",
   "metadata": {},
   "source": [
    "# Gaussian Process\n",
    "## Training"
   ]
  },
  {
   "cell_type": "code",
   "execution_count": 15,
   "metadata": {},
   "outputs": [
    {
     "data": {
      "text/plain": [
       "0"
      ]
     },
     "execution_count": 15,
     "metadata": {},
     "output_type": "execute_result"
    }
   ],
   "source": [
    "gc.collect()"
   ]
  },
  {
   "cell_type": "code",
   "execution_count": 16,
   "metadata": {
    "collapsed": true
   },
   "outputs": [],
   "source": [
    "gpc = GaussianProcessClassifier(n_restarts_optimizer=0, random_state=2, n_jobs=-1, copy_X_train=False)"
   ]
  },
  {
   "cell_type": "code",
   "execution_count": 20,
   "metadata": {
    "collapsed": true
   },
   "outputs": [],
   "source": [
    "columns = ['nextclick_ip_app_device_os']"
   ]
  },
  {
   "cell_type": "code",
   "execution_count": 21,
   "metadata": {},
   "outputs": [
    {
     "data": {
      "text/plain": [
       "1"
      ]
     },
     "execution_count": 21,
     "metadata": {},
     "output_type": "execute_result"
    }
   ],
   "source": [
    "len(columns)"
   ]
  },
  {
   "cell_type": "code",
   "execution_count": 22,
   "metadata": {},
   "outputs": [
    {
     "ename": "MemoryError",
     "evalue": "",
     "output_type": "error",
     "traceback": [
      "\u001b[0;31m---------------------------------------------------------------------------\u001b[0m",
      "\u001b[0;31mMemoryError\u001b[0m                               Traceback (most recent call last)",
      "\u001b[0;32m<ipython-input-22-9ccc315b9293>\u001b[0m in \u001b[0;36m<module>\u001b[0;34m()\u001b[0m\n\u001b[0;32m----> 1\u001b[0;31m \u001b[0mgpc_model\u001b[0m \u001b[0;34m=\u001b[0m \u001b[0mgpc\u001b[0m\u001b[0;34m.\u001b[0m\u001b[0mfit\u001b[0m\u001b[0;34m(\u001b[0m\u001b[0mtrain_df\u001b[0m\u001b[0;34m.\u001b[0m\u001b[0mloc\u001b[0m\u001b[0;34m[\u001b[0m\u001b[0;34m:\u001b[0m\u001b[0;34m,\u001b[0m \u001b[0mcolumns\u001b[0m\u001b[0;34m]\u001b[0m\u001b[0;34m,\u001b[0m \u001b[0mtrain_df\u001b[0m\u001b[0;34m.\u001b[0m\u001b[0mis_attributed\u001b[0m\u001b[0;34m.\u001b[0m\u001b[0mastype\u001b[0m\u001b[0;34m(\u001b[0m\u001b[0;34m'int'\u001b[0m\u001b[0;34m)\u001b[0m\u001b[0;34m)\u001b[0m\u001b[0;34m\u001b[0m\u001b[0m\n\u001b[0m",
      "\u001b[0;32m~/miniconda3/envs/kaggle_ml/lib/python3.6/site-packages/sklearn/gaussian_process/gpc.py\u001b[0m in \u001b[0;36mfit\u001b[0;34m(self, X, y)\u001b[0m\n\u001b[1;32m    611\u001b[0m                                  % self.multi_class)\n\u001b[1;32m    612\u001b[0m \u001b[0;34m\u001b[0m\u001b[0m\n\u001b[0;32m--> 613\u001b[0;31m         \u001b[0mself\u001b[0m\u001b[0;34m.\u001b[0m\u001b[0mbase_estimator_\u001b[0m\u001b[0;34m.\u001b[0m\u001b[0mfit\u001b[0m\u001b[0;34m(\u001b[0m\u001b[0mX\u001b[0m\u001b[0;34m,\u001b[0m \u001b[0my\u001b[0m\u001b[0;34m)\u001b[0m\u001b[0;34m\u001b[0m\u001b[0m\n\u001b[0m\u001b[1;32m    614\u001b[0m \u001b[0;34m\u001b[0m\u001b[0m\n\u001b[1;32m    615\u001b[0m         \u001b[0;32mif\u001b[0m \u001b[0mself\u001b[0m\u001b[0;34m.\u001b[0m\u001b[0mn_classes_\u001b[0m \u001b[0;34m>\u001b[0m \u001b[0;36m2\u001b[0m\u001b[0;34m:\u001b[0m\u001b[0;34m\u001b[0m\u001b[0m\n",
      "\u001b[0;32m~/miniconda3/envs/kaggle_ml/lib/python3.6/site-packages/sklearn/gaussian_process/gpc.py\u001b[0m in \u001b[0;36mfit\u001b[0;34m(self, X, y)\u001b[0m\n\u001b[1;32m    230\u001b[0m         \u001b[0;32melse\u001b[0m\u001b[0;34m:\u001b[0m\u001b[0;34m\u001b[0m\u001b[0m\n\u001b[1;32m    231\u001b[0m             \u001b[0mself\u001b[0m\u001b[0;34m.\u001b[0m\u001b[0mlog_marginal_likelihood_value_\u001b[0m \u001b[0;34m=\u001b[0m\u001b[0;31m \u001b[0m\u001b[0;31m\\\u001b[0m\u001b[0;34m\u001b[0m\u001b[0m\n\u001b[0;32m--> 232\u001b[0;31m                 \u001b[0mself\u001b[0m\u001b[0;34m.\u001b[0m\u001b[0mlog_marginal_likelihood\u001b[0m\u001b[0;34m(\u001b[0m\u001b[0mself\u001b[0m\u001b[0;34m.\u001b[0m\u001b[0mkernel_\u001b[0m\u001b[0;34m.\u001b[0m\u001b[0mtheta\u001b[0m\u001b[0;34m)\u001b[0m\u001b[0;34m\u001b[0m\u001b[0m\n\u001b[0m\u001b[1;32m    233\u001b[0m \u001b[0;34m\u001b[0m\u001b[0m\n\u001b[1;32m    234\u001b[0m         \u001b[0;31m# Precompute quantities required for predictions which are independent\u001b[0m\u001b[0;34m\u001b[0m\u001b[0;34m\u001b[0m\u001b[0m\n",
      "\u001b[0;32m~/miniconda3/envs/kaggle_ml/lib/python3.6/site-packages/sklearn/gaussian_process/gpc.py\u001b[0m in \u001b[0;36mlog_marginal_likelihood\u001b[0;34m(self, theta, eval_gradient)\u001b[0m\n\u001b[1;32m    338\u001b[0m             \u001b[0mK\u001b[0m\u001b[0;34m,\u001b[0m \u001b[0mK_gradient\u001b[0m \u001b[0;34m=\u001b[0m \u001b[0mkernel\u001b[0m\u001b[0;34m(\u001b[0m\u001b[0mself\u001b[0m\u001b[0;34m.\u001b[0m\u001b[0mX_train_\u001b[0m\u001b[0;34m,\u001b[0m \u001b[0meval_gradient\u001b[0m\u001b[0;34m=\u001b[0m\u001b[0;32mTrue\u001b[0m\u001b[0;34m)\u001b[0m\u001b[0;34m\u001b[0m\u001b[0m\n\u001b[1;32m    339\u001b[0m         \u001b[0;32melse\u001b[0m\u001b[0;34m:\u001b[0m\u001b[0;34m\u001b[0m\u001b[0m\n\u001b[0;32m--> 340\u001b[0;31m             \u001b[0mK\u001b[0m \u001b[0;34m=\u001b[0m \u001b[0mkernel\u001b[0m\u001b[0;34m(\u001b[0m\u001b[0mself\u001b[0m\u001b[0;34m.\u001b[0m\u001b[0mX_train_\u001b[0m\u001b[0;34m)\u001b[0m\u001b[0;34m\u001b[0m\u001b[0m\n\u001b[0m\u001b[1;32m    341\u001b[0m \u001b[0;34m\u001b[0m\u001b[0m\n\u001b[1;32m    342\u001b[0m         \u001b[0;31m# Compute log-marginal-likelihood Z and also store some temporaries\u001b[0m\u001b[0;34m\u001b[0m\u001b[0;34m\u001b[0m\u001b[0m\n",
      "\u001b[0;32m~/miniconda3/envs/kaggle_ml/lib/python3.6/site-packages/sklearn/gaussian_process/kernels.py\u001b[0m in \u001b[0;36m__call__\u001b[0;34m(self, X, Y, eval_gradient)\u001b[0m\n\u001b[1;32m    756\u001b[0m                                        K2_gradient * K1[:, :, np.newaxis]))\n\u001b[1;32m    757\u001b[0m         \u001b[0;32melse\u001b[0m\u001b[0;34m:\u001b[0m\u001b[0;34m\u001b[0m\u001b[0m\n\u001b[0;32m--> 758\u001b[0;31m             \u001b[0;32mreturn\u001b[0m \u001b[0mself\u001b[0m\u001b[0;34m.\u001b[0m\u001b[0mk1\u001b[0m\u001b[0;34m(\u001b[0m\u001b[0mX\u001b[0m\u001b[0;34m,\u001b[0m \u001b[0mY\u001b[0m\u001b[0;34m)\u001b[0m \u001b[0;34m*\u001b[0m \u001b[0mself\u001b[0m\u001b[0;34m.\u001b[0m\u001b[0mk2\u001b[0m\u001b[0;34m(\u001b[0m\u001b[0mX\u001b[0m\u001b[0;34m,\u001b[0m \u001b[0mY\u001b[0m\u001b[0;34m)\u001b[0m\u001b[0;34m\u001b[0m\u001b[0m\n\u001b[0m\u001b[1;32m    759\u001b[0m \u001b[0;34m\u001b[0m\u001b[0m\n\u001b[1;32m    760\u001b[0m     \u001b[0;32mdef\u001b[0m \u001b[0mdiag\u001b[0m\u001b[0;34m(\u001b[0m\u001b[0mself\u001b[0m\u001b[0;34m,\u001b[0m \u001b[0mX\u001b[0m\u001b[0;34m)\u001b[0m\u001b[0;34m:\u001b[0m\u001b[0;34m\u001b[0m\u001b[0m\n",
      "\u001b[0;32m~/miniconda3/envs/kaggle_ml/lib/python3.6/site-packages/sklearn/gaussian_process/kernels.py\u001b[0m in \u001b[0;36m__call__\u001b[0;34m(self, X, Y, eval_gradient)\u001b[0m\n\u001b[1;32m   1000\u001b[0m             \u001b[0;32mraise\u001b[0m \u001b[0mValueError\u001b[0m\u001b[0;34m(\u001b[0m\u001b[0;34m\"Gradient can only be evaluated when Y is None.\"\u001b[0m\u001b[0;34m)\u001b[0m\u001b[0;34m\u001b[0m\u001b[0m\n\u001b[1;32m   1001\u001b[0m \u001b[0;34m\u001b[0m\u001b[0m\n\u001b[0;32m-> 1002\u001b[0;31m         \u001b[0mK\u001b[0m \u001b[0;34m=\u001b[0m \u001b[0mself\u001b[0m\u001b[0;34m.\u001b[0m\u001b[0mconstant_value\u001b[0m \u001b[0;34m*\u001b[0m \u001b[0mnp\u001b[0m\u001b[0;34m.\u001b[0m\u001b[0mones\u001b[0m\u001b[0;34m(\u001b[0m\u001b[0;34m(\u001b[0m\u001b[0mX\u001b[0m\u001b[0;34m.\u001b[0m\u001b[0mshape\u001b[0m\u001b[0;34m[\u001b[0m\u001b[0;36m0\u001b[0m\u001b[0;34m]\u001b[0m\u001b[0;34m,\u001b[0m \u001b[0mY\u001b[0m\u001b[0;34m.\u001b[0m\u001b[0mshape\u001b[0m\u001b[0;34m[\u001b[0m\u001b[0;36m0\u001b[0m\u001b[0;34m]\u001b[0m\u001b[0;34m)\u001b[0m\u001b[0;34m)\u001b[0m\u001b[0;34m\u001b[0m\u001b[0m\n\u001b[0m\u001b[1;32m   1003\u001b[0m         \u001b[0;32mif\u001b[0m \u001b[0meval_gradient\u001b[0m\u001b[0;34m:\u001b[0m\u001b[0;34m\u001b[0m\u001b[0m\n\u001b[1;32m   1004\u001b[0m             \u001b[0;32mif\u001b[0m \u001b[0;32mnot\u001b[0m \u001b[0mself\u001b[0m\u001b[0;34m.\u001b[0m\u001b[0mhyperparameter_constant_value\u001b[0m\u001b[0;34m.\u001b[0m\u001b[0mfixed\u001b[0m\u001b[0;34m:\u001b[0m\u001b[0;34m\u001b[0m\u001b[0m\n",
      "\u001b[0;32m~/miniconda3/envs/kaggle_ml/lib/python3.6/site-packages/numpy/core/numeric.py\u001b[0m in \u001b[0;36mones\u001b[0;34m(shape, dtype, order)\u001b[0m\n\u001b[1;32m    186\u001b[0m \u001b[0;34m\u001b[0m\u001b[0m\n\u001b[1;32m    187\u001b[0m     \"\"\"\n\u001b[0;32m--> 188\u001b[0;31m     \u001b[0ma\u001b[0m \u001b[0;34m=\u001b[0m \u001b[0mempty\u001b[0m\u001b[0;34m(\u001b[0m\u001b[0mshape\u001b[0m\u001b[0;34m,\u001b[0m \u001b[0mdtype\u001b[0m\u001b[0;34m,\u001b[0m \u001b[0morder\u001b[0m\u001b[0;34m)\u001b[0m\u001b[0;34m\u001b[0m\u001b[0m\n\u001b[0m\u001b[1;32m    189\u001b[0m     \u001b[0mmultiarray\u001b[0m\u001b[0;34m.\u001b[0m\u001b[0mcopyto\u001b[0m\u001b[0;34m(\u001b[0m\u001b[0ma\u001b[0m\u001b[0;34m,\u001b[0m \u001b[0;36m1\u001b[0m\u001b[0;34m,\u001b[0m \u001b[0mcasting\u001b[0m\u001b[0;34m=\u001b[0m\u001b[0;34m'unsafe'\u001b[0m\u001b[0;34m)\u001b[0m\u001b[0;34m\u001b[0m\u001b[0m\n\u001b[1;32m    190\u001b[0m     \u001b[0;32mreturn\u001b[0m \u001b[0ma\u001b[0m\u001b[0;34m\u001b[0m\u001b[0m\n",
      "\u001b[0;31mMemoryError\u001b[0m: "
     ]
    }
   ],
   "source": [
    "gpc_model = gpc.fit(train_df.loc[:, columns], train_df.is_attributed.astype('int'))"
   ]
  },
  {
   "cell_type": "code",
   "execution_count": null,
   "metadata": {
    "collapsed": true
   },
   "outputs": [],
   "source": []
  }
 ],
 "metadata": {
  "kernelspec": {
   "display_name": "Python 3",
   "language": "python",
   "name": "python3"
  },
  "language_info": {
   "codemirror_mode": {
    "name": "ipython",
    "version": 3
   },
   "file_extension": ".py",
   "mimetype": "text/x-python",
   "name": "python",
   "nbconvert_exporter": "python",
   "pygments_lexer": "ipython3",
   "version": "3.6.1"
  }
 },
 "nbformat": 4,
 "nbformat_minor": 2
}
