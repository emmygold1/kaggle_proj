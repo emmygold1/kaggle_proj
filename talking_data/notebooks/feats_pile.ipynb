{
 "cells": [
  {
   "cell_type": "code",
   "execution_count": 1,
   "metadata": {},
   "outputs": [],
   "source": [
    "%matplotlib inline\n",
    "import numpy as np\n",
    "import pandas as pd\n",
    "import gc\n",
    "import lightgbm as lgb\n",
    "from sklearn.metrics import precision_score, recall_score, roc_auc_score\n",
    "import matplotlib.pyplot as plt\n",
    "from itertools import combinations\n",
    "from sklearn.model_selection import train_test_split\n",
    "import pickle\n",
    "from multiprocessing import Pool\n",
    "from tqdm import tqdm"
   ]
  },
  {
   "cell_type": "markdown",
   "metadata": {},
   "source": [
    "# Prepare data\n",
    "\n",
    "* Attributed rate: how attribution is distributed in combinations\n",
    "* Click counts: how clicks are distributed in combinations\n",
    "* Rolling click counts: how clicks are distributed in combinations in sliding windows"
   ]
  },
  {
   "cell_type": "code",
   "execution_count": 2,
   "metadata": {},
   "outputs": [],
   "source": [
    "hdf_path = '../derived_data/source.hdf'"
   ]
  },
  {
   "cell_type": "code",
   "execution_count": 3,
   "metadata": {},
   "outputs": [],
   "source": [
    "res_hdf_path = '../derived_data/feats_pile.hdf'"
   ]
  },
  {
   "cell_type": "code",
   "execution_count": 4,
   "metadata": {},
   "outputs": [
    {
     "name": "stdout",
     "output_type": "stream",
     "text": [
      "CPU times: user 492 ms, sys: 8.2 s, total: 8.69 s\n",
      "Wall time: 38.9 s\n"
     ]
    }
   ],
   "source": [
    "%%time\n",
    "dat = pd.read_hdf(hdf_path, key='train')"
   ]
  },
  {
   "cell_type": "code",
   "execution_count": 5,
   "metadata": {},
   "outputs": [
    {
     "data": {
      "text/html": [
       "<div>\n",
       "<style scoped>\n",
       "    .dataframe tbody tr th:only-of-type {\n",
       "        vertical-align: middle;\n",
       "    }\n",
       "\n",
       "    .dataframe tbody tr th {\n",
       "        vertical-align: top;\n",
       "    }\n",
       "\n",
       "    .dataframe thead th {\n",
       "        text-align: right;\n",
       "    }\n",
       "</style>\n",
       "<table border=\"1\" class=\"dataframe\">\n",
       "  <thead>\n",
       "    <tr style=\"text-align: right;\">\n",
       "      <th></th>\n",
       "      <th>ip</th>\n",
       "      <th>app</th>\n",
       "      <th>device</th>\n",
       "      <th>os</th>\n",
       "      <th>channel</th>\n",
       "      <th>click_time</th>\n",
       "      <th>is_attributed</th>\n",
       "    </tr>\n",
       "  </thead>\n",
       "  <tbody>\n",
       "    <tr>\n",
       "      <th>0</th>\n",
       "      <td>83230</td>\n",
       "      <td>3</td>\n",
       "      <td>1</td>\n",
       "      <td>13</td>\n",
       "      <td>379</td>\n",
       "      <td>2017-11-06 14:32:21</td>\n",
       "      <td>0</td>\n",
       "    </tr>\n",
       "    <tr>\n",
       "      <th>1</th>\n",
       "      <td>17357</td>\n",
       "      <td>3</td>\n",
       "      <td>1</td>\n",
       "      <td>19</td>\n",
       "      <td>379</td>\n",
       "      <td>2017-11-06 14:33:34</td>\n",
       "      <td>0</td>\n",
       "    </tr>\n",
       "    <tr>\n",
       "      <th>2</th>\n",
       "      <td>35810</td>\n",
       "      <td>3</td>\n",
       "      <td>1</td>\n",
       "      <td>13</td>\n",
       "      <td>379</td>\n",
       "      <td>2017-11-06 14:34:12</td>\n",
       "      <td>0</td>\n",
       "    </tr>\n",
       "    <tr>\n",
       "      <th>3</th>\n",
       "      <td>45745</td>\n",
       "      <td>14</td>\n",
       "      <td>1</td>\n",
       "      <td>13</td>\n",
       "      <td>478</td>\n",
       "      <td>2017-11-06 14:34:52</td>\n",
       "      <td>0</td>\n",
       "    </tr>\n",
       "    <tr>\n",
       "      <th>4</th>\n",
       "      <td>161007</td>\n",
       "      <td>3</td>\n",
       "      <td>1</td>\n",
       "      <td>13</td>\n",
       "      <td>379</td>\n",
       "      <td>2017-11-06 14:35:08</td>\n",
       "      <td>0</td>\n",
       "    </tr>\n",
       "  </tbody>\n",
       "</table>\n",
       "</div>"
      ],
      "text/plain": [
       "       ip  app  device  os  channel          click_time  is_attributed\n",
       "0   83230    3       1  13      379 2017-11-06 14:32:21              0\n",
       "1   17357    3       1  19      379 2017-11-06 14:33:34              0\n",
       "2   35810    3       1  13      379 2017-11-06 14:34:12              0\n",
       "3   45745   14       1  13      478 2017-11-06 14:34:52              0\n",
       "4  161007    3       1  13      379 2017-11-06 14:35:08              0"
      ]
     },
     "execution_count": 5,
     "metadata": {},
     "output_type": "execute_result"
    }
   ],
   "source": [
    "dat.head()"
   ]
  },
  {
   "cell_type": "code",
   "execution_count": 6,
   "metadata": {},
   "outputs": [],
   "source": [
    "train = dat.loc[(dat.click_time >= '2017-11-08 04:00:00') & (dat.click_time < '2017-11-08 15:00:00')].copy()"
   ]
  },
  {
   "cell_type": "code",
   "execution_count": 7,
   "metadata": {},
   "outputs": [],
   "source": [
    "valid = dat.loc[(dat.click_time >= '2017-11-09 04:00:00') & (dat.click_time < '2017-11-09 15:00:00')].copy()"
   ]
  },
  {
   "cell_type": "code",
   "execution_count": 8,
   "metadata": {},
   "outputs": [],
   "source": [
    "del dat"
   ]
  },
  {
   "cell_type": "code",
   "execution_count": 9,
   "metadata": {},
   "outputs": [
    {
     "data": {
      "text/plain": [
       "24"
      ]
     },
     "execution_count": 9,
     "metadata": {},
     "output_type": "execute_result"
    }
   ],
   "source": [
    "gc.collect()"
   ]
  },
  {
   "cell_type": "code",
   "execution_count": 10,
   "metadata": {},
   "outputs": [],
   "source": [
    "most_freq_hours_in_test_data = [4, 5, 9, 10, 13, 14]\n",
    "least_freq_hours_in_test_data = [6, 11, 15]"
   ]
  },
  {
   "cell_type": "code",
   "execution_count": 11,
   "metadata": {},
   "outputs": [],
   "source": [
    "feats2comb = ['ip', 'app', 'device', 'os', 'channel']"
   ]
  },
  {
   "cell_type": "code",
   "execution_count": 12,
   "metadata": {},
   "outputs": [],
   "source": [
    "def get_all_comb_feats(feats2comb, n=None):\n",
    "    if n is None:\n",
    "        n = len(feats2comb)\n",
    "    res = []\n",
    "    for i in range(n):\n",
    "        for comb_feats in combinations(feats2comb, i+1):\n",
    "            res.append(list(comb_feats))\n",
    "    return res"
   ]
  },
  {
   "cell_type": "code",
   "execution_count": 13,
   "metadata": {},
   "outputs": [],
   "source": [
    "uint8_max = np.iinfo(np.uint8).max\n",
    "uint16_max = np.iinfo(np.uint16).max\n",
    "uint32_max = np.iinfo(np.uint32).max\n",
    "def choose_int_type(n):\n",
    "    if n <= uint8_max:\n",
    "        return 'uint8'\n",
    "    elif n <= uint16_max:\n",
    "        return 'uint16'\n",
    "    elif n <= uint32_max:\n",
    "        return 'uint32'\n",
    "    else:\n",
    "        return 'uint64'"
   ]
  },
  {
   "cell_type": "code",
   "execution_count": 14,
   "metadata": {},
   "outputs": [],
   "source": [
    "def get_label_count(args):\n",
    "    gp = args[0].groupby(args[1], sort=False).size()\n",
    "    gp = gp.astype(choose_int_type(gp.max()))\n",
    "    gp = gp.to_frame().rename(columns={0: 'n_' + '_'.join(args[1]) + '_count'})\n",
    "    gc.collect()\n",
    "    return gp"
   ]
  },
  {
   "cell_type": "code",
   "execution_count": 15,
   "metadata": {},
   "outputs": [],
   "source": [
    "def rolling_count(df, time_win='30min'):\n",
    "    return df.groupby('click_time', sort=False).size().rolling(time_win).sum()"
   ]
  },
  {
   "cell_type": "code",
   "execution_count": 16,
   "metadata": {},
   "outputs": [],
   "source": [
    "def get_label_rolling_count(args):\n",
    "    gp = args[0].groupby(args[1], sort=False).apply(rolling_count, time_win='30min')\n",
    "    gp = gp.astype(choose_int_type(gp.max()))\n",
    "    gp = gp.to_frame().rename(columns={0: 'n_' + '_'.join(args[1]) + '_rolling_count'})\n",
    "    gc.collect()\n",
    "    return gp"
   ]
  },
  {
   "cell_type": "code",
   "execution_count": 17,
   "metadata": {},
   "outputs": [],
   "source": [
    "def get_labels(function, all_comb_feats):\n",
    "    print(pd.datetime.now())\n",
    "    aggs = []\n",
    "    with Pool(processes=4) as pool:\n",
    "        for dist in pool.imap_unordered(function, all_comb_feats):\n",
    "            aggs.append(dist.copy())\n",
    "            gc.collect()\n",
    "    return aggs"
   ]
  },
  {
   "cell_type": "code",
   "execution_count": 18,
   "metadata": {},
   "outputs": [],
   "source": [
    "def merge(df, dists):\n",
    "    for dist in tqdm(dists):\n",
    "        df = df.merge(dist, left_on=dist.index.names, right_index=True, how='left')\n",
    "    return df"
   ]
  },
  {
   "cell_type": "code",
   "execution_count": 19,
   "metadata": {},
   "outputs": [
    {
     "data": {
      "text/plain": [
       "0"
      ]
     },
     "execution_count": 19,
     "metadata": {},
     "output_type": "execute_result"
    }
   ],
   "source": [
    "gc.collect()"
   ]
  },
  {
   "cell_type": "code",
   "execution_count": 20,
   "metadata": {},
   "outputs": [],
   "source": [
    "all_comb_feats = get_all_comb_feats(feats2comb, 5)"
   ]
  },
  {
   "cell_type": "code",
   "execution_count": 21,
   "metadata": {},
   "outputs": [
    {
     "data": {
      "text/plain": [
       "31"
      ]
     },
     "execution_count": 21,
     "metadata": {},
     "output_type": "execute_result"
    }
   ],
   "source": [
    "len(all_comb_feats)"
   ]
  },
  {
   "cell_type": "code",
   "execution_count": 21,
   "metadata": {},
   "outputs": [],
   "source": [
    "train_all_comb_feats =[(train, ['day_section'] + comb_feat) for comb_feat in all_comb_feats]\n",
    "                  # [['hour'] + comb_feat for comb_feat in all_comb_feats] +\n",
    "                  # [['minute'] + comb_feat for comb_feat in all_comb_feats] +\n",
    "                  # [['day_section'] + comb_feat for comb_feat in all_comb_feats] +\n",
    "                  # [['in_test_hh', 'day_section'] + comb_feat for comb_feat in all_comb_feats])"
   ]
  },
  {
   "cell_type": "code",
   "execution_count": 22,
   "metadata": {},
   "outputs": [],
   "source": [
    "valid_all_comb_feats =[(valid, ['day_section'] + comb_feat) for comb_feat in all_comb_feats]"
   ]
  },
  {
   "cell_type": "code",
   "execution_count": 23,
   "metadata": {},
   "outputs": [],
   "source": [
    "def process(df, all_comb_feats):\n",
    "    print('Adding hour...')\n",
    "    df.loc[:, 'hour'] = df.click_time.dt.hour.astype('uint8')\n",
    "    print('Adding minute...')\n",
    "    df.loc[:, 'minute'] = df.hour.astype('uint16') * 60 + df.click_time.dt.minute.astype('uint16')\n",
    "    print('Adding in_test_hh')\n",
    "    df.loc[:, 'in_test_hh'] = (\n",
    "        3 - 2*df.hour.isin(most_freq_hours_in_test_data) -\n",
    "        1*df.hour.isin(least_freq_hours_in_test_data)\n",
    "    ).astype('uint8')\n",
    "    print('Adding day_section...')\n",
    "    df.loc[:, 'day_section'] = (df.hour // 6).astype('uint8')\n",
    "    print('Getting counts...')\n",
    "    df_counts = get_labels(get_label_count, all_comb_feats)\n",
    "    print('Merging...')\n",
    "    df = merge(df, df_counts)\n",
    "    gc.collect()\n",
    "    return df"
   ]
  },
  {
   "cell_type": "code",
   "execution_count": 24,
   "metadata": {},
   "outputs": [
    {
     "name": "stdout",
     "output_type": "stream",
     "text": [
      "Adding hour...\n",
      "Adding minute...\n",
      "Adding in_test_hh\n",
      "Adding day_section...\n",
      "Getting counts...\n",
      "2018-04-17 19:42:58.589329\n"
     ]
    },
    {
     "name": "stderr",
     "output_type": "stream",
     "text": [
      "\r",
      "  0%|          | 0/31 [00:00<?, ?it/s]"
     ]
    },
    {
     "name": "stdout",
     "output_type": "stream",
     "text": [
      "Merging...\n"
     ]
    },
    {
     "name": "stderr",
     "output_type": "stream",
     "text": [
      "100%|██████████| 31/31 [03:30<00:00,  6.80s/it]"
     ]
    },
    {
     "name": "stdout",
     "output_type": "stream",
     "text": [
      "CPU times: user 3min 39s, sys: 2min 7s, total: 5min 46s\n",
      "Wall time: 5min 9s\n"
     ]
    },
    {
     "name": "stderr",
     "output_type": "stream",
     "text": [
      "\n"
     ]
    }
   ],
   "source": [
    "%%time\n",
    "train = process(train, train_all_comb_feats)"
   ]
  },
  {
   "cell_type": "code",
   "execution_count": 25,
   "metadata": {},
   "outputs": [
    {
     "name": "stdout",
     "output_type": "stream",
     "text": [
      "Adding hour...\n",
      "Adding minute...\n",
      "Adding in_test_hh\n",
      "Adding day_section...\n",
      "Getting counts...\n",
      "2018-04-17 19:48:07.767873\n"
     ]
    },
    {
     "name": "stderr",
     "output_type": "stream",
     "text": [
      "\r",
      "  0%|          | 0/31 [00:00<?, ?it/s]"
     ]
    },
    {
     "name": "stdout",
     "output_type": "stream",
     "text": [
      "Merging...\n"
     ]
    },
    {
     "name": "stderr",
     "output_type": "stream",
     "text": [
      "100%|██████████| 31/31 [03:35<00:00,  6.95s/it]"
     ]
    },
    {
     "name": "stdout",
     "output_type": "stream",
     "text": [
      "CPU times: user 3min 44s, sys: 2min 11s, total: 5min 55s\n",
      "Wall time: 5min 18s\n"
     ]
    },
    {
     "name": "stderr",
     "output_type": "stream",
     "text": [
      "\n"
     ]
    }
   ],
   "source": [
    "%%time\n",
    "valid = process(valid, valid_all_comb_feats)"
   ]
  },
  {
   "cell_type": "code",
   "execution_count": 26,
   "metadata": {},
   "outputs": [],
   "source": [
    "key = 'day_section'"
   ]
  },
  {
   "cell_type": "code",
   "execution_count": 27,
   "metadata": {},
   "outputs": [
    {
     "name": "stdout",
     "output_type": "stream",
     "text": [
      "CPU times: user 6.97 s, sys: 7.29 s, total: 14.3 s\n",
      "Wall time: 25.6 s\n"
     ]
    }
   ],
   "source": [
    "%%time\n",
    "train.to_hdf(res_hdf_path, key=key+'_train', model='r+')"
   ]
  },
  {
   "cell_type": "code",
   "execution_count": 28,
   "metadata": {},
   "outputs": [
    {
     "name": "stdout",
     "output_type": "stream",
     "text": [
      "CPU times: user 6.62 s, sys: 8.84 s, total: 15.5 s\n",
      "Wall time: 37.6 s\n"
     ]
    }
   ],
   "source": [
    "%%time\n",
    "valid.to_hdf(res_hdf_path, key=key+'_valid', model='r+')"
   ]
  },
  {
   "cell_type": "code",
   "execution_count": 29,
   "metadata": {},
   "outputs": [
    {
     "data": {
      "text/plain": [
       "0"
      ]
     },
     "execution_count": 29,
     "metadata": {},
     "output_type": "execute_result"
    }
   ],
   "source": [
    "gc.collect()"
   ]
  },
  {
   "cell_type": "code",
   "execution_count": 10,
   "metadata": {},
   "outputs": [],
   "source": [
    "train = pd.read_hdf(res_hdf_path, key=key+'_train')"
   ]
  },
  {
   "cell_type": "code",
   "execution_count": 11,
   "metadata": {
    "collapsed": true
   },
   "outputs": [],
   "source": [
    "valid = pd.read_hdf(res_hdf_path, key=key+'_valid')"
   ]
  },
  {
   "cell_type": "markdown",
   "metadata": {},
   "source": [
    "# Split for training"
   ]
  },
  {
   "cell_type": "code",
   "execution_count": 30,
   "metadata": {},
   "outputs": [
    {
     "data": {
      "text/plain": [
       "0"
      ]
     },
     "execution_count": 30,
     "metadata": {},
     "output_type": "execute_result"
    }
   ],
   "source": [
    "gc.collect()"
   ]
  },
  {
   "cell_type": "code",
   "execution_count": 31,
   "metadata": {},
   "outputs": [],
   "source": [
    "train.drop(['ip', 'click_time'], axis=1, inplace=True)"
   ]
  },
  {
   "cell_type": "code",
   "execution_count": 32,
   "metadata": {},
   "outputs": [],
   "source": [
    "valid.drop(['ip', 'click_time'], axis=1, inplace=True)"
   ]
  },
  {
   "cell_type": "code",
   "execution_count": 33,
   "metadata": {},
   "outputs": [
    {
     "data": {
      "text/plain": [
       "14"
      ]
     },
     "execution_count": 33,
     "metadata": {},
     "output_type": "execute_result"
    }
   ],
   "source": [
    "gc.collect()"
   ]
  },
  {
   "cell_type": "code",
   "execution_count": 34,
   "metadata": {},
   "outputs": [],
   "source": [
    "_, valid = train_test_split(valid, test_size=0.2, stratify=valid.is_attributed)"
   ]
  },
  {
   "cell_type": "code",
   "execution_count": 35,
   "metadata": {},
   "outputs": [
    {
     "data": {
      "text/plain": [
       "(36475438, 40)"
      ]
     },
     "execution_count": 35,
     "metadata": {},
     "output_type": "execute_result"
    }
   ],
   "source": [
    "train.shape"
   ]
  },
  {
   "cell_type": "code",
   "execution_count": 36,
   "metadata": {},
   "outputs": [
    {
     "data": {
      "text/plain": [
       "0    0.997421\n",
       "1    0.002579\n",
       "Name: is_attributed, dtype: float64"
      ]
     },
     "execution_count": 36,
     "metadata": {},
     "output_type": "execute_result"
    }
   ],
   "source": [
    "train.is_attributed.value_counts(normalize=True)"
   ]
  },
  {
   "cell_type": "code",
   "execution_count": 37,
   "metadata": {},
   "outputs": [
    {
     "data": {
      "text/plain": [
       "(7433836, 40)"
      ]
     },
     "execution_count": 37,
     "metadata": {},
     "output_type": "execute_result"
    }
   ],
   "source": [
    "valid.shape"
   ]
  },
  {
   "cell_type": "code",
   "execution_count": 38,
   "metadata": {},
   "outputs": [
    {
     "data": {
      "text/plain": [
       "0    0.997415\n",
       "1    0.002585\n",
       "Name: is_attributed, dtype: float64"
      ]
     },
     "execution_count": 38,
     "metadata": {},
     "output_type": "execute_result"
    }
   ],
   "source": [
    "valid.is_attributed.value_counts(normalize=True)"
   ]
  },
  {
   "cell_type": "markdown",
   "metadata": {},
   "source": [
    "# Light GBM"
   ]
  },
  {
   "cell_type": "code",
   "execution_count": 39,
   "metadata": {},
   "outputs": [
    {
     "data": {
      "text/plain": [
       "Index(['app', 'device', 'os', 'channel', 'is_attributed', 'hour', 'minute',\n",
       "       'in_test_hh', 'day_section', 'n_day_section_ip_count',\n",
       "       'n_day_section_app_count', 'n_day_section_device_count',\n",
       "       'n_day_section_os_count', 'n_day_section_channel_count',\n",
       "       'n_day_section_ip_app_count', 'n_day_section_ip_device_count',\n",
       "       'n_day_section_ip_os_count', 'n_day_section_app_device_count',\n",
       "       'n_day_section_app_os_count', 'n_day_section_ip_channel_count',\n",
       "       'n_day_section_app_channel_count', 'n_day_section_device_os_count',\n",
       "       'n_day_section_device_channel_count', 'n_day_section_os_channel_count',\n",
       "       'n_day_section_ip_app_device_count', 'n_day_section_ip_app_os_count',\n",
       "       'n_day_section_ip_device_os_count',\n",
       "       'n_day_section_ip_app_channel_count',\n",
       "       'n_day_section_ip_device_channel_count',\n",
       "       'n_day_section_app_device_os_count',\n",
       "       'n_day_section_app_device_channel_count',\n",
       "       'n_day_section_app_os_channel_count',\n",
       "       'n_day_section_ip_os_channel_count',\n",
       "       'n_day_section_device_os_channel_count',\n",
       "       'n_day_section_ip_app_device_os_count',\n",
       "       'n_day_section_ip_app_device_channel_count',\n",
       "       'n_day_section_app_device_os_channel_count',\n",
       "       'n_day_section_ip_app_os_channel_count',\n",
       "       'n_day_section_ip_device_os_channel_count',\n",
       "       'n_day_section_ip_app_device_os_channel_count'],\n",
       "      dtype='object')"
      ]
     },
     "execution_count": 39,
     "metadata": {},
     "output_type": "execute_result"
    }
   ],
   "source": [
    "train.columns"
   ]
  },
  {
   "cell_type": "code",
   "execution_count": 40,
   "metadata": {},
   "outputs": [],
   "source": [
    "target = 'is_attributed'"
   ]
  },
  {
   "cell_type": "code",
   "execution_count": 41,
   "metadata": {},
   "outputs": [],
   "source": [
    "predictors = train.columns.tolist()"
   ]
  },
  {
   "cell_type": "code",
   "execution_count": 42,
   "metadata": {},
   "outputs": [],
   "source": [
    "predictors.remove(target)"
   ]
  },
  {
   "cell_type": "code",
   "execution_count": 43,
   "metadata": {},
   "outputs": [
    {
     "data": {
      "text/plain": [
       "['app',\n",
       " 'device',\n",
       " 'os',\n",
       " 'channel',\n",
       " 'hour',\n",
       " 'minute',\n",
       " 'in_test_hh',\n",
       " 'day_section',\n",
       " 'n_day_section_ip_count',\n",
       " 'n_day_section_app_count',\n",
       " 'n_day_section_device_count',\n",
       " 'n_day_section_os_count',\n",
       " 'n_day_section_channel_count',\n",
       " 'n_day_section_ip_app_count',\n",
       " 'n_day_section_ip_device_count',\n",
       " 'n_day_section_ip_os_count',\n",
       " 'n_day_section_app_device_count',\n",
       " 'n_day_section_app_os_count',\n",
       " 'n_day_section_ip_channel_count',\n",
       " 'n_day_section_app_channel_count',\n",
       " 'n_day_section_device_os_count',\n",
       " 'n_day_section_device_channel_count',\n",
       " 'n_day_section_os_channel_count',\n",
       " 'n_day_section_ip_app_device_count',\n",
       " 'n_day_section_ip_app_os_count',\n",
       " 'n_day_section_ip_device_os_count',\n",
       " 'n_day_section_ip_app_channel_count',\n",
       " 'n_day_section_ip_device_channel_count',\n",
       " 'n_day_section_app_device_os_count',\n",
       " 'n_day_section_app_device_channel_count',\n",
       " 'n_day_section_app_os_channel_count',\n",
       " 'n_day_section_ip_os_channel_count',\n",
       " 'n_day_section_device_os_channel_count',\n",
       " 'n_day_section_ip_app_device_os_count',\n",
       " 'n_day_section_ip_app_device_channel_count',\n",
       " 'n_day_section_app_device_os_channel_count',\n",
       " 'n_day_section_ip_app_os_channel_count',\n",
       " 'n_day_section_ip_device_os_channel_count',\n",
       " 'n_day_section_ip_app_device_os_channel_count']"
      ]
     },
     "execution_count": 43,
     "metadata": {},
     "output_type": "execute_result"
    }
   ],
   "source": [
    "predictors"
   ]
  },
  {
   "cell_type": "code",
   "execution_count": 44,
   "metadata": {},
   "outputs": [],
   "source": [
    "categorical = ['app', 'device', 'os', 'channel', 'hour', 'minute', 'in_test_hh', 'day_section']"
   ]
  },
  {
   "cell_type": "code",
   "execution_count": 45,
   "metadata": {},
   "outputs": [
    {
     "data": {
      "text/plain": [
       "20"
      ]
     },
     "execution_count": 45,
     "metadata": {},
     "output_type": "execute_result"
    }
   ],
   "source": [
    "gc.collect()"
   ]
  },
  {
   "cell_type": "code",
   "execution_count": 46,
   "metadata": {},
   "outputs": [],
   "source": [
    "params = {\n",
    "    'boosting_type': 'dart',  # I think dart would be better, but takes too long to run\n",
    "    'drop_rate': 0.1,  # Rate at which to drop trees\n",
    "    'objective': 'binary',\n",
    "    'metric': 'auc',\n",
    "    'learning_rate': 0.1,\n",
    "    'num_leaves': 10,  # Was 255: Reduced to control overfitting\n",
    "    'max_depth': 9,  # Was 8: LightGBM splits leaf-wise, so control depth via num_leaves\n",
    "    'min_child_samples': 10,\n",
    "    'max_bin': 100,\n",
    "    'subsample': 0.7,  # Was 0.7\n",
    "    'subsample_freq': 1,\n",
    "    'colsample_bytree': 0.7,\n",
    "    'min_child_weight': 0,\n",
    "    'subsample_for_bin': 200000,\n",
    "    'min_split_gain': 0,\n",
    "    'reg_alpha': 0,\n",
    "    'reg_lambda': 0,\n",
    "    'nthread': 8,\n",
    "    'verbose': 0,\n",
    "    'scale_pos_weight': 200\n",
    "}"
   ]
  },
  {
   "cell_type": "code",
   "execution_count": 47,
   "metadata": {},
   "outputs": [],
   "source": [
    "dtrain = lgb.Dataset(\n",
    "    train.loc[:, predictors],\n",
    "    label=train.loc[:, target],\n",
    "    feature_name=predictors,\n",
    "    categorical_feature=categorical\n",
    ")\n",
    "\n",
    "dvalid = lgb.Dataset(\n",
    "    valid.loc[:, predictors],\n",
    "    label=valid.loc[:, target],\n",
    "    feature_name=predictors,\n",
    "    categorical_feature=categorical\n",
    ")"
   ]
  },
  {
   "cell_type": "code",
   "execution_count": 48,
   "metadata": {},
   "outputs": [],
   "source": [
    "del train"
   ]
  },
  {
   "cell_type": "code",
   "execution_count": 49,
   "metadata": {},
   "outputs": [],
   "source": [
    "del valid"
   ]
  },
  {
   "cell_type": "code",
   "execution_count": 50,
   "metadata": {},
   "outputs": [
    {
     "data": {
      "text/plain": [
       "39"
      ]
     },
     "execution_count": 50,
     "metadata": {},
     "output_type": "execute_result"
    }
   ],
   "source": [
    "gc.collect()"
   ]
  },
  {
   "cell_type": "code",
   "execution_count": 51,
   "metadata": {},
   "outputs": [
    {
     "name": "stderr",
     "output_type": "stream",
     "text": [
      "/home/fei/miniconda3/envs/kaggle_ml/lib/python3.6/site-packages/lightgbm/basic.py:1036: UserWarning: Using categorical_feature in Dataset.\n",
      "  warnings.warn('Using categorical_feature in Dataset.')\n",
      "/home/fei/miniconda3/envs/kaggle_ml/lib/python3.6/site-packages/lightgbm/basic.py:681: UserWarning: categorical_feature in param dict is overrided.\n",
      "  warnings.warn('categorical_feature in param dict is overrided.')\n"
     ]
    },
    {
     "name": "stdout",
     "output_type": "stream",
     "text": [
      "Training until validation scores don't improve for 50 rounds.\n",
      "[10]\ttrain's auc: 0.966767\tvalid's auc: 0.957899\n",
      "[20]\ttrain's auc: 0.971762\tvalid's auc: 0.962025\n",
      "[30]\ttrain's auc: 0.972807\tvalid's auc: 0.963736\n",
      "[40]\ttrain's auc: 0.974322\tvalid's auc: 0.965431\n",
      "[50]\ttrain's auc: 0.974819\tvalid's auc: 0.966004\n",
      "[60]\ttrain's auc: 0.975301\tvalid's auc: 0.966282\n",
      "[70]\ttrain's auc: 0.97555\tvalid's auc: 0.966541\n",
      "[80]\ttrain's auc: 0.975902\tvalid's auc: 0.966706\n",
      "[90]\ttrain's auc: 0.976127\tvalid's auc: 0.966816\n",
      "[100]\ttrain's auc: 0.976276\tvalid's auc: 0.966925\n",
      "[110]\ttrain's auc: 0.976329\tvalid's auc: 0.967099\n",
      "[120]\ttrain's auc: 0.976702\tvalid's auc: 0.967436\n",
      "[130]\ttrain's auc: 0.976974\tvalid's auc: 0.967741\n",
      "[140]\ttrain's auc: 0.977293\tvalid's auc: 0.96777\n",
      "[150]\ttrain's auc: 0.977439\tvalid's auc: 0.96792\n",
      "[160]\ttrain's auc: 0.977457\tvalid's auc: 0.96795\n",
      "[170]\ttrain's auc: 0.977786\tvalid's auc: 0.968133\n",
      "[180]\ttrain's auc: 0.978329\tvalid's auc: 0.968309\n",
      "[190]\ttrain's auc: 0.978928\tvalid's auc: 0.968656\n",
      "[200]\ttrain's auc: 0.979248\tvalid's auc: 0.968806\n",
      "[210]\ttrain's auc: 0.97938\tvalid's auc: 0.96902\n",
      "[220]\ttrain's auc: 0.979743\tvalid's auc: 0.969115\n",
      "[230]\ttrain's auc: 0.979864\tvalid's auc: 0.969148\n",
      "[240]\ttrain's auc: 0.980218\tvalid's auc: 0.969349\n",
      "[250]\ttrain's auc: 0.980465\tvalid's auc: 0.969612\n",
      "[260]\ttrain's auc: 0.980726\tvalid's auc: 0.969852\n",
      "[270]\ttrain's auc: 0.981189\tvalid's auc: 0.969842\n",
      "[280]\ttrain's auc: 0.981443\tvalid's auc: 0.96979\n",
      "[290]\ttrain's auc: 0.981785\tvalid's auc: 0.96985\n",
      "[300]\ttrain's auc: 0.981934\tvalid's auc: 0.969892\n",
      "[310]\ttrain's auc: 0.981924\tvalid's auc: 0.969911\n",
      "[320]\ttrain's auc: 0.982104\tvalid's auc: 0.969869\n",
      "[330]\ttrain's auc: 0.982156\tvalid's auc: 0.970075\n",
      "[340]\ttrain's auc: 0.982166\tvalid's auc: 0.970082\n",
      "[350]\ttrain's auc: 0.982406\tvalid's auc: 0.970074\n",
      "[360]\ttrain's auc: 0.982526\tvalid's auc: 0.970121\n",
      "[370]\ttrain's auc: 0.982604\tvalid's auc: 0.970143\n",
      "[380]\ttrain's auc: 0.982745\tvalid's auc: 0.970171\n",
      "[390]\ttrain's auc: 0.982897\tvalid's auc: 0.970308\n",
      "[400]\ttrain's auc: 0.983047\tvalid's auc: 0.970438\n",
      "[410]\ttrain's auc: 0.983222\tvalid's auc: 0.970497\n",
      "[420]\ttrain's auc: 0.983276\tvalid's auc: 0.970532\n",
      "[430]\ttrain's auc: 0.983471\tvalid's auc: 0.970521\n",
      "[440]\ttrain's auc: 0.983726\tvalid's auc: 0.970599\n",
      "[450]\ttrain's auc: 0.983945\tvalid's auc: 0.970545\n",
      "[460]\ttrain's auc: 0.984017\tvalid's auc: 0.970464\n",
      "[470]\ttrain's auc: 0.984049\tvalid's auc: 0.970469\n",
      "[480]\ttrain's auc: 0.984124\tvalid's auc: 0.970495\n",
      "Early stopping, best iteration is:\n",
      "[437]\ttrain's auc: 0.983658\tvalid's auc: 0.970605\n",
      "CPU times: user 5h 38min 8s, sys: 41min 57s, total: 6h 20min 5s\n",
      "Wall time: 1h 48min 39s\n"
     ]
    }
   ],
   "source": [
    "%%time\n",
    "evals_results = {}\n",
    "lgb_model = lgb.train(\n",
    "    params, \n",
    "    dtrain, \n",
    "    valid_sets= [dtrain, dvalid], \n",
    "    valid_names=['train', 'valid'], \n",
    "    evals_result=evals_results, \n",
    "    num_boost_round=1000,\n",
    "    early_stopping_rounds=50,\n",
    "    verbose_eval=10, \n",
    "    feval=None\n",
    ")"
   ]
  },
  {
   "cell_type": "code",
   "execution_count": 52,
   "metadata": {},
   "outputs": [
    {
     "data": {
      "text/plain": [
       "<matplotlib.axes._subplots.AxesSubplot at 0x7fe9c44eacf8>"
      ]
     },
     "execution_count": 52,
     "metadata": {},
     "output_type": "execute_result"
    },
    {
     "data": {
      "image/png": "[encoded data removed]",
      "text/plain": [
       "<Figure size 504x720 with 1 Axes>"
      ]
     },
     "metadata": {},
     "output_type": "display_data"
    }
   ],
   "source": [
    "f, ax = plt.subplots(figsize=[7,10])\n",
    "lgb.plot_importance(lgb_model, ax=ax, max_num_features=len(predictors))"
   ]
  },
  {
   "cell_type": "code",
   "execution_count": 53,
   "metadata": {},
   "outputs": [],
   "source": [
    "import pickle"
   ]
  },
  {
   "cell_type": "code",
   "execution_count": 54,
   "metadata": {},
   "outputs": [],
   "source": [
    "with open('../results/in_test_hh.pickle', 'wb') as f:\n",
    "    pickle.dump(lgb_model, f)"
   ]
  },
  {
   "cell_type": "code",
   "execution_count": 34,
   "metadata": {
    "collapsed": true
   },
   "outputs": [],
   "source": [
    "with open('../results/rolling_window.pickle', 'rb') as f:\n",
    "    lgb_model = pickle.load(f)"
   ]
  },
  {
   "cell_type": "markdown",
   "metadata": {
    "collapsed": true
   },
   "source": [
    "# Create submission"
   ]
  },
  {
   "cell_type": "code",
   "execution_count": 55,
   "metadata": {},
   "outputs": [],
   "source": [
    "test = pd.read_hdf(hdf_path, key='test')"
   ]
  },
  {
   "cell_type": "code",
   "execution_count": 56,
   "metadata": {},
   "outputs": [
    {
     "data": {
      "text/html": [
       "<div>\n",
       "<style scoped>\n",
       "    .dataframe tbody tr th:only-of-type {\n",
       "        vertical-align: middle;\n",
       "    }\n",
       "\n",
       "    .dataframe tbody tr th {\n",
       "        vertical-align: top;\n",
       "    }\n",
       "\n",
       "    .dataframe thead th {\n",
       "        text-align: right;\n",
       "    }\n",
       "</style>\n",
       "<table border=\"1\" class=\"dataframe\">\n",
       "  <thead>\n",
       "    <tr style=\"text-align: right;\">\n",
       "      <th></th>\n",
       "      <th>click_id</th>\n",
       "      <th>ip</th>\n",
       "      <th>app</th>\n",
       "      <th>device</th>\n",
       "      <th>os</th>\n",
       "      <th>channel</th>\n",
       "      <th>click_time</th>\n",
       "    </tr>\n",
       "  </thead>\n",
       "  <tbody>\n",
       "    <tr>\n",
       "      <th>0</th>\n",
       "      <td>0</td>\n",
       "      <td>5744</td>\n",
       "      <td>9</td>\n",
       "      <td>1</td>\n",
       "      <td>3</td>\n",
       "      <td>107</td>\n",
       "      <td>2017-11-10 04:00:00</td>\n",
       "    </tr>\n",
       "    <tr>\n",
       "      <th>1</th>\n",
       "      <td>1</td>\n",
       "      <td>119901</td>\n",
       "      <td>9</td>\n",
       "      <td>1</td>\n",
       "      <td>3</td>\n",
       "      <td>466</td>\n",
       "      <td>2017-11-10 04:00:00</td>\n",
       "    </tr>\n",
       "    <tr>\n",
       "      <th>2</th>\n",
       "      <td>2</td>\n",
       "      <td>72287</td>\n",
       "      <td>21</td>\n",
       "      <td>1</td>\n",
       "      <td>19</td>\n",
       "      <td>128</td>\n",
       "      <td>2017-11-10 04:00:00</td>\n",
       "    </tr>\n",
       "    <tr>\n",
       "      <th>3</th>\n",
       "      <td>3</td>\n",
       "      <td>78477</td>\n",
       "      <td>15</td>\n",
       "      <td>1</td>\n",
       "      <td>13</td>\n",
       "      <td>111</td>\n",
       "      <td>2017-11-10 04:00:00</td>\n",
       "    </tr>\n",
       "    <tr>\n",
       "      <th>4</th>\n",
       "      <td>4</td>\n",
       "      <td>123080</td>\n",
       "      <td>12</td>\n",
       "      <td>1</td>\n",
       "      <td>13</td>\n",
       "      <td>328</td>\n",
       "      <td>2017-11-10 04:00:00</td>\n",
       "    </tr>\n",
       "  </tbody>\n",
       "</table>\n",
       "</div>"
      ],
      "text/plain": [
       "   click_id      ip  app  device  os  channel          click_time\n",
       "0         0    5744    9       1   3      107 2017-11-10 04:00:00\n",
       "1         1  119901    9       1   3      466 2017-11-10 04:00:00\n",
       "2         2   72287   21       1  19      128 2017-11-10 04:00:00\n",
       "3         3   78477   15       1  13      111 2017-11-10 04:00:00\n",
       "4         4  123080   12       1  13      328 2017-11-10 04:00:00"
      ]
     },
     "execution_count": 56,
     "metadata": {},
     "output_type": "execute_result"
    }
   ],
   "source": [
    "test.head()"
   ]
  },
  {
   "cell_type": "code",
   "execution_count": 57,
   "metadata": {},
   "outputs": [],
   "source": [
    "test_all_comb_feats =[(test, ['day_section'] + comb_feat) for comb_feat in all_comb_feats]"
   ]
  },
  {
   "cell_type": "code",
   "execution_count": 58,
   "metadata": {},
   "outputs": [
    {
     "name": "stdout",
     "output_type": "stream",
     "text": [
      "Adding hour...\n",
      "Adding minute...\n",
      "Adding in_test_hh\n",
      "Adding day_section...\n",
      "Getting counts...\n",
      "2018-04-17 21:45:23.228751\n"
     ]
    },
    {
     "name": "stderr",
     "output_type": "stream",
     "text": [
      "\r",
      "  0%|          | 0/31 [00:00<?, ?it/s]"
     ]
    },
    {
     "name": "stdout",
     "output_type": "stream",
     "text": [
      "Merging...\n"
     ]
    },
    {
     "name": "stderr",
     "output_type": "stream",
     "text": [
      "100%|██████████| 31/31 [01:41<00:00,  3.28s/it]\n"
     ]
    }
   ],
   "source": [
    "test = process(test, test_all_comb_feats)"
   ]
  },
  {
   "cell_type": "code",
   "execution_count": 59,
   "metadata": {},
   "outputs": [
    {
     "data": {
      "text/html": [
       "<div>\n",
       "<style scoped>\n",
       "    .dataframe tbody tr th:only-of-type {\n",
       "        vertical-align: middle;\n",
       "    }\n",
       "\n",
       "    .dataframe tbody tr th {\n",
       "        vertical-align: top;\n",
       "    }\n",
       "\n",
       "    .dataframe thead th {\n",
       "        text-align: right;\n",
       "    }\n",
       "</style>\n",
       "<table border=\"1\" class=\"dataframe\">\n",
       "  <thead>\n",
       "    <tr style=\"text-align: right;\">\n",
       "      <th></th>\n",
       "      <th>click_id</th>\n",
       "      <th>ip</th>\n",
       "      <th>app</th>\n",
       "      <th>device</th>\n",
       "      <th>os</th>\n",
       "      <th>channel</th>\n",
       "      <th>click_time</th>\n",
       "      <th>hour</th>\n",
       "      <th>minute</th>\n",
       "      <th>in_test_hh</th>\n",
       "      <th>...</th>\n",
       "      <th>n_day_section_app_device_channel_count</th>\n",
       "      <th>n_day_section_app_os_channel_count</th>\n",
       "      <th>n_day_section_ip_os_channel_count</th>\n",
       "      <th>n_day_section_device_os_channel_count</th>\n",
       "      <th>n_day_section_ip_app_device_os_count</th>\n",
       "      <th>n_day_section_ip_app_device_channel_count</th>\n",
       "      <th>n_day_section_app_device_os_channel_count</th>\n",
       "      <th>n_day_section_ip_app_os_channel_count</th>\n",
       "      <th>n_day_section_ip_device_os_channel_count</th>\n",
       "      <th>n_day_section_ip_app_device_os_channel_count</th>\n",
       "    </tr>\n",
       "  </thead>\n",
       "  <tbody>\n",
       "    <tr>\n",
       "      <th>0</th>\n",
       "      <td>0</td>\n",
       "      <td>5744</td>\n",
       "      <td>9</td>\n",
       "      <td>1</td>\n",
       "      <td>3</td>\n",
       "      <td>107</td>\n",
       "      <td>2017-11-10 04:00:00</td>\n",
       "      <td>4</td>\n",
       "      <td>240</td>\n",
       "      <td>1</td>\n",
       "      <td>...</td>\n",
       "      <td>82205</td>\n",
       "      <td>2217</td>\n",
       "      <td>1</td>\n",
       "      <td>10745</td>\n",
       "      <td>1</td>\n",
       "      <td>4</td>\n",
       "      <td>2156</td>\n",
       "      <td>1</td>\n",
       "      <td>1</td>\n",
       "      <td>1</td>\n",
       "    </tr>\n",
       "    <tr>\n",
       "      <th>1</th>\n",
       "      <td>1</td>\n",
       "      <td>119901</td>\n",
       "      <td>9</td>\n",
       "      <td>1</td>\n",
       "      <td>3</td>\n",
       "      <td>466</td>\n",
       "      <td>2017-11-10 04:00:00</td>\n",
       "      <td>4</td>\n",
       "      <td>240</td>\n",
       "      <td>1</td>\n",
       "      <td>...</td>\n",
       "      <td>125848</td>\n",
       "      <td>2122</td>\n",
       "      <td>1</td>\n",
       "      <td>2335</td>\n",
       "      <td>4</td>\n",
       "      <td>15</td>\n",
       "      <td>2037</td>\n",
       "      <td>1</td>\n",
       "      <td>1</td>\n",
       "      <td>1</td>\n",
       "    </tr>\n",
       "    <tr>\n",
       "      <th>2</th>\n",
       "      <td>2</td>\n",
       "      <td>72287</td>\n",
       "      <td>21</td>\n",
       "      <td>1</td>\n",
       "      <td>19</td>\n",
       "      <td>128</td>\n",
       "      <td>2017-11-10 04:00:00</td>\n",
       "      <td>4</td>\n",
       "      <td>240</td>\n",
       "      <td>1</td>\n",
       "      <td>...</td>\n",
       "      <td>71938</td>\n",
       "      <td>21237</td>\n",
       "      <td>10</td>\n",
       "      <td>37558</td>\n",
       "      <td>11</td>\n",
       "      <td>13</td>\n",
       "      <td>20029</td>\n",
       "      <td>6</td>\n",
       "      <td>10</td>\n",
       "      <td>6</td>\n",
       "    </tr>\n",
       "    <tr>\n",
       "      <th>3</th>\n",
       "      <td>3</td>\n",
       "      <td>78477</td>\n",
       "      <td>15</td>\n",
       "      <td>1</td>\n",
       "      <td>13</td>\n",
       "      <td>111</td>\n",
       "      <td>2017-11-10 04:00:00</td>\n",
       "      <td>4</td>\n",
       "      <td>240</td>\n",
       "      <td>1</td>\n",
       "      <td>...</td>\n",
       "      <td>25603</td>\n",
       "      <td>5437</td>\n",
       "      <td>2</td>\n",
       "      <td>5421</td>\n",
       "      <td>14</td>\n",
       "      <td>2</td>\n",
       "      <td>5421</td>\n",
       "      <td>2</td>\n",
       "      <td>2</td>\n",
       "      <td>2</td>\n",
       "    </tr>\n",
       "    <tr>\n",
       "      <th>4</th>\n",
       "      <td>4</td>\n",
       "      <td>123080</td>\n",
       "      <td>12</td>\n",
       "      <td>1</td>\n",
       "      <td>13</td>\n",
       "      <td>328</td>\n",
       "      <td>2017-11-10 04:00:00</td>\n",
       "      <td>4</td>\n",
       "      <td>240</td>\n",
       "      <td>1</td>\n",
       "      <td>...</td>\n",
       "      <td>69847</td>\n",
       "      <td>15945</td>\n",
       "      <td>2</td>\n",
       "      <td>15902</td>\n",
       "      <td>5</td>\n",
       "      <td>2</td>\n",
       "      <td>15902</td>\n",
       "      <td>2</td>\n",
       "      <td>2</td>\n",
       "      <td>2</td>\n",
       "    </tr>\n",
       "  </tbody>\n",
       "</table>\n",
       "<p>5 rows × 42 columns</p>\n",
       "</div>"
      ],
      "text/plain": [
       "   click_id      ip  app  device  os  channel          click_time  hour  \\\n",
       "0         0    5744    9       1   3      107 2017-11-10 04:00:00     4   \n",
       "1         1  119901    9       1   3      466 2017-11-10 04:00:00     4   \n",
       "2         2   72287   21       1  19      128 2017-11-10 04:00:00     4   \n",
       "3         3   78477   15       1  13      111 2017-11-10 04:00:00     4   \n",
       "4         4  123080   12       1  13      328 2017-11-10 04:00:00     4   \n",
       "\n",
       "   minute  in_test_hh                      ...                       \\\n",
       "0     240           1                      ...                        \n",
       "1     240           1                      ...                        \n",
       "2     240           1                      ...                        \n",
       "3     240           1                      ...                        \n",
       "4     240           1                      ...                        \n",
       "\n",
       "   n_day_section_app_device_channel_count  n_day_section_app_os_channel_count  \\\n",
       "0                                   82205                                2217   \n",
       "1                                  125848                                2122   \n",
       "2                                   71938                               21237   \n",
       "3                                   25603                                5437   \n",
       "4                                   69847                               15945   \n",
       "\n",
       "   n_day_section_ip_os_channel_count  n_day_section_device_os_channel_count  \\\n",
       "0                                  1                                  10745   \n",
       "1                                  1                                   2335   \n",
       "2                                 10                                  37558   \n",
       "3                                  2                                   5421   \n",
       "4                                  2                                  15902   \n",
       "\n",
       "   n_day_section_ip_app_device_os_count  \\\n",
       "0                                     1   \n",
       "1                                     4   \n",
       "2                                    11   \n",
       "3                                    14   \n",
       "4                                     5   \n",
       "\n",
       "   n_day_section_ip_app_device_channel_count  \\\n",
       "0                                          4   \n",
       "1                                         15   \n",
       "2                                         13   \n",
       "3                                          2   \n",
       "4                                          2   \n",
       "\n",
       "   n_day_section_app_device_os_channel_count  \\\n",
       "0                                       2156   \n",
       "1                                       2037   \n",
       "2                                      20029   \n",
       "3                                       5421   \n",
       "4                                      15902   \n",
       "\n",
       "   n_day_section_ip_app_os_channel_count  \\\n",
       "0                                      1   \n",
       "1                                      1   \n",
       "2                                      6   \n",
       "3                                      2   \n",
       "4                                      2   \n",
       "\n",
       "   n_day_section_ip_device_os_channel_count  \\\n",
       "0                                         1   \n",
       "1                                         1   \n",
       "2                                        10   \n",
       "3                                         2   \n",
       "4                                         2   \n",
       "\n",
       "   n_day_section_ip_app_device_os_channel_count  \n",
       "0                                             1  \n",
       "1                                             1  \n",
       "2                                             6  \n",
       "3                                             2  \n",
       "4                                             2  \n",
       "\n",
       "[5 rows x 42 columns]"
      ]
     },
     "execution_count": 59,
     "metadata": {},
     "output_type": "execute_result"
    }
   ],
   "source": [
    "test.head()"
   ]
  },
  {
   "cell_type": "code",
   "execution_count": 60,
   "metadata": {},
   "outputs": [],
   "source": [
    "pred = lgb_model.predict(test.loc[:, predictors], num_iteration=lgb_model.best_iteration)"
   ]
  },
  {
   "cell_type": "code",
   "execution_count": 61,
   "metadata": {},
   "outputs": [],
   "source": [
    "test.loc[:, 'is_attributed'] = pred"
   ]
  },
  {
   "cell_type": "code",
   "execution_count": 62,
   "metadata": {},
   "outputs": [],
   "source": [
    "test.loc[:, ['click_id', 'is_attributed']].to_csv('../results/day_section.csv', index=False)"
   ]
  },
  {
   "cell_type": "code",
   "execution_count": 63,
   "metadata": {},
   "outputs": [
    {
     "data": {
      "text/html": [
       "<div>\n",
       "<style scoped>\n",
       "    .dataframe tbody tr th:only-of-type {\n",
       "        vertical-align: middle;\n",
       "    }\n",
       "\n",
       "    .dataframe tbody tr th {\n",
       "        vertical-align: top;\n",
       "    }\n",
       "\n",
       "    .dataframe thead th {\n",
       "        text-align: right;\n",
       "    }\n",
       "</style>\n",
       "<table border=\"1\" class=\"dataframe\">\n",
       "  <thead>\n",
       "    <tr style=\"text-align: right;\">\n",
       "      <th></th>\n",
       "      <th>click_id</th>\n",
       "      <th>is_attributed</th>\n",
       "    </tr>\n",
       "  </thead>\n",
       "  <tbody>\n",
       "    <tr>\n",
       "      <th>0</th>\n",
       "      <td>0</td>\n",
       "      <td>0.111513</td>\n",
       "    </tr>\n",
       "    <tr>\n",
       "      <th>1</th>\n",
       "      <td>1</td>\n",
       "      <td>0.060055</td>\n",
       "    </tr>\n",
       "    <tr>\n",
       "      <th>2</th>\n",
       "      <td>2</td>\n",
       "      <td>0.012854</td>\n",
       "    </tr>\n",
       "    <tr>\n",
       "      <th>3</th>\n",
       "      <td>3</td>\n",
       "      <td>0.022093</td>\n",
       "    </tr>\n",
       "    <tr>\n",
       "      <th>4</th>\n",
       "      <td>4</td>\n",
       "      <td>0.035084</td>\n",
       "    </tr>\n",
       "  </tbody>\n",
       "</table>\n",
       "</div>"
      ],
      "text/plain": [
       "   click_id  is_attributed\n",
       "0         0       0.111513\n",
       "1         1       0.060055\n",
       "2         2       0.012854\n",
       "3         3       0.022093\n",
       "4         4       0.035084"
      ]
     },
     "execution_count": 63,
     "metadata": {},
     "output_type": "execute_result"
    }
   ],
   "source": [
    "test.loc[:, ['click_id', 'is_attributed']].head()"
   ]
  },
  {
   "cell_type": "code",
   "execution_count": null,
   "metadata": {
    "collapsed": true
   },
   "outputs": [],
   "source": []
  }
 ],
 "metadata": {
  "kernelspec": {
   "display_name": "Python 3",
   "language": "python",
   "name": "python3"
  },
  "language_info": {
   "codemirror_mode": {
    "name": "ipython",
    "version": 3
   },
   "file_extension": ".py",
   "mimetype": "text/x-python",
   "name": "python",
   "nbconvert_exporter": "python",
   "pygments_lexer": "ipython3",
   "version": "3.6.5"
  }
 },
 "nbformat": 4,
 "nbformat_minor": 2
}
