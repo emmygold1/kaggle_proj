{
 "cells": [
  {
   "cell_type": "code",
   "execution_count": 1,
   "metadata": {},
   "outputs": [],
   "source": [
    "import pandas as pd"
   ]
  },
  {
   "cell_type": "code",
   "execution_count": 2,
   "metadata": {},
   "outputs": [],
   "source": [
    "train = pd.read_csv('../data/train.csv')"
   ]
  },
  {
   "cell_type": "code",
   "execution_count": 3,
   "metadata": {},
   "outputs": [],
   "source": [
    "train_sample = pd.read_csv('../data/train_sample.csv')"
   ]
  },
  {
   "cell_type": "code",
   "execution_count": 4,
   "metadata": {},
   "outputs": [],
   "source": [
    "test = pd.read_csv('../data/test.csv')"
   ]
  },
  {
   "cell_type": "code",
   "execution_count": 5,
   "metadata": {},
   "outputs": [],
   "source": [
    "test_sample = pd.read_csv('../data/test_supplement.csv')"
   ]
  },
  {
   "cell_type": "code",
   "execution_count": 6,
   "metadata": {},
   "outputs": [],
   "source": [
    "dat = pd.concat([train, train_sample, test, test_sample])"
   ]
  },
  {
   "cell_type": "code",
   "execution_count": 7,
   "metadata": {},
   "outputs": [
    {
     "data": {
      "text/html": [
       "<div>\n",
       "<style scoped>\n",
       "    .dataframe tbody tr th:only-of-type {\n",
       "        vertical-align: middle;\n",
       "    }\n",
       "\n",
       "    .dataframe tbody tr th {\n",
       "        vertical-align: top;\n",
       "    }\n",
       "\n",
       "    .dataframe thead th {\n",
       "        text-align: right;\n",
       "    }\n",
       "</style>\n",
       "<table border=\"1\" class=\"dataframe\">\n",
       "  <thead>\n",
       "    <tr style=\"text-align: right;\">\n",
       "      <th></th>\n",
       "      <th>app</th>\n",
       "      <th>attributed_time</th>\n",
       "      <th>channel</th>\n",
       "      <th>click_id</th>\n",
       "      <th>click_time</th>\n",
       "      <th>device</th>\n",
       "      <th>ip</th>\n",
       "      <th>is_attributed</th>\n",
       "      <th>os</th>\n",
       "    </tr>\n",
       "  </thead>\n",
       "  <tbody>\n",
       "    <tr>\n",
       "      <th>0</th>\n",
       "      <td>3</td>\n",
       "      <td>NaN</td>\n",
       "      <td>379</td>\n",
       "      <td>NaN</td>\n",
       "      <td>2017-11-06 14:32:21</td>\n",
       "      <td>1</td>\n",
       "      <td>83230</td>\n",
       "      <td>0.0</td>\n",
       "      <td>13</td>\n",
       "    </tr>\n",
       "    <tr>\n",
       "      <th>1</th>\n",
       "      <td>3</td>\n",
       "      <td>NaN</td>\n",
       "      <td>379</td>\n",
       "      <td>NaN</td>\n",
       "      <td>2017-11-06 14:33:34</td>\n",
       "      <td>1</td>\n",
       "      <td>17357</td>\n",
       "      <td>0.0</td>\n",
       "      <td>19</td>\n",
       "    </tr>\n",
       "    <tr>\n",
       "      <th>2</th>\n",
       "      <td>3</td>\n",
       "      <td>NaN</td>\n",
       "      <td>379</td>\n",
       "      <td>NaN</td>\n",
       "      <td>2017-11-06 14:34:12</td>\n",
       "      <td>1</td>\n",
       "      <td>35810</td>\n",
       "      <td>0.0</td>\n",
       "      <td>13</td>\n",
       "    </tr>\n",
       "    <tr>\n",
       "      <th>3</th>\n",
       "      <td>14</td>\n",
       "      <td>NaN</td>\n",
       "      <td>478</td>\n",
       "      <td>NaN</td>\n",
       "      <td>2017-11-06 14:34:52</td>\n",
       "      <td>1</td>\n",
       "      <td>45745</td>\n",
       "      <td>0.0</td>\n",
       "      <td>13</td>\n",
       "    </tr>\n",
       "    <tr>\n",
       "      <th>4</th>\n",
       "      <td>3</td>\n",
       "      <td>NaN</td>\n",
       "      <td>379</td>\n",
       "      <td>NaN</td>\n",
       "      <td>2017-11-06 14:35:08</td>\n",
       "      <td>1</td>\n",
       "      <td>161007</td>\n",
       "      <td>0.0</td>\n",
       "      <td>13</td>\n",
       "    </tr>\n",
       "  </tbody>\n",
       "</table>\n",
       "</div>"
      ],
      "text/plain": [
       "   app attributed_time  channel  click_id           click_time  device  \\\n",
       "0    3             NaN      379       NaN  2017-11-06 14:32:21       1   \n",
       "1    3             NaN      379       NaN  2017-11-06 14:33:34       1   \n",
       "2    3             NaN      379       NaN  2017-11-06 14:34:12       1   \n",
       "3   14             NaN      478       NaN  2017-11-06 14:34:52       1   \n",
       "4    3             NaN      379       NaN  2017-11-06 14:35:08       1   \n",
       "\n",
       "       ip  is_attributed  os  \n",
       "0   83230            0.0  13  \n",
       "1   17357            0.0  19  \n",
       "2   35810            0.0  13  \n",
       "3   45745            0.0  13  \n",
       "4  161007            0.0  13  "
      ]
     },
     "execution_count": 7,
     "metadata": {},
     "output_type": "execute_result"
    }
   ],
   "source": [
    "dat.head()"
   ]
  },
  {
   "cell_type": "code",
   "execution_count": 22,
   "metadata": {},
   "outputs": [
    {
     "data": {
      "text/plain": [
       "0"
      ]
     },
     "execution_count": 22,
     "metadata": {},
     "output_type": "execute_result"
    }
   ],
   "source": [
    "dat.app.isnull().sum()"
   ]
  },
  {
   "cell_type": "code",
   "execution_count": 23,
   "metadata": {},
   "outputs": [
    {
     "data": {
      "text/plain": [
       "0"
      ]
     },
     "execution_count": 23,
     "metadata": {},
     "output_type": "execute_result"
    }
   ],
   "source": [
    "dat.channel.isnull().sum()"
   ]
  },
  {
   "cell_type": "code",
   "execution_count": 24,
   "metadata": {},
   "outputs": [
    {
     "data": {
      "text/plain": [
       "0"
      ]
     },
     "execution_count": 24,
     "metadata": {},
     "output_type": "execute_result"
    }
   ],
   "source": [
    "dat.device.isnull().sum()"
   ]
  },
  {
   "cell_type": "code",
   "execution_count": 25,
   "metadata": {},
   "outputs": [
    {
     "data": {
      "text/plain": [
       "0"
      ]
     },
     "execution_count": 25,
     "metadata": {},
     "output_type": "execute_result"
    }
   ],
   "source": [
    "dat.ip.isnull().sum()"
   ]
  },
  {
   "cell_type": "code",
   "execution_count": 26,
   "metadata": {},
   "outputs": [
    {
     "data": {
      "text/plain": [
       "0"
      ]
     },
     "execution_count": 26,
     "metadata": {},
     "output_type": "execute_result"
    }
   ],
   "source": [
    "dat.os.isnull().sum()"
   ]
  },
  {
   "cell_type": "code",
   "execution_count": 9,
   "metadata": {},
   "outputs": [
    {
     "data": {
      "text/plain": [
       "768"
      ]
     },
     "execution_count": 9,
     "metadata": {},
     "output_type": "execute_result"
    }
   ],
   "source": [
    "dat.app.max()"
   ]
  },
  {
   "cell_type": "code",
   "execution_count": 10,
   "metadata": {},
   "outputs": [
    {
     "data": {
      "text/plain": [
       "500"
      ]
     },
     "execution_count": 10,
     "metadata": {},
     "output_type": "execute_result"
    }
   ],
   "source": [
    "dat.channel.max()"
   ]
  },
  {
   "cell_type": "code",
   "execution_count": 11,
   "metadata": {},
   "outputs": [
    {
     "data": {
      "text/plain": [
       "0"
      ]
     },
     "execution_count": 11,
     "metadata": {},
     "output_type": "execute_result"
    }
   ],
   "source": [
    "dat.channel.min()"
   ]
  },
  {
   "cell_type": "code",
   "execution_count": 12,
   "metadata": {},
   "outputs": [
    {
     "data": {
      "text/plain": [
       "57537504.0"
      ]
     },
     "execution_count": 12,
     "metadata": {},
     "output_type": "execute_result"
    }
   ],
   "source": [
    "dat.click_id.max()"
   ]
  },
  {
   "cell_type": "code",
   "execution_count": 13,
   "metadata": {},
   "outputs": [
    {
     "data": {
      "text/plain": [
       "4227"
      ]
     },
     "execution_count": 13,
     "metadata": {},
     "output_type": "execute_result"
    }
   ],
   "source": [
    "dat.device.max()"
   ]
  },
  {
   "cell_type": "code",
   "execution_count": 14,
   "metadata": {},
   "outputs": [
    {
     "data": {
      "text/plain": [
       "364778"
      ]
     },
     "execution_count": 14,
     "metadata": {},
     "output_type": "execute_result"
    }
   ],
   "source": [
    "dat.ip.max()"
   ]
  },
  {
   "cell_type": "code",
   "execution_count": 15,
   "metadata": {},
   "outputs": [
    {
     "data": {
      "text/plain": [
       "0"
      ]
     },
     "execution_count": 15,
     "metadata": {},
     "output_type": "execute_result"
    }
   ],
   "source": [
    "dat.ip.min()"
   ]
  },
  {
   "cell_type": "code",
   "execution_count": 16,
   "metadata": {},
   "outputs": [
    {
     "data": {
      "text/plain": [
       "956"
      ]
     },
     "execution_count": 16,
     "metadata": {},
     "output_type": "execute_result"
    }
   ],
   "source": [
    "dat.os.max()"
   ]
  },
  {
   "cell_type": "markdown",
   "metadata": {},
   "source": [
    "Based on the max value, app, channel, device, and os can be uint16; click_id and ip can be uint32, is_attributed can be uint8."
   ]
  },
  {
   "cell_type": "code",
   "execution_count": 27,
   "metadata": {},
   "outputs": [],
   "source": [
    "dat.loc[:, 'click_id'] = dat.click_id.fillna(0)"
   ]
  },
  {
   "cell_type": "code",
   "execution_count": 28,
   "metadata": {},
   "outputs": [
    {
     "data": {
      "text/plain": [
       "0"
      ]
     },
     "execution_count": 28,
     "metadata": {},
     "output_type": "execute_result"
    }
   ],
   "source": [
    "dat.click_id.isnull().sum()"
   ]
  },
  {
   "cell_type": "code",
   "execution_count": 29,
   "metadata": {},
   "outputs": [],
   "source": [
    "dat.loc[:, 'is_attributed'].fillna(0, inplace=True)"
   ]
  },
  {
   "cell_type": "code",
   "execution_count": 30,
   "metadata": {},
   "outputs": [
    {
     "data": {
      "text/plain": [
       "0"
      ]
     },
     "execution_count": 30,
     "metadata": {},
     "output_type": "execute_result"
    }
   ],
   "source": [
    "dat.is_attributed.isnull().sum()"
   ]
  },
  {
   "cell_type": "code",
   "execution_count": 31,
   "metadata": {},
   "outputs": [
    {
     "name": "stdout",
     "output_type": "stream",
     "text": [
      "<class 'pandas.core.frame.DataFrame'>\n",
      "Int64Index: 261331864 entries, 0 to 57537504\n",
      "Data columns (total 9 columns):\n",
      "app                int64\n",
      "attributed_time    object\n",
      "channel            int64\n",
      "click_id           float64\n",
      "click_time         object\n",
      "device             int64\n",
      "ip                 int64\n",
      "is_attributed      float64\n",
      "os                 int64\n",
      "dtypes: float64(2), int64(5), object(2)\n",
      "memory usage: 24.5+ GB\n"
     ]
    }
   ],
   "source": [
    "dat.info()"
   ]
  },
  {
   "cell_type": "code",
   "execution_count": 19,
   "metadata": {},
   "outputs": [],
   "source": [
    "dtypes = {\n",
    "    'app': 'uint16',\n",
    "    'channel': 'uint16',\n",
    "    'click_id': 'uint32',\n",
    "    'device': 'uint16',\n",
    "    'ip': 'uint32',\n",
    "    'is_attributed': 'uint8',\n",
    "    'os': 'uint16'\n",
    "}"
   ]
  },
  {
   "cell_type": "code",
   "execution_count": 37,
   "metadata": {},
   "outputs": [
    {
     "data": {
      "text/html": [
       "<div>\n",
       "<style scoped>\n",
       "    .dataframe tbody tr th:only-of-type {\n",
       "        vertical-align: middle;\n",
       "    }\n",
       "\n",
       "    .dataframe tbody tr th {\n",
       "        vertical-align: top;\n",
       "    }\n",
       "\n",
       "    .dataframe thead th {\n",
       "        text-align: right;\n",
       "    }\n",
       "</style>\n",
       "<table border=\"1\" class=\"dataframe\">\n",
       "  <thead>\n",
       "    <tr style=\"text-align: right;\">\n",
       "      <th></th>\n",
       "      <th>app</th>\n",
       "      <th>attributed_time</th>\n",
       "      <th>channel</th>\n",
       "      <th>click_id</th>\n",
       "      <th>click_time</th>\n",
       "      <th>device</th>\n",
       "      <th>ip</th>\n",
       "      <th>is_attributed</th>\n",
       "      <th>os</th>\n",
       "    </tr>\n",
       "  </thead>\n",
       "  <tbody>\n",
       "    <tr>\n",
       "      <th>0</th>\n",
       "      <td>3</td>\n",
       "      <td>NaN</td>\n",
       "      <td>379</td>\n",
       "      <td>0</td>\n",
       "      <td>2017-11-06 14:32:21</td>\n",
       "      <td>1</td>\n",
       "      <td>83230</td>\n",
       "      <td>0</td>\n",
       "      <td>13</td>\n",
       "    </tr>\n",
       "    <tr>\n",
       "      <th>1</th>\n",
       "      <td>3</td>\n",
       "      <td>NaN</td>\n",
       "      <td>379</td>\n",
       "      <td>0</td>\n",
       "      <td>2017-11-06 14:33:34</td>\n",
       "      <td>1</td>\n",
       "      <td>17357</td>\n",
       "      <td>0</td>\n",
       "      <td>19</td>\n",
       "    </tr>\n",
       "    <tr>\n",
       "      <th>2</th>\n",
       "      <td>3</td>\n",
       "      <td>NaN</td>\n",
       "      <td>379</td>\n",
       "      <td>0</td>\n",
       "      <td>2017-11-06 14:34:12</td>\n",
       "      <td>1</td>\n",
       "      <td>35810</td>\n",
       "      <td>0</td>\n",
       "      <td>13</td>\n",
       "    </tr>\n",
       "    <tr>\n",
       "      <th>3</th>\n",
       "      <td>14</td>\n",
       "      <td>NaN</td>\n",
       "      <td>478</td>\n",
       "      <td>0</td>\n",
       "      <td>2017-11-06 14:34:52</td>\n",
       "      <td>1</td>\n",
       "      <td>45745</td>\n",
       "      <td>0</td>\n",
       "      <td>13</td>\n",
       "    </tr>\n",
       "    <tr>\n",
       "      <th>4</th>\n",
       "      <td>3</td>\n",
       "      <td>NaN</td>\n",
       "      <td>379</td>\n",
       "      <td>0</td>\n",
       "      <td>2017-11-06 14:35:08</td>\n",
       "      <td>1</td>\n",
       "      <td>161007</td>\n",
       "      <td>0</td>\n",
       "      <td>13</td>\n",
       "    </tr>\n",
       "    <tr>\n",
       "      <th>5</th>\n",
       "      <td>3</td>\n",
       "      <td>NaN</td>\n",
       "      <td>379</td>\n",
       "      <td>0</td>\n",
       "      <td>2017-11-06 14:36:26</td>\n",
       "      <td>1</td>\n",
       "      <td>18787</td>\n",
       "      <td>0</td>\n",
       "      <td>16</td>\n",
       "    </tr>\n",
       "    <tr>\n",
       "      <th>6</th>\n",
       "      <td>3</td>\n",
       "      <td>NaN</td>\n",
       "      <td>379</td>\n",
       "      <td>0</td>\n",
       "      <td>2017-11-06 14:37:44</td>\n",
       "      <td>1</td>\n",
       "      <td>103022</td>\n",
       "      <td>0</td>\n",
       "      <td>23</td>\n",
       "    </tr>\n",
       "    <tr>\n",
       "      <th>7</th>\n",
       "      <td>3</td>\n",
       "      <td>NaN</td>\n",
       "      <td>379</td>\n",
       "      <td>0</td>\n",
       "      <td>2017-11-06 14:37:59</td>\n",
       "      <td>1</td>\n",
       "      <td>114221</td>\n",
       "      <td>0</td>\n",
       "      <td>19</td>\n",
       "    </tr>\n",
       "    <tr>\n",
       "      <th>8</th>\n",
       "      <td>3</td>\n",
       "      <td>NaN</td>\n",
       "      <td>379</td>\n",
       "      <td>0</td>\n",
       "      <td>2017-11-06 14:38:10</td>\n",
       "      <td>1</td>\n",
       "      <td>165970</td>\n",
       "      <td>0</td>\n",
       "      <td>13</td>\n",
       "    </tr>\n",
       "    <tr>\n",
       "      <th>9</th>\n",
       "      <td>64</td>\n",
       "      <td>NaN</td>\n",
       "      <td>459</td>\n",
       "      <td>0</td>\n",
       "      <td>2017-11-06 14:38:23</td>\n",
       "      <td>1</td>\n",
       "      <td>74544</td>\n",
       "      <td>0</td>\n",
       "      <td>22</td>\n",
       "    </tr>\n",
       "    <tr>\n",
       "      <th>10</th>\n",
       "      <td>3</td>\n",
       "      <td>NaN</td>\n",
       "      <td>379</td>\n",
       "      <td>0</td>\n",
       "      <td>2017-11-06 14:38:27</td>\n",
       "      <td>1</td>\n",
       "      <td>172522</td>\n",
       "      <td>0</td>\n",
       "      <td>25</td>\n",
       "    </tr>\n",
       "    <tr>\n",
       "      <th>11</th>\n",
       "      <td>3</td>\n",
       "      <td>NaN</td>\n",
       "      <td>379</td>\n",
       "      <td>0</td>\n",
       "      <td>2017-11-06 14:38:51</td>\n",
       "      <td>1</td>\n",
       "      <td>105861</td>\n",
       "      <td>0</td>\n",
       "      <td>13</td>\n",
       "    </tr>\n",
       "    <tr>\n",
       "      <th>12</th>\n",
       "      <td>3</td>\n",
       "      <td>NaN</td>\n",
       "      <td>379</td>\n",
       "      <td>0</td>\n",
       "      <td>2017-11-06 14:39:29</td>\n",
       "      <td>1</td>\n",
       "      <td>210962</td>\n",
       "      <td>0</td>\n",
       "      <td>19</td>\n",
       "    </tr>\n",
       "    <tr>\n",
       "      <th>13</th>\n",
       "      <td>3</td>\n",
       "      <td>NaN</td>\n",
       "      <td>379</td>\n",
       "      <td>0</td>\n",
       "      <td>2017-11-06 14:40:16</td>\n",
       "      <td>1</td>\n",
       "      <td>124979</td>\n",
       "      <td>0</td>\n",
       "      <td>18</td>\n",
       "    </tr>\n",
       "    <tr>\n",
       "      <th>14</th>\n",
       "      <td>3</td>\n",
       "      <td>NaN</td>\n",
       "      <td>379</td>\n",
       "      <td>0</td>\n",
       "      <td>2017-11-06 14:40:39</td>\n",
       "      <td>1</td>\n",
       "      <td>38816</td>\n",
       "      <td>0</td>\n",
       "      <td>18</td>\n",
       "    </tr>\n",
       "    <tr>\n",
       "      <th>15</th>\n",
       "      <td>3</td>\n",
       "      <td>NaN</td>\n",
       "      <td>379</td>\n",
       "      <td>0</td>\n",
       "      <td>2017-11-06 14:40:51</td>\n",
       "      <td>1</td>\n",
       "      <td>80447</td>\n",
       "      <td>0</td>\n",
       "      <td>19</td>\n",
       "    </tr>\n",
       "    <tr>\n",
       "      <th>16</th>\n",
       "      <td>3</td>\n",
       "      <td>NaN</td>\n",
       "      <td>379</td>\n",
       "      <td>0</td>\n",
       "      <td>2017-11-06 14:43:10</td>\n",
       "      <td>1</td>\n",
       "      <td>134575</td>\n",
       "      <td>0</td>\n",
       "      <td>13</td>\n",
       "    </tr>\n",
       "    <tr>\n",
       "      <th>17</th>\n",
       "      <td>3</td>\n",
       "      <td>NaN</td>\n",
       "      <td>379</td>\n",
       "      <td>0</td>\n",
       "      <td>2017-11-06 14:43:14</td>\n",
       "      <td>1</td>\n",
       "      <td>57576</td>\n",
       "      <td>0</td>\n",
       "      <td>19</td>\n",
       "    </tr>\n",
       "    <tr>\n",
       "      <th>18</th>\n",
       "      <td>3</td>\n",
       "      <td>NaN</td>\n",
       "      <td>379</td>\n",
       "      <td>0</td>\n",
       "      <td>2017-11-06 14:43:25</td>\n",
       "      <td>1</td>\n",
       "      <td>7755</td>\n",
       "      <td>0</td>\n",
       "      <td>13</td>\n",
       "    </tr>\n",
       "    <tr>\n",
       "      <th>19</th>\n",
       "      <td>3</td>\n",
       "      <td>NaN</td>\n",
       "      <td>379</td>\n",
       "      <td>0</td>\n",
       "      <td>2017-11-06 14:43:51</td>\n",
       "      <td>1</td>\n",
       "      <td>91749</td>\n",
       "      <td>0</td>\n",
       "      <td>19</td>\n",
       "    </tr>\n",
       "    <tr>\n",
       "      <th>20</th>\n",
       "      <td>3</td>\n",
       "      <td>NaN</td>\n",
       "      <td>379</td>\n",
       "      <td>0</td>\n",
       "      <td>2017-11-06 14:44:02</td>\n",
       "      <td>1</td>\n",
       "      <td>50694</td>\n",
       "      <td>0</td>\n",
       "      <td>18</td>\n",
       "    </tr>\n",
       "    <tr>\n",
       "      <th>21</th>\n",
       "      <td>3</td>\n",
       "      <td>NaN</td>\n",
       "      <td>379</td>\n",
       "      <td>0</td>\n",
       "      <td>2017-11-06 14:44:15</td>\n",
       "      <td>1</td>\n",
       "      <td>111385</td>\n",
       "      <td>0</td>\n",
       "      <td>18</td>\n",
       "    </tr>\n",
       "    <tr>\n",
       "      <th>22</th>\n",
       "      <td>14</td>\n",
       "      <td>NaN</td>\n",
       "      <td>478</td>\n",
       "      <td>0</td>\n",
       "      <td>2017-11-06 14:44:51</td>\n",
       "      <td>1</td>\n",
       "      <td>125222</td>\n",
       "      <td>0</td>\n",
       "      <td>3</td>\n",
       "    </tr>\n",
       "    <tr>\n",
       "      <th>23</th>\n",
       "      <td>3</td>\n",
       "      <td>NaN</td>\n",
       "      <td>379</td>\n",
       "      <td>0</td>\n",
       "      <td>2017-11-06 14:44:51</td>\n",
       "      <td>1</td>\n",
       "      <td>191759</td>\n",
       "      <td>0</td>\n",
       "      <td>13</td>\n",
       "    </tr>\n",
       "    <tr>\n",
       "      <th>24</th>\n",
       "      <td>3</td>\n",
       "      <td>NaN</td>\n",
       "      <td>379</td>\n",
       "      <td>0</td>\n",
       "      <td>2017-11-06 14:44:52</td>\n",
       "      <td>1</td>\n",
       "      <td>53418</td>\n",
       "      <td>0</td>\n",
       "      <td>17</td>\n",
       "    </tr>\n",
       "    <tr>\n",
       "      <th>25</th>\n",
       "      <td>3</td>\n",
       "      <td>NaN</td>\n",
       "      <td>379</td>\n",
       "      <td>0</td>\n",
       "      <td>2017-11-06 14:47:49</td>\n",
       "      <td>1</td>\n",
       "      <td>183168</td>\n",
       "      <td>0</td>\n",
       "      <td>19</td>\n",
       "    </tr>\n",
       "    <tr>\n",
       "      <th>26</th>\n",
       "      <td>3</td>\n",
       "      <td>NaN</td>\n",
       "      <td>379</td>\n",
       "      <td>0</td>\n",
       "      <td>2017-11-06 14:48:07</td>\n",
       "      <td>1</td>\n",
       "      <td>47902</td>\n",
       "      <td>0</td>\n",
       "      <td>17</td>\n",
       "    </tr>\n",
       "    <tr>\n",
       "      <th>27</th>\n",
       "      <td>3</td>\n",
       "      <td>NaN</td>\n",
       "      <td>379</td>\n",
       "      <td>0</td>\n",
       "      <td>2017-11-06 14:48:55</td>\n",
       "      <td>1</td>\n",
       "      <td>209663</td>\n",
       "      <td>0</td>\n",
       "      <td>13</td>\n",
       "    </tr>\n",
       "    <tr>\n",
       "      <th>28</th>\n",
       "      <td>3</td>\n",
       "      <td>NaN</td>\n",
       "      <td>379</td>\n",
       "      <td>0</td>\n",
       "      <td>2017-11-06 14:49:36</td>\n",
       "      <td>1</td>\n",
       "      <td>129614</td>\n",
       "      <td>0</td>\n",
       "      <td>20</td>\n",
       "    </tr>\n",
       "    <tr>\n",
       "      <th>29</th>\n",
       "      <td>3</td>\n",
       "      <td>NaN</td>\n",
       "      <td>379</td>\n",
       "      <td>0</td>\n",
       "      <td>2017-11-06 14:49:38</td>\n",
       "      <td>1</td>\n",
       "      <td>208347</td>\n",
       "      <td>0</td>\n",
       "      <td>19</td>\n",
       "    </tr>\n",
       "    <tr>\n",
       "      <th>...</th>\n",
       "      <td>...</td>\n",
       "      <td>...</td>\n",
       "      <td>...</td>\n",
       "      <td>...</td>\n",
       "      <td>...</td>\n",
       "      <td>...</td>\n",
       "      <td>...</td>\n",
       "      <td>...</td>\n",
       "      <td>...</td>\n",
       "    </tr>\n",
       "    <tr>\n",
       "      <th>57537475</th>\n",
       "      <td>19</td>\n",
       "      <td>NaN</td>\n",
       "      <td>213</td>\n",
       "      <td>57537475</td>\n",
       "      <td>2017-11-10 16:00:00</td>\n",
       "      <td>0</td>\n",
       "      <td>82283</td>\n",
       "      <td>0</td>\n",
       "      <td>29</td>\n",
       "    </tr>\n",
       "    <tr>\n",
       "      <th>57537476</th>\n",
       "      <td>18</td>\n",
       "      <td>NaN</td>\n",
       "      <td>439</td>\n",
       "      <td>57537476</td>\n",
       "      <td>2017-11-10 16:00:00</td>\n",
       "      <td>2</td>\n",
       "      <td>5314</td>\n",
       "      <td>0</td>\n",
       "      <td>9</td>\n",
       "    </tr>\n",
       "    <tr>\n",
       "      <th>57537477</th>\n",
       "      <td>12</td>\n",
       "      <td>NaN</td>\n",
       "      <td>497</td>\n",
       "      <td>57537477</td>\n",
       "      <td>2017-11-10 16:00:00</td>\n",
       "      <td>1</td>\n",
       "      <td>117180</td>\n",
       "      <td>0</td>\n",
       "      <td>10</td>\n",
       "    </tr>\n",
       "    <tr>\n",
       "      <th>57537478</th>\n",
       "      <td>9</td>\n",
       "      <td>NaN</td>\n",
       "      <td>107</td>\n",
       "      <td>57537478</td>\n",
       "      <td>2017-11-10 16:00:00</td>\n",
       "      <td>1</td>\n",
       "      <td>4414</td>\n",
       "      <td>0</td>\n",
       "      <td>15</td>\n",
       "    </tr>\n",
       "    <tr>\n",
       "      <th>57537479</th>\n",
       "      <td>26</td>\n",
       "      <td>NaN</td>\n",
       "      <td>121</td>\n",
       "      <td>57537479</td>\n",
       "      <td>2017-11-10 16:00:00</td>\n",
       "      <td>1</td>\n",
       "      <td>113263</td>\n",
       "      <td>0</td>\n",
       "      <td>19</td>\n",
       "    </tr>\n",
       "    <tr>\n",
       "      <th>57537480</th>\n",
       "      <td>18</td>\n",
       "      <td>NaN</td>\n",
       "      <td>107</td>\n",
       "      <td>57537480</td>\n",
       "      <td>2017-11-10 16:00:00</td>\n",
       "      <td>1</td>\n",
       "      <td>5348</td>\n",
       "      <td>0</td>\n",
       "      <td>13</td>\n",
       "    </tr>\n",
       "    <tr>\n",
       "      <th>57537481</th>\n",
       "      <td>2</td>\n",
       "      <td>NaN</td>\n",
       "      <td>122</td>\n",
       "      <td>57537481</td>\n",
       "      <td>2017-11-10 16:00:00</td>\n",
       "      <td>1</td>\n",
       "      <td>69733</td>\n",
       "      <td>0</td>\n",
       "      <td>17</td>\n",
       "    </tr>\n",
       "    <tr>\n",
       "      <th>57537482</th>\n",
       "      <td>3</td>\n",
       "      <td>NaN</td>\n",
       "      <td>424</td>\n",
       "      <td>57537482</td>\n",
       "      <td>2017-11-10 16:00:00</td>\n",
       "      <td>1</td>\n",
       "      <td>100275</td>\n",
       "      <td>0</td>\n",
       "      <td>13</td>\n",
       "    </tr>\n",
       "    <tr>\n",
       "      <th>57537483</th>\n",
       "      <td>25</td>\n",
       "      <td>NaN</td>\n",
       "      <td>259</td>\n",
       "      <td>57537483</td>\n",
       "      <td>2017-11-10 16:00:00</td>\n",
       "      <td>1</td>\n",
       "      <td>77328</td>\n",
       "      <td>0</td>\n",
       "      <td>13</td>\n",
       "    </tr>\n",
       "    <tr>\n",
       "      <th>57537484</th>\n",
       "      <td>26</td>\n",
       "      <td>NaN</td>\n",
       "      <td>121</td>\n",
       "      <td>57537484</td>\n",
       "      <td>2017-11-10 16:00:00</td>\n",
       "      <td>1</td>\n",
       "      <td>103413</td>\n",
       "      <td>0</td>\n",
       "      <td>37</td>\n",
       "    </tr>\n",
       "    <tr>\n",
       "      <th>57537485</th>\n",
       "      <td>2</td>\n",
       "      <td>NaN</td>\n",
       "      <td>452</td>\n",
       "      <td>57537485</td>\n",
       "      <td>2017-11-10 16:00:00</td>\n",
       "      <td>1</td>\n",
       "      <td>99206</td>\n",
       "      <td>0</td>\n",
       "      <td>23</td>\n",
       "    </tr>\n",
       "    <tr>\n",
       "      <th>57537486</th>\n",
       "      <td>9</td>\n",
       "      <td>NaN</td>\n",
       "      <td>466</td>\n",
       "      <td>57537486</td>\n",
       "      <td>2017-11-10 16:00:00</td>\n",
       "      <td>1</td>\n",
       "      <td>17610</td>\n",
       "      <td>0</td>\n",
       "      <td>18</td>\n",
       "    </tr>\n",
       "    <tr>\n",
       "      <th>57537487</th>\n",
       "      <td>12</td>\n",
       "      <td>NaN</td>\n",
       "      <td>326</td>\n",
       "      <td>57537487</td>\n",
       "      <td>2017-11-10 16:00:00</td>\n",
       "      <td>1</td>\n",
       "      <td>73516</td>\n",
       "      <td>0</td>\n",
       "      <td>14</td>\n",
       "    </tr>\n",
       "    <tr>\n",
       "      <th>57537488</th>\n",
       "      <td>18</td>\n",
       "      <td>NaN</td>\n",
       "      <td>107</td>\n",
       "      <td>57537488</td>\n",
       "      <td>2017-11-10 16:00:00</td>\n",
       "      <td>1</td>\n",
       "      <td>10551</td>\n",
       "      <td>0</td>\n",
       "      <td>19</td>\n",
       "    </tr>\n",
       "    <tr>\n",
       "      <th>57537489</th>\n",
       "      <td>18</td>\n",
       "      <td>NaN</td>\n",
       "      <td>265</td>\n",
       "      <td>57537489</td>\n",
       "      <td>2017-11-10 16:00:00</td>\n",
       "      <td>1</td>\n",
       "      <td>118229</td>\n",
       "      <td>0</td>\n",
       "      <td>17</td>\n",
       "    </tr>\n",
       "    <tr>\n",
       "      <th>57537490</th>\n",
       "      <td>9</td>\n",
       "      <td>NaN</td>\n",
       "      <td>489</td>\n",
       "      <td>57537490</td>\n",
       "      <td>2017-11-10 16:00:00</td>\n",
       "      <td>1</td>\n",
       "      <td>105170</td>\n",
       "      <td>0</td>\n",
       "      <td>37</td>\n",
       "    </tr>\n",
       "    <tr>\n",
       "      <th>57537491</th>\n",
       "      <td>15</td>\n",
       "      <td>NaN</td>\n",
       "      <td>130</td>\n",
       "      <td>57537491</td>\n",
       "      <td>2017-11-10 16:00:00</td>\n",
       "      <td>1</td>\n",
       "      <td>25648</td>\n",
       "      <td>0</td>\n",
       "      <td>19</td>\n",
       "    </tr>\n",
       "    <tr>\n",
       "      <th>57537492</th>\n",
       "      <td>3</td>\n",
       "      <td>NaN</td>\n",
       "      <td>404</td>\n",
       "      <td>57537492</td>\n",
       "      <td>2017-11-10 16:00:00</td>\n",
       "      <td>5</td>\n",
       "      <td>15026</td>\n",
       "      <td>0</td>\n",
       "      <td>45</td>\n",
       "    </tr>\n",
       "    <tr>\n",
       "      <th>57537493</th>\n",
       "      <td>26</td>\n",
       "      <td>NaN</td>\n",
       "      <td>266</td>\n",
       "      <td>57537493</td>\n",
       "      <td>2017-11-10 16:00:00</td>\n",
       "      <td>1</td>\n",
       "      <td>89982</td>\n",
       "      <td>0</td>\n",
       "      <td>19</td>\n",
       "    </tr>\n",
       "    <tr>\n",
       "      <th>57537494</th>\n",
       "      <td>2</td>\n",
       "      <td>NaN</td>\n",
       "      <td>205</td>\n",
       "      <td>57537494</td>\n",
       "      <td>2017-11-10 16:00:00</td>\n",
       "      <td>1</td>\n",
       "      <td>25614</td>\n",
       "      <td>0</td>\n",
       "      <td>19</td>\n",
       "    </tr>\n",
       "    <tr>\n",
       "      <th>57537495</th>\n",
       "      <td>24</td>\n",
       "      <td>NaN</td>\n",
       "      <td>105</td>\n",
       "      <td>57537495</td>\n",
       "      <td>2017-11-10 16:00:00</td>\n",
       "      <td>2</td>\n",
       "      <td>49602</td>\n",
       "      <td>0</td>\n",
       "      <td>47</td>\n",
       "    </tr>\n",
       "    <tr>\n",
       "      <th>57537496</th>\n",
       "      <td>18</td>\n",
       "      <td>NaN</td>\n",
       "      <td>376</td>\n",
       "      <td>57537496</td>\n",
       "      <td>2017-11-10 16:00:00</td>\n",
       "      <td>1</td>\n",
       "      <td>65575</td>\n",
       "      <td>0</td>\n",
       "      <td>47</td>\n",
       "    </tr>\n",
       "    <tr>\n",
       "      <th>57537497</th>\n",
       "      <td>15</td>\n",
       "      <td>NaN</td>\n",
       "      <td>315</td>\n",
       "      <td>57537497</td>\n",
       "      <td>2017-11-10 16:00:00</td>\n",
       "      <td>2</td>\n",
       "      <td>72986</td>\n",
       "      <td>0</td>\n",
       "      <td>17</td>\n",
       "    </tr>\n",
       "    <tr>\n",
       "      <th>57537498</th>\n",
       "      <td>10</td>\n",
       "      <td>NaN</td>\n",
       "      <td>113</td>\n",
       "      <td>57537498</td>\n",
       "      <td>2017-11-10 16:00:00</td>\n",
       "      <td>1</td>\n",
       "      <td>90850</td>\n",
       "      <td>0</td>\n",
       "      <td>6</td>\n",
       "    </tr>\n",
       "    <tr>\n",
       "      <th>57537499</th>\n",
       "      <td>2</td>\n",
       "      <td>NaN</td>\n",
       "      <td>377</td>\n",
       "      <td>57537499</td>\n",
       "      <td>2017-11-10 16:00:00</td>\n",
       "      <td>1</td>\n",
       "      <td>25648</td>\n",
       "      <td>0</td>\n",
       "      <td>19</td>\n",
       "    </tr>\n",
       "    <tr>\n",
       "      <th>57537500</th>\n",
       "      <td>13</td>\n",
       "      <td>NaN</td>\n",
       "      <td>400</td>\n",
       "      <td>57537500</td>\n",
       "      <td>2017-11-10 16:00:00</td>\n",
       "      <td>1</td>\n",
       "      <td>49553</td>\n",
       "      <td>0</td>\n",
       "      <td>16</td>\n",
       "    </tr>\n",
       "    <tr>\n",
       "      <th>57537501</th>\n",
       "      <td>2</td>\n",
       "      <td>NaN</td>\n",
       "      <td>237</td>\n",
       "      <td>57537501</td>\n",
       "      <td>2017-11-10 16:00:00</td>\n",
       "      <td>1</td>\n",
       "      <td>63438</td>\n",
       "      <td>0</td>\n",
       "      <td>19</td>\n",
       "    </tr>\n",
       "    <tr>\n",
       "      <th>57537502</th>\n",
       "      <td>18</td>\n",
       "      <td>NaN</td>\n",
       "      <td>121</td>\n",
       "      <td>57537502</td>\n",
       "      <td>2017-11-10 16:00:00</td>\n",
       "      <td>1</td>\n",
       "      <td>111786</td>\n",
       "      <td>0</td>\n",
       "      <td>22</td>\n",
       "    </tr>\n",
       "    <tr>\n",
       "      <th>57537503</th>\n",
       "      <td>1</td>\n",
       "      <td>NaN</td>\n",
       "      <td>153</td>\n",
       "      <td>57537503</td>\n",
       "      <td>2017-11-10 16:00:00</td>\n",
       "      <td>1</td>\n",
       "      <td>56730</td>\n",
       "      <td>0</td>\n",
       "      <td>13</td>\n",
       "    </tr>\n",
       "    <tr>\n",
       "      <th>57537504</th>\n",
       "      <td>14</td>\n",
       "      <td>NaN</td>\n",
       "      <td>379</td>\n",
       "      <td>57537504</td>\n",
       "      <td>2017-11-10 16:00:00</td>\n",
       "      <td>1</td>\n",
       "      <td>25648</td>\n",
       "      <td>0</td>\n",
       "      <td>19</td>\n",
       "    </tr>\n",
       "  </tbody>\n",
       "</table>\n",
       "<p>261331864 rows × 9 columns</p>\n",
       "</div>"
      ],
      "text/plain": [
       "          app attributed_time  channel  click_id           click_time  device  \\\n",
       "0           3             NaN      379         0  2017-11-06 14:32:21       1   \n",
       "1           3             NaN      379         0  2017-11-06 14:33:34       1   \n",
       "2           3             NaN      379         0  2017-11-06 14:34:12       1   \n",
       "3          14             NaN      478         0  2017-11-06 14:34:52       1   \n",
       "4           3             NaN      379         0  2017-11-06 14:35:08       1   \n",
       "5           3             NaN      379         0  2017-11-06 14:36:26       1   \n",
       "6           3             NaN      379         0  2017-11-06 14:37:44       1   \n",
       "7           3             NaN      379         0  2017-11-06 14:37:59       1   \n",
       "8           3             NaN      379         0  2017-11-06 14:38:10       1   \n",
       "9          64             NaN      459         0  2017-11-06 14:38:23       1   \n",
       "10          3             NaN      379         0  2017-11-06 14:38:27       1   \n",
       "11          3             NaN      379         0  2017-11-06 14:38:51       1   \n",
       "12          3             NaN      379         0  2017-11-06 14:39:29       1   \n",
       "13          3             NaN      379         0  2017-11-06 14:40:16       1   \n",
       "14          3             NaN      379         0  2017-11-06 14:40:39       1   \n",
       "15          3             NaN      379         0  2017-11-06 14:40:51       1   \n",
       "16          3             NaN      379         0  2017-11-06 14:43:10       1   \n",
       "17          3             NaN      379         0  2017-11-06 14:43:14       1   \n",
       "18          3             NaN      379         0  2017-11-06 14:43:25       1   \n",
       "19          3             NaN      379         0  2017-11-06 14:43:51       1   \n",
       "20          3             NaN      379         0  2017-11-06 14:44:02       1   \n",
       "21          3             NaN      379         0  2017-11-06 14:44:15       1   \n",
       "22         14             NaN      478         0  2017-11-06 14:44:51       1   \n",
       "23          3             NaN      379         0  2017-11-06 14:44:51       1   \n",
       "24          3             NaN      379         0  2017-11-06 14:44:52       1   \n",
       "25          3             NaN      379         0  2017-11-06 14:47:49       1   \n",
       "26          3             NaN      379         0  2017-11-06 14:48:07       1   \n",
       "27          3             NaN      379         0  2017-11-06 14:48:55       1   \n",
       "28          3             NaN      379         0  2017-11-06 14:49:36       1   \n",
       "29          3             NaN      379         0  2017-11-06 14:49:38       1   \n",
       "...       ...             ...      ...       ...                  ...     ...   \n",
       "57537475   19             NaN      213  57537475  2017-11-10 16:00:00       0   \n",
       "57537476   18             NaN      439  57537476  2017-11-10 16:00:00       2   \n",
       "57537477   12             NaN      497  57537477  2017-11-10 16:00:00       1   \n",
       "57537478    9             NaN      107  57537478  2017-11-10 16:00:00       1   \n",
       "57537479   26             NaN      121  57537479  2017-11-10 16:00:00       1   \n",
       "57537480   18             NaN      107  57537480  2017-11-10 16:00:00       1   \n",
       "57537481    2             NaN      122  57537481  2017-11-10 16:00:00       1   \n",
       "57537482    3             NaN      424  57537482  2017-11-10 16:00:00       1   \n",
       "57537483   25             NaN      259  57537483  2017-11-10 16:00:00       1   \n",
       "57537484   26             NaN      121  57537484  2017-11-10 16:00:00       1   \n",
       "57537485    2             NaN      452  57537485  2017-11-10 16:00:00       1   \n",
       "57537486    9             NaN      466  57537486  2017-11-10 16:00:00       1   \n",
       "57537487   12             NaN      326  57537487  2017-11-10 16:00:00       1   \n",
       "57537488   18             NaN      107  57537488  2017-11-10 16:00:00       1   \n",
       "57537489   18             NaN      265  57537489  2017-11-10 16:00:00       1   \n",
       "57537490    9             NaN      489  57537490  2017-11-10 16:00:00       1   \n",
       "57537491   15             NaN      130  57537491  2017-11-10 16:00:00       1   \n",
       "57537492    3             NaN      404  57537492  2017-11-10 16:00:00       5   \n",
       "57537493   26             NaN      266  57537493  2017-11-10 16:00:00       1   \n",
       "57537494    2             NaN      205  57537494  2017-11-10 16:00:00       1   \n",
       "57537495   24             NaN      105  57537495  2017-11-10 16:00:00       2   \n",
       "57537496   18             NaN      376  57537496  2017-11-10 16:00:00       1   \n",
       "57537497   15             NaN      315  57537497  2017-11-10 16:00:00       2   \n",
       "57537498   10             NaN      113  57537498  2017-11-10 16:00:00       1   \n",
       "57537499    2             NaN      377  57537499  2017-11-10 16:00:00       1   \n",
       "57537500   13             NaN      400  57537500  2017-11-10 16:00:00       1   \n",
       "57537501    2             NaN      237  57537501  2017-11-10 16:00:00       1   \n",
       "57537502   18             NaN      121  57537502  2017-11-10 16:00:00       1   \n",
       "57537503    1             NaN      153  57537503  2017-11-10 16:00:00       1   \n",
       "57537504   14             NaN      379  57537504  2017-11-10 16:00:00       1   \n",
       "\n",
       "              ip  is_attributed  os  \n",
       "0          83230              0  13  \n",
       "1          17357              0  19  \n",
       "2          35810              0  13  \n",
       "3          45745              0  13  \n",
       "4         161007              0  13  \n",
       "5          18787              0  16  \n",
       "6         103022              0  23  \n",
       "7         114221              0  19  \n",
       "8         165970              0  13  \n",
       "9          74544              0  22  \n",
       "10        172522              0  25  \n",
       "11        105861              0  13  \n",
       "12        210962              0  19  \n",
       "13        124979              0  18  \n",
       "14         38816              0  18  \n",
       "15         80447              0  19  \n",
       "16        134575              0  13  \n",
       "17         57576              0  19  \n",
       "18          7755              0  13  \n",
       "19         91749              0  19  \n",
       "20         50694              0  18  \n",
       "21        111385              0  18  \n",
       "22        125222              0   3  \n",
       "23        191759              0  13  \n",
       "24         53418              0  17  \n",
       "25        183168              0  19  \n",
       "26         47902              0  17  \n",
       "27        209663              0  13  \n",
       "28        129614              0  20  \n",
       "29        208347              0  19  \n",
       "...          ...            ...  ..  \n",
       "57537475   82283              0  29  \n",
       "57537476    5314              0   9  \n",
       "57537477  117180              0  10  \n",
       "57537478    4414              0  15  \n",
       "57537479  113263              0  19  \n",
       "57537480    5348              0  13  \n",
       "57537481   69733              0  17  \n",
       "57537482  100275              0  13  \n",
       "57537483   77328              0  13  \n",
       "57537484  103413              0  37  \n",
       "57537485   99206              0  23  \n",
       "57537486   17610              0  18  \n",
       "57537487   73516              0  14  \n",
       "57537488   10551              0  19  \n",
       "57537489  118229              0  17  \n",
       "57537490  105170              0  37  \n",
       "57537491   25648              0  19  \n",
       "57537492   15026              0  45  \n",
       "57537493   89982              0  19  \n",
       "57537494   25614              0  19  \n",
       "57537495   49602              0  47  \n",
       "57537496   65575              0  47  \n",
       "57537497   72986              0  17  \n",
       "57537498   90850              0   6  \n",
       "57537499   25648              0  19  \n",
       "57537500   49553              0  16  \n",
       "57537501   63438              0  19  \n",
       "57537502  111786              0  22  \n",
       "57537503   56730              0  13  \n",
       "57537504   25648              0  19  \n",
       "\n",
       "[261331864 rows x 9 columns]"
      ]
     },
     "execution_count": 37,
     "metadata": {},
     "output_type": "execute_result"
    }
   ],
   "source": [
    "dat.astype(dtypes, inplace=True)"
   ]
  },
  {
   "cell_type": "code",
   "execution_count": 38,
   "metadata": {},
   "outputs": [],
   "source": [
    "dat = _"
   ]
  },
  {
   "cell_type": "code",
   "execution_count": 40,
   "metadata": {},
   "outputs": [
    {
     "data": {
      "text/plain": [
       "(261331864, 9)"
      ]
     },
     "execution_count": 40,
     "metadata": {},
     "output_type": "execute_result"
    }
   ],
   "source": [
    "dat.shape"
   ]
  },
  {
   "cell_type": "code",
   "execution_count": 41,
   "metadata": {},
   "outputs": [
    {
     "name": "stdout",
     "output_type": "stream",
     "text": [
      "<class 'pandas.core.frame.DataFrame'>\n",
      "Int64Index: 261331864 entries, 0 to 57537504\n",
      "Data columns (total 9 columns):\n",
      "app                uint16\n",
      "attributed_time    object\n",
      "channel            uint16\n",
      "click_id           uint32\n",
      "click_time         object\n",
      "device             uint16\n",
      "ip                 uint32\n",
      "is_attributed      uint8\n",
      "os                 uint16\n",
      "dtypes: object(2), uint16(4), uint32(2), uint8(1)\n",
      "memory usage: 15.0+ GB\n"
     ]
    }
   ],
   "source": [
    "dat.info()"
   ]
  },
  {
   "cell_type": "code",
   "execution_count": 33,
   "metadata": {},
   "outputs": [
    {
     "name": "stdout",
     "output_type": "stream",
     "text": [
      "dat\t dtypes\t pd\t test\t test_sample\t train\t train_sample\t \n"
     ]
    }
   ],
   "source": [
    "%who"
   ]
  },
  {
   "cell_type": "code",
   "execution_count": 34,
   "metadata": {},
   "outputs": [],
   "source": [
    "del test\n",
    "del test_sample\n",
    "del train\n",
    "del train_sample"
   ]
  },
  {
   "cell_type": "code",
   "execution_count": 35,
   "metadata": {},
   "outputs": [],
   "source": [
    "import gc"
   ]
  },
  {
   "cell_type": "code",
   "execution_count": 36,
   "metadata": {},
   "outputs": [
    {
     "data": {
      "text/plain": [
       "3658"
      ]
     },
     "execution_count": 36,
     "metadata": {},
     "output_type": "execute_result"
    }
   ],
   "source": [
    "gc.collect()"
   ]
  },
  {
   "cell_type": "code",
   "execution_count": null,
   "metadata": {},
   "outputs": [],
   "source": []
  }
 ],
 "metadata": {
  "kernelspec": {
   "display_name": "Python 3",
   "language": "python",
   "name": "python3"
  },
  "language_info": {
   "codemirror_mode": {
    "name": "ipython",
    "version": 3
   },
   "file_extension": ".py",
   "mimetype": "text/x-python",
   "name": "python",
   "nbconvert_exporter": "python",
   "pygments_lexer": "ipython3",
   "version": "3.6.5"
  }
 },
 "nbformat": 4,
 "nbformat_minor": 2
}
