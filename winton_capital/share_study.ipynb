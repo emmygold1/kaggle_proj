{
 "cells": [
  {
   "cell_type": "code",
   "execution_count": 1,
   "metadata": {
    "collapsed": true
   },
   "outputs": [],
   "source": [
    "%matplotlib inline\n",
    "import pandas as pd\n",
    "import matplotlib.pyplot as plt\n",
    "import numpy as np"
   ]
  },
  {
   "cell_type": "code",
   "execution_count": 43,
   "metadata": {
    "collapsed": true
   },
   "outputs": [],
   "source": [
    "pd.options.display.max_columns = 100"
   ]
  },
  {
   "cell_type": "code",
   "execution_count": 2,
   "metadata": {
    "collapsed": true
   },
   "outputs": [],
   "source": [
    "train_dat = pd.read_csv('train.csv')"
   ]
  },
  {
   "cell_type": "code",
   "execution_count": 28,
   "metadata": {
    "collapsed": false
   },
   "outputs": [
    {
     "data": {
      "text/plain": [
       "(40000, 211)"
      ]
     },
     "execution_count": 28,
     "metadata": {},
     "output_type": "execute_result"
    }
   ],
   "source": [
    "train_dat.shape"
   ]
  },
  {
   "cell_type": "code",
   "execution_count": 47,
   "metadata": {
    "collapsed": false
   },
   "outputs": [
    {
     "data": {
      "text/plain": [
       "Ret_63    True\n",
       "Ret_64    True\n",
       "Ret_65    True\n",
       "Ret_66    True\n",
       "Ret_67    True\n",
       "Ret_68    True\n",
       "Ret_69    True\n",
       "Ret_70    True\n",
       "Ret_71    True\n",
       "Ret_72    True\n",
       "Ret_73    True\n",
       "Ret_74    True\n",
       "Ret_75    True\n",
       "Ret_76    True\n",
       "Ret_77    True\n",
       "Ret_78    True\n",
       "Ret_79    True\n",
       "Ret_80    True\n",
       "Ret_81    True\n",
       "Ret_82    True\n",
       "Ret_83    True\n",
       "Ret_84    True\n",
       "Ret_85    True\n",
       "Ret_86    True\n",
       "Ret_87    True\n",
       "Ret_88    True\n",
       "Ret_89    True\n",
       "Ret_90    True\n",
       "Ret_91    True\n",
       "Ret_92    True\n",
       "Ret_93    True\n",
       "Ret_94    True\n",
       "dtype: bool"
      ]
     },
     "execution_count": 47,
     "metadata": {},
     "output_type": "execute_result"
    }
   ],
   "source": [
    "train_dat.loc[:, 'Ret_63':'Ret_94'].isnull().any()"
   ]
  },
  {
   "cell_type": "code",
   "execution_count": 52,
   "metadata": {
    "collapsed": false
   },
   "outputs": [
    {
     "data": {
      "text/plain": [
       "count    179.000000\n",
       "mean      -0.036473\n",
       "std        0.024329\n",
       "min       -0.184209\n",
       "25%       -0.043329\n",
       "50%       -0.029139\n",
       "75%       -0.020587\n",
       "max       -0.013109\n",
       "Name: min, dtype: float64"
      ]
     },
     "execution_count": 52,
     "metadata": {},
     "output_type": "execute_result"
    }
   ],
   "source": [
    "train_dat.loc[:, 'Ret_2':'Ret_180'].describe().loc['min', :].describe()"
   ]
  },
  {
   "cell_type": "code",
   "execution_count": 13,
   "metadata": {
    "collapsed": false
   },
   "outputs": [
    {
     "name": "stdout",
     "output_type": "stream",
     "text": [
      "Id\n",
      "\n",
      "Feature_1\n",
      "\n",
      "Feature_2\n",
      "\n",
      "Feature_3\n",
      "\n",
      "Feature_4\n",
      "\n",
      "Feature_5\n",
      "\n",
      "Feature_6\n",
      "\n",
      "Feature_7\n",
      "\n",
      "Feature_8\n",
      "\n",
      "Feature_9\n",
      "\n",
      "Feature_10\n",
      "\n",
      "Feature_11\n",
      "\n",
      "Feature_12\n",
      "\n",
      "Feature_13\n",
      "\n",
      "Feature_14\n",
      "\n",
      "Feature_15\n",
      "\n",
      "Feature_16\n",
      "\n",
      "Feature_17\n",
      "\n",
      "Feature_18\n",
      "\n",
      "Feature_19\n",
      "\n",
      "Feature_20\n",
      "\n",
      "Feature_21\n",
      "\n",
      "Feature_22\n",
      "\n",
      "Feature_23\n",
      "\n",
      "Feature_24\n",
      "\n",
      "Feature_25\n",
      "\n",
      "Ret_MinusTwo\n",
      "\n",
      "Ret_MinusOne\n",
      "\n",
      "Ret_2\n",
      "\n",
      "Ret_3\n",
      "\n",
      "Ret_4\n",
      "\n",
      "Ret_5\n",
      "\n",
      "Ret_6\n",
      "\n",
      "Ret_7\n",
      "\n",
      "Ret_8\n",
      "\n",
      "Ret_9\n",
      "\n",
      "Ret_10\n",
      "\n",
      "Ret_11\n",
      "\n",
      "Ret_12\n",
      "\n",
      "Ret_13\n",
      "\n",
      "Ret_14\n",
      "\n",
      "Ret_15\n",
      "\n",
      "Ret_16\n",
      "\n",
      "Ret_17\n",
      "\n",
      "Ret_18\n",
      "\n",
      "Ret_19\n",
      "\n",
      "Ret_20\n",
      "\n",
      "Ret_21\n",
      "\n",
      "Ret_22\n",
      "\n",
      "Ret_23\n",
      "\n",
      "Ret_24\n",
      "\n",
      "Ret_25\n",
      "\n",
      "Ret_26\n",
      "\n",
      "Ret_27\n",
      "\n",
      "Ret_28\n",
      "\n",
      "Ret_29\n",
      "\n",
      "Ret_30\n",
      "\n",
      "Ret_31\n",
      "\n",
      "Ret_32\n",
      "\n",
      "Ret_33\n",
      "\n",
      "Ret_34\n",
      "\n",
      "Ret_35\n",
      "\n",
      "Ret_36\n",
      "\n",
      "Ret_37\n",
      "\n",
      "Ret_38\n",
      "\n",
      "Ret_39\n",
      "\n",
      "Ret_40\n",
      "\n",
      "Ret_41\n",
      "\n",
      "Ret_42\n",
      "\n",
      "Ret_43\n",
      "\n",
      "Ret_44\n",
      "\n",
      "Ret_45\n",
      "\n",
      "Ret_46\n",
      "\n",
      "Ret_47\n",
      "\n",
      "Ret_48\n",
      "\n",
      "Ret_49\n",
      "\n",
      "Ret_50\n",
      "\n",
      "Ret_51\n",
      "\n",
      "Ret_52\n",
      "\n",
      "Ret_53\n",
      "\n",
      "Ret_54\n",
      "\n",
      "Ret_55\n",
      "\n",
      "Ret_56\n",
      "\n",
      "Ret_57\n",
      "\n",
      "Ret_58\n",
      "\n",
      "Ret_59\n",
      "\n",
      "Ret_60\n",
      "\n",
      "Ret_61\n",
      "\n",
      "Ret_62\n",
      "\n",
      "Ret_63\n",
      "\n",
      "Ret_64\n",
      "\n",
      "Ret_65\n",
      "\n",
      "Ret_66\n",
      "\n",
      "Ret_67\n",
      "\n",
      "Ret_68\n",
      "\n",
      "Ret_69\n",
      "\n",
      "Ret_70\n",
      "\n",
      "Ret_71\n",
      "\n",
      "Ret_72\n",
      "\n",
      "Ret_73\n",
      "\n",
      "Ret_74\n",
      "\n",
      "Ret_75\n",
      "\n",
      "Ret_76\n",
      "\n",
      "Ret_77\n",
      "\n",
      "Ret_78\n",
      "\n",
      "Ret_79\n",
      "\n",
      "Ret_80\n",
      "\n",
      "Ret_81\n",
      "\n",
      "Ret_82\n",
      "\n",
      "Ret_83\n",
      "\n",
      "Ret_84\n",
      "\n",
      "Ret_85\n",
      "\n",
      "Ret_86\n",
      "\n",
      "Ret_87\n",
      "\n",
      "Ret_88\n",
      "\n",
      "Ret_89\n",
      "\n",
      "Ret_90\n",
      "\n",
      "Ret_91\n",
      "\n",
      "Ret_92\n",
      "\n",
      "Ret_93\n",
      "\n",
      "Ret_94\n",
      "\n",
      "Ret_95\n",
      "\n",
      "Ret_96\n",
      "\n",
      "Ret_97\n",
      "\n",
      "Ret_98\n",
      "\n",
      "Ret_99\n",
      "\n",
      "Ret_100\n",
      "\n",
      "Ret_101\n",
      "\n",
      "Ret_102\n",
      "\n",
      "Ret_103\n",
      "\n",
      "Ret_104\n",
      "\n",
      "Ret_105\n",
      "\n",
      "Ret_106\n",
      "\n",
      "Ret_107\n",
      "\n",
      "Ret_108\n",
      "\n",
      "Ret_109\n",
      "\n",
      "Ret_110\n",
      "\n",
      "Ret_111\n",
      "\n",
      "Ret_112\n",
      "\n",
      "Ret_113\n",
      "\n",
      "Ret_114\n",
      "\n",
      "Ret_115\n",
      "\n",
      "Ret_116\n",
      "\n",
      "Ret_117\n",
      "\n",
      "Ret_118\n",
      "\n",
      "Ret_119\n",
      "\n",
      "Ret_120\n",
      "\n",
      "Ret_121\n",
      "\n",
      "Ret_122\n",
      "\n",
      "Ret_123\n",
      "\n",
      "Ret_124\n",
      "\n",
      "Ret_125\n",
      "\n",
      "Ret_126\n",
      "\n",
      "Ret_127\n",
      "\n",
      "Ret_128\n",
      "\n",
      "Ret_129\n",
      "\n",
      "Ret_130\n",
      "\n",
      "Ret_131\n",
      "\n",
      "Ret_132\n",
      "\n",
      "Ret_133\n",
      "\n",
      "Ret_134\n",
      "\n",
      "Ret_135\n",
      "\n",
      "Ret_136\n",
      "\n",
      "Ret_137\n",
      "\n",
      "Ret_138\n",
      "\n",
      "Ret_139\n",
      "\n",
      "Ret_140\n",
      "\n",
      "Ret_141\n",
      "\n",
      "Ret_142\n",
      "\n",
      "Ret_143\n",
      "\n",
      "Ret_144\n",
      "\n",
      "Ret_145\n",
      "\n",
      "Ret_146\n",
      "\n",
      "Ret_147\n",
      "\n",
      "Ret_148\n",
      "\n",
      "Ret_149\n",
      "\n",
      "Ret_150\n",
      "\n",
      "Ret_151\n",
      "\n",
      "Ret_152\n",
      "\n",
      "Ret_153\n",
      "\n",
      "Ret_154\n",
      "\n",
      "Ret_155\n",
      "\n",
      "Ret_156\n",
      "\n",
      "Ret_157\n",
      "\n",
      "Ret_158\n",
      "\n",
      "Ret_159\n",
      "\n",
      "Ret_160\n",
      "\n",
      "Ret_161\n",
      "\n",
      "Ret_162\n",
      "\n",
      "Ret_163\n",
      "\n",
      "Ret_164\n",
      "\n",
      "Ret_165\n",
      "\n",
      "Ret_166\n",
      "\n",
      "Ret_167\n",
      "\n",
      "Ret_168\n",
      "\n",
      "Ret_169\n",
      "\n",
      "Ret_170\n",
      "\n",
      "Ret_171\n",
      "\n",
      "Ret_172\n",
      "\n",
      "Ret_173\n",
      "\n",
      "Ret_174\n",
      "\n",
      "Ret_175\n",
      "\n",
      "Ret_176\n",
      "\n",
      "Ret_177\n",
      "\n",
      "Ret_178\n",
      "\n",
      "Ret_179\n",
      "\n",
      "Ret_180\n",
      "\n",
      "Ret_PlusOne\n",
      "\n",
      "Ret_PlusTwo\n",
      "\n",
      "Weight_Intraday\n",
      "\n",
      "Weight_Daily\n",
      "\n"
     ]
    }
   ],
   "source": [
    "for col in train_dat.columns:\n",
    "    print(col + '\\n')"
   ]
  },
  {
   "cell_type": "code",
   "execution_count": 23,
   "metadata": {
    "collapsed": false
   },
   "outputs": [
    {
     "data": {
      "text/plain": [
       "<matplotlib.axes._subplots.AxesSubplot at 0x10cd09518>"
      ]
     },
     "execution_count": 23,
     "metadata": {},
     "output_type": "execute_result"
    },
    {
     "data": {
      "image/png": "[encoded data removed]",
      "text/plain": [
       "<matplotlib.figure.Figure at 0x10d49a550>"
      ]
     },
     "metadata": {},
     "output_type": "display_data"
    }
   ],
   "source": [
    "train_dat.ix[0, 'Feature_1':'Feature_25'].plot(kind='line')"
   ]
  },
  {
   "cell_type": "code",
   "execution_count": 57,
   "metadata": {
    "collapsed": false
   },
   "outputs": [
    {
     "data": {
      "text/plain": [
       "<matplotlib.axes._subplots.AxesSubplot at 0x10efc9358>"
      ]
     },
     "execution_count": 57,
     "metadata": {},
     "output_type": "execute_result"
    },
    {
     "data": {
      "image/png": "[encoded data removed]",
      "text/plain": [
       "<matplotlib.figure.Figure at 0x10c1a9f60>"
      ]
     },
     "metadata": {},
     "output_type": "display_data"
    }
   ],
   "source": [
    "train_dat.ix[7, 'Ret_2':'Ret_180'].plot(kind='line')"
   ]
  },
  {
   "cell_type": "code",
   "execution_count": 56,
   "metadata": {
    "collapsed": false
   },
   "outputs": [
    {
     "data": {
      "text/plain": [
       "-0.008869828325822943"
      ]
     },
     "execution_count": 56,
     "metadata": {},
     "output_type": "execute_result"
    }
   ],
   "source": [
    "train_dat.Ret_2.corr(train_dat.Ret_129)"
   ]
  },
  {
   "cell_type": "code",
   "execution_count": 29,
   "metadata": {
    "collapsed": true
   },
   "outputs": [],
   "source": [
    "test_dat = pd.read_csv('test.csv')"
   ]
  },
  {
   "cell_type": "code",
   "execution_count": 30,
   "metadata": {
    "collapsed": false
   },
   "outputs": [
    {
     "data": {
      "text/plain": [
       "(60000, 147)"
      ]
     },
     "execution_count": 30,
     "metadata": {},
     "output_type": "execute_result"
    }
   ],
   "source": [
    "test_dat.shape"
   ]
  },
  {
   "cell_type": "code",
   "execution_count": 31,
   "metadata": {
    "collapsed": true
   },
   "outputs": [],
   "source": [
    "sub_dat = pd.read_csv('sample_submission.csv')"
   ]
  },
  {
   "cell_type": "code",
   "execution_count": 93,
   "metadata": {
    "collapsed": false
   },
   "outputs": [
    {
     "data": {
      "text/html": [
       "<div>\n",
       "<table border=\"1\" class=\"dataframe\">\n",
       "  <thead>\n",
       "    <tr style=\"text-align: right;\">\n",
       "      <th></th>\n",
       "      <th>Id</th>\n",
       "      <th>Predicted</th>\n",
       "    </tr>\n",
       "  </thead>\n",
       "  <tbody>\n",
       "    <tr>\n",
       "      <th>0</th>\n",
       "      <td>1_1</td>\n",
       "      <td>0</td>\n",
       "    </tr>\n",
       "    <tr>\n",
       "      <th>1</th>\n",
       "      <td>1_2</td>\n",
       "      <td>0</td>\n",
       "    </tr>\n",
       "    <tr>\n",
       "      <th>2</th>\n",
       "      <td>1_3</td>\n",
       "      <td>0</td>\n",
       "    </tr>\n",
       "    <tr>\n",
       "      <th>3</th>\n",
       "      <td>1_4</td>\n",
       "      <td>0</td>\n",
       "    </tr>\n",
       "    <tr>\n",
       "      <th>4</th>\n",
       "      <td>1_5</td>\n",
       "      <td>0</td>\n",
       "    </tr>\n",
       "    <tr>\n",
       "      <th>5</th>\n",
       "      <td>1_6</td>\n",
       "      <td>0</td>\n",
       "    </tr>\n",
       "    <tr>\n",
       "      <th>6</th>\n",
       "      <td>1_7</td>\n",
       "      <td>0</td>\n",
       "    </tr>\n",
       "    <tr>\n",
       "      <th>7</th>\n",
       "      <td>1_8</td>\n",
       "      <td>0</td>\n",
       "    </tr>\n",
       "    <tr>\n",
       "      <th>8</th>\n",
       "      <td>1_9</td>\n",
       "      <td>0</td>\n",
       "    </tr>\n",
       "    <tr>\n",
       "      <th>9</th>\n",
       "      <td>1_10</td>\n",
       "      <td>0</td>\n",
       "    </tr>\n",
       "  </tbody>\n",
       "</table>\n",
       "</div>"
      ],
      "text/plain": [
       "     Id  Predicted\n",
       "0   1_1          0\n",
       "1   1_2          0\n",
       "2   1_3          0\n",
       "3   1_4          0\n",
       "4   1_5          0\n",
       "5   1_6          0\n",
       "6   1_7          0\n",
       "7   1_8          0\n",
       "8   1_9          0\n",
       "9  1_10          0"
      ]
     },
     "execution_count": 93,
     "metadata": {},
     "output_type": "execute_result"
    }
   ],
   "source": [
    "sub_dat.head(10)"
   ]
  },
  {
   "cell_type": "code",
   "execution_count": 9,
   "metadata": {
    "collapsed": false
   },
   "outputs": [
    {
     "data": {
      "text/plain": [
       "3720000"
      ]
     },
     "execution_count": 9,
     "metadata": {},
     "output_type": "execute_result"
    }
   ],
   "source": [
    "sub_dat.Id.nunique()"
   ]
  },
  {
   "cell_type": "code",
   "execution_count": 26,
   "metadata": {
    "collapsed": false
   },
   "outputs": [
    {
     "data": {
      "text/plain": [
       "1"
      ]
     },
     "execution_count": 26,
     "metadata": {},
     "output_type": "execute_result"
    }
   ],
   "source": [
    "sub_dat.Predicted.nunique()"
   ]
  },
  {
   "cell_type": "code",
   "execution_count": 58,
   "metadata": {
    "collapsed": true
   },
   "outputs": [],
   "source": [
    "# first model linear regression\n",
    "from sklearn.linear_model import LinearRegression"
   ]
  },
  {
   "cell_type": "code",
   "execution_count": 59,
   "metadata": {
    "collapsed": true
   },
   "outputs": [],
   "source": [
    "lr = LinearRegression()"
   ]
  },
  {
   "cell_type": "code",
   "execution_count": 70,
   "metadata": {
    "collapsed": true
   },
   "outputs": [],
   "source": [
    "# fill na as 0\n",
    "train_dat.loc[:, 'Feature_1':'Ret_120'] = train_dat.loc[:, 'Feature_1':'Ret_120'].fillna(0)"
   ]
  },
  {
   "cell_type": "code",
   "execution_count": 71,
   "metadata": {
    "collapsed": true
   },
   "outputs": [],
   "source": [
    "lr_res = lr.fit(train_dat.loc[:, 'Feature_1':'Ret_120'], train_dat.loc[:, 'Ret_121':'Ret_PlusTwo'])"
   ]
  },
  {
   "cell_type": "code",
   "execution_count": 72,
   "metadata": {
    "collapsed": false
   },
   "outputs": [
    {
     "data": {
      "text/plain": [
       "(62, 146)"
      ]
     },
     "execution_count": 72,
     "metadata": {},
     "output_type": "execute_result"
    }
   ],
   "source": [
    "lr.coef_.shape"
   ]
  },
  {
   "cell_type": "code",
   "execution_count": 75,
   "metadata": {
    "collapsed": false
   },
   "outputs": [],
   "source": [
    "# fill na as 0\n",
    "test_dat.loc[:, 'Feature_1':'Ret_120'] = test_dat.loc[:, 'Feature_1':'Ret_120'].fillna(0)"
   ]
  },
  {
   "cell_type": "code",
   "execution_count": 76,
   "metadata": {
    "collapsed": true
   },
   "outputs": [],
   "source": [
    "pred = lr.predict(test_dat.loc[:, 'Feature_1':'Ret_120'])"
   ]
  },
  {
   "cell_type": "code",
   "execution_count": 78,
   "metadata": {
    "collapsed": false
   },
   "outputs": [
    {
     "data": {
      "text/plain": [
       "(60000, 62)"
      ]
     },
     "execution_count": 78,
     "metadata": {},
     "output_type": "execute_result"
    }
   ],
   "source": [
    "pred.shape"
   ]
  },
  {
   "cell_type": "code",
   "execution_count": 87,
   "metadata": {
    "collapsed": false
   },
   "outputs": [],
   "source": [
    "pred_flat = pred.flatten()"
   ]
  },
  {
   "cell_type": "code",
   "execution_count": 88,
   "metadata": {
    "collapsed": false
   },
   "outputs": [
    {
     "data": {
      "text/plain": [
       "(3720000,)"
      ]
     },
     "execution_count": 88,
     "metadata": {},
     "output_type": "execute_result"
    }
   ],
   "source": [
    "pred_flat.shape"
   ]
  },
  {
   "cell_type": "code",
   "execution_count": 89,
   "metadata": {
    "collapsed": false
   },
   "outputs": [],
   "source": [
    "indices = []\n",
    "for i in range(60000):\n",
    "    for j in range(62):\n",
    "        indices.append(str(i+1) + '_' + str(j+1))"
   ]
  },
  {
   "cell_type": "code",
   "execution_count": 91,
   "metadata": {
    "collapsed": false
   },
   "outputs": [],
   "source": [
    "res = pd.DataFrame({'Id': indices, 'Predicted': pred_flat})"
   ]
  },
  {
   "cell_type": "code",
   "execution_count": 92,
   "metadata": {
    "collapsed": false
   },
   "outputs": [
    {
     "data": {
      "text/html": [
       "<div>\n",
       "<table border=\"1\" class=\"dataframe\">\n",
       "  <thead>\n",
       "    <tr style=\"text-align: right;\">\n",
       "      <th></th>\n",
       "      <th>Id</th>\n",
       "      <th>Predicted</th>\n",
       "    </tr>\n",
       "  </thead>\n",
       "  <tbody>\n",
       "    <tr>\n",
       "      <th>0</th>\n",
       "      <td>1_1</td>\n",
       "      <td>-0.000121</td>\n",
       "    </tr>\n",
       "    <tr>\n",
       "      <th>1</th>\n",
       "      <td>1_2</td>\n",
       "      <td>0.000294</td>\n",
       "    </tr>\n",
       "    <tr>\n",
       "      <th>2</th>\n",
       "      <td>1_3</td>\n",
       "      <td>-0.000020</td>\n",
       "    </tr>\n",
       "    <tr>\n",
       "      <th>3</th>\n",
       "      <td>1_4</td>\n",
       "      <td>0.000278</td>\n",
       "    </tr>\n",
       "    <tr>\n",
       "      <th>4</th>\n",
       "      <td>1_5</td>\n",
       "      <td>0.000293</td>\n",
       "    </tr>\n",
       "  </tbody>\n",
       "</table>\n",
       "</div>"
      ],
      "text/plain": [
       "    Id  Predicted\n",
       "0  1_1  -0.000121\n",
       "1  1_2   0.000294\n",
       "2  1_3  -0.000020\n",
       "3  1_4   0.000278\n",
       "4  1_5   0.000293"
      ]
     },
     "execution_count": 92,
     "metadata": {},
     "output_type": "execute_result"
    }
   ],
   "source": [
    "res.head()"
   ]
  },
  {
   "cell_type": "code",
   "execution_count": 94,
   "metadata": {
    "collapsed": false
   },
   "outputs": [],
   "source": [
    "res.to_csv('sub1.csv', index=False)"
   ]
  },
  {
   "cell_type": "code",
   "execution_count": null,
   "metadata": {
    "collapsed": true
   },
   "outputs": [],
   "source": []
  }
 ],
 "metadata": {
  "kernelspec": {
   "display_name": "Python 3",
   "language": "python",
   "name": "python3"
  },
  "language_info": {
   "codemirror_mode": {
    "name": "ipython",
    "version": 3
   },
   "file_extension": ".py",
   "mimetype": "text/x-python",
   "name": "python",
   "nbconvert_exporter": "python",
   "pygments_lexer": "ipython3",
   "version": "3.4.3"
  }
 },
 "nbformat": 4,
 "nbformat_minor": 0
}
