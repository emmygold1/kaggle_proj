{
 "cells": [
  {
   "cell_type": "code",
   "execution_count": 1,
   "metadata": {
    "collapsed": true
   },
   "outputs": [],
   "source": [
    "%matplotlib inline\n",
    "import pandas as pd\n",
    "import numpy as np\n",
    "import glob\n",
    "import matplotlib.pyplot as plt\n",
    "from sklearn.cross_validation import cross_val_score\n",
    "from sklearn.linear_model import LogisticRegression\n",
    "from sklearn.ensemble import RandomForestClassifier, AdaBoostClassifier"
   ]
  },
  {
   "cell_type": "code",
   "execution_count": 2,
   "metadata": {
    "collapsed": true
   },
   "outputs": [],
   "source": [
    "filenames = glob.glob('Datathon*.csv')"
   ]
  },
  {
   "cell_type": "code",
   "execution_count": 3,
   "metadata": {
    "collapsed": false
   },
   "outputs": [
    {
     "name": "stdout",
     "output_type": "stream",
     "text": [
      "0\n",
      "1"
     ]
    },
    {
     "name": "stderr",
     "output_type": "stream",
     "text": [
      "/Users/feizhan/miniconda/envs/py3_env/lib/python3.4/site-packages/pandas/io/parsers.py:1170: DtypeWarning: Columns (16) have mixed types. Specify dtype option on import or set low_memory=False.\n",
      "  data = self._reader.read(nrows)\n",
      "/Users/feizhan/miniconda/envs/py3_env/lib/python3.4/site-packages/pandas/io/parsers.py:1170: DtypeWarning: Columns (14,16) have mixed types. Specify dtype option on import or set low_memory=False.\n",
      "  data = self._reader.read(nrows)\n"
     ]
    },
    {
     "name": "stdout",
     "output_type": "stream",
     "text": [
      "\n",
      "2\n",
      "3\n",
      "4\n"
     ]
    }
   ],
   "source": [
    "pre_dat = pd.DataFrame({})\n",
    "for ind, filename in enumerate(filenames):\n",
    "    print(ind)\n",
    "    tmp_dat = pd.read_csv(filename)\n",
    "    pre_dat = pre_dat.append(tmp_dat)    \n",
    "pre_dat.columns = ['BET_ID', 'BET_TRANS_ID', 'MATCH_BET_ID', 'ACCOUNT_ID',\n",
    "       'COUNTRY_OF_RESIDENCE_NAME', 'PARENT_EVENT_ID', 'EVENT_ID', 'MATCH',\n",
    "       'EVENT_NAME', 'EVENT_DT', 'OFF_DT', 'BID_TYP', 'STATUS_ID',\n",
    "       'PLACED_DATE', 'TAKEN_DATE', 'SETTLED_DATE', 'CANCELLED_DATE',\n",
    "       'SELECTION_NAME', 'PERSISTENCE_TYPE', 'BET_PRICE', 'PRICE_TAKEN',\n",
    "       'INPLAY_BET', 'BET_SIZE', 'PROFIT_LOSS']\n",
    "peek_dat = pd.read_csv('DSMDatathon_samplefile.txt', sep='\\t')\n",
    "pre_dat = peek_dat.append(pre_dat)"
   ]
  },
  {
   "cell_type": "code",
   "execution_count": 4,
   "metadata": {
    "collapsed": true
   },
   "outputs": [],
   "source": [
    "pre_dat.loc[:, 'BID_TYP'] = pre_dat.BID_TYP.str.strip(' ')\n",
    "pre_dat.loc[:, 'STATUS_ID'] = pre_dat.STATUS_ID.str.strip(' ')\n",
    "# correct the profit loss\n",
    "c1 = ((pre_dat.BID_TYP == 'B') & (pre_dat.PROFIT_LOSS > 0))\n",
    "c2 = ((pre_dat.BID_TYP == 'B') & (pre_dat.PROFIT_LOSS < 0))\n",
    "c3 = ((pre_dat.BID_TYP == 'L') & (pre_dat.PROFIT_LOSS > 0))\n",
    "c4 = ((pre_dat.BID_TYP == 'L') & (pre_dat.PROFIT_LOSS < 0))\n",
    "pre_dat.loc[c1.values, 'correct_profit_loss'] = pre_dat.loc[c1.values, 'BET_SIZE'] * (pre_dat.loc[c1.values, 'PRICE_TAKEN'] -1)\n",
    "pre_dat.loc[c2.values, 'correct_profit_loss'] = - pre_dat.loc[c2.values, 'BET_SIZE']\n",
    "pre_dat.loc[c3.values, 'correct_profit_loss'] = pre_dat.loc[c3.values, 'BET_SIZE']\n",
    "pre_dat.loc[c4.values, 'correct_profit_loss'] = - pre_dat.loc[c4.values, 'BET_SIZE'] * (pre_dat.loc[c4.values, 'PRICE_TAKEN'] -1)"
   ]
  },
  {
   "cell_type": "code",
   "execution_count": 6,
   "metadata": {
    "collapsed": false
   },
   "outputs": [],
   "source": [
    "pre_dat_by_account = pre_dat.groupby('ACCOUNT_ID')"
   ]
  },
  {
   "cell_type": "code",
   "execution_count": 7,
   "metadata": {
    "collapsed": true
   },
   "outputs": [],
   "source": [
    "is_profit = pre_dat_by_account['correct_profit_loss'].sum() > 0"
   ]
  },
  {
   "cell_type": "code",
   "execution_count": 10,
   "metadata": {
    "collapsed": false
   },
   "outputs": [],
   "source": [
    "# get profitting ids and non-profitting ids\n",
    "profit_ids = is_profit.loc[is_profit.values].index.tolist()\n",
    "non_profit_ids = is_profit.loc[~is_profit.values].index.tolist()"
   ]
  },
  {
   "cell_type": "code",
   "execution_count": 14,
   "metadata": {
    "collapsed": false
   },
   "outputs": [],
   "source": [
    "# separate their datset\n",
    "profit_id_dat = pre_dat.loc[pre_dat.ACCOUNT_ID.isin(profit_ids)]\n",
    "non_profit_id_dat = pre_dat.loc[pre_dat.ACCOUNT_ID.isin(non_profit_ids)]"
   ]
  },
  {
   "cell_type": "code",
   "execution_count": 18,
   "metadata": {
    "collapsed": false
   },
   "outputs": [],
   "source": [
    "profit_lay_price = profit_id_dat.loc[(profit_id_dat.BID_TYP == 'L').values, 'PRICE_TAKEN']\n",
    "non_profit_lay_price = non_profit_id_dat.loc[(non_profit_id_dat.BID_TYP == 'L').values, 'PRICE_TAKEN']"
   ]
  },
  {
   "cell_type": "code",
   "execution_count": 21,
   "metadata": {
    "collapsed": false
   },
   "outputs": [
    {
     "data": {
      "text/plain": [
       "count    783727.000000\n",
       "mean          5.667872\n",
       "std          35.820739\n",
       "min           1.010000\n",
       "25%           1.180000\n",
       "50%           1.400000\n",
       "75%           1.780000\n",
       "max        1000.000000\n",
       "Name: PRICE_TAKEN, dtype: float64"
      ]
     },
     "execution_count": 21,
     "metadata": {},
     "output_type": "execute_result"
    }
   ],
   "source": [
    "profit_lay_price.describe()"
   ]
  },
  {
   "cell_type": "code",
   "execution_count": 22,
   "metadata": {
    "collapsed": false
   },
   "outputs": [
    {
     "data": {
      "text/plain": [
       "count    625824.000000\n",
       "mean          4.882091\n",
       "std          34.788893\n",
       "min           1.010000\n",
       "25%           1.150000\n",
       "50%           1.320000\n",
       "75%           1.610000\n",
       "max        1000.000000\n",
       "Name: PRICE_TAKEN, dtype: float64"
      ]
     },
     "execution_count": 22,
     "metadata": {},
     "output_type": "execute_result"
    }
   ],
   "source": [
    "non_profit_lay_price.describe()"
   ]
  },
  {
   "cell_type": "code",
   "execution_count": 23,
   "metadata": {
    "collapsed": true
   },
   "outputs": [],
   "source": [
    "profit_back_price = profit_id_dat.loc[(profit_id_dat.BID_TYP == 'B').values, 'PRICE_TAKEN']\n",
    "non_profit_back_price = non_profit_id_dat.loc[(non_profit_id_dat.BID_TYP == 'B').values, 'PRICE_TAKEN']"
   ]
  },
  {
   "cell_type": "code",
   "execution_count": 24,
   "metadata": {
    "collapsed": false
   },
   "outputs": [
    {
     "data": {
      "text/plain": [
       "count    792946.000000\n",
       "mean          4.868061\n",
       "std          32.434172\n",
       "min           1.010000\n",
       "25%           1.160000\n",
       "50%           1.340000\n",
       "75%           1.680000\n",
       "max        1000.000000\n",
       "Name: PRICE_TAKEN, dtype: float64"
      ]
     },
     "execution_count": 24,
     "metadata": {},
     "output_type": "execute_result"
    }
   ],
   "source": [
    "profit_back_price.describe()"
   ]
  },
  {
   "cell_type": "code",
   "execution_count": 25,
   "metadata": {
    "collapsed": false
   },
   "outputs": [
    {
     "data": {
      "text/plain": [
       "count    628337.000000\n",
       "mean          5.806731\n",
       "std          38.550121\n",
       "min           1.010000\n",
       "25%           1.180000\n",
       "50%           1.380000\n",
       "75%           1.710000\n",
       "max        1000.000000\n",
       "Name: PRICE_TAKEN, dtype: float64"
      ]
     },
     "execution_count": 25,
     "metadata": {},
     "output_type": "execute_result"
    }
   ],
   "source": [
    "non_profit_back_price.describe()"
   ]
  },
  {
   "cell_type": "code",
   "execution_count": null,
   "metadata": {
    "collapsed": true
   },
   "outputs": [],
   "source": []
  }
 ],
 "metadata": {
  "kernelspec": {
   "display_name": "Python 3",
   "language": "python",
   "name": "python3"
  },
  "language_info": {
   "codemirror_mode": {
    "name": "ipython",
    "version": 3
   },
   "file_extension": ".py",
   "mimetype": "text/x-python",
   "name": "python",
   "nbconvert_exporter": "python",
   "pygments_lexer": "ipython3",
   "version": "3.4.3"
  }
 },
 "nbformat": 4,
 "nbformat_minor": 0
}
