{
 "cells": [
  {
   "cell_type": "code",
   "execution_count": 1,
   "metadata": {
    "collapsed": true
   },
   "outputs": [],
   "source": [
    "%matplotlib inline\n",
    "import pandas as pd\n",
    "import numpy as np\n",
    "import glob\n",
    "import matplotlib.pyplot as plt\n",
    "from sklearn.cross_validation import cross_val_score\n",
    "from sklearn.linear_model import LogisticRegression, BayesianRidge\n",
    "from sklearn.ensemble import RandomForestClassifier, AdaBoostClassifier, RandomForestRegressor\n",
    "from sklearn.metrics import mean_absolute_error"
   ]
  },
  {
   "cell_type": "code",
   "execution_count": 2,
   "metadata": {
    "collapsed": true
   },
   "outputs": [],
   "source": [
    "filenames = glob.glob('Datathon*.csv')"
   ]
  },
  {
   "cell_type": "code",
   "execution_count": 3,
   "metadata": {
    "collapsed": false
   },
   "outputs": [
    {
     "name": "stdout",
     "output_type": "stream",
     "text": [
      "0\n",
      "1"
     ]
    },
    {
     "name": "stderr",
     "output_type": "stream",
     "text": [
      "/Users/feizhan/miniconda/envs/py3_env/lib/python3.4/site-packages/pandas/io/parsers.py:1170: DtypeWarning: Columns (16) have mixed types. Specify dtype option on import or set low_memory=False.\n",
      "  data = self._reader.read(nrows)\n",
      "/Users/feizhan/miniconda/envs/py3_env/lib/python3.4/site-packages/pandas/io/parsers.py:1170: DtypeWarning: Columns (14,16) have mixed types. Specify dtype option on import or set low_memory=False.\n",
      "  data = self._reader.read(nrows)\n"
     ]
    },
    {
     "name": "stdout",
     "output_type": "stream",
     "text": [
      "\n",
      "2\n",
      "3\n",
      "4\n"
     ]
    }
   ],
   "source": [
    "pre_dat = pd.DataFrame({})\n",
    "for ind, filename in enumerate(filenames):\n",
    "    print(ind)\n",
    "    tmp_dat = pd.read_csv(filename)\n",
    "    pre_dat = pre_dat.append(tmp_dat)    \n",
    "pre_dat.columns = ['BET_ID', 'BET_TRANS_ID', 'MATCH_BET_ID', 'ACCOUNT_ID',\n",
    "       'COUNTRY_OF_RESIDENCE_NAME', 'PARENT_EVENT_ID', 'EVENT_ID', 'MATCH',\n",
    "       'EVENT_NAME', 'EVENT_DT', 'OFF_DT', 'BID_TYP', 'STATUS_ID',\n",
    "       'PLACED_DATE', 'TAKEN_DATE', 'SETTLED_DATE', 'CANCELLED_DATE',\n",
    "       'SELECTION_NAME', 'PERSISTENCE_TYPE', 'BET_PRICE', 'PRICE_TAKEN',\n",
    "       'INPLAY_BET', 'BET_SIZE', 'PROFIT_LOSS']\n",
    "peek_dat = pd.read_csv('DSMDatathon_samplefile.txt', sep='\\t')\n",
    "pre_dat = peek_dat.append(pre_dat)"
   ]
  },
  {
   "cell_type": "code",
   "execution_count": 4,
   "metadata": {
    "collapsed": true
   },
   "outputs": [],
   "source": [
    "pre_dat.loc[:, 'BID_TYP'] = pre_dat.BID_TYP.str.strip(' ')\n",
    "pre_dat.loc[:, 'STATUS_ID'] = pre_dat.STATUS_ID.str.strip(' ')\n",
    "# correct the profit loss\n",
    "c1 = ((pre_dat.BID_TYP == 'B') & (pre_dat.PROFIT_LOSS > 0))\n",
    "c2 = ((pre_dat.BID_TYP == 'B') & (pre_dat.PROFIT_LOSS < 0))\n",
    "c3 = ((pre_dat.BID_TYP == 'L') & (pre_dat.PROFIT_LOSS > 0))\n",
    "c4 = ((pre_dat.BID_TYP == 'L') & (pre_dat.PROFIT_LOSS < 0))\n",
    "pre_dat.loc[c1.values, 'correct_profit_loss'] = pre_dat.loc[c1.values, 'BET_SIZE'] * (pre_dat.loc[c1.values, 'PRICE_TAKEN'] -1)\n",
    "pre_dat.loc[c2.values, 'correct_profit_loss'] = - pre_dat.loc[c2.values, 'BET_SIZE']\n",
    "pre_dat.loc[c3.values, 'correct_profit_loss'] = pre_dat.loc[c3.values, 'BET_SIZE']\n",
    "pre_dat.loc[c4.values, 'correct_profit_loss'] = - pre_dat.loc[c4.values, 'BET_SIZE'] * (pre_dat.loc[c4.values, 'PRICE_TAKEN'] -1)"
   ]
  },
  {
   "cell_type": "code",
   "execution_count": 5,
   "metadata": {
    "collapsed": true
   },
   "outputs": [],
   "source": [
    "pre_dat = pre_dat.fillna(0)"
   ]
  },
  {
   "cell_type": "code",
   "execution_count": 6,
   "metadata": {
    "collapsed": true
   },
   "outputs": [],
   "source": [
    "submit = pd.read_csv('sample_submission_bet_size.csv')\n",
    "submit.columns = ['ACCOUNT_ID', 'Prediction']"
   ]
  },
  {
   "cell_type": "code",
   "execution_count": 8,
   "metadata": {
    "collapsed": false
   },
   "outputs": [],
   "source": [
    "pre_dat = pre_dat.loc[(pre_dat.ACCOUNT_ID.isin(submit.ACCOUNT_ID)).values]"
   ]
  },
  {
   "cell_type": "code",
   "execution_count": 9,
   "metadata": {
    "collapsed": true
   },
   "outputs": [],
   "source": [
    "pre_dat_by_account = pre_dat.groupby('ACCOUNT_ID')\n",
    "prefit_rate = pre_dat_by_account['correct_profit_loss'].sum() / pre_dat_by_account['BET_SIZE'].sum()\n",
    "prefit_rate = prefit_rate.loc[submit.ACCOUNT_ID.tolist()]\n",
    "prefit_rate = prefit_rate.fillna(prefit_rate.min())\n",
    "prefit_rate = prefit_rate.reset_index()\n",
    "prefit_rate.columns = submit.columns"
   ]
  },
  {
   "cell_type": "code",
   "execution_count": 10,
   "metadata": {
    "collapsed": true
   },
   "outputs": [],
   "source": []
  },
  {
   "cell_type": "code",
   "execution_count": 11,
   "metadata": {
    "collapsed": false
   },
   "outputs": [
    {
     "data": {
      "text/plain": [
       "ACCOUNT_ID\n",
       "1000002    0.020570\n",
       "1000004   -0.128825\n",
       "1000005   -0.014578\n",
       "1000010   -0.021432\n",
       "1000014    0.500000\n",
       "dtype: float64"
      ]
     },
     "execution_count": 11,
     "metadata": {},
     "output_type": "execute_result"
    }
   ],
   "source": [
    "prefit_rate.head()"
   ]
  },
  {
   "cell_type": "code",
   "execution_count": 13,
   "metadata": {
    "collapsed": false
   },
   "outputs": [],
   "source": []
  },
  {
   "cell_type": "code",
   "execution_count": 14,
   "metadata": {
    "collapsed": false
   },
   "outputs": [
    {
     "data": {
      "text/plain": [
       "(7374,)"
      ]
     },
     "execution_count": 14,
     "metadata": {},
     "output_type": "execute_result"
    }
   ],
   "source": [
    "prefit_rate.shape"
   ]
  },
  {
   "cell_type": "code",
   "execution_count": 15,
   "metadata": {
    "collapsed": true
   },
   "outputs": [],
   "source": []
  },
  {
   "cell_type": "code",
   "execution_count": 16,
   "metadata": {
    "collapsed": true
   },
   "outputs": [],
   "source": [
    "prefit_rate.name = 'Prediction'"
   ]
  },
  {
   "cell_type": "code",
   "execution_count": 17,
   "metadata": {
    "collapsed": true
   },
   "outputs": [],
   "source": []
  },
  {
   "cell_type": "code",
   "execution_count": 19,
   "metadata": {
    "collapsed": false
   },
   "outputs": [],
   "source": []
  },
  {
   "cell_type": "code",
   "execution_count": 20,
   "metadata": {
    "collapsed": false
   },
   "outputs": [
    {
     "data": {
      "text/html": [
       "<div>\n",
       "<table border=\"1\" class=\"dataframe\">\n",
       "  <thead>\n",
       "    <tr style=\"text-align: right;\">\n",
       "      <th></th>\n",
       "      <th>ACCOUNT_ID</th>\n",
       "      <th>Prediction</th>\n",
       "    </tr>\n",
       "  </thead>\n",
       "  <tbody>\n",
       "    <tr>\n",
       "      <th>0</th>\n",
       "      <td>1004240</td>\n",
       "      <td>-0.005224</td>\n",
       "    </tr>\n",
       "    <tr>\n",
       "      <th>1</th>\n",
       "      <td>1009742</td>\n",
       "      <td>0.005226</td>\n",
       "    </tr>\n",
       "    <tr>\n",
       "      <th>2</th>\n",
       "      <td>1003908</td>\n",
       "      <td>0.003733</td>\n",
       "    </tr>\n",
       "    <tr>\n",
       "      <th>3</th>\n",
       "      <td>1020888</td>\n",
       "      <td>-0.470000</td>\n",
       "    </tr>\n",
       "    <tr>\n",
       "      <th>4</th>\n",
       "      <td>1010074</td>\n",
       "      <td>-0.140000</td>\n",
       "    </tr>\n",
       "  </tbody>\n",
       "</table>\n",
       "</div>"
      ],
      "text/plain": [
       "   ACCOUNT_ID  Prediction\n",
       "0     1004240   -0.005224\n",
       "1     1009742    0.005226\n",
       "2     1003908    0.003733\n",
       "3     1020888   -0.470000\n",
       "4     1010074   -0.140000"
      ]
     },
     "execution_count": 20,
     "metadata": {},
     "output_type": "execute_result"
    }
   ],
   "source": [
    "prefit_rate.head()"
   ]
  },
  {
   "cell_type": "code",
   "execution_count": 21,
   "metadata": {
    "collapsed": true
   },
   "outputs": [],
   "source": [
    "prefit_rate.to_csv('profit_rate_with_cancel.csv', index=False)"
   ]
  },
  {
   "cell_type": "code",
   "execution_count": 22,
   "metadata": {
    "collapsed": true
   },
   "outputs": [],
   "source": [
    "four_team_pre_dat = pre_dat.loc[(pre_dat.MATCH.str.contains('Australia') | pre_dat.MATCH.str.contains('New Zealand') | pre_dat.MATCH.str.contains('India') |pre_dat.MATCH.str.contains('South Africa')).values]"
   ]
  },
  {
   "cell_type": "code",
   "execution_count": 36,
   "metadata": {
    "collapsed": false
   },
   "outputs": [
    {
     "data": {
      "text/html": [
       "<div>\n",
       "<table border=\"1\" class=\"dataframe\">\n",
       "  <thead>\n",
       "    <tr style=\"text-align: right;\">\n",
       "      <th></th>\n",
       "      <th>BET_ID</th>\n",
       "      <th>BET_TRANS_ID</th>\n",
       "      <th>MATCH_BET_ID</th>\n",
       "      <th>ACCOUNT_ID</th>\n",
       "      <th>COUNTRY_OF_RESIDENCE_NAME</th>\n",
       "      <th>PARENT_EVENT_ID</th>\n",
       "      <th>EVENT_ID</th>\n",
       "      <th>MATCH</th>\n",
       "      <th>EVENT_NAME</th>\n",
       "      <th>EVENT_DT</th>\n",
       "      <th>...</th>\n",
       "      <th>SETTLED_DATE</th>\n",
       "      <th>CANCELLED_DATE</th>\n",
       "      <th>SELECTION_NAME</th>\n",
       "      <th>PERSISTENCE_TYPE</th>\n",
       "      <th>BET_PRICE</th>\n",
       "      <th>PRICE_TAKEN</th>\n",
       "      <th>INPLAY_BET</th>\n",
       "      <th>BET_SIZE</th>\n",
       "      <th>PROFIT_LOSS</th>\n",
       "      <th>correct_profit_loss</th>\n",
       "    </tr>\n",
       "  </thead>\n",
       "  <tbody>\n",
       "    <tr>\n",
       "      <th>19539</th>\n",
       "      <td>4748017907</td>\n",
       "      <td>5890112019</td>\n",
       "      <td>4748018137</td>\n",
       "      <td>1000819</td>\n",
       "      <td>United Kingdom</td>\n",
       "      <td>27327747</td>\n",
       "      <td>101092958</td>\n",
       "      <td>New Zealand v Sri Lanka</td>\n",
       "      <td>Match Odds</td>\n",
       "      <td>13/02/2015 22:00</td>\n",
       "      <td>...</td>\n",
       "      <td>14/02/2015 5:51</td>\n",
       "      <td>0</td>\n",
       "      <td>Sri Lanka</td>\n",
       "      <td>0</td>\n",
       "      <td>4.80</td>\n",
       "      <td>4.80</td>\n",
       "      <td>Y</td>\n",
       "      <td>77.133008</td>\n",
       "      <td>-77.133008</td>\n",
       "      <td>-77.133008</td>\n",
       "    </tr>\n",
       "    <tr>\n",
       "      <th>0</th>\n",
       "      <td>4755948997</td>\n",
       "      <td>5899638727</td>\n",
       "      <td>4755952732</td>\n",
       "      <td>1009306</td>\n",
       "      <td>UAE</td>\n",
       "      <td>27327749</td>\n",
       "      <td>101093076</td>\n",
       "      <td>India v Pakistan</td>\n",
       "      <td>Match Odds</td>\n",
       "      <td>15/02/2015 3:30:00 AM</td>\n",
       "      <td>...</td>\n",
       "      <td>15/02/2015 11:28:54 AM</td>\n",
       "      <td>0</td>\n",
       "      <td>India</td>\n",
       "      <td>0</td>\n",
       "      <td>1.61</td>\n",
       "      <td>1.61</td>\n",
       "      <td>Y</td>\n",
       "      <td>257.526603</td>\n",
       "      <td>-102.007575</td>\n",
       "      <td>-157.091228</td>\n",
       "    </tr>\n",
       "    <tr>\n",
       "      <th>1</th>\n",
       "      <td>4755948997</td>\n",
       "      <td>5899639259</td>\n",
       "      <td>4755953131</td>\n",
       "      <td>1009306</td>\n",
       "      <td>UAE</td>\n",
       "      <td>27327749</td>\n",
       "      <td>101093076</td>\n",
       "      <td>India v Pakistan</td>\n",
       "      <td>Match Odds</td>\n",
       "      <td>15/02/2015 3:30:00 AM</td>\n",
       "      <td>...</td>\n",
       "      <td>15/02/2015 11:28:54 AM</td>\n",
       "      <td>0</td>\n",
       "      <td>India</td>\n",
       "      <td>0</td>\n",
       "      <td>1.61</td>\n",
       "      <td>1.61</td>\n",
       "      <td>Y</td>\n",
       "      <td>386.289904</td>\n",
       "      <td>-153.014581</td>\n",
       "      <td>-235.636841</td>\n",
       "    </tr>\n",
       "    <tr>\n",
       "      <th>2</th>\n",
       "      <td>4755948997</td>\n",
       "      <td>5899635908</td>\n",
       "      <td>4755950405</td>\n",
       "      <td>1009306</td>\n",
       "      <td>UAE</td>\n",
       "      <td>27327749</td>\n",
       "      <td>101093076</td>\n",
       "      <td>India v Pakistan</td>\n",
       "      <td>Match Odds</td>\n",
       "      <td>15/02/2015 3:30:00 AM</td>\n",
       "      <td>...</td>\n",
       "      <td>15/02/2015 11:28:54 AM</td>\n",
       "      <td>0</td>\n",
       "      <td>India</td>\n",
       "      <td>0</td>\n",
       "      <td>1.61</td>\n",
       "      <td>1.61</td>\n",
       "      <td>Y</td>\n",
       "      <td>25.752660</td>\n",
       "      <td>-10.203204</td>\n",
       "      <td>-15.709123</td>\n",
       "    </tr>\n",
       "    <tr>\n",
       "      <th>3</th>\n",
       "      <td>4755948997</td>\n",
       "      <td>5899637522</td>\n",
       "      <td>4755951701</td>\n",
       "      <td>1009306</td>\n",
       "      <td>UAE</td>\n",
       "      <td>27327749</td>\n",
       "      <td>101093076</td>\n",
       "      <td>India v Pakistan</td>\n",
       "      <td>Match Odds</td>\n",
       "      <td>15/02/2015 3:30:00 AM</td>\n",
       "      <td>...</td>\n",
       "      <td>15/02/2015 11:28:54 AM</td>\n",
       "      <td>0</td>\n",
       "      <td>India</td>\n",
       "      <td>0</td>\n",
       "      <td>1.61</td>\n",
       "      <td>1.61</td>\n",
       "      <td>Y</td>\n",
       "      <td>321.908253</td>\n",
       "      <td>-127.510434</td>\n",
       "      <td>-196.364035</td>\n",
       "    </tr>\n",
       "  </tbody>\n",
       "</table>\n",
       "<p>5 rows × 25 columns</p>\n",
       "</div>"
      ],
      "text/plain": [
       "           BET_ID  BET_TRANS_ID  MATCH_BET_ID  ACCOUNT_ID  \\\n",
       "19539  4748017907    5890112019    4748018137     1000819   \n",
       "0      4755948997    5899638727    4755952732     1009306   \n",
       "1      4755948997    5899639259    4755953131     1009306   \n",
       "2      4755948997    5899635908    4755950405     1009306   \n",
       "3      4755948997    5899637522    4755951701     1009306   \n",
       "\n",
       "      COUNTRY_OF_RESIDENCE_NAME  PARENT_EVENT_ID   EVENT_ID  \\\n",
       "19539            United Kingdom         27327747  101092958   \n",
       "0                           UAE         27327749  101093076   \n",
       "1                           UAE         27327749  101093076   \n",
       "2                           UAE         27327749  101093076   \n",
       "3                           UAE         27327749  101093076   \n",
       "\n",
       "                         MATCH  EVENT_NAME               EVENT_DT  \\\n",
       "19539  New Zealand v Sri Lanka  Match Odds       13/02/2015 22:00   \n",
       "0             India v Pakistan  Match Odds  15/02/2015 3:30:00 AM   \n",
       "1             India v Pakistan  Match Odds  15/02/2015 3:30:00 AM   \n",
       "2             India v Pakistan  Match Odds  15/02/2015 3:30:00 AM   \n",
       "3             India v Pakistan  Match Odds  15/02/2015 3:30:00 AM   \n",
       "\n",
       "              ...                     SETTLED_DATE CANCELLED_DATE  \\\n",
       "19539         ...                  14/02/2015 5:51              0   \n",
       "0             ...           15/02/2015 11:28:54 AM              0   \n",
       "1             ...           15/02/2015 11:28:54 AM              0   \n",
       "2             ...           15/02/2015 11:28:54 AM              0   \n",
       "3             ...           15/02/2015 11:28:54 AM              0   \n",
       "\n",
       "      SELECTION_NAME PERSISTENCE_TYPE BET_PRICE PRICE_TAKEN INPLAY_BET  \\\n",
       "19539      Sri Lanka                0      4.80        4.80          Y   \n",
       "0              India                0      1.61        1.61          Y   \n",
       "1              India                0      1.61        1.61          Y   \n",
       "2              India                0      1.61        1.61          Y   \n",
       "3              India                0      1.61        1.61          Y   \n",
       "\n",
       "         BET_SIZE PROFIT_LOSS  correct_profit_loss  \n",
       "19539   77.133008  -77.133008           -77.133008  \n",
       "0      257.526603 -102.007575          -157.091228  \n",
       "1      386.289904 -153.014581          -235.636841  \n",
       "2       25.752660  -10.203204           -15.709123  \n",
       "3      321.908253 -127.510434          -196.364035  \n",
       "\n",
       "[5 rows x 25 columns]"
      ]
     },
     "execution_count": 36,
     "metadata": {},
     "output_type": "execute_result"
    }
   ],
   "source": [
    "four_team_pre_dat.head()"
   ]
  },
  {
   "cell_type": "code",
   "execution_count": 24,
   "metadata": {
    "collapsed": false
   },
   "outputs": [
    {
     "data": {
      "text/plain": [
       "(1202603, 25)"
      ]
     },
     "execution_count": 24,
     "metadata": {},
     "output_type": "execute_result"
    }
   ],
   "source": [
    "four_team_pre_dat.shape"
   ]
  },
  {
   "cell_type": "code",
   "execution_count": 44,
   "metadata": {
    "collapsed": true
   },
   "outputs": [],
   "source": [
    "four_team_pre_dat_by_account = four_team_pre_dat.groupby('ACCOUNT_ID')\n",
    "four_team_prefit_rate = four_team_pre_dat_by_account['correct_profit_loss'].sum() / four_team_pre_dat_by_account['BET_SIZE'].sum()\n",
    "four_team_prefit_rate = four_team_prefit_rate.loc[submit.ACCOUNT_ID.tolist()]\n",
    "four_team_prefit_rate = four_team_prefit_rate.fillna(four_team_prefit_rate.min())\n",
    "four_team_prefit_rate = four_team_prefit_rate.reset_index()\n",
    "four_team_prefit_rate.columns = ['Account_ID', 'Prediction']"
   ]
  },
  {
   "cell_type": "code",
   "execution_count": 45,
   "metadata": {
    "collapsed": false
   },
   "outputs": [
    {
     "data": {
      "text/html": [
       "<div>\n",
       "<table border=\"1\" class=\"dataframe\">\n",
       "  <thead>\n",
       "    <tr style=\"text-align: right;\">\n",
       "      <th></th>\n",
       "      <th>Account_ID</th>\n",
       "      <th>Prediction</th>\n",
       "    </tr>\n",
       "  </thead>\n",
       "  <tbody>\n",
       "    <tr>\n",
       "      <th>0</th>\n",
       "      <td>1004240</td>\n",
       "      <td>0.002931</td>\n",
       "    </tr>\n",
       "    <tr>\n",
       "      <th>1</th>\n",
       "      <td>1009742</td>\n",
       "      <td>0.012451</td>\n",
       "    </tr>\n",
       "    <tr>\n",
       "      <th>2</th>\n",
       "      <td>1003908</td>\n",
       "      <td>0.001878</td>\n",
       "    </tr>\n",
       "    <tr>\n",
       "      <th>3</th>\n",
       "      <td>1020888</td>\n",
       "      <td>-0.470000</td>\n",
       "    </tr>\n",
       "    <tr>\n",
       "      <th>4</th>\n",
       "      <td>1010074</td>\n",
       "      <td>-0.140000</td>\n",
       "    </tr>\n",
       "  </tbody>\n",
       "</table>\n",
       "</div>"
      ],
      "text/plain": [
       "   Account_ID  Prediction\n",
       "0     1004240    0.002931\n",
       "1     1009742    0.012451\n",
       "2     1003908    0.001878\n",
       "3     1020888   -0.470000\n",
       "4     1010074   -0.140000"
      ]
     },
     "execution_count": 45,
     "metadata": {},
     "output_type": "execute_result"
    }
   ],
   "source": [
    "four_team_prefit_rate.head()"
   ]
  },
  {
   "cell_type": "code",
   "execution_count": 47,
   "metadata": {
    "collapsed": true
   },
   "outputs": [],
   "source": [
    "four_team_prefit_rate.to_csv('four_team_profit_rate_with_cancel.csv', index=False)"
   ]
  },
  {
   "cell_type": "code",
   "execution_count": 48,
   "metadata": {
    "collapsed": false
   },
   "outputs": [
    {
     "data": {
      "text/plain": [
       "Account_ID    False\n",
       "Prediction    False\n",
       "dtype: bool"
      ]
     },
     "execution_count": 48,
     "metadata": {},
     "output_type": "execute_result"
    }
   ],
   "source": [
    "four_team_prefit_rate.isnull().any()"
   ]
  },
  {
   "cell_type": "code",
   "execution_count": 31,
   "metadata": {
    "collapsed": false
   },
   "outputs": [
    {
     "data": {
      "text/plain": [
       "(7374, 2)"
      ]
     },
     "execution_count": 31,
     "metadata": {},
     "output_type": "execute_result"
    }
   ],
   "source": [
    "submit.shape"
   ]
  },
  {
   "cell_type": "code",
   "execution_count": 54,
   "metadata": {
    "collapsed": true
   },
   "outputs": [],
   "source": [
    "four_team_pre_dat = four_team_pre_dat.loc[(four_team_pre_dat.STATUS_ID == 'S').values]\n",
    "four_team_pre_dat_by_account = four_team_pre_dat.groupby('ACCOUNT_ID')\n",
    "four_team_prefit_rate = four_team_pre_dat_by_account['correct_profit_loss'].sum() / four_team_pre_dat_by_account['BET_SIZE'].sum()\n",
    "four_team_prefit_rate = four_team_prefit_rate.loc[submit.ACCOUNT_ID.tolist()]\n",
    "four_team_prefit_rate = four_team_prefit_rate.fillna(four_team_prefit_rate.min())\n",
    "four_team_prefit_rate = four_team_prefit_rate.reset_index()\n",
    "four_team_prefit_rate.columns = ['Account_ID', 'Prediction']"
   ]
  },
  {
   "cell_type": "code",
   "execution_count": 55,
   "metadata": {
    "collapsed": false
   },
   "outputs": [
    {
     "data": {
      "text/plain": [
       "(7374, 2)"
      ]
     },
     "execution_count": 55,
     "metadata": {},
     "output_type": "execute_result"
    }
   ],
   "source": [
    "four_team_prefit_rate.shape"
   ]
  },
  {
   "cell_type": "code",
   "execution_count": 56,
   "metadata": {
    "collapsed": true
   },
   "outputs": [],
   "source": [
    "four_team_prefit_rate.to_csv('four_team_profit_rate_without_cancel.csv', index=False)"
   ]
  },
  {
   "cell_type": "code",
   "execution_count": 53,
   "metadata": {
    "collapsed": false
   },
   "outputs": [
    {
     "data": {
      "text/plain": [
       "S    971679\n",
       "dtype: int64"
      ]
     },
     "execution_count": 53,
     "metadata": {},
     "output_type": "execute_result"
    }
   ],
   "source": [
    "four_team_pre_dat.STATUS_ID.value_counts()"
   ]
  },
  {
   "cell_type": "code",
   "execution_count": 58,
   "metadata": {
    "collapsed": false
   },
   "outputs": [],
   "source": [
    "four_team_pre_dat = four_team_pre_dat.loc[(four_team_pre_dat.STATUS_ID == 'S').values]\n",
    "four_team_pre_dat_by_account = four_team_pre_dat.groupby('ACCOUNT_ID')\n",
    "four_team_prefit_rate = four_team_pre_dat_by_account['correct_profit_loss'].sum()\n",
    "four_team_prefit_rate = four_team_prefit_rate.loc[submit.ACCOUNT_ID.tolist()]\n",
    "four_team_prefit_rate = four_team_prefit_rate.fillna(four_team_prefit_rate.min())\n",
    "four_team_prefit_rate = four_team_prefit_rate.reset_index()\n",
    "four_team_prefit_rate.columns = ['Account_ID', 'Prediction']"
   ]
  },
  {
   "cell_type": "code",
   "execution_count": 59,
   "metadata": {
    "collapsed": true
   },
   "outputs": [],
   "source": [
    "four_team_prefit_rate.to_csv('four_team_profit_without_cancel.csv', index=False)"
   ]
  },
  {
   "cell_type": "code",
   "execution_count": 62,
   "metadata": {
    "collapsed": false
   },
   "outputs": [
    {
     "data": {
      "text/plain": [
       "(7374, 2)"
      ]
     },
     "execution_count": 62,
     "metadata": {},
     "output_type": "execute_result"
    }
   ],
   "source": [
    "four_team_prefit_rate.shape"
   ]
  },
  {
   "cell_type": "code",
   "execution_count": null,
   "metadata": {
    "collapsed": true
   },
   "outputs": [],
   "source": []
  }
 ],
 "metadata": {
  "kernelspec": {
   "display_name": "Python 3",
   "language": "python",
   "name": "python3"
  },
  "language_info": {
   "codemirror_mode": {
    "name": "ipython",
    "version": 3
   },
   "file_extension": ".py",
   "mimetype": "text/x-python",
   "name": "python",
   "nbconvert_exporter": "python",
   "pygments_lexer": "ipython3",
   "version": "3.4.3"
  }
 },
 "nbformat": 4,
 "nbformat_minor": 0
}
