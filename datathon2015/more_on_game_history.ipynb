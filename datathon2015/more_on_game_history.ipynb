{
 "cells": [
  {
   "cell_type": "code",
   "execution_count": 251,
   "metadata": {
    "collapsed": true
   },
   "outputs": [],
   "source": [
    "%matplotlib inline\n",
    "import pandas as pd\n",
    "import numpy as np\n",
    "import glob\n",
    "import matplotlib.pyplot as plt\n",
    "from sklearn.cross_validation import cross_val_score\n",
    "from sklearn.linear_model import LogisticRegression, BayesianRidge\n",
    "from sklearn.ensemble import RandomForestClassifier, AdaBoostClassifier, RandomForestRegressor\n",
    "from sklearn.metrics import mean_absolute_error, roc_auc_score"
   ]
  },
  {
   "cell_type": "code",
   "execution_count": 252,
   "metadata": {
    "collapsed": true
   },
   "outputs": [],
   "source": [
    "filenames = glob.glob('Datathon*.csv')"
   ]
  },
  {
   "cell_type": "code",
   "execution_count": 279,
   "metadata": {
    "collapsed": false
   },
   "outputs": [
    {
     "name": "stdout",
     "output_type": "stream",
     "text": [
      "0\n",
      "1"
     ]
    },
    {
     "name": "stderr",
     "output_type": "stream",
     "text": [
      "/Users/feizhan/miniconda/envs/py3_env/lib/python3.4/site-packages/pandas/io/parsers.py:1170: DtypeWarning: Columns (16) have mixed types. Specify dtype option on import or set low_memory=False.\n",
      "  data = self._reader.read(nrows)\n",
      "/Users/feizhan/miniconda/envs/py3_env/lib/python3.4/site-packages/pandas/io/parsers.py:1170: DtypeWarning: Columns (14,16) have mixed types. Specify dtype option on import or set low_memory=False.\n",
      "  data = self._reader.read(nrows)\n"
     ]
    },
    {
     "name": "stdout",
     "output_type": "stream",
     "text": [
      "\n",
      "2\n",
      "3\n",
      "4\n"
     ]
    }
   ],
   "source": [
    "pre_dat = pd.DataFrame({})\n",
    "for ind, filename in enumerate(filenames):\n",
    "    print(ind)\n",
    "    tmp_dat = pd.read_csv(filename)\n",
    "    pre_dat = pre_dat.append(tmp_dat)    \n",
    "pre_dat.columns = ['BET_ID', 'BET_TRANS_ID', 'MATCH_BET_ID', 'ACCOUNT_ID',\n",
    "       'COUNTRY_OF_RESIDENCE_NAME', 'PARENT_EVENT_ID', 'EVENT_ID', 'MATCH',\n",
    "       'EVENT_NAME', 'EVENT_DT', 'OFF_DT', 'BID_TYP', 'STATUS_ID',\n",
    "       'PLACED_DATE', 'TAKEN_DATE', 'SETTLED_DATE', 'CANCELLED_DATE',\n",
    "       'SELECTION_NAME', 'PERSISTENCE_TYPE', 'BET_PRICE', 'PRICE_TAKEN',\n",
    "       'INPLAY_BET', 'BET_SIZE', 'PROFIT_LOSS']\n",
    "peek_dat = pd.read_csv('DSMDatathon_samplefile.txt', sep='\\t')\n",
    "pre_dat = peek_dat.append(pre_dat)"
   ]
  },
  {
   "cell_type": "code",
   "execution_count": 280,
   "metadata": {
    "collapsed": true
   },
   "outputs": [],
   "source": [
    "pre_dat.loc[:, 'BID_TYP'] = pre_dat.BID_TYP.str.strip(' ')\n",
    "pre_dat.loc[:, 'STATUS_ID'] = pre_dat.STATUS_ID.str.strip(' ')"
   ]
  },
  {
   "cell_type": "code",
   "execution_count": 264,
   "metadata": {
    "collapsed": true
   },
   "outputs": [],
   "source": [
    "# correct the profit loss\n",
    "c1 = ((pre_dat.BID_TYP == 'B') & (pre_dat.PROFIT_LOSS > 0))\n",
    "c2 = ((pre_dat.BID_TYP == 'B') & (pre_dat.PROFIT_LOSS < 0))\n",
    "c3 = ((pre_dat.BID_TYP == 'L') & (pre_dat.PROFIT_LOSS > 0))\n",
    "c4 = ((pre_dat.BID_TYP == 'L') & (pre_dat.PROFIT_LOSS < 0))\n",
    "pre_dat.loc[c1.values, 'correct_profit_loss'] = pre_dat.loc[c1.values, 'BET_SIZE'] * (pre_dat.loc[c1.values, 'PRICE_TAKEN'] -1)\n",
    "pre_dat.loc[c2.values, 'correct_profit_loss'] = - pre_dat.loc[c2.values, 'BET_SIZE']\n",
    "pre_dat.loc[c3.values, 'correct_profit_loss'] = pre_dat.loc[c3.values, 'BET_SIZE']\n",
    "pre_dat.loc[c4.values, 'correct_profit_loss'] = - pre_dat.loc[c4.values, 'BET_SIZE'] * (pre_dat.loc[c4.values, 'PRICE_TAKEN'] -1)"
   ]
  },
  {
   "cell_type": "code",
   "execution_count": 5,
   "metadata": {
    "collapsed": true
   },
   "outputs": [],
   "source": [
    "submit = pd.read_csv('sample_submission_bet_size.csv')\n",
    "submit.columns = ['ACCOUNT_ID', 'Prediction']"
   ]
  },
  {
   "cell_type": "code",
   "execution_count": 6,
   "metadata": {
    "collapsed": true
   },
   "outputs": [],
   "source": [
    "pre_dat = pre_dat.loc[(pre_dat.ACCOUNT_ID.isin(submit.ACCOUNT_ID)).values]"
   ]
  },
  {
   "cell_type": "code",
   "execution_count": 281,
   "metadata": {
    "collapsed": true
   },
   "outputs": [],
   "source": [
    "pre_dat = pre_dat.loc[(pre_dat.STATUS_ID == 'S').values]"
   ]
  },
  {
   "cell_type": "code",
   "execution_count": 266,
   "metadata": {
    "collapsed": false
   },
   "outputs": [
    {
     "data": {
      "text/plain": [
       "2886479.6750997272"
      ]
     },
     "execution_count": 266,
     "metadata": {},
     "output_type": "execute_result"
    }
   ],
   "source": [
    "pre_dat.correct_profit_loss.sum()"
   ]
  },
  {
   "cell_type": "code",
   "execution_count": 269,
   "metadata": {
    "collapsed": false
   },
   "outputs": [
    {
     "data": {
      "text/plain": [
       "1802972.7825382631"
      ]
     },
     "execution_count": 269,
     "metadata": {},
     "output_type": "execute_result"
    }
   ],
   "source": [
    "pre_dat.loc[(pre_dat.EVENT_ID == 101092958).values, 'PROFIT_LOSS'].sum()"
   ]
  },
  {
   "cell_type": "code",
   "execution_count": 267,
   "metadata": {
    "collapsed": false
   },
   "outputs": [
    {
     "data": {
      "text/plain": [
       "101092958    23691\n",
       "dtype: int64"
      ]
     },
     "execution_count": 267,
     "metadata": {},
     "output_type": "execute_result"
    }
   ],
   "source": [
    "peek_dat.EVENT_ID.value_counts()"
   ]
  },
  {
   "cell_type": "code",
   "execution_count": 256,
   "metadata": {
    "collapsed": false
   },
   "outputs": [
    {
     "data": {
      "text/plain": [
       "1001"
      ]
     },
     "execution_count": 256,
     "metadata": {},
     "output_type": "execute_result"
    }
   ],
   "source": [
    "submit.loc[~submit.ACCOUNT_ID.isin(pre_dat.ACCOUNT_ID), 'ACCOUNT_ID'].nunique()"
   ]
  },
  {
   "cell_type": "code",
   "execution_count": 8,
   "metadata": {
    "collapsed": true
   },
   "outputs": [],
   "source": [
    "pre_dat_by_account_event = pre_dat.groupby(['ACCOUNT_ID', 'EVENT_ID'])"
   ]
  },
  {
   "cell_type": "code",
   "execution_count": 9,
   "metadata": {
    "collapsed": false
   },
   "outputs": [],
   "source": [
    "win_loss = pre_dat_by_account_event['correct_profit_loss'].sum()"
   ]
  },
  {
   "cell_type": "code",
   "execution_count": 15,
   "metadata": {
    "collapsed": false
   },
   "outputs": [],
   "source": [
    "win_loss1 = win_loss > 0"
   ]
  },
  {
   "cell_type": "code",
   "execution_count": 16,
   "metadata": {
    "collapsed": true
   },
   "outputs": [],
   "source": [
    "maps = {True: 1, False: -1.5}"
   ]
  },
  {
   "cell_type": "code",
   "execution_count": 17,
   "metadata": {
    "collapsed": true
   },
   "outputs": [],
   "source": [
    "win_loss1 = win_loss1.map(maps)"
   ]
  },
  {
   "cell_type": "code",
   "execution_count": 18,
   "metadata": {
    "collapsed": false
   },
   "outputs": [
    {
     "data": {
      "text/plain": [
       "ACCOUNT_ID  EVENT_ID \n",
       "1000002     101093076   -1.5\n",
       "            101093312   -1.5\n",
       "            101128387    1.0\n",
       "            101149398   -1.5\n",
       "            101149516   -1.5\n",
       "Name: correct_profit_loss, dtype: float64"
      ]
     },
     "execution_count": 18,
     "metadata": {},
     "output_type": "execute_result"
    }
   ],
   "source": [
    "win_loss1.head()"
   ]
  },
  {
   "cell_type": "code",
   "execution_count": 20,
   "metadata": {
    "collapsed": true
   },
   "outputs": [],
   "source": [
    "win_loss1_by_account = win_loss1.groupby(level=0)"
   ]
  },
  {
   "cell_type": "code",
   "execution_count": 21,
   "metadata": {
    "collapsed": true
   },
   "outputs": [],
   "source": [
    "win_loss2 = win_loss1_by_account.sum()"
   ]
  },
  {
   "cell_type": "code",
   "execution_count": 22,
   "metadata": {
    "collapsed": false
   },
   "outputs": [],
   "source": [
    "win_loss2 = win_loss2.loc[submit.ACCOUNT_ID.tolist()]"
   ]
  },
  {
   "cell_type": "code",
   "execution_count": 23,
   "metadata": {
    "collapsed": false
   },
   "outputs": [
    {
     "data": {
      "text/plain": [
       "ACCOUNT_ID\n",
       "1004240    -6.5\n",
       "1009742    10.0\n",
       "1003908     2.0\n",
       "1020888    -1.5\n",
       "1010074    -1.5\n",
       "Name: correct_profit_loss, dtype: float64"
      ]
     },
     "execution_count": 23,
     "metadata": {},
     "output_type": "execute_result"
    }
   ],
   "source": [
    "win_loss2.head()"
   ]
  },
  {
   "cell_type": "code",
   "execution_count": 24,
   "metadata": {
    "collapsed": false
   },
   "outputs": [
    {
     "data": {
      "text/plain": [
       "count    6373.000000\n",
       "mean       -2.722266\n",
       "std         9.604065\n",
       "min       -44.500000\n",
       "25%        -7.500000\n",
       "50%        -1.500000\n",
       "75%         2.000000\n",
       "max        43.000000\n",
       "Name: correct_profit_loss, dtype: float64"
      ]
     },
     "execution_count": 24,
     "metadata": {},
     "output_type": "execute_result"
    }
   ],
   "source": [
    "win_loss2.describe()"
   ]
  },
  {
   "cell_type": "code",
   "execution_count": 25,
   "metadata": {
    "collapsed": true
   },
   "outputs": [],
   "source": [
    "win_loss2 = win_loss2.reset_index()"
   ]
  },
  {
   "cell_type": "code",
   "execution_count": 26,
   "metadata": {
    "collapsed": true
   },
   "outputs": [],
   "source": [
    "win_loss2.columns = ['Account_ID', 'Prediction']"
   ]
  },
  {
   "cell_type": "code",
   "execution_count": 27,
   "metadata": {
    "collapsed": true
   },
   "outputs": [],
   "source": [
    "win_loss2 = win_loss2.fillna(-10)"
   ]
  },
  {
   "cell_type": "code",
   "execution_count": 28,
   "metadata": {
    "collapsed": false
   },
   "outputs": [],
   "source": [
    "win_loss2.to_csv('win1_loss1_5_fill_minus10.csv', index=False)"
   ]
  },
  {
   "cell_type": "code",
   "execution_count": 153,
   "metadata": {
    "collapsed": false
   },
   "outputs": [
    {
     "data": {
      "text/html": [
       "<div>\n",
       "<table border=\"1\" class=\"dataframe\">\n",
       "  <thead>\n",
       "    <tr style=\"text-align: right;\">\n",
       "      <th></th>\n",
       "      <th>Account_ID</th>\n",
       "      <th>Prediction</th>\n",
       "    </tr>\n",
       "  </thead>\n",
       "  <tbody>\n",
       "    <tr>\n",
       "      <th>0</th>\n",
       "      <td>1004240</td>\n",
       "      <td>-1</td>\n",
       "    </tr>\n",
       "    <tr>\n",
       "      <th>1</th>\n",
       "      <td>1009742</td>\n",
       "      <td>12</td>\n",
       "    </tr>\n",
       "    <tr>\n",
       "      <th>2</th>\n",
       "      <td>1003908</td>\n",
       "      <td>3</td>\n",
       "    </tr>\n",
       "    <tr>\n",
       "      <th>3</th>\n",
       "      <td>1020888</td>\n",
       "      <td>-1</td>\n",
       "    </tr>\n",
       "    <tr>\n",
       "      <th>4</th>\n",
       "      <td>1010074</td>\n",
       "      <td>-1</td>\n",
       "    </tr>\n",
       "  </tbody>\n",
       "</table>\n",
       "</div>"
      ],
      "text/plain": [
       "   Account_ID  Prediction\n",
       "0     1004240          -1\n",
       "1     1009742          12\n",
       "2     1003908           3\n",
       "3     1020888          -1\n",
       "4     1010074          -1"
      ]
     },
     "execution_count": 153,
     "metadata": {},
     "output_type": "execute_result"
    }
   ],
   "source": [
    "win_loss2.head()"
   ]
  },
  {
   "cell_type": "code",
   "execution_count": 154,
   "metadata": {
    "collapsed": false
   },
   "outputs": [
    {
     "data": {
      "text/plain": [
       "(7374, 2)"
      ]
     },
     "execution_count": 154,
     "metadata": {},
     "output_type": "execute_result"
    }
   ],
   "source": [
    "win_loss2.shape"
   ]
  },
  {
   "cell_type": "code",
   "execution_count": 155,
   "metadata": {
    "collapsed": false
   },
   "outputs": [
    {
     "data": {
      "text/plain": [
       "Account_ID    False\n",
       "Prediction    False\n",
       "dtype: bool"
      ]
     },
     "execution_count": 155,
     "metadata": {},
     "output_type": "execute_result"
    }
   ],
   "source": [
    "win_loss2.isnull().any()"
   ]
  },
  {
   "cell_type": "code",
   "execution_count": 152,
   "metadata": {
    "collapsed": true
   },
   "outputs": [],
   "source": [
    "four_team_pre_dat = pre_dat.loc[(pre_dat.MATCH.str.contains('Australia') |\n",
    "                                 pre_dat.MATCH.str.contains('New Zealand') |\n",
    "                                 pre_dat.MATCH.str.contains('India') |\n",
    "                                 pre_dat.MATCH.str.contains('South Africa')).values]"
   ]
  },
  {
   "cell_type": "code",
   "execution_count": 153,
   "metadata": {
    "collapsed": true
   },
   "outputs": [],
   "source": [
    "four_team_pre_dat_by_account_event = four_team_pre_dat.groupby(['ACCOUNT_ID', 'EVENT_ID'])"
   ]
  },
  {
   "cell_type": "code",
   "execution_count": 154,
   "metadata": {
    "collapsed": true
   },
   "outputs": [],
   "source": [
    "win_loss = four_team_pre_dat_by_account_event['correct_profit_loss'].sum()"
   ]
  },
  {
   "cell_type": "code",
   "execution_count": 237,
   "metadata": {
    "collapsed": true
   },
   "outputs": [],
   "source": [
    "win_loss1 = win_loss > 0"
   ]
  },
  {
   "cell_type": "code",
   "execution_count": 238,
   "metadata": {
    "collapsed": true
   },
   "outputs": [],
   "source": [
    "maps = {True: 1, False: -1.5}"
   ]
  },
  {
   "cell_type": "code",
   "execution_count": 239,
   "metadata": {
    "collapsed": true
   },
   "outputs": [],
   "source": [
    "win_loss1 = win_loss1.map(maps)"
   ]
  },
  {
   "cell_type": "code",
   "execution_count": 240,
   "metadata": {
    "collapsed": true
   },
   "outputs": [],
   "source": [
    "win_loss1_by_account = win_loss1.groupby(level=0)"
   ]
  },
  {
   "cell_type": "code",
   "execution_count": 241,
   "metadata": {
    "collapsed": true
   },
   "outputs": [],
   "source": [
    "win_loss2 = win_loss1_by_account.sum()"
   ]
  },
  {
   "cell_type": "code",
   "execution_count": 242,
   "metadata": {
    "collapsed": true
   },
   "outputs": [],
   "source": [
    "win_loss2 = win_loss2.loc[submit.ACCOUNT_ID.tolist()]"
   ]
  },
  {
   "cell_type": "code",
   "execution_count": 243,
   "metadata": {
    "collapsed": false
   },
   "outputs": [
    {
     "data": {
      "text/plain": [
       "count    5712.000000\n",
       "mean       -1.302433\n",
       "std         4.937498\n",
       "min       -22.000000\n",
       "25%        -4.000000\n",
       "50%        -1.000000\n",
       "75%         1.500000\n",
       "max        19.000000\n",
       "Name: correct_profit_loss, dtype: float64"
      ]
     },
     "execution_count": 243,
     "metadata": {},
     "output_type": "execute_result"
    }
   ],
   "source": [
    "win_loss2.describe()"
   ]
  },
  {
   "cell_type": "code",
   "execution_count": 230,
   "metadata": {
    "collapsed": true
   },
   "outputs": [],
   "source": [
    "win_loss2 = win_loss2.reset_index()"
   ]
  },
  {
   "cell_type": "code",
   "execution_count": 231,
   "metadata": {
    "collapsed": false
   },
   "outputs": [
    {
     "data": {
      "text/plain": [
       "(7374, 2)"
      ]
     },
     "execution_count": 231,
     "metadata": {},
     "output_type": "execute_result"
    }
   ],
   "source": [
    "win_loss2.shape"
   ]
  },
  {
   "cell_type": "code",
   "execution_count": 232,
   "metadata": {
    "collapsed": true
   },
   "outputs": [],
   "source": [
    "win_loss2.columns = ['Account_ID', 'Prediction']"
   ]
  },
  {
   "cell_type": "code",
   "execution_count": 233,
   "metadata": {
    "collapsed": true
   },
   "outputs": [],
   "source": [
    "win_loss2 = win_loss2.fillna(-10)"
   ]
  },
  {
   "cell_type": "code",
   "execution_count": 234,
   "metadata": {
    "collapsed": false
   },
   "outputs": [
    {
     "data": {
      "text/plain": [
       "-20.399999999999999"
      ]
     },
     "execution_count": 234,
     "metadata": {},
     "output_type": "execute_result"
    }
   ],
   "source": [
    "win_loss2.Prediction.min()"
   ]
  },
  {
   "cell_type": "code",
   "execution_count": 235,
   "metadata": {
    "collapsed": true
   },
   "outputs": [],
   "source": [
    "win_loss2.to_csv('four_team_count_games_win1_loss1_4_fill_minus10.csv', index=False)"
   ]
  },
  {
   "cell_type": "code",
   "execution_count": 236,
   "metadata": {
    "collapsed": false
   },
   "outputs": [
    {
     "data": {
      "text/plain": [
       "Account_ID    False\n",
       "Prediction    False\n",
       "dtype: bool"
      ]
     },
     "execution_count": 236,
     "metadata": {},
     "output_type": "execute_result"
    }
   ],
   "source": [
    "win_loss2.isnull().any()"
   ]
  },
  {
   "cell_type": "code",
   "execution_count": 32,
   "metadata": {
    "collapsed": false
   },
   "outputs": [],
   "source": [
    "four_team_pre_dat_by_account_bet = four_team_pre_dat.groupby(['ACCOUNT_ID', 'BET_ID'])"
   ]
  },
  {
   "cell_type": "code",
   "execution_count": 33,
   "metadata": {
    "collapsed": true
   },
   "outputs": [],
   "source": [
    "win_loss = four_team_pre_dat_by_account_bet['correct_profit_loss'].sum()"
   ]
  },
  {
   "cell_type": "code",
   "execution_count": 34,
   "metadata": {
    "collapsed": true
   },
   "outputs": [],
   "source": [
    "win_loss1 = win_loss > 0"
   ]
  },
  {
   "cell_type": "code",
   "execution_count": 35,
   "metadata": {
    "collapsed": true
   },
   "outputs": [],
   "source": [
    "maps = {True: 1, False: -1}"
   ]
  },
  {
   "cell_type": "code",
   "execution_count": 36,
   "metadata": {
    "collapsed": true
   },
   "outputs": [],
   "source": [
    "win_loss1 = win_loss1.map(maps)"
   ]
  },
  {
   "cell_type": "code",
   "execution_count": 37,
   "metadata": {
    "collapsed": true
   },
   "outputs": [],
   "source": [
    "win_loss1_by_account = win_loss1.groupby(level=0)"
   ]
  },
  {
   "cell_type": "code",
   "execution_count": 38,
   "metadata": {
    "collapsed": true
   },
   "outputs": [],
   "source": [
    "win_loss2 = win_loss1_by_account.sum()"
   ]
  },
  {
   "cell_type": "code",
   "execution_count": 39,
   "metadata": {
    "collapsed": true
   },
   "outputs": [],
   "source": [
    "win_loss2 = win_loss2.loc[submit.ACCOUNT_ID.tolist()]"
   ]
  },
  {
   "cell_type": "code",
   "execution_count": 40,
   "metadata": {
    "collapsed": true
   },
   "outputs": [],
   "source": [
    "win_loss2 = win_loss2.reset_index()"
   ]
  },
  {
   "cell_type": "code",
   "execution_count": 41,
   "metadata": {
    "collapsed": true
   },
   "outputs": [],
   "source": [
    "win_loss2.columns = ['Account_ID', 'Prediction']"
   ]
  },
  {
   "cell_type": "code",
   "execution_count": 42,
   "metadata": {
    "collapsed": false
   },
   "outputs": [
    {
     "data": {
      "text/plain": [
       "count    6126.000000\n",
       "mean       -4.839210\n",
       "std        34.016698\n",
       "min      -905.000000\n",
       "25%        -9.000000\n",
       "50%        -1.000000\n",
       "75%         3.000000\n",
       "max       960.000000\n",
       "Name: Prediction, dtype: float64"
      ]
     },
     "execution_count": 42,
     "metadata": {},
     "output_type": "execute_result"
    }
   ],
   "source": [
    "win_loss2.Prediction.describe()"
   ]
  },
  {
   "cell_type": "code",
   "execution_count": 43,
   "metadata": {
    "collapsed": true
   },
   "outputs": [],
   "source": [
    "win_loss2 = win_loss2.fillna(-5)"
   ]
  },
  {
   "cell_type": "code",
   "execution_count": 44,
   "metadata": {
    "collapsed": true
   },
   "outputs": [],
   "source": [
    "win_loss2.to_csv('four_team_count_bid_fill_minus5.csv', index=False)"
   ]
  },
  {
   "cell_type": "code",
   "execution_count": 45,
   "metadata": {
    "collapsed": false
   },
   "outputs": [
    {
     "data": {
      "text/plain": [
       "Account_ID    False\n",
       "Prediction    False\n",
       "dtype: bool"
      ]
     },
     "execution_count": 45,
     "metadata": {},
     "output_type": "execute_result"
    }
   ],
   "source": [
    "win_loss2.isnull().any()"
   ]
  },
  {
   "cell_type": "code",
   "execution_count": 178,
   "metadata": {
    "collapsed": false
   },
   "outputs": [],
   "source": [
    "pre_qu_dat = four_team_pre_dat[~four_team_pre_dat.EVENT_ID.isin([101183237, 101183757, 101183885, 101184013])]"
   ]
  },
  {
   "cell_type": "code",
   "execution_count": 179,
   "metadata": {
    "collapsed": true
   },
   "outputs": [],
   "source": [
    "qu_dat = four_team_pre_dat[four_team_pre_dat.EVENT_ID.isin([101183237, 101183757, 101183885, 101184013])]"
   ]
  },
  {
   "cell_type": "code",
   "execution_count": 180,
   "metadata": {
    "collapsed": false
   },
   "outputs": [],
   "source": [
    "qu_is_profit = (qu_dat.groupby('ACCOUNT_ID')['correct_profit_loss'].sum() > 0).map({True: 1, False: 0})"
   ]
  },
  {
   "cell_type": "code",
   "execution_count": 181,
   "metadata": {
    "collapsed": false
   },
   "outputs": [
    {
     "data": {
      "text/plain": [
       "(4925,)"
      ]
     },
     "execution_count": 181,
     "metadata": {},
     "output_type": "execute_result"
    }
   ],
   "source": [
    "qu_is_profit.shape"
   ]
  },
  {
   "cell_type": "code",
   "execution_count": 184,
   "metadata": {
    "collapsed": true
   },
   "outputs": [],
   "source": [
    "pre_qu_dat_by_account_bet = pre_qu_dat.groupby(['ACCOUNT_ID', 'EVENT_ID'])"
   ]
  },
  {
   "cell_type": "code",
   "execution_count": 185,
   "metadata": {
    "collapsed": true
   },
   "outputs": [],
   "source": [
    "win_loss = pre_qu_dat_by_account_bet['correct_profit_loss'].sum()"
   ]
  },
  {
   "cell_type": "code",
   "execution_count": 186,
   "metadata": {
    "collapsed": false
   },
   "outputs": [
    {
     "name": "stdout",
     "output_type": "stream",
     "text": [
      "-0.5\n",
      "-0.6\n",
      "-0.7\n",
      "-0.8\n",
      "-0.9\n",
      "-1.0\n",
      "-1.1\n",
      "-1.2\n",
      "-1.3\n",
      "-1.4\n",
      "-1.5\n",
      "-1.6\n",
      "-1.7\n",
      "-1.8\n",
      "-1.9\n",
      "-2.0\n",
      "-2.1\n",
      "-2.2\n",
      "-2.3\n",
      "-2.4\n",
      "-2.5\n"
     ]
    }
   ],
   "source": [
    "best_loss = 0\n",
    "best_default_ind = 0\n",
    "best_auc = 0\n",
    "for loss in np.linspace(-.5, -2.5, 21):\n",
    "    print(loss)\n",
    "    win_loss1 = win_loss > 0\n",
    "    maps = {True: 1, False: loss}\n",
    "    win_loss1 = win_loss1.map(maps)\n",
    "    win_loss1_by_account = win_loss1.groupby(level=0)\n",
    "    win_loss2 = win_loss1_by_account.sum()\n",
    "    win_loss2 = win_loss2.loc[qu_is_profit.index.tolist()]\n",
    "    not_null = win_loss2.loc[win_loss2.notnull()]\n",
    "    not_null.sort()\n",
    "    pos = range(2315)\n",
    "    for ind in pos:\n",
    "        val = not_null.iloc[ind]\n",
    "        win_loss2 = win_loss2.fillna(val)\n",
    "        est_auc = roc_auc_score(qu_is_profit, win_loss2)\n",
    "        if est_auc > best_auc:\n",
    "            best_auc = est_auc\n",
    "            best_loss = loss\n",
    "            best_default_ind = ind / 4925"
   ]
  },
  {
   "cell_type": "code",
   "execution_count": 188,
   "metadata": {
    "collapsed": false
   },
   "outputs": [
    {
     "data": {
      "text/plain": [
       "0.73316546762589929"
      ]
     },
     "execution_count": 188,
     "metadata": {},
     "output_type": "execute_result"
    }
   ],
   "source": [
    "best_auc"
   ]
  },
  {
   "cell_type": "code",
   "execution_count": 189,
   "metadata": {
    "collapsed": false
   },
   "outputs": [
    {
     "data": {
      "text/plain": [
       "-1.3999999999999999"
      ]
     },
     "execution_count": 189,
     "metadata": {},
     "output_type": "execute_result"
    }
   ],
   "source": [
    "best_loss"
   ]
  },
  {
   "cell_type": "code",
   "execution_count": 190,
   "metadata": {
    "collapsed": false
   },
   "outputs": [
    {
     "data": {
      "text/plain": [
       "0.0"
      ]
     },
     "execution_count": 190,
     "metadata": {},
     "output_type": "execute_result"
    }
   ],
   "source": [
    "best_default_val * 6126"
   ]
  },
  {
   "cell_type": "code",
   "execution_count": 183,
   "metadata": {
    "collapsed": false
   },
   "outputs": [
    {
     "data": {
      "text/plain": [
       "0.75"
      ]
     },
     "execution_count": 183,
     "metadata": {},
     "output_type": "execute_result"
    }
   ],
   "source": [
    "y_true = np.array([0, 1, 0, 1])\n",
    "y_scores = np.array([0.1, 0.35, 0.4, 0.8]) * 200\n",
    "roc_auc_score(y_true, y_scores)"
   ]
  },
  {
   "cell_type": "code",
   "execution_count": 244,
   "metadata": {
    "collapsed": false
   },
   "outputs": [
    {
     "data": {
      "text/plain": [
       "7374"
      ]
     },
     "execution_count": 244,
     "metadata": {},
     "output_type": "execute_result"
    }
   ],
   "source": [
    "submit.ACCOUNT_ID.nunique()"
   ]
  },
  {
   "cell_type": "code",
   "execution_count": 249,
   "metadata": {
    "collapsed": false
   },
   "outputs": [
    {
     "data": {
      "text/plain": [
       "6126"
      ]
     },
     "execution_count": 249,
     "metadata": {},
     "output_type": "execute_result"
    }
   ],
   "source": [
    "four_team_pre_dat.loc[four_team_pre_dat.ACCOUNT_ID.isin(submit.ACCOUNT_ID), 'ACCOUNT_ID'].nunique()"
   ]
  },
  {
   "cell_type": "code",
   "execution_count": 250,
   "metadata": {
    "collapsed": false
   },
   "outputs": [
    {
     "data": {
      "text/plain": [
       "6373"
      ]
     },
     "execution_count": 250,
     "metadata": {},
     "output_type": "execute_result"
    }
   ],
   "source": [
    "pre_dat.ACCOUNT_ID.nunique()"
   ]
  },
  {
   "cell_type": "code",
   "execution_count": 259,
   "metadata": {
    "collapsed": true
   },
   "outputs": [],
   "source": [
    "semi = pd.read_csv('semi_and_final_features.csv')\n",
    "semi.columns = ['Account_ID', 'EVENT_ID', 'TRANSACTION_COUNT', 'STATUS_ID',\n",
    "       'INPLAY_BET', 'AVG_BET_SIZE', 'MAX_BET_SIZE', 'MIN_BET_SIZE',\n",
    "       'STDEV_BET_SIZE'] "
   ]
  },
  {
   "cell_type": "code",
   "execution_count": 260,
   "metadata": {
    "collapsed": false
   },
   "outputs": [
    {
     "data": {
      "text/plain": [
       "13087"
      ]
     },
     "execution_count": 260,
     "metadata": {},
     "output_type": "execute_result"
    }
   ],
   "source": [
    "semi.Account_ID.nunique()"
   ]
  },
  {
   "cell_type": "code",
   "execution_count": 282,
   "metadata": {
    "collapsed": false
   },
   "outputs": [],
   "source": [
    "new_ones = submit.loc[~submit.ACCOUNT_ID.isin(pre_dat.ACCOUNT_ID).values, 'ACCOUNT_ID'].tolist()"
   ]
  },
  {
   "cell_type": "code",
   "execution_count": 283,
   "metadata": {
    "collapsed": false
   },
   "outputs": [
    {
     "data": {
      "text/plain": [
       "1001"
      ]
     },
     "execution_count": 283,
     "metadata": {},
     "output_type": "execute_result"
    }
   ],
   "source": [
    "len(new_ones)"
   ]
  },
  {
   "cell_type": "code",
   "execution_count": 284,
   "metadata": {
    "collapsed": false
   },
   "outputs": [],
   "source": [
    "new_dat = semi.loc[semi.Account_ID.isin(new_ones)]"
   ]
  },
  {
   "cell_type": "code",
   "execution_count": 288,
   "metadata": {
    "collapsed": false
   },
   "outputs": [
    {
     "name": "stderr",
     "output_type": "stream",
     "text": [
      "/Users/feizhan/miniconda/envs/py3_env/lib/python3.4/site-packages/pandas/core/indexing.py:415: SettingWithCopyWarning: \n",
      "A value is trying to be set on a copy of a slice from a DataFrame.\n",
      "Try using .loc[row_indexer,col_indexer] = value instead\n",
      "\n",
      "See the the caveats in the documentation: http://pandas.pydata.org/pandas-docs/stable/indexing.html#indexing-view-versus-copy\n",
      "  self.obj[item] = s\n"
     ]
    }
   ],
   "source": [
    "new_dat.loc[:, 'total'] = new_dat.TRANSACTION_COUNT * new_dat.AVG_BET_SIZE"
   ]
  },
  {
   "cell_type": "code",
   "execution_count": 291,
   "metadata": {
    "collapsed": false
   },
   "outputs": [
    {
     "data": {
      "text/plain": [
       "count        1001.000000\n",
       "mean        48275.862071\n",
       "std        556814.310914\n",
       "min           200.470000\n",
       "25%           400.000000\n",
       "50%           822.000000\n",
       "75%          2754.700790\n",
       "max      13027739.484995\n",
       "Name: total, dtype: float64"
      ]
     },
     "execution_count": 291,
     "metadata": {},
     "output_type": "execute_result"
    }
   ],
   "source": [
    "new_dat.groupby('Account_ID')['total'].sum().describe()"
   ]
  },
  {
   "cell_type": "code",
   "execution_count": 292,
   "metadata": {
    "collapsed": false
   },
   "outputs": [
    {
     "data": {
      "text/plain": [
       "count       1001.000000\n",
       "mean       24020.470176\n",
       "std       224208.247112\n",
       "min          200.465336\n",
       "25%          359.000000\n",
       "50%          703.578600\n",
       "75%         2158.539417\n",
       "max      5387229.520910\n",
       "Name: total, dtype: float64"
      ]
     },
     "execution_count": 292,
     "metadata": {},
     "output_type": "execute_result"
    }
   ],
   "source": [
    "new_dat.loc[(new_dat.STATUS_ID == 'S').values, :].groupby('Account_ID')['total'].sum().describe()"
   ]
  },
  {
   "cell_type": "code",
   "execution_count": 293,
   "metadata": {
    "collapsed": false
   },
   "outputs": [
    {
     "data": {
      "text/plain": [
       "1001423"
      ]
     },
     "execution_count": 293,
     "metadata": {},
     "output_type": "execute_result"
    }
   ],
   "source": [
    "new_dat.groupby('Account_ID')['total'].sum().idxmax()"
   ]
  },
  {
   "cell_type": "code",
   "execution_count": 294,
   "metadata": {
    "collapsed": false
   },
   "outputs": [
    {
     "data": {
      "text/html": [
       "<div>\n",
       "<table border=\"1\" class=\"dataframe\">\n",
       "  <thead>\n",
       "    <tr style=\"text-align: right;\">\n",
       "      <th></th>\n",
       "      <th>Account_ID</th>\n",
       "      <th>EVENT_ID</th>\n",
       "      <th>TRANSACTION_COUNT</th>\n",
       "      <th>STATUS_ID</th>\n",
       "      <th>INPLAY_BET</th>\n",
       "      <th>AVG_BET_SIZE</th>\n",
       "      <th>MAX_BET_SIZE</th>\n",
       "      <th>MIN_BET_SIZE</th>\n",
       "      <th>STDEV_BET_SIZE</th>\n",
       "      <th>total</th>\n",
       "    </tr>\n",
       "  </thead>\n",
       "  <tbody>\n",
       "    <tr>\n",
       "      <th>2405</th>\n",
       "      <td>1001423</td>\n",
       "      <td>101187238</td>\n",
       "      <td>81</td>\n",
       "      <td>C</td>\n",
       "      <td>N</td>\n",
       "      <td>23719.081387</td>\n",
       "      <td>50584.006323</td>\n",
       "      <td>25.380522</td>\n",
       "      <td>18703.387660</td>\n",
       "      <td>1921245.592329</td>\n",
       "    </tr>\n",
       "    <tr>\n",
       "      <th>2406</th>\n",
       "      <td>1001423</td>\n",
       "      <td>101187238</td>\n",
       "      <td>81</td>\n",
       "      <td>C</td>\n",
       "      <td>N</td>\n",
       "      <td>19728.424149</td>\n",
       "      <td>50584.006323</td>\n",
       "      <td>63.223677</td>\n",
       "      <td>17067.077330</td>\n",
       "      <td>1598002.356084</td>\n",
       "    </tr>\n",
       "    <tr>\n",
       "      <th>2407</th>\n",
       "      <td>1001423</td>\n",
       "      <td>101187238</td>\n",
       "      <td>25</td>\n",
       "      <td>S</td>\n",
       "      <td>N</td>\n",
       "      <td>1011.680506</td>\n",
       "      <td>6368.860719</td>\n",
       "      <td>2.788443</td>\n",
       "      <td>1432.701485</td>\n",
       "      <td>25292.012646</td>\n",
       "    </tr>\n",
       "    <tr>\n",
       "      <th>2408</th>\n",
       "      <td>1001423</td>\n",
       "      <td>101187238</td>\n",
       "      <td>3</td>\n",
       "      <td>S</td>\n",
       "      <td>N</td>\n",
       "      <td>6744.535441</td>\n",
       "      <td>12646.006323</td>\n",
       "      <td>1264.606323</td>\n",
       "      <td>5702.397705</td>\n",
       "      <td>20233.606323</td>\n",
       "    </tr>\n",
       "    <tr>\n",
       "      <th>2409</th>\n",
       "      <td>1001423</td>\n",
       "      <td>101187238</td>\n",
       "      <td>724</td>\n",
       "      <td>S</td>\n",
       "      <td>Y</td>\n",
       "      <td>1703.450025</td>\n",
       "      <td>47220.233553</td>\n",
       "      <td>0.189690</td>\n",
       "      <td>4350.145533</td>\n",
       "      <td>1233297.817779</td>\n",
       "    </tr>\n",
       "    <tr>\n",
       "      <th>2410</th>\n",
       "      <td>1001423</td>\n",
       "      <td>101187238</td>\n",
       "      <td>586</td>\n",
       "      <td>S</td>\n",
       "      <td>Y</td>\n",
       "      <td>2009.760694</td>\n",
       "      <td>50584.006323</td>\n",
       "      <td>0.815667</td>\n",
       "      <td>5235.281885</td>\n",
       "      <td>1177719.766950</td>\n",
       "    </tr>\n",
       "    <tr>\n",
       "      <th>2411</th>\n",
       "      <td>1001423</td>\n",
       "      <td>101187943</td>\n",
       "      <td>53</td>\n",
       "      <td>C</td>\n",
       "      <td>N</td>\n",
       "      <td>4786.386243</td>\n",
       "      <td>14986.594618</td>\n",
       "      <td>62.867046</td>\n",
       "      <td>3812.277463</td>\n",
       "      <td>253678.470884</td>\n",
       "    </tr>\n",
       "    <tr>\n",
       "      <th>2412</th>\n",
       "      <td>1001423</td>\n",
       "      <td>101187943</td>\n",
       "      <td>46</td>\n",
       "      <td>C</td>\n",
       "      <td>N</td>\n",
       "      <td>5674.078321</td>\n",
       "      <td>25149.327046</td>\n",
       "      <td>125.752954</td>\n",
       "      <td>5210.607010</td>\n",
       "      <td>261007.602776</td>\n",
       "    </tr>\n",
       "    <tr>\n",
       "      <th>2413</th>\n",
       "      <td>1001423</td>\n",
       "      <td>101187943</td>\n",
       "      <td>358</td>\n",
       "      <td>S</td>\n",
       "      <td>Y</td>\n",
       "      <td>884.483859</td>\n",
       "      <td>16353.976446</td>\n",
       "      <td>0.132034</td>\n",
       "      <td>1973.124321</td>\n",
       "      <td>316645.221416</td>\n",
       "    </tr>\n",
       "    <tr>\n",
       "      <th>2414</th>\n",
       "      <td>1001423</td>\n",
       "      <td>101187943</td>\n",
       "      <td>205</td>\n",
       "      <td>S</td>\n",
       "      <td>Y</td>\n",
       "      <td>1348.456341</td>\n",
       "      <td>25149.327046</td>\n",
       "      <td>1.131720</td>\n",
       "      <td>2585.141014</td>\n",
       "      <td>276433.549960</td>\n",
       "    </tr>\n",
       "    <tr>\n",
       "      <th>2415</th>\n",
       "      <td>1001423</td>\n",
       "      <td>101191295</td>\n",
       "      <td>85</td>\n",
       "      <td>C</td>\n",
       "      <td>N</td>\n",
       "      <td>28920.667188</td>\n",
       "      <td>128346.673084</td>\n",
       "      <td>128.353084</td>\n",
       "      <td>23085.342487</td>\n",
       "      <td>2458256.711012</td>\n",
       "    </tr>\n",
       "    <tr>\n",
       "      <th>2416</th>\n",
       "      <td>1001423</td>\n",
       "      <td>101191295</td>\n",
       "      <td>42</td>\n",
       "      <td>C</td>\n",
       "      <td>N</td>\n",
       "      <td>27340.934071</td>\n",
       "      <td>51338.673084</td>\n",
       "      <td>12.629312</td>\n",
       "      <td>21397.159612</td>\n",
       "      <td>1148319.231000</td>\n",
       "    </tr>\n",
       "    <tr>\n",
       "      <th>2417</th>\n",
       "      <td>1001423</td>\n",
       "      <td>101191295</td>\n",
       "      <td>1</td>\n",
       "      <td>S</td>\n",
       "      <td>N</td>\n",
       "      <td>3850.400000</td>\n",
       "      <td>3850.400000</td>\n",
       "      <td>3850.400000</td>\n",
       "      <td>0.000000</td>\n",
       "      <td>3850.400000</td>\n",
       "    </tr>\n",
       "    <tr>\n",
       "      <th>2418</th>\n",
       "      <td>1001423</td>\n",
       "      <td>101191295</td>\n",
       "      <td>1</td>\n",
       "      <td>S</td>\n",
       "      <td>N</td>\n",
       "      <td>1283.473084</td>\n",
       "      <td>1283.473084</td>\n",
       "      <td>1283.473084</td>\n",
       "      <td>0.000000</td>\n",
       "      <td>1283.473084</td>\n",
       "    </tr>\n",
       "    <tr>\n",
       "      <th>2419</th>\n",
       "      <td>1001423</td>\n",
       "      <td>101191295</td>\n",
       "      <td>263</td>\n",
       "      <td>S</td>\n",
       "      <td>Y</td>\n",
       "      <td>4096.839142</td>\n",
       "      <td>51338.673084</td>\n",
       "      <td>3.850400</td>\n",
       "      <td>8659.925443</td>\n",
       "      <td>1077468.694420</td>\n",
       "    </tr>\n",
       "    <tr>\n",
       "      <th>2420</th>\n",
       "      <td>1001423</td>\n",
       "      <td>101191295</td>\n",
       "      <td>627</td>\n",
       "      <td>S</td>\n",
       "      <td>Y</td>\n",
       "      <td>2001.602836</td>\n",
       "      <td>51338.673084</td>\n",
       "      <td>0.134764</td>\n",
       "      <td>6235.726902</td>\n",
       "      <td>1255004.978332</td>\n",
       "    </tr>\n",
       "  </tbody>\n",
       "</table>\n",
       "</div>"
      ],
      "text/plain": [
       "      Account_ID   EVENT_ID  TRANSACTION_COUNT STATUS_ID INPLAY_BET  \\\n",
       "2405     1001423  101187238                 81         C          N   \n",
       "2406     1001423  101187238                 81         C          N   \n",
       "2407     1001423  101187238                 25         S          N   \n",
       "2408     1001423  101187238                  3         S          N   \n",
       "2409     1001423  101187238                724         S          Y   \n",
       "2410     1001423  101187238                586         S          Y   \n",
       "2411     1001423  101187943                 53         C          N   \n",
       "2412     1001423  101187943                 46         C          N   \n",
       "2413     1001423  101187943                358         S          Y   \n",
       "2414     1001423  101187943                205         S          Y   \n",
       "2415     1001423  101191295                 85         C          N   \n",
       "2416     1001423  101191295                 42         C          N   \n",
       "2417     1001423  101191295                  1         S          N   \n",
       "2418     1001423  101191295                  1         S          N   \n",
       "2419     1001423  101191295                263         S          Y   \n",
       "2420     1001423  101191295                627         S          Y   \n",
       "\n",
       "      AVG_BET_SIZE   MAX_BET_SIZE  MIN_BET_SIZE  STDEV_BET_SIZE  \\\n",
       "2405  23719.081387   50584.006323     25.380522    18703.387660   \n",
       "2406  19728.424149   50584.006323     63.223677    17067.077330   \n",
       "2407   1011.680506    6368.860719      2.788443     1432.701485   \n",
       "2408   6744.535441   12646.006323   1264.606323     5702.397705   \n",
       "2409   1703.450025   47220.233553      0.189690     4350.145533   \n",
       "2410   2009.760694   50584.006323      0.815667     5235.281885   \n",
       "2411   4786.386243   14986.594618     62.867046     3812.277463   \n",
       "2412   5674.078321   25149.327046    125.752954     5210.607010   \n",
       "2413    884.483859   16353.976446      0.132034     1973.124321   \n",
       "2414   1348.456341   25149.327046      1.131720     2585.141014   \n",
       "2415  28920.667188  128346.673084    128.353084    23085.342487   \n",
       "2416  27340.934071   51338.673084     12.629312    21397.159612   \n",
       "2417   3850.400000    3850.400000   3850.400000        0.000000   \n",
       "2418   1283.473084    1283.473084   1283.473084        0.000000   \n",
       "2419   4096.839142   51338.673084      3.850400     8659.925443   \n",
       "2420   2001.602836   51338.673084      0.134764     6235.726902   \n",
       "\n",
       "               total  \n",
       "2405  1921245.592329  \n",
       "2406  1598002.356084  \n",
       "2407    25292.012646  \n",
       "2408    20233.606323  \n",
       "2409  1233297.817779  \n",
       "2410  1177719.766950  \n",
       "2411   253678.470884  \n",
       "2412   261007.602776  \n",
       "2413   316645.221416  \n",
       "2414   276433.549960  \n",
       "2415  2458256.711012  \n",
       "2416  1148319.231000  \n",
       "2417     3850.400000  \n",
       "2418     1283.473084  \n",
       "2419  1077468.694420  \n",
       "2420  1255004.978332  "
      ]
     },
     "execution_count": 294,
     "metadata": {},
     "output_type": "execute_result"
    }
   ],
   "source": [
    "new_dat.loc[(new_dat.Account_ID == 1001423).values, :]"
   ]
  },
  {
   "cell_type": "code",
   "execution_count": 295,
   "metadata": {
    "collapsed": false
   },
   "outputs": [
    {
     "data": {
      "text/plain": [
       "1001"
      ]
     },
     "execution_count": 295,
     "metadata": {},
     "output_type": "execute_result"
    }
   ],
   "source": [
    "new_dat.Account_ID.nunique()"
   ]
  },
  {
   "cell_type": "code",
   "execution_count": 296,
   "metadata": {
    "collapsed": false
   },
   "outputs": [
    {
     "data": {
      "text/plain": [
       "1001"
      ]
     },
     "execution_count": 296,
     "metadata": {},
     "output_type": "execute_result"
    }
   ],
   "source": [
    "new_dat.loc[(new_dat.STATUS_ID == 'S').values, 'Account_ID'].nunique()"
   ]
  },
  {
   "cell_type": "code",
   "execution_count": 298,
   "metadata": {
    "collapsed": false
   },
   "outputs": [
    {
     "data": {
      "text/plain": [
       "1    610\n",
       "2    280\n",
       "3    111\n",
       "dtype: int64"
      ]
     },
     "execution_count": 298,
     "metadata": {},
     "output_type": "execute_result"
    }
   ],
   "source": [
    "new_dat.loc[(new_dat.STATUS_ID == 'S').values, :].groupby('Account_ID')['EVENT_ID'].nunique().value_counts()"
   ]
  },
  {
   "cell_type": "code",
   "execution_count": 305,
   "metadata": {
    "collapsed": false
   },
   "outputs": [
    {
     "data": {
      "text/plain": [
       "14875"
      ]
     },
     "execution_count": 305,
     "metadata": {},
     "output_type": "execute_result"
    }
   ],
   "source": [
    "semi.loc[(semi.STATUS_ID == 'S').values].MAX_BET_SIZE.idxmax()"
   ]
  },
  {
   "cell_type": "code",
   "execution_count": 308,
   "metadata": {
    "collapsed": false
   },
   "outputs": [
    {
     "data": {
      "text/html": [
       "<div>\n",
       "<table border=\"1\" class=\"dataframe\">\n",
       "  <thead>\n",
       "    <tr style=\"text-align: right;\">\n",
       "      <th></th>\n",
       "      <th>Account_ID</th>\n",
       "      <th>EVENT_ID</th>\n",
       "      <th>TRANSACTION_COUNT</th>\n",
       "      <th>STATUS_ID</th>\n",
       "      <th>INPLAY_BET</th>\n",
       "      <th>AVG_BET_SIZE</th>\n",
       "      <th>MAX_BET_SIZE</th>\n",
       "      <th>MIN_BET_SIZE</th>\n",
       "      <th>STDEV_BET_SIZE</th>\n",
       "    </tr>\n",
       "  </thead>\n",
       "  <tbody>\n",
       "    <tr>\n",
       "      <th>14875</th>\n",
       "      <td>1006014</td>\n",
       "      <td>101187238</td>\n",
       "      <td>83</td>\n",
       "      <td>S</td>\n",
       "      <td>Y</td>\n",
       "      <td>4614.778327</td>\n",
       "      <td>255509.159483</td>\n",
       "      <td>3.819862</td>\n",
       "      <td>28317.715663</td>\n",
       "    </tr>\n",
       "    <tr>\n",
       "      <th>23698</th>\n",
       "      <td>1009080</td>\n",
       "      <td>101187238</td>\n",
       "      <td>1584</td>\n",
       "      <td>S</td>\n",
       "      <td>Y</td>\n",
       "      <td>2277.857067</td>\n",
       "      <td>255509.159483</td>\n",
       "      <td>2.555092</td>\n",
       "      <td>8871.980495</td>\n",
       "    </tr>\n",
       "  </tbody>\n",
       "</table>\n",
       "</div>"
      ],
      "text/plain": [
       "       Account_ID   EVENT_ID  TRANSACTION_COUNT STATUS_ID INPLAY_BET  \\\n",
       "14875     1006014  101187238                 83         S          Y   \n",
       "23698     1009080  101187238               1584         S          Y   \n",
       "\n",
       "       AVG_BET_SIZE   MAX_BET_SIZE  MIN_BET_SIZE  STDEV_BET_SIZE  \n",
       "14875   4614.778327  255509.159483      3.819862    28317.715663  \n",
       "23698   2277.857067  255509.159483      2.555092     8871.980495  "
      ]
     },
     "execution_count": 308,
     "metadata": {},
     "output_type": "execute_result"
    }
   ],
   "source": [
    "semi.loc[(semi.STATUS_ID == 'S') & (semi.MAX_BET_SIZE > 250000)]"
   ]
  },
  {
   "cell_type": "code",
   "execution_count": 312,
   "metadata": {
    "collapsed": false
   },
   "outputs": [
    {
     "data": {
      "text/plain": [
       "1.0"
      ]
     },
     "execution_count": 312,
     "metadata": {},
     "output_type": "execute_result"
    }
   ],
   "source": [
    "win_loss2.loc[1009080]"
   ]
  },
  {
   "cell_type": "code",
   "execution_count": 306,
   "metadata": {
    "collapsed": false
   },
   "outputs": [
    {
     "data": {
      "text/plain": [
       "Account_ID             1006014\n",
       "EVENT_ID             101187238\n",
       "TRANSACTION_COUNT           83\n",
       "STATUS_ID                    S\n",
       "INPLAY_BET                   Y\n",
       "AVG_BET_SIZE          4614.778\n",
       "MAX_BET_SIZE          255509.2\n",
       "MIN_BET_SIZE          3.819862\n",
       "STDEV_BET_SIZE        28317.72\n",
       "Name: 14875, dtype: object"
      ]
     },
     "execution_count": 306,
     "metadata": {},
     "output_type": "execute_result"
    }
   ],
   "source": [
    "semi.iloc[14875]"
   ]
  },
  {
   "cell_type": "code",
   "execution_count": 307,
   "metadata": {
    "collapsed": false
   },
   "outputs": [
    {
     "data": {
      "text/plain": [
       "Account_ID             1006014\n",
       "EVENT_ID             101187238\n",
       "TRANSACTION_COUNT           83\n",
       "STATUS_ID                    S\n",
       "INPLAY_BET                   Y\n",
       "AVG_BET_SIZE          4614.778\n",
       "MAX_BET_SIZE          255509.2\n",
       "MIN_BET_SIZE          3.819862\n",
       "STDEV_BET_SIZE        28317.72\n",
       "Name: 14875, dtype: object"
      ]
     },
     "execution_count": 307,
     "metadata": {},
     "output_type": "execute_result"
    }
   ],
   "source": [
    "semi.loc[14875]"
   ]
  },
  {
   "cell_type": "code",
   "execution_count": 310,
   "metadata": {
    "collapsed": false
   },
   "outputs": [
    {
     "data": {
      "text/plain": [
       "ACCOUNT_ID\n",
       "1004240    2.0\n",
       "1009742    5.5\n",
       "1003908    2.0\n",
       "1020888    NaN\n",
       "1010074   -1.5\n",
       "Name: correct_profit_loss, dtype: float64"
      ]
     },
     "execution_count": 310,
     "metadata": {},
     "output_type": "execute_result"
    }
   ],
   "source": []
  },
  {
   "cell_type": "code",
   "execution_count": 315,
   "metadata": {
    "collapsed": false
   },
   "outputs": [
    {
     "data": {
      "text/plain": [
       "0.83333333333333337"
      ]
     },
     "execution_count": 315,
     "metadata": {},
     "output_type": "execute_result"
    }
   ],
   "source": [
    "y_true = np.array([0, 0, 0, 1])\n",
    "y_scores = np.array([0, 0, 1, 1])\n",
    "roc_auc_score(y_true, y_scores)"
   ]
  },
  {
   "cell_type": "code",
   "execution_count": null,
   "metadata": {
    "collapsed": true
   },
   "outputs": [],
   "source": []
  }
 ],
 "metadata": {
  "kernelspec": {
   "display_name": "Python 3",
   "language": "python",
   "name": "python3"
  },
  "language_info": {
   "codemirror_mode": {
    "name": "ipython",
    "version": 3
   },
   "file_extension": ".py",
   "mimetype": "text/x-python",
   "name": "python",
   "nbconvert_exporter": "python",
   "pygments_lexer": "ipython3",
   "version": "3.4.3"
  }
 },
 "nbformat": 4,
 "nbformat_minor": 0
}
