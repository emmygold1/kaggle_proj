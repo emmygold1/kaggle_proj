{
 "cells": [
  {
   "cell_type": "code",
   "execution_count": 211,
   "metadata": {
    "collapsed": false
   },
   "outputs": [],
   "source": [
    "%matplotlib inline\n",
    "import pandas as pd\n",
    "import numpy as np\n",
    "import matplotlib.pyplot as plt\n",
    "import re\n",
    "import glob\n",
    "from sklearn.ensemble import RandomForestClassifier, RandomForestRegressor\n",
    "from preprocessing_layer import DataPreprocessing\n",
    "from sklearn.preprocessing import StandardScaler\n",
    "from scipy.special import expit\n",
    "from sklearn.cluster import KMeans"
   ]
  },
  {
   "cell_type": "code",
   "execution_count": 2,
   "metadata": {
    "collapsed": true
   },
   "outputs": [],
   "source": [
    "filenames = glob.glob('Datathon*.csv')"
   ]
  },
  {
   "cell_type": "code",
   "execution_count": 3,
   "metadata": {
    "collapsed": false
   },
   "outputs": [
    {
     "name": "stdout",
     "output_type": "stream",
     "text": [
      "0\n",
      "1"
     ]
    },
    {
     "name": "stderr",
     "output_type": "stream",
     "text": [
      "/Users/feizhan/miniconda/envs/py3_env/lib/python3.4/site-packages/pandas/io/parsers.py:1170: DtypeWarning: Columns (16) have mixed types. Specify dtype option on import or set low_memory=False.\n",
      "  data = self._reader.read(nrows)\n",
      "/Users/feizhan/miniconda/envs/py3_env/lib/python3.4/site-packages/pandas/io/parsers.py:1170: DtypeWarning: Columns (14,16) have mixed types. Specify dtype option on import or set low_memory=False.\n",
      "  data = self._reader.read(nrows)\n"
     ]
    },
    {
     "name": "stdout",
     "output_type": "stream",
     "text": [
      "\n",
      "2\n",
      "3\n",
      "4\n"
     ]
    }
   ],
   "source": [
    "pre_dat = pd.DataFrame({})\n",
    "for ind, filename in enumerate(filenames):\n",
    "    print(ind)\n",
    "    tmp_dat = pd.read_csv(filename)\n",
    "    pre_dat = pre_dat.append(tmp_dat)    \n",
    "pre_dat.columns = ['BET_ID', 'BET_TRANS_ID', 'MATCH_BET_ID', 'ACCOUNT_ID',\n",
    "       'COUNTRY_OF_RESIDENCE_NAME', 'PARENT_EVENT_ID', 'EVENT_ID', 'MATCH',\n",
    "       'EVENT_NAME', 'EVENT_DT', 'OFF_DT', 'BID_TYP', 'STATUS_ID',\n",
    "       'PLACED_DATE', 'TAKEN_DATE', 'SETTLED_DATE', 'CANCELLED_DATE',\n",
    "       'SELECTION_NAME', 'PERSISTENCE_TYPE', 'BET_PRICE', 'PRICE_TAKEN',\n",
    "       'INPLAY_BET', 'BET_SIZE', 'PROFIT_LOSS']\n",
    "peek_dat = pd.read_csv('DSMDatathon_samplefile.txt', sep='\\t')\n",
    "pre_dat = peek_dat.append(pre_dat)"
   ]
  },
  {
   "cell_type": "code",
   "execution_count": 4,
   "metadata": {
    "collapsed": true
   },
   "outputs": [],
   "source": [
    "pre_dat.loc[:, 'BID_TYP'] = pre_dat.loc[:, 'BID_TYP'].str.strip(' ')\n",
    "pre_dat.loc[:, 'STATUS_ID'] = pre_dat.loc[:, 'STATUS_ID'].str.strip(' ')"
   ]
  },
  {
   "cell_type": "code",
   "execution_count": 5,
   "metadata": {
    "collapsed": true
   },
   "outputs": [],
   "source": [
    "pre_dat = pre_dat.loc[(pre_dat.STATUS_ID == 'S').values]"
   ]
  },
  {
   "cell_type": "code",
   "execution_count": 6,
   "metadata": {
    "collapsed": true
   },
   "outputs": [],
   "source": [
    "# correct the profit loss\n",
    "c1 = ((pre_dat.BID_TYP == 'B') & (pre_dat.PROFIT_LOSS > 0))\n",
    "c2 = ((pre_dat.BID_TYP == 'B') & (pre_dat.PROFIT_LOSS < 0))\n",
    "c3 = ((pre_dat.BID_TYP == 'L') & (pre_dat.PROFIT_LOSS > 0))\n",
    "c4 = ((pre_dat.BID_TYP == 'L') & (pre_dat.PROFIT_LOSS < 0))\n",
    "pre_dat.loc[c1.values, 'correct_profit_loss'] = pre_dat.loc[c1.values, 'BET_SIZE'] * (pre_dat.loc[c1.values, 'PRICE_TAKEN'] -1)\n",
    "pre_dat.loc[c2.values, 'correct_profit_loss'] = - pre_dat.loc[c2.values, 'BET_SIZE']\n",
    "pre_dat.loc[c3.values, 'correct_profit_loss'] = pre_dat.loc[c3.values, 'BET_SIZE']\n",
    "pre_dat.loc[c4.values, 'correct_profit_loss'] = - pre_dat.loc[c4.values, 'BET_SIZE'] * (pre_dat.loc[c4.values, 'PRICE_TAKEN'] -1)"
   ]
  },
  {
   "cell_type": "code",
   "execution_count": 186,
   "metadata": {
    "collapsed": true
   },
   "outputs": [],
   "source": [
    "semi_final = pd.read_csv('semi_and_final_features.csv')\n",
    "semi_final.columns = ['Account_ID', 'EVENT_ID', 'TRANSACTION_COUNT', 'STATUS_ID',\n",
    "       'INPLAY_BET', 'AVG_BET_SIZE', 'MAX_BET_SIZE', 'MIN_BET_SIZE',\n",
    "       'STDEV_BET_SIZE']"
   ]
  },
  {
   "cell_type": "code",
   "execution_count": 187,
   "metadata": {
    "collapsed": true
   },
   "outputs": [],
   "source": [
    "semi_final = semi_final.loc[(semi_final.STATUS_ID == 'S').values, :]"
   ]
  },
  {
   "cell_type": "code",
   "execution_count": 188,
   "metadata": {
    "collapsed": true
   },
   "outputs": [],
   "source": [
    "# map eventid to match\n",
    "semi_final_map = {101187238: 'South Africa v New Zealand',\n",
    "                  101187943: 'Australia v India',\n",
    "                  101191295: 'New Zealand v Australia'}\n",
    "semi_final.loc[:, 'MATCH'] = semi_final.loc[:, 'EVENT_ID'].map(semi_final_map)"
   ]
  },
  {
   "cell_type": "code",
   "execution_count": 10,
   "metadata": {
    "collapsed": true
   },
   "outputs": [],
   "source": [
    "submit = pd.read_csv('sample_submission_bet_size.csv')\n",
    "submit.columns = ['Account_ID', 'Prediction']"
   ]
  },
  {
   "cell_type": "code",
   "execution_count": 11,
   "metadata": {
    "collapsed": true
   },
   "outputs": [],
   "source": [
    "pre_dat = pre_dat.loc[pre_dat.ACCOUNT_ID.isin(submit.Account_ID), :]"
   ]
  },
  {
   "cell_type": "code",
   "execution_count": 13,
   "metadata": {
    "collapsed": false
   },
   "outputs": [],
   "source": [
    "pre_dat_by_account = pre_dat.groupby('ACCOUNT_ID')\n",
    "pre_dat_by_account_event = pre_dat.groupby(['ACCOUNT_ID', 'EVENT_ID'])"
   ]
  },
  {
   "cell_type": "code",
   "execution_count": 94,
   "metadata": {
    "collapsed": true
   },
   "outputs": [],
   "source": [
    "def get_average_price(df):\n",
    "    backs = df.BID_TYP == 'B'\n",
    "    lays = df.BID_TYP == 'L'\n",
    "    total_back_size = df.loc[backs.values, 'BET_SIZE'].sum() + 0.001\n",
    "    total_lay_size = df.loc[lays.values, 'BET_SIZE'].sum() + 0.001\n",
    "    avg_back_price = (df.loc[backs.values, 'BET_SIZE'] * df.loc[backs.values, 'PRICE_TAKEN']).sum() / total_back_size\n",
    "    avg_lay_price = (df.loc[lays.values, 'BET_SIZE'] * df.loc[lays.values, 'PRICE_TAKEN']).sum() / total_lay_size\n",
    "    back_share = df.loc[backs.values, 'BET_SIZE'].sum() / (total_back_size + total_lay_size)\n",
    "    back_std = df.loc[backs.values, 'PRICE_TAKEN'].std()\n",
    "    lay_std = df.loc[lays.values, 'PRICE_TAKEN'].std()\n",
    "    return pd.Series({'avg_back_price': avg_back_price,\n",
    "                      'avg_lay_price': avg_lay_price,\n",
    "                      'back_share': back_share,\n",
    "                      'back_std': back_std,\n",
    "                      'lay_std': lay_std})"
   ]
  },
  {
   "cell_type": "code",
   "execution_count": 95,
   "metadata": {
    "collapsed": true
   },
   "outputs": [],
   "source": [
    "avg_price = pre_dat_by_account.apply(get_average_price)"
   ]
  },
  {
   "cell_type": "code",
   "execution_count": 96,
   "metadata": {
    "collapsed": false
   },
   "outputs": [
    {
     "data": {
      "text/html": [
       "<div>\n",
       "<table border=\"1\" class=\"dataframe\">\n",
       "  <thead>\n",
       "    <tr style=\"text-align: right;\">\n",
       "      <th></th>\n",
       "      <th>avg_back_price</th>\n",
       "      <th>avg_lay_price</th>\n",
       "      <th>back_share</th>\n",
       "      <th>back_std</th>\n",
       "      <th>lay_std</th>\n",
       "    </tr>\n",
       "    <tr>\n",
       "      <th>ACCOUNT_ID</th>\n",
       "      <th></th>\n",
       "      <th></th>\n",
       "      <th></th>\n",
       "      <th></th>\n",
       "      <th></th>\n",
       "    </tr>\n",
       "  </thead>\n",
       "  <tbody>\n",
       "    <tr>\n",
       "      <th>1000002</th>\n",
       "      <td>2.131243</td>\n",
       "      <td>0.000000</td>\n",
       "      <td>1.000000</td>\n",
       "      <td>10.273789</td>\n",
       "      <td>NaN</td>\n",
       "    </tr>\n",
       "    <tr>\n",
       "      <th>1000004</th>\n",
       "      <td>2.009621</td>\n",
       "      <td>1.226126</td>\n",
       "      <td>0.529321</td>\n",
       "      <td>9.114344</td>\n",
       "      <td>0.183689</td>\n",
       "    </tr>\n",
       "    <tr>\n",
       "      <th>1000005</th>\n",
       "      <td>1.164510</td>\n",
       "      <td>1.081237</td>\n",
       "      <td>0.459241</td>\n",
       "      <td>0.533567</td>\n",
       "      <td>0.223361</td>\n",
       "    </tr>\n",
       "    <tr>\n",
       "      <th>1000010</th>\n",
       "      <td>4.900702</td>\n",
       "      <td>1.240785</td>\n",
       "      <td>0.434367</td>\n",
       "      <td>58.987752</td>\n",
       "      <td>0.264042</td>\n",
       "    </tr>\n",
       "    <tr>\n",
       "      <th>1000014</th>\n",
       "      <td>1.499985</td>\n",
       "      <td>0.000000</td>\n",
       "      <td>0.999980</td>\n",
       "      <td>0.000000</td>\n",
       "      <td>NaN</td>\n",
       "    </tr>\n",
       "    <tr>\n",
       "      <th>1000017</th>\n",
       "      <td>1.558828</td>\n",
       "      <td>0.000000</td>\n",
       "      <td>1.000000</td>\n",
       "      <td>1.963770</td>\n",
       "      <td>NaN</td>\n",
       "    </tr>\n",
       "    <tr>\n",
       "      <th>1000019</th>\n",
       "      <td>3.978041</td>\n",
       "      <td>2.244549</td>\n",
       "      <td>0.513622</td>\n",
       "      <td>13.841371</td>\n",
       "      <td>0.305090</td>\n",
       "    </tr>\n",
       "    <tr>\n",
       "      <th>1000022</th>\n",
       "      <td>5.573535</td>\n",
       "      <td>2.129193</td>\n",
       "      <td>0.044491</td>\n",
       "      <td>4.889441</td>\n",
       "      <td>6.999629</td>\n",
       "    </tr>\n",
       "    <tr>\n",
       "      <th>1000023</th>\n",
       "      <td>1.351965</td>\n",
       "      <td>1.416883</td>\n",
       "      <td>0.579651</td>\n",
       "      <td>0.292586</td>\n",
       "      <td>0.215886</td>\n",
       "    </tr>\n",
       "    <tr>\n",
       "      <th>1000024</th>\n",
       "      <td>1.257680</td>\n",
       "      <td>1.345368</td>\n",
       "      <td>0.457452</td>\n",
       "      <td>0.292267</td>\n",
       "      <td>3.470164</td>\n",
       "    </tr>\n",
       "  </tbody>\n",
       "</table>\n",
       "</div>"
      ],
      "text/plain": [
       "            avg_back_price  avg_lay_price  back_share   back_std   lay_std\n",
       "ACCOUNT_ID                                                                \n",
       "1000002           2.131243       0.000000    1.000000  10.273789       NaN\n",
       "1000004           2.009621       1.226126    0.529321   9.114344  0.183689\n",
       "1000005           1.164510       1.081237    0.459241   0.533567  0.223361\n",
       "1000010           4.900702       1.240785    0.434367  58.987752  0.264042\n",
       "1000014           1.499985       0.000000    0.999980   0.000000       NaN\n",
       "1000017           1.558828       0.000000    1.000000   1.963770       NaN\n",
       "1000019           3.978041       2.244549    0.513622  13.841371  0.305090\n",
       "1000022           5.573535       2.129193    0.044491   4.889441  6.999629\n",
       "1000023           1.351965       1.416883    0.579651   0.292586  0.215886\n",
       "1000024           1.257680       1.345368    0.457452   0.292267  3.470164"
      ]
     },
     "execution_count": 96,
     "metadata": {},
     "output_type": "execute_result"
    }
   ],
   "source": [
    "avg_price.head(10)"
   ]
  },
  {
   "cell_type": "code",
   "execution_count": 97,
   "metadata": {
    "collapsed": true
   },
   "outputs": [],
   "source": [
    "avg_bet_size = pre_dat_by_account_event['BET_SIZE'].sum()"
   ]
  },
  {
   "cell_type": "code",
   "execution_count": 98,
   "metadata": {
    "collapsed": true
   },
   "outputs": [],
   "source": [
    "avg_bet_size = avg_bet_size.groupby(level=0).mean()"
   ]
  },
  {
   "cell_type": "code",
   "execution_count": 99,
   "metadata": {
    "collapsed": false
   },
   "outputs": [
    {
     "data": {
      "text/plain": [
       "ACCOUNT_ID\n",
       "1000002    2091.105015\n",
       "1000004     259.069892\n",
       "1000005    5599.937000\n",
       "1000010     932.061019\n",
       "1000014     100.000000\n",
       "Name: BET_SIZE, dtype: float64"
      ]
     },
     "execution_count": 99,
     "metadata": {},
     "output_type": "execute_result"
    }
   ],
   "source": [
    "avg_bet_size.head()"
   ]
  },
  {
   "cell_type": "code",
   "execution_count": 100,
   "metadata": {
    "collapsed": true
   },
   "outputs": [],
   "source": [
    "avg = pd.concat([avg_bet_size, avg_price], axis=1)"
   ]
  },
  {
   "cell_type": "code",
   "execution_count": 222,
   "metadata": {
    "collapsed": false
   },
   "outputs": [
    {
     "data": {
      "text/html": [
       "<div>\n",
       "<table border=\"1\" class=\"dataframe\">\n",
       "  <thead>\n",
       "    <tr style=\"text-align: right;\">\n",
       "      <th></th>\n",
       "      <th>BET_SIZE</th>\n",
       "      <th>avg_back_price</th>\n",
       "      <th>avg_lay_price</th>\n",
       "      <th>back_share</th>\n",
       "      <th>back_std</th>\n",
       "      <th>lay_std</th>\n",
       "      <th>correct_profit_loss</th>\n",
       "      <th>segment</th>\n",
       "    </tr>\n",
       "    <tr>\n",
       "      <th>ACCOUNT_ID</th>\n",
       "      <th></th>\n",
       "      <th></th>\n",
       "      <th></th>\n",
       "      <th></th>\n",
       "      <th></th>\n",
       "      <th></th>\n",
       "      <th></th>\n",
       "      <th></th>\n",
       "    </tr>\n",
       "  </thead>\n",
       "  <tbody>\n",
       "    <tr>\n",
       "      <th>1000002</th>\n",
       "      <td>2091.105015</td>\n",
       "      <td>2.131243</td>\n",
       "      <td>0.000000</td>\n",
       "      <td>1.000000</td>\n",
       "      <td>10.273789</td>\n",
       "      <td>0.000000</td>\n",
       "      <td>False</td>\n",
       "      <td>0</td>\n",
       "    </tr>\n",
       "    <tr>\n",
       "      <th>1000004</th>\n",
       "      <td>259.069892</td>\n",
       "      <td>2.009621</td>\n",
       "      <td>1.226126</td>\n",
       "      <td>0.529321</td>\n",
       "      <td>9.114344</td>\n",
       "      <td>0.183689</td>\n",
       "      <td>False</td>\n",
       "      <td>2</td>\n",
       "    </tr>\n",
       "    <tr>\n",
       "      <th>1000005</th>\n",
       "      <td>5599.937000</td>\n",
       "      <td>1.164510</td>\n",
       "      <td>1.081237</td>\n",
       "      <td>0.459241</td>\n",
       "      <td>0.533567</td>\n",
       "      <td>0.223361</td>\n",
       "      <td>False</td>\n",
       "      <td>2</td>\n",
       "    </tr>\n",
       "    <tr>\n",
       "      <th>1000010</th>\n",
       "      <td>932.061019</td>\n",
       "      <td>4.900702</td>\n",
       "      <td>1.240785</td>\n",
       "      <td>0.434367</td>\n",
       "      <td>58.987752</td>\n",
       "      <td>0.264042</td>\n",
       "      <td>False</td>\n",
       "      <td>1</td>\n",
       "    </tr>\n",
       "    <tr>\n",
       "      <th>1000014</th>\n",
       "      <td>100.000000</td>\n",
       "      <td>1.499985</td>\n",
       "      <td>0.000000</td>\n",
       "      <td>0.999980</td>\n",
       "      <td>0.000000</td>\n",
       "      <td>0.000000</td>\n",
       "      <td>True</td>\n",
       "      <td>0</td>\n",
       "    </tr>\n",
       "  </tbody>\n",
       "</table>\n",
       "</div>"
      ],
      "text/plain": [
       "               BET_SIZE  avg_back_price  avg_lay_price  back_share   back_std  \\\n",
       "ACCOUNT_ID                                                                      \n",
       "1000002     2091.105015        2.131243       0.000000    1.000000  10.273789   \n",
       "1000004      259.069892        2.009621       1.226126    0.529321   9.114344   \n",
       "1000005     5599.937000        1.164510       1.081237    0.459241   0.533567   \n",
       "1000010      932.061019        4.900702       1.240785    0.434367  58.987752   \n",
       "1000014      100.000000        1.499985       0.000000    0.999980   0.000000   \n",
       "\n",
       "             lay_std correct_profit_loss  segment  \n",
       "ACCOUNT_ID                                         \n",
       "1000002     0.000000               False        0  \n",
       "1000004     0.183689               False        2  \n",
       "1000005     0.223361               False        2  \n",
       "1000010     0.264042               False        1  \n",
       "1000014     0.000000                True        0  "
      ]
     },
     "execution_count": 222,
     "metadata": {},
     "output_type": "execute_result"
    }
   ],
   "source": [
    "avg.head()"
   ]
  },
  {
   "cell_type": "code",
   "execution_count": 151,
   "metadata": {
    "collapsed": true
   },
   "outputs": [],
   "source": [
    "quarter = pre_dat.loc[pre_dat.EVENT_ID.isin([101183237, 101183757, 101183885, 101184013])]"
   ]
  },
  {
   "cell_type": "code",
   "execution_count": 152,
   "metadata": {
    "collapsed": false
   },
   "outputs": [
    {
     "data": {
      "text/plain": [
       "4925"
      ]
     },
     "execution_count": 152,
     "metadata": {},
     "output_type": "execute_result"
    }
   ],
   "source": [
    "quarter.ACCOUNT_ID.nunique()"
   ]
  },
  {
   "cell_type": "code",
   "execution_count": 153,
   "metadata": {
    "collapsed": true
   },
   "outputs": [],
   "source": [
    "quarter_by_account = quarter.groupby('ACCOUNT_ID')"
   ]
  },
  {
   "cell_type": "code",
   "execution_count": 154,
   "metadata": {
    "collapsed": true
   },
   "outputs": [],
   "source": [
    "quarter_profit = quarter_by_account['correct_profit_loss'].sum()"
   ]
  },
  {
   "cell_type": "code",
   "execution_count": 155,
   "metadata": {
    "collapsed": false
   },
   "outputs": [
    {
     "data": {
      "text/plain": [
       "ACCOUNT_ID\n",
       "1000002   -216.925587\n",
       "1000004   -262.443860\n",
       "1000005    -16.951520\n",
       "1000010   -288.905712\n",
       "1000014     50.000000\n",
       "Name: correct_profit_loss, dtype: float64"
      ]
     },
     "execution_count": 155,
     "metadata": {},
     "output_type": "execute_result"
    }
   ],
   "source": [
    "quarter_profit.head()"
   ]
  },
  {
   "cell_type": "code",
   "execution_count": 156,
   "metadata": {
    "collapsed": true
   },
   "outputs": [],
   "source": [
    "is_quarter_profit = quarter_profit > 0"
   ]
  },
  {
   "cell_type": "code",
   "execution_count": 164,
   "metadata": {
    "collapsed": false
   },
   "outputs": [
    {
     "data": {
      "text/plain": [
       "False    2780\n",
       "True     2145\n",
       "dtype: int64"
      ]
     },
     "execution_count": 164,
     "metadata": {},
     "output_type": "execute_result"
    }
   ],
   "source": [
    "is_quarter_profit.value_counts()"
   ]
  },
  {
   "cell_type": "code",
   "execution_count": 157,
   "metadata": {
    "collapsed": false
   },
   "outputs": [
    {
     "data": {
      "text/plain": [
       "ACCOUNT_ID\n",
       "1000002    False\n",
       "1000004    False\n",
       "1000005    False\n",
       "1000010    False\n",
       "1000014     True\n",
       "Name: correct_profit_loss, dtype: bool"
      ]
     },
     "execution_count": 157,
     "metadata": {},
     "output_type": "execute_result"
    }
   ],
   "source": [
    "is_quarter_profit.head()"
   ]
  },
  {
   "cell_type": "code",
   "execution_count": 109,
   "metadata": {
    "collapsed": true
   },
   "outputs": [],
   "source": [
    "avg = pd.concat([avg, is_quarter_profit], axis=1)"
   ]
  },
  {
   "cell_type": "code",
   "execution_count": 119,
   "metadata": {
    "collapsed": true
   },
   "outputs": [],
   "source": [
    "avg.loc[:, ['back_std', 'lay_std']] = avg.loc[:, ['back_std', 'lay_std']].fillna(0)"
   ]
  },
  {
   "cell_type": "code",
   "execution_count": 160,
   "metadata": {
    "collapsed": false
   },
   "outputs": [],
   "source": [
    "avg1 = avg.dropna()"
   ]
  },
  {
   "cell_type": "code",
   "execution_count": 112,
   "metadata": {
    "collapsed": false
   },
   "outputs": [
    {
     "data": {
      "text/plain": [
       "<matplotlib.axes._subplots.AxesSubplot at 0x1175868d0>"
      ]
     },
     "execution_count": 112,
     "metadata": {},
     "output_type": "execute_result"
    },
    {
     "data": {
      "image/png": "[encoded data removed]",
      "text/plain": [
       "<matplotlib.figure.Figure at 0x12ea6ee10>"
      ]
     },
     "metadata": {},
     "output_type": "display_data"
    }
   ],
   "source": [
    "ax = avg1.loc[(avg1.correct_profit_loss == True).values].plot(kind='scatter', x='avg_back_price', y='avg_lay_price', xlim=(0, 10), ylim=(0, 10))\n",
    "avg1.loc[(avg1.correct_profit_loss == False).values].plot(kind='scatter', x='avg_back_price', y='avg_lay_price', ax=ax, color='r', xlim=(0, 10), ylim=(0, 10))"
   ]
  },
  {
   "cell_type": "code",
   "execution_count": 236,
   "metadata": {
    "collapsed": false
   },
   "outputs": [
    {
     "data": {
      "text/plain": [
       "RandomForestClassifier(bootstrap=True, class_weight=None, criterion='gini',\n",
       "            max_depth=None, max_features='auto', max_leaf_nodes=None,\n",
       "            min_samples_leaf=1, min_samples_split=2,\n",
       "            min_weight_fraction_leaf=0.0, n_estimators=50, n_jobs=1,\n",
       "            oob_score=False, random_state=None, verbose=0,\n",
       "            warm_start=False)"
      ]
     },
     "execution_count": 236,
     "metadata": {},
     "output_type": "execute_result"
    }
   ],
   "source": [
    "rf = RandomForestClassifier(n_estimators=50)\n",
    "rf.fit(avg1[['BET_SIZE', 'avg_back_price', 'avg_lay_price', 'back_share', 'back_std', 'lay_std']], avg1['correct_profit_loss'])"
   ]
  },
  {
   "cell_type": "code",
   "execution_count": 237,
   "metadata": {
    "collapsed": false
   },
   "outputs": [
    {
     "data": {
      "text/plain": [
       "False    2781\n",
       "True     2144\n",
       "dtype: int64"
      ]
     },
     "execution_count": 237,
     "metadata": {},
     "output_type": "execute_result"
    }
   ],
   "source": [
    "pd.Series(rf.predict(avg1[['BET_SIZE', 'avg_back_price', 'avg_lay_price', 'back_share', 'back_std', 'lay_std']])).value_counts()"
   ]
  },
  {
   "cell_type": "code",
   "execution_count": 238,
   "metadata": {
    "collapsed": false
   },
   "outputs": [],
   "source": [
    "to_submit = pd.DataFrame({\n",
    "    'Account_ID': avg.index,\n",
    "    'Prediction': rf.predict_proba(avg[['BET_SIZE', 'avg_back_price', 'avg_lay_price', 'back_share', 'back_std', 'lay_std']])[:, 1]})"
   ]
  },
  {
   "cell_type": "code",
   "execution_count": 167,
   "metadata": {
    "collapsed": true
   },
   "outputs": [],
   "source": [
    "to_submit = to_submit.set_index('Account_ID')"
   ]
  },
  {
   "cell_type": "code",
   "execution_count": 168,
   "metadata": {
    "collapsed": false
   },
   "outputs": [],
   "source": [
    "to_submit = to_submit.loc[submit.Account_ID.tolist()]"
   ]
  },
  {
   "cell_type": "code",
   "execution_count": 239,
   "metadata": {
    "collapsed": false
   },
   "outputs": [
    {
     "data": {
      "text/html": [
       "<div>\n",
       "<table border=\"1\" class=\"dataframe\">\n",
       "  <thead>\n",
       "    <tr style=\"text-align: right;\">\n",
       "      <th></th>\n",
       "      <th>Account_ID</th>\n",
       "      <th>Prediction</th>\n",
       "    </tr>\n",
       "  </thead>\n",
       "  <tbody>\n",
       "    <tr>\n",
       "      <th>0</th>\n",
       "      <td>1000002</td>\n",
       "      <td>0.283881</td>\n",
       "    </tr>\n",
       "    <tr>\n",
       "      <th>1</th>\n",
       "      <td>1000004</td>\n",
       "      <td>0.040000</td>\n",
       "    </tr>\n",
       "    <tr>\n",
       "      <th>2</th>\n",
       "      <td>1000005</td>\n",
       "      <td>0.100000</td>\n",
       "    </tr>\n",
       "    <tr>\n",
       "      <th>3</th>\n",
       "      <td>1000010</td>\n",
       "      <td>0.020000</td>\n",
       "    </tr>\n",
       "    <tr>\n",
       "      <th>4</th>\n",
       "      <td>1000014</td>\n",
       "      <td>1.000000</td>\n",
       "    </tr>\n",
       "  </tbody>\n",
       "</table>\n",
       "</div>"
      ],
      "text/plain": [
       "   Account_ID  Prediction\n",
       "0     1000002    0.283881\n",
       "1     1000004    0.040000\n",
       "2     1000005    0.100000\n",
       "3     1000010    0.020000\n",
       "4     1000014    1.000000"
      ]
     },
     "execution_count": 239,
     "metadata": {},
     "output_type": "execute_result"
    }
   ],
   "source": [
    "to_submit.head()"
   ]
  },
  {
   "cell_type": "code",
   "execution_count": 170,
   "metadata": {
    "collapsed": false
   },
   "outputs": [],
   "source": [
    "to_submit = to_submit.fillna(0.2).reset_index()"
   ]
  },
  {
   "cell_type": "code",
   "execution_count": 171,
   "metadata": {
    "collapsed": false
   },
   "outputs": [
    {
     "data": {
      "text/html": [
       "<div>\n",
       "<table border=\"1\" class=\"dataframe\">\n",
       "  <thead>\n",
       "    <tr style=\"text-align: right;\">\n",
       "      <th></th>\n",
       "      <th>Account_ID</th>\n",
       "      <th>Prediction</th>\n",
       "    </tr>\n",
       "  </thead>\n",
       "  <tbody>\n",
       "    <tr>\n",
       "      <th>count</th>\n",
       "      <td>7374.000000</td>\n",
       "      <td>7374.000000</td>\n",
       "    </tr>\n",
       "    <tr>\n",
       "      <th>mean</th>\n",
       "      <td>1011060.910768</td>\n",
       "      <td>0.395981</td>\n",
       "    </tr>\n",
       "    <tr>\n",
       "      <th>std</th>\n",
       "      <td>6613.263866</td>\n",
       "      <td>0.380509</td>\n",
       "    </tr>\n",
       "    <tr>\n",
       "      <th>min</th>\n",
       "      <td>1000002.000000</td>\n",
       "      <td>0.000000</td>\n",
       "    </tr>\n",
       "    <tr>\n",
       "      <th>25%</th>\n",
       "      <td>1005685.750000</td>\n",
       "      <td>0.100000</td>\n",
       "    </tr>\n",
       "    <tr>\n",
       "      <th>50%</th>\n",
       "      <td>1010105.000000</td>\n",
       "      <td>0.200000</td>\n",
       "    </tr>\n",
       "    <tr>\n",
       "      <th>75%</th>\n",
       "      <td>1016848.750000</td>\n",
       "      <td>0.800000</td>\n",
       "    </tr>\n",
       "    <tr>\n",
       "      <th>max</th>\n",
       "      <td>1024189.000000</td>\n",
       "      <td>1.000000</td>\n",
       "    </tr>\n",
       "  </tbody>\n",
       "</table>\n",
       "</div>"
      ],
      "text/plain": [
       "           Account_ID   Prediction\n",
       "count     7374.000000  7374.000000\n",
       "mean   1011060.910768     0.395981\n",
       "std       6613.263866     0.380509\n",
       "min    1000002.000000     0.000000\n",
       "25%    1005685.750000     0.100000\n",
       "50%    1010105.000000     0.200000\n",
       "75%    1016848.750000     0.800000\n",
       "max    1024189.000000     1.000000"
      ]
     },
     "execution_count": 171,
     "metadata": {},
     "output_type": "execute_result"
    }
   ],
   "source": [
    "to_submit.describe()"
   ]
  },
  {
   "cell_type": "code",
   "execution_count": 240,
   "metadata": {
    "collapsed": true
   },
   "outputs": [],
   "source": [
    "to_submit.to_csv('prob_from_lay_back_with_makeup_data_more_estimators.csv', index=False)"
   ]
  },
  {
   "cell_type": "code",
   "execution_count": 173,
   "metadata": {
    "collapsed": false
   },
   "outputs": [
    {
     "data": {
      "text/plain": [
       "6373"
      ]
     },
     "execution_count": 173,
     "metadata": {},
     "output_type": "execute_result"
    }
   ],
   "source": [
    "# look at the new ones\n",
    "pre_dat.ACCOUNT_ID.nunique()"
   ]
  },
  {
   "cell_type": "code",
   "execution_count": 175,
   "metadata": {
    "collapsed": false
   },
   "outputs": [
    {
     "data": {
      "text/plain": [
       "7374"
      ]
     },
     "execution_count": 175,
     "metadata": {},
     "output_type": "execute_result"
    }
   ],
   "source": [
    "submit.Account_ID.nunique()"
   ]
  },
  {
   "cell_type": "code",
   "execution_count": 179,
   "metadata": {
    "collapsed": false
   },
   "outputs": [],
   "source": [
    "newbies = submit.loc[~submit.Account_ID.isin(pre_dat.ACCOUNT_ID), 'Account_ID'].tolist()"
   ]
  },
  {
   "cell_type": "code",
   "execution_count": 189,
   "metadata": {
    "collapsed": false
   },
   "outputs": [],
   "source": [
    "newbie_dat = semi_final.loc[semi_final.Account_ID.isin(newbies), :]"
   ]
  },
  {
   "cell_type": "code",
   "execution_count": 191,
   "metadata": {
    "collapsed": false
   },
   "outputs": [
    {
     "data": {
      "text/html": [
       "<div>\n",
       "<table border=\"1\" class=\"dataframe\">\n",
       "  <thead>\n",
       "    <tr style=\"text-align: right;\">\n",
       "      <th></th>\n",
       "      <th>Account_ID</th>\n",
       "      <th>EVENT_ID</th>\n",
       "      <th>TRANSACTION_COUNT</th>\n",
       "      <th>STATUS_ID</th>\n",
       "      <th>INPLAY_BET</th>\n",
       "      <th>AVG_BET_SIZE</th>\n",
       "      <th>MAX_BET_SIZE</th>\n",
       "      <th>MIN_BET_SIZE</th>\n",
       "      <th>STDEV_BET_SIZE</th>\n",
       "      <th>MATCH</th>\n",
       "      <th>total</th>\n",
       "    </tr>\n",
       "  </thead>\n",
       "  <tbody>\n",
       "    <tr>\n",
       "      <th>246</th>\n",
       "      <td>1000168</td>\n",
       "      <td>101187238</td>\n",
       "      <td>1</td>\n",
       "      <td>S</td>\n",
       "      <td>N</td>\n",
       "      <td>1261.438500</td>\n",
       "      <td>1261.43850</td>\n",
       "      <td>1261.438500</td>\n",
       "      <td>0.000000</td>\n",
       "      <td>South Africa v New Zealand</td>\n",
       "      <td>1261.43850</td>\n",
       "    </tr>\n",
       "    <tr>\n",
       "      <th>247</th>\n",
       "      <td>1000168</td>\n",
       "      <td>101187238</td>\n",
       "      <td>3</td>\n",
       "      <td>S</td>\n",
       "      <td>N</td>\n",
       "      <td>870.866790</td>\n",
       "      <td>1263.33540</td>\n",
       "      <td>85.929570</td>\n",
       "      <td>679.775573</td>\n",
       "      <td>South Africa v New Zealand</td>\n",
       "      <td>2612.60037</td>\n",
       "    </tr>\n",
       "    <tr>\n",
       "      <th>249</th>\n",
       "      <td>1000168</td>\n",
       "      <td>101187943</td>\n",
       "      <td>1</td>\n",
       "      <td>S</td>\n",
       "      <td>N</td>\n",
       "      <td>858.221000</td>\n",
       "      <td>858.22100</td>\n",
       "      <td>858.221000</td>\n",
       "      <td>0.000000</td>\n",
       "      <td>Australia v India</td>\n",
       "      <td>858.22100</td>\n",
       "    </tr>\n",
       "    <tr>\n",
       "      <th>250</th>\n",
       "      <td>1000168</td>\n",
       "      <td>101187943</td>\n",
       "      <td>7</td>\n",
       "      <td>S</td>\n",
       "      <td>Y</td>\n",
       "      <td>622.984914</td>\n",
       "      <td>1467.46360</td>\n",
       "      <td>12.241438</td>\n",
       "      <td>548.878251</td>\n",
       "      <td>Australia v India</td>\n",
       "      <td>4360.89440</td>\n",
       "    </tr>\n",
       "    <tr>\n",
       "      <th>251</th>\n",
       "      <td>1000168</td>\n",
       "      <td>101187943</td>\n",
       "      <td>15</td>\n",
       "      <td>S</td>\n",
       "      <td>Y</td>\n",
       "      <td>187.865520</td>\n",
       "      <td>585.94803</td>\n",
       "      <td>19.880548</td>\n",
       "      <td>187.252063</td>\n",
       "      <td>Australia v India</td>\n",
       "      <td>2817.98280</td>\n",
       "    </tr>\n",
       "  </tbody>\n",
       "</table>\n",
       "</div>"
      ],
      "text/plain": [
       "     Account_ID   EVENT_ID  TRANSACTION_COUNT STATUS_ID INPLAY_BET  \\\n",
       "246     1000168  101187238                  1         S          N   \n",
       "247     1000168  101187238                  3         S          N   \n",
       "249     1000168  101187943                  1         S          N   \n",
       "250     1000168  101187943                  7         S          Y   \n",
       "251     1000168  101187943                 15         S          Y   \n",
       "\n",
       "     AVG_BET_SIZE  MAX_BET_SIZE  MIN_BET_SIZE  STDEV_BET_SIZE  \\\n",
       "246   1261.438500    1261.43850   1261.438500        0.000000   \n",
       "247    870.866790    1263.33540     85.929570      679.775573   \n",
       "249    858.221000     858.22100    858.221000        0.000000   \n",
       "250    622.984914    1467.46360     12.241438      548.878251   \n",
       "251    187.865520     585.94803     19.880548      187.252063   \n",
       "\n",
       "                          MATCH       total  \n",
       "246  South Africa v New Zealand  1261.43850  \n",
       "247  South Africa v New Zealand  2612.60037  \n",
       "249           Australia v India   858.22100  \n",
       "250           Australia v India  4360.89440  \n",
       "251           Australia v India  2817.98280  "
      ]
     },
     "execution_count": 191,
     "metadata": {},
     "output_type": "execute_result"
    }
   ],
   "source": [
    "newbie_dat.head()"
   ]
  },
  {
   "cell_type": "code",
   "execution_count": 215,
   "metadata": {
    "collapsed": false
   },
   "outputs": [
    {
     "name": "stderr",
     "output_type": "stream",
     "text": [
      "/Users/feizhan/miniconda/envs/py3_env/lib/python3.4/site-packages/pandas/core/indexing.py:415: SettingWithCopyWarning: \n",
      "A value is trying to be set on a copy of a slice from a DataFrame.\n",
      "Try using .loc[row_indexer,col_indexer] = value instead\n",
      "\n",
      "See the the caveats in the documentation: http://pandas.pydata.org/pandas-docs/stable/indexing.html#indexing-view-versus-copy\n",
      "  self.obj[item] = s\n"
     ]
    }
   ],
   "source": [
    "# get the average bet\n",
    "newbie_dat.loc[:, 'total'] = newbie_dat.loc[:, 'TRANSACTION_COUNT'] * newbie_dat.loc[:, 'AVG_BET_SIZE']"
   ]
  },
  {
   "cell_type": "code",
   "execution_count": 192,
   "metadata": {
    "collapsed": true
   },
   "outputs": [],
   "source": [
    "newbie_dat_by_account_event = newbie_dat.groupby(['Account_ID', 'EVENT_ID'])"
   ]
  },
  {
   "cell_type": "code",
   "execution_count": 193,
   "metadata": {
    "collapsed": true
   },
   "outputs": [],
   "source": [
    "new_game_total = newbie_dat_by_account_event['total'].sum()"
   ]
  },
  {
   "cell_type": "code",
   "execution_count": 195,
   "metadata": {
    "collapsed": false
   },
   "outputs": [],
   "source": [
    "new_game_avg = new_game_total.groupby(level=0).mean()"
   ]
  },
  {
   "cell_type": "code",
   "execution_count": 212,
   "metadata": {
    "collapsed": false
   },
   "outputs": [],
   "source": [
    "rfg = RandomForestRegressor(n_estimators=20)"
   ]
  },
  {
   "cell_type": "code",
   "execution_count": 216,
   "metadata": {
    "collapsed": false
   },
   "outputs": [
    {
     "data": {
      "text/plain": [
       "RandomForestRegressor(bootstrap=True, criterion='mse', max_depth=None,\n",
       "           max_features='auto', max_leaf_nodes=None, min_samples_leaf=1,\n",
       "           min_samples_split=2, min_weight_fraction_leaf=0.0,\n",
       "           n_estimators=20, n_jobs=1, oob_score=False, random_state=None,\n",
       "           verbose=0, warm_start=False)"
      ]
     },
     "execution_count": 216,
     "metadata": {},
     "output_type": "execute_result"
    }
   ],
   "source": [
    "rfg.fit(avg.loc[:, ['BET_SIZE']], avg.loc[:, ['avg_back_price', 'avg_lay_price', 'back_share', 'back_std', 'lay_std']])"
   ]
  },
  {
   "cell_type": "code",
   "execution_count": 219,
   "metadata": {
    "collapsed": false
   },
   "outputs": [],
   "source": [
    "new_game_avg = pd.DataFrame(new_game_avg)"
   ]
  },
  {
   "cell_type": "code",
   "execution_count": 224,
   "metadata": {
    "collapsed": false
   },
   "outputs": [
    {
     "data": {
      "text/html": [
       "<div>\n",
       "<table border=\"1\" class=\"dataframe\">\n",
       "  <thead>\n",
       "    <tr style=\"text-align: right;\">\n",
       "      <th></th>\n",
       "      <th>total</th>\n",
       "    </tr>\n",
       "    <tr>\n",
       "      <th>Account_ID</th>\n",
       "      <th></th>\n",
       "    </tr>\n",
       "  </thead>\n",
       "  <tbody>\n",
       "    <tr>\n",
       "      <th>1000168</th>\n",
       "      <td>5955.568535</td>\n",
       "    </tr>\n",
       "    <tr>\n",
       "      <th>1000207</th>\n",
       "      <td>2000.000000</td>\n",
       "    </tr>\n",
       "    <tr>\n",
       "      <th>1000249</th>\n",
       "      <td>901.360094</td>\n",
       "    </tr>\n",
       "    <tr>\n",
       "      <th>1000274</th>\n",
       "      <td>228.645164</td>\n",
       "    </tr>\n",
       "    <tr>\n",
       "      <th>1000304</th>\n",
       "      <td>523.654400</td>\n",
       "    </tr>\n",
       "  </tbody>\n",
       "</table>\n",
       "</div>"
      ],
      "text/plain": [
       "                  total\n",
       "Account_ID             \n",
       "1000168     5955.568535\n",
       "1000207     2000.000000\n",
       "1000249      901.360094\n",
       "1000274      228.645164\n",
       "1000304      523.654400"
      ]
     },
     "execution_count": 224,
     "metadata": {},
     "output_type": "execute_result"
    }
   ],
   "source": [
    "new_game_avg.head()"
   ]
  },
  {
   "cell_type": "code",
   "execution_count": 223,
   "metadata": {
    "collapsed": true
   },
   "outputs": [],
   "source": [
    "make_up_data_np = rfg.predict(new_game_avg.iloc[:, [0]])"
   ]
  },
  {
   "cell_type": "code",
   "execution_count": 225,
   "metadata": {
    "collapsed": false
   },
   "outputs": [],
   "source": [
    "make_up_data = pd.DataFrame(\n",
    "    {'BET_SIZE': new_game_avg.total,\n",
    "     'avg_back_price': make_up_data_np[:, 0],\n",
    "     'avg_lay_price': make_up_data_np[:, 1],\n",
    "     'back_share': make_up_data_np[:, 2],\n",
    "     'back_std': make_up_data_np[:, 3],\n",
    "     'lay_std': make_up_data_np[:, 4]},\n",
    "    index=newbies)"
   ]
  },
  {
   "cell_type": "code",
   "execution_count": 226,
   "metadata": {
    "collapsed": false
   },
   "outputs": [
    {
     "data": {
      "text/html": [
       "<div>\n",
       "<table border=\"1\" class=\"dataframe\">\n",
       "  <thead>\n",
       "    <tr style=\"text-align: right;\">\n",
       "      <th></th>\n",
       "      <th>BET_SIZE</th>\n",
       "      <th>avg_back_price</th>\n",
       "      <th>avg_lay_price</th>\n",
       "      <th>back_share</th>\n",
       "      <th>back_std</th>\n",
       "      <th>lay_std</th>\n",
       "    </tr>\n",
       "  </thead>\n",
       "  <tbody>\n",
       "    <tr>\n",
       "      <th>1013818</th>\n",
       "      <td>208.65900</td>\n",
       "      <td>1.855905</td>\n",
       "      <td>2.299692</td>\n",
       "      <td>0.533008</td>\n",
       "      <td>2.500325</td>\n",
       "      <td>3.091612</td>\n",
       "    </tr>\n",
       "    <tr>\n",
       "      <th>1014436</th>\n",
       "      <td>2000.00000</td>\n",
       "      <td>1.420799</td>\n",
       "      <td>0.000000</td>\n",
       "      <td>0.999999</td>\n",
       "      <td>0.000000</td>\n",
       "      <td>0.000000</td>\n",
       "    </tr>\n",
       "    <tr>\n",
       "      <th>1017244</th>\n",
       "      <td>233.04546</td>\n",
       "      <td>1.606203</td>\n",
       "      <td>0.987962</td>\n",
       "      <td>0.688629</td>\n",
       "      <td>30.426378</td>\n",
       "      <td>5.325808</td>\n",
       "    </tr>\n",
       "    <tr>\n",
       "      <th>1014050</th>\n",
       "      <td>315.24000</td>\n",
       "      <td>2.078421</td>\n",
       "      <td>1.687355</td>\n",
       "      <td>0.473537</td>\n",
       "      <td>1.275486</td>\n",
       "      <td>0.991969</td>\n",
       "    </tr>\n",
       "    <tr>\n",
       "      <th>1001853</th>\n",
       "      <td>300.00000</td>\n",
       "      <td>3.494748</td>\n",
       "      <td>1.214900</td>\n",
       "      <td>0.317269</td>\n",
       "      <td>25.170578</td>\n",
       "      <td>0.216548</td>\n",
       "    </tr>\n",
       "  </tbody>\n",
       "</table>\n",
       "</div>"
      ],
      "text/plain": [
       "           BET_SIZE  avg_back_price  avg_lay_price  back_share   back_std  \\\n",
       "1013818   208.65900        1.855905       2.299692    0.533008   2.500325   \n",
       "1014436  2000.00000        1.420799       0.000000    0.999999   0.000000   \n",
       "1017244   233.04546        1.606203       0.987962    0.688629  30.426378   \n",
       "1014050   315.24000        2.078421       1.687355    0.473537   1.275486   \n",
       "1001853   300.00000        3.494748       1.214900    0.317269  25.170578   \n",
       "\n",
       "          lay_std  \n",
       "1013818  3.091612  \n",
       "1014436  0.000000  \n",
       "1017244  5.325808  \n",
       "1014050  0.991969  \n",
       "1001853  0.216548  "
      ]
     },
     "execution_count": 226,
     "metadata": {},
     "output_type": "execute_result"
    }
   ],
   "source": [
    "make_up_data.head()"
   ]
  },
  {
   "cell_type": "code",
   "execution_count": 228,
   "metadata": {
    "collapsed": false
   },
   "outputs": [],
   "source": [
    "avg = pd.concat([avg, make_up_data])"
   ]
  },
  {
   "cell_type": "code",
   "execution_count": 230,
   "metadata": {
    "collapsed": false
   },
   "outputs": [
    {
     "data": {
      "text/plain": [
       "(7374, 8)"
      ]
     },
     "execution_count": 230,
     "metadata": {},
     "output_type": "execute_result"
    }
   ],
   "source": [
    "avg.shape"
   ]
  },
  {
   "cell_type": "code",
   "execution_count": null,
   "metadata": {
    "collapsed": true
   },
   "outputs": [],
   "source": []
  }
 ],
 "metadata": {
  "kernelspec": {
   "display_name": "Python 3",
   "language": "python",
   "name": "python3"
  },
  "language_info": {
   "codemirror_mode": {
    "name": "ipython",
    "version": 3
   },
   "file_extension": ".py",
   "mimetype": "text/x-python",
   "name": "python",
   "nbconvert_exporter": "python",
   "pygments_lexer": "ipython3",
   "version": "3.4.3"
  }
 },
 "nbformat": 4,
 "nbformat_minor": 0
}
