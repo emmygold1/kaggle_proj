{
 "cells": [
  {
   "cell_type": "code",
   "execution_count": 363,
   "metadata": {
    "collapsed": false
   },
   "outputs": [],
   "source": [
    "%matplotlib inline\n",
    "import pandas as pd\n",
    "import numpy as np\n",
    "import matplotlib.pyplot as plt\n",
    "import re\n",
    "import glob\n",
    "from sklearn.ensemble import RandomForestClassifier, RandomForestRegressor\n",
    "from sklearn.grid_search import GridSearchCV\n",
    "from sklearn.metrics import roc_auc_score\n",
    "from sklearn.preprocessing import StandardScaler\n",
    "from sklearn.cluster import KMeans"
   ]
  },
  {
   "cell_type": "code",
   "execution_count": 2,
   "metadata": {
    "collapsed": true
   },
   "outputs": [],
   "source": [
    "filenames = glob.glob('Datathon*.csv')"
   ]
  },
  {
   "cell_type": "code",
   "execution_count": 268,
   "metadata": {
    "collapsed": false
   },
   "outputs": [
    {
     "name": "stdout",
     "output_type": "stream",
     "text": [
      "0\n",
      "1"
     ]
    },
    {
     "name": "stderr",
     "output_type": "stream",
     "text": [
      "/Users/feizhan/miniconda/envs/py3_env/lib/python3.4/site-packages/pandas/io/parsers.py:1170: DtypeWarning: Columns (16) have mixed types. Specify dtype option on import or set low_memory=False.\n",
      "  data = self._reader.read(nrows)\n",
      "/Users/feizhan/miniconda/envs/py3_env/lib/python3.4/site-packages/pandas/io/parsers.py:1170: DtypeWarning: Columns (14,16) have mixed types. Specify dtype option on import or set low_memory=False.\n",
      "  data = self._reader.read(nrows)\n"
     ]
    },
    {
     "name": "stdout",
     "output_type": "stream",
     "text": [
      "\n",
      "2\n",
      "3\n",
      "4\n"
     ]
    }
   ],
   "source": [
    "pre_dat = pd.DataFrame({})\n",
    "for ind, filename in enumerate(filenames):\n",
    "    print(ind)\n",
    "    tmp_dat = pd.read_csv(filename)\n",
    "    pre_dat = pre_dat.append(tmp_dat)    \n",
    "pre_dat.columns = ['BET_ID', 'BET_TRANS_ID', 'MATCH_BET_ID', 'ACCOUNT_ID',\n",
    "       'COUNTRY_OF_RESIDENCE_NAME', 'PARENT_EVENT_ID', 'EVENT_ID', 'MATCH',\n",
    "       'EVENT_NAME', 'EVENT_DT', 'OFF_DT', 'BID_TYP', 'STATUS_ID',\n",
    "       'PLACED_DATE', 'TAKEN_DATE', 'SETTLED_DATE', 'CANCELLED_DATE',\n",
    "       'SELECTION_NAME', 'PERSISTENCE_TYPE', 'BET_PRICE', 'PRICE_TAKEN',\n",
    "       'INPLAY_BET', 'BET_SIZE', 'PROFIT_LOSS']\n",
    "peek_dat = pd.read_csv('DSMDatathon_samplefile.txt', sep='\\t')\n",
    "pre_dat = peek_dat.append(pre_dat)"
   ]
  },
  {
   "cell_type": "code",
   "execution_count": 269,
   "metadata": {
    "collapsed": true
   },
   "outputs": [],
   "source": [
    "pre_dat.loc[:, 'BID_TYP'] = pre_dat.loc[:, 'BID_TYP'].str.strip(' ')\n",
    "pre_dat.loc[:, 'STATUS_ID'] = pre_dat.loc[:, 'STATUS_ID'].str.strip(' ')"
   ]
  },
  {
   "cell_type": "code",
   "execution_count": 270,
   "metadata": {
    "collapsed": true
   },
   "outputs": [],
   "source": [
    "pre_dat = pre_dat.loc[(pre_dat.STATUS_ID == 'S').values]"
   ]
  },
  {
   "cell_type": "code",
   "execution_count": 271,
   "metadata": {
    "collapsed": true
   },
   "outputs": [],
   "source": [
    "# correct the profit loss\n",
    "c1 = ((pre_dat.BID_TYP == 'B') & (pre_dat.PROFIT_LOSS > 0))\n",
    "c2 = ((pre_dat.BID_TYP == 'B') & (pre_dat.PROFIT_LOSS < 0))\n",
    "c3 = ((pre_dat.BID_TYP == 'L') & (pre_dat.PROFIT_LOSS > 0))\n",
    "c4 = ((pre_dat.BID_TYP == 'L') & (pre_dat.PROFIT_LOSS < 0))\n",
    "pre_dat.loc[c1.values, 'correct_profit_loss'] = pre_dat.loc[c1.values, 'BET_SIZE'] * (pre_dat.loc[c1.values, 'PRICE_TAKEN'] -1)\n",
    "pre_dat.loc[c2.values, 'correct_profit_loss'] = - pre_dat.loc[c2.values, 'BET_SIZE']\n",
    "pre_dat.loc[c3.values, 'correct_profit_loss'] = pre_dat.loc[c3.values, 'BET_SIZE']\n",
    "pre_dat.loc[c4.values, 'correct_profit_loss'] = - pre_dat.loc[c4.values, 'BET_SIZE'] * (pre_dat.loc[c4.values, 'PRICE_TAKEN'] -1)"
   ]
  },
  {
   "cell_type": "code",
   "execution_count": 7,
   "metadata": {
    "collapsed": true
   },
   "outputs": [],
   "source": [
    "semi_final = pd.read_csv('semi_and_final_features.csv')\n",
    "semi_final.columns = ['Account_ID', 'EVENT_ID', 'TRANSACTION_COUNT', 'STATUS_ID',\n",
    "       'INPLAY_BET', 'AVG_BET_SIZE', 'MAX_BET_SIZE', 'MIN_BET_SIZE',\n",
    "       'STDEV_BET_SIZE']"
   ]
  },
  {
   "cell_type": "code",
   "execution_count": 8,
   "metadata": {
    "collapsed": true
   },
   "outputs": [],
   "source": [
    "semi_final = semi_final.loc[(semi_final.STATUS_ID == 'S').values, :]"
   ]
  },
  {
   "cell_type": "code",
   "execution_count": 9,
   "metadata": {
    "collapsed": true
   },
   "outputs": [],
   "source": [
    "# map eventid to match\n",
    "semi_final_map = {101187238: 'South Africa v New Zealand',\n",
    "                  101187943: 'Australia v India',\n",
    "                  101191295: 'New Zealand v Australia'}\n",
    "semi_final.loc[:, 'MATCH'] = semi_final.loc[:, 'EVENT_ID'].map(semi_final_map)"
   ]
  },
  {
   "cell_type": "code",
   "execution_count": 489,
   "metadata": {
    "collapsed": false
   },
   "outputs": [
    {
     "data": {
      "text/html": [
       "<div>\n",
       "<table border=\"1\" class=\"dataframe\">\n",
       "  <thead>\n",
       "    <tr style=\"text-align: right;\">\n",
       "      <th></th>\n",
       "      <th>Account_ID</th>\n",
       "      <th>EVENT_ID</th>\n",
       "      <th>TRANSACTION_COUNT</th>\n",
       "      <th>STATUS_ID</th>\n",
       "      <th>INPLAY_BET</th>\n",
       "      <th>AVG_BET_SIZE</th>\n",
       "      <th>MAX_BET_SIZE</th>\n",
       "      <th>MIN_BET_SIZE</th>\n",
       "      <th>STDEV_BET_SIZE</th>\n",
       "      <th>MATCH</th>\n",
       "      <th>total</th>\n",
       "    </tr>\n",
       "  </thead>\n",
       "  <tbody>\n",
       "  </tbody>\n",
       "</table>\n",
       "</div>"
      ],
      "text/plain": [
       "Empty DataFrame\n",
       "Columns: [Account_ID, EVENT_ID, TRANSACTION_COUNT, STATUS_ID, INPLAY_BET, AVG_BET_SIZE, MAX_BET_SIZE, MIN_BET_SIZE, STDEV_BET_SIZE, MATCH, total]\n",
       "Index: []"
      ]
     },
     "execution_count": 489,
     "metadata": {},
     "output_type": "execute_result"
    }
   ],
   "source": [
    "semi_final.loc[(semi_final.Account_ID == 1000009).values, :]"
   ]
  },
  {
   "cell_type": "code",
   "execution_count": 10,
   "metadata": {
    "collapsed": true
   },
   "outputs": [],
   "source": [
    "submit = pd.read_csv('sample_submission_bet_size.csv')\n",
    "submit.columns = ['Account_ID', 'Prediction']"
   ]
  },
  {
   "cell_type": "code",
   "execution_count": 330,
   "metadata": {
    "collapsed": true
   },
   "outputs": [],
   "source": [
    "pre_dat_in_submit = pre_dat.loc[pre_dat.ACCOUNT_ID.isin(submit.Account_ID), :]"
   ]
  },
  {
   "cell_type": "code",
   "execution_count": 272,
   "metadata": {
    "collapsed": false
   },
   "outputs": [],
   "source": [
    "pre_dat_by_account = pre_dat.groupby('ACCOUNT_ID')\n",
    "pre_dat_by_account_event = pre_dat.groupby(['ACCOUNT_ID', 'EVENT_ID'])"
   ]
  },
  {
   "cell_type": "code",
   "execution_count": 13,
   "metadata": {
    "collapsed": true
   },
   "outputs": [],
   "source": [
    "def get_average_price(df):\n",
    "    backs = df.BID_TYP == 'B'\n",
    "    lays = df.BID_TYP == 'L'\n",
    "    total_back_size = df.loc[backs.values, 'BET_SIZE'].sum() + 0.001\n",
    "    total_lay_size = df.loc[lays.values, 'BET_SIZE'].sum() + 0.001\n",
    "    avg_back_price = (df.loc[backs.values, 'BET_SIZE'] * df.loc[backs.values, 'PRICE_TAKEN']).sum() / total_back_size\n",
    "    avg_lay_price = (df.loc[lays.values, 'BET_SIZE'] * df.loc[lays.values, 'PRICE_TAKEN']).sum() / total_lay_size\n",
    "    back_share = df.loc[backs.values, 'BET_SIZE'].sum() / (total_back_size + total_lay_size)\n",
    "    back_std = df.loc[backs.values, 'PRICE_TAKEN'].std()\n",
    "    lay_std = df.loc[lays.values, 'PRICE_TAKEN'].std()\n",
    "    return pd.Series({'avg_back_price': avg_back_price,\n",
    "                      'avg_lay_price': avg_lay_price,\n",
    "                      'back_share': back_share,\n",
    "                      'back_std': back_std,\n",
    "                      'lay_std': lay_std})"
   ]
  },
  {
   "cell_type": "code",
   "execution_count": 273,
   "metadata": {
    "collapsed": true
   },
   "outputs": [],
   "source": [
    "avg_price = pre_dat_by_account.apply(get_average_price)"
   ]
  },
  {
   "cell_type": "code",
   "execution_count": 152,
   "metadata": {
    "collapsed": false
   },
   "outputs": [
    {
     "data": {
      "text/html": [
       "<div>\n",
       "<table border=\"1\" class=\"dataframe\">\n",
       "  <thead>\n",
       "    <tr style=\"text-align: right;\">\n",
       "      <th></th>\n",
       "      <th>avg_back_price</th>\n",
       "      <th>avg_lay_price</th>\n",
       "      <th>back_share</th>\n",
       "      <th>back_std</th>\n",
       "      <th>lay_std</th>\n",
       "    </tr>\n",
       "    <tr>\n",
       "      <th>ACCOUNT_ID</th>\n",
       "      <th></th>\n",
       "      <th></th>\n",
       "      <th></th>\n",
       "      <th></th>\n",
       "      <th></th>\n",
       "    </tr>\n",
       "  </thead>\n",
       "  <tbody>\n",
       "    <tr>\n",
       "      <th>1000002</th>\n",
       "      <td>2.131243</td>\n",
       "      <td>0.000000</td>\n",
       "      <td>1.000000</td>\n",
       "      <td>10.273789</td>\n",
       "      <td>NaN</td>\n",
       "    </tr>\n",
       "    <tr>\n",
       "      <th>1000004</th>\n",
       "      <td>2.009621</td>\n",
       "      <td>1.226126</td>\n",
       "      <td>0.529321</td>\n",
       "      <td>9.114344</td>\n",
       "      <td>0.183689</td>\n",
       "    </tr>\n",
       "    <tr>\n",
       "      <th>1000005</th>\n",
       "      <td>1.164510</td>\n",
       "      <td>1.081237</td>\n",
       "      <td>0.459241</td>\n",
       "      <td>0.533567</td>\n",
       "      <td>0.223361</td>\n",
       "    </tr>\n",
       "    <tr>\n",
       "      <th>1000010</th>\n",
       "      <td>4.900702</td>\n",
       "      <td>1.240785</td>\n",
       "      <td>0.434367</td>\n",
       "      <td>58.987752</td>\n",
       "      <td>0.264042</td>\n",
       "    </tr>\n",
       "    <tr>\n",
       "      <th>1000014</th>\n",
       "      <td>1.499985</td>\n",
       "      <td>0.000000</td>\n",
       "      <td>0.999980</td>\n",
       "      <td>0.000000</td>\n",
       "      <td>NaN</td>\n",
       "    </tr>\n",
       "    <tr>\n",
       "      <th>1000017</th>\n",
       "      <td>1.558828</td>\n",
       "      <td>0.000000</td>\n",
       "      <td>1.000000</td>\n",
       "      <td>1.963770</td>\n",
       "      <td>NaN</td>\n",
       "    </tr>\n",
       "    <tr>\n",
       "      <th>1000019</th>\n",
       "      <td>3.978041</td>\n",
       "      <td>2.244549</td>\n",
       "      <td>0.513622</td>\n",
       "      <td>13.841371</td>\n",
       "      <td>0.305090</td>\n",
       "    </tr>\n",
       "    <tr>\n",
       "      <th>1000022</th>\n",
       "      <td>5.573535</td>\n",
       "      <td>2.129193</td>\n",
       "      <td>0.044491</td>\n",
       "      <td>4.889441</td>\n",
       "      <td>6.999629</td>\n",
       "    </tr>\n",
       "    <tr>\n",
       "      <th>1000023</th>\n",
       "      <td>1.351965</td>\n",
       "      <td>1.416883</td>\n",
       "      <td>0.579651</td>\n",
       "      <td>0.292586</td>\n",
       "      <td>0.215886</td>\n",
       "    </tr>\n",
       "    <tr>\n",
       "      <th>1000024</th>\n",
       "      <td>1.257680</td>\n",
       "      <td>1.345368</td>\n",
       "      <td>0.457452</td>\n",
       "      <td>0.292267</td>\n",
       "      <td>3.470164</td>\n",
       "    </tr>\n",
       "  </tbody>\n",
       "</table>\n",
       "</div>"
      ],
      "text/plain": [
       "            avg_back_price  avg_lay_price  back_share   back_std   lay_std\n",
       "ACCOUNT_ID                                                                \n",
       "1000002           2.131243       0.000000    1.000000  10.273789       NaN\n",
       "1000004           2.009621       1.226126    0.529321   9.114344  0.183689\n",
       "1000005           1.164510       1.081237    0.459241   0.533567  0.223361\n",
       "1000010           4.900702       1.240785    0.434367  58.987752  0.264042\n",
       "1000014           1.499985       0.000000    0.999980   0.000000       NaN\n",
       "1000017           1.558828       0.000000    1.000000   1.963770       NaN\n",
       "1000019           3.978041       2.244549    0.513622  13.841371  0.305090\n",
       "1000022           5.573535       2.129193    0.044491   4.889441  6.999629\n",
       "1000023           1.351965       1.416883    0.579651   0.292586  0.215886\n",
       "1000024           1.257680       1.345368    0.457452   0.292267  3.470164"
      ]
     },
     "execution_count": 152,
     "metadata": {},
     "output_type": "execute_result"
    }
   ],
   "source": [
    "avg_price.head(10)"
   ]
  },
  {
   "cell_type": "code",
   "execution_count": 28,
   "metadata": {
    "collapsed": true
   },
   "outputs": [],
   "source": [
    "dp = DataPreprocessing()"
   ]
  },
  {
   "cell_type": "code",
   "execution_count": 29,
   "metadata": {
    "collapsed": true
   },
   "outputs": [],
   "source": [
    "dp.raw_data = avg"
   ]
  },
  {
   "cell_type": "code",
   "execution_count": 35,
   "metadata": {
    "collapsed": true
   },
   "outputs": [],
   "source": [
    "dp.cleaned_data = avg1"
   ]
  },
  {
   "cell_type": "code",
   "execution_count": 58,
   "metadata": {
    "collapsed": false
   },
   "outputs": [],
   "source": [
    "oned_data = dp.to_lower_dim(dp.cleaned_data.loc[:, ['avg_back_price', 'avg_lay_price']])"
   ]
  },
  {
   "cell_type": "code",
   "execution_count": 59,
   "metadata": {
    "collapsed": false
   },
   "outputs": [
    {
     "data": {
      "text/plain": [
       "KMeans(copy_x=True, init='k-means++', max_iter=300, n_clusters=10, n_init=10,\n",
       "    n_jobs=1, precompute_distances='auto', random_state=None, tol=0.0001,\n",
       "    verbose=0)"
      ]
     },
     "execution_count": 59,
     "metadata": {},
     "output_type": "execute_result"
    }
   ],
   "source": [
    "km = KMeans(n_clusters=10)\n",
    "km.fit(oned_data)"
   ]
  },
  {
   "cell_type": "code",
   "execution_count": 60,
   "metadata": {
    "collapsed": true
   },
   "outputs": [],
   "source": [
    "labels = pd.Series(km.labels_)"
   ]
  },
  {
   "cell_type": "code",
   "execution_count": 61,
   "metadata": {
    "collapsed": false
   },
   "outputs": [],
   "source": [
    "dp.raw_data.loc[:, 'segment'] = labels.values"
   ]
  },
  {
   "cell_type": "code",
   "execution_count": 63,
   "metadata": {
    "collapsed": false
   },
   "outputs": [
    {
     "data": {
      "text/html": [
       "<div>\n",
       "<table border=\"1\" class=\"dataframe\">\n",
       "  <thead>\n",
       "    <tr style=\"text-align: right;\">\n",
       "      <th></th>\n",
       "      <th>BET_SIZE</th>\n",
       "      <th>avg_back_price</th>\n",
       "      <th>avg_lay_price</th>\n",
       "      <th>back_share</th>\n",
       "      <th>back_std</th>\n",
       "      <th>lay_std</th>\n",
       "      <th>segment</th>\n",
       "    </tr>\n",
       "    <tr>\n",
       "      <th>ACCOUNT_ID</th>\n",
       "      <th></th>\n",
       "      <th></th>\n",
       "      <th></th>\n",
       "      <th></th>\n",
       "      <th></th>\n",
       "      <th></th>\n",
       "      <th></th>\n",
       "    </tr>\n",
       "  </thead>\n",
       "  <tbody>\n",
       "    <tr>\n",
       "      <th>1000002</th>\n",
       "      <td>2091.105015</td>\n",
       "      <td>2.131243</td>\n",
       "      <td>0.000000</td>\n",
       "      <td>1.000000</td>\n",
       "      <td>10.273789</td>\n",
       "      <td>NaN</td>\n",
       "      <td>9</td>\n",
       "    </tr>\n",
       "    <tr>\n",
       "      <th>1000004</th>\n",
       "      <td>259.069892</td>\n",
       "      <td>2.009621</td>\n",
       "      <td>1.226126</td>\n",
       "      <td>0.529321</td>\n",
       "      <td>9.114344</td>\n",
       "      <td>0.183689</td>\n",
       "      <td>5</td>\n",
       "    </tr>\n",
       "    <tr>\n",
       "      <th>1000005</th>\n",
       "      <td>5599.937000</td>\n",
       "      <td>1.164510</td>\n",
       "      <td>1.081237</td>\n",
       "      <td>0.459241</td>\n",
       "      <td>0.533567</td>\n",
       "      <td>0.223361</td>\n",
       "      <td>8</td>\n",
       "    </tr>\n",
       "    <tr>\n",
       "      <th>1000010</th>\n",
       "      <td>932.061019</td>\n",
       "      <td>4.900702</td>\n",
       "      <td>1.240785</td>\n",
       "      <td>0.434367</td>\n",
       "      <td>58.987752</td>\n",
       "      <td>0.264042</td>\n",
       "      <td>7</td>\n",
       "    </tr>\n",
       "    <tr>\n",
       "      <th>1000014</th>\n",
       "      <td>100.000000</td>\n",
       "      <td>1.499985</td>\n",
       "      <td>0.000000</td>\n",
       "      <td>0.999980</td>\n",
       "      <td>0.000000</td>\n",
       "      <td>NaN</td>\n",
       "      <td>5</td>\n",
       "    </tr>\n",
       "  </tbody>\n",
       "</table>\n",
       "</div>"
      ],
      "text/plain": [
       "               BET_SIZE  avg_back_price  avg_lay_price  back_share   back_std  \\\n",
       "ACCOUNT_ID                                                                      \n",
       "1000002     2091.105015        2.131243       0.000000    1.000000  10.273789   \n",
       "1000004      259.069892        2.009621       1.226126    0.529321   9.114344   \n",
       "1000005     5599.937000        1.164510       1.081237    0.459241   0.533567   \n",
       "1000010      932.061019        4.900702       1.240785    0.434367  58.987752   \n",
       "1000014      100.000000        1.499985       0.000000    0.999980   0.000000   \n",
       "\n",
       "             lay_std  segment  \n",
       "ACCOUNT_ID                     \n",
       "1000002          NaN        9  \n",
       "1000004     0.183689        5  \n",
       "1000005     0.223361        8  \n",
       "1000010     0.264042        7  \n",
       "1000014          NaN        5  "
      ]
     },
     "execution_count": 63,
     "metadata": {},
     "output_type": "execute_result"
    }
   ],
   "source": [
    "dp.raw_data.head()"
   ]
  },
  {
   "cell_type": "code",
   "execution_count": 64,
   "metadata": {
    "collapsed": false
   },
   "outputs": [
    {
     "data": {
      "text/html": [
       "<div>\n",
       "<table border=\"1\" class=\"dataframe\">\n",
       "  <thead>\n",
       "    <tr style=\"text-align: right;\">\n",
       "      <th></th>\n",
       "      <th>BET_SIZE</th>\n",
       "      <th>avg_back_price</th>\n",
       "      <th>avg_lay_price</th>\n",
       "      <th>back_share</th>\n",
       "      <th>back_std</th>\n",
       "      <th>lay_std</th>\n",
       "      <th>segment</th>\n",
       "    </tr>\n",
       "  </thead>\n",
       "  <tbody>\n",
       "    <tr>\n",
       "      <th>count</th>\n",
       "      <td>142.000000</td>\n",
       "      <td>142.000000</td>\n",
       "      <td>142.000000</td>\n",
       "      <td>142.000000</td>\n",
       "      <td>9.100000e+01</td>\n",
       "      <td>118.000000</td>\n",
       "      <td>142</td>\n",
       "    </tr>\n",
       "    <tr>\n",
       "      <th>mean</th>\n",
       "      <td>2495.964104</td>\n",
       "      <td>0.822276</td>\n",
       "      <td>28.509366</td>\n",
       "      <td>0.574121</td>\n",
       "      <td>7.157245e+00</td>\n",
       "      <td>41.784180</td>\n",
       "      <td>0</td>\n",
       "    </tr>\n",
       "    <tr>\n",
       "      <th>std</th>\n",
       "      <td>5582.937986</td>\n",
       "      <td>0.592218</td>\n",
       "      <td>61.716062</td>\n",
       "      <td>0.432420</td>\n",
       "      <td>2.266733e+01</td>\n",
       "      <td>57.118261</td>\n",
       "      <td>0</td>\n",
       "    </tr>\n",
       "    <tr>\n",
       "      <th>min</th>\n",
       "      <td>4.686720</td>\n",
       "      <td>0.000000</td>\n",
       "      <td>1.889996</td>\n",
       "      <td>0.000000</td>\n",
       "      <td>2.107342e-08</td>\n",
       "      <td>0.000000</td>\n",
       "      <td>0</td>\n",
       "    </tr>\n",
       "    <tr>\n",
       "      <th>25%</th>\n",
       "      <td>143.737099</td>\n",
       "      <td>0.000000</td>\n",
       "      <td>3.865408</td>\n",
       "      <td>0.000000</td>\n",
       "      <td>1.702906e-01</td>\n",
       "      <td>1.440735</td>\n",
       "      <td>0</td>\n",
       "    </tr>\n",
       "    <tr>\n",
       "      <th>50%</th>\n",
       "      <td>465.061634</td>\n",
       "      <td>1.116335</td>\n",
       "      <td>7.165635</td>\n",
       "      <td>0.786415</td>\n",
       "      <td>4.625815e-01</td>\n",
       "      <td>16.133623</td>\n",
       "      <td>0</td>\n",
       "    </tr>\n",
       "    <tr>\n",
       "      <th>75%</th>\n",
       "      <td>1965.470607</td>\n",
       "      <td>1.265017</td>\n",
       "      <td>23.335300</td>\n",
       "      <td>0.965756</td>\n",
       "      <td>3.959655e+00</td>\n",
       "      <td>55.500116</td>\n",
       "      <td>0</td>\n",
       "    </tr>\n",
       "    <tr>\n",
       "      <th>max</th>\n",
       "      <td>36538.679280</td>\n",
       "      <td>1.605909</td>\n",
       "      <td>579.911248</td>\n",
       "      <td>0.999753</td>\n",
       "      <td>1.776047e+02</td>\n",
       "      <td>243.415831</td>\n",
       "      <td>0</td>\n",
       "    </tr>\n",
       "  </tbody>\n",
       "</table>\n",
       "</div>"
      ],
      "text/plain": [
       "           BET_SIZE  avg_back_price  avg_lay_price  back_share      back_std  \\\n",
       "count    142.000000      142.000000     142.000000  142.000000  9.100000e+01   \n",
       "mean    2495.964104        0.822276      28.509366    0.574121  7.157245e+00   \n",
       "std     5582.937986        0.592218      61.716062    0.432420  2.266733e+01   \n",
       "min        4.686720        0.000000       1.889996    0.000000  2.107342e-08   \n",
       "25%      143.737099        0.000000       3.865408    0.000000  1.702906e-01   \n",
       "50%      465.061634        1.116335       7.165635    0.786415  4.625815e-01   \n",
       "75%     1965.470607        1.265017      23.335300    0.965756  3.959655e+00   \n",
       "max    36538.679280        1.605909     579.911248    0.999753  1.776047e+02   \n",
       "\n",
       "          lay_std  segment  \n",
       "count  118.000000      142  \n",
       "mean    41.784180        0  \n",
       "std     57.118261        0  \n",
       "min      0.000000        0  \n",
       "25%      1.440735        0  \n",
       "50%     16.133623        0  \n",
       "75%     55.500116        0  \n",
       "max    243.415831        0  "
      ]
     },
     "execution_count": 64,
     "metadata": {},
     "output_type": "execute_result"
    }
   ],
   "source": [
    "dp.raw_data.loc[(dp.raw_data.segment == 0).values].describe()"
   ]
  },
  {
   "cell_type": "code",
   "execution_count": 65,
   "metadata": {
    "collapsed": true
   },
   "outputs": [],
   "source": [
    "hh = avg.loc[((avg.avg_back_price > 2) & (avg.avg_lay_price > 2)).values]"
   ]
  },
  {
   "cell_type": "code",
   "execution_count": 66,
   "metadata": {
    "collapsed": false
   },
   "outputs": [
    {
     "data": {
      "text/html": [
       "<div>\n",
       "<table border=\"1\" class=\"dataframe\">\n",
       "  <thead>\n",
       "    <tr style=\"text-align: right;\">\n",
       "      <th></th>\n",
       "      <th>BET_SIZE</th>\n",
       "      <th>avg_back_price</th>\n",
       "      <th>avg_lay_price</th>\n",
       "      <th>back_share</th>\n",
       "      <th>back_std</th>\n",
       "      <th>lay_std</th>\n",
       "      <th>segment</th>\n",
       "    </tr>\n",
       "  </thead>\n",
       "  <tbody>\n",
       "    <tr>\n",
       "      <th>count</th>\n",
       "      <td>340.000000</td>\n",
       "      <td>340.000000</td>\n",
       "      <td>340.000000</td>\n",
       "      <td>340.000000</td>\n",
       "      <td>331.000000</td>\n",
       "      <td>321.000000</td>\n",
       "      <td>340.000000</td>\n",
       "    </tr>\n",
       "    <tr>\n",
       "      <th>mean</th>\n",
       "      <td>66230.803334</td>\n",
       "      <td>6.208157</td>\n",
       "      <td>7.593358</td>\n",
       "      <td>0.561329</td>\n",
       "      <td>44.076279</td>\n",
       "      <td>33.640075</td>\n",
       "      <td>5.479412</td>\n",
       "    </tr>\n",
       "    <tr>\n",
       "      <th>std</th>\n",
       "      <td>582134.417051</td>\n",
       "      <td>11.477998</td>\n",
       "      <td>25.867355</td>\n",
       "      <td>0.241137</td>\n",
       "      <td>62.069600</td>\n",
       "      <td>56.753054</td>\n",
       "      <td>3.118531</td>\n",
       "    </tr>\n",
       "    <tr>\n",
       "      <th>min</th>\n",
       "      <td>10.000000</td>\n",
       "      <td>2.006114</td>\n",
       "      <td>2.004092</td>\n",
       "      <td>0.007637</td>\n",
       "      <td>0.000000</td>\n",
       "      <td>0.000000</td>\n",
       "      <td>1.000000</td>\n",
       "    </tr>\n",
       "    <tr>\n",
       "      <th>25%</th>\n",
       "      <td>203.603612</td>\n",
       "      <td>2.533213</td>\n",
       "      <td>2.347840</td>\n",
       "      <td>0.415533</td>\n",
       "      <td>4.602098</td>\n",
       "      <td>2.081216</td>\n",
       "      <td>2.000000</td>\n",
       "    </tr>\n",
       "    <tr>\n",
       "      <th>50%</th>\n",
       "      <td>546.944986</td>\n",
       "      <td>3.482767</td>\n",
       "      <td>3.221681</td>\n",
       "      <td>0.555318</td>\n",
       "      <td>16.314552</td>\n",
       "      <td>9.251277</td>\n",
       "      <td>5.000000</td>\n",
       "    </tr>\n",
       "    <tr>\n",
       "      <th>75%</th>\n",
       "      <td>2101.782515</td>\n",
       "      <td>5.617504</td>\n",
       "      <td>5.524024</td>\n",
       "      <td>0.740263</td>\n",
       "      <td>59.335237</td>\n",
       "      <td>43.164451</td>\n",
       "      <td>9.000000</td>\n",
       "    </tr>\n",
       "    <tr>\n",
       "      <th>max</th>\n",
       "      <td>8481907.865108</td>\n",
       "      <td>140.466038</td>\n",
       "      <td>399.996000</td>\n",
       "      <td>0.999893</td>\n",
       "      <td>389.723700</td>\n",
       "      <td>414.258104</td>\n",
       "      <td>9.000000</td>\n",
       "    </tr>\n",
       "  </tbody>\n",
       "</table>\n",
       "</div>"
      ],
      "text/plain": [
       "             BET_SIZE  avg_back_price  avg_lay_price  back_share    back_std  \\\n",
       "count      340.000000      340.000000     340.000000  340.000000  331.000000   \n",
       "mean     66230.803334        6.208157       7.593358    0.561329   44.076279   \n",
       "std     582134.417051       11.477998      25.867355    0.241137   62.069600   \n",
       "min         10.000000        2.006114       2.004092    0.007637    0.000000   \n",
       "25%        203.603612        2.533213       2.347840    0.415533    4.602098   \n",
       "50%        546.944986        3.482767       3.221681    0.555318   16.314552   \n",
       "75%       2101.782515        5.617504       5.524024    0.740263   59.335237   \n",
       "max    8481907.865108      140.466038     399.996000    0.999893  389.723700   \n",
       "\n",
       "          lay_std     segment  \n",
       "count  321.000000  340.000000  \n",
       "mean    33.640075    5.479412  \n",
       "std     56.753054    3.118531  \n",
       "min      0.000000    1.000000  \n",
       "25%      2.081216    2.000000  \n",
       "50%      9.251277    5.000000  \n",
       "75%     43.164451    9.000000  \n",
       "max    414.258104    9.000000  "
      ]
     },
     "execution_count": 66,
     "metadata": {},
     "output_type": "execute_result"
    }
   ],
   "source": [
    "hh.describe()"
   ]
  },
  {
   "cell_type": "code",
   "execution_count": 67,
   "metadata": {
    "collapsed": true
   },
   "outputs": [],
   "source": [
    "hl = avg.loc[((avg.avg_back_price > 2) & (avg.avg_lay_price < 2)).values]"
   ]
  },
  {
   "cell_type": "code",
   "execution_count": 68,
   "metadata": {
    "collapsed": false
   },
   "outputs": [
    {
     "data": {
      "text/html": [
       "<div>\n",
       "<table border=\"1\" class=\"dataframe\">\n",
       "  <thead>\n",
       "    <tr style=\"text-align: right;\">\n",
       "      <th></th>\n",
       "      <th>BET_SIZE</th>\n",
       "      <th>avg_back_price</th>\n",
       "      <th>avg_lay_price</th>\n",
       "      <th>back_share</th>\n",
       "      <th>back_std</th>\n",
       "      <th>lay_std</th>\n",
       "      <th>segment</th>\n",
       "    </tr>\n",
       "  </thead>\n",
       "  <tbody>\n",
       "    <tr>\n",
       "      <th>count</th>\n",
       "      <td>1091.000000</td>\n",
       "      <td>1091.000000</td>\n",
       "      <td>1091.000000</td>\n",
       "      <td>1091.000000</td>\n",
       "      <td>1000.000000</td>\n",
       "      <td>641.000000</td>\n",
       "      <td>1091.000000</td>\n",
       "    </tr>\n",
       "    <tr>\n",
       "      <th>mean</th>\n",
       "      <td>6141.314658</td>\n",
       "      <td>6.148943</td>\n",
       "      <td>0.882044</td>\n",
       "      <td>0.617483</td>\n",
       "      <td>24.917141</td>\n",
       "      <td>4.799753</td>\n",
       "      <td>5.266728</td>\n",
       "    </tr>\n",
       "    <tr>\n",
       "      <th>std</th>\n",
       "      <td>98189.441654</td>\n",
       "      <td>14.163592</td>\n",
       "      <td>0.689693</td>\n",
       "      <td>0.350321</td>\n",
       "      <td>51.671534</td>\n",
       "      <td>16.488601</td>\n",
       "      <td>2.480267</td>\n",
       "    </tr>\n",
       "    <tr>\n",
       "      <th>min</th>\n",
       "      <td>2.000000</td>\n",
       "      <td>2.000789</td>\n",
       "      <td>0.000000</td>\n",
       "      <td>0.000390</td>\n",
       "      <td>0.000000</td>\n",
       "      <td>0.000000</td>\n",
       "      <td>1.000000</td>\n",
       "    </tr>\n",
       "    <tr>\n",
       "      <th>25%</th>\n",
       "      <td>127.382304</td>\n",
       "      <td>2.358638</td>\n",
       "      <td>0.000000</td>\n",
       "      <td>0.293847</td>\n",
       "      <td>1.725694</td>\n",
       "      <td>0.180172</td>\n",
       "      <td>4.000000</td>\n",
       "    </tr>\n",
       "    <tr>\n",
       "      <th>50%</th>\n",
       "      <td>382.319189</td>\n",
       "      <td>3.097172</td>\n",
       "      <td>1.182000</td>\n",
       "      <td>0.625829</td>\n",
       "      <td>7.172969</td>\n",
       "      <td>0.327612</td>\n",
       "      <td>5.000000</td>\n",
       "    </tr>\n",
       "    <tr>\n",
       "      <th>75%</th>\n",
       "      <td>1158.395950</td>\n",
       "      <td>4.696389</td>\n",
       "      <td>1.389534</td>\n",
       "      <td>0.999990</td>\n",
       "      <td>25.570886</td>\n",
       "      <td>2.013016</td>\n",
       "      <td>7.000000</td>\n",
       "    </tr>\n",
       "    <tr>\n",
       "      <th>max</th>\n",
       "      <td>2526579.914326</td>\n",
       "      <td>221.459285</td>\n",
       "      <td>1.998997</td>\n",
       "      <td>1.000000</td>\n",
       "      <td>514.198963</td>\n",
       "      <td>189.019862</td>\n",
       "      <td>9.000000</td>\n",
       "    </tr>\n",
       "  </tbody>\n",
       "</table>\n",
       "</div>"
      ],
      "text/plain": [
       "             BET_SIZE  avg_back_price  avg_lay_price   back_share  \\\n",
       "count     1091.000000     1091.000000    1091.000000  1091.000000   \n",
       "mean      6141.314658        6.148943       0.882044     0.617483   \n",
       "std      98189.441654       14.163592       0.689693     0.350321   \n",
       "min          2.000000        2.000789       0.000000     0.000390   \n",
       "25%        127.382304        2.358638       0.000000     0.293847   \n",
       "50%        382.319189        3.097172       1.182000     0.625829   \n",
       "75%       1158.395950        4.696389       1.389534     0.999990   \n",
       "max    2526579.914326      221.459285       1.998997     1.000000   \n",
       "\n",
       "          back_std     lay_std      segment  \n",
       "count  1000.000000  641.000000  1091.000000  \n",
       "mean     24.917141    4.799753     5.266728  \n",
       "std      51.671534   16.488601     2.480267  \n",
       "min       0.000000    0.000000     1.000000  \n",
       "25%       1.725694    0.180172     4.000000  \n",
       "50%       7.172969    0.327612     5.000000  \n",
       "75%      25.570886    2.013016     7.000000  \n",
       "max     514.198963  189.019862     9.000000  "
      ]
     },
     "execution_count": 68,
     "metadata": {},
     "output_type": "execute_result"
    }
   ],
   "source": [
    "hl.describe()"
   ]
  },
  {
   "cell_type": "code",
   "execution_count": 69,
   "metadata": {
    "collapsed": true
   },
   "outputs": [],
   "source": [
    "lh = avg.loc[((avg.avg_back_price < 2) & (avg.avg_lay_price > 2)).values]"
   ]
  },
  {
   "cell_type": "code",
   "execution_count": 70,
   "metadata": {
    "collapsed": false
   },
   "outputs": [
    {
     "data": {
      "text/html": [
       "<div>\n",
       "<table border=\"1\" class=\"dataframe\">\n",
       "  <thead>\n",
       "    <tr style=\"text-align: right;\">\n",
       "      <th></th>\n",
       "      <th>BET_SIZE</th>\n",
       "      <th>avg_back_price</th>\n",
       "      <th>avg_lay_price</th>\n",
       "      <th>back_share</th>\n",
       "      <th>back_std</th>\n",
       "      <th>lay_std</th>\n",
       "      <th>segment</th>\n",
       "    </tr>\n",
       "  </thead>\n",
       "  <tbody>\n",
       "    <tr>\n",
       "      <th>count</th>\n",
       "      <td>312.000000</td>\n",
       "      <td>312.000000</td>\n",
       "      <td>312.000000</td>\n",
       "      <td>312.000000</td>\n",
       "      <td>2.660000e+02</td>\n",
       "      <td>287.000000</td>\n",
       "      <td>312.000000</td>\n",
       "    </tr>\n",
       "    <tr>\n",
       "      <th>mean</th>\n",
       "      <td>5186.343544</td>\n",
       "      <td>1.259837</td>\n",
       "      <td>14.729181</td>\n",
       "      <td>0.647664</td>\n",
       "      <td>1.732767e+01</td>\n",
       "      <td>39.786169</td>\n",
       "      <td>3.721154</td>\n",
       "    </tr>\n",
       "    <tr>\n",
       "      <th>std</th>\n",
       "      <td>14733.378641</td>\n",
       "      <td>0.516383</td>\n",
       "      <td>43.461225</td>\n",
       "      <td>0.312352</td>\n",
       "      <td>3.667617e+01</td>\n",
       "      <td>51.494414</td>\n",
       "      <td>3.311648</td>\n",
       "    </tr>\n",
       "    <tr>\n",
       "      <th>min</th>\n",
       "      <td>4.686720</td>\n",
       "      <td>0.000000</td>\n",
       "      <td>2.000916</td>\n",
       "      <td>0.000000</td>\n",
       "      <td>2.107342e-08</td>\n",
       "      <td>0.000000</td>\n",
       "      <td>0.000000</td>\n",
       "    </tr>\n",
       "    <tr>\n",
       "      <th>25%</th>\n",
       "      <td>259.453888</td>\n",
       "      <td>1.150645</td>\n",
       "      <td>2.469667</td>\n",
       "      <td>0.527820</td>\n",
       "      <td>3.024238e-01</td>\n",
       "      <td>2.152417</td>\n",
       "      <td>0.000000</td>\n",
       "    </tr>\n",
       "    <tr>\n",
       "      <th>50%</th>\n",
       "      <td>897.607482</td>\n",
       "      <td>1.334348</td>\n",
       "      <td>3.281036</td>\n",
       "      <td>0.715213</td>\n",
       "      <td>1.996182e+00</td>\n",
       "      <td>19.731714</td>\n",
       "      <td>6.000000</td>\n",
       "    </tr>\n",
       "    <tr>\n",
       "      <th>75%</th>\n",
       "      <td>3069.883056</td>\n",
       "      <td>1.572783</td>\n",
       "      <td>6.829663</td>\n",
       "      <td>0.903029</td>\n",
       "      <td>1.485010e+01</td>\n",
       "      <td>57.296301</td>\n",
       "      <td>6.000000</td>\n",
       "    </tr>\n",
       "    <tr>\n",
       "      <th>max</th>\n",
       "      <td>193021.852185</td>\n",
       "      <td>1.996822</td>\n",
       "      <td>579.911248</td>\n",
       "      <td>0.999753</td>\n",
       "      <td>2.430153e+02</td>\n",
       "      <td>254.240384</td>\n",
       "      <td>8.000000</td>\n",
       "    </tr>\n",
       "  </tbody>\n",
       "</table>\n",
       "</div>"
      ],
      "text/plain": [
       "            BET_SIZE  avg_back_price  avg_lay_price  back_share      back_std  \\\n",
       "count     312.000000      312.000000     312.000000  312.000000  2.660000e+02   \n",
       "mean     5186.343544        1.259837      14.729181    0.647664  1.732767e+01   \n",
       "std     14733.378641        0.516383      43.461225    0.312352  3.667617e+01   \n",
       "min         4.686720        0.000000       2.000916    0.000000  2.107342e-08   \n",
       "25%       259.453888        1.150645       2.469667    0.527820  3.024238e-01   \n",
       "50%       897.607482        1.334348       3.281036    0.715213  1.996182e+00   \n",
       "75%      3069.883056        1.572783       6.829663    0.903029  1.485010e+01   \n",
       "max    193021.852185        1.996822     579.911248    0.999753  2.430153e+02   \n",
       "\n",
       "          lay_std     segment  \n",
       "count  287.000000  312.000000  \n",
       "mean    39.786169    3.721154  \n",
       "std     51.494414    3.311648  \n",
       "min      0.000000    0.000000  \n",
       "25%      2.152417    0.000000  \n",
       "50%     19.731714    6.000000  \n",
       "75%     57.296301    6.000000  \n",
       "max    254.240384    8.000000  "
      ]
     },
     "execution_count": 70,
     "metadata": {},
     "output_type": "execute_result"
    }
   ],
   "source": [
    "lh.describe()"
   ]
  },
  {
   "cell_type": "code",
   "execution_count": 71,
   "metadata": {
    "collapsed": true
   },
   "outputs": [],
   "source": [
    "ll = avg.loc[((avg.avg_back_price < 2) & (avg.avg_lay_price < 2)).values]"
   ]
  },
  {
   "cell_type": "code",
   "execution_count": 72,
   "metadata": {
    "collapsed": false
   },
   "outputs": [
    {
     "data": {
      "text/html": [
       "<div>\n",
       "<table border=\"1\" class=\"dataframe\">\n",
       "  <thead>\n",
       "    <tr style=\"text-align: right;\">\n",
       "      <th></th>\n",
       "      <th>BET_SIZE</th>\n",
       "      <th>avg_back_price</th>\n",
       "      <th>avg_lay_price</th>\n",
       "      <th>back_share</th>\n",
       "      <th>back_std</th>\n",
       "      <th>lay_std</th>\n",
       "      <th>segment</th>\n",
       "    </tr>\n",
       "  </thead>\n",
       "  <tbody>\n",
       "    <tr>\n",
       "      <th>count</th>\n",
       "      <td>4630.000000</td>\n",
       "      <td>4630.000000</td>\n",
       "      <td>4630.000000</td>\n",
       "      <td>4630.000000</td>\n",
       "      <td>4298.000000</td>\n",
       "      <td>4062.000000</td>\n",
       "      <td>4630.000000</td>\n",
       "    </tr>\n",
       "    <tr>\n",
       "      <th>mean</th>\n",
       "      <td>19175.327456</td>\n",
       "      <td>1.338312</td>\n",
       "      <td>1.194265</td>\n",
       "      <td>0.503063</td>\n",
       "      <td>7.872648</td>\n",
       "      <td>5.424864</td>\n",
       "      <td>4.467171</td>\n",
       "    </tr>\n",
       "    <tr>\n",
       "      <th>std</th>\n",
       "      <td>107314.488126</td>\n",
       "      <td>0.324755</td>\n",
       "      <td>0.419249</td>\n",
       "      <td>0.249848</td>\n",
       "      <td>18.854798</td>\n",
       "      <td>16.035474</td>\n",
       "      <td>2.691710</td>\n",
       "    </tr>\n",
       "    <tr>\n",
       "      <th>min</th>\n",
       "      <td>3.857200</td>\n",
       "      <td>0.000000</td>\n",
       "      <td>0.000000</td>\n",
       "      <td>0.000000</td>\n",
       "      <td>0.000000</td>\n",
       "      <td>0.000000</td>\n",
       "      <td>0.000000</td>\n",
       "    </tr>\n",
       "    <tr>\n",
       "      <th>25%</th>\n",
       "      <td>546.205738</td>\n",
       "      <td>1.236175</td>\n",
       "      <td>1.169619</td>\n",
       "      <td>0.352206</td>\n",
       "      <td>0.239765</td>\n",
       "      <td>0.210390</td>\n",
       "      <td>3.000000</td>\n",
       "    </tr>\n",
       "    <tr>\n",
       "      <th>50%</th>\n",
       "      <td>2049.239054</td>\n",
       "      <td>1.339051</td>\n",
       "      <td>1.267156</td>\n",
       "      <td>0.485235</td>\n",
       "      <td>0.343861</td>\n",
       "      <td>0.259984</td>\n",
       "      <td>3.000000</td>\n",
       "    </tr>\n",
       "    <tr>\n",
       "      <th>75%</th>\n",
       "      <td>7776.722362</td>\n",
       "      <td>1.476820</td>\n",
       "      <td>1.381375</td>\n",
       "      <td>0.615729</td>\n",
       "      <td>5.592273</td>\n",
       "      <td>1.028657</td>\n",
       "      <td>8.000000</td>\n",
       "    </tr>\n",
       "    <tr>\n",
       "      <th>max</th>\n",
       "      <td>3199554.841038</td>\n",
       "      <td>1.999985</td>\n",
       "      <td>1.999980</td>\n",
       "      <td>1.000000</td>\n",
       "      <td>191.591837</td>\n",
       "      <td>242.246933</td>\n",
       "      <td>9.000000</td>\n",
       "    </tr>\n",
       "  </tbody>\n",
       "</table>\n",
       "</div>"
      ],
      "text/plain": [
       "             BET_SIZE  avg_back_price  avg_lay_price   back_share  \\\n",
       "count     4630.000000     4630.000000    4630.000000  4630.000000   \n",
       "mean     19175.327456        1.338312       1.194265     0.503063   \n",
       "std     107314.488126        0.324755       0.419249     0.249848   \n",
       "min          3.857200        0.000000       0.000000     0.000000   \n",
       "25%        546.205738        1.236175       1.169619     0.352206   \n",
       "50%       2049.239054        1.339051       1.267156     0.485235   \n",
       "75%       7776.722362        1.476820       1.381375     0.615729   \n",
       "max    3199554.841038        1.999985       1.999980     1.000000   \n",
       "\n",
       "          back_std      lay_std      segment  \n",
       "count  4298.000000  4062.000000  4630.000000  \n",
       "mean      7.872648     5.424864     4.467171  \n",
       "std      18.854798    16.035474     2.691710  \n",
       "min       0.000000     0.000000     0.000000  \n",
       "25%       0.239765     0.210390     3.000000  \n",
       "50%       0.343861     0.259984     3.000000  \n",
       "75%       5.592273     1.028657     8.000000  \n",
       "max     191.591837   242.246933     9.000000  "
      ]
     },
     "execution_count": 72,
     "metadata": {},
     "output_type": "execute_result"
    }
   ],
   "source": [
    "ll.describe()"
   ]
  },
  {
   "cell_type": "code",
   "execution_count": 16,
   "metadata": {
    "collapsed": true
   },
   "outputs": [],
   "source": [
    "avg_price1 = avg_price.sub(pd.Series({'avg_back_price': 2,\n",
    "                                      'avg_lay_price': 2,\n",
    "                                      'back_share': .5,\n",
    "                                      'back_std': 0,\n",
    "                                      'lay_std': 0}))"
   ]
  },
  {
   "cell_type": "code",
   "execution_count": null,
   "metadata": {
    "collapsed": true
   },
   "outputs": [],
   "source": []
  },
  {
   "cell_type": "code",
   "execution_count": 17,
   "metadata": {
    "collapsed": false
   },
   "outputs": [
    {
     "data": {
      "text/html": [
       "<div>\n",
       "<table border=\"1\" class=\"dataframe\">\n",
       "  <thead>\n",
       "    <tr style=\"text-align: right;\">\n",
       "      <th></th>\n",
       "      <th>avg_back_price</th>\n",
       "      <th>avg_lay_price</th>\n",
       "      <th>back_share</th>\n",
       "      <th>back_std</th>\n",
       "      <th>lay_std</th>\n",
       "    </tr>\n",
       "    <tr>\n",
       "      <th>ACCOUNT_ID</th>\n",
       "      <th></th>\n",
       "      <th></th>\n",
       "      <th></th>\n",
       "      <th></th>\n",
       "      <th></th>\n",
       "    </tr>\n",
       "  </thead>\n",
       "  <tbody>\n",
       "    <tr>\n",
       "      <th>1000002</th>\n",
       "      <td>0.131243</td>\n",
       "      <td>-2.000000</td>\n",
       "      <td>0.500000</td>\n",
       "      <td>10.273789</td>\n",
       "      <td>NaN</td>\n",
       "    </tr>\n",
       "    <tr>\n",
       "      <th>1000004</th>\n",
       "      <td>0.009621</td>\n",
       "      <td>-0.773874</td>\n",
       "      <td>0.029321</td>\n",
       "      <td>9.114344</td>\n",
       "      <td>0.183689</td>\n",
       "    </tr>\n",
       "    <tr>\n",
       "      <th>1000005</th>\n",
       "      <td>-0.835490</td>\n",
       "      <td>-0.918763</td>\n",
       "      <td>-0.040759</td>\n",
       "      <td>0.533567</td>\n",
       "      <td>0.223361</td>\n",
       "    </tr>\n",
       "    <tr>\n",
       "      <th>1000010</th>\n",
       "      <td>2.900702</td>\n",
       "      <td>-0.759215</td>\n",
       "      <td>-0.065633</td>\n",
       "      <td>58.987752</td>\n",
       "      <td>0.264042</td>\n",
       "    </tr>\n",
       "    <tr>\n",
       "      <th>1000014</th>\n",
       "      <td>-0.500015</td>\n",
       "      <td>-2.000000</td>\n",
       "      <td>0.499980</td>\n",
       "      <td>0.000000</td>\n",
       "      <td>NaN</td>\n",
       "    </tr>\n",
       "  </tbody>\n",
       "</table>\n",
       "</div>"
      ],
      "text/plain": [
       "            avg_back_price  avg_lay_price  back_share   back_std   lay_std\n",
       "ACCOUNT_ID                                                                \n",
       "1000002           0.131243      -2.000000    0.500000  10.273789       NaN\n",
       "1000004           0.009621      -0.773874    0.029321   9.114344  0.183689\n",
       "1000005          -0.835490      -0.918763   -0.040759   0.533567  0.223361\n",
       "1000010           2.900702      -0.759215   -0.065633  58.987752  0.264042\n",
       "1000014          -0.500015      -2.000000    0.499980   0.000000       NaN"
      ]
     },
     "execution_count": 17,
     "metadata": {},
     "output_type": "execute_result"
    }
   ],
   "source": [
    "avg_price1.head()"
   ]
  },
  {
   "cell_type": "code",
   "execution_count": 153,
   "metadata": {
    "collapsed": true
   },
   "outputs": [],
   "source": [
    "avg_bet_size = pre_dat_by_account_event['BET_SIZE'].sum()"
   ]
  },
  {
   "cell_type": "code",
   "execution_count": 154,
   "metadata": {
    "collapsed": true
   },
   "outputs": [],
   "source": [
    "avg_bet_size = avg_bet_size.groupby(level=0).mean()"
   ]
  },
  {
   "cell_type": "code",
   "execution_count": 155,
   "metadata": {
    "collapsed": false
   },
   "outputs": [
    {
     "data": {
      "text/plain": [
       "ACCOUNT_ID\n",
       "1000002    2091.105015\n",
       "1000004     259.069892\n",
       "1000005    5599.937000\n",
       "1000010     932.061019\n",
       "1000014     100.000000\n",
       "Name: BET_SIZE, dtype: float64"
      ]
     },
     "execution_count": 155,
     "metadata": {},
     "output_type": "execute_result"
    }
   ],
   "source": [
    "avg_bet_size.head()"
   ]
  },
  {
   "cell_type": "code",
   "execution_count": 22,
   "metadata": {
    "collapsed": true
   },
   "outputs": [],
   "source": [
    "ss = StandardScaler()"
   ]
  },
  {
   "cell_type": "code",
   "execution_count": 23,
   "metadata": {
    "collapsed": false
   },
   "outputs": [],
   "source": [
    "avg_bet_size1 = pd.Series(expit(ss.fit_transform(avg_bet_size)), index=avg_bet_size.index, name='bet_size')"
   ]
  },
  {
   "cell_type": "code",
   "execution_count": 24,
   "metadata": {
    "collapsed": false
   },
   "outputs": [
    {
     "data": {
      "text/plain": [
       "ACCOUNT_ID\n",
       "1000002    0.475194\n",
       "1000004    0.472474\n",
       "1000005    0.480407\n",
       "1000010    0.473473\n",
       "1000014    0.472238\n",
       "Name: bet_size, dtype: float64"
      ]
     },
     "execution_count": 24,
     "metadata": {},
     "output_type": "execute_result"
    }
   ],
   "source": [
    "avg_bet_size1.head()"
   ]
  },
  {
   "cell_type": "code",
   "execution_count": 229,
   "metadata": {
    "collapsed": true
   },
   "outputs": [],
   "source": [
    "avg = pd.concat([avg_bet_size, avg_price], axis=1)"
   ]
  },
  {
   "cell_type": "code",
   "execution_count": 230,
   "metadata": {
    "collapsed": false
   },
   "outputs": [
    {
     "data": {
      "text/html": [
       "<div>\n",
       "<table border=\"1\" class=\"dataframe\">\n",
       "  <thead>\n",
       "    <tr style=\"text-align: right;\">\n",
       "      <th></th>\n",
       "      <th>BET_SIZE</th>\n",
       "      <th>avg_back_price</th>\n",
       "      <th>avg_lay_price</th>\n",
       "      <th>back_share</th>\n",
       "      <th>back_std</th>\n",
       "      <th>lay_std</th>\n",
       "    </tr>\n",
       "    <tr>\n",
       "      <th>ACCOUNT_ID</th>\n",
       "      <th></th>\n",
       "      <th></th>\n",
       "      <th></th>\n",
       "      <th></th>\n",
       "      <th></th>\n",
       "      <th></th>\n",
       "    </tr>\n",
       "  </thead>\n",
       "  <tbody>\n",
       "    <tr>\n",
       "      <th>1000002</th>\n",
       "      <td>2091.105015</td>\n",
       "      <td>2.131243</td>\n",
       "      <td>0.000000</td>\n",
       "      <td>1.000000</td>\n",
       "      <td>10.273789</td>\n",
       "      <td>NaN</td>\n",
       "    </tr>\n",
       "    <tr>\n",
       "      <th>1000004</th>\n",
       "      <td>259.069892</td>\n",
       "      <td>2.009621</td>\n",
       "      <td>1.226126</td>\n",
       "      <td>0.529321</td>\n",
       "      <td>9.114344</td>\n",
       "      <td>0.183689</td>\n",
       "    </tr>\n",
       "    <tr>\n",
       "      <th>1000005</th>\n",
       "      <td>5599.937000</td>\n",
       "      <td>1.164510</td>\n",
       "      <td>1.081237</td>\n",
       "      <td>0.459241</td>\n",
       "      <td>0.533567</td>\n",
       "      <td>0.223361</td>\n",
       "    </tr>\n",
       "    <tr>\n",
       "      <th>1000010</th>\n",
       "      <td>932.061019</td>\n",
       "      <td>4.900702</td>\n",
       "      <td>1.240785</td>\n",
       "      <td>0.434367</td>\n",
       "      <td>58.987752</td>\n",
       "      <td>0.264042</td>\n",
       "    </tr>\n",
       "    <tr>\n",
       "      <th>1000014</th>\n",
       "      <td>100.000000</td>\n",
       "      <td>1.499985</td>\n",
       "      <td>0.000000</td>\n",
       "      <td>0.999980</td>\n",
       "      <td>0.000000</td>\n",
       "      <td>NaN</td>\n",
       "    </tr>\n",
       "  </tbody>\n",
       "</table>\n",
       "</div>"
      ],
      "text/plain": [
       "               BET_SIZE  avg_back_price  avg_lay_price  back_share   back_std  \\\n",
       "ACCOUNT_ID                                                                      \n",
       "1000002     2091.105015        2.131243       0.000000    1.000000  10.273789   \n",
       "1000004      259.069892        2.009621       1.226126    0.529321   9.114344   \n",
       "1000005     5599.937000        1.164510       1.081237    0.459241   0.533567   \n",
       "1000010      932.061019        4.900702       1.240785    0.434367  58.987752   \n",
       "1000014      100.000000        1.499985       0.000000    0.999980   0.000000   \n",
       "\n",
       "             lay_std  \n",
       "ACCOUNT_ID            \n",
       "1000002          NaN  \n",
       "1000004     0.183689  \n",
       "1000005     0.223361  \n",
       "1000010     0.264042  \n",
       "1000014          NaN  "
      ]
     },
     "execution_count": 230,
     "metadata": {},
     "output_type": "execute_result"
    }
   ],
   "source": [
    "avg.head()"
   ]
  },
  {
   "cell_type": "code",
   "execution_count": 32,
   "metadata": {
    "collapsed": true
   },
   "outputs": [],
   "source": [
    "avg_price1 = pd.DataFrame(expit(avg_price1), index=avg_price1.index, columns=avg_price1.columns)"
   ]
  },
  {
   "cell_type": "code",
   "execution_count": 33,
   "metadata": {
    "collapsed": true
   },
   "outputs": [],
   "source": [
    "avg1 = pd.concat([avg_bet_size1, avg_price1], axis=1)"
   ]
  },
  {
   "cell_type": "code",
   "execution_count": 34,
   "metadata": {
    "collapsed": false
   },
   "outputs": [
    {
     "data": {
      "text/html": [
       "<div>\n",
       "<table border=\"1\" class=\"dataframe\">\n",
       "  <thead>\n",
       "    <tr style=\"text-align: right;\">\n",
       "      <th></th>\n",
       "      <th>bet_size</th>\n",
       "      <th>avg_back_price</th>\n",
       "      <th>avg_lay_price</th>\n",
       "      <th>back_share</th>\n",
       "      <th>back_std</th>\n",
       "      <th>lay_std</th>\n",
       "    </tr>\n",
       "    <tr>\n",
       "      <th>ACCOUNT_ID</th>\n",
       "      <th></th>\n",
       "      <th></th>\n",
       "      <th></th>\n",
       "      <th></th>\n",
       "      <th></th>\n",
       "      <th></th>\n",
       "    </tr>\n",
       "  </thead>\n",
       "  <tbody>\n",
       "    <tr>\n",
       "      <th>1000002</th>\n",
       "      <td>0.475194</td>\n",
       "      <td>0.532764</td>\n",
       "      <td>0.119203</td>\n",
       "      <td>0.622459</td>\n",
       "      <td>0.999965</td>\n",
       "      <td>NaN</td>\n",
       "    </tr>\n",
       "    <tr>\n",
       "      <th>1000004</th>\n",
       "      <td>0.472474</td>\n",
       "      <td>0.502405</td>\n",
       "      <td>0.315642</td>\n",
       "      <td>0.507330</td>\n",
       "      <td>0.999890</td>\n",
       "      <td>0.545794</td>\n",
       "    </tr>\n",
       "    <tr>\n",
       "      <th>1000005</th>\n",
       "      <td>0.480407</td>\n",
       "      <td>0.302485</td>\n",
       "      <td>0.285210</td>\n",
       "      <td>0.489812</td>\n",
       "      <td>0.630315</td>\n",
       "      <td>0.555609</td>\n",
       "    </tr>\n",
       "    <tr>\n",
       "      <th>1000010</th>\n",
       "      <td>0.473473</td>\n",
       "      <td>0.947881</td>\n",
       "      <td>0.318817</td>\n",
       "      <td>0.483598</td>\n",
       "      <td>1.000000</td>\n",
       "      <td>0.565630</td>\n",
       "    </tr>\n",
       "    <tr>\n",
       "      <th>1000014</th>\n",
       "      <td>0.472238</td>\n",
       "      <td>0.377537</td>\n",
       "      <td>0.119203</td>\n",
       "      <td>0.622455</td>\n",
       "      <td>0.500000</td>\n",
       "      <td>NaN</td>\n",
       "    </tr>\n",
       "  </tbody>\n",
       "</table>\n",
       "</div>"
      ],
      "text/plain": [
       "            bet_size  avg_back_price  avg_lay_price  back_share  back_std  \\\n",
       "ACCOUNT_ID                                                                  \n",
       "1000002     0.475194        0.532764       0.119203    0.622459  0.999965   \n",
       "1000004     0.472474        0.502405       0.315642    0.507330  0.999890   \n",
       "1000005     0.480407        0.302485       0.285210    0.489812  0.630315   \n",
       "1000010     0.473473        0.947881       0.318817    0.483598  1.000000   \n",
       "1000014     0.472238        0.377537       0.119203    0.622455  0.500000   \n",
       "\n",
       "             lay_std  \n",
       "ACCOUNT_ID            \n",
       "1000002          NaN  \n",
       "1000004     0.545794  \n",
       "1000005     0.555609  \n",
       "1000010     0.565630  \n",
       "1000014          NaN  "
      ]
     },
     "execution_count": 34,
     "metadata": {},
     "output_type": "execute_result"
    }
   ],
   "source": [
    "avg1.head()"
   ]
  },
  {
   "cell_type": "code",
   "execution_count": 274,
   "metadata": {
    "collapsed": true
   },
   "outputs": [],
   "source": [
    "quarter = pre_dat.loc[pre_dat.EVENT_ID.isin([101183237, 101183757, 101183885, 101184013])]"
   ]
  },
  {
   "cell_type": "code",
   "execution_count": 275,
   "metadata": {
    "collapsed": false
   },
   "outputs": [
    {
     "data": {
      "text/plain": [
       "9003"
      ]
     },
     "execution_count": 275,
     "metadata": {},
     "output_type": "execute_result"
    }
   ],
   "source": [
    "quarter.ACCOUNT_ID.nunique()"
   ]
  },
  {
   "cell_type": "code",
   "execution_count": 276,
   "metadata": {
    "collapsed": true
   },
   "outputs": [],
   "source": [
    "quarter_by_account = quarter.groupby('ACCOUNT_ID')"
   ]
  },
  {
   "cell_type": "code",
   "execution_count": 277,
   "metadata": {
    "collapsed": true
   },
   "outputs": [],
   "source": [
    "avg = quarter_by_account.apply(get_average_price)"
   ]
  },
  {
   "cell_type": "code",
   "execution_count": 278,
   "metadata": {
    "collapsed": false
   },
   "outputs": [
    {
     "data": {
      "text/html": [
       "<div>\n",
       "<table border=\"1\" class=\"dataframe\">\n",
       "  <thead>\n",
       "    <tr style=\"text-align: right;\">\n",
       "      <th></th>\n",
       "      <th>avg_back_price</th>\n",
       "      <th>avg_lay_price</th>\n",
       "      <th>back_share</th>\n",
       "      <th>back_std</th>\n",
       "      <th>lay_std</th>\n",
       "    </tr>\n",
       "    <tr>\n",
       "      <th>ACCOUNT_ID</th>\n",
       "      <th></th>\n",
       "      <th></th>\n",
       "      <th></th>\n",
       "      <th></th>\n",
       "      <th></th>\n",
       "    </tr>\n",
       "  </thead>\n",
       "  <tbody>\n",
       "    <tr>\n",
       "      <th>1000002</th>\n",
       "      <td>1.977567</td>\n",
       "      <td>0.000000</td>\n",
       "      <td>1.000000</td>\n",
       "      <td>16.328730</td>\n",
       "      <td>NaN</td>\n",
       "    </tr>\n",
       "    <tr>\n",
       "      <th>1000004</th>\n",
       "      <td>0.000000</td>\n",
       "      <td>1.284071</td>\n",
       "      <td>0.000000</td>\n",
       "      <td>NaN</td>\n",
       "      <td>0.111071</td>\n",
       "    </tr>\n",
       "    <tr>\n",
       "      <th>1000005</th>\n",
       "      <td>1.118681</td>\n",
       "      <td>1.051863</td>\n",
       "      <td>0.427161</td>\n",
       "      <td>0.697832</td>\n",
       "      <td>0.027080</td>\n",
       "    </tr>\n",
       "    <tr>\n",
       "      <th>1000006</th>\n",
       "      <td>1.233239</td>\n",
       "      <td>0.000000</td>\n",
       "      <td>0.999992</td>\n",
       "      <td>0.101793</td>\n",
       "      <td>NaN</td>\n",
       "    </tr>\n",
       "    <tr>\n",
       "      <th>1000009</th>\n",
       "      <td>0.000000</td>\n",
       "      <td>1.049797</td>\n",
       "      <td>0.000000</td>\n",
       "      <td>NaN</td>\n",
       "      <td>0.000000</td>\n",
       "    </tr>\n",
       "  </tbody>\n",
       "</table>\n",
       "</div>"
      ],
      "text/plain": [
       "            avg_back_price  avg_lay_price  back_share   back_std   lay_std\n",
       "ACCOUNT_ID                                                                \n",
       "1000002           1.977567       0.000000    1.000000  16.328730       NaN\n",
       "1000004           0.000000       1.284071    0.000000        NaN  0.111071\n",
       "1000005           1.118681       1.051863    0.427161   0.697832  0.027080\n",
       "1000006           1.233239       0.000000    0.999992   0.101793       NaN\n",
       "1000009           0.000000       1.049797    0.000000        NaN  0.000000"
      ]
     },
     "execution_count": 278,
     "metadata": {},
     "output_type": "execute_result"
    }
   ],
   "source": [
    "avg.head()"
   ]
  },
  {
   "cell_type": "code",
   "execution_count": 279,
   "metadata": {
    "collapsed": true
   },
   "outputs": [],
   "source": [
    "avg_betsize = quarter.groupby(['ACCOUNT_ID', 'EVENT_ID'])['BET_SIZE'].sum().groupby(level=0).mean()"
   ]
  },
  {
   "cell_type": "code",
   "execution_count": 501,
   "metadata": {
    "collapsed": false
   },
   "outputs": [],
   "source": [
    "avg_to_train = pd.concat([avg, avg_betsize], axis=1)"
   ]
  },
  {
   "cell_type": "code",
   "execution_count": 287,
   "metadata": {
    "collapsed": false
   },
   "outputs": [
    {
     "data": {
      "text/plain": [
       "(9003,)"
      ]
     },
     "execution_count": 287,
     "metadata": {},
     "output_type": "execute_result"
    }
   ],
   "source": [
    "is_quarter_profit.shape"
   ]
  },
  {
   "cell_type": "code",
   "execution_count": 504,
   "metadata": {
    "collapsed": true
   },
   "outputs": [],
   "source": [
    "avg_to_train = pd.concat([avg_to_train, quarter_profit], axis=1)"
   ]
  },
  {
   "cell_type": "code",
   "execution_count": 507,
   "metadata": {
    "collapsed": false
   },
   "outputs": [
    {
     "data": {
      "text/html": [
       "<div>\n",
       "<table border=\"1\" class=\"dataframe\">\n",
       "  <thead>\n",
       "    <tr style=\"text-align: right;\">\n",
       "      <th></th>\n",
       "      <th>avg_back_price</th>\n",
       "      <th>avg_lay_price</th>\n",
       "      <th>back_share</th>\n",
       "      <th>back_std</th>\n",
       "      <th>lay_std</th>\n",
       "      <th>BET_SIZE</th>\n",
       "      <th>correct_profit_loss</th>\n",
       "    </tr>\n",
       "    <tr>\n",
       "      <th>ACCOUNT_ID</th>\n",
       "      <th></th>\n",
       "      <th></th>\n",
       "      <th></th>\n",
       "      <th></th>\n",
       "      <th></th>\n",
       "      <th></th>\n",
       "      <th></th>\n",
       "    </tr>\n",
       "  </thead>\n",
       "  <tbody>\n",
       "    <tr>\n",
       "      <th>1000002</th>\n",
       "      <td>1.977567</td>\n",
       "      <td>0.000000</td>\n",
       "      <td>1.000000</td>\n",
       "      <td>16.328730</td>\n",
       "      <td>0.000000</td>\n",
       "      <td>3314.478695</td>\n",
       "      <td>-216.925587</td>\n",
       "    </tr>\n",
       "    <tr>\n",
       "      <th>1000004</th>\n",
       "      <td>0.000000</td>\n",
       "      <td>1.284071</td>\n",
       "      <td>0.000000</td>\n",
       "      <td>0.000000</td>\n",
       "      <td>0.111071</td>\n",
       "      <td>461.931000</td>\n",
       "      <td>-262.443860</td>\n",
       "    </tr>\n",
       "    <tr>\n",
       "      <th>1000005</th>\n",
       "      <td>1.118681</td>\n",
       "      <td>1.051863</td>\n",
       "      <td>0.427161</td>\n",
       "      <td>0.697832</td>\n",
       "      <td>0.027080</td>\n",
       "      <td>996.691000</td>\n",
       "      <td>-16.951520</td>\n",
       "    </tr>\n",
       "    <tr>\n",
       "      <th>1000006</th>\n",
       "      <td>1.233239</td>\n",
       "      <td>0.000000</td>\n",
       "      <td>0.999992</td>\n",
       "      <td>0.101793</td>\n",
       "      <td>0.000000</td>\n",
       "      <td>59.463764</td>\n",
       "      <td>55.478373</td>\n",
       "    </tr>\n",
       "    <tr>\n",
       "      <th>1000009</th>\n",
       "      <td>0.000000</td>\n",
       "      <td>1.049797</td>\n",
       "      <td>0.000000</td>\n",
       "      <td>0.000000</td>\n",
       "      <td>0.000000</td>\n",
       "      <td>5.177635</td>\n",
       "      <td>-0.258882</td>\n",
       "    </tr>\n",
       "  </tbody>\n",
       "</table>\n",
       "</div>"
      ],
      "text/plain": [
       "            avg_back_price  avg_lay_price  back_share   back_std   lay_std  \\\n",
       "ACCOUNT_ID                                                                   \n",
       "1000002           1.977567       0.000000    1.000000  16.328730  0.000000   \n",
       "1000004           0.000000       1.284071    0.000000   0.000000  0.111071   \n",
       "1000005           1.118681       1.051863    0.427161   0.697832  0.027080   \n",
       "1000006           1.233239       0.000000    0.999992   0.101793  0.000000   \n",
       "1000009           0.000000       1.049797    0.000000   0.000000  0.000000   \n",
       "\n",
       "               BET_SIZE  correct_profit_loss  \n",
       "ACCOUNT_ID                                    \n",
       "1000002     3314.478695          -216.925587  \n",
       "1000004      461.931000          -262.443860  \n",
       "1000005      996.691000           -16.951520  \n",
       "1000006       59.463764            55.478373  \n",
       "1000009        5.177635            -0.258882  "
      ]
     },
     "execution_count": 507,
     "metadata": {},
     "output_type": "execute_result"
    }
   ],
   "source": [
    "avg_to_train.head()"
   ]
  },
  {
   "cell_type": "code",
   "execution_count": 506,
   "metadata": {
    "collapsed": true
   },
   "outputs": [],
   "source": [
    "avg_to_train.loc[:, ['back_std', 'lay_std']] = avg_to_train.loc[:, ['back_std', 'lay_std']].fillna(0)"
   ]
  },
  {
   "cell_type": "code",
   "execution_count": 508,
   "metadata": {
    "collapsed": false
   },
   "outputs": [
    {
     "name": "stdout",
     "output_type": "stream",
     "text": [
      "Fitting 3 folds for each of 60 candidates, totalling 180 fits\n"
     ]
    },
    {
     "name": "stderr",
     "output_type": "stream",
     "text": [
      "[Parallel(n_jobs=-1)]: Done   1 jobs       | elapsed:    1.9s\n",
      "[Parallel(n_jobs=-1)]: Done  50 jobs       | elapsed:   15.9s\n",
      "[Parallel(n_jobs=-1)]: Done 166 out of 180 | elapsed:  1.1min remaining:    5.7s\n",
      "[Parallel(n_jobs=-1)]: Done 180 out of 180 | elapsed:  1.2min finished\n"
     ]
    },
    {
     "data": {
      "text/plain": [
       "GridSearchCV(cv=None, error_score='raise',\n",
       "       estimator=RandomForestRegressor(bootstrap=True, criterion='mse', max_depth=None,\n",
       "           max_features='auto', max_leaf_nodes=None, min_samples_leaf=1,\n",
       "           min_samples_split=2, min_weight_fraction_leaf=0.0,\n",
       "           n_estimators=10, n_jobs=1, oob_score=False, random_state=None,\n",
       "           verbose=0, warm_start=False),\n",
       "       fit_params={}, iid=True, loss_func=None, n_jobs=-1,\n",
       "       param_grid={'n_estimators': [40, 41, 42, 43, 44, 45, 46, 47, 48, 49, 50, 51, 52, 53, 54, 55, 56, 57, 58, 59, 60, 61, 62, 63, 64, 65, 66, 67, 68, 69, 70, 71, 72, 73, 74, 75, 76, 77, 78, 79, 80, 81, 82, 83, 84, 85, 86, 87, 88, 89, 90, 91, 92, 93, 94, 95, 96, 97, 98, 99]},\n",
       "       pre_dispatch='2*n_jobs', refit=True, score_func=None,\n",
       "       scoring='mean_squared_error', verbose=1)"
      ]
     },
     "execution_count": 508,
     "metadata": {},
     "output_type": "execute_result"
    }
   ],
   "source": [
    "rfg = RandomForestRegressor()\n",
    "parameters = {'n_estimators': list(range(40, 100))}\n",
    "gs = GridSearchCV(rfg, parameters, scoring='mean_squared_error', n_jobs=-1, verbose=1)\n",
    "gs.fit(avg_to_train[['BET_SIZE', 'avg_back_price', 'avg_lay_price', 'back_share', 'back_std', 'lay_std']], avg_to_train['correct_profit_loss'])"
   ]
  },
  {
   "cell_type": "code",
   "execution_count": 509,
   "metadata": {
    "collapsed": false
   },
   "outputs": [
    {
     "data": {
      "text/plain": [
       "{'n_estimators': 58}"
      ]
     },
     "execution_count": 509,
     "metadata": {},
     "output_type": "execute_result"
    }
   ],
   "source": [
    "gs.best_params_"
   ]
  },
  {
   "cell_type": "code",
   "execution_count": 510,
   "metadata": {
    "collapsed": false
   },
   "outputs": [
    {
     "data": {
      "text/plain": [
       "RandomForestRegressor(bootstrap=True, criterion='mse', max_depth=None,\n",
       "           max_features='auto', max_leaf_nodes=None, min_samples_leaf=1,\n",
       "           min_samples_split=2, min_weight_fraction_leaf=0.0,\n",
       "           n_estimators=58, n_jobs=1, oob_score=False, random_state=None,\n",
       "           verbose=0, warm_start=False)"
      ]
     },
     "execution_count": 510,
     "metadata": {},
     "output_type": "execute_result"
    }
   ],
   "source": [
    "rf = RandomForestRegressor(n_estimators=58)\n",
    "rf.fit(avg_to_train[['BET_SIZE', 'avg_back_price', 'avg_lay_price', 'back_share', 'back_std', 'lay_std']], avg_to_train['correct_profit_loss'])"
   ]
  },
  {
   "cell_type": "code",
   "execution_count": 512,
   "metadata": {
    "collapsed": false
   },
   "outputs": [
    {
     "data": {
      "text/plain": [
       "0.9674113159463853"
      ]
     },
     "execution_count": 512,
     "metadata": {},
     "output_type": "execute_result"
    }
   ],
   "source": [
    "pred = pd.Series(rf.predict(avg_to_train[['BET_SIZE', 'avg_back_price', 'avg_lay_price', 'back_share', 'back_std', 'lay_std']]))\n",
    "roc_auc_score(avg_to_train['correct_profit_loss'] > 0, pred)"
   ]
  },
  {
   "cell_type": "code",
   "execution_count": 514,
   "metadata": {
    "collapsed": false
   },
   "outputs": [],
   "source": [
    "# check an out-of-sample\n",
    "first3 = pre_dat.loc[pre_dat.EVENT_ID.isin([101092958, 101093076, 101093194])]"
   ]
  },
  {
   "cell_type": "code",
   "execution_count": 526,
   "metadata": {
    "collapsed": false
   },
   "outputs": [
    {
     "data": {
      "text/plain": [
       "8764"
      ]
     },
     "execution_count": 526,
     "metadata": {},
     "output_type": "execute_result"
    }
   ],
   "source": [
    "first3.ACCOUNT_ID.nunique()"
   ]
  },
  {
   "cell_type": "code",
   "execution_count": 530,
   "metadata": {
    "collapsed": true
   },
   "outputs": [],
   "source": [
    "first3_avgs = first3.groupby('ACCOUNT_ID').apply(get_average_price).fillna(0)"
   ]
  },
  {
   "cell_type": "code",
   "execution_count": 516,
   "metadata": {
    "collapsed": true
   },
   "outputs": [],
   "source": [
    "first3_betsize = first3.groupby(['ACCOUNT_ID', 'EVENT_ID'])['BET_SIZE'].sum().groupby(level=0).mean()"
   ]
  },
  {
   "cell_type": "code",
   "execution_count": 518,
   "metadata": {
    "collapsed": false
   },
   "outputs": [],
   "source": [
    "first3_profit = first3.groupby('ACCOUNT_ID')['correct_profit_loss'].sum()"
   ]
  },
  {
   "cell_type": "code",
   "execution_count": 532,
   "metadata": {
    "collapsed": false
   },
   "outputs": [],
   "source": [
    "first3_to_pred = pd.concat([first3_avgs, first3_betsize], axis=1)"
   ]
  },
  {
   "cell_type": "code",
   "execution_count": 531,
   "metadata": {
    "collapsed": false
   },
   "outputs": [
    {
     "data": {
      "text/plain": [
       "(8764, 5)"
      ]
     },
     "execution_count": 531,
     "metadata": {},
     "output_type": "execute_result"
    }
   ],
   "source": [
    "first3_avgs.shape"
   ]
  },
  {
   "cell_type": "code",
   "execution_count": 525,
   "metadata": {
    "collapsed": false
   },
   "outputs": [
    {
     "data": {
      "text/plain": [
       "(8764,)"
      ]
     },
     "execution_count": 525,
     "metadata": {},
     "output_type": "execute_result"
    }
   ],
   "source": [
    "first3_betsize.shape"
   ]
  },
  {
   "cell_type": "code",
   "execution_count": 523,
   "metadata": {
    "collapsed": false
   },
   "outputs": [
    {
     "data": {
      "text/plain": [
       "avg_back_price    False\n",
       "avg_lay_price     False\n",
       "back_share        False\n",
       "back_std          False\n",
       "lay_std           False\n",
       "BET_SIZE           True\n",
       "dtype: bool"
      ]
     },
     "execution_count": 523,
     "metadata": {},
     "output_type": "execute_result"
    }
   ],
   "source": [
    "first3_avgs.isnull().any()"
   ]
  },
  {
   "cell_type": "code",
   "execution_count": 533,
   "metadata": {
    "collapsed": false
   },
   "outputs": [
    {
     "data": {
      "text/plain": [
       "0.89036632740635469"
      ]
     },
     "execution_count": 533,
     "metadata": {},
     "output_type": "execute_result"
    }
   ],
   "source": [
    "pred = pd.Series(rf.predict(first3_to_pred[['BET_SIZE', 'avg_back_price', 'avg_lay_price', 'back_share', 'back_std', 'lay_std']]))\n",
    "roc_auc_score(first3_profit > 0, pred)"
   ]
  },
  {
   "cell_type": "code",
   "execution_count": 281,
   "metadata": {
    "collapsed": true
   },
   "outputs": [],
   "source": [
    "quarter_profit = quarter_by_account['correct_profit_loss'].sum()"
   ]
  },
  {
   "cell_type": "code",
   "execution_count": 503,
   "metadata": {
    "collapsed": false
   },
   "outputs": [
    {
     "data": {
      "text/plain": [
       "ACCOUNT_ID\n",
       "1000002   -216.925587\n",
       "1000004   -262.443860\n",
       "1000005    -16.951520\n",
       "1000006     55.478373\n",
       "1000009     -0.258882\n",
       "Name: correct_profit_loss, dtype: float64"
      ]
     },
     "execution_count": 503,
     "metadata": {},
     "output_type": "execute_result"
    }
   ],
   "source": [
    "quarter_profit.head()"
   ]
  },
  {
   "cell_type": "code",
   "execution_count": 283,
   "metadata": {
    "collapsed": true
   },
   "outputs": [],
   "source": [
    "is_quarter_profit = quarter_profit > 0"
   ]
  },
  {
   "cell_type": "code",
   "execution_count": 284,
   "metadata": {
    "collapsed": false
   },
   "outputs": [
    {
     "data": {
      "text/plain": [
       "False    5323\n",
       "True     3680\n",
       "dtype: int64"
      ]
     },
     "execution_count": 284,
     "metadata": {},
     "output_type": "execute_result"
    }
   ],
   "source": [
    "is_quarter_profit.value_counts()"
   ]
  },
  {
   "cell_type": "code",
   "execution_count": 285,
   "metadata": {
    "collapsed": false
   },
   "outputs": [
    {
     "data": {
      "text/plain": [
       "ACCOUNT_ID\n",
       "1000002    False\n",
       "1000004    False\n",
       "1000005    False\n",
       "1000006     True\n",
       "1000009    False\n",
       "Name: correct_profit_loss, dtype: bool"
      ]
     },
     "execution_count": 285,
     "metadata": {},
     "output_type": "execute_result"
    }
   ],
   "source": [
    "is_quarter_profit.head()"
   ]
  },
  {
   "cell_type": "code",
   "execution_count": 231,
   "metadata": {
    "collapsed": true
   },
   "outputs": [],
   "source": [
    "avg = pd.concat([avg, is_quarter_profit], axis=1)"
   ]
  },
  {
   "cell_type": "code",
   "execution_count": 232,
   "metadata": {
    "collapsed": false
   },
   "outputs": [
    {
     "data": {
      "text/html": [
       "<div>\n",
       "<table border=\"1\" class=\"dataframe\">\n",
       "  <thead>\n",
       "    <tr style=\"text-align: right;\">\n",
       "      <th></th>\n",
       "      <th>BET_SIZE</th>\n",
       "      <th>avg_back_price</th>\n",
       "      <th>avg_lay_price</th>\n",
       "      <th>back_share</th>\n",
       "      <th>back_std</th>\n",
       "      <th>lay_std</th>\n",
       "      <th>correct_profit_loss</th>\n",
       "    </tr>\n",
       "    <tr>\n",
       "      <th>ACCOUNT_ID</th>\n",
       "      <th></th>\n",
       "      <th></th>\n",
       "      <th></th>\n",
       "      <th></th>\n",
       "      <th></th>\n",
       "      <th></th>\n",
       "      <th></th>\n",
       "    </tr>\n",
       "  </thead>\n",
       "  <tbody>\n",
       "    <tr>\n",
       "      <th>1000002</th>\n",
       "      <td>2091.105015</td>\n",
       "      <td>2.131243</td>\n",
       "      <td>0.000000</td>\n",
       "      <td>1.000000</td>\n",
       "      <td>10.273789</td>\n",
       "      <td>NaN</td>\n",
       "      <td>False</td>\n",
       "    </tr>\n",
       "    <tr>\n",
       "      <th>1000004</th>\n",
       "      <td>259.069892</td>\n",
       "      <td>2.009621</td>\n",
       "      <td>1.226126</td>\n",
       "      <td>0.529321</td>\n",
       "      <td>9.114344</td>\n",
       "      <td>0.183689</td>\n",
       "      <td>False</td>\n",
       "    </tr>\n",
       "    <tr>\n",
       "      <th>1000005</th>\n",
       "      <td>5599.937000</td>\n",
       "      <td>1.164510</td>\n",
       "      <td>1.081237</td>\n",
       "      <td>0.459241</td>\n",
       "      <td>0.533567</td>\n",
       "      <td>0.223361</td>\n",
       "      <td>False</td>\n",
       "    </tr>\n",
       "    <tr>\n",
       "      <th>1000010</th>\n",
       "      <td>932.061019</td>\n",
       "      <td>4.900702</td>\n",
       "      <td>1.240785</td>\n",
       "      <td>0.434367</td>\n",
       "      <td>58.987752</td>\n",
       "      <td>0.264042</td>\n",
       "      <td>False</td>\n",
       "    </tr>\n",
       "    <tr>\n",
       "      <th>1000014</th>\n",
       "      <td>100.000000</td>\n",
       "      <td>1.499985</td>\n",
       "      <td>0.000000</td>\n",
       "      <td>0.999980</td>\n",
       "      <td>0.000000</td>\n",
       "      <td>NaN</td>\n",
       "      <td>True</td>\n",
       "    </tr>\n",
       "  </tbody>\n",
       "</table>\n",
       "</div>"
      ],
      "text/plain": [
       "               BET_SIZE  avg_back_price  avg_lay_price  back_share   back_std  \\\n",
       "ACCOUNT_ID                                                                      \n",
       "1000002     2091.105015        2.131243       0.000000    1.000000  10.273789   \n",
       "1000004      259.069892        2.009621       1.226126    0.529321   9.114344   \n",
       "1000005     5599.937000        1.164510       1.081237    0.459241   0.533567   \n",
       "1000010      932.061019        4.900702       1.240785    0.434367  58.987752   \n",
       "1000014      100.000000        1.499985       0.000000    0.999980   0.000000   \n",
       "\n",
       "             lay_std correct_profit_loss  \n",
       "ACCOUNT_ID                                \n",
       "1000002          NaN               False  \n",
       "1000004     0.183689               False  \n",
       "1000005     0.223361               False  \n",
       "1000010     0.264042               False  \n",
       "1000014          NaN                True  "
      ]
     },
     "execution_count": 232,
     "metadata": {},
     "output_type": "execute_result"
    }
   ],
   "source": [
    "avg.head()"
   ]
  },
  {
   "cell_type": "code",
   "execution_count": 233,
   "metadata": {
    "collapsed": true
   },
   "outputs": [],
   "source": [
    "avg.loc[:, ['back_std', 'lay_std']] = avg.loc[:, ['back_std', 'lay_std']].fillna(0)"
   ]
  },
  {
   "cell_type": "code",
   "execution_count": 169,
   "metadata": {
    "collapsed": false
   },
   "outputs": [],
   "source": [
    "avg1 = avg.dropna()"
   ]
  },
  {
   "cell_type": "code",
   "execution_count": 170,
   "metadata": {
    "collapsed": false
   },
   "outputs": [
    {
     "name": "stderr",
     "output_type": "stream",
     "text": [
      "/Users/feizhan/miniconda/envs/py3_env/lib/python3.4/site-packages/pandas/core/indexing.py:415: SettingWithCopyWarning: \n",
      "A value is trying to be set on a copy of a slice from a DataFrame.\n",
      "Try using .loc[row_indexer,col_indexer] = value instead\n",
      "\n",
      "See the the caveats in the documentation: http://pandas.pydata.org/pandas-docs/stable/indexing.html#indexing-view-versus-copy\n",
      "  self.obj[item] = s\n"
     ]
    }
   ],
   "source": [
    "maps = {False: 0, True: 1}\n",
    "avg1.loc[:, 'correct_profit_loss'] = avg1.loc[:, 'correct_profit_loss'].map(maps)"
   ]
  },
  {
   "cell_type": "code",
   "execution_count": 171,
   "metadata": {
    "collapsed": false
   },
   "outputs": [
    {
     "data": {
      "text/plain": [
       "<matplotlib.axes._subplots.AxesSubplot at 0x13b891c88>"
      ]
     },
     "execution_count": 171,
     "metadata": {},
     "output_type": "execute_result"
    },
    {
     "data": {
      "image/png": "[encoded data removed]",
      "text/plain": [
       "<matplotlib.figure.Figure at 0x121867160>"
      ]
     },
     "metadata": {},
     "output_type": "display_data"
    }
   ],
   "source": [
    "ax = avg1.loc[(avg1.correct_profit_loss == True).values].plot(kind='scatter', x='avg_back_price', y='avg_lay_price', xlim=(0, 10), ylim=(0, 10))\n",
    "avg1.loc[(avg1.correct_profit_loss == False).values].plot(kind='scatter', x='avg_back_price', y='avg_lay_price', alpha=.1, ax=ax, color='r', xlim=(0, 10), ylim=(0, 10))"
   ]
  },
  {
   "cell_type": "code",
   "execution_count": 219,
   "metadata": {
    "collapsed": false
   },
   "outputs": [
    {
     "data": {
      "text/plain": [
       "GridSearchCV(cv=None, error_score='raise',\n",
       "       estimator=RandomForestClassifier(bootstrap=True, class_weight=None, criterion='gini',\n",
       "            max_depth=None, max_features='auto', max_leaf_nodes=None,\n",
       "            min_samples_leaf=1, min_samples_split=2,\n",
       "            min_weight_fraction_leaf=0.0, n_estimators=10, n_jobs=1,\n",
       "            oob_score=False, random_state=None, verbose=0,\n",
       "            warm_start=False),\n",
       "       fit_params={}, iid=True, loss_func=None, n_jobs=1,\n",
       "       param_grid={'n_estimators': [5, 6, 7, 8, 9, 10, 11, 12, 13, 14, 15, 16, 17, 18, 19, 20, 21, 22, 23, 24, 25, 26, 27, 28, 29, 30, 31, 32, 33, 34, 35, 36, 37, 38, 39, 40, 41, 42, 43, 44, 45, 46, 47, 48, 49, 50, 51, 52, 53, 54, 55, 56, 57, 58, 59, 60, 61, 62, 63, 64, 65, 66, 67, 68, 69, 70, 71, 72, 73, 74, 75, 76, 77, 78, 79, 80, 81, 82, 83, 84, 85, 86, 87, 88, 89, 90, 91, 92, 93, 94, 95, 96, 97, 98, 99]},\n",
       "       pre_dispatch='2*n_jobs', refit=True, score_func=None,\n",
       "       scoring='roc_auc', verbose=0)"
      ]
     },
     "execution_count": 219,
     "metadata": {},
     "output_type": "execute_result"
    }
   ],
   "source": [
    "rf = RandomForestClassifier()\n",
    "parameters = {'n_estimators': list(range(5, 100))}\n",
    "gs = GridSearchCV(rf, parameters, scoring='roc_auc')\n",
    "gs.fit(avg1[['BET_SIZE', 'avg_back_price', 'avg_lay_price', 'back_share', 'back_std', 'lay_std']], avg1['correct_profit_loss'])"
   ]
  },
  {
   "cell_type": "code",
   "execution_count": 220,
   "metadata": {
    "collapsed": false
   },
   "outputs": [
    {
     "data": {
      "text/plain": [
       "{'n_estimators': 87}"
      ]
     },
     "execution_count": 220,
     "metadata": {},
     "output_type": "execute_result"
    }
   ],
   "source": [
    "gs.best_params_"
   ]
  },
  {
   "cell_type": "code",
   "execution_count": 236,
   "metadata": {
    "collapsed": false
   },
   "outputs": [
    {
     "data": {
      "text/plain": [
       "RandomForestClassifier(bootstrap=True, class_weight=None, criterion='gini',\n",
       "            max_depth=None, max_features='auto', max_leaf_nodes=None,\n",
       "            min_samples_leaf=1, min_samples_split=2,\n",
       "            min_weight_fraction_leaf=0.0, n_estimators=87, n_jobs=1,\n",
       "            oob_score=False, random_state=None, verbose=0,\n",
       "            warm_start=False)"
      ]
     },
     "execution_count": 236,
     "metadata": {},
     "output_type": "execute_result"
    }
   ],
   "source": [
    "rf = RandomForestClassifier(n_estimators=87)\n",
    "rf.fit(avg1[['BET_SIZE', 'avg_back_price', 'avg_lay_price', 'back_share', 'back_std', 'lay_std']], avg1['correct_profit_loss'])"
   ]
  },
  {
   "cell_type": "code",
   "execution_count": 223,
   "metadata": {
    "collapsed": false
   },
   "outputs": [],
   "source": [
    "pred = pd.Series(rf.predict(avg1[['BET_SIZE', 'avg_back_price', 'avg_lay_price', 'back_share', 'back_std', 'lay_std']]))"
   ]
  },
  {
   "cell_type": "code",
   "execution_count": 224,
   "metadata": {
    "collapsed": false
   },
   "outputs": [
    {
     "data": {
      "text/plain": [
       "(4925,)"
      ]
     },
     "execution_count": 224,
     "metadata": {},
     "output_type": "execute_result"
    }
   ],
   "source": [
    "pred.shape"
   ]
  },
  {
   "cell_type": "code",
   "execution_count": 225,
   "metadata": {
    "collapsed": false
   },
   "outputs": [
    {
     "data": {
      "text/plain": [
       "4924"
      ]
     },
     "execution_count": 225,
     "metadata": {},
     "output_type": "execute_result"
    }
   ],
   "source": [
    "# in-sample error is so low???!\n",
    "(pred == avg1['correct_profit_loss']).sum()"
   ]
  },
  {
   "cell_type": "code",
   "execution_count": 237,
   "metadata": {
    "collapsed": false
   },
   "outputs": [],
   "source": [
    "to_submit = pd.DataFrame({\n",
    "    'Account_ID': avg.index,\n",
    "    'Prediction': rf.predict_proba(avg[['BET_SIZE', 'avg_back_price', 'avg_lay_price', 'back_share', 'back_std', 'lay_std']])[:, 1]})"
   ]
  },
  {
   "cell_type": "code",
   "execution_count": 127,
   "metadata": {
    "collapsed": true
   },
   "outputs": [],
   "source": [
    "to_submit = to_submit.set_index('Account_ID')"
   ]
  },
  {
   "cell_type": "code",
   "execution_count": 168,
   "metadata": {
    "collapsed": false
   },
   "outputs": [],
   "source": [
    "to_submit = to_submit.loc[submit.Account_ID.tolist()]"
   ]
  },
  {
   "cell_type": "code",
   "execution_count": 238,
   "metadata": {
    "collapsed": false
   },
   "outputs": [
    {
     "data": {
      "text/html": [
       "<div>\n",
       "<table border=\"1\" class=\"dataframe\">\n",
       "  <thead>\n",
       "    <tr style=\"text-align: right;\">\n",
       "      <th></th>\n",
       "      <th>Account_ID</th>\n",
       "      <th>Prediction</th>\n",
       "    </tr>\n",
       "  </thead>\n",
       "  <tbody>\n",
       "    <tr>\n",
       "      <th>0</th>\n",
       "      <td>1000002</td>\n",
       "      <td>0.232837</td>\n",
       "    </tr>\n",
       "    <tr>\n",
       "      <th>1</th>\n",
       "      <td>1000004</td>\n",
       "      <td>0.034483</td>\n",
       "    </tr>\n",
       "    <tr>\n",
       "      <th>2</th>\n",
       "      <td>1000005</td>\n",
       "      <td>0.206897</td>\n",
       "    </tr>\n",
       "    <tr>\n",
       "      <th>3</th>\n",
       "      <td>1000010</td>\n",
       "      <td>0.022989</td>\n",
       "    </tr>\n",
       "    <tr>\n",
       "      <th>4</th>\n",
       "      <td>1000014</td>\n",
       "      <td>1.000000</td>\n",
       "    </tr>\n",
       "  </tbody>\n",
       "</table>\n",
       "</div>"
      ],
      "text/plain": [
       "   Account_ID  Prediction\n",
       "0     1000002    0.232837\n",
       "1     1000004    0.034483\n",
       "2     1000005    0.206897\n",
       "3     1000010    0.022989\n",
       "4     1000014    1.000000"
      ]
     },
     "execution_count": 238,
     "metadata": {},
     "output_type": "execute_result"
    }
   ],
   "source": [
    "to_submit.head()"
   ]
  },
  {
   "cell_type": "code",
   "execution_count": 239,
   "metadata": {
    "collapsed": false
   },
   "outputs": [
    {
     "data": {
      "text/plain": [
       "(7374, 2)"
      ]
     },
     "execution_count": 239,
     "metadata": {},
     "output_type": "execute_result"
    }
   ],
   "source": [
    "to_submit.shape"
   ]
  },
  {
   "cell_type": "code",
   "execution_count": 170,
   "metadata": {
    "collapsed": false
   },
   "outputs": [],
   "source": [
    "to_submit = to_submit.fillna(0.2).reset_index()"
   ]
  },
  {
   "cell_type": "code",
   "execution_count": 132,
   "metadata": {
    "collapsed": false
   },
   "outputs": [
    {
     "data": {
      "text/html": [
       "<div>\n",
       "<table border=\"1\" class=\"dataframe\">\n",
       "  <thead>\n",
       "    <tr style=\"text-align: right;\">\n",
       "      <th></th>\n",
       "      <th>Account_ID</th>\n",
       "      <th>Prediction</th>\n",
       "    </tr>\n",
       "  </thead>\n",
       "  <tbody>\n",
       "    <tr>\n",
       "      <th>count</th>\n",
       "      <td>7374.000000</td>\n",
       "      <td>7374.000000</td>\n",
       "    </tr>\n",
       "    <tr>\n",
       "      <th>mean</th>\n",
       "      <td>1011060.910768</td>\n",
       "      <td>0.410796</td>\n",
       "    </tr>\n",
       "    <tr>\n",
       "      <th>std</th>\n",
       "      <td>6613.263866</td>\n",
       "      <td>0.323627</td>\n",
       "    </tr>\n",
       "    <tr>\n",
       "      <th>min</th>\n",
       "      <td>1000002.000000</td>\n",
       "      <td>0.000000</td>\n",
       "    </tr>\n",
       "    <tr>\n",
       "      <th>25%</th>\n",
       "      <td>1005685.750000</td>\n",
       "      <td>0.120000</td>\n",
       "    </tr>\n",
       "    <tr>\n",
       "      <th>50%</th>\n",
       "      <td>1010105.000000</td>\n",
       "      <td>0.300000</td>\n",
       "    </tr>\n",
       "    <tr>\n",
       "      <th>75%</th>\n",
       "      <td>1016848.750000</td>\n",
       "      <td>0.740000</td>\n",
       "    </tr>\n",
       "    <tr>\n",
       "      <th>max</th>\n",
       "      <td>1024189.000000</td>\n",
       "      <td>1.000000</td>\n",
       "    </tr>\n",
       "  </tbody>\n",
       "</table>\n",
       "</div>"
      ],
      "text/plain": [
       "           Account_ID   Prediction\n",
       "count     7374.000000  7374.000000\n",
       "mean   1011060.910768     0.410796\n",
       "std       6613.263866     0.323627\n",
       "min    1000002.000000     0.000000\n",
       "25%    1005685.750000     0.120000\n",
       "50%    1010105.000000     0.300000\n",
       "75%    1016848.750000     0.740000\n",
       "max    1024189.000000     1.000000"
      ]
     },
     "execution_count": 132,
     "metadata": {},
     "output_type": "execute_result"
    }
   ],
   "source": [
    "to_submit.describe()"
   ]
  },
  {
   "cell_type": "code",
   "execution_count": 240,
   "metadata": {
    "collapsed": true
   },
   "outputs": [],
   "source": [
    "to_submit.to_csv('prob_from_lay_back_with_makeup_data_87_estimators_quarter_games.csv', index=False)"
   ]
  },
  {
   "cell_type": "code",
   "execution_count": 107,
   "metadata": {
    "collapsed": false
   },
   "outputs": [
    {
     "data": {
      "text/plain": [
       "6373"
      ]
     },
     "execution_count": 107,
     "metadata": {},
     "output_type": "execute_result"
    }
   ],
   "source": [
    "# look at the new ones\n",
    "pre_dat.ACCOUNT_ID.nunique()"
   ]
  },
  {
   "cell_type": "code",
   "execution_count": 108,
   "metadata": {
    "collapsed": false
   },
   "outputs": [
    {
     "data": {
      "text/plain": [
       "7374"
      ]
     },
     "execution_count": 108,
     "metadata": {},
     "output_type": "execute_result"
    }
   ],
   "source": [
    "submit.Account_ID.nunique()"
   ]
  },
  {
   "cell_type": "code",
   "execution_count": 109,
   "metadata": {
    "collapsed": false
   },
   "outputs": [],
   "source": [
    "newbies = submit.loc[~submit.Account_ID.isin(pre_dat.ACCOUNT_ID), 'Account_ID'].tolist()"
   ]
  },
  {
   "cell_type": "code",
   "execution_count": 110,
   "metadata": {
    "collapsed": false
   },
   "outputs": [],
   "source": [
    "newbie_dat = semi_final.loc[semi_final.Account_ID.isin(newbies), :]"
   ]
  },
  {
   "cell_type": "code",
   "execution_count": 111,
   "metadata": {
    "collapsed": false
   },
   "outputs": [
    {
     "data": {
      "text/html": [
       "<div>\n",
       "<table border=\"1\" class=\"dataframe\">\n",
       "  <thead>\n",
       "    <tr style=\"text-align: right;\">\n",
       "      <th></th>\n",
       "      <th>Account_ID</th>\n",
       "      <th>EVENT_ID</th>\n",
       "      <th>TRANSACTION_COUNT</th>\n",
       "      <th>STATUS_ID</th>\n",
       "      <th>INPLAY_BET</th>\n",
       "      <th>AVG_BET_SIZE</th>\n",
       "      <th>MAX_BET_SIZE</th>\n",
       "      <th>MIN_BET_SIZE</th>\n",
       "      <th>STDEV_BET_SIZE</th>\n",
       "      <th>MATCH</th>\n",
       "    </tr>\n",
       "  </thead>\n",
       "  <tbody>\n",
       "    <tr>\n",
       "      <th>246</th>\n",
       "      <td>1000168</td>\n",
       "      <td>101187238</td>\n",
       "      <td>1</td>\n",
       "      <td>S</td>\n",
       "      <td>N</td>\n",
       "      <td>1261.438500</td>\n",
       "      <td>1261.43850</td>\n",
       "      <td>1261.438500</td>\n",
       "      <td>0.000000</td>\n",
       "      <td>South Africa v New Zealand</td>\n",
       "    </tr>\n",
       "    <tr>\n",
       "      <th>247</th>\n",
       "      <td>1000168</td>\n",
       "      <td>101187238</td>\n",
       "      <td>3</td>\n",
       "      <td>S</td>\n",
       "      <td>N</td>\n",
       "      <td>870.866790</td>\n",
       "      <td>1263.33540</td>\n",
       "      <td>85.929570</td>\n",
       "      <td>679.775573</td>\n",
       "      <td>South Africa v New Zealand</td>\n",
       "    </tr>\n",
       "    <tr>\n",
       "      <th>249</th>\n",
       "      <td>1000168</td>\n",
       "      <td>101187943</td>\n",
       "      <td>1</td>\n",
       "      <td>S</td>\n",
       "      <td>N</td>\n",
       "      <td>858.221000</td>\n",
       "      <td>858.22100</td>\n",
       "      <td>858.221000</td>\n",
       "      <td>0.000000</td>\n",
       "      <td>Australia v India</td>\n",
       "    </tr>\n",
       "    <tr>\n",
       "      <th>250</th>\n",
       "      <td>1000168</td>\n",
       "      <td>101187943</td>\n",
       "      <td>7</td>\n",
       "      <td>S</td>\n",
       "      <td>Y</td>\n",
       "      <td>622.984914</td>\n",
       "      <td>1467.46360</td>\n",
       "      <td>12.241438</td>\n",
       "      <td>548.878251</td>\n",
       "      <td>Australia v India</td>\n",
       "    </tr>\n",
       "    <tr>\n",
       "      <th>251</th>\n",
       "      <td>1000168</td>\n",
       "      <td>101187943</td>\n",
       "      <td>15</td>\n",
       "      <td>S</td>\n",
       "      <td>Y</td>\n",
       "      <td>187.865520</td>\n",
       "      <td>585.94803</td>\n",
       "      <td>19.880548</td>\n",
       "      <td>187.252063</td>\n",
       "      <td>Australia v India</td>\n",
       "    </tr>\n",
       "  </tbody>\n",
       "</table>\n",
       "</div>"
      ],
      "text/plain": [
       "     Account_ID   EVENT_ID  TRANSACTION_COUNT STATUS_ID INPLAY_BET  \\\n",
       "246     1000168  101187238                  1         S          N   \n",
       "247     1000168  101187238                  3         S          N   \n",
       "249     1000168  101187943                  1         S          N   \n",
       "250     1000168  101187943                  7         S          Y   \n",
       "251     1000168  101187943                 15         S          Y   \n",
       "\n",
       "     AVG_BET_SIZE  MAX_BET_SIZE  MIN_BET_SIZE  STDEV_BET_SIZE  \\\n",
       "246   1261.438500    1261.43850   1261.438500        0.000000   \n",
       "247    870.866790    1263.33540     85.929570      679.775573   \n",
       "249    858.221000     858.22100    858.221000        0.000000   \n",
       "250    622.984914    1467.46360     12.241438      548.878251   \n",
       "251    187.865520     585.94803     19.880548      187.252063   \n",
       "\n",
       "                          MATCH  \n",
       "246  South Africa v New Zealand  \n",
       "247  South Africa v New Zealand  \n",
       "249           Australia v India  \n",
       "250           Australia v India  \n",
       "251           Australia v India  "
      ]
     },
     "execution_count": 111,
     "metadata": {},
     "output_type": "execute_result"
    }
   ],
   "source": [
    "newbie_dat.head()"
   ]
  },
  {
   "cell_type": "code",
   "execution_count": 112,
   "metadata": {
    "collapsed": false
   },
   "outputs": [
    {
     "name": "stderr",
     "output_type": "stream",
     "text": [
      "/Users/feizhan/miniconda/envs/py3_env/lib/python3.4/site-packages/pandas/core/indexing.py:249: SettingWithCopyWarning: \n",
      "A value is trying to be set on a copy of a slice from a DataFrame.\n",
      "Try using .loc[row_indexer,col_indexer] = value instead\n",
      "\n",
      "See the the caveats in the documentation: http://pandas.pydata.org/pandas-docs/stable/indexing.html#indexing-view-versus-copy\n",
      "  self.obj[key] = _infer_fill_value(value)\n",
      "/Users/feizhan/miniconda/envs/py3_env/lib/python3.4/site-packages/pandas/core/indexing.py:415: SettingWithCopyWarning: \n",
      "A value is trying to be set on a copy of a slice from a DataFrame.\n",
      "Try using .loc[row_indexer,col_indexer] = value instead\n",
      "\n",
      "See the the caveats in the documentation: http://pandas.pydata.org/pandas-docs/stable/indexing.html#indexing-view-versus-copy\n",
      "  self.obj[item] = s\n"
     ]
    }
   ],
   "source": [
    "# get the average bet\n",
    "newbie_dat.loc[:, 'total'] = newbie_dat.loc[:, 'TRANSACTION_COUNT'] * newbie_dat.loc[:, 'AVG_BET_SIZE']"
   ]
  },
  {
   "cell_type": "code",
   "execution_count": 113,
   "metadata": {
    "collapsed": true
   },
   "outputs": [],
   "source": [
    "newbie_dat_by_account_event = newbie_dat.groupby(['Account_ID', 'EVENT_ID'])"
   ]
  },
  {
   "cell_type": "code",
   "execution_count": 114,
   "metadata": {
    "collapsed": true
   },
   "outputs": [],
   "source": [
    "new_game_total = newbie_dat_by_account_event['total'].sum()"
   ]
  },
  {
   "cell_type": "code",
   "execution_count": 115,
   "metadata": {
    "collapsed": false
   },
   "outputs": [],
   "source": [
    "new_game_avg = new_game_total.groupby(level=0).mean()"
   ]
  },
  {
   "cell_type": "code",
   "execution_count": null,
   "metadata": {
    "collapsed": true
   },
   "outputs": [],
   "source": [
    "rfg = RandomForestRegressor()\n",
    "parameters = {'n_estimators': list(range(5, 100))}\n",
    "gs = GridSearchCV(rfg, parameters, scoring='mean_squared_error')\n",
    "gs.fit(avg.loc[:, ['BET_SIZE']], avg.loc[:, ['avg_back_price', 'avg_lay_price', 'back_share', 'back_std', 'lay_std']])"
   ]
  },
  {
   "cell_type": "code",
   "execution_count": 116,
   "metadata": {
    "collapsed": false
   },
   "outputs": [],
   "source": [
    "rfg = RandomForestRegressor(n_estimators=20)"
   ]
  },
  {
   "cell_type": "code",
   "execution_count": 117,
   "metadata": {
    "collapsed": false
   },
   "outputs": [
    {
     "data": {
      "text/plain": [
       "RandomForestRegressor(bootstrap=True, criterion='mse', max_depth=None,\n",
       "           max_features='auto', max_leaf_nodes=None, min_samples_leaf=1,\n",
       "           min_samples_split=2, min_weight_fraction_leaf=0.0,\n",
       "           n_estimators=20, n_jobs=1, oob_score=False, random_state=None,\n",
       "           verbose=0, warm_start=False)"
      ]
     },
     "execution_count": 117,
     "metadata": {},
     "output_type": "execute_result"
    }
   ],
   "source": [
    "rfg.fit(avg.loc[:, ['BET_SIZE']], avg.loc[:, ['avg_back_price', 'avg_lay_price', 'back_share', 'back_std', 'lay_std']])"
   ]
  },
  {
   "cell_type": "code",
   "execution_count": 118,
   "metadata": {
    "collapsed": false
   },
   "outputs": [],
   "source": [
    "new_game_avg = pd.DataFrame(new_game_avg)"
   ]
  },
  {
   "cell_type": "code",
   "execution_count": 119,
   "metadata": {
    "collapsed": false
   },
   "outputs": [
    {
     "data": {
      "text/html": [
       "<div>\n",
       "<table border=\"1\" class=\"dataframe\">\n",
       "  <thead>\n",
       "    <tr style=\"text-align: right;\">\n",
       "      <th></th>\n",
       "      <th>total</th>\n",
       "    </tr>\n",
       "    <tr>\n",
       "      <th>Account_ID</th>\n",
       "      <th></th>\n",
       "    </tr>\n",
       "  </thead>\n",
       "  <tbody>\n",
       "    <tr>\n",
       "      <th>1000168</th>\n",
       "      <td>5955.568535</td>\n",
       "    </tr>\n",
       "    <tr>\n",
       "      <th>1000207</th>\n",
       "      <td>2000.000000</td>\n",
       "    </tr>\n",
       "    <tr>\n",
       "      <th>1000249</th>\n",
       "      <td>901.360094</td>\n",
       "    </tr>\n",
       "    <tr>\n",
       "      <th>1000274</th>\n",
       "      <td>228.645164</td>\n",
       "    </tr>\n",
       "    <tr>\n",
       "      <th>1000304</th>\n",
       "      <td>523.654400</td>\n",
       "    </tr>\n",
       "  </tbody>\n",
       "</table>\n",
       "</div>"
      ],
      "text/plain": [
       "                  total\n",
       "Account_ID             \n",
       "1000168     5955.568535\n",
       "1000207     2000.000000\n",
       "1000249      901.360094\n",
       "1000274      228.645164\n",
       "1000304      523.654400"
      ]
     },
     "execution_count": 119,
     "metadata": {},
     "output_type": "execute_result"
    }
   ],
   "source": [
    "new_game_avg.head()"
   ]
  },
  {
   "cell_type": "code",
   "execution_count": 120,
   "metadata": {
    "collapsed": true
   },
   "outputs": [],
   "source": [
    "make_up_data_np = rfg.predict(new_game_avg.iloc[:, [0]])"
   ]
  },
  {
   "cell_type": "code",
   "execution_count": 121,
   "metadata": {
    "collapsed": false
   },
   "outputs": [],
   "source": [
    "make_up_data = pd.DataFrame(\n",
    "    {'BET_SIZE': new_game_avg.total,\n",
    "     'avg_back_price': make_up_data_np[:, 0],\n",
    "     'avg_lay_price': make_up_data_np[:, 1],\n",
    "     'back_share': make_up_data_np[:, 2],\n",
    "     'back_std': make_up_data_np[:, 3],\n",
    "     'lay_std': make_up_data_np[:, 4]},\n",
    "    index=newbies)"
   ]
  },
  {
   "cell_type": "code",
   "execution_count": 122,
   "metadata": {
    "collapsed": false
   },
   "outputs": [
    {
     "data": {
      "text/html": [
       "<div>\n",
       "<table border=\"1\" class=\"dataframe\">\n",
       "  <thead>\n",
       "    <tr style=\"text-align: right;\">\n",
       "      <th></th>\n",
       "      <th>BET_SIZE</th>\n",
       "      <th>avg_back_price</th>\n",
       "      <th>avg_lay_price</th>\n",
       "      <th>back_share</th>\n",
       "      <th>back_std</th>\n",
       "      <th>lay_std</th>\n",
       "    </tr>\n",
       "  </thead>\n",
       "  <tbody>\n",
       "    <tr>\n",
       "      <th>1013818</th>\n",
       "      <td>208.65900</td>\n",
       "      <td>1.855905</td>\n",
       "      <td>2.299692</td>\n",
       "      <td>0.533008</td>\n",
       "      <td>2.500325</td>\n",
       "      <td>3.091612</td>\n",
       "    </tr>\n",
       "    <tr>\n",
       "      <th>1014436</th>\n",
       "      <td>2000.00000</td>\n",
       "      <td>1.429258</td>\n",
       "      <td>0.143006</td>\n",
       "      <td>0.951423</td>\n",
       "      <td>5.456924</td>\n",
       "      <td>0.068212</td>\n",
       "    </tr>\n",
       "    <tr>\n",
       "      <th>1017244</th>\n",
       "      <td>233.04546</td>\n",
       "      <td>1.594828</td>\n",
       "      <td>1.182080</td>\n",
       "      <td>0.546469</td>\n",
       "      <td>34.449359</td>\n",
       "      <td>4.825068</td>\n",
       "    </tr>\n",
       "    <tr>\n",
       "      <th>1014050</th>\n",
       "      <td>315.24000</td>\n",
       "      <td>2.310473</td>\n",
       "      <td>1.625029</td>\n",
       "      <td>0.423921</td>\n",
       "      <td>1.799875</td>\n",
       "      <td>1.163053</td>\n",
       "    </tr>\n",
       "    <tr>\n",
       "      <th>1001853</th>\n",
       "      <td>300.00000</td>\n",
       "      <td>3.243624</td>\n",
       "      <td>1.232959</td>\n",
       "      <td>0.344763</td>\n",
       "      <td>22.055907</td>\n",
       "      <td>0.246411</td>\n",
       "    </tr>\n",
       "  </tbody>\n",
       "</table>\n",
       "</div>"
      ],
      "text/plain": [
       "           BET_SIZE  avg_back_price  avg_lay_price  back_share   back_std  \\\n",
       "1013818   208.65900        1.855905       2.299692    0.533008   2.500325   \n",
       "1014436  2000.00000        1.429258       0.143006    0.951423   5.456924   \n",
       "1017244   233.04546        1.594828       1.182080    0.546469  34.449359   \n",
       "1014050   315.24000        2.310473       1.625029    0.423921   1.799875   \n",
       "1001853   300.00000        3.243624       1.232959    0.344763  22.055907   \n",
       "\n",
       "          lay_std  \n",
       "1013818  3.091612  \n",
       "1014436  0.068212  \n",
       "1017244  4.825068  \n",
       "1014050  1.163053  \n",
       "1001853  0.246411  "
      ]
     },
     "execution_count": 122,
     "metadata": {},
     "output_type": "execute_result"
    }
   ],
   "source": [
    "make_up_data.head()"
   ]
  },
  {
   "cell_type": "code",
   "execution_count": 234,
   "metadata": {
    "collapsed": false
   },
   "outputs": [],
   "source": [
    "avg = pd.concat([avg, make_up_data])"
   ]
  },
  {
   "cell_type": "code",
   "execution_count": 235,
   "metadata": {
    "collapsed": false
   },
   "outputs": [
    {
     "data": {
      "text/plain": [
       "(7374, 7)"
      ]
     },
     "execution_count": 235,
     "metadata": {},
     "output_type": "execute_result"
    }
   ],
   "source": [
    "avg.shape"
   ]
  },
  {
   "cell_type": "code",
   "execution_count": 185,
   "metadata": {
    "collapsed": true
   },
   "outputs": [],
   "source": [
    "# to replace the bet size for whom in the pre_dat\n",
    "semi_final.loc[:, 'total'] = semi_final.loc[:, 'TRANSACTION_COUNT'] * semi_final.loc[:, 'AVG_BET_SIZE']"
   ]
  },
  {
   "cell_type": "code",
   "execution_count": 186,
   "metadata": {
    "collapsed": true
   },
   "outputs": [],
   "source": [
    "semi_final_by_account_event = semi_final.groupby(['Account_ID', 'EVENT_ID'])"
   ]
  },
  {
   "cell_type": "code",
   "execution_count": 198,
   "metadata": {
    "collapsed": false
   },
   "outputs": [],
   "source": [
    "semi_avg = semi_final_by_account_event['total'].sum().groupby(level=0).mean()"
   ]
  },
  {
   "cell_type": "code",
   "execution_count": 206,
   "metadata": {
    "collapsed": false
   },
   "outputs": [
    {
     "data": {
      "text/plain": [
       "Account_ID\n",
       "1000819      2748.042504\n",
       "1009306    866866.915078\n",
       "1005119      2483.285732\n",
       "1018472      4946.171849\n",
       "1018768       686.886275\n",
       "Name: total, dtype: float64"
      ]
     },
     "execution_count": 206,
     "metadata": {},
     "output_type": "execute_result"
    }
   ],
   "source": [
    "semi_avg.head()"
   ]
  },
  {
   "cell_type": "code",
   "execution_count": 205,
   "metadata": {
    "collapsed": false
   },
   "outputs": [
    {
     "data": {
      "text/plain": [
       "(6373,)"
      ]
     },
     "execution_count": 205,
     "metadata": {},
     "output_type": "execute_result"
    }
   ],
   "source": [
    "semi_avg.shape"
   ]
  },
  {
   "cell_type": "code",
   "execution_count": 202,
   "metadata": {
    "collapsed": false
   },
   "outputs": [],
   "source": [
    "pre_acc = pre_dat.ACCOUNT_ID.unique()"
   ]
  },
  {
   "cell_type": "code",
   "execution_count": 204,
   "metadata": {
    "collapsed": false
   },
   "outputs": [],
   "source": [
    "semi_avg = semi_avg.loc[pre_acc]"
   ]
  },
  {
   "cell_type": "code",
   "execution_count": 203,
   "metadata": {
    "collapsed": false
   },
   "outputs": [
    {
     "data": {
      "text/plain": [
       "6373"
      ]
     },
     "execution_count": 203,
     "metadata": {},
     "output_type": "execute_result"
    }
   ],
   "source": [
    "len(pre_acc)"
   ]
  },
  {
   "cell_type": "code",
   "execution_count": 207,
   "metadata": {
    "collapsed": false
   },
   "outputs": [
    {
     "data": {
      "text/plain": [
       "6742.0909503333269"
      ]
     },
     "execution_count": 207,
     "metadata": {},
     "output_type": "execute_result"
    }
   ],
   "source": [
    "semi_avg.loc[1000002]"
   ]
  },
  {
   "cell_type": "code",
   "execution_count": 208,
   "metadata": {
    "collapsed": false
   },
   "outputs": [
    {
     "data": {
      "text/plain": [
       "BET_SIZE               2091.105\n",
       "avg_back_price         2.131243\n",
       "avg_lay_price                 0\n",
       "back_share                    1\n",
       "back_std               10.27379\n",
       "correct_profit_loss       False\n",
       "lay_std                       0\n",
       "Name: 1000002, dtype: object"
      ]
     },
     "execution_count": 208,
     "metadata": {},
     "output_type": "execute_result"
    }
   ],
   "source": [
    "avg.loc[1000002]"
   ]
  },
  {
   "cell_type": "code",
   "execution_count": 209,
   "metadata": {
    "collapsed": true
   },
   "outputs": [],
   "source": [
    "avg_test = avg.copy()"
   ]
  },
  {
   "cell_type": "code",
   "execution_count": 212,
   "metadata": {
    "collapsed": true
   },
   "outputs": [],
   "source": [
    "avg_test.loc[:, 'BET_SIZE'].update(semi_avg)"
   ]
  },
  {
   "cell_type": "code",
   "execution_count": 213,
   "metadata": {
    "collapsed": false
   },
   "outputs": [
    {
     "data": {
      "text/plain": [
       "BET_SIZE               6742.091\n",
       "avg_back_price         2.131243\n",
       "avg_lay_price                 0\n",
       "back_share                    1\n",
       "back_std               10.27379\n",
       "correct_profit_loss       False\n",
       "lay_std                       0\n",
       "Name: 1000002, dtype: object"
      ]
     },
     "execution_count": 213,
     "metadata": {},
     "output_type": "execute_result"
    }
   ],
   "source": [
    "avg_test.loc[1000002]"
   ]
  },
  {
   "cell_type": "code",
   "execution_count": 214,
   "metadata": {
    "collapsed": true
   },
   "outputs": [],
   "source": [
    "avg.loc[:, 'BET_SIZE'].update(semi_avg)"
   ]
  },
  {
   "cell_type": "code",
   "execution_count": 261,
   "metadata": {
    "collapsed": false
   },
   "outputs": [],
   "source": [
    "semi_avg_price = semi_final_by_account_event['total'].sum().groupby(level=0).mean()"
   ]
  },
  {
   "cell_type": "code",
   "execution_count": 262,
   "metadata": {
    "collapsed": true
   },
   "outputs": [],
   "source": [
    "semi_max = semi_final_by_account_event['MAX_BET_SIZE'].max().groupby(level=0).max()"
   ]
  },
  {
   "cell_type": "code",
   "execution_count": 263,
   "metadata": {
    "collapsed": true
   },
   "outputs": [],
   "source": [
    "semi_min = semi_final_by_account_event['MIN_BET_SIZE'].min().groupby(level=0).min()"
   ]
  },
  {
   "cell_type": "code",
   "execution_count": 264,
   "metadata": {
    "collapsed": false
   },
   "outputs": [
    {
     "data": {
      "text/plain": [
       "Account_ID\n",
       "1000002    758.760000\n",
       "1000003     50.000000\n",
       "1000004    943.100000\n",
       "1000005     94.845000\n",
       "1000006     47.669097\n",
       "Name: MAX_BET_SIZE, dtype: float64"
      ]
     },
     "execution_count": 264,
     "metadata": {},
     "output_type": "execute_result"
    }
   ],
   "source": [
    "semi_max.head()"
   ]
  },
  {
   "cell_type": "code",
   "execution_count": 265,
   "metadata": {
    "collapsed": true
   },
   "outputs": [],
   "source": [
    "semi_final_stats = pd.concat([semi_avg, semi_max, semi_min], axis=1)"
   ]
  },
  {
   "cell_type": "code",
   "execution_count": 266,
   "metadata": {
    "collapsed": false
   },
   "outputs": [
    {
     "data": {
      "text/html": [
       "<div>\n",
       "<table border=\"1\" class=\"dataframe\">\n",
       "  <thead>\n",
       "    <tr style=\"text-align: right;\">\n",
       "      <th></th>\n",
       "      <th>total</th>\n",
       "      <th>MAX_BET_SIZE</th>\n",
       "      <th>MIN_BET_SIZE</th>\n",
       "    </tr>\n",
       "    <tr>\n",
       "      <th>Account_ID</th>\n",
       "      <th></th>\n",
       "      <th></th>\n",
       "      <th></th>\n",
       "    </tr>\n",
       "  </thead>\n",
       "  <tbody>\n",
       "    <tr>\n",
       "      <th>1000002</th>\n",
       "      <td>6742.09095</td>\n",
       "      <td>758.760000</td>\n",
       "      <td>3.7724</td>\n",
       "    </tr>\n",
       "    <tr>\n",
       "      <th>1000003</th>\n",
       "      <td>NaN</td>\n",
       "      <td>50.000000</td>\n",
       "      <td>20.0000</td>\n",
       "    </tr>\n",
       "    <tr>\n",
       "      <th>1000004</th>\n",
       "      <td>943.10000</td>\n",
       "      <td>943.100000</td>\n",
       "      <td>943.1000</td>\n",
       "    </tr>\n",
       "    <tr>\n",
       "      <th>1000005</th>\n",
       "      <td>234.14945</td>\n",
       "      <td>94.845000</td>\n",
       "      <td>9.4310</td>\n",
       "    </tr>\n",
       "    <tr>\n",
       "      <th>1000006</th>\n",
       "      <td>NaN</td>\n",
       "      <td>47.669097</td>\n",
       "      <td>3.7724</td>\n",
       "    </tr>\n",
       "  </tbody>\n",
       "</table>\n",
       "</div>"
      ],
      "text/plain": [
       "                 total  MAX_BET_SIZE  MIN_BET_SIZE\n",
       "Account_ID                                        \n",
       "1000002     6742.09095    758.760000        3.7724\n",
       "1000003            NaN     50.000000       20.0000\n",
       "1000004      943.10000    943.100000      943.1000\n",
       "1000005      234.14945     94.845000        9.4310\n",
       "1000006            NaN     47.669097        3.7724"
      ]
     },
     "execution_count": 266,
     "metadata": {},
     "output_type": "execute_result"
    }
   ],
   "source": [
    "semi_final_stats.head()"
   ]
  },
  {
   "cell_type": "code",
   "execution_count": 267,
   "metadata": {
    "collapsed": false
   },
   "outputs": [
    {
     "data": {
      "text/plain": [
       "(12935, 3)"
      ]
     },
     "execution_count": 267,
     "metadata": {},
     "output_type": "execute_result"
    }
   ],
   "source": [
    "semi_final_stats.shape"
   ]
  },
  {
   "cell_type": "code",
   "execution_count": 296,
   "metadata": {
    "collapsed": false
   },
   "outputs": [
    {
     "data": {
      "text/plain": [
       "23003"
      ]
     },
     "execution_count": 296,
     "metadata": {},
     "output_type": "execute_result"
    }
   ],
   "source": [
    "pre_dat.ACCOUNT_ID.nunique()"
   ]
  },
  {
   "cell_type": "code",
   "execution_count": 316,
   "metadata": {
    "collapsed": false
   },
   "outputs": [],
   "source": [
    "pre_avg_price = pre_dat_by_account_event['BET_SIZE'].sum().groupby(level=0).mean()"
   ]
  },
  {
   "cell_type": "code",
   "execution_count": 317,
   "metadata": {
    "collapsed": true
   },
   "outputs": [],
   "source": [
    "pre_avg_price.name = 'BET_SIZE'"
   ]
  },
  {
   "cell_type": "code",
   "execution_count": 299,
   "metadata": {
    "collapsed": true
   },
   "outputs": [],
   "source": [
    "pre_max_price = pre_dat_by_account_event['BET_SIZE'].max().groupby(level=0).max()"
   ]
  },
  {
   "cell_type": "code",
   "execution_count": 311,
   "metadata": {
    "collapsed": true
   },
   "outputs": [],
   "source": [
    "pre_max_price.name = 'MAX_BET_SIZE'"
   ]
  },
  {
   "cell_type": "code",
   "execution_count": 300,
   "metadata": {
    "collapsed": true
   },
   "outputs": [],
   "source": [
    "pre_min_price = pre_dat_by_account_event['BET_SIZE'].min().groupby(level=0).min()"
   ]
  },
  {
   "cell_type": "code",
   "execution_count": 312,
   "metadata": {
    "collapsed": true
   },
   "outputs": [],
   "source": [
    "pre_min_price.name = 'MIN_BET_SIZE'"
   ]
  },
  {
   "cell_type": "code",
   "execution_count": 301,
   "metadata": {
    "collapsed": false
   },
   "outputs": [
    {
     "data": {
      "text/plain": [
       "(23003,)"
      ]
     },
     "execution_count": 301,
     "metadata": {},
     "output_type": "execute_result"
    }
   ],
   "source": [
    "pre_avg_price.shape"
   ]
  },
  {
   "cell_type": "code",
   "execution_count": 302,
   "metadata": {
    "collapsed": false
   },
   "outputs": [
    {
     "data": {
      "text/plain": [
       "(9003, 5)"
      ]
     },
     "execution_count": 302,
     "metadata": {},
     "output_type": "execute_result"
    }
   ],
   "source": [
    "avg.shape"
   ]
  },
  {
   "cell_type": "code",
   "execution_count": 303,
   "metadata": {
    "collapsed": true
   },
   "outputs": [],
   "source": [
    "pre_avg = pre_dat_by_account.apply(get_average_price)"
   ]
  },
  {
   "cell_type": "code",
   "execution_count": 304,
   "metadata": {
    "collapsed": false
   },
   "outputs": [
    {
     "data": {
      "text/plain": [
       "(23003, 5)"
      ]
     },
     "execution_count": 304,
     "metadata": {},
     "output_type": "execute_result"
    }
   ],
   "source": [
    "pre_avg.shape"
   ]
  },
  {
   "cell_type": "code",
   "execution_count": 307,
   "metadata": {
    "collapsed": false
   },
   "outputs": [
    {
     "data": {
      "text/html": [
       "<div>\n",
       "<table border=\"1\" class=\"dataframe\">\n",
       "  <thead>\n",
       "    <tr style=\"text-align: right;\">\n",
       "      <th></th>\n",
       "      <th>avg_back_price</th>\n",
       "      <th>avg_lay_price</th>\n",
       "      <th>back_share</th>\n",
       "      <th>back_std</th>\n",
       "      <th>lay_std</th>\n",
       "    </tr>\n",
       "    <tr>\n",
       "      <th>ACCOUNT_ID</th>\n",
       "      <th></th>\n",
       "      <th></th>\n",
       "      <th></th>\n",
       "      <th></th>\n",
       "      <th></th>\n",
       "    </tr>\n",
       "  </thead>\n",
       "  <tbody>\n",
       "    <tr>\n",
       "      <th>1011</th>\n",
       "      <td>6.399871</td>\n",
       "      <td>0.000000</td>\n",
       "      <td>0.999960</td>\n",
       "      <td>0.000000</td>\n",
       "      <td>0</td>\n",
       "    </tr>\n",
       "    <tr>\n",
       "      <th>1534</th>\n",
       "      <td>177.517239</td>\n",
       "      <td>0.000000</td>\n",
       "      <td>0.999711</td>\n",
       "      <td>21.213203</td>\n",
       "      <td>0</td>\n",
       "    </tr>\n",
       "    <tr>\n",
       "      <th>1887</th>\n",
       "      <td>0.000000</td>\n",
       "      <td>3.099992</td>\n",
       "      <td>0.000000</td>\n",
       "      <td>0.000000</td>\n",
       "      <td>0</td>\n",
       "    </tr>\n",
       "    <tr>\n",
       "      <th>2155</th>\n",
       "      <td>8.199834</td>\n",
       "      <td>0.000000</td>\n",
       "      <td>0.999960</td>\n",
       "      <td>0.000000</td>\n",
       "      <td>0</td>\n",
       "    </tr>\n",
       "    <tr>\n",
       "      <th>2166</th>\n",
       "      <td>15.425918</td>\n",
       "      <td>5.399938</td>\n",
       "      <td>0.511105</td>\n",
       "      <td>114.268456</td>\n",
       "      <td>0</td>\n",
       "    </tr>\n",
       "  </tbody>\n",
       "</table>\n",
       "</div>"
      ],
      "text/plain": [
       "            avg_back_price  avg_lay_price  back_share    back_std  lay_std\n",
       "ACCOUNT_ID                                                                \n",
       "1011              6.399871       0.000000    0.999960    0.000000        0\n",
       "1534            177.517239       0.000000    0.999711   21.213203        0\n",
       "1887              0.000000       3.099992    0.000000    0.000000        0\n",
       "2155              8.199834       0.000000    0.999960    0.000000        0\n",
       "2166             15.425918       5.399938    0.511105  114.268456        0"
      ]
     },
     "execution_count": 307,
     "metadata": {},
     "output_type": "execute_result"
    }
   ],
   "source": [
    "pre_avg.head()"
   ]
  },
  {
   "cell_type": "code",
   "execution_count": 306,
   "metadata": {
    "collapsed": true
   },
   "outputs": [],
   "source": [
    "pre_avg.loc[:, :] = pre_avg.loc[:, :].fillna(0)"
   ]
  },
  {
   "cell_type": "code",
   "execution_count": 318,
   "metadata": {
    "collapsed": true
   },
   "outputs": [],
   "source": [
    "pre_avg_totrain = pd.concat([pre_avg_price, pre_max_price, pre_min_price, pre_avg], axis=1)"
   ]
  },
  {
   "cell_type": "code",
   "execution_count": 319,
   "metadata": {
    "collapsed": false
   },
   "outputs": [
    {
     "data": {
      "text/html": [
       "<div>\n",
       "<table border=\"1\" class=\"dataframe\">\n",
       "  <thead>\n",
       "    <tr style=\"text-align: right;\">\n",
       "      <th></th>\n",
       "      <th>BET_SIZE</th>\n",
       "      <th>MAX_BET_SIZE</th>\n",
       "      <th>MIN_BET_SIZE</th>\n",
       "      <th>avg_back_price</th>\n",
       "      <th>avg_lay_price</th>\n",
       "      <th>back_share</th>\n",
       "      <th>back_std</th>\n",
       "      <th>lay_std</th>\n",
       "    </tr>\n",
       "    <tr>\n",
       "      <th>ACCOUNT_ID</th>\n",
       "      <th></th>\n",
       "      <th></th>\n",
       "      <th></th>\n",
       "      <th></th>\n",
       "      <th></th>\n",
       "      <th></th>\n",
       "      <th></th>\n",
       "      <th></th>\n",
       "    </tr>\n",
       "  </thead>\n",
       "  <tbody>\n",
       "    <tr>\n",
       "      <th>1011</th>\n",
       "      <td>49.4950</td>\n",
       "      <td>49.495000</td>\n",
       "      <td>49.495000</td>\n",
       "      <td>6.399871</td>\n",
       "      <td>0.000000</td>\n",
       "      <td>0.999960</td>\n",
       "      <td>0.000000</td>\n",
       "      <td>0</td>\n",
       "    </tr>\n",
       "    <tr>\n",
       "      <th>1534</th>\n",
       "      <td>6.9293</td>\n",
       "      <td>5.187076</td>\n",
       "      <td>1.742224</td>\n",
       "      <td>177.517239</td>\n",
       "      <td>0.000000</td>\n",
       "      <td>0.999711</td>\n",
       "      <td>21.213203</td>\n",
       "      <td>0</td>\n",
       "    </tr>\n",
       "    <tr>\n",
       "      <th>1887</th>\n",
       "      <td>397.9398</td>\n",
       "      <td>397.939800</td>\n",
       "      <td>397.939800</td>\n",
       "      <td>0.000000</td>\n",
       "      <td>3.099992</td>\n",
       "      <td>0.000000</td>\n",
       "      <td>0.000000</td>\n",
       "      <td>0</td>\n",
       "    </tr>\n",
       "    <tr>\n",
       "      <th>2155</th>\n",
       "      <td>49.4950</td>\n",
       "      <td>43.555600</td>\n",
       "      <td>5.939400</td>\n",
       "      <td>8.199834</td>\n",
       "      <td>0.000000</td>\n",
       "      <td>0.999960</td>\n",
       "      <td>0.000000</td>\n",
       "      <td>0</td>\n",
       "    </tr>\n",
       "    <tr>\n",
       "      <th>2166</th>\n",
       "      <td>178.1820</td>\n",
       "      <td>87.111200</td>\n",
       "      <td>3.959600</td>\n",
       "      <td>15.425918</td>\n",
       "      <td>5.399938</td>\n",
       "      <td>0.511105</td>\n",
       "      <td>114.268456</td>\n",
       "      <td>0</td>\n",
       "    </tr>\n",
       "  </tbody>\n",
       "</table>\n",
       "</div>"
      ],
      "text/plain": [
       "            BET_SIZE  MAX_BET_SIZE  MIN_BET_SIZE  avg_back_price  \\\n",
       "ACCOUNT_ID                                                         \n",
       "1011         49.4950     49.495000     49.495000        6.399871   \n",
       "1534          6.9293      5.187076      1.742224      177.517239   \n",
       "1887        397.9398    397.939800    397.939800        0.000000   \n",
       "2155         49.4950     43.555600      5.939400        8.199834   \n",
       "2166        178.1820     87.111200      3.959600       15.425918   \n",
       "\n",
       "            avg_lay_price  back_share    back_std  lay_std  \n",
       "ACCOUNT_ID                                                  \n",
       "1011             0.000000    0.999960    0.000000        0  \n",
       "1534             0.000000    0.999711   21.213203        0  \n",
       "1887             3.099992    0.000000    0.000000        0  \n",
       "2155             0.000000    0.999960    0.000000        0  \n",
       "2166             5.399938    0.511105  114.268456        0  "
      ]
     },
     "execution_count": 319,
     "metadata": {},
     "output_type": "execute_result"
    }
   ],
   "source": [
    "pre_avg_totrain.head()"
   ]
  },
  {
   "cell_type": "code",
   "execution_count": 323,
   "metadata": {
    "collapsed": false
   },
   "outputs": [
    {
     "data": {
      "text/plain": [
       "(23003, 8)"
      ]
     },
     "execution_count": 323,
     "metadata": {},
     "output_type": "execute_result"
    }
   ],
   "source": [
    "pre_avg_totrain.shape"
   ]
  },
  {
   "cell_type": "code",
   "execution_count": 466,
   "metadata": {
    "collapsed": false
   },
   "outputs": [
    {
     "name": "stdout",
     "output_type": "stream",
     "text": [
      "Fitting 3 folds for each of 95 candidates, totalling 285 fits\n"
     ]
    },
    {
     "name": "stderr",
     "output_type": "stream",
     "text": [
      "[Parallel(n_jobs=-1)]: Done   1 jobs       | elapsed:    0.4s\n",
      "[Parallel(n_jobs=-1)]: Done  50 jobs       | elapsed:    6.4s\n",
      "[Parallel(n_jobs=-1)]: Done 200 jobs       | elapsed:  1.1min\n",
      "[Parallel(n_jobs=-1)]: Done 285 out of 285 | elapsed:  2.2min finished\n"
     ]
    },
    {
     "data": {
      "text/plain": [
       "GridSearchCV(cv=None, error_score='raise',\n",
       "       estimator=RandomForestRegressor(bootstrap=True, criterion='mse', max_depth=None,\n",
       "           max_features='auto', max_leaf_nodes=None, min_samples_leaf=1,\n",
       "           min_samples_split=2, min_weight_fraction_leaf=0.0,\n",
       "           n_estimators=10, n_jobs=1, oob_score=False, random_state=None,\n",
       "           verbose=0, warm_start=False),\n",
       "       fit_params={}, iid=True, loss_func=None, n_jobs=-1,\n",
       "       param_grid={'n_estimators': [5, 6, 7, 8, 9, 10, 11, 12, 13, 14, 15, 16, 17, 18, 19, 20, 21, 22, 23, 24, 25, 26, 27, 28, 29, 30, 31, 32, 33, 34, 35, 36, 37, 38, 39, 40, 41, 42, 43, 44, 45, 46, 47, 48, 49, 50, 51, 52, 53, 54, 55, 56, 57, 58, 59, 60, 61, 62, 63, 64, 65, 66, 67, 68, 69, 70, 71, 72, 73, 74, 75, 76, 77, 78, 79, 80, 81, 82, 83, 84, 85, 86, 87, 88, 89, 90, 91, 92, 93, 94, 95, 96, 97, 98, 99]},\n",
       "       pre_dispatch='2*n_jobs', refit=True, score_func=None,\n",
       "       scoring='mean_squared_error', verbose=1)"
      ]
     },
     "execution_count": 466,
     "metadata": {},
     "output_type": "execute_result"
    }
   ],
   "source": [
    "rfg = RandomForestRegressor()\n",
    "parameters = {'n_estimators': list(range(5, 100))}\n",
    "gs = GridSearchCV(rfg, parameters, scoring='mean_squared_error', n_jobs=-1, verbose=1)\n",
    "gs.fit(\n",
    "    pre_avg_totrain.loc[:, ['BET_SIZE']],\n",
    "    pre_avg_totrain.loc[:, ['avg_back_price', 'avg_lay_price', 'back_share', 'back_std', 'lay_std']])"
   ]
  },
  {
   "cell_type": "code",
   "execution_count": 467,
   "metadata": {
    "collapsed": false
   },
   "outputs": [
    {
     "data": {
      "text/plain": [
       "{'n_estimators': 54}"
      ]
     },
     "execution_count": 467,
     "metadata": {},
     "output_type": "execute_result"
    }
   ],
   "source": [
    "gs.best_params_"
   ]
  },
  {
   "cell_type": "code",
   "execution_count": 468,
   "metadata": {
    "collapsed": false
   },
   "outputs": [
    {
     "data": {
      "text/plain": [
       "RandomForestRegressor(bootstrap=True, criterion='mse', max_depth=None,\n",
       "           max_features='auto', max_leaf_nodes=None, min_samples_leaf=1,\n",
       "           min_samples_split=2, min_weight_fraction_leaf=0.0,\n",
       "           n_estimators=54, n_jobs=1, oob_score=False, random_state=None,\n",
       "           verbose=0, warm_start=False)"
      ]
     },
     "execution_count": 468,
     "metadata": {},
     "output_type": "execute_result"
    }
   ],
   "source": [
    "rfg = RandomForestRegressor(n_estimators=54)\n",
    "rfg.fit(\n",
    "    pre_avg_totrain.loc[:, ['BET_SIZE']],\n",
    "    pre_avg_totrain.loc[:, ['avg_back_price', 'avg_lay_price', 'back_share', 'back_std', 'lay_std']])"
   ]
  },
  {
   "cell_type": "code",
   "execution_count": 331,
   "metadata": {
    "collapsed": false
   },
   "outputs": [
    {
     "data": {
      "text/plain": [
       "6373"
      ]
     },
     "execution_count": 331,
     "metadata": {},
     "output_type": "execute_result"
    }
   ],
   "source": [
    "# find the 4925, 1448, 1000 punters\n",
    "pre_dat_in_submit.ACCOUNT_ID.nunique()"
   ]
  },
  {
   "cell_type": "code",
   "execution_count": 332,
   "metadata": {
    "collapsed": true
   },
   "outputs": [],
   "source": [
    "quarter_in_submit = pre_dat_in_submit.loc[pre_dat_in_submit.EVENT_ID.isin([101183237, 101183757, 101183885, 101184013])]"
   ]
  },
  {
   "cell_type": "code",
   "execution_count": 334,
   "metadata": {
    "collapsed": false
   },
   "outputs": [],
   "source": [
    "the4925 = quarter_in_submit.ACCOUNT_ID.tolist()"
   ]
  },
  {
   "cell_type": "code",
   "execution_count": 338,
   "metadata": {
    "collapsed": false
   },
   "outputs": [],
   "source": [
    "the1001 = submit.loc[~submit.Account_ID.isin(pre_dat_in_submit.ACCOUNT_ID), 'Account_ID'].tolist()"
   ]
  },
  {
   "cell_type": "code",
   "execution_count": 342,
   "metadata": {
    "collapsed": false
   },
   "outputs": [],
   "source": [
    "the1448 = pre_dat_in_submit.loc[~pre_dat_in_submit.ACCOUNT_ID.isin(quarter.ACCOUNT_ID), 'ACCOUNT_ID'].tolist()"
   ]
  },
  {
   "cell_type": "code",
   "execution_count": 343,
   "metadata": {
    "collapsed": true
   },
   "outputs": [],
   "source": [
    "# test how good the classifier model on the 4925 but with their pre-semi data\n",
    "the4925_pre_dat = pre_dat_in_submit.loc[pre_dat_in_submit.ACCOUNT_ID.isin(the4925), :]"
   ]
  },
  {
   "cell_type": "code",
   "execution_count": 345,
   "metadata": {
    "collapsed": false
   },
   "outputs": [],
   "source": [
    "the4925_avgs = the4925_pre_dat.groupby('ACCOUNT_ID').apply(get_average_price)"
   ]
  },
  {
   "cell_type": "code",
   "execution_count": 347,
   "metadata": {
    "collapsed": false
   },
   "outputs": [
    {
     "data": {
      "text/html": [
       "<div>\n",
       "<table border=\"1\" class=\"dataframe\">\n",
       "  <thead>\n",
       "    <tr style=\"text-align: right;\">\n",
       "      <th></th>\n",
       "      <th>avg_back_price</th>\n",
       "      <th>avg_lay_price</th>\n",
       "      <th>back_share</th>\n",
       "      <th>back_std</th>\n",
       "      <th>lay_std</th>\n",
       "    </tr>\n",
       "    <tr>\n",
       "      <th>ACCOUNT_ID</th>\n",
       "      <th></th>\n",
       "      <th></th>\n",
       "      <th></th>\n",
       "      <th></th>\n",
       "      <th></th>\n",
       "    </tr>\n",
       "  </thead>\n",
       "  <tbody>\n",
       "    <tr>\n",
       "      <th>1000002</th>\n",
       "      <td>2.131243</td>\n",
       "      <td>0.000000</td>\n",
       "      <td>1.000000</td>\n",
       "      <td>10.273789</td>\n",
       "      <td>NaN</td>\n",
       "    </tr>\n",
       "    <tr>\n",
       "      <th>1000004</th>\n",
       "      <td>2.009621</td>\n",
       "      <td>1.226126</td>\n",
       "      <td>0.529321</td>\n",
       "      <td>9.114344</td>\n",
       "      <td>0.183689</td>\n",
       "    </tr>\n",
       "    <tr>\n",
       "      <th>1000005</th>\n",
       "      <td>1.164510</td>\n",
       "      <td>1.081237</td>\n",
       "      <td>0.459241</td>\n",
       "      <td>0.533567</td>\n",
       "      <td>0.223361</td>\n",
       "    </tr>\n",
       "    <tr>\n",
       "      <th>1000010</th>\n",
       "      <td>4.900702</td>\n",
       "      <td>1.240785</td>\n",
       "      <td>0.434367</td>\n",
       "      <td>58.987752</td>\n",
       "      <td>0.264042</td>\n",
       "    </tr>\n",
       "    <tr>\n",
       "      <th>1000014</th>\n",
       "      <td>1.499985</td>\n",
       "      <td>0.000000</td>\n",
       "      <td>0.999980</td>\n",
       "      <td>0.000000</td>\n",
       "      <td>NaN</td>\n",
       "    </tr>\n",
       "  </tbody>\n",
       "</table>\n",
       "</div>"
      ],
      "text/plain": [
       "            avg_back_price  avg_lay_price  back_share   back_std   lay_std\n",
       "ACCOUNT_ID                                                                \n",
       "1000002           2.131243       0.000000    1.000000  10.273789       NaN\n",
       "1000004           2.009621       1.226126    0.529321   9.114344  0.183689\n",
       "1000005           1.164510       1.081237    0.459241   0.533567  0.223361\n",
       "1000010           4.900702       1.240785    0.434367  58.987752  0.264042\n",
       "1000014           1.499985       0.000000    0.999980   0.000000       NaN"
      ]
     },
     "execution_count": 347,
     "metadata": {},
     "output_type": "execute_result"
    }
   ],
   "source": [
    "the4925_avgs.head()"
   ]
  },
  {
   "cell_type": "code",
   "execution_count": 348,
   "metadata": {
    "collapsed": true
   },
   "outputs": [],
   "source": [
    "the4925_betsize = the4925_pre_dat.groupby(['ACCOUNT_ID', 'EVENT_ID'])['BET_SIZE'].sum().groupby(level=0).mean()"
   ]
  },
  {
   "cell_type": "code",
   "execution_count": 355,
   "metadata": {
    "collapsed": false
   },
   "outputs": [],
   "source": [
    "the4925_res = (quarter_in_submit.groupby(['ACCOUNT_ID'])['correct_profit_loss'].sum() > 0).apply(lambda x: int(x))"
   ]
  },
  {
   "cell_type": "code",
   "execution_count": 358,
   "metadata": {
    "collapsed": true
   },
   "outputs": [],
   "source": [
    "the4925_pre_semi = pd.concat([the4925_avgs, the4925_betsize, the4925_res], axis=1).fillna(0)"
   ]
  },
  {
   "cell_type": "code",
   "execution_count": 359,
   "metadata": {
    "collapsed": false
   },
   "outputs": [
    {
     "data": {
      "text/html": [
       "<div>\n",
       "<table border=\"1\" class=\"dataframe\">\n",
       "  <thead>\n",
       "    <tr style=\"text-align: right;\">\n",
       "      <th></th>\n",
       "      <th>avg_back_price</th>\n",
       "      <th>avg_lay_price</th>\n",
       "      <th>back_share</th>\n",
       "      <th>back_std</th>\n",
       "      <th>lay_std</th>\n",
       "      <th>BET_SIZE</th>\n",
       "      <th>correct_profit_loss</th>\n",
       "    </tr>\n",
       "    <tr>\n",
       "      <th>ACCOUNT_ID</th>\n",
       "      <th></th>\n",
       "      <th></th>\n",
       "      <th></th>\n",
       "      <th></th>\n",
       "      <th></th>\n",
       "      <th></th>\n",
       "      <th></th>\n",
       "    </tr>\n",
       "  </thead>\n",
       "  <tbody>\n",
       "    <tr>\n",
       "      <th>1000002</th>\n",
       "      <td>2.131243</td>\n",
       "      <td>0.000000</td>\n",
       "      <td>1.000000</td>\n",
       "      <td>10.273789</td>\n",
       "      <td>0.000000</td>\n",
       "      <td>2091.105015</td>\n",
       "      <td>0</td>\n",
       "    </tr>\n",
       "    <tr>\n",
       "      <th>1000004</th>\n",
       "      <td>2.009621</td>\n",
       "      <td>1.226126</td>\n",
       "      <td>0.529321</td>\n",
       "      <td>9.114344</td>\n",
       "      <td>0.183689</td>\n",
       "      <td>259.069892</td>\n",
       "      <td>0</td>\n",
       "    </tr>\n",
       "    <tr>\n",
       "      <th>1000005</th>\n",
       "      <td>1.164510</td>\n",
       "      <td>1.081237</td>\n",
       "      <td>0.459241</td>\n",
       "      <td>0.533567</td>\n",
       "      <td>0.223361</td>\n",
       "      <td>5599.937000</td>\n",
       "      <td>0</td>\n",
       "    </tr>\n",
       "    <tr>\n",
       "      <th>1000010</th>\n",
       "      <td>4.900702</td>\n",
       "      <td>1.240785</td>\n",
       "      <td>0.434367</td>\n",
       "      <td>58.987752</td>\n",
       "      <td>0.264042</td>\n",
       "      <td>932.061019</td>\n",
       "      <td>0</td>\n",
       "    </tr>\n",
       "    <tr>\n",
       "      <th>1000014</th>\n",
       "      <td>1.499985</td>\n",
       "      <td>0.000000</td>\n",
       "      <td>0.999980</td>\n",
       "      <td>0.000000</td>\n",
       "      <td>0.000000</td>\n",
       "      <td>100.000000</td>\n",
       "      <td>1</td>\n",
       "    </tr>\n",
       "  </tbody>\n",
       "</table>\n",
       "</div>"
      ],
      "text/plain": [
       "            avg_back_price  avg_lay_price  back_share   back_std   lay_std  \\\n",
       "ACCOUNT_ID                                                                   \n",
       "1000002           2.131243       0.000000    1.000000  10.273789  0.000000   \n",
       "1000004           2.009621       1.226126    0.529321   9.114344  0.183689   \n",
       "1000005           1.164510       1.081237    0.459241   0.533567  0.223361   \n",
       "1000010           4.900702       1.240785    0.434367  58.987752  0.264042   \n",
       "1000014           1.499985       0.000000    0.999980   0.000000  0.000000   \n",
       "\n",
       "               BET_SIZE  correct_profit_loss  \n",
       "ACCOUNT_ID                                    \n",
       "1000002     2091.105015                    0  \n",
       "1000004      259.069892                    0  \n",
       "1000005     5599.937000                    0  \n",
       "1000010      932.061019                    0  \n",
       "1000014      100.000000                    1  "
      ]
     },
     "execution_count": 359,
     "metadata": {},
     "output_type": "execute_result"
    }
   ],
   "source": [
    "the4925_pre_semi.head()"
   ]
  },
  {
   "cell_type": "code",
   "execution_count": 361,
   "metadata": {
    "collapsed": false
   },
   "outputs": [
    {
     "data": {
      "text/plain": [
       "0.80345177664974621"
      ]
     },
     "execution_count": 361,
     "metadata": {},
     "output_type": "execute_result"
    }
   ],
   "source": [
    "pred = pd.Series(rf.predict(the4925_pre_semi[['BET_SIZE', 'avg_back_price', 'avg_lay_price', 'back_share', 'back_std', 'lay_std']]))\n",
    "(pred == the4925_pre_semi['correct_profit_loss']).sum() / 4925"
   ]
  },
  {
   "cell_type": "code",
   "execution_count": 362,
   "metadata": {
    "collapsed": false
   },
   "outputs": [
    {
     "data": {
      "text/plain": [
       "0    2780\n",
       "1    2145\n",
       "dtype: int64"
      ]
     },
     "execution_count": 362,
     "metadata": {},
     "output_type": "execute_result"
    }
   ],
   "source": [
    "the4925_res.value_counts()"
   ]
  },
  {
   "cell_type": "code",
   "execution_count": 364,
   "metadata": {
    "collapsed": false
   },
   "outputs": [
    {
     "data": {
      "text/plain": [
       "0.80055508041119561"
      ]
     },
     "execution_count": 364,
     "metadata": {},
     "output_type": "execute_result"
    }
   ],
   "source": [
    "# if I could this auc in the final leadboarder ......\n",
    "roc_auc_score(the4925_res, pred)"
   ]
  },
  {
   "cell_type": "code",
   "execution_count": 366,
   "metadata": {
    "collapsed": true
   },
   "outputs": [],
   "source": [
    "# now to make the prediction data first pre-semi for the 4925\n",
    "the4925_to_pred = pd.concat([the4925_avgs, the4925_betsize], axis=1).fillna(0)"
   ]
  },
  {
   "cell_type": "code",
   "execution_count": 368,
   "metadata": {
    "collapsed": false
   },
   "outputs": [
    {
     "data": {
      "text/html": [
       "<div>\n",
       "<table border=\"1\" class=\"dataframe\">\n",
       "  <thead>\n",
       "    <tr style=\"text-align: right;\">\n",
       "      <th></th>\n",
       "      <th>avg_back_price</th>\n",
       "      <th>avg_lay_price</th>\n",
       "      <th>back_share</th>\n",
       "      <th>back_std</th>\n",
       "      <th>lay_std</th>\n",
       "      <th>BET_SIZE</th>\n",
       "    </tr>\n",
       "    <tr>\n",
       "      <th>ACCOUNT_ID</th>\n",
       "      <th></th>\n",
       "      <th></th>\n",
       "      <th></th>\n",
       "      <th></th>\n",
       "      <th></th>\n",
       "      <th></th>\n",
       "    </tr>\n",
       "  </thead>\n",
       "  <tbody>\n",
       "    <tr>\n",
       "      <th>1000002</th>\n",
       "      <td>2.131243</td>\n",
       "      <td>0.000000</td>\n",
       "      <td>1.000000</td>\n",
       "      <td>10.273789</td>\n",
       "      <td>0.000000</td>\n",
       "      <td>2091.105015</td>\n",
       "    </tr>\n",
       "    <tr>\n",
       "      <th>1000004</th>\n",
       "      <td>2.009621</td>\n",
       "      <td>1.226126</td>\n",
       "      <td>0.529321</td>\n",
       "      <td>9.114344</td>\n",
       "      <td>0.183689</td>\n",
       "      <td>259.069892</td>\n",
       "    </tr>\n",
       "    <tr>\n",
       "      <th>1000005</th>\n",
       "      <td>1.164510</td>\n",
       "      <td>1.081237</td>\n",
       "      <td>0.459241</td>\n",
       "      <td>0.533567</td>\n",
       "      <td>0.223361</td>\n",
       "      <td>5599.937000</td>\n",
       "    </tr>\n",
       "    <tr>\n",
       "      <th>1000010</th>\n",
       "      <td>4.900702</td>\n",
       "      <td>1.240785</td>\n",
       "      <td>0.434367</td>\n",
       "      <td>58.987752</td>\n",
       "      <td>0.264042</td>\n",
       "      <td>932.061019</td>\n",
       "    </tr>\n",
       "    <tr>\n",
       "      <th>1000014</th>\n",
       "      <td>1.499985</td>\n",
       "      <td>0.000000</td>\n",
       "      <td>0.999980</td>\n",
       "      <td>0.000000</td>\n",
       "      <td>0.000000</td>\n",
       "      <td>100.000000</td>\n",
       "    </tr>\n",
       "  </tbody>\n",
       "</table>\n",
       "</div>"
      ],
      "text/plain": [
       "            avg_back_price  avg_lay_price  back_share   back_std   lay_std  \\\n",
       "ACCOUNT_ID                                                                   \n",
       "1000002           2.131243       0.000000    1.000000  10.273789  0.000000   \n",
       "1000004           2.009621       1.226126    0.529321   9.114344  0.183689   \n",
       "1000005           1.164510       1.081237    0.459241   0.533567  0.223361   \n",
       "1000010           4.900702       1.240785    0.434367  58.987752  0.264042   \n",
       "1000014           1.499985       0.000000    0.999980   0.000000  0.000000   \n",
       "\n",
       "               BET_SIZE  \n",
       "ACCOUNT_ID               \n",
       "1000002     2091.105015  \n",
       "1000004      259.069892  \n",
       "1000005     5599.937000  \n",
       "1000010      932.061019  \n",
       "1000014      100.000000  "
      ]
     },
     "execution_count": 368,
     "metadata": {},
     "output_type": "execute_result"
    }
   ],
   "source": [
    "the4925_to_pred.head()"
   ]
  },
  {
   "cell_type": "code",
   "execution_count": 369,
   "metadata": {
    "collapsed": true
   },
   "outputs": [],
   "source": [
    "the1448_pre_semi = pre_dat_in_submit.loc[pre_dat_in_submit.ACCOUNT_ID.isin(the1448), :]"
   ]
  },
  {
   "cell_type": "code",
   "execution_count": 375,
   "metadata": {
    "collapsed": false
   },
   "outputs": [],
   "source": [
    "the1448_avgs = the1448_pre_semi.groupby('ACCOUNT_ID').apply(get_average_price)"
   ]
  },
  {
   "cell_type": "code",
   "execution_count": 376,
   "metadata": {
    "collapsed": false
   },
   "outputs": [
    {
     "data": {
      "text/html": [
       "<div>\n",
       "<table border=\"1\" class=\"dataframe\">\n",
       "  <thead>\n",
       "    <tr style=\"text-align: right;\">\n",
       "      <th></th>\n",
       "      <th>avg_back_price</th>\n",
       "      <th>avg_lay_price</th>\n",
       "      <th>back_share</th>\n",
       "      <th>back_std</th>\n",
       "      <th>lay_std</th>\n",
       "    </tr>\n",
       "    <tr>\n",
       "      <th>ACCOUNT_ID</th>\n",
       "      <th></th>\n",
       "      <th></th>\n",
       "      <th></th>\n",
       "      <th></th>\n",
       "      <th></th>\n",
       "    </tr>\n",
       "  </thead>\n",
       "  <tbody>\n",
       "    <tr>\n",
       "      <th>1000019</th>\n",
       "      <td>3.978041</td>\n",
       "      <td>2.244549</td>\n",
       "      <td>0.513622</td>\n",
       "      <td>13.841371</td>\n",
       "      <td>0.305090</td>\n",
       "    </tr>\n",
       "    <tr>\n",
       "      <th>1000063</th>\n",
       "      <td>1.615418</td>\n",
       "      <td>1.318645</td>\n",
       "      <td>0.617446</td>\n",
       "      <td>0.665000</td>\n",
       "      <td>0.325269</td>\n",
       "    </tr>\n",
       "    <tr>\n",
       "      <th>1000072</th>\n",
       "      <td>2.423797</td>\n",
       "      <td>7.402349</td>\n",
       "      <td>0.602670</td>\n",
       "      <td>2.477745</td>\n",
       "      <td>27.894228</td>\n",
       "    </tr>\n",
       "    <tr>\n",
       "      <th>1000082</th>\n",
       "      <td>4.599952</td>\n",
       "      <td>0.000000</td>\n",
       "      <td>0.999979</td>\n",
       "      <td>NaN</td>\n",
       "      <td>NaN</td>\n",
       "    </tr>\n",
       "    <tr>\n",
       "      <th>1000104</th>\n",
       "      <td>1.619938</td>\n",
       "      <td>1.474498</td>\n",
       "      <td>0.021404</td>\n",
       "      <td>NaN</td>\n",
       "      <td>0.634445</td>\n",
       "    </tr>\n",
       "  </tbody>\n",
       "</table>\n",
       "</div>"
      ],
      "text/plain": [
       "            avg_back_price  avg_lay_price  back_share   back_std    lay_std\n",
       "ACCOUNT_ID                                                                 \n",
       "1000019           3.978041       2.244549    0.513622  13.841371   0.305090\n",
       "1000063           1.615418       1.318645    0.617446   0.665000   0.325269\n",
       "1000072           2.423797       7.402349    0.602670   2.477745  27.894228\n",
       "1000082           4.599952       0.000000    0.999979        NaN        NaN\n",
       "1000104           1.619938       1.474498    0.021404        NaN   0.634445"
      ]
     },
     "execution_count": 376,
     "metadata": {},
     "output_type": "execute_result"
    }
   ],
   "source": [
    "the1448_avgs.head()"
   ]
  },
  {
   "cell_type": "code",
   "execution_count": 377,
   "metadata": {
    "collapsed": true
   },
   "outputs": [],
   "source": [
    "the1448_betsize = the1448_pre_semi.groupby(['ACCOUNT_ID'])['BET_SIZE'].sum().groupby(level=0).mean()"
   ]
  },
  {
   "cell_type": "code",
   "execution_count": 378,
   "metadata": {
    "collapsed": false
   },
   "outputs": [
    {
     "data": {
      "text/plain": [
       "ACCOUNT_ID\n",
       "1000019     268.60406\n",
       "1000063     949.19800\n",
       "1000072     565.05982\n",
       "1000082      95.24000\n",
       "1000104    1214.73000\n",
       "Name: BET_SIZE, dtype: float64"
      ]
     },
     "execution_count": 378,
     "metadata": {},
     "output_type": "execute_result"
    }
   ],
   "source": [
    "the1448_betsize.head()"
   ]
  },
  {
   "cell_type": "code",
   "execution_count": 379,
   "metadata": {
    "collapsed": true
   },
   "outputs": [],
   "source": [
    "the1448_to_pred = pd.concat([the1448_avgs, the1448_betsize], axis=1).fillna(0)"
   ]
  },
  {
   "cell_type": "code",
   "execution_count": 380,
   "metadata": {
    "collapsed": false
   },
   "outputs": [
    {
     "data": {
      "text/html": [
       "<div>\n",
       "<table border=\"1\" class=\"dataframe\">\n",
       "  <thead>\n",
       "    <tr style=\"text-align: right;\">\n",
       "      <th></th>\n",
       "      <th>avg_back_price</th>\n",
       "      <th>avg_lay_price</th>\n",
       "      <th>back_share</th>\n",
       "      <th>back_std</th>\n",
       "      <th>lay_std</th>\n",
       "      <th>BET_SIZE</th>\n",
       "    </tr>\n",
       "    <tr>\n",
       "      <th>ACCOUNT_ID</th>\n",
       "      <th></th>\n",
       "      <th></th>\n",
       "      <th></th>\n",
       "      <th></th>\n",
       "      <th></th>\n",
       "      <th></th>\n",
       "    </tr>\n",
       "  </thead>\n",
       "  <tbody>\n",
       "    <tr>\n",
       "      <th>1000019</th>\n",
       "      <td>3.978041</td>\n",
       "      <td>2.244549</td>\n",
       "      <td>0.513622</td>\n",
       "      <td>13.841371</td>\n",
       "      <td>0.305090</td>\n",
       "      <td>268.60406</td>\n",
       "    </tr>\n",
       "    <tr>\n",
       "      <th>1000063</th>\n",
       "      <td>1.615418</td>\n",
       "      <td>1.318645</td>\n",
       "      <td>0.617446</td>\n",
       "      <td>0.665000</td>\n",
       "      <td>0.325269</td>\n",
       "      <td>949.19800</td>\n",
       "    </tr>\n",
       "    <tr>\n",
       "      <th>1000072</th>\n",
       "      <td>2.423797</td>\n",
       "      <td>7.402349</td>\n",
       "      <td>0.602670</td>\n",
       "      <td>2.477745</td>\n",
       "      <td>27.894228</td>\n",
       "      <td>565.05982</td>\n",
       "    </tr>\n",
       "    <tr>\n",
       "      <th>1000082</th>\n",
       "      <td>4.599952</td>\n",
       "      <td>0.000000</td>\n",
       "      <td>0.999979</td>\n",
       "      <td>0.000000</td>\n",
       "      <td>0.000000</td>\n",
       "      <td>95.24000</td>\n",
       "    </tr>\n",
       "    <tr>\n",
       "      <th>1000104</th>\n",
       "      <td>1.619938</td>\n",
       "      <td>1.474498</td>\n",
       "      <td>0.021404</td>\n",
       "      <td>0.000000</td>\n",
       "      <td>0.634445</td>\n",
       "      <td>1214.73000</td>\n",
       "    </tr>\n",
       "  </tbody>\n",
       "</table>\n",
       "</div>"
      ],
      "text/plain": [
       "            avg_back_price  avg_lay_price  back_share   back_std    lay_std  \\\n",
       "ACCOUNT_ID                                                                    \n",
       "1000019           3.978041       2.244549    0.513622  13.841371   0.305090   \n",
       "1000063           1.615418       1.318645    0.617446   0.665000   0.325269   \n",
       "1000072           2.423797       7.402349    0.602670   2.477745  27.894228   \n",
       "1000082           4.599952       0.000000    0.999979   0.000000   0.000000   \n",
       "1000104           1.619938       1.474498    0.021404   0.000000   0.634445   \n",
       "\n",
       "              BET_SIZE  \n",
       "ACCOUNT_ID              \n",
       "1000019      268.60406  \n",
       "1000063      949.19800  \n",
       "1000072      565.05982  \n",
       "1000082       95.24000  \n",
       "1000104     1214.73000  "
      ]
     },
     "execution_count": 380,
     "metadata": {},
     "output_type": "execute_result"
    }
   ],
   "source": [
    "the1448_to_pred.head()"
   ]
  },
  {
   "cell_type": "code",
   "execution_count": 381,
   "metadata": {
    "collapsed": true
   },
   "outputs": [],
   "source": [
    "# the now the 1001\n",
    "the1001_semi = semi_final.loc[semi_final.Account_ID.isin(the1001), :]"
   ]
  },
  {
   "cell_type": "code",
   "execution_count": 390,
   "metadata": {
    "collapsed": true
   },
   "outputs": [],
   "source": [
    "the1001_betsize = the1001_semi.groupby(['Account_ID', 'EVENT_ID'])['total'].sum().groupby(level=0).mean()\n",
    "the1001_betsize.name = 'BET_SIZE'"
   ]
  },
  {
   "cell_type": "code",
   "execution_count": 391,
   "metadata": {
    "collapsed": false
   },
   "outputs": [
    {
     "data": {
      "text/plain": [
       "Account_ID\n",
       "1000168    5955.568535\n",
       "1000207    2000.000000\n",
       "1000249     901.360094\n",
       "1000274     228.645164\n",
       "1000304     523.654400\n",
       "Name: BET_SIZE, dtype: float64"
      ]
     },
     "execution_count": 391,
     "metadata": {},
     "output_type": "execute_result"
    }
   ],
   "source": [
    "the1001_betsize.head()"
   ]
  },
  {
   "cell_type": "code",
   "execution_count": 388,
   "metadata": {
    "collapsed": true
   },
   "outputs": [],
   "source": [
    "the1001_max = the1001_semi.groupby(['Account_ID', 'EVENT_ID'])['MAX_BET_SIZE'].max().groupby(level=0).max()"
   ]
  },
  {
   "cell_type": "code",
   "execution_count": 389,
   "metadata": {
    "collapsed": false
   },
   "outputs": [
    {
     "data": {
      "text/plain": [
       "Account_ID\n",
       "1000168    1467.463600\n",
       "1000207    1000.000000\n",
       "1000249     416.012351\n",
       "1000274     125.658644\n",
       "1000304     523.654400\n",
       "Name: MAX_BET_SIZE, dtype: float64"
      ]
     },
     "execution_count": 389,
     "metadata": {},
     "output_type": "execute_result"
    }
   ],
   "source": [
    "the1001_max.head()"
   ]
  },
  {
   "cell_type": "code",
   "execution_count": 392,
   "metadata": {
    "collapsed": true
   },
   "outputs": [],
   "source": [
    "the1001_min = the1001_semi.groupby(['Account_ID', 'EVENT_ID'])['MIN_BET_SIZE'].min().groupby(level=0).min()"
   ]
  },
  {
   "cell_type": "code",
   "execution_count": 393,
   "metadata": {
    "collapsed": false
   },
   "outputs": [
    {
     "data": {
      "text/plain": [
       "Account_ID\n",
       "1000168      12.241438\n",
       "1000207    1000.000000\n",
       "1000249     100.550185\n",
       "1000274     102.986520\n",
       "1000304     523.654400\n",
       "Name: MIN_BET_SIZE, dtype: float64"
      ]
     },
     "execution_count": 393,
     "metadata": {},
     "output_type": "execute_result"
    }
   ],
   "source": [
    "the1001_min.head()"
   ]
  },
  {
   "cell_type": "code",
   "execution_count": 394,
   "metadata": {
    "collapsed": true
   },
   "outputs": [],
   "source": [
    "the1001_to_makeup = pd.concat([the1001_betsize, the1001_max, the1001_min], axis=1)"
   ]
  },
  {
   "cell_type": "code",
   "execution_count": 395,
   "metadata": {
    "collapsed": false
   },
   "outputs": [
    {
     "data": {
      "text/html": [
       "<div>\n",
       "<table border=\"1\" class=\"dataframe\">\n",
       "  <thead>\n",
       "    <tr style=\"text-align: right;\">\n",
       "      <th></th>\n",
       "      <th>BET_SIZE</th>\n",
       "      <th>MAX_BET_SIZE</th>\n",
       "      <th>MIN_BET_SIZE</th>\n",
       "    </tr>\n",
       "    <tr>\n",
       "      <th>Account_ID</th>\n",
       "      <th></th>\n",
       "      <th></th>\n",
       "      <th></th>\n",
       "    </tr>\n",
       "  </thead>\n",
       "  <tbody>\n",
       "    <tr>\n",
       "      <th>1000168</th>\n",
       "      <td>5955.568535</td>\n",
       "      <td>1467.463600</td>\n",
       "      <td>12.241438</td>\n",
       "    </tr>\n",
       "    <tr>\n",
       "      <th>1000207</th>\n",
       "      <td>2000.000000</td>\n",
       "      <td>1000.000000</td>\n",
       "      <td>1000.000000</td>\n",
       "    </tr>\n",
       "    <tr>\n",
       "      <th>1000249</th>\n",
       "      <td>901.360094</td>\n",
       "      <td>416.012351</td>\n",
       "      <td>100.550185</td>\n",
       "    </tr>\n",
       "    <tr>\n",
       "      <th>1000274</th>\n",
       "      <td>228.645164</td>\n",
       "      <td>125.658644</td>\n",
       "      <td>102.986520</td>\n",
       "    </tr>\n",
       "    <tr>\n",
       "      <th>1000304</th>\n",
       "      <td>523.654400</td>\n",
       "      <td>523.654400</td>\n",
       "      <td>523.654400</td>\n",
       "    </tr>\n",
       "  </tbody>\n",
       "</table>\n",
       "</div>"
      ],
      "text/plain": [
       "               BET_SIZE  MAX_BET_SIZE  MIN_BET_SIZE\n",
       "Account_ID                                         \n",
       "1000168     5955.568535   1467.463600     12.241438\n",
       "1000207     2000.000000   1000.000000   1000.000000\n",
       "1000249      901.360094    416.012351    100.550185\n",
       "1000274      228.645164    125.658644    102.986520\n",
       "1000304      523.654400    523.654400    523.654400"
      ]
     },
     "execution_count": 395,
     "metadata": {},
     "output_type": "execute_result"
    }
   ],
   "source": [
    "the1001_to_makeup.head()"
   ]
  },
  {
   "cell_type": "code",
   "execution_count": 469,
   "metadata": {
    "collapsed": true
   },
   "outputs": [],
   "source": [
    "the1001_makeup = rfg.predict(the1001_to_makeup[['BET_SIZE']])"
   ]
  },
  {
   "cell_type": "code",
   "execution_count": 470,
   "metadata": {
    "collapsed": false
   },
   "outputs": [],
   "source": [
    "the1001_makeup = pd.DataFrame(\n",
    "    the1001_makeup,\n",
    "    columns=['avg_back_price', 'avg_lay_price', 'back_share', 'back_std', 'lay_std'],\n",
    "    index=the1001_betsize.index)"
   ]
  },
  {
   "cell_type": "code",
   "execution_count": 471,
   "metadata": {
    "collapsed": false
   },
   "outputs": [
    {
     "data": {
      "text/html": [
       "<div>\n",
       "<table border=\"1\" class=\"dataframe\">\n",
       "  <thead>\n",
       "    <tr style=\"text-align: right;\">\n",
       "      <th></th>\n",
       "      <th>avg_back_price</th>\n",
       "      <th>avg_lay_price</th>\n",
       "      <th>back_share</th>\n",
       "      <th>back_std</th>\n",
       "      <th>lay_std</th>\n",
       "    </tr>\n",
       "    <tr>\n",
       "      <th>Account_ID</th>\n",
       "      <th></th>\n",
       "      <th></th>\n",
       "      <th></th>\n",
       "      <th></th>\n",
       "      <th></th>\n",
       "    </tr>\n",
       "  </thead>\n",
       "  <tbody>\n",
       "    <tr>\n",
       "      <th>1000168</th>\n",
       "      <td>0.270664</td>\n",
       "      <td>1.513560</td>\n",
       "      <td>0.075967</td>\n",
       "      <td>0.981323</td>\n",
       "      <td>0.110005</td>\n",
       "    </tr>\n",
       "    <tr>\n",
       "      <th>1000207</th>\n",
       "      <td>3.044383</td>\n",
       "      <td>1.062965</td>\n",
       "      <td>0.893958</td>\n",
       "      <td>0.033293</td>\n",
       "      <td>0.001044</td>\n",
       "    </tr>\n",
       "    <tr>\n",
       "      <th>1000249</th>\n",
       "      <td>1.424002</td>\n",
       "      <td>1.330192</td>\n",
       "      <td>0.468835</td>\n",
       "      <td>14.240980</td>\n",
       "      <td>2.708556</td>\n",
       "    </tr>\n",
       "    <tr>\n",
       "      <th>1000274</th>\n",
       "      <td>2.953620</td>\n",
       "      <td>0.790634</td>\n",
       "      <td>0.864881</td>\n",
       "      <td>1.748544</td>\n",
       "      <td>0.326312</td>\n",
       "    </tr>\n",
       "    <tr>\n",
       "      <th>1000304</th>\n",
       "      <td>2.341260</td>\n",
       "      <td>1.143370</td>\n",
       "      <td>0.243351</td>\n",
       "      <td>17.022908</td>\n",
       "      <td>0.161918</td>\n",
       "    </tr>\n",
       "  </tbody>\n",
       "</table>\n",
       "</div>"
      ],
      "text/plain": [
       "            avg_back_price  avg_lay_price  back_share   back_std   lay_std\n",
       "Account_ID                                                                \n",
       "1000168           0.270664       1.513560    0.075967   0.981323  0.110005\n",
       "1000207           3.044383       1.062965    0.893958   0.033293  0.001044\n",
       "1000249           1.424002       1.330192    0.468835  14.240980  2.708556\n",
       "1000274           2.953620       0.790634    0.864881   1.748544  0.326312\n",
       "1000304           2.341260       1.143370    0.243351  17.022908  0.161918"
      ]
     },
     "execution_count": 471,
     "metadata": {},
     "output_type": "execute_result"
    }
   ],
   "source": [
    "the1001_makeup.head()"
   ]
  },
  {
   "cell_type": "code",
   "execution_count": 472,
   "metadata": {
    "collapsed": true
   },
   "outputs": [],
   "source": [
    "the1001_to_pred = pd.concat([the1001_makeup, the1001_betsize], axis=1)"
   ]
  },
  {
   "cell_type": "code",
   "execution_count": 406,
   "metadata": {
    "collapsed": false
   },
   "outputs": [
    {
     "data": {
      "text/html": [
       "<div>\n",
       "<table border=\"1\" class=\"dataframe\">\n",
       "  <thead>\n",
       "    <tr style=\"text-align: right;\">\n",
       "      <th></th>\n",
       "      <th>avg_back_price</th>\n",
       "      <th>avg_lay_price</th>\n",
       "      <th>back_share</th>\n",
       "      <th>back_std</th>\n",
       "      <th>lay_std</th>\n",
       "      <th>BET_SIZE</th>\n",
       "    </tr>\n",
       "    <tr>\n",
       "      <th>Account_ID</th>\n",
       "      <th></th>\n",
       "      <th></th>\n",
       "      <th></th>\n",
       "      <th></th>\n",
       "      <th></th>\n",
       "      <th></th>\n",
       "    </tr>\n",
       "  </thead>\n",
       "  <tbody>\n",
       "    <tr>\n",
       "      <th>1000168</th>\n",
       "      <td>2.639751</td>\n",
       "      <td>2.161866</td>\n",
       "      <td>0.441398</td>\n",
       "      <td>0.269713</td>\n",
       "      <td>0.206835</td>\n",
       "      <td>5955.568535</td>\n",
       "    </tr>\n",
       "    <tr>\n",
       "      <th>1000207</th>\n",
       "      <td>8.069098</td>\n",
       "      <td>4.301904</td>\n",
       "      <td>0.524399</td>\n",
       "      <td>0.035120</td>\n",
       "      <td>0.013436</td>\n",
       "      <td>2000.000000</td>\n",
       "    </tr>\n",
       "    <tr>\n",
       "      <th>1000249</th>\n",
       "      <td>1.331277</td>\n",
       "      <td>1.063001</td>\n",
       "      <td>0.518934</td>\n",
       "      <td>0.287000</td>\n",
       "      <td>0.034495</td>\n",
       "      <td>901.360094</td>\n",
       "    </tr>\n",
       "    <tr>\n",
       "      <th>1000274</th>\n",
       "      <td>1.651718</td>\n",
       "      <td>0.956855</td>\n",
       "      <td>0.535204</td>\n",
       "      <td>0.116205</td>\n",
       "      <td>0.109579</td>\n",
       "      <td>228.645164</td>\n",
       "    </tr>\n",
       "    <tr>\n",
       "      <th>1000304</th>\n",
       "      <td>1.303822</td>\n",
       "      <td>0.121444</td>\n",
       "      <td>0.899997</td>\n",
       "      <td>0.018149</td>\n",
       "      <td>0.000000</td>\n",
       "      <td>523.654400</td>\n",
       "    </tr>\n",
       "  </tbody>\n",
       "</table>\n",
       "</div>"
      ],
      "text/plain": [
       "            avg_back_price  avg_lay_price  back_share  back_std   lay_std  \\\n",
       "Account_ID                                                                  \n",
       "1000168           2.639751       2.161866    0.441398  0.269713  0.206835   \n",
       "1000207           8.069098       4.301904    0.524399  0.035120  0.013436   \n",
       "1000249           1.331277       1.063001    0.518934  0.287000  0.034495   \n",
       "1000274           1.651718       0.956855    0.535204  0.116205  0.109579   \n",
       "1000304           1.303822       0.121444    0.899997  0.018149  0.000000   \n",
       "\n",
       "               BET_SIZE  \n",
       "Account_ID               \n",
       "1000168     5955.568535  \n",
       "1000207     2000.000000  \n",
       "1000249      901.360094  \n",
       "1000274      228.645164  \n",
       "1000304      523.654400  "
      ]
     },
     "execution_count": 406,
     "metadata": {},
     "output_type": "execute_result"
    }
   ],
   "source": [
    "the1001_to_pred.head()"
   ]
  },
  {
   "cell_type": "code",
   "execution_count": 407,
   "metadata": {
    "collapsed": false
   },
   "outputs": [
    {
     "data": {
      "text/plain": [
       "(7374, 6)"
      ]
     },
     "execution_count": 407,
     "metadata": {},
     "output_type": "execute_result"
    }
   ],
   "source": [
    "# put three pieces together to predict\n",
    "to_pred = pd.concat([the4925_to_pred, the1448_to_pred, the1001_to_pred])\n",
    "to_pred.shape"
   ]
  },
  {
   "cell_type": "code",
   "execution_count": 416,
   "metadata": {
    "collapsed": false
   },
   "outputs": [
    {
     "data": {
      "text/plain": [
       "avg_back_price    False\n",
       "avg_lay_price     False\n",
       "back_share        False\n",
       "back_std          False\n",
       "lay_std           False\n",
       "BET_SIZE          False\n",
       "dtype: bool"
      ]
     },
     "execution_count": 416,
     "metadata": {},
     "output_type": "execute_result"
    }
   ],
   "source": [
    "to_pred.isnull().any()"
   ]
  },
  {
   "cell_type": "code",
   "execution_count": 428,
   "metadata": {
    "collapsed": false
   },
   "outputs": [
    {
     "data": {
      "text/plain": [
       "83"
      ]
     },
     "execution_count": 428,
     "metadata": {},
     "output_type": "execute_result"
    }
   ],
   "source": [
    "rf.n_estimators"
   ]
  },
  {
   "cell_type": "code",
   "execution_count": 429,
   "metadata": {
    "collapsed": true
   },
   "outputs": [],
   "source": [
    "to_submit = pd.DataFrame({\n",
    "    'Account_ID': to_pred.index,\n",
    "    'Prediction': rf.predict_proba(to_pred[['BET_SIZE', 'avg_back_price', 'avg_lay_price', 'back_share', 'back_std', 'lay_std']])[:, 1]})"
   ]
  },
  {
   "cell_type": "code",
   "execution_count": 430,
   "metadata": {
    "collapsed": false
   },
   "outputs": [
    {
     "data": {
      "text/plain": [
       "(7374, 2)"
      ]
     },
     "execution_count": 430,
     "metadata": {},
     "output_type": "execute_result"
    }
   ],
   "source": [
    "to_submit.shape"
   ]
  },
  {
   "cell_type": "code",
   "execution_count": 431,
   "metadata": {
    "collapsed": false
   },
   "outputs": [
    {
     "data": {
      "text/html": [
       "<div>\n",
       "<table border=\"1\" class=\"dataframe\">\n",
       "  <thead>\n",
       "    <tr style=\"text-align: right;\">\n",
       "      <th></th>\n",
       "      <th>Account_ID</th>\n",
       "      <th>Prediction</th>\n",
       "    </tr>\n",
       "  </thead>\n",
       "  <tbody>\n",
       "    <tr>\n",
       "      <th>0</th>\n",
       "      <td>1000002</td>\n",
       "      <td>0.787869</td>\n",
       "    </tr>\n",
       "    <tr>\n",
       "      <th>1</th>\n",
       "      <td>1000004</td>\n",
       "      <td>0.192771</td>\n",
       "    </tr>\n",
       "    <tr>\n",
       "      <th>2</th>\n",
       "      <td>1000005</td>\n",
       "      <td>0.759036</td>\n",
       "    </tr>\n",
       "    <tr>\n",
       "      <th>3</th>\n",
       "      <td>1000010</td>\n",
       "      <td>0.180723</td>\n",
       "    </tr>\n",
       "    <tr>\n",
       "      <th>4</th>\n",
       "      <td>1000014</td>\n",
       "      <td>0.963855</td>\n",
       "    </tr>\n",
       "  </tbody>\n",
       "</table>\n",
       "</div>"
      ],
      "text/plain": [
       "   Account_ID  Prediction\n",
       "0     1000002    0.787869\n",
       "1     1000004    0.192771\n",
       "2     1000005    0.759036\n",
       "3     1000010    0.180723\n",
       "4     1000014    0.963855"
      ]
     },
     "execution_count": 431,
     "metadata": {},
     "output_type": "execute_result"
    }
   ],
   "source": [
    "to_submit.head()"
   ]
  },
  {
   "cell_type": "code",
   "execution_count": 432,
   "metadata": {
    "collapsed": true
   },
   "outputs": [],
   "source": [
    "to_submit.to_csv('three_pieces_all_old_data.csv', index=False)"
   ]
  },
  {
   "cell_type": "code",
   "execution_count": 433,
   "metadata": {
    "collapsed": false
   },
   "outputs": [
    {
     "data": {
      "text/html": [
       "<div>\n",
       "<table border=\"1\" class=\"dataframe\">\n",
       "  <thead>\n",
       "    <tr style=\"text-align: right;\">\n",
       "      <th></th>\n",
       "      <th>Account_ID</th>\n",
       "      <th>Prediction</th>\n",
       "    </tr>\n",
       "  </thead>\n",
       "  <tbody>\n",
       "    <tr>\n",
       "      <th>count</th>\n",
       "      <td>7374.000000</td>\n",
       "      <td>7374.000000</td>\n",
       "    </tr>\n",
       "    <tr>\n",
       "      <th>mean</th>\n",
       "      <td>1011060.910768</td>\n",
       "      <td>0.439552</td>\n",
       "    </tr>\n",
       "    <tr>\n",
       "      <th>std</th>\n",
       "      <td>6613.263866</td>\n",
       "      <td>0.343448</td>\n",
       "    </tr>\n",
       "    <tr>\n",
       "      <th>min</th>\n",
       "      <td>1000002.000000</td>\n",
       "      <td>0.000000</td>\n",
       "    </tr>\n",
       "    <tr>\n",
       "      <th>25%</th>\n",
       "      <td>1005685.750000</td>\n",
       "      <td>0.096386</td>\n",
       "    </tr>\n",
       "    <tr>\n",
       "      <th>50%</th>\n",
       "      <td>1010105.000000</td>\n",
       "      <td>0.407096</td>\n",
       "    </tr>\n",
       "    <tr>\n",
       "      <th>75%</th>\n",
       "      <td>1016848.750000</td>\n",
       "      <td>0.763347</td>\n",
       "    </tr>\n",
       "    <tr>\n",
       "      <th>max</th>\n",
       "      <td>1024189.000000</td>\n",
       "      <td>1.000000</td>\n",
       "    </tr>\n",
       "  </tbody>\n",
       "</table>\n",
       "</div>"
      ],
      "text/plain": [
       "           Account_ID   Prediction\n",
       "count     7374.000000  7374.000000\n",
       "mean   1011060.910768     0.439552\n",
       "std       6613.263866     0.343448\n",
       "min    1000002.000000     0.000000\n",
       "25%    1005685.750000     0.096386\n",
       "50%    1010105.000000     0.407096\n",
       "75%    1016848.750000     0.763347\n",
       "max    1024189.000000     1.000000"
      ]
     },
     "execution_count": 433,
     "metadata": {},
     "output_type": "execute_result"
    }
   ],
   "source": [
    "to_submit.describe()"
   ]
  },
  {
   "cell_type": "code",
   "execution_count": 417,
   "metadata": {
    "collapsed": true
   },
   "outputs": [],
   "source": [
    "# now quarter data for the 4925\n",
    "the4925_avgs = quarter_in_submit.groupby('ACCOUNT_ID').apply(get_average_price).fillna(0)"
   ]
  },
  {
   "cell_type": "code",
   "execution_count": 418,
   "metadata": {
    "collapsed": false
   },
   "outputs": [
    {
     "data": {
      "text/plain": [
       "(4925, 5)"
      ]
     },
     "execution_count": 418,
     "metadata": {},
     "output_type": "execute_result"
    }
   ],
   "source": [
    "the4925_avgs.shape"
   ]
  },
  {
   "cell_type": "code",
   "execution_count": 419,
   "metadata": {
    "collapsed": false
   },
   "outputs": [
    {
     "data": {
      "text/html": [
       "<div>\n",
       "<table border=\"1\" class=\"dataframe\">\n",
       "  <thead>\n",
       "    <tr style=\"text-align: right;\">\n",
       "      <th></th>\n",
       "      <th>avg_back_price</th>\n",
       "      <th>avg_lay_price</th>\n",
       "      <th>back_share</th>\n",
       "      <th>back_std</th>\n",
       "      <th>lay_std</th>\n",
       "    </tr>\n",
       "    <tr>\n",
       "      <th>ACCOUNT_ID</th>\n",
       "      <th></th>\n",
       "      <th></th>\n",
       "      <th></th>\n",
       "      <th></th>\n",
       "      <th></th>\n",
       "    </tr>\n",
       "  </thead>\n",
       "  <tbody>\n",
       "    <tr>\n",
       "      <th>1000002</th>\n",
       "      <td>1.977567</td>\n",
       "      <td>0.000000</td>\n",
       "      <td>1.000000</td>\n",
       "      <td>16.328730</td>\n",
       "      <td>0.000000</td>\n",
       "    </tr>\n",
       "    <tr>\n",
       "      <th>1000004</th>\n",
       "      <td>0.000000</td>\n",
       "      <td>1.284071</td>\n",
       "      <td>0.000000</td>\n",
       "      <td>0.000000</td>\n",
       "      <td>0.111071</td>\n",
       "    </tr>\n",
       "    <tr>\n",
       "      <th>1000005</th>\n",
       "      <td>1.118681</td>\n",
       "      <td>1.051863</td>\n",
       "      <td>0.427161</td>\n",
       "      <td>0.697832</td>\n",
       "      <td>0.027080</td>\n",
       "    </tr>\n",
       "    <tr>\n",
       "      <th>1000010</th>\n",
       "      <td>0.000000</td>\n",
       "      <td>1.124129</td>\n",
       "      <td>0.000000</td>\n",
       "      <td>0.000000</td>\n",
       "      <td>0.080829</td>\n",
       "    </tr>\n",
       "    <tr>\n",
       "      <th>1000014</th>\n",
       "      <td>1.499985</td>\n",
       "      <td>0.000000</td>\n",
       "      <td>0.999980</td>\n",
       "      <td>0.000000</td>\n",
       "      <td>0.000000</td>\n",
       "    </tr>\n",
       "  </tbody>\n",
       "</table>\n",
       "</div>"
      ],
      "text/plain": [
       "            avg_back_price  avg_lay_price  back_share   back_std   lay_std\n",
       "ACCOUNT_ID                                                                \n",
       "1000002           1.977567       0.000000    1.000000  16.328730  0.000000\n",
       "1000004           0.000000       1.284071    0.000000   0.000000  0.111071\n",
       "1000005           1.118681       1.051863    0.427161   0.697832  0.027080\n",
       "1000010           0.000000       1.124129    0.000000   0.000000  0.080829\n",
       "1000014           1.499985       0.000000    0.999980   0.000000  0.000000"
      ]
     },
     "execution_count": 419,
     "metadata": {},
     "output_type": "execute_result"
    }
   ],
   "source": [
    "the4925_avgs.head()"
   ]
  },
  {
   "cell_type": "code",
   "execution_count": 415,
   "metadata": {
    "collapsed": true
   },
   "outputs": [],
   "source": [
    "the4925_betsize = quarter_in_submit.groupby(['ACCOUNT_ID', 'EVENT_ID'])['BET_SIZE'].sum().groupby(level=0).mean()"
   ]
  },
  {
   "cell_type": "code",
   "execution_count": 420,
   "metadata": {
    "collapsed": false
   },
   "outputs": [
    {
     "data": {
      "text/plain": [
       "ACCOUNT_ID\n",
       "1000002    3314.478695\n",
       "1000004     461.931000\n",
       "1000005     996.691000\n",
       "1000010    1163.724400\n",
       "1000014     100.000000\n",
       "Name: BET_SIZE, dtype: float64"
      ]
     },
     "execution_count": 420,
     "metadata": {},
     "output_type": "execute_result"
    }
   ],
   "source": [
    "the4925_betsize.head()"
   ]
  },
  {
   "cell_type": "code",
   "execution_count": 421,
   "metadata": {
    "collapsed": true
   },
   "outputs": [],
   "source": [
    "the4925_to_pred = pd.concat([the4925_avgs, the4925_betsize], axis=1)"
   ]
  },
  {
   "cell_type": "code",
   "execution_count": 422,
   "metadata": {
    "collapsed": false
   },
   "outputs": [
    {
     "data": {
      "text/html": [
       "<div>\n",
       "<table border=\"1\" class=\"dataframe\">\n",
       "  <thead>\n",
       "    <tr style=\"text-align: right;\">\n",
       "      <th></th>\n",
       "      <th>avg_back_price</th>\n",
       "      <th>avg_lay_price</th>\n",
       "      <th>back_share</th>\n",
       "      <th>back_std</th>\n",
       "      <th>lay_std</th>\n",
       "      <th>BET_SIZE</th>\n",
       "    </tr>\n",
       "    <tr>\n",
       "      <th>ACCOUNT_ID</th>\n",
       "      <th></th>\n",
       "      <th></th>\n",
       "      <th></th>\n",
       "      <th></th>\n",
       "      <th></th>\n",
       "      <th></th>\n",
       "    </tr>\n",
       "  </thead>\n",
       "  <tbody>\n",
       "    <tr>\n",
       "      <th>1000002</th>\n",
       "      <td>1.977567</td>\n",
       "      <td>0.000000</td>\n",
       "      <td>1.000000</td>\n",
       "      <td>16.328730</td>\n",
       "      <td>0.000000</td>\n",
       "      <td>3314.478695</td>\n",
       "    </tr>\n",
       "    <tr>\n",
       "      <th>1000004</th>\n",
       "      <td>0.000000</td>\n",
       "      <td>1.284071</td>\n",
       "      <td>0.000000</td>\n",
       "      <td>0.000000</td>\n",
       "      <td>0.111071</td>\n",
       "      <td>461.931000</td>\n",
       "    </tr>\n",
       "    <tr>\n",
       "      <th>1000005</th>\n",
       "      <td>1.118681</td>\n",
       "      <td>1.051863</td>\n",
       "      <td>0.427161</td>\n",
       "      <td>0.697832</td>\n",
       "      <td>0.027080</td>\n",
       "      <td>996.691000</td>\n",
       "    </tr>\n",
       "    <tr>\n",
       "      <th>1000010</th>\n",
       "      <td>0.000000</td>\n",
       "      <td>1.124129</td>\n",
       "      <td>0.000000</td>\n",
       "      <td>0.000000</td>\n",
       "      <td>0.080829</td>\n",
       "      <td>1163.724400</td>\n",
       "    </tr>\n",
       "    <tr>\n",
       "      <th>1000014</th>\n",
       "      <td>1.499985</td>\n",
       "      <td>0.000000</td>\n",
       "      <td>0.999980</td>\n",
       "      <td>0.000000</td>\n",
       "      <td>0.000000</td>\n",
       "      <td>100.000000</td>\n",
       "    </tr>\n",
       "  </tbody>\n",
       "</table>\n",
       "</div>"
      ],
      "text/plain": [
       "            avg_back_price  avg_lay_price  back_share   back_std   lay_std  \\\n",
       "ACCOUNT_ID                                                                   \n",
       "1000002           1.977567       0.000000    1.000000  16.328730  0.000000   \n",
       "1000004           0.000000       1.284071    0.000000   0.000000  0.111071   \n",
       "1000005           1.118681       1.051863    0.427161   0.697832  0.027080   \n",
       "1000010           0.000000       1.124129    0.000000   0.000000  0.080829   \n",
       "1000014           1.499985       0.000000    0.999980   0.000000  0.000000   \n",
       "\n",
       "               BET_SIZE  \n",
       "ACCOUNT_ID               \n",
       "1000002     3314.478695  \n",
       "1000004      461.931000  \n",
       "1000005      996.691000  \n",
       "1000010     1163.724400  \n",
       "1000014      100.000000  "
      ]
     },
     "execution_count": 422,
     "metadata": {},
     "output_type": "execute_result"
    }
   ],
   "source": [
    "the4925_to_pred.head()"
   ]
  },
  {
   "cell_type": "code",
   "execution_count": 435,
   "metadata": {
    "collapsed": true
   },
   "outputs": [],
   "source": [
    "the4925_quarter_res = (quarter_in_submit.groupby('ACCOUNT_ID')['correct_profit_loss'].sum() > 0).apply(lambda x: int(x))"
   ]
  },
  {
   "cell_type": "code",
   "execution_count": 436,
   "metadata": {
    "collapsed": false
   },
   "outputs": [
    {
     "data": {
      "text/plain": [
       "(4925,)"
      ]
     },
     "execution_count": 436,
     "metadata": {},
     "output_type": "execute_result"
    }
   ],
   "source": [
    "the4925_quarter_res.shape"
   ]
  },
  {
   "cell_type": "code",
   "execution_count": 437,
   "metadata": {
    "collapsed": false
   },
   "outputs": [
    {
     "data": {
      "text/plain": [
       "ACCOUNT_ID\n",
       "1000002    0\n",
       "1000004    0\n",
       "1000005    0\n",
       "1000010    0\n",
       "1000014    1\n",
       "Name: correct_profit_loss, dtype: int64"
      ]
     },
     "execution_count": 437,
     "metadata": {},
     "output_type": "execute_result"
    }
   ],
   "source": [
    "the4925_quarter_res.head()"
   ]
  },
  {
   "cell_type": "code",
   "execution_count": 438,
   "metadata": {
    "collapsed": false
   },
   "outputs": [
    {
     "data": {
      "text/plain": [
       "1.0"
      ]
     },
     "execution_count": 438,
     "metadata": {},
     "output_type": "execute_result"
    }
   ],
   "source": [
    "pred = pd.Series(rf.predict(the4925_to_pred[['BET_SIZE', 'avg_back_price', 'avg_lay_price', 'back_share', 'back_std', 'lay_std']]))\n",
    "(pred == the4925_quarter_res).sum() / 4925"
   ]
  },
  {
   "cell_type": "code",
   "execution_count": 439,
   "metadata": {
    "collapsed": false
   },
   "outputs": [
    {
     "data": {
      "text/html": [
       "<div>\n",
       "<table border=\"1\" class=\"dataframe\">\n",
       "  <thead>\n",
       "    <tr style=\"text-align: right;\">\n",
       "      <th></th>\n",
       "      <th>avg_back_price</th>\n",
       "      <th>avg_lay_price</th>\n",
       "      <th>back_share</th>\n",
       "      <th>back_std</th>\n",
       "      <th>lay_std</th>\n",
       "      <th>BET_SIZE</th>\n",
       "    </tr>\n",
       "    <tr>\n",
       "      <th>Account_ID</th>\n",
       "      <th></th>\n",
       "      <th></th>\n",
       "      <th></th>\n",
       "      <th></th>\n",
       "      <th></th>\n",
       "      <th></th>\n",
       "    </tr>\n",
       "  </thead>\n",
       "  <tbody>\n",
       "    <tr>\n",
       "      <th>1000168</th>\n",
       "      <td>2.639751</td>\n",
       "      <td>2.161866</td>\n",
       "      <td>0.441398</td>\n",
       "      <td>0.269713</td>\n",
       "      <td>0.206835</td>\n",
       "      <td>5955.568535</td>\n",
       "    </tr>\n",
       "    <tr>\n",
       "      <th>1000207</th>\n",
       "      <td>8.069098</td>\n",
       "      <td>4.301904</td>\n",
       "      <td>0.524399</td>\n",
       "      <td>0.035120</td>\n",
       "      <td>0.013436</td>\n",
       "      <td>2000.000000</td>\n",
       "    </tr>\n",
       "    <tr>\n",
       "      <th>1000249</th>\n",
       "      <td>1.331277</td>\n",
       "      <td>1.063001</td>\n",
       "      <td>0.518934</td>\n",
       "      <td>0.287000</td>\n",
       "      <td>0.034495</td>\n",
       "      <td>901.360094</td>\n",
       "    </tr>\n",
       "    <tr>\n",
       "      <th>1000274</th>\n",
       "      <td>1.651718</td>\n",
       "      <td>0.956855</td>\n",
       "      <td>0.535204</td>\n",
       "      <td>0.116205</td>\n",
       "      <td>0.109579</td>\n",
       "      <td>228.645164</td>\n",
       "    </tr>\n",
       "    <tr>\n",
       "      <th>1000304</th>\n",
       "      <td>1.303822</td>\n",
       "      <td>0.121444</td>\n",
       "      <td>0.899997</td>\n",
       "      <td>0.018149</td>\n",
       "      <td>0.000000</td>\n",
       "      <td>523.654400</td>\n",
       "    </tr>\n",
       "  </tbody>\n",
       "</table>\n",
       "</div>"
      ],
      "text/plain": [
       "            avg_back_price  avg_lay_price  back_share  back_std   lay_std  \\\n",
       "Account_ID                                                                  \n",
       "1000168           2.639751       2.161866    0.441398  0.269713  0.206835   \n",
       "1000207           8.069098       4.301904    0.524399  0.035120  0.013436   \n",
       "1000249           1.331277       1.063001    0.518934  0.287000  0.034495   \n",
       "1000274           1.651718       0.956855    0.535204  0.116205  0.109579   \n",
       "1000304           1.303822       0.121444    0.899997  0.018149  0.000000   \n",
       "\n",
       "               BET_SIZE  \n",
       "Account_ID               \n",
       "1000168     5955.568535  \n",
       "1000207     2000.000000  \n",
       "1000249      901.360094  \n",
       "1000274      228.645164  \n",
       "1000304      523.654400  "
      ]
     },
     "execution_count": 439,
     "metadata": {},
     "output_type": "execute_result"
    }
   ],
   "source": [
    "the1001_to_pred.head()"
   ]
  },
  {
   "cell_type": "code",
   "execution_count": 539,
   "metadata": {
    "collapsed": false
   },
   "outputs": [
    {
     "data": {
      "text/plain": [
       "(7374, 6)"
      ]
     },
     "execution_count": 539,
     "metadata": {},
     "output_type": "execute_result"
    }
   ],
   "source": [
    "# put three pieces together to predict\n",
    "to_pred = pd.concat([the4925_to_pred, the1448_to_pred, the1001_to_pred])\n",
    "to_pred.shape"
   ]
  },
  {
   "cell_type": "code",
   "execution_count": 544,
   "metadata": {
    "collapsed": false
   },
   "outputs": [],
   "source": [
    "to_submit = pd.DataFrame({\n",
    "    'Account_ID': to_pred.index,\n",
    "    'Prediction': rf.predict(to_pred[['BET_SIZE', 'avg_back_price', 'avg_lay_price', 'back_share', 'back_std', 'lay_std']])})"
   ]
  },
  {
   "cell_type": "code",
   "execution_count": 442,
   "metadata": {
    "collapsed": false
   },
   "outputs": [
    {
     "data": {
      "text/html": [
       "<div>\n",
       "<table border=\"1\" class=\"dataframe\">\n",
       "  <thead>\n",
       "    <tr style=\"text-align: right;\">\n",
       "      <th></th>\n",
       "      <th>Account_ID</th>\n",
       "      <th>Prediction</th>\n",
       "    </tr>\n",
       "  </thead>\n",
       "  <tbody>\n",
       "    <tr>\n",
       "      <th>0</th>\n",
       "      <td>1000002</td>\n",
       "      <td>0.309455</td>\n",
       "    </tr>\n",
       "    <tr>\n",
       "      <th>1</th>\n",
       "      <td>1000004</td>\n",
       "      <td>0.000000</td>\n",
       "    </tr>\n",
       "    <tr>\n",
       "      <th>2</th>\n",
       "      <td>1000005</td>\n",
       "      <td>0.301205</td>\n",
       "    </tr>\n",
       "    <tr>\n",
       "      <th>3</th>\n",
       "      <td>1000010</td>\n",
       "      <td>0.000000</td>\n",
       "    </tr>\n",
       "    <tr>\n",
       "      <th>4</th>\n",
       "      <td>1000014</td>\n",
       "      <td>0.963855</td>\n",
       "    </tr>\n",
       "  </tbody>\n",
       "</table>\n",
       "</div>"
      ],
      "text/plain": [
       "   Account_ID  Prediction\n",
       "0     1000002    0.309455\n",
       "1     1000004    0.000000\n",
       "2     1000005    0.301205\n",
       "3     1000010    0.000000\n",
       "4     1000014    0.963855"
      ]
     },
     "execution_count": 442,
     "metadata": {},
     "output_type": "execute_result"
    }
   ],
   "source": [
    "to_submit.head()"
   ]
  },
  {
   "cell_type": "code",
   "execution_count": 546,
   "metadata": {
    "collapsed": true
   },
   "outputs": [],
   "source": [
    "to_submit.to_csv('three_pieces_updated_betsize_regression.csv', index=False)"
   ]
  },
  {
   "cell_type": "code",
   "execution_count": 545,
   "metadata": {
    "collapsed": false
   },
   "outputs": [
    {
     "data": {
      "text/html": [
       "<div>\n",
       "<table border=\"1\" class=\"dataframe\">\n",
       "  <thead>\n",
       "    <tr style=\"text-align: right;\">\n",
       "      <th></th>\n",
       "      <th>Account_ID</th>\n",
       "      <th>Prediction</th>\n",
       "    </tr>\n",
       "  </thead>\n",
       "  <tbody>\n",
       "    <tr>\n",
       "      <th>count</th>\n",
       "      <td>7374.000000</td>\n",
       "      <td>7374.000000</td>\n",
       "    </tr>\n",
       "    <tr>\n",
       "      <th>mean</th>\n",
       "      <td>1011060.910768</td>\n",
       "      <td>363.289076</td>\n",
       "    </tr>\n",
       "    <tr>\n",
       "      <th>std</th>\n",
       "      <td>6613.263866</td>\n",
       "      <td>10782.184559</td>\n",
       "    </tr>\n",
       "    <tr>\n",
       "      <th>min</th>\n",
       "      <td>1000002.000000</td>\n",
       "      <td>-485957.143768</td>\n",
       "    </tr>\n",
       "    <tr>\n",
       "      <th>25%</th>\n",
       "      <td>1005685.750000</td>\n",
       "      <td>-322.859781</td>\n",
       "    </tr>\n",
       "    <tr>\n",
       "      <th>50%</th>\n",
       "      <td>1010105.000000</td>\n",
       "      <td>-50.241058</td>\n",
       "    </tr>\n",
       "    <tr>\n",
       "      <th>75%</th>\n",
       "      <td>1016848.750000</td>\n",
       "      <td>148.612167</td>\n",
       "    </tr>\n",
       "    <tr>\n",
       "      <th>max</th>\n",
       "      <td>1024189.000000</td>\n",
       "      <td>174635.012538</td>\n",
       "    </tr>\n",
       "  </tbody>\n",
       "</table>\n",
       "</div>"
      ],
      "text/plain": [
       "           Account_ID     Prediction\n",
       "count     7374.000000    7374.000000\n",
       "mean   1011060.910768     363.289076\n",
       "std       6613.263866   10782.184559\n",
       "min    1000002.000000 -485957.143768\n",
       "25%    1005685.750000    -322.859781\n",
       "50%    1010105.000000     -50.241058\n",
       "75%    1016848.750000     148.612167\n",
       "max    1024189.000000  174635.012538"
      ]
     },
     "execution_count": 545,
     "metadata": {},
     "output_type": "execute_result"
    }
   ],
   "source": [
    "to_submit.describe()"
   ]
  },
  {
   "cell_type": "code",
   "execution_count": 542,
   "metadata": {
    "collapsed": false
   },
   "outputs": [
    {
     "data": {
      "text/html": [
       "<div>\n",
       "<table border=\"1\" class=\"dataframe\">\n",
       "  <thead>\n",
       "    <tr style=\"text-align: right;\">\n",
       "      <th></th>\n",
       "      <th>avg_back_price</th>\n",
       "      <th>avg_lay_price</th>\n",
       "      <th>back_share</th>\n",
       "      <th>back_std</th>\n",
       "      <th>lay_std</th>\n",
       "      <th>BET_SIZE</th>\n",
       "    </tr>\n",
       "  </thead>\n",
       "  <tbody>\n",
       "    <tr>\n",
       "      <th>1000002</th>\n",
       "      <td>1.977567</td>\n",
       "      <td>0.000000</td>\n",
       "      <td>1.000000</td>\n",
       "      <td>16.328730</td>\n",
       "      <td>0.000000</td>\n",
       "      <td>6742.090950</td>\n",
       "    </tr>\n",
       "    <tr>\n",
       "      <th>1000004</th>\n",
       "      <td>0.000000</td>\n",
       "      <td>1.284071</td>\n",
       "      <td>0.000000</td>\n",
       "      <td>0.000000</td>\n",
       "      <td>0.111071</td>\n",
       "      <td>943.100000</td>\n",
       "    </tr>\n",
       "    <tr>\n",
       "      <th>1000005</th>\n",
       "      <td>1.118681</td>\n",
       "      <td>1.051863</td>\n",
       "      <td>0.427161</td>\n",
       "      <td>0.697832</td>\n",
       "      <td>0.027080</td>\n",
       "      <td>234.149450</td>\n",
       "    </tr>\n",
       "    <tr>\n",
       "      <th>1000010</th>\n",
       "      <td>0.000000</td>\n",
       "      <td>1.124129</td>\n",
       "      <td>0.000000</td>\n",
       "      <td>0.000000</td>\n",
       "      <td>0.080829</td>\n",
       "      <td>900.377670</td>\n",
       "    </tr>\n",
       "    <tr>\n",
       "      <th>1000014</th>\n",
       "      <td>1.499985</td>\n",
       "      <td>0.000000</td>\n",
       "      <td>0.999980</td>\n",
       "      <td>0.000000</td>\n",
       "      <td>0.000000</td>\n",
       "      <td>181.593333</td>\n",
       "    </tr>\n",
       "  </tbody>\n",
       "</table>\n",
       "</div>"
      ],
      "text/plain": [
       "         avg_back_price  avg_lay_price  back_share   back_std   lay_std  \\\n",
       "1000002        1.977567       0.000000    1.000000  16.328730  0.000000   \n",
       "1000004        0.000000       1.284071    0.000000   0.000000  0.111071   \n",
       "1000005        1.118681       1.051863    0.427161   0.697832  0.027080   \n",
       "1000010        0.000000       1.124129    0.000000   0.000000  0.080829   \n",
       "1000014        1.499985       0.000000    0.999980   0.000000  0.000000   \n",
       "\n",
       "            BET_SIZE  \n",
       "1000002  6742.090950  \n",
       "1000004   943.100000  \n",
       "1000005   234.149450  \n",
       "1000010   900.377670  \n",
       "1000014   181.593333  "
      ]
     },
     "execution_count": 542,
     "metadata": {},
     "output_type": "execute_result"
    }
   ],
   "source": [
    "# now everyone use the updated betsize\n",
    "to_pred.head()"
   ]
  },
  {
   "cell_type": "code",
   "execution_count": 446,
   "metadata": {
    "collapsed": true
   },
   "outputs": [],
   "source": [
    "semi_betsize = semi_final.loc[semi_final.Account_ID.isin(submit.Account_ID), :].groupby(['Account_ID', 'EVENT_ID'])['total'].sum().groupby(level=0).mean()"
   ]
  },
  {
   "cell_type": "code",
   "execution_count": 447,
   "metadata": {
    "collapsed": false
   },
   "outputs": [
    {
     "data": {
      "text/plain": [
       "(7374,)"
      ]
     },
     "execution_count": 447,
     "metadata": {},
     "output_type": "execute_result"
    }
   ],
   "source": [
    "semi_betsize.shape"
   ]
  },
  {
   "cell_type": "code",
   "execution_count": 448,
   "metadata": {
    "collapsed": false
   },
   "outputs": [
    {
     "data": {
      "text/plain": [
       "Account_ID\n",
       "1000002    6742.090950\n",
       "1000004     943.100000\n",
       "1000005     234.149450\n",
       "1000010     900.377670\n",
       "1000014     181.593333\n",
       "Name: total, dtype: float64"
      ]
     },
     "execution_count": 448,
     "metadata": {},
     "output_type": "execute_result"
    }
   ],
   "source": [
    "semi_betsize.head()"
   ]
  },
  {
   "cell_type": "code",
   "execution_count": 453,
   "metadata": {
    "collapsed": true
   },
   "outputs": [],
   "source": [
    "semi_betsize.name = 'BET_SIZE'"
   ]
  },
  {
   "cell_type": "code",
   "execution_count": 541,
   "metadata": {
    "collapsed": true
   },
   "outputs": [],
   "source": [
    "to_pred.update(semi_betsize)"
   ]
  },
  {
   "cell_type": "code",
   "execution_count": 494,
   "metadata": {
    "collapsed": true
   },
   "outputs": [],
   "source": [
    "check_loc = 1000004"
   ]
  },
  {
   "cell_type": "code",
   "execution_count": 498,
   "metadata": {
    "collapsed": false
   },
   "outputs": [
    {
     "data": {
      "text/plain": [
       "False"
      ]
     },
     "execution_count": 498,
     "metadata": {},
     "output_type": "execute_result"
    }
   ],
   "source": [
    "check_loc in the1001"
   ]
  },
  {
   "cell_type": "code",
   "execution_count": 499,
   "metadata": {
    "collapsed": false
   },
   "outputs": [
    {
     "data": {
      "text/plain": [
       "True"
      ]
     },
     "execution_count": 499,
     "metadata": {},
     "output_type": "execute_result"
    }
   ],
   "source": [
    "check_loc in the4925"
   ]
  },
  {
   "cell_type": "code",
   "execution_count": null,
   "metadata": {
    "collapsed": true
   },
   "outputs": [],
   "source": []
  }
 ],
 "metadata": {
  "kernelspec": {
   "display_name": "Python 3",
   "language": "python",
   "name": "python3"
  },
  "language_info": {
   "codemirror_mode": {
    "name": "ipython",
    "version": 3
   },
   "file_extension": ".py",
   "mimetype": "text/x-python",
   "name": "python",
   "nbconvert_exporter": "python",
   "pygments_lexer": "ipython3",
   "version": "3.4.3"
  }
 },
 "nbformat": 4,
 "nbformat_minor": 0
}
