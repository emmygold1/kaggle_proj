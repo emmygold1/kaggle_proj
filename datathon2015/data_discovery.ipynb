{
 "cells": [
  {
   "cell_type": "code",
   "execution_count": 1,
   "metadata": {
    "collapsed": true
   },
   "outputs": [],
   "source": [
    "%matplotlib inline\n",
    "import pandas as pd\n",
    "import numpy as np\n",
    "import matplotlib.pyplot as plt"
   ]
  },
  {
   "cell_type": "code",
   "execution_count": 2,
   "metadata": {
    "collapsed": true
   },
   "outputs": [],
   "source": [
    "dat = pd.read_csv('semi_and_final_features.csv')\n",
    "dat.columns = ['Account_ID', 'EVENT_ID', 'TRANSACTION_COUNT', 'STATUS_ID',\n",
    "       'INPLAY_BET', 'AVG_BET_SIZE', 'MAX_BET_SIZE', 'MIN_BET_SIZE',\n",
    "       'STDEV_BET_SIZE']"
   ]
  },
  {
   "cell_type": "code",
   "execution_count": 67,
   "metadata": {
    "collapsed": false
   },
   "outputs": [
    {
     "data": {
      "text/html": [
       "<div>\n",
       "<table border=\"1\" class=\"dataframe\">\n",
       "  <thead>\n",
       "    <tr style=\"text-align: right;\">\n",
       "      <th></th>\n",
       "      <th>Account_ID</th>\n",
       "      <th>EVENT_ID</th>\n",
       "      <th>TRANSACTION_COUNT</th>\n",
       "      <th>STATUS_ID</th>\n",
       "      <th>INPLAY_BET</th>\n",
       "      <th>AVG_BET_SIZE</th>\n",
       "      <th>MAX_BET_SIZE</th>\n",
       "      <th>MIN_BET_SIZE</th>\n",
       "      <th>STDEV_BET_SIZE</th>\n",
       "    </tr>\n",
       "  </thead>\n",
       "  <tbody>\n",
       "    <tr>\n",
       "      <th>0</th>\n",
       "      <td>1000002</td>\n",
       "      <td>101187238</td>\n",
       "      <td>6</td>\n",
       "      <td>C</td>\n",
       "      <td>N</td>\n",
       "      <td>76.192150</td>\n",
       "      <td>189.690000</td>\n",
       "      <td>7.587600</td>\n",
       "      <td>76.803761</td>\n",
       "    </tr>\n",
       "    <tr>\n",
       "      <th>1</th>\n",
       "      <td>1000002</td>\n",
       "      <td>101187238</td>\n",
       "      <td>2</td>\n",
       "      <td>S</td>\n",
       "      <td>N</td>\n",
       "      <td>278.844300</td>\n",
       "      <td>379.380000</td>\n",
       "      <td>178.308600</td>\n",
       "      <td>142.178950</td>\n",
       "    </tr>\n",
       "    <tr>\n",
       "      <th>2</th>\n",
       "      <td>1000002</td>\n",
       "      <td>101187238</td>\n",
       "      <td>43</td>\n",
       "      <td>S</td>\n",
       "      <td>Y</td>\n",
       "      <td>142.274117</td>\n",
       "      <td>758.760000</td>\n",
       "      <td>3.793800</td>\n",
       "      <td>190.065261</td>\n",
       "    </tr>\n",
       "    <tr>\n",
       "      <th>3</th>\n",
       "      <td>1000002</td>\n",
       "      <td>101187943</td>\n",
       "      <td>8</td>\n",
       "      <td>C</td>\n",
       "      <td>N</td>\n",
       "      <td>169.758000</td>\n",
       "      <td>471.550000</td>\n",
       "      <td>3.772400</td>\n",
       "      <td>188.339556</td>\n",
       "    </tr>\n",
       "    <tr>\n",
       "      <th>4</th>\n",
       "      <td>1000002</td>\n",
       "      <td>101187943</td>\n",
       "      <td>69</td>\n",
       "      <td>S</td>\n",
       "      <td>Y</td>\n",
       "      <td>182.086641</td>\n",
       "      <td>692.838984</td>\n",
       "      <td>3.772400</td>\n",
       "      <td>150.043870</td>\n",
       "    </tr>\n",
       "    <tr>\n",
       "      <th>5</th>\n",
       "      <td>1000002</td>\n",
       "      <td>101191295</td>\n",
       "      <td>2</td>\n",
       "      <td>S</td>\n",
       "      <td>N</td>\n",
       "      <td>118.650076</td>\n",
       "      <td>192.520000</td>\n",
       "      <td>44.780152</td>\n",
       "      <td>104.467848</td>\n",
       "    </tr>\n",
       "    <tr>\n",
       "      <th>6</th>\n",
       "      <td>1000002</td>\n",
       "      <td>101191295</td>\n",
       "      <td>11</td>\n",
       "      <td>S</td>\n",
       "      <td>Y</td>\n",
       "      <td>68.138079</td>\n",
       "      <td>248.350800</td>\n",
       "      <td>11.377932</td>\n",
       "      <td>79.751261</td>\n",
       "    </tr>\n",
       "    <tr>\n",
       "      <th>7</th>\n",
       "      <td>1000003</td>\n",
       "      <td>101187238</td>\n",
       "      <td>1</td>\n",
       "      <td>S</td>\n",
       "      <td>N</td>\n",
       "      <td>20.000000</td>\n",
       "      <td>20.000000</td>\n",
       "      <td>20.000000</td>\n",
       "      <td>0.000000</td>\n",
       "    </tr>\n",
       "    <tr>\n",
       "      <th>8</th>\n",
       "      <td>1000003</td>\n",
       "      <td>101187943</td>\n",
       "      <td>1</td>\n",
       "      <td>S</td>\n",
       "      <td>N</td>\n",
       "      <td>50.000000</td>\n",
       "      <td>50.000000</td>\n",
       "      <td>50.000000</td>\n",
       "      <td>0.000000</td>\n",
       "    </tr>\n",
       "    <tr>\n",
       "      <th>9</th>\n",
       "      <td>1000004</td>\n",
       "      <td>101187943</td>\n",
       "      <td>1</td>\n",
       "      <td>S</td>\n",
       "      <td>N</td>\n",
       "      <td>943.100000</td>\n",
       "      <td>943.100000</td>\n",
       "      <td>943.100000</td>\n",
       "      <td>0.000000</td>\n",
       "    </tr>\n",
       "  </tbody>\n",
       "</table>\n",
       "</div>"
      ],
      "text/plain": [
       "   Account_ID   EVENT_ID  TRANSACTION_COUNT STATUS_ID INPLAY_BET  \\\n",
       "0     1000002  101187238                  6         C          N   \n",
       "1     1000002  101187238                  2         S          N   \n",
       "2     1000002  101187238                 43         S          Y   \n",
       "3     1000002  101187943                  8         C          N   \n",
       "4     1000002  101187943                 69         S          Y   \n",
       "5     1000002  101191295                  2         S          N   \n",
       "6     1000002  101191295                 11         S          Y   \n",
       "7     1000003  101187238                  1         S          N   \n",
       "8     1000003  101187943                  1         S          N   \n",
       "9     1000004  101187943                  1         S          N   \n",
       "\n",
       "   AVG_BET_SIZE  MAX_BET_SIZE  MIN_BET_SIZE  STDEV_BET_SIZE  \n",
       "0     76.192150    189.690000      7.587600       76.803761  \n",
       "1    278.844300    379.380000    178.308600      142.178950  \n",
       "2    142.274117    758.760000      3.793800      190.065261  \n",
       "3    169.758000    471.550000      3.772400      188.339556  \n",
       "4    182.086641    692.838984      3.772400      150.043870  \n",
       "5    118.650076    192.520000     44.780152      104.467848  \n",
       "6     68.138079    248.350800     11.377932       79.751261  \n",
       "7     20.000000     20.000000     20.000000        0.000000  \n",
       "8     50.000000     50.000000     50.000000        0.000000  \n",
       "9    943.100000    943.100000    943.100000        0.000000  "
      ]
     },
     "execution_count": 67,
     "metadata": {},
     "output_type": "execute_result"
    }
   ],
   "source": [
    "dat.head(10)"
   ]
  },
  {
   "cell_type": "code",
   "execution_count": 3,
   "metadata": {
    "collapsed": true
   },
   "outputs": [],
   "source": [
    "dat_by_account = dat.groupby('Account_ID')"
   ]
  },
  {
   "cell_type": "code",
   "execution_count": 4,
   "metadata": {
    "collapsed": true
   },
   "outputs": [],
   "source": [
    "def avg_bet_size_game(df):\n",
    "    total_size = (df.TRANSACTION_COUNT * df.AVG_BET_SIZE).sum()\n",
    "    return total_size / len(set(df.EVENT_ID.tolist()))"
   ]
  },
  {
   "cell_type": "code",
   "execution_count": 5,
   "metadata": {
    "collapsed": true
   },
   "outputs": [],
   "source": [
    "last_bet_game = dat_by_account.apply(avg_bet_size_game)"
   ]
  },
  {
   "cell_type": "code",
   "execution_count": 7,
   "metadata": {
    "collapsed": false
   },
   "outputs": [
    {
     "data": {
      "text/plain": [
       "count       13087.000000\n",
       "mean        30906.848831\n",
       "std        633704.309849\n",
       "min             2.773416\n",
       "25%            50.000000\n",
       "50%           265.721082\n",
       "75%          2047.412958\n",
       "max      53420006.337192\n",
       "dtype: float64"
      ]
     },
     "execution_count": 7,
     "metadata": {},
     "output_type": "execute_result"
    }
   ],
   "source": [
    "last_bet_game.describe()"
   ]
  },
  {
   "cell_type": "code",
   "execution_count": 20,
   "metadata": {
    "collapsed": true
   },
   "outputs": [],
   "source": [
    "last_bet_game = last_bet_game.loc[submit.Account_ID.tolist()]"
   ]
  },
  {
   "cell_type": "code",
   "execution_count": 21,
   "metadata": {
    "collapsed": false
   },
   "outputs": [
    {
     "data": {
      "text/plain": [
       "(7374,)"
      ]
     },
     "execution_count": 21,
     "metadata": {},
     "output_type": "execute_result"
    }
   ],
   "source": [
    "last_bet_game.shape"
   ]
  },
  {
   "cell_type": "code",
   "execution_count": 14,
   "metadata": {
    "collapsed": false
   },
   "outputs": [
    {
     "data": {
      "text/plain": [
       "13087"
      ]
     },
     "execution_count": 14,
     "metadata": {},
     "output_type": "execute_result"
    }
   ],
   "source": [
    "dat.Account_ID.nunique()"
   ]
  },
  {
   "cell_type": "code",
   "execution_count": 4,
   "metadata": {
    "collapsed": false
   },
   "outputs": [
    {
     "data": {
      "text/plain": [
       "101187238    20100\n",
       "101187943    19407\n",
       "101191295    13563\n",
       "dtype: int64"
      ]
     },
     "execution_count": 4,
     "metadata": {},
     "output_type": "execute_result"
    }
   ],
   "source": [
    "dat.EVENT_ID.value_counts()"
   ]
  },
  {
   "cell_type": "code",
   "execution_count": 5,
   "metadata": {
    "collapsed": false
   },
   "outputs": [
    {
     "data": {
      "text/plain": [
       "S    38020\n",
       "C    13591\n",
       "L     1459\n",
       "dtype: int64"
      ]
     },
     "execution_count": 5,
     "metadata": {},
     "output_type": "execute_result"
    }
   ],
   "source": [
    "dat.STATUS_ID.value_counts()"
   ]
  },
  {
   "cell_type": "code",
   "execution_count": 8,
   "metadata": {
    "collapsed": true
   },
   "outputs": [],
   "source": [
    "submit = pd.read_csv('sample_submission_bet_size.csv')"
   ]
  },
  {
   "cell_type": "code",
   "execution_count": 9,
   "metadata": {
    "collapsed": true
   },
   "outputs": [],
   "source": [
    "submit.columns = ['Account_ID', 'Prediction']"
   ]
  },
  {
   "cell_type": "code",
   "execution_count": 10,
   "metadata": {
    "collapsed": false
   },
   "outputs": [
    {
     "data": {
      "text/html": [
       "<div>\n",
       "<table border=\"1\" class=\"dataframe\">\n",
       "  <thead>\n",
       "    <tr style=\"text-align: right;\">\n",
       "      <th></th>\n",
       "      <th>Account_ID</th>\n",
       "      <th>Prediction</th>\n",
       "    </tr>\n",
       "  </thead>\n",
       "  <tbody>\n",
       "    <tr>\n",
       "      <th>0</th>\n",
       "      <td>1004240</td>\n",
       "      <td>19027.790500</td>\n",
       "    </tr>\n",
       "    <tr>\n",
       "      <th>1</th>\n",
       "      <td>1009742</td>\n",
       "      <td>530423.584971</td>\n",
       "    </tr>\n",
       "    <tr>\n",
       "      <th>2</th>\n",
       "      <td>1003908</td>\n",
       "      <td>2264.014397</td>\n",
       "    </tr>\n",
       "    <tr>\n",
       "      <th>3</th>\n",
       "      <td>1020888</td>\n",
       "      <td>657.100800</td>\n",
       "    </tr>\n",
       "    <tr>\n",
       "      <th>4</th>\n",
       "      <td>1010074</td>\n",
       "      <td>2709.854433</td>\n",
       "    </tr>\n",
       "  </tbody>\n",
       "</table>\n",
       "</div>"
      ],
      "text/plain": [
       "   Account_ID     Prediction\n",
       "0     1004240   19027.790500\n",
       "1     1009742  530423.584971\n",
       "2     1003908    2264.014397\n",
       "3     1020888     657.100800\n",
       "4     1010074    2709.854433"
      ]
     },
     "execution_count": 10,
     "metadata": {},
     "output_type": "execute_result"
    }
   ],
   "source": [
    "submit.head()"
   ]
  },
  {
   "cell_type": "code",
   "execution_count": 7,
   "metadata": {
    "collapsed": false
   },
   "outputs": [
    {
     "data": {
      "text/plain": [
       "(7374, 2)"
      ]
     },
     "execution_count": 7,
     "metadata": {},
     "output_type": "execute_result"
    }
   ],
   "source": [
    "submit.shape"
   ]
  },
  {
   "cell_type": "code",
   "execution_count": 8,
   "metadata": {
    "collapsed": false
   },
   "outputs": [],
   "source": [
    "final = dat.loc[dat.Account_ID.isin(submit.Account_ID)]"
   ]
  },
  {
   "cell_type": "code",
   "execution_count": 9,
   "metadata": {
    "collapsed": true
   },
   "outputs": [],
   "source": [
    "final_by_account = final.groupby('Account_ID')"
   ]
  },
  {
   "cell_type": "code",
   "execution_count": 131,
   "metadata": {
    "collapsed": true
   },
   "outputs": [],
   "source": [
    "event = final_by_account['EVENT_ID'].nunique()"
   ]
  },
  {
   "cell_type": "code",
   "execution_count": 133,
   "metadata": {
    "collapsed": false
   },
   "outputs": [
    {
     "data": {
      "text/plain": [
       "3    2990\n",
       "2    2302\n",
       "1    2082\n",
       "dtype: int64"
      ]
     },
     "execution_count": 133,
     "metadata": {},
     "output_type": "execute_result"
    }
   ],
   "source": [
    "# how many of them have bet on how many events\n",
    "event.value_counts()"
   ]
  },
  {
   "cell_type": "code",
   "execution_count": 4,
   "metadata": {
    "collapsed": true
   },
   "outputs": [],
   "source": [
    "import glob"
   ]
  },
  {
   "cell_type": "code",
   "execution_count": 5,
   "metadata": {
    "collapsed": false
   },
   "outputs": [],
   "source": [
    "filenames = glob.glob('Datathon*.csv')"
   ]
  },
  {
   "cell_type": "code",
   "execution_count": 6,
   "metadata": {
    "collapsed": false
   },
   "outputs": [
    {
     "data": {
      "text/plain": [
       "['DatathonWCDataGames1-10.csv',\n",
       " 'DatathonWCDataGames11-20.csv',\n",
       " 'DatathonWCDataGames21-30.csv',\n",
       " 'DatathonWCDataGames31-40.csv',\n",
       " 'DatathonWCDataGamesQTRFinals.csv']"
      ]
     },
     "execution_count": 6,
     "metadata": {},
     "output_type": "execute_result"
    }
   ],
   "source": [
    "filenames"
   ]
  },
  {
   "cell_type": "code",
   "execution_count": 7,
   "metadata": {
    "collapsed": false
   },
   "outputs": [
    {
     "name": "stdout",
     "output_type": "stream",
     "text": [
      "0\n",
      "1"
     ]
    },
    {
     "name": "stderr",
     "output_type": "stream",
     "text": [
      "/Users/feizhan/miniconda/envs/py3_env/lib/python3.4/site-packages/pandas/io/parsers.py:1170: DtypeWarning: Columns (16) have mixed types. Specify dtype option on import or set low_memory=False.\n",
      "  data = self._reader.read(nrows)\n",
      "/Users/feizhan/miniconda/envs/py3_env/lib/python3.4/site-packages/pandas/io/parsers.py:1170: DtypeWarning: Columns (14,16) have mixed types. Specify dtype option on import or set low_memory=False.\n",
      "  data = self._reader.read(nrows)\n"
     ]
    },
    {
     "name": "stdout",
     "output_type": "stream",
     "text": [
      "\n",
      "2\n",
      "3\n",
      "4\n"
     ]
    }
   ],
   "source": [
    "pre_dat = pd.DataFrame({})\n",
    "for ind, filename in enumerate(filenames):\n",
    "    print(ind)\n",
    "    tmp_dat = pd.read_csv(filename)\n",
    "    pre_dat = pre_dat.append(tmp_dat)    \n",
    "pre_dat.columns = ['BET_ID', 'BET_TRANS_ID', 'MATCH_BET_ID', 'ACCOUNT_ID',\n",
    "       'COUNTRY_OF_RESIDENCE_NAME', 'PARENT_EVENT_ID', 'EVENT_ID', 'MATCH',\n",
    "       'EVENT_NAME', 'EVENT_DT', 'OFF_DT', 'BID_TYP', 'STATUS_ID',\n",
    "       'PLACED_DATE', 'TAKEN_DATE', 'SETTLED_DATE', 'CANCELLED_DATE',\n",
    "       'SELECTION_NAME', 'PERSISTENCE_TYPE', 'BET_PRICE', 'PRICE_TAKEN',\n",
    "       'INPLAY_BET', 'BET_SIZE', 'PROFIT_LOSS']\n",
    "peek_dat = pd.read_csv('DSMDatathon_samplefile.txt', sep='\\t')\n",
    "pre_dat = peek_dat.append(pre_dat)"
   ]
  },
  {
   "cell_type": "code",
   "execution_count": 8,
   "metadata": {
    "collapsed": true
   },
   "outputs": [],
   "source": [
    "pre_dat.loc[:, 'BID_TYP'] = pre_dat.BID_TYP.str.strip(' ')\n",
    "pre_dat.loc[:, 'STATUS_ID'] = pre_dat.STATUS_ID.str.strip(' ')\n",
    "# correct the profit loss\n",
    "c1 = ((pre_dat.BID_TYP == 'B') & (pre_dat.PROFIT_LOSS > 0))\n",
    "c2 = ((pre_dat.BID_TYP == 'B') & (pre_dat.PROFIT_LOSS < 0))\n",
    "c3 = ((pre_dat.BID_TYP == 'L') & (pre_dat.PROFIT_LOSS > 0))\n",
    "c4 = ((pre_dat.BID_TYP == 'L') & (pre_dat.PROFIT_LOSS < 0))\n",
    "pre_dat.loc[c1.values, 'correct_profit_loss'] = pre_dat.loc[c1.values, 'BET_SIZE'] * (pre_dat.loc[c1.values, 'PRICE_TAKEN'] -1)\n",
    "pre_dat.loc[c2.values, 'correct_profit_loss'] = - pre_dat.loc[c2.values, 'BET_SIZE']\n",
    "pre_dat.loc[c3.values, 'correct_profit_loss'] = pre_dat.loc[c3.values, 'BET_SIZE']\n",
    "pre_dat.loc[c4.values, 'correct_profit_loss'] = - pre_dat.loc[c4.values, 'BET_SIZE'] * (pre_dat.loc[c4.values, 'PRICE_TAKEN'] -1)"
   ]
  },
  {
   "cell_type": "code",
   "execution_count": 16,
   "metadata": {
    "collapsed": true
   },
   "outputs": [],
   "source": [
    "def pre_avg_bet_game(df):\n",
    "    total_size = df.BET_SIZE.sum()\n",
    "    return total_size / len(set(df.EVENT_ID))"
   ]
  },
  {
   "cell_type": "code",
   "execution_count": 42,
   "metadata": {
    "collapsed": false
   },
   "outputs": [],
   "source": [
    "pre_dat = pre_dat.loc[pre_dat.ACCOUNT_ID.isin(submit.Account_ID)]"
   ]
  },
  {
   "cell_type": "code",
   "execution_count": 9,
   "metadata": {
    "collapsed": false
   },
   "outputs": [],
   "source": [
    "pre_dat = pre_dat.loc[(pre_dat.STATUS_ID == 'S').values]"
   ]
  },
  {
   "cell_type": "code",
   "execution_count": 13,
   "metadata": {
    "collapsed": true
   },
   "outputs": [],
   "source": [
    "# to see winners and losers percentage for each game\n",
    "pre_dat_by_game_account = pre_dat.groupby(['MATCH', 'ACCOUNT_ID'])\n",
    "net_profit = pre_dat_by_game_account['correct_profit_loss'].sum()\n",
    "is_profit = net_profit > 0\n",
    "is_profit_by_game = is_profit.groupby(level=0)\n",
    "perc = is_profit_by_game.sum() / is_profit_by_game.size() * 100"
   ]
  },
  {
   "cell_type": "code",
   "execution_count": 18,
   "metadata": {
    "collapsed": false
   },
   "outputs": [
    {
     "data": {
      "text/plain": [
       "<matplotlib.axes._subplots.AxesSubplot at 0x122d8a6d8>"
      ]
     },
     "execution_count": 18,
     "metadata": {},
     "output_type": "execute_result"
    },
    {
     "data": {
      "image/png": "[encoded data removed]",
      "text/plain": [
       "<matplotlib.figure.Figure at 0x122d8af98>"
      ]
     },
     "metadata": {},
     "output_type": "display_data"
    }
   ],
   "source": [
    "# eventually I wanna see a dual axis charts, bar charts is for number of punters,\n",
    "# line charts is for percentage of winners\n",
    "plt.figure(figsize=(10, 10))\n",
    "perc.plot(kind='barh')"
   ]
  },
  {
   "cell_type": "code",
   "execution_count": 17,
   "metadata": {
    "collapsed": true
   },
   "outputs": [],
   "source": [
    "pre_dat_by_accountid = pre_dat.groupby('ACCOUNT_ID')"
   ]
  },
  {
   "cell_type": "code",
   "execution_count": 18,
   "metadata": {
    "collapsed": true
   },
   "outputs": [],
   "source": [
    "pre_game_bet = pre_dat_by_accountid.apply(pre_avg_bet_game)"
   ]
  },
  {
   "cell_type": "code",
   "execution_count": 19,
   "metadata": {
    "collapsed": false
   },
   "outputs": [
    {
     "data": {
      "text/plain": [
       "ACCOUNT_ID\n",
       "682     8770.514000\n",
       "1011      98.990000\n",
       "1534    2049.706738\n",
       "1887     595.919800\n",
       "2155      49.495000\n",
       "dtype: float64"
      ]
     },
     "execution_count": 19,
     "metadata": {},
     "output_type": "execute_result"
    }
   ],
   "source": [
    "pre_game_bet.head()"
   ]
  },
  {
   "cell_type": "code",
   "execution_count": 22,
   "metadata": {
    "collapsed": true
   },
   "outputs": [],
   "source": [
    "pre_game_bet = pre_game_bet.loc[submit.Account_ID.tolist()]"
   ]
  },
  {
   "cell_type": "code",
   "execution_count": 23,
   "metadata": {
    "collapsed": false
   },
   "outputs": [
    {
     "data": {
      "text/plain": [
       "(7374,)"
      ]
     },
     "execution_count": 23,
     "metadata": {},
     "output_type": "execute_result"
    }
   ],
   "source": [
    "pre_game_bet.shape"
   ]
  },
  {
   "cell_type": "code",
   "execution_count": 31,
   "metadata": {
    "collapsed": false
   },
   "outputs": [
    {
     "data": {
      "text/plain": [
       "1007874"
      ]
     },
     "execution_count": 31,
     "metadata": {},
     "output_type": "execute_result"
    }
   ],
   "source": [
    "(last_bet_game / pre_game_bet).idxmax()"
   ]
  },
  {
   "cell_type": "code",
   "execution_count": 32,
   "metadata": {
    "collapsed": false
   },
   "outputs": [
    {
     "data": {
      "text/plain": [
       "801106.5054500004"
      ]
     },
     "execution_count": 32,
     "metadata": {},
     "output_type": "execute_result"
    }
   ],
   "source": [
    "last_bet_game.loc[1007874]"
   ]
  },
  {
   "cell_type": "code",
   "execution_count": 33,
   "metadata": {
    "collapsed": false
   },
   "outputs": [
    {
     "data": {
      "text/plain": [
       "352.70224999999999"
      ]
     },
     "execution_count": 33,
     "metadata": {},
     "output_type": "execute_result"
    }
   ],
   "source": [
    "pre_game_bet.loc[1007874]"
   ]
  },
  {
   "cell_type": "code",
   "execution_count": 34,
   "metadata": {
    "collapsed": false
   },
   "outputs": [
    {
     "data": {
      "text/html": [
       "<div>\n",
       "<table border=\"1\" class=\"dataframe\">\n",
       "  <thead>\n",
       "    <tr style=\"text-align: right;\">\n",
       "      <th></th>\n",
       "      <th>Account_ID</th>\n",
       "      <th>EVENT_ID</th>\n",
       "      <th>TRANSACTION_COUNT</th>\n",
       "      <th>STATUS_ID</th>\n",
       "      <th>INPLAY_BET</th>\n",
       "      <th>AVG_BET_SIZE</th>\n",
       "      <th>MAX_BET_SIZE</th>\n",
       "      <th>MIN_BET_SIZE</th>\n",
       "      <th>STDEV_BET_SIZE</th>\n",
       "    </tr>\n",
       "  </thead>\n",
       "  <tbody>\n",
       "    <tr>\n",
       "      <th>20535</th>\n",
       "      <td>1007874</td>\n",
       "      <td>101187238</td>\n",
       "      <td>2</td>\n",
       "      <td>C</td>\n",
       "      <td>N</td>\n",
       "      <td>96865.103655</td>\n",
       "      <td>126460.006323</td>\n",
       "      <td>67270.200987</td>\n",
       "      <td>41853.512730</td>\n",
       "    </tr>\n",
       "    <tr>\n",
       "      <th>20536</th>\n",
       "      <td>1007874</td>\n",
       "      <td>101187238</td>\n",
       "      <td>1</td>\n",
       "      <td>C</td>\n",
       "      <td>N</td>\n",
       "      <td>126460.006323</td>\n",
       "      <td>126460.006323</td>\n",
       "      <td>126460.006323</td>\n",
       "      <td>0.000000</td>\n",
       "    </tr>\n",
       "    <tr>\n",
       "      <th>20537</th>\n",
       "      <td>1007874</td>\n",
       "      <td>101187238</td>\n",
       "      <td>23</td>\n",
       "      <td>S</td>\n",
       "      <td>N</td>\n",
       "      <td>4893.451899</td>\n",
       "      <td>23835.705609</td>\n",
       "      <td>0.948450</td>\n",
       "      <td>7119.065585</td>\n",
       "    </tr>\n",
       "    <tr>\n",
       "      <th>20538</th>\n",
       "      <td>1007874</td>\n",
       "      <td>101187238</td>\n",
       "      <td>129</td>\n",
       "      <td>S</td>\n",
       "      <td>N</td>\n",
       "      <td>2244.910274</td>\n",
       "      <td>50584.006323</td>\n",
       "      <td>3.793800</td>\n",
       "      <td>6691.629148</td>\n",
       "    </tr>\n",
       "    <tr>\n",
       "      <th>20539</th>\n",
       "      <td>1007874</td>\n",
       "      <td>101187238</td>\n",
       "      <td>79</td>\n",
       "      <td>S</td>\n",
       "      <td>Y</td>\n",
       "      <td>4923.936523</td>\n",
       "      <td>62581.879854</td>\n",
       "      <td>3.793800</td>\n",
       "      <td>9749.773472</td>\n",
       "    </tr>\n",
       "    <tr>\n",
       "      <th>20540</th>\n",
       "      <td>1007874</td>\n",
       "      <td>101187238</td>\n",
       "      <td>79</td>\n",
       "      <td>S</td>\n",
       "      <td>Y</td>\n",
       "      <td>2884.568768</td>\n",
       "      <td>50584.006323</td>\n",
       "      <td>2.181435</td>\n",
       "      <td>7433.829992</td>\n",
       "    </tr>\n",
       "    <tr>\n",
       "      <th>20541</th>\n",
       "      <td>1007874</td>\n",
       "      <td>101187943</td>\n",
       "      <td>6</td>\n",
       "      <td>C</td>\n",
       "      <td>N</td>\n",
       "      <td>22281.822065</td>\n",
       "      <td>26406.800000</td>\n",
       "      <td>10748.152322</td>\n",
       "      <td>5935.130896</td>\n",
       "    </tr>\n",
       "    <tr>\n",
       "      <th>20542</th>\n",
       "      <td>1007874</td>\n",
       "      <td>101187943</td>\n",
       "      <td>3</td>\n",
       "      <td>C</td>\n",
       "      <td>N</td>\n",
       "      <td>26825.951364</td>\n",
       "      <td>30179.200000</td>\n",
       "      <td>25149.327046</td>\n",
       "      <td>2903.998504</td>\n",
       "    </tr>\n",
       "    <tr>\n",
       "      <th>20543</th>\n",
       "      <td>1007874</td>\n",
       "      <td>101187943</td>\n",
       "      <td>125</td>\n",
       "      <td>S</td>\n",
       "      <td>Y</td>\n",
       "      <td>1911.171628</td>\n",
       "      <td>25791.389526</td>\n",
       "      <td>1.131720</td>\n",
       "      <td>4189.505123</td>\n",
       "    </tr>\n",
       "    <tr>\n",
       "      <th>20544</th>\n",
       "      <td>1007874</td>\n",
       "      <td>101187943</td>\n",
       "      <td>25</td>\n",
       "      <td>S</td>\n",
       "      <td>Y</td>\n",
       "      <td>6473.437646</td>\n",
       "      <td>26723.228912</td>\n",
       "      <td>25.218494</td>\n",
       "      <td>9727.497184</td>\n",
       "    </tr>\n",
       "    <tr>\n",
       "      <th>20545</th>\n",
       "      <td>1007874</td>\n",
       "      <td>101191295</td>\n",
       "      <td>1</td>\n",
       "      <td>C</td>\n",
       "      <td>N</td>\n",
       "      <td>51338.673084</td>\n",
       "      <td>51338.673084</td>\n",
       "      <td>51338.673084</td>\n",
       "      <td>0.000000</td>\n",
       "    </tr>\n",
       "    <tr>\n",
       "      <th>20546</th>\n",
       "      <td>1007874</td>\n",
       "      <td>101191295</td>\n",
       "      <td>1</td>\n",
       "      <td>L</td>\n",
       "      <td>N</td>\n",
       "      <td>128346.673084</td>\n",
       "      <td>128346.673084</td>\n",
       "      <td>128346.673084</td>\n",
       "      <td>0.000000</td>\n",
       "    </tr>\n",
       "    <tr>\n",
       "      <th>20547</th>\n",
       "      <td>1007874</td>\n",
       "      <td>101191295</td>\n",
       "      <td>115</td>\n",
       "      <td>S</td>\n",
       "      <td>N</td>\n",
       "      <td>892.846488</td>\n",
       "      <td>27705.129656</td>\n",
       "      <td>3.850400</td>\n",
       "      <td>2799.152199</td>\n",
       "    </tr>\n",
       "    <tr>\n",
       "      <th>20548</th>\n",
       "      <td>1007874</td>\n",
       "      <td>101191295</td>\n",
       "      <td>34</td>\n",
       "      <td>S</td>\n",
       "      <td>Y</td>\n",
       "      <td>4907.373304</td>\n",
       "      <td>51338.673084</td>\n",
       "      <td>2.579768</td>\n",
       "      <td>9963.783754</td>\n",
       "    </tr>\n",
       "  </tbody>\n",
       "</table>\n",
       "</div>"
      ],
      "text/plain": [
       "       Account_ID   EVENT_ID  TRANSACTION_COUNT STATUS_ID INPLAY_BET  \\\n",
       "20535     1007874  101187238                  2         C          N   \n",
       "20536     1007874  101187238                  1         C          N   \n",
       "20537     1007874  101187238                 23         S          N   \n",
       "20538     1007874  101187238                129         S          N   \n",
       "20539     1007874  101187238                 79         S          Y   \n",
       "20540     1007874  101187238                 79         S          Y   \n",
       "20541     1007874  101187943                  6         C          N   \n",
       "20542     1007874  101187943                  3         C          N   \n",
       "20543     1007874  101187943                125         S          Y   \n",
       "20544     1007874  101187943                 25         S          Y   \n",
       "20545     1007874  101191295                  1         C          N   \n",
       "20546     1007874  101191295                  1         L          N   \n",
       "20547     1007874  101191295                115         S          N   \n",
       "20548     1007874  101191295                 34         S          Y   \n",
       "\n",
       "        AVG_BET_SIZE   MAX_BET_SIZE   MIN_BET_SIZE  STDEV_BET_SIZE  \n",
       "20535   96865.103655  126460.006323   67270.200987    41853.512730  \n",
       "20536  126460.006323  126460.006323  126460.006323        0.000000  \n",
       "20537    4893.451899   23835.705609       0.948450     7119.065585  \n",
       "20538    2244.910274   50584.006323       3.793800     6691.629148  \n",
       "20539    4923.936523   62581.879854       3.793800     9749.773472  \n",
       "20540    2884.568768   50584.006323       2.181435     7433.829992  \n",
       "20541   22281.822065   26406.800000   10748.152322     5935.130896  \n",
       "20542   26825.951364   30179.200000   25149.327046     2903.998504  \n",
       "20543    1911.171628   25791.389526       1.131720     4189.505123  \n",
       "20544    6473.437646   26723.228912      25.218494     9727.497184  \n",
       "20545   51338.673084   51338.673084   51338.673084        0.000000  \n",
       "20546  128346.673084  128346.673084  128346.673084        0.000000  \n",
       "20547     892.846488   27705.129656       3.850400     2799.152199  \n",
       "20548    4907.373304   51338.673084       2.579768     9963.783754  "
      ]
     },
     "execution_count": 34,
     "metadata": {},
     "output_type": "execute_result"
    }
   ],
   "source": [
    "dat.loc[(dat.Account_ID == 1007874).values]"
   ]
  },
  {
   "cell_type": "code",
   "execution_count": 27,
   "metadata": {
    "collapsed": false
   },
   "outputs": [
    {
     "data": {
      "text/plain": [
       "ACCOUNT_ID\n",
       "1004240     15609.040322\n",
       "1009742    338145.578932\n",
       "1003908      1299.918483\n",
       "1020888        96.370000\n",
       "1010074      2784.282930\n",
       "dtype: float64"
      ]
     },
     "execution_count": 27,
     "metadata": {},
     "output_type": "execute_result"
    }
   ],
   "source": [
    "pre_game_bet.head()"
   ]
  },
  {
   "cell_type": "code",
   "execution_count": 366,
   "metadata": {
    "collapsed": true
   },
   "outputs": [],
   "source": [
    "pre_dat_bet_freq = pre_dat_by_accountid['EVENT_ID'].apply(lambda x: len(set(x)))"
   ]
  },
  {
   "cell_type": "code",
   "execution_count": 383,
   "metadata": {
    "collapsed": false
   },
   "outputs": [
    {
     "data": {
      "text/plain": [
       "<matplotlib.axes._subplots.AxesSubplot at 0x1c2816080>"
      ]
     },
     "execution_count": 383,
     "metadata": {},
     "output_type": "execute_result"
    },
    {
     "data": {
      "image/png": "[encoded data removed]",
      "text/plain": [
       "<matplotlib.figure.Figure at 0x1c25bb0b8>"
      ]
     },
     "metadata": {},
     "output_type": "display_data"
    }
   ],
   "source": [
    "pre_dat_bet_freq.value_counts().sort_index().plot(kind='bar', legend=False)"
   ]
  },
  {
   "cell_type": "code",
   "execution_count": 378,
   "metadata": {
    "collapsed": true
   },
   "outputs": [],
   "source": [
    "subset = pre_dat.loc[pre_dat.ACCOUNT_ID.isin(submit.Account_ID)]"
   ]
  },
  {
   "cell_type": "code",
   "execution_count": 379,
   "metadata": {
    "collapsed": true
   },
   "outputs": [],
   "source": [
    "subset_by_accountid = subset.groupby('ACCOUNT_ID')"
   ]
  },
  {
   "cell_type": "code",
   "execution_count": 380,
   "metadata": {
    "collapsed": true
   },
   "outputs": [],
   "source": [
    "subset_bet_freq = subset_by_accountid['EVENT_ID'].apply(lambda x: len(set(x)))"
   ]
  },
  {
   "cell_type": "code",
   "execution_count": 384,
   "metadata": {
    "collapsed": false
   },
   "outputs": [
    {
     "data": {
      "text/plain": [
       "<matplotlib.axes._subplots.AxesSubplot at 0x1c28739e8>"
      ]
     },
     "execution_count": 384,
     "metadata": {},
     "output_type": "execute_result"
    },
    {
     "data": {
      "image/png": "[encoded data removed]",
      "text/plain": [
       "<matplotlib.figure.Figure at 0x1670d3128>"
      ]
     },
     "metadata": {},
     "output_type": "display_data"
    }
   ],
   "source": [
    "subset_bet_freq.value_counts().sort_index().plot(kind='bar', legend=False)"
   ]
  },
  {
   "cell_type": "code",
   "execution_count": 385,
   "metadata": {
    "collapsed": true
   },
   "outputs": [],
   "source": [
    "final_bet_freq = final_by_account['EVENT_ID'].apply(lambda x: len(set(x)))"
   ]
  },
  {
   "cell_type": "code",
   "execution_count": 387,
   "metadata": {
    "collapsed": false
   },
   "outputs": [],
   "source": [
    "final_bet_freq.name = 'final_bet_freq'"
   ]
  },
  {
   "cell_type": "code",
   "execution_count": 394,
   "metadata": {
    "collapsed": false
   },
   "outputs": [],
   "source": [
    "subset_bet_freq = pd.concat([subset_bet_freq, final_bet_freq], axis=1)"
   ]
  },
  {
   "cell_type": "code",
   "execution_count": 395,
   "metadata": {
    "collapsed": false
   },
   "outputs": [
    {
     "data": {
      "text/html": [
       "<div>\n",
       "<table border=\"1\" class=\"dataframe\">\n",
       "  <thead>\n",
       "    <tr style=\"text-align: right;\">\n",
       "      <th></th>\n",
       "      <th>EVENT_ID</th>\n",
       "      <th>final_bet_freq</th>\n",
       "    </tr>\n",
       "  </thead>\n",
       "  <tbody>\n",
       "    <tr>\n",
       "      <th>1000002</th>\n",
       "      <td>26</td>\n",
       "      <td>3</td>\n",
       "    </tr>\n",
       "    <tr>\n",
       "      <th>1000004</th>\n",
       "      <td>12</td>\n",
       "      <td>1</td>\n",
       "    </tr>\n",
       "    <tr>\n",
       "      <th>1000005</th>\n",
       "      <td>8</td>\n",
       "      <td>2</td>\n",
       "    </tr>\n",
       "    <tr>\n",
       "      <th>1000010</th>\n",
       "      <td>24</td>\n",
       "      <td>2</td>\n",
       "    </tr>\n",
       "    <tr>\n",
       "      <th>1000014</th>\n",
       "      <td>1</td>\n",
       "      <td>3</td>\n",
       "    </tr>\n",
       "  </tbody>\n",
       "</table>\n",
       "</div>"
      ],
      "text/plain": [
       "         EVENT_ID  final_bet_freq\n",
       "1000002        26               3\n",
       "1000004        12               1\n",
       "1000005         8               2\n",
       "1000010        24               2\n",
       "1000014         1               3"
      ]
     },
     "execution_count": 395,
     "metadata": {},
     "output_type": "execute_result"
    }
   ],
   "source": [
    "subset_bet_freq.head()"
   ]
  },
  {
   "cell_type": "code",
   "execution_count": 400,
   "metadata": {
    "collapsed": false
   },
   "outputs": [
    {
     "data": {
      "text/plain": [
       "<matplotlib.axes._subplots.AxesSubplot at 0x1674b16d8>"
      ]
     },
     "execution_count": 400,
     "metadata": {},
     "output_type": "execute_result"
    },
    {
     "data": {
      "image/png": "[encoded data removed]",
      "text/plain": [
       "<matplotlib.figure.Figure at 0x17e053080>"
      ]
     },
     "metadata": {},
     "output_type": "display_data"
    }
   ],
   "source": [
    "plt.figure(figsize=(10, 6))\n",
    "subset_bet_freq.loc[(subset_bet_freq.final_bet_freq == 3).values, 'EVENT_ID'].value_counts().sort_index().plot(kind='bar', legend=False)"
   ]
  },
  {
   "cell_type": "code",
   "execution_count": 401,
   "metadata": {
    "collapsed": false
   },
   "outputs": [
    {
     "data": {
      "text/plain": [
       "<matplotlib.axes._subplots.AxesSubplot at 0x1674b18d0>"
      ]
     },
     "execution_count": 401,
     "metadata": {},
     "output_type": "execute_result"
    },
    {
     "data": {
      "image/png": "[encoded data removed]",
      "text/plain": [
       "<matplotlib.figure.Figure at 0x17e27c978>"
      ]
     },
     "metadata": {},
     "output_type": "display_data"
    }
   ],
   "source": [
    "plt.figure(figsize=(10, 6))\n",
    "subset_bet_freq.loc[(subset_bet_freq.final_bet_freq == 2).values, 'EVENT_ID'].value_counts().sort_index().plot(kind='bar', legend=False)"
   ]
  },
  {
   "cell_type": "code",
   "execution_count": 402,
   "metadata": {
    "collapsed": false
   },
   "outputs": [
    {
     "data": {
      "text/plain": [
       "<matplotlib.axes._subplots.AxesSubplot at 0x1670e6be0>"
      ]
     },
     "execution_count": 402,
     "metadata": {},
     "output_type": "execute_result"
    },
    {
     "data": {
      "image/png": "[encoded data removed]",
      "text/plain": [
       "<matplotlib.figure.Figure at 0x195a01470>"
      ]
     },
     "metadata": {},
     "output_type": "display_data"
    }
   ],
   "source": [
    "plt.figure(figsize=(10, 6))\n",
    "subset_bet_freq.loc[(subset_bet_freq.final_bet_freq == 1).values, 'EVENT_ID'].value_counts().sort_index().plot(kind='bar', legend=False)"
   ]
  },
  {
   "cell_type": "code",
   "execution_count": 406,
   "metadata": {
    "collapsed": false
   },
   "outputs": [],
   "source": [
    "new_comers = submit.loc[~submit.Account_ID.isin(pre_dat.ACCOUNT_ID), 'Account_ID'].tolist()\n",
    "new_comer_dat = dat.loc[dat.Account_ID.isin(new_comers)]"
   ]
  },
  {
   "cell_type": "code",
   "execution_count": 409,
   "metadata": {
    "collapsed": false
   },
   "outputs": [
    {
     "data": {
      "text/plain": [
       "1    594\n",
       "2    281\n",
       "3    114\n",
       "dtype: int64"
      ]
     },
     "execution_count": 409,
     "metadata": {},
     "output_type": "execute_result"
    }
   ],
   "source": [
    "new_comer_dat.groupby('Account_ID')['EVENT_ID'].apply(lambda x: len(set(x))).value_counts()"
   ]
  },
  {
   "cell_type": "code",
   "execution_count": 411,
   "metadata": {
    "collapsed": false
   },
   "outputs": [],
   "source": [
    "subset_by_accountid_eventid = subset.groupby(['ACCOUNT_ID', 'EVENT_ID'])"
   ]
  },
  {
   "cell_type": "code",
   "execution_count": 413,
   "metadata": {
    "collapsed": false
   },
   "outputs": [],
   "source": [
    "subset_perf = subset_by_accountid_eventid['correct_profit_loss'].sum()"
   ]
  },
  {
   "cell_type": "code",
   "execution_count": 417,
   "metadata": {
    "collapsed": false
   },
   "outputs": [],
   "source": [
    "is_subset_win = subset_perf.groupby(level=0).apply(lambda x: x > 0)"
   ]
  },
  {
   "cell_type": "code",
   "execution_count": 418,
   "metadata": {
    "collapsed": true
   },
   "outputs": [],
   "source": [
    "is_subset_win.name = 'is_win'"
   ]
  },
  {
   "cell_type": "code",
   "execution_count": 419,
   "metadata": {
    "collapsed": true
   },
   "outputs": [],
   "source": [
    "is_subset_win = is_subset_win.reset_index()"
   ]
  },
  {
   "cell_type": "code",
   "execution_count": 422,
   "metadata": {
    "collapsed": false
   },
   "outputs": [],
   "source": [
    "subset_always_win = is_subset_win.groupby('ACCOUNT_ID')['is_win'].apply(all)"
   ]
  },
  {
   "cell_type": "code",
   "execution_count": 423,
   "metadata": {
    "collapsed": false
   },
   "outputs": [
    {
     "data": {
      "text/plain": [
       "False    5975\n",
       "True      410\n",
       "dtype: int64"
      ]
     },
     "execution_count": 423,
     "metadata": {},
     "output_type": "execute_result"
    }
   ],
   "source": [
    "subset_always_win.value_counts()"
   ]
  },
  {
   "cell_type": "code",
   "execution_count": 424,
   "metadata": {
    "collapsed": false
   },
   "outputs": [
    {
     "data": {
      "text/plain": [
       "1     176\n",
       "2      89\n",
       "3      54\n",
       "4      28\n",
       "5      24\n",
       "6       9\n",
       "7       5\n",
       "9       5\n",
       "8       4\n",
       "11      4\n",
       "10      3\n",
       "12      2\n",
       "17      2\n",
       "26      1\n",
       "15      1\n",
       "18      1\n",
       "19      1\n",
       "40      1\n",
       "dtype: int64"
      ]
     },
     "execution_count": 424,
     "metadata": {},
     "output_type": "execute_result"
    }
   ],
   "source": [
    "# do they bet often? \n",
    "subset.loc[subset.ACCOUNT_ID.isin(subset_always_win.loc[subset_always_win.values].index.tolist())].groupby('ACCOUNT_ID')['EVENT_ID'].apply(lambda x: len(set(x))).value_counts()"
   ]
  },
  {
   "cell_type": "code",
   "execution_count": 428,
   "metadata": {
    "collapsed": false
   },
   "outputs": [],
   "source": [
    "subset_always_win = subset_always_win.loc[submit.Account_ID]"
   ]
  },
  {
   "cell_type": "code",
   "execution_count": 430,
   "metadata": {
    "collapsed": false
   },
   "outputs": [],
   "source": [
    "subset_always_win = subset_always_win.fillna(False)"
   ]
  },
  {
   "cell_type": "code",
   "execution_count": 432,
   "metadata": {
    "collapsed": false
   },
   "outputs": [],
   "source": [
    "subset_always_win.name = 'Prediction'\n",
    "subset_always_win.index.name = 'Account_ID'\n",
    "subset_always_win = subset_always_win.reset_index()"
   ]
  },
  {
   "cell_type": "code",
   "execution_count": 435,
   "metadata": {
    "collapsed": false
   },
   "outputs": [],
   "source": [
    "subset_always_win.loc[:, 'Prediction'] = subset_always_win.Prediction.apply(int)"
   ]
  },
  {
   "cell_type": "code",
   "execution_count": 437,
   "metadata": {
    "collapsed": false
   },
   "outputs": [],
   "source": [
    "subset_always_win.to_csv('always_wins.csv', index=False)"
   ]
  },
  {
   "cell_type": "code",
   "execution_count": 439,
   "metadata": {
    "collapsed": false
   },
   "outputs": [],
   "source": [
    "# now I wanna get the faith each one got on the four teams\n",
    "def loyalty_checker(df, country='Australia'):\n",
    "    is_playing = df.MATCH.str.contains(country)\n",
    "    df = df.loc[is_playing.values]\n",
    "    is_for = ((df.SELECTION_NAME == country) & (df.BID_TYP == 'B')) | ((df.SELECTION_NAME != country) & (df.BID_TYP == 'L'))\n",
    "    return df.loc[is_for].groupby('MATCH')['BET_SIZE'].sum().mean()                                                                                               "
   ]
  },
  {
   "cell_type": "code",
   "execution_count": 483,
   "metadata": {
    "collapsed": false
   },
   "outputs": [],
   "source": [
    "res = subset_by_accountid[['SELECTION_NAME', 'BID_TYP', 'BET_SIZE', 'MATCH']].apply(loyalty_checker, country='India')"
   ]
  },
  {
   "cell_type": "code",
   "execution_count": 470,
   "metadata": {
    "collapsed": true
   },
   "outputs": [],
   "source": [
    "faith_table = pd.DataFrame({})"
   ]
  },
  {
   "cell_type": "code",
   "execution_count": 484,
   "metadata": {
    "collapsed": false
   },
   "outputs": [],
   "source": [
    "res.name = 'India'\n",
    "res = res.reset_index()"
   ]
  },
  {
   "cell_type": "code",
   "execution_count": 469,
   "metadata": {
    "collapsed": false
   },
   "outputs": [
    {
     "data": {
      "text/html": [
       "<div>\n",
       "<table border=\"1\" class=\"dataframe\">\n",
       "  <thead>\n",
       "    <tr style=\"text-align: right;\">\n",
       "      <th></th>\n",
       "      <th>ACCOUNT_ID</th>\n",
       "      <th>South Africa</th>\n",
       "    </tr>\n",
       "  </thead>\n",
       "  <tbody>\n",
       "    <tr>\n",
       "      <th>0</th>\n",
       "      <td>1000002</td>\n",
       "      <td>1881.143613</td>\n",
       "    </tr>\n",
       "    <tr>\n",
       "      <th>1</th>\n",
       "      <td>1000004</td>\n",
       "      <td>367.469625</td>\n",
       "    </tr>\n",
       "    <tr>\n",
       "      <th>2</th>\n",
       "      <td>1000005</td>\n",
       "      <td>5058.250000</td>\n",
       "    </tr>\n",
       "    <tr>\n",
       "      <th>3</th>\n",
       "      <td>1000010</td>\n",
       "      <td>494.751600</td>\n",
       "    </tr>\n",
       "    <tr>\n",
       "      <th>4</th>\n",
       "      <td>1000014</td>\n",
       "      <td>100.000000</td>\n",
       "    </tr>\n",
       "  </tbody>\n",
       "</table>\n",
       "</div>"
      ],
      "text/plain": [
       "   ACCOUNT_ID  South Africa\n",
       "0     1000002   1881.143613\n",
       "1     1000004    367.469625\n",
       "2     1000005   5058.250000\n",
       "3     1000010    494.751600\n",
       "4     1000014    100.000000"
      ]
     },
     "execution_count": 469,
     "metadata": {},
     "output_type": "execute_result"
    }
   ],
   "source": [
    "res.head()"
   ]
  },
  {
   "cell_type": "code",
   "execution_count": 485,
   "metadata": {
    "collapsed": false
   },
   "outputs": [],
   "source": [
    "faith_table = pd.concat([faith_table, res.iloc[:, 1]], axis=1)"
   ]
  },
  {
   "cell_type": "code",
   "execution_count": 487,
   "metadata": {
    "collapsed": false
   },
   "outputs": [
    {
     "data": {
      "text/html": [
       "<div>\n",
       "<table border=\"1\" class=\"dataframe\">\n",
       "  <thead>\n",
       "    <tr style=\"text-align: right;\">\n",
       "      <th></th>\n",
       "      <th>ACCOUNT_ID</th>\n",
       "      <th>South Africa</th>\n",
       "      <th>Australia</th>\n",
       "      <th>New Zealand</th>\n",
       "      <th>India</th>\n",
       "    </tr>\n",
       "  </thead>\n",
       "  <tbody>\n",
       "    <tr>\n",
       "      <th>0</th>\n",
       "      <td>1000002</td>\n",
       "      <td>1881.143613</td>\n",
       "      <td>2900.5274</td>\n",
       "      <td>1963.477738</td>\n",
       "      <td>2608.7174</td>\n",
       "    </tr>\n",
       "    <tr>\n",
       "      <th>1</th>\n",
       "      <td>1000004</td>\n",
       "      <td>367.469625</td>\n",
       "      <td>37.5098</td>\n",
       "      <td>0.000000</td>\n",
       "      <td>0.0000</td>\n",
       "    </tr>\n",
       "    <tr>\n",
       "      <th>2</th>\n",
       "      <td>1000005</td>\n",
       "      <td>5058.250000</td>\n",
       "      <td>1103.1780</td>\n",
       "      <td>0.000000</td>\n",
       "      <td>13643.4375</td>\n",
       "    </tr>\n",
       "    <tr>\n",
       "      <th>3</th>\n",
       "      <td>1000010</td>\n",
       "      <td>494.751600</td>\n",
       "      <td>0.0000</td>\n",
       "      <td>969.700000</td>\n",
       "      <td>795.2424</td>\n",
       "    </tr>\n",
       "    <tr>\n",
       "      <th>4</th>\n",
       "      <td>1000014</td>\n",
       "      <td>100.000000</td>\n",
       "      <td>0.0000</td>\n",
       "      <td>0.000000</td>\n",
       "      <td>0.0000</td>\n",
       "    </tr>\n",
       "  </tbody>\n",
       "</table>\n",
       "</div>"
      ],
      "text/plain": [
       "   ACCOUNT_ID  South Africa  Australia  New Zealand       India\n",
       "0     1000002   1881.143613  2900.5274  1963.477738   2608.7174\n",
       "1     1000004    367.469625    37.5098     0.000000      0.0000\n",
       "2     1000005   5058.250000  1103.1780     0.000000  13643.4375\n",
       "3     1000010    494.751600     0.0000   969.700000    795.2424\n",
       "4     1000014    100.000000     0.0000     0.000000      0.0000"
      ]
     },
     "execution_count": 487,
     "metadata": {},
     "output_type": "execute_result"
    }
   ],
   "source": [
    "faith_table = faith_table.fillna(0)\n",
    "faith_table.head()"
   ]
  },
  {
   "cell_type": "code",
   "execution_count": 488,
   "metadata": {
    "collapsed": false
   },
   "outputs": [],
   "source": [
    "sim_dat = dat.loc[(dat.Account_ID.isin(faith_table.ACCOUNT_ID) & dat.STATUS_ID.isin(['S'])).values]"
   ]
  },
  {
   "cell_type": "code",
   "execution_count": 491,
   "metadata": {
    "collapsed": false
   },
   "outputs": [
    {
     "name": "stderr",
     "output_type": "stream",
     "text": [
      "/Users/feizhan/miniconda/envs/py3_env/lib/python3.4/site-packages/pandas/core/indexing.py:249: SettingWithCopyWarning: \n",
      "A value is trying to be set on a copy of a slice from a DataFrame.\n",
      "Try using .loc[row_indexer,col_indexer] = value instead\n",
      "\n",
      "See the the caveats in the documentation: http://pandas.pydata.org/pandas-docs/stable/indexing.html#indexing-view-versus-copy\n",
      "  self.obj[key] = _infer_fill_value(value)\n",
      "/Users/feizhan/miniconda/envs/py3_env/lib/python3.4/site-packages/pandas/core/indexing.py:415: SettingWithCopyWarning: \n",
      "A value is trying to be set on a copy of a slice from a DataFrame.\n",
      "Try using .loc[row_indexer,col_indexer] = value instead\n",
      "\n",
      "See the the caveats in the documentation: http://pandas.pydata.org/pandas-docs/stable/indexing.html#indexing-view-versus-copy\n",
      "  self.obj[item] = s\n"
     ]
    }
   ],
   "source": [
    "sim_dat.loc[:, 'total'] = sim_dat.TRANSACTION_COUNT * sim_dat.AVG_BET_SIZE"
   ]
  },
  {
   "cell_type": "code",
   "execution_count": 492,
   "metadata": {
    "collapsed": true
   },
   "outputs": [],
   "source": [
    "sim_dat1 = sim_dat[['Account_ID', 'EVENT_ID', 'total']]"
   ]
  },
  {
   "cell_type": "code",
   "execution_count": 495,
   "metadata": {
    "collapsed": false
   },
   "outputs": [],
   "source": [
    "sim_dat1 = pd.merge(sim_dat1, faith_table, left_on='Account_ID', right_on='ACCOUNT_ID')"
   ]
  },
  {
   "cell_type": "code",
   "execution_count": 496,
   "metadata": {
    "collapsed": false
   },
   "outputs": [
    {
     "data": {
      "text/html": [
       "<div>\n",
       "<table border=\"1\" class=\"dataframe\">\n",
       "  <thead>\n",
       "    <tr style=\"text-align: right;\">\n",
       "      <th></th>\n",
       "      <th>Account_ID</th>\n",
       "      <th>EVENT_ID</th>\n",
       "      <th>total</th>\n",
       "      <th>ACCOUNT_ID</th>\n",
       "      <th>South Africa</th>\n",
       "      <th>Australia</th>\n",
       "      <th>New Zealand</th>\n",
       "      <th>India</th>\n",
       "    </tr>\n",
       "  </thead>\n",
       "  <tbody>\n",
       "    <tr>\n",
       "      <th>0</th>\n",
       "      <td>1000002</td>\n",
       "      <td>101187238</td>\n",
       "      <td>557.688600</td>\n",
       "      <td>1000002</td>\n",
       "      <td>1881.143613</td>\n",
       "      <td>2900.5274</td>\n",
       "      <td>1963.477738</td>\n",
       "      <td>2608.7174</td>\n",
       "    </tr>\n",
       "    <tr>\n",
       "      <th>1</th>\n",
       "      <td>1000002</td>\n",
       "      <td>101187238</td>\n",
       "      <td>6117.787035</td>\n",
       "      <td>1000002</td>\n",
       "      <td>1881.143613</td>\n",
       "      <td>2900.5274</td>\n",
       "      <td>1963.477738</td>\n",
       "      <td>2608.7174</td>\n",
       "    </tr>\n",
       "    <tr>\n",
       "      <th>2</th>\n",
       "      <td>1000002</td>\n",
       "      <td>101187943</td>\n",
       "      <td>12563.978200</td>\n",
       "      <td>1000002</td>\n",
       "      <td>1881.143613</td>\n",
       "      <td>2900.5274</td>\n",
       "      <td>1963.477738</td>\n",
       "      <td>2608.7174</td>\n",
       "    </tr>\n",
       "    <tr>\n",
       "      <th>3</th>\n",
       "      <td>1000002</td>\n",
       "      <td>101191295</td>\n",
       "      <td>237.300152</td>\n",
       "      <td>1000002</td>\n",
       "      <td>1881.143613</td>\n",
       "      <td>2900.5274</td>\n",
       "      <td>1963.477738</td>\n",
       "      <td>2608.7174</td>\n",
       "    </tr>\n",
       "    <tr>\n",
       "      <th>4</th>\n",
       "      <td>1000002</td>\n",
       "      <td>101191295</td>\n",
       "      <td>749.518864</td>\n",
       "      <td>1000002</td>\n",
       "      <td>1881.143613</td>\n",
       "      <td>2900.5274</td>\n",
       "      <td>1963.477738</td>\n",
       "      <td>2608.7174</td>\n",
       "    </tr>\n",
       "  </tbody>\n",
       "</table>\n",
       "</div>"
      ],
      "text/plain": [
       "   Account_ID   EVENT_ID         total  ACCOUNT_ID  South Africa  Australia  \\\n",
       "0     1000002  101187238    557.688600     1000002   1881.143613  2900.5274   \n",
       "1     1000002  101187238   6117.787035     1000002   1881.143613  2900.5274   \n",
       "2     1000002  101187943  12563.978200     1000002   1881.143613  2900.5274   \n",
       "3     1000002  101191295    237.300152     1000002   1881.143613  2900.5274   \n",
       "4     1000002  101191295    749.518864     1000002   1881.143613  2900.5274   \n",
       "\n",
       "   New Zealand      India  \n",
       "0  1963.477738  2608.7174  \n",
       "1  1963.477738  2608.7174  \n",
       "2  1963.477738  2608.7174  \n",
       "3  1963.477738  2608.7174  \n",
       "4  1963.477738  2608.7174  "
      ]
     },
     "execution_count": 496,
     "metadata": {},
     "output_type": "execute_result"
    }
   ],
   "source": [
    "sim_dat1.head()"
   ]
  },
  {
   "cell_type": "code",
   "execution_count": 498,
   "metadata": {
    "collapsed": false
   },
   "outputs": [],
   "source": [
    "won_first = (sim_dat1.EVENT_ID == 101187238) & (sim_dat1.loc[:, 'New Zealand'] > sim_dat1.loc[:, 'South Africa'])  \n",
    "lost_first = (sim_dat1.EVENT_ID == 101187238) & (sim_dat1.loc[:, 'New Zealand'] < sim_dat1.loc[:, 'South Africa'])\n",
    "no_first = (sim_dat1.EVENT_ID == 101187238) & (sim_dat1.loc[:, 'New Zealand'] == sim_dat1.loc[:, 'South Africa'])\n",
    "won_second = (sim_dat1.EVENT_ID == 101187943) & (sim_dat1.loc[:, 'Australia'] > sim_dat1.loc[:, 'India'])  \n",
    "lost_second = (sim_dat1.EVENT_ID == 101187943) & (sim_dat1.loc[:, 'Australia'] < sim_dat1.loc[:, 'India'])\n",
    "no_second = (sim_dat1.EVENT_ID == 101187943) & (sim_dat1.loc[:, 'Australia'] == sim_dat1.loc[:, 'India'])\n",
    "won_third = (sim_dat1.EVENT_ID == 101191295) & (sim_dat1.loc[:, 'Australia'] > sim_dat1.loc[:, 'New Zealand'])  \n",
    "lost_third = (sim_dat1.EVENT_ID == 101191295) & (sim_dat1.loc[:, 'Australia'] < sim_dat1.loc[:, 'New Zealand'])\n",
    "no_third = (sim_dat1.EVENT_ID == 101191295) & (sim_dat1.loc[:, 'Australia'] == sim_dat1.loc[:, 'New Zealand'])"
   ]
  },
  {
   "cell_type": "code",
   "execution_count": 501,
   "metadata": {
    "collapsed": true
   },
   "outputs": [],
   "source": [
    "sim_dat1.loc[won_first.values, 'result'] = sim_dat1.loc[won_first.values, 'total']\n",
    "sim_dat1.loc[lost_first.values, 'result'] = - sim_dat1.loc[lost_first.values, 'total']\n",
    "sim_dat1.loc[no_first.values, 'result'] = 0\n",
    "sim_dat1.loc[won_second.values, 'result'] = sim_dat1.loc[won_second.values, 'total']\n",
    "sim_dat1.loc[lost_second.values, 'result'] = - sim_dat1.loc[lost_second.values, 'total']\n",
    "sim_dat1.loc[no_second.values, 'result'] = 0\n",
    "sim_dat1.loc[won_third.values, 'result'] = sim_dat1.loc[won_third.values, 'total']\n",
    "sim_dat1.loc[lost_third.values, 'result'] = - sim_dat1.loc[lost_third.values, 'total']\n",
    "sim_dat1.loc[no_second.values, 'result'] = 0"
   ]
  },
  {
   "cell_type": "code",
   "execution_count": 502,
   "metadata": {
    "collapsed": false
   },
   "outputs": [
    {
     "data": {
      "text/html": [
       "<div>\n",
       "<table border=\"1\" class=\"dataframe\">\n",
       "  <thead>\n",
       "    <tr style=\"text-align: right;\">\n",
       "      <th></th>\n",
       "      <th>Account_ID</th>\n",
       "      <th>EVENT_ID</th>\n",
       "      <th>total</th>\n",
       "      <th>ACCOUNT_ID</th>\n",
       "      <th>South Africa</th>\n",
       "      <th>Australia</th>\n",
       "      <th>New Zealand</th>\n",
       "      <th>India</th>\n",
       "      <th>result</th>\n",
       "    </tr>\n",
       "  </thead>\n",
       "  <tbody>\n",
       "    <tr>\n",
       "      <th>0</th>\n",
       "      <td>1000002</td>\n",
       "      <td>101187238</td>\n",
       "      <td>557.688600</td>\n",
       "      <td>1000002</td>\n",
       "      <td>1881.143613</td>\n",
       "      <td>2900.5274</td>\n",
       "      <td>1963.477738</td>\n",
       "      <td>2608.7174</td>\n",
       "      <td>557.688600</td>\n",
       "    </tr>\n",
       "    <tr>\n",
       "      <th>1</th>\n",
       "      <td>1000002</td>\n",
       "      <td>101187238</td>\n",
       "      <td>6117.787035</td>\n",
       "      <td>1000002</td>\n",
       "      <td>1881.143613</td>\n",
       "      <td>2900.5274</td>\n",
       "      <td>1963.477738</td>\n",
       "      <td>2608.7174</td>\n",
       "      <td>6117.787035</td>\n",
       "    </tr>\n",
       "    <tr>\n",
       "      <th>2</th>\n",
       "      <td>1000002</td>\n",
       "      <td>101187943</td>\n",
       "      <td>12563.978200</td>\n",
       "      <td>1000002</td>\n",
       "      <td>1881.143613</td>\n",
       "      <td>2900.5274</td>\n",
       "      <td>1963.477738</td>\n",
       "      <td>2608.7174</td>\n",
       "      <td>12563.978200</td>\n",
       "    </tr>\n",
       "    <tr>\n",
       "      <th>3</th>\n",
       "      <td>1000002</td>\n",
       "      <td>101191295</td>\n",
       "      <td>237.300152</td>\n",
       "      <td>1000002</td>\n",
       "      <td>1881.143613</td>\n",
       "      <td>2900.5274</td>\n",
       "      <td>1963.477738</td>\n",
       "      <td>2608.7174</td>\n",
       "      <td>237.300152</td>\n",
       "    </tr>\n",
       "    <tr>\n",
       "      <th>4</th>\n",
       "      <td>1000002</td>\n",
       "      <td>101191295</td>\n",
       "      <td>749.518864</td>\n",
       "      <td>1000002</td>\n",
       "      <td>1881.143613</td>\n",
       "      <td>2900.5274</td>\n",
       "      <td>1963.477738</td>\n",
       "      <td>2608.7174</td>\n",
       "      <td>749.518864</td>\n",
       "    </tr>\n",
       "  </tbody>\n",
       "</table>\n",
       "</div>"
      ],
      "text/plain": [
       "   Account_ID   EVENT_ID         total  ACCOUNT_ID  South Africa  Australia  \\\n",
       "0     1000002  101187238    557.688600     1000002   1881.143613  2900.5274   \n",
       "1     1000002  101187238   6117.787035     1000002   1881.143613  2900.5274   \n",
       "2     1000002  101187943  12563.978200     1000002   1881.143613  2900.5274   \n",
       "3     1000002  101191295    237.300152     1000002   1881.143613  2900.5274   \n",
       "4     1000002  101191295    749.518864     1000002   1881.143613  2900.5274   \n",
       "\n",
       "   New Zealand      India        result  \n",
       "0  1963.477738  2608.7174    557.688600  \n",
       "1  1963.477738  2608.7174   6117.787035  \n",
       "2  1963.477738  2608.7174  12563.978200  \n",
       "3  1963.477738  2608.7174    237.300152  \n",
       "4  1963.477738  2608.7174    749.518864  "
      ]
     },
     "execution_count": 502,
     "metadata": {},
     "output_type": "execute_result"
    }
   ],
   "source": [
    "sim_dat1.head()"
   ]
  },
  {
   "cell_type": "code",
   "execution_count": 503,
   "metadata": {
    "collapsed": true
   },
   "outputs": [],
   "source": [
    "imagined_res = sim_dat1.groupby('Account_ID')['result'].sum()"
   ]
  },
  {
   "cell_type": "code",
   "execution_count": 507,
   "metadata": {
    "collapsed": false
   },
   "outputs": [],
   "source": [
    "imagined_res = imagined_res.loc[submit.Account_ID]"
   ]
  },
  {
   "cell_type": "code",
   "execution_count": 512,
   "metadata": {
    "collapsed": false
   },
   "outputs": [],
   "source": [
    "imagined_res = imagined_res.fillna(-2.4e7)"
   ]
  },
  {
   "cell_type": "code",
   "execution_count": 513,
   "metadata": {
    "collapsed": true
   },
   "outputs": [],
   "source": [
    "imagined_res.index.name = 'Account_ID'\n",
    "imagined_res.name = 'Prediction'\n",
    "imagined_res = imagined_res.reset_index()"
   ]
  },
  {
   "cell_type": "code",
   "execution_count": 515,
   "metadata": {
    "collapsed": false
   },
   "outputs": [
    {
     "data": {
      "text/html": [
       "<div>\n",
       "<table border=\"1\" class=\"dataframe\">\n",
       "  <thead>\n",
       "    <tr style=\"text-align: right;\">\n",
       "      <th></th>\n",
       "      <th>Account_ID</th>\n",
       "      <th>Prediction</th>\n",
       "    </tr>\n",
       "  </thead>\n",
       "  <tbody>\n",
       "    <tr>\n",
       "      <th>0</th>\n",
       "      <td>1004240</td>\n",
       "      <td>-9203.463318</td>\n",
       "    </tr>\n",
       "    <tr>\n",
       "      <th>1</th>\n",
       "      <td>1009742</td>\n",
       "      <td>-190596.275105</td>\n",
       "    </tr>\n",
       "    <tr>\n",
       "      <th>2</th>\n",
       "      <td>1003908</td>\n",
       "      <td>-613.848469</td>\n",
       "    </tr>\n",
       "    <tr>\n",
       "      <th>3</th>\n",
       "      <td>1020888</td>\n",
       "      <td>0.000000</td>\n",
       "    </tr>\n",
       "    <tr>\n",
       "      <th>4</th>\n",
       "      <td>1010074</td>\n",
       "      <td>0.000000</td>\n",
       "    </tr>\n",
       "  </tbody>\n",
       "</table>\n",
       "</div>"
      ],
      "text/plain": [
       "   Account_ID     Prediction\n",
       "0     1004240   -9203.463318\n",
       "1     1009742 -190596.275105\n",
       "2     1003908    -613.848469\n",
       "3     1020888       0.000000\n",
       "4     1010074       0.000000"
      ]
     },
     "execution_count": 515,
     "metadata": {},
     "output_type": "execute_result"
    }
   ],
   "source": [
    "imagined_res.head()"
   ]
  },
  {
   "cell_type": "code",
   "execution_count": 517,
   "metadata": {
    "collapsed": false
   },
   "outputs": [],
   "source": [
    "imagined_res.to_csv('imagined_res.csv', index=False)"
   ]
  },
  {
   "cell_type": "code",
   "execution_count": 296,
   "metadata": {
    "collapsed": true
   },
   "outputs": [],
   "source": [
    "# need a function to calculate auc\n",
    "def cal_auc(evaluation, known_fact):\n",
    "    length = known_fact.shape[0]\n",
    "    assert evaluation.shape[0] == length, 'should equal long'\n",
    "    num_kp = known_fact.fact.sum()\n",
    "    num_kn = known_fact.shape[0] - num_kp\n",
    "    kps = known_fact.loc[(known_fact.fact == 1).values, 'ACCOUNT_ID']\n",
    "    kns = known_fact.loc[(known_fact.fact == 0).values, 'ACCOUNT_ID']\n",
    "    auc_pairs = pd.DataFrame({})\n",
    "    for ind in range(length):\n",
    "        num_fp = evaluation.iloc[ind:].ACCOUNT_ID.isin(kns).sum()\n",
    "        num_tp = evaluation.iloc[ind:].ACCOUNT_ID.isin(kps).sum()\n",
    "        auc_pair = pd.DataFrame({\n",
    "            'fpr': [num_fp/num_kn],\n",
    "            'tpr': [num_tp/num_kp]})\n",
    "        auc_pairs = auc_pairs.append(auc_pair)\n",
    "    return auc_pairs, auc_pairs.tpr.sum() / auc_pairs.shape[0]"
   ]
  },
  {
   "cell_type": "code",
   "execution_count": null,
   "metadata": {
    "collapsed": true
   },
   "outputs": [],
   "source": []
  },
  {
   "cell_type": "code",
   "execution_count": null,
   "metadata": {
    "collapsed": true
   },
   "outputs": [],
   "source": []
  },
  {
   "cell_type": "code",
   "execution_count": null,
   "metadata": {
    "collapsed": true
   },
   "outputs": [],
   "source": [
    "# need to create \"train\", validation sets"
   ]
  },
  {
   "cell_type": "code",
   "execution_count": 243,
   "metadata": {
    "collapsed": true
   },
   "outputs": [],
   "source": [
    "pre_dat_by_eventid_accountid = pre_dat.groupby(['EVENT_ID', 'ACCOUNT_ID'])"
   ]
  },
  {
   "cell_type": "code",
   "execution_count": 518,
   "metadata": {
    "collapsed": true
   },
   "outputs": [],
   "source": [
    "example = pre_dat.groupby(['ACCOUNT_ID', 'EVENT_ID'])['correct_profit_loss'].sum()"
   ]
  },
  {
   "cell_type": "code",
   "execution_count": 520,
   "metadata": {
    "collapsed": false
   },
   "outputs": [
    {
     "data": {
      "text/plain": [
       "ACCOUNT_ID  EVENT_ID \n",
       "682         101092958             NaN\n",
       "1011        101092958      -49.495000\n",
       "1534        101092958       -6.929300\n",
       "1887        101092958      397.939800\n",
       "2155        101092958      -49.495000\n",
       "2166        101092958       -3.959600\n",
       "2627        101092958      -49.495000\n",
       "2784        101092958     -247.475000\n",
       "3614        101092958             NaN\n",
       "3773        101092958     -250.345710\n",
       "3877        101092958      -10.690920\n",
       "4703        101092958             NaN\n",
       "4961        101092958      -39.596000\n",
       "5281        101092958             NaN\n",
       "5500        101092958       41.575800\n",
       "5586        101092958       -3.959600\n",
       "5803        101092958             NaN\n",
       "6229        101092958      439.515600\n",
       "7245        101092958             NaN\n",
       "7985        101092958             NaN\n",
       "8028        101092958       -9.899000\n",
       "8273        101092958      -58.206120\n",
       "8621        101092958    -9780.721007\n",
       "8748        101092958     -265.293200\n",
       "9362        101092958             NaN\n",
       "9562        101092958             NaN\n",
       "9887        101092958             NaN\n",
       "10303       101092958             NaN\n",
       "10482       101092958             NaN\n",
       "10668       101092958       -7.919200\n",
       "                             ...     \n",
       "10827848    101092958             NaN\n",
       "10828434    101092958     -151.731872\n",
       "10828608    101092958      -13.304256\n",
       "10830306    101092958      395.188649\n",
       "10830438    101092958       16.069805\n",
       "10830473    101092958             NaN\n",
       "10830636    101092958    17355.389611\n",
       "10831009    101092958      289.256494\n",
       "10831087    101092958             NaN\n",
       "10831095    101092958     7199.272727\n",
       "10831290    101092958       88.062532\n",
       "10831329    101092958      277.686234\n",
       "10831357    101092958       10.284675\n",
       "10831391    101092958             NaN\n",
       "10831392    101092958      -17.422240\n",
       "10831394    101092958     -126.390432\n",
       "10831438    101092958      578.512987\n",
       "10831574    101092958     4065.780530\n",
       "10831748    101092958      -11.086880\n",
       "10831801    101092958      -14.650520\n",
       "10832017    101092958       -1.663032\n",
       "10832360    101092958     1015.611688\n",
       "10832364    101092958       61.708052\n",
       "10832375    101092958      128.558442\n",
       "10832421    101092958       -4.751520\n",
       "10832528    101092958             NaN\n",
       "10832600    101092958      192.837662\n",
       "10832829    101092958     1169.881818\n",
       "10832973    101092958       20.569351\n",
       "10833558    101092958             NaN\n",
       "Name: correct_profit_loss, dtype: float64"
      ]
     },
     "execution_count": 520,
     "metadata": {},
     "output_type": "execute_result"
    }
   ],
   "source": [
    "example.sort_index()"
   ]
  },
  {
   "cell_type": "code",
   "execution_count": 244,
   "metadata": {
    "collapsed": true
   },
   "outputs": [],
   "source": [
    "result_set = pre_dat_by_eventid_accountid['correct_profit_loss'].sum()"
   ]
  },
  {
   "cell_type": "code",
   "execution_count": 245,
   "metadata": {
    "collapsed": true
   },
   "outputs": [],
   "source": [
    "result_set.name = 'profit_loss_sum'"
   ]
  },
  {
   "cell_type": "code",
   "execution_count": 246,
   "metadata": {
    "collapsed": true
   },
   "outputs": [],
   "source": [
    "result_set = result_set.reset_index()"
   ]
  },
  {
   "cell_type": "code",
   "execution_count": 247,
   "metadata": {
    "collapsed": false
   },
   "outputs": [
    {
     "data": {
      "text/html": [
       "<div>\n",
       "<table border=\"1\" class=\"dataframe\">\n",
       "  <thead>\n",
       "    <tr style=\"text-align: right;\">\n",
       "      <th></th>\n",
       "      <th>EVENT_ID</th>\n",
       "      <th>ACCOUNT_ID</th>\n",
       "      <th>profit_loss_sum</th>\n",
       "    </tr>\n",
       "  </thead>\n",
       "  <tbody>\n",
       "    <tr>\n",
       "      <th>0</th>\n",
       "      <td>101092958</td>\n",
       "      <td>1011</td>\n",
       "      <td>-49.4950</td>\n",
       "    </tr>\n",
       "    <tr>\n",
       "      <th>1</th>\n",
       "      <td>101092958</td>\n",
       "      <td>1534</td>\n",
       "      <td>-6.9293</td>\n",
       "    </tr>\n",
       "    <tr>\n",
       "      <th>2</th>\n",
       "      <td>101092958</td>\n",
       "      <td>1887</td>\n",
       "      <td>397.9398</td>\n",
       "    </tr>\n",
       "    <tr>\n",
       "      <th>3</th>\n",
       "      <td>101092958</td>\n",
       "      <td>2155</td>\n",
       "      <td>-49.4950</td>\n",
       "    </tr>\n",
       "    <tr>\n",
       "      <th>4</th>\n",
       "      <td>101092958</td>\n",
       "      <td>2166</td>\n",
       "      <td>-3.9596</td>\n",
       "    </tr>\n",
       "  </tbody>\n",
       "</table>\n",
       "</div>"
      ],
      "text/plain": [
       "    EVENT_ID  ACCOUNT_ID  profit_loss_sum\n",
       "0  101092958        1011         -49.4950\n",
       "1  101092958        1534          -6.9293\n",
       "2  101092958        1887         397.9398\n",
       "3  101092958        2155         -49.4950\n",
       "4  101092958        2166          -3.9596"
      ]
     },
     "execution_count": 247,
     "metadata": {},
     "output_type": "execute_result"
    }
   ],
   "source": [
    "result_set.head()"
   ]
  },
  {
   "cell_type": "code",
   "execution_count": 248,
   "metadata": {
    "collapsed": true
   },
   "outputs": [],
   "source": [
    "event_ids = result_set.EVENT_ID.unique()"
   ]
  },
  {
   "cell_type": "code",
   "execution_count": 254,
   "metadata": {
    "collapsed": false
   },
   "outputs": [
    {
     "data": {
      "text/plain": [
       "array([101092958, 101093076, 101093194, 101093312, 101128269, 101128387,\n",
       "       101149398, 101149516, 101149634, 101149870, 101149988, 101150106,\n",
       "       101150224, 101150348, 101150480, 101150598, 101150716, 101150834,\n",
       "       101150952, 101151090, 101151214, 101151342, 101151486, 101151606,\n",
       "       101151748, 101151878, 101152014, 101152132, 101152275, 101152395,\n",
       "       101152576, 101152715, 101152836, 101152954, 101153072, 101153190,\n",
       "       101153308, 101153426, 101153544, 101153662, 101183237, 101183757,\n",
       "       101183885, 101184013])"
      ]
     },
     "execution_count": 254,
     "metadata": {},
     "output_type": "execute_result"
    }
   ],
   "source": [
    "event_ids"
   ]
  },
  {
   "cell_type": "code",
   "execution_count": 250,
   "metadata": {
    "collapsed": true
   },
   "outputs": [],
   "source": [
    "from sklearn.cross_validation import KFold"
   ]
  },
  {
   "cell_type": "code",
   "execution_count": 303,
   "metadata": {
    "collapsed": true
   },
   "outputs": [],
   "source": [
    "kf = KFold(44, n_folds=5)"
   ]
  },
  {
   "cell_type": "code",
   "execution_count": 318,
   "metadata": {
    "collapsed": false
   },
   "outputs": [
    {
     "name": "stdout",
     "output_type": "stream",
     "text": [
      "0\n",
      "1\n",
      "2\n",
      "3\n",
      "4\n"
     ]
    }
   ],
   "source": [
    "auc_pairs_list = []\n",
    "auc_list = []\n",
    "for ind, (train_ind, test_ind) in enumerate(kf):\n",
    "    print(ind)\n",
    "    train_eventid = event_ids[train_ind]\n",
    "    test_eventid = event_ids[test_ind]\n",
    "    test_dat = pre_dat.loc[pre_dat.EVENT_ID.isin(test_eventid)]\n",
    "    truth = (test_dat.groupby('ACCOUNT_ID')['correct_profit_loss'].sum() > 0).apply(lambda x: int(x))\n",
    "    truth.name = 'fact'\n",
    "    truth = truth.reset_index()\n",
    "    train_dat = pre_dat.loc[pre_dat.EVENT_ID.isin(train_eventid)]\n",
    "    pred = train_dat.groupby('ACCOUNT_ID')['correct_profit_loss'].size()\n",
    "    pred = pred.loc[truth.ACCOUNT_ID]\n",
    "    pred.sort()\n",
    "    pred.name = 'points'\n",
    "    pred = pred.reset_index()\n",
    "    auc_pairs, auc = cal_auc(pred, truth)\n",
    "    auc_pairs_list.append(auc_pairs)\n",
    "    auc_list.append(auc)"
   ]
  },
  {
   "cell_type": "code",
   "execution_count": 317,
   "metadata": {
    "collapsed": false
   },
   "outputs": [
    {
     "data": {
      "text/plain": [
       "[0.5371357735162009,\n",
       " 0.49576178344484889,\n",
       " 0.51381314963185432,\n",
       " 0.50732651653661531,\n",
       " 0.49965251500175062]"
      ]
     },
     "execution_count": 317,
     "metadata": {},
     "output_type": "execute_result"
    }
   ],
   "source": [
    "auc_list"
   ]
  },
  {
   "cell_type": "code",
   "execution_count": 315,
   "metadata": {
    "collapsed": false
   },
   "outputs": [
    {
     "data": {
      "text/plain": [
       "<matplotlib.collections.PathCollection at 0x11d099d30>"
      ]
     },
     "execution_count": 315,
     "metadata": {},
     "output_type": "execute_result"
    },
    {
     "data": {
      "image/png": "[encoded data removed]",
      "text/plain": [
       "<matplotlib.figure.Figure at 0x14aa3cd30>"
      ]
     },
     "metadata": {},
     "output_type": "display_data"
    }
   ],
   "source": [
    "i = 0\n",
    "plt.scatter(auc_pairs_list[i].fpr, auc_pairs_list[i].tpr)"
   ]
  },
  {
   "cell_type": "code",
   "execution_count": 403,
   "metadata": {
    "collapsed": false
   },
   "outputs": [
    {
     "data": {
      "text/plain": [
       "953.3333333333334"
      ]
     },
     "execution_count": 403,
     "metadata": {},
     "output_type": "execute_result"
    }
   ],
   "source": [
    "220*52/12"
   ]
  },
  {
   "cell_type": "code",
   "execution_count": null,
   "metadata": {
    "collapsed": true
   },
   "outputs": [],
   "source": []
  }
 ],
 "metadata": {
  "kernelspec": {
   "display_name": "Python 3",
   "language": "python",
   "name": "python3"
  },
  "language_info": {
   "codemirror_mode": {
    "name": "ipython",
    "version": 3
   },
   "file_extension": ".py",
   "mimetype": "text/x-python",
   "name": "python",
   "nbconvert_exporter": "python",
   "pygments_lexer": "ipython3",
   "version": "3.4.3"
  }
 },
 "nbformat": 4,
 "nbformat_minor": 0
}
