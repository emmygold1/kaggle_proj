{
 "cells": [
  {
   "cell_type": "code",
   "execution_count": 47,
   "metadata": {
    "collapsed": true
   },
   "outputs": [],
   "source": [
    "%matplotlib inline\n",
    "import pandas as pd\n",
    "import numpy as np\n",
    "import matplotlib.pyplot as plt\n",
    "from sklearn.cross_validation import cross_val_score\n",
    "from sklearn.linear_model import LogisticRegression\n",
    "from sklearn.ensemble import RandomForestClassifier, AdaBoostClassifier"
   ]
  },
  {
   "cell_type": "code",
   "execution_count": 75,
   "metadata": {
    "collapsed": true
   },
   "outputs": [],
   "source": [
    "finals = pd.read_csv('semi_and_final_features.csv')\n",
    "finals.columns = ['ACCOUNT_ID', 'EVENT_ID', 'TRANSACTION_COUNT', 'STATUS_ID',\n",
    "       'INPLAY_BET', 'AVG_BET_SIZE', 'MAX_BET_SIZE', 'MIN_BET_SIZE',\n",
    "       'STDEV_BET_SIZE']"
   ]
  },
  {
   "cell_type": "code",
   "execution_count": 172,
   "metadata": {
    "collapsed": true
   },
   "outputs": [],
   "source": [
    "finals1 = finals.loc[(finals.STATUS_ID == 'S').values]"
   ]
  },
  {
   "cell_type": "code",
   "execution_count": 173,
   "metadata": {
    "collapsed": false
   },
   "outputs": [
    {
     "name": "stderr",
     "output_type": "stream",
     "text": [
      "/Users/feizhan/miniconda/envs/py3_env/lib/python3.4/site-packages/pandas/core/indexing.py:249: SettingWithCopyWarning: \n",
      "A value is trying to be set on a copy of a slice from a DataFrame.\n",
      "Try using .loc[row_indexer,col_indexer] = value instead\n",
      "\n",
      "See the the caveats in the documentation: http://pandas.pydata.org/pandas-docs/stable/indexing.html#indexing-view-versus-copy\n",
      "  self.obj[key] = _infer_fill_value(value)\n",
      "/Users/feizhan/miniconda/envs/py3_env/lib/python3.4/site-packages/pandas/core/indexing.py:415: SettingWithCopyWarning: \n",
      "A value is trying to be set on a copy of a slice from a DataFrame.\n",
      "Try using .loc[row_indexer,col_indexer] = value instead\n",
      "\n",
      "See the the caveats in the documentation: http://pandas.pydata.org/pandas-docs/stable/indexing.html#indexing-view-versus-copy\n",
      "  self.obj[item] = s\n"
     ]
    }
   ],
   "source": [
    "finals1.loc[:, 'total'] = finals1.TRANSACTION_COUNT * finals1.AVG_BET_SIZE\n",
    "finals1_by_account_event = finals1.groupby(['ACCOUNT_ID', 'EVENT_ID'])\n",
    "tran_freq = finals1_by_account_event['TRANSACTION_COUNT'].sum()\n",
    "bet_size = finals1_by_account_event['total'].sum()\n",
    "tran_freq.name = 'tran_freq/game'\n",
    "bet_size.name = 'bet_size/game'\n",
    "tran_freq = tran_freq.reset_index()\n",
    "bet_size = bet_size.reset_index()\n",
    "features2 = pd.merge(tran_freq, bet_size, on=['ACCOUNT_ID', 'EVENT_ID'])\n",
    "features_by_account = features2.groupby('ACCOUNT_ID')\n",
    "tran_freq = features_by_account['tran_freq/game'].mean()\n",
    "bet_size = features_by_account['bet_size/game'].mean()\n",
    "tran_freq = tran_freq.reset_index()\n",
    "bet_size = bet_size.reset_index()\n",
    "features2 = pd.merge(tran_freq, bet_size, on=['ACCOUNT_ID'])"
   ]
  },
  {
   "cell_type": "code",
   "execution_count": 176,
   "metadata": {
    "collapsed": false
   },
   "outputs": [
    {
     "data": {
      "text/html": [
       "<div>\n",
       "<table border=\"1\" class=\"dataframe\">\n",
       "  <thead>\n",
       "    <tr style=\"text-align: right;\">\n",
       "      <th></th>\n",
       "      <th>ACCOUNT_ID</th>\n",
       "      <th>tran_freq/game</th>\n",
       "      <th>bet_size/game</th>\n",
       "    </tr>\n",
       "  </thead>\n",
       "  <tbody>\n",
       "    <tr>\n",
       "      <th>0</th>\n",
       "      <td>1000002</td>\n",
       "      <td>42.333333</td>\n",
       "      <td>6742.090950</td>\n",
       "    </tr>\n",
       "    <tr>\n",
       "      <th>2</th>\n",
       "      <td>1000004</td>\n",
       "      <td>1.000000</td>\n",
       "      <td>943.100000</td>\n",
       "    </tr>\n",
       "    <tr>\n",
       "      <th>3</th>\n",
       "      <td>1000005</td>\n",
       "      <td>6.500000</td>\n",
       "      <td>234.149450</td>\n",
       "    </tr>\n",
       "    <tr>\n",
       "      <th>5</th>\n",
       "      <td>1000010</td>\n",
       "      <td>7.500000</td>\n",
       "      <td>900.377670</td>\n",
       "    </tr>\n",
       "    <tr>\n",
       "      <th>8</th>\n",
       "      <td>1000014</td>\n",
       "      <td>1.000000</td>\n",
       "      <td>181.593333</td>\n",
       "    </tr>\n",
       "  </tbody>\n",
       "</table>\n",
       "</div>"
      ],
      "text/plain": [
       "   ACCOUNT_ID  tran_freq/game  bet_size/game\n",
       "0     1000002       42.333333    6742.090950\n",
       "2     1000004        1.000000     943.100000\n",
       "3     1000005        6.500000     234.149450\n",
       "5     1000010        7.500000     900.377670\n",
       "8     1000014        1.000000     181.593333"
      ]
     },
     "execution_count": 176,
     "metadata": {},
     "output_type": "execute_result"
    }
   ],
   "source": [
    "features2.head()"
   ]
  },
  {
   "cell_type": "code",
   "execution_count": 5,
   "metadata": {
    "collapsed": true
   },
   "outputs": [],
   "source": [
    "submit = pd.read_csv('sample_submission_bet_size.csv')\n",
    "submit.columns = ['Account_ID', 'Prediction']"
   ]
  },
  {
   "cell_type": "code",
   "execution_count": 174,
   "metadata": {
    "collapsed": false
   },
   "outputs": [],
   "source": [
    "# take only the subset for submit\n",
    "features2 = features2.loc[features2.ACCOUNT_ID.isin(submit.Account_ID)]"
   ]
  },
  {
   "cell_type": "code",
   "execution_count": 7,
   "metadata": {
    "collapsed": true
   },
   "outputs": [],
   "source": [
    "import glob"
   ]
  },
  {
   "cell_type": "code",
   "execution_count": 8,
   "metadata": {
    "collapsed": true
   },
   "outputs": [],
   "source": [
    "filenames = glob.glob('Datathon*.csv')"
   ]
  },
  {
   "cell_type": "code",
   "execution_count": 9,
   "metadata": {
    "collapsed": false
   },
   "outputs": [
    {
     "name": "stdout",
     "output_type": "stream",
     "text": [
      "0\n",
      "1"
     ]
    },
    {
     "name": "stderr",
     "output_type": "stream",
     "text": [
      "/Users/feizhan/miniconda/envs/py3_env/lib/python3.4/site-packages/pandas/io/parsers.py:1170: DtypeWarning: Columns (16) have mixed types. Specify dtype option on import or set low_memory=False.\n",
      "  data = self._reader.read(nrows)\n",
      "/Users/feizhan/miniconda/envs/py3_env/lib/python3.4/site-packages/pandas/io/parsers.py:1170: DtypeWarning: Columns (14,16) have mixed types. Specify dtype option on import or set low_memory=False.\n",
      "  data = self._reader.read(nrows)\n"
     ]
    },
    {
     "name": "stdout",
     "output_type": "stream",
     "text": [
      "\n",
      "2\n",
      "3\n",
      "4\n"
     ]
    }
   ],
   "source": [
    "pre_dat = pd.DataFrame({})\n",
    "for ind, filename in enumerate(filenames):\n",
    "    print(ind)\n",
    "    tmp_dat = pd.read_csv(filename)\n",
    "    pre_dat = pre_dat.append(tmp_dat)    \n",
    "pre_dat.columns = ['BET_ID', 'BET_TRANS_ID', 'MATCH_BET_ID', 'ACCOUNT_ID',\n",
    "       'COUNTRY_OF_RESIDENCE_NAME', 'PARENT_EVENT_ID', 'EVENT_ID', 'MATCH',\n",
    "       'EVENT_NAME', 'EVENT_DT', 'OFF_DT', 'BID_TYP', 'STATUS_ID',\n",
    "       'PLACED_DATE', 'TAKEN_DATE', 'SETTLED_DATE', 'CANCELLED_DATE',\n",
    "       'SELECTION_NAME', 'PERSISTENCE_TYPE', 'BET_PRICE', 'PRICE_TAKEN',\n",
    "       'INPLAY_BET', 'BET_SIZE', 'PROFIT_LOSS']\n",
    "peek_dat = pd.read_csv('DSMDatathon_samplefile.txt', sep='\\t')\n",
    "pre_dat = peek_dat.append(pre_dat)"
   ]
  },
  {
   "cell_type": "code",
   "execution_count": 10,
   "metadata": {
    "collapsed": true
   },
   "outputs": [],
   "source": [
    "pre_dat.loc[:, 'BID_TYP'] = pre_dat.BID_TYP.str.strip(' ')\n",
    "pre_dat.loc[:, 'STATUS_ID'] = pre_dat.STATUS_ID.str.strip(' ')\n",
    "# correct the profit loss\n",
    "c1 = ((pre_dat.BID_TYP == 'B') & (pre_dat.PROFIT_LOSS > 0))\n",
    "c2 = ((pre_dat.BID_TYP == 'B') & (pre_dat.PROFIT_LOSS < 0))\n",
    "c3 = ((pre_dat.BID_TYP == 'L') & (pre_dat.PROFIT_LOSS > 0))\n",
    "c4 = ((pre_dat.BID_TYP == 'L') & (pre_dat.PROFIT_LOSS < 0))\n",
    "pre_dat.loc[c1.values, 'correct_profit_loss'] = pre_dat.loc[c1.values, 'BET_SIZE'] * (pre_dat.loc[c1.values, 'PRICE_TAKEN'] -1)\n",
    "pre_dat.loc[c2.values, 'correct_profit_loss'] = - pre_dat.loc[c2.values, 'BET_SIZE']\n",
    "pre_dat.loc[c3.values, 'correct_profit_loss'] = pre_dat.loc[c3.values, 'BET_SIZE']\n",
    "pre_dat.loc[c4.values, 'correct_profit_loss'] = - pre_dat.loc[c4.values, 'BET_SIZE'] * (pre_dat.loc[c4.values, 'PRICE_TAKEN'] -1)"
   ]
  },
  {
   "cell_type": "code",
   "execution_count": 66,
   "metadata": {
    "collapsed": false
   },
   "outputs": [],
   "source": [
    "label_dat = pre_dat.loc[pre_dat.EVENT_ID.isin([101183237, 101183757, 101183885, 101184013])]\n",
    "label_dat = label_dat.loc[(label_dat.STATUS_ID == 'S').values]\n",
    "labels = label_dat.groupby('ACCOUNT_ID')['correct_profit_loss'].sum()\n",
    "labels = labels.apply(lambda x: int(x > 0))\n",
    "labels = labels.reset_index()"
   ]
  },
  {
   "cell_type": "code",
   "execution_count": 179,
   "metadata": {
    "collapsed": true
   },
   "outputs": [],
   "source": [
    "dat = pre_dat.loc[~pre_dat.EVENT_ID.isin([101183237, 101183757, 101183885, 101184013])]\n",
    "# dat = pre_dat"
   ]
  },
  {
   "cell_type": "code",
   "execution_count": 180,
   "metadata": {
    "collapsed": false
   },
   "outputs": [],
   "source": [
    "dat = dat.loc[(dat.STATUS_ID == 'S').values]\n",
    "dat_by_account_bet = dat.groupby(['ACCOUNT_ID', 'EVENT_ID'])\n",
    "tran_freq = dat_by_account_bet.size()\n",
    "bet_size = dat_by_account_bet['BET_SIZE'].sum()\n",
    "tran_freq.name = 'tran_freq/game'\n",
    "bet_size.name = 'bet_size/game'\n",
    "tran_freq = tran_freq.reset_index()\n",
    "bet_size = bet_size.reset_index()\n",
    "features = pd.merge(tran_freq, bet_size, on=['ACCOUNT_ID', 'EVENT_ID'])\n",
    "features_by_account = features.groupby('ACCOUNT_ID')\n",
    "tran_freq = features_by_account['tran_freq/game'].mean()\n",
    "bet_size = features_by_account['bet_size/game'].mean()\n",
    "tran_freq = tran_freq.reset_index()\n",
    "bet_size = bet_size.reset_index()"
   ]
  },
  {
   "cell_type": "code",
   "execution_count": 162,
   "metadata": {
    "collapsed": true
   },
   "outputs": [],
   "source": [
    "# profit rate\n",
    "dat_by_account = dat.groupby('ACCOUNT_ID')\n",
    "profit = dat_by_account['correct_profit_loss'].sum()\n",
    "over_bet_size = dat_by_account['BET_SIZE'].sum()\n",
    "profit_rate = profit / over_bet_size\n",
    "profit_rate.name = 'profit_rate'\n",
    "profit_rate = profit_rate.reset_index()"
   ]
  },
  {
   "cell_type": "code",
   "execution_count": 181,
   "metadata": {
    "collapsed": true
   },
   "outputs": [],
   "source": [
    "# put everything together\n",
    "features = pd.merge(tran_freq, bet_size, on='ACCOUNT_ID')\n",
    "# features = pd.merge(features, profit_rate, on='ACCOUNT_ID', how='left')"
   ]
  },
  {
   "cell_type": "code",
   "execution_count": 182,
   "metadata": {
    "collapsed": true
   },
   "outputs": [],
   "source": [
    "# add labels\n",
    "features = pd.merge(features, labels, on='ACCOUNT_ID', how='right')\n",
    "features = features.rename(columns={'correct_profit_loss': 'label'})\n",
    "features = features.fillna(0)"
   ]
  },
  {
   "cell_type": "code",
   "execution_count": 188,
   "metadata": {
    "collapsed": false
   },
   "outputs": [
    {
     "data": {
      "text/plain": [
       "(9003, 4)"
      ]
     },
     "execution_count": 188,
     "metadata": {},
     "output_type": "execute_result"
    }
   ],
   "source": [
    "features.shape"
   ]
  },
  {
   "cell_type": "code",
   "execution_count": 168,
   "metadata": {
    "collapsed": false
   },
   "outputs": [
    {
     "name": "stdout",
     "output_type": "stream",
     "text": [
      "bdt\n",
      "rf\n"
     ]
    },
    {
     "data": {
      "text/plain": [
       "[array([ 0.39195101,  0.47030106,  0.40869565,  0.36281588,  0.49705305]),\n",
       " array([ 0.42377622,  0.44297277,  0.43023256,  0.41791045,  0.25662778])]"
      ]
     },
     "execution_count": 168,
     "metadata": {},
     "output_type": "execute_result"
    }
   ],
   "source": [
    "models = {\n",
    "    'rf': RandomForestClassifier(n_estimators=100),\n",
    "    'bdt': AdaBoostClassifier(n_estimators=100)}\n",
    "scores = []\n",
    "for model_name, model in models.items():\n",
    "    print(model_name)\n",
    "    clf = model\n",
    "    score = cross_val_score(clf, features[['tran_freq/game', 'bet_size/game']], \n",
    "                                             features['label'], cv=5, scoring='f1')\n",
    "    scores.append(score)\n",
    "scores"
   ]
  },
  {
   "cell_type": "code",
   "execution_count": 184,
   "metadata": {
    "collapsed": false
   },
   "outputs": [
    {
     "data": {
      "text/plain": [
       "AdaBoostClassifier(algorithm='SAMME.R', base_estimator=None,\n",
       "          learning_rate=1.0, n_estimators=100, random_state=None)"
      ]
     },
     "execution_count": 184,
     "metadata": {},
     "output_type": "execute_result"
    }
   ],
   "source": [
    "# train the models\n",
    "rfc = RandomForestClassifier(n_estimators=100)\n",
    "rfc.fit(features[['tran_freq/game', 'bet_size/game']], features['label'])\n",
    "bdt = AdaBoostClassifier(n_estimators=100)\n",
    "bdt.fit(features[['tran_freq/game', 'bet_size/game']], features['label'])"
   ]
  },
  {
   "cell_type": "code",
   "execution_count": 138,
   "metadata": {
    "collapsed": false
   },
   "outputs": [],
   "source": [
    "# features2 added dodgy \"profit_rate\"\n",
    "features2 = pd.merge(features2, features[['ACCOUNT_ID', 'profit_rate']], on='ACCOUNT_ID', how='left')"
   ]
  },
  {
   "cell_type": "code",
   "execution_count": 185,
   "metadata": {
    "collapsed": false
   },
   "outputs": [
    {
     "data": {
      "text/html": [
       "<div>\n",
       "<table border=\"1\" class=\"dataframe\">\n",
       "  <thead>\n",
       "    <tr style=\"text-align: right;\">\n",
       "      <th></th>\n",
       "      <th>ACCOUNT_ID</th>\n",
       "      <th>tran_freq/game</th>\n",
       "      <th>bet_size/game</th>\n",
       "    </tr>\n",
       "  </thead>\n",
       "  <tbody>\n",
       "    <tr>\n",
       "      <th>0</th>\n",
       "      <td>1000002</td>\n",
       "      <td>42.333333</td>\n",
       "      <td>6742.090950</td>\n",
       "    </tr>\n",
       "    <tr>\n",
       "      <th>2</th>\n",
       "      <td>1000004</td>\n",
       "      <td>1.000000</td>\n",
       "      <td>943.100000</td>\n",
       "    </tr>\n",
       "    <tr>\n",
       "      <th>3</th>\n",
       "      <td>1000005</td>\n",
       "      <td>6.500000</td>\n",
       "      <td>234.149450</td>\n",
       "    </tr>\n",
       "    <tr>\n",
       "      <th>5</th>\n",
       "      <td>1000010</td>\n",
       "      <td>7.500000</td>\n",
       "      <td>900.377670</td>\n",
       "    </tr>\n",
       "    <tr>\n",
       "      <th>8</th>\n",
       "      <td>1000014</td>\n",
       "      <td>1.000000</td>\n",
       "      <td>181.593333</td>\n",
       "    </tr>\n",
       "  </tbody>\n",
       "</table>\n",
       "</div>"
      ],
      "text/plain": [
       "   ACCOUNT_ID  tran_freq/game  bet_size/game\n",
       "0     1000002       42.333333    6742.090950\n",
       "2     1000004        1.000000     943.100000\n",
       "3     1000005        6.500000     234.149450\n",
       "5     1000010        7.500000     900.377670\n",
       "8     1000014        1.000000     181.593333"
      ]
     },
     "execution_count": 185,
     "metadata": {},
     "output_type": "execute_result"
    }
   ],
   "source": [
    "features2.head()"
   ]
  },
  {
   "cell_type": "code",
   "execution_count": 187,
   "metadata": {
    "collapsed": false
   },
   "outputs": [
    {
     "data": {
      "text/plain": [
       "ACCOUNT_ID        False\n",
       "tran_freq/game    False\n",
       "bet_size/game     False\n",
       "dtype: bool"
      ]
     },
     "execution_count": 187,
     "metadata": {},
     "output_type": "execute_result"
    }
   ],
   "source": [
    "features2.isnull().any()"
   ]
  },
  {
   "cell_type": "code",
   "execution_count": 144,
   "metadata": {
    "collapsed": false
   },
   "outputs": [],
   "source": [
    "features2 = features2.fillna(0)"
   ]
  },
  {
   "cell_type": "code",
   "execution_count": 199,
   "metadata": {
    "collapsed": false
   },
   "outputs": [],
   "source": [
    "rfc_pred = rfc.predict_proba(features2[['tran_freq/game', 'bet_size/game']])\n",
    "rfc_pred = pd.DataFrame({'Account_ID': submit.Account_ID, 'Prediction': rfc_pred[:, 1]})"
   ]
  },
  {
   "cell_type": "code",
   "execution_count": 200,
   "metadata": {
    "collapsed": false
   },
   "outputs": [
    {
     "data": {
      "text/html": [
       "<div>\n",
       "<table border=\"1\" class=\"dataframe\">\n",
       "  <thead>\n",
       "    <tr style=\"text-align: right;\">\n",
       "      <th></th>\n",
       "      <th>Account_ID</th>\n",
       "      <th>Prediction</th>\n",
       "    </tr>\n",
       "  </thead>\n",
       "  <tbody>\n",
       "    <tr>\n",
       "      <th>0</th>\n",
       "      <td>1004240</td>\n",
       "      <td>0.67</td>\n",
       "    </tr>\n",
       "    <tr>\n",
       "      <th>1</th>\n",
       "      <td>1009742</td>\n",
       "      <td>0.19</td>\n",
       "    </tr>\n",
       "    <tr>\n",
       "      <th>2</th>\n",
       "      <td>1003908</td>\n",
       "      <td>0.36</td>\n",
       "    </tr>\n",
       "    <tr>\n",
       "      <th>3</th>\n",
       "      <td>1020888</td>\n",
       "      <td>0.39</td>\n",
       "    </tr>\n",
       "    <tr>\n",
       "      <th>4</th>\n",
       "      <td>1010074</td>\n",
       "      <td>0.16</td>\n",
       "    </tr>\n",
       "  </tbody>\n",
       "</table>\n",
       "</div>"
      ],
      "text/plain": [
       "   Account_ID  Prediction\n",
       "0     1004240        0.67\n",
       "1     1009742        0.19\n",
       "2     1003908        0.36\n",
       "3     1020888        0.39\n",
       "4     1010074        0.16"
      ]
     },
     "execution_count": 200,
     "metadata": {},
     "output_type": "execute_result"
    }
   ],
   "source": [
    "rfc_pred.head()"
   ]
  },
  {
   "cell_type": "code",
   "execution_count": 201,
   "metadata": {
    "collapsed": true
   },
   "outputs": [],
   "source": [
    "rfc_pred.to_csv('rfc.csv', index=False)"
   ]
  },
  {
   "cell_type": "code",
   "execution_count": 196,
   "metadata": {
    "collapsed": false
   },
   "outputs": [],
   "source": [
    "bdt_pred = bdt.predict_proba(features2[['tran_freq/game', 'bet_size/game']])\n",
    "bdt_pred = pd.DataFrame({'Account_ID': submit.Account_ID, 'Prediction': bdt_pred[:, 1]})"
   ]
  },
  {
   "cell_type": "code",
   "execution_count": 197,
   "metadata": {
    "collapsed": false
   },
   "outputs": [
    {
     "data": {
      "text/html": [
       "<div>\n",
       "<table border=\"1\" class=\"dataframe\">\n",
       "  <thead>\n",
       "    <tr style=\"text-align: right;\">\n",
       "      <th></th>\n",
       "      <th>Account_ID</th>\n",
       "      <th>Prediction</th>\n",
       "    </tr>\n",
       "  </thead>\n",
       "  <tbody>\n",
       "    <tr>\n",
       "      <th>0</th>\n",
       "      <td>1004240</td>\n",
       "      <td>0.498705</td>\n",
       "    </tr>\n",
       "    <tr>\n",
       "      <th>1</th>\n",
       "      <td>1009742</td>\n",
       "      <td>0.501462</td>\n",
       "    </tr>\n",
       "    <tr>\n",
       "      <th>2</th>\n",
       "      <td>1003908</td>\n",
       "      <td>0.497959</td>\n",
       "    </tr>\n",
       "    <tr>\n",
       "      <th>3</th>\n",
       "      <td>1020888</td>\n",
       "      <td>0.498164</td>\n",
       "    </tr>\n",
       "    <tr>\n",
       "      <th>4</th>\n",
       "      <td>1010074</td>\n",
       "      <td>0.500636</td>\n",
       "    </tr>\n",
       "  </tbody>\n",
       "</table>\n",
       "</div>"
      ],
      "text/plain": [
       "   Account_ID  Prediction\n",
       "0     1004240    0.498705\n",
       "1     1009742    0.501462\n",
       "2     1003908    0.497959\n",
       "3     1020888    0.498164\n",
       "4     1010074    0.500636"
      ]
     },
     "execution_count": 197,
     "metadata": {},
     "output_type": "execute_result"
    }
   ],
   "source": [
    "bdt_pred.head()"
   ]
  },
  {
   "cell_type": "code",
   "execution_count": 198,
   "metadata": {
    "collapsed": true
   },
   "outputs": [],
   "source": [
    "bdt_pred.to_csv('bdt.csv', index=False)"
   ]
  },
  {
   "cell_type": "code",
   "execution_count": null,
   "metadata": {
    "collapsed": true
   },
   "outputs": [],
   "source": []
  }
 ],
 "metadata": {
  "kernelspec": {
   "display_name": "Python 3",
   "language": "python",
   "name": "python3"
  },
  "language_info": {
   "codemirror_mode": {
    "name": "ipython",
    "version": 3
   },
   "file_extension": ".py",
   "mimetype": "text/x-python",
   "name": "python",
   "nbconvert_exporter": "python",
   "pygments_lexer": "ipython3",
   "version": "3.4.3"
  }
 },
 "nbformat": 4,
 "nbformat_minor": 0
}
