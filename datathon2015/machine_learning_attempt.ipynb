{
 "cells": [
  {
   "cell_type": "code",
   "execution_count": 1,
   "metadata": {
    "collapsed": true
   },
   "outputs": [],
   "source": [
    "%matplotlib inline\n",
    "import pandas as pd\n",
    "import numpy as np\n",
    "import matplotlib.pyplot as plt\n",
    "from sklearn.cross_validation import cross_val_score\n",
    "from sklearn.linear_model import LogisticRegression\n",
    "from sklearn.ensemble import RandomForestClassifier, AdaBoostClassifier, RandomForestRegressor"
   ]
  },
  {
   "cell_type": "code",
   "execution_count": 2,
   "metadata": {
    "collapsed": true
   },
   "outputs": [],
   "source": [
    "finals = pd.read_csv('semi_and_final_features.csv')\n",
    "finals.columns = ['ACCOUNT_ID', 'EVENT_ID', 'TRANSACTION_COUNT', 'STATUS_ID',\n",
    "       'INPLAY_BET', 'AVG_BET_SIZE', 'MAX_BET_SIZE', 'MIN_BET_SIZE',\n",
    "       'STDEV_BET_SIZE']"
   ]
  },
  {
   "cell_type": "code",
   "execution_count": 32,
   "metadata": {
    "collapsed": true
   },
   "outputs": [],
   "source": [
    "finals_settled = finals.loc[(finals.STATUS_ID == 'S').values]"
   ]
  },
  {
   "cell_type": "code",
   "execution_count": 33,
   "metadata": {
    "collapsed": false
   },
   "outputs": [
    {
     "data": {
      "text/html": [
       "<div>\n",
       "<table border=\"1\" class=\"dataframe\">\n",
       "  <thead>\n",
       "    <tr style=\"text-align: right;\">\n",
       "      <th></th>\n",
       "      <th>ACCOUNT_ID</th>\n",
       "      <th>EVENT_ID</th>\n",
       "      <th>TRANSACTION_COUNT</th>\n",
       "      <th>STATUS_ID</th>\n",
       "      <th>INPLAY_BET</th>\n",
       "      <th>AVG_BET_SIZE</th>\n",
       "      <th>MAX_BET_SIZE</th>\n",
       "      <th>MIN_BET_SIZE</th>\n",
       "      <th>STDEV_BET_SIZE</th>\n",
       "    </tr>\n",
       "  </thead>\n",
       "  <tbody>\n",
       "    <tr>\n",
       "      <th>1</th>\n",
       "      <td>1000002</td>\n",
       "      <td>101187238</td>\n",
       "      <td>2</td>\n",
       "      <td>S</td>\n",
       "      <td>N</td>\n",
       "      <td>278.844300</td>\n",
       "      <td>379.380000</td>\n",
       "      <td>178.308600</td>\n",
       "      <td>142.178950</td>\n",
       "    </tr>\n",
       "    <tr>\n",
       "      <th>2</th>\n",
       "      <td>1000002</td>\n",
       "      <td>101187238</td>\n",
       "      <td>43</td>\n",
       "      <td>S</td>\n",
       "      <td>Y</td>\n",
       "      <td>142.274117</td>\n",
       "      <td>758.760000</td>\n",
       "      <td>3.793800</td>\n",
       "      <td>190.065261</td>\n",
       "    </tr>\n",
       "    <tr>\n",
       "      <th>4</th>\n",
       "      <td>1000002</td>\n",
       "      <td>101187943</td>\n",
       "      <td>69</td>\n",
       "      <td>S</td>\n",
       "      <td>Y</td>\n",
       "      <td>182.086641</td>\n",
       "      <td>692.838984</td>\n",
       "      <td>3.772400</td>\n",
       "      <td>150.043870</td>\n",
       "    </tr>\n",
       "    <tr>\n",
       "      <th>5</th>\n",
       "      <td>1000002</td>\n",
       "      <td>101191295</td>\n",
       "      <td>2</td>\n",
       "      <td>S</td>\n",
       "      <td>N</td>\n",
       "      <td>118.650076</td>\n",
       "      <td>192.520000</td>\n",
       "      <td>44.780152</td>\n",
       "      <td>104.467848</td>\n",
       "    </tr>\n",
       "    <tr>\n",
       "      <th>6</th>\n",
       "      <td>1000002</td>\n",
       "      <td>101191295</td>\n",
       "      <td>11</td>\n",
       "      <td>S</td>\n",
       "      <td>Y</td>\n",
       "      <td>68.138079</td>\n",
       "      <td>248.350800</td>\n",
       "      <td>11.377932</td>\n",
       "      <td>79.751261</td>\n",
       "    </tr>\n",
       "  </tbody>\n",
       "</table>\n",
       "</div>"
      ],
      "text/plain": [
       "   ACCOUNT_ID   EVENT_ID  TRANSACTION_COUNT STATUS_ID INPLAY_BET  \\\n",
       "1     1000002  101187238                  2         S          N   \n",
       "2     1000002  101187238                 43         S          Y   \n",
       "4     1000002  101187943                 69         S          Y   \n",
       "5     1000002  101191295                  2         S          N   \n",
       "6     1000002  101191295                 11         S          Y   \n",
       "\n",
       "   AVG_BET_SIZE  MAX_BET_SIZE  MIN_BET_SIZE  STDEV_BET_SIZE  \n",
       "1    278.844300    379.380000    178.308600      142.178950  \n",
       "2    142.274117    758.760000      3.793800      190.065261  \n",
       "4    182.086641    692.838984      3.772400      150.043870  \n",
       "5    118.650076    192.520000     44.780152      104.467848  \n",
       "6     68.138079    248.350800     11.377932       79.751261  "
      ]
     },
     "execution_count": 33,
     "metadata": {},
     "output_type": "execute_result"
    }
   ],
   "source": [
    "finals_settled.head()"
   ]
  },
  {
   "cell_type": "code",
   "execution_count": 37,
   "metadata": {
    "collapsed": false
   },
   "outputs": [
    {
     "data": {
      "text/plain": [
       "(38020, 9)"
      ]
     },
     "execution_count": 37,
     "metadata": {},
     "output_type": "execute_result"
    }
   ],
   "source": [
    "finals_settled.shape"
   ]
  },
  {
   "cell_type": "code",
   "execution_count": 173,
   "metadata": {
    "collapsed": false
   },
   "outputs": [
    {
     "name": "stderr",
     "output_type": "stream",
     "text": [
      "/Users/feizhan/miniconda/envs/py3_env/lib/python3.4/site-packages/pandas/core/indexing.py:249: SettingWithCopyWarning: \n",
      "A value is trying to be set on a copy of a slice from a DataFrame.\n",
      "Try using .loc[row_indexer,col_indexer] = value instead\n",
      "\n",
      "See the the caveats in the documentation: http://pandas.pydata.org/pandas-docs/stable/indexing.html#indexing-view-versus-copy\n",
      "  self.obj[key] = _infer_fill_value(value)\n",
      "/Users/feizhan/miniconda/envs/py3_env/lib/python3.4/site-packages/pandas/core/indexing.py:415: SettingWithCopyWarning: \n",
      "A value is trying to be set on a copy of a slice from a DataFrame.\n",
      "Try using .loc[row_indexer,col_indexer] = value instead\n",
      "\n",
      "See the the caveats in the documentation: http://pandas.pydata.org/pandas-docs/stable/indexing.html#indexing-view-versus-copy\n",
      "  self.obj[item] = s\n"
     ]
    }
   ],
   "source": [
    "finals1.loc[:, 'total'] = finals1.TRANSACTION_COUNT * finals1.AVG_BET_SIZE\n",
    "finals1_by_account_event = finals1.groupby(['ACCOUNT_ID', 'EVENT_ID'])\n",
    "tran_freq = finals1_by_account_event['TRANSACTION_COUNT'].sum()\n",
    "bet_size = finals1_by_account_event['total'].sum()\n",
    "tran_freq.name = 'tran_freq/game'\n",
    "bet_size.name = 'bet_size/game'\n",
    "tran_freq = tran_freq.reset_index()\n",
    "bet_size = bet_size.reset_index()\n",
    "features2 = pd.merge(tran_freq, bet_size, on=['ACCOUNT_ID', 'EVENT_ID'])\n",
    "features_by_account = features2.groupby('ACCOUNT_ID')\n",
    "tran_freq = features_by_account['tran_freq/game'].mean()\n",
    "bet_size = features_by_account['bet_size/game'].mean()\n",
    "tran_freq = tran_freq.reset_index()\n",
    "bet_size = bet_size.reset_index()\n",
    "features2 = pd.merge(tran_freq, bet_size, on=['ACCOUNT_ID'])"
   ]
  },
  {
   "cell_type": "code",
   "execution_count": 176,
   "metadata": {
    "collapsed": false
   },
   "outputs": [
    {
     "data": {
      "text/html": [
       "<div>\n",
       "<table border=\"1\" class=\"dataframe\">\n",
       "  <thead>\n",
       "    <tr style=\"text-align: right;\">\n",
       "      <th></th>\n",
       "      <th>ACCOUNT_ID</th>\n",
       "      <th>tran_freq/game</th>\n",
       "      <th>bet_size/game</th>\n",
       "    </tr>\n",
       "  </thead>\n",
       "  <tbody>\n",
       "    <tr>\n",
       "      <th>0</th>\n",
       "      <td>1000002</td>\n",
       "      <td>42.333333</td>\n",
       "      <td>6742.090950</td>\n",
       "    </tr>\n",
       "    <tr>\n",
       "      <th>2</th>\n",
       "      <td>1000004</td>\n",
       "      <td>1.000000</td>\n",
       "      <td>943.100000</td>\n",
       "    </tr>\n",
       "    <tr>\n",
       "      <th>3</th>\n",
       "      <td>1000005</td>\n",
       "      <td>6.500000</td>\n",
       "      <td>234.149450</td>\n",
       "    </tr>\n",
       "    <tr>\n",
       "      <th>5</th>\n",
       "      <td>1000010</td>\n",
       "      <td>7.500000</td>\n",
       "      <td>900.377670</td>\n",
       "    </tr>\n",
       "    <tr>\n",
       "      <th>8</th>\n",
       "      <td>1000014</td>\n",
       "      <td>1.000000</td>\n",
       "      <td>181.593333</td>\n",
       "    </tr>\n",
       "  </tbody>\n",
       "</table>\n",
       "</div>"
      ],
      "text/plain": [
       "   ACCOUNT_ID  tran_freq/game  bet_size/game\n",
       "0     1000002       42.333333    6742.090950\n",
       "2     1000004        1.000000     943.100000\n",
       "3     1000005        6.500000     234.149450\n",
       "5     1000010        7.500000     900.377670\n",
       "8     1000014        1.000000     181.593333"
      ]
     },
     "execution_count": 176,
     "metadata": {},
     "output_type": "execute_result"
    }
   ],
   "source": [
    "features2.head()"
   ]
  },
  {
   "cell_type": "code",
   "execution_count": 5,
   "metadata": {
    "collapsed": true
   },
   "outputs": [],
   "source": [
    "submit = pd.read_csv('sample_submission_bet_size.csv')\n",
    "submit.columns = ['Account_ID', 'Prediction']"
   ]
  },
  {
   "cell_type": "code",
   "execution_count": 174,
   "metadata": {
    "collapsed": false
   },
   "outputs": [],
   "source": [
    "# take only the subset for submit\n",
    "features2 = features2.loc[features2.ACCOUNT_ID.isin(submit.Account_ID)]"
   ]
  },
  {
   "cell_type": "code",
   "execution_count": 41,
   "metadata": {
    "collapsed": true
   },
   "outputs": [],
   "source": [
    "submit = pd.read_csv('sample_submission_bet_size.csv')\n",
    "submit.columns = ['Account_ID', 'Prediction']"
   ]
  },
  {
   "cell_type": "code",
   "execution_count": 5,
   "metadata": {
    "collapsed": true
   },
   "outputs": [],
   "source": [
    "import glob"
   ]
  },
  {
   "cell_type": "code",
   "execution_count": 6,
   "metadata": {
    "collapsed": true
   },
   "outputs": [],
   "source": [
    "filenames = glob.glob('Datathon*.csv')"
   ]
  },
  {
   "cell_type": "code",
   "execution_count": 7,
   "metadata": {
    "collapsed": false
   },
   "outputs": [
    {
     "name": "stdout",
     "output_type": "stream",
     "text": [
      "0\n",
      "1"
     ]
    },
    {
     "name": "stderr",
     "output_type": "stream",
     "text": [
      "/Users/feizhan/miniconda/envs/py3_env/lib/python3.4/site-packages/pandas/io/parsers.py:1170: DtypeWarning: Columns (16) have mixed types. Specify dtype option on import or set low_memory=False.\n",
      "  data = self._reader.read(nrows)\n",
      "/Users/feizhan/miniconda/envs/py3_env/lib/python3.4/site-packages/pandas/io/parsers.py:1170: DtypeWarning: Columns (14,16) have mixed types. Specify dtype option on import or set low_memory=False.\n",
      "  data = self._reader.read(nrows)\n"
     ]
    },
    {
     "name": "stdout",
     "output_type": "stream",
     "text": [
      "\n",
      "2\n",
      "3\n",
      "4\n"
     ]
    }
   ],
   "source": [
    "pre_dat = pd.DataFrame({})\n",
    "for ind, filename in enumerate(filenames):\n",
    "    print(ind)\n",
    "    tmp_dat = pd.read_csv(filename)\n",
    "    pre_dat = pre_dat.append(tmp_dat)    \n",
    "pre_dat.columns = ['BET_ID', 'BET_TRANS_ID', 'MATCH_BET_ID', 'ACCOUNT_ID',\n",
    "       'COUNTRY_OF_RESIDENCE_NAME', 'PARENT_EVENT_ID', 'EVENT_ID', 'MATCH',\n",
    "       'EVENT_NAME', 'EVENT_DT', 'OFF_DT', 'BID_TYP', 'STATUS_ID',\n",
    "       'PLACED_DATE', 'TAKEN_DATE', 'SETTLED_DATE', 'CANCELLED_DATE',\n",
    "       'SELECTION_NAME', 'PERSISTENCE_TYPE', 'BET_PRICE', 'PRICE_TAKEN',\n",
    "       'INPLAY_BET', 'BET_SIZE', 'PROFIT_LOSS']\n",
    "peek_dat = pd.read_csv('DSMDatathon_samplefile.txt', sep='\\t')\n",
    "pre_dat = peek_dat.append(pre_dat)"
   ]
  },
  {
   "cell_type": "code",
   "execution_count": 8,
   "metadata": {
    "collapsed": true
   },
   "outputs": [],
   "source": [
    "pre_dat.loc[:, 'BID_TYP'] = pre_dat.BID_TYP.str.strip(' ')\n",
    "pre_dat.loc[:, 'STATUS_ID'] = pre_dat.STATUS_ID.str.strip(' ')\n",
    "# correct the profit loss\n",
    "c1 = ((pre_dat.BID_TYP == 'B') & (pre_dat.PROFIT_LOSS > 0))\n",
    "c2 = ((pre_dat.BID_TYP == 'B') & (pre_dat.PROFIT_LOSS < 0))\n",
    "c3 = ((pre_dat.BID_TYP == 'L') & (pre_dat.PROFIT_LOSS > 0))\n",
    "c4 = ((pre_dat.BID_TYP == 'L') & (pre_dat.PROFIT_LOSS < 0))\n",
    "pre_dat.loc[c1.values, 'correct_profit_loss'] = pre_dat.loc[c1.values, 'BET_SIZE'] * (pre_dat.loc[c1.values, 'PRICE_TAKEN'] -1)\n",
    "pre_dat.loc[c2.values, 'correct_profit_loss'] = - pre_dat.loc[c2.values, 'BET_SIZE']\n",
    "pre_dat.loc[c3.values, 'correct_profit_loss'] = pre_dat.loc[c3.values, 'BET_SIZE']\n",
    "pre_dat.loc[c4.values, 'correct_profit_loss'] = - pre_dat.loc[c4.values, 'BET_SIZE'] * (pre_dat.loc[c4.values, 'PRICE_TAKEN'] -1)"
   ]
  },
  {
   "cell_type": "code",
   "execution_count": 9,
   "metadata": {
    "collapsed": true
   },
   "outputs": [],
   "source": [
    "pre_dat_settled = pre_dat.loc[(pre_dat.STATUS_ID == 'S').values]"
   ]
  },
  {
   "cell_type": "code",
   "execution_count": 10,
   "metadata": {
    "collapsed": true
   },
   "outputs": [],
   "source": [
    "# create the same data form as in the bonus data\n",
    "pre_dat_settled_grouped = pre_dat_settled.groupby(['ACCOUNT_ID', 'EVENT_ID', 'BID_TYP', 'STATUS_ID', 'INPLAY_BET'])\n",
    "same_form_dat = pd.DataFrame({\n",
    "        'trans_count': pre_dat_settled_grouped.size(),\n",
    "        'avg_bet_size': pre_dat_settled_grouped['BET_SIZE'].mean(),\n",
    "        'max_bet_size': pre_dat_settled_grouped['BET_SIZE'].max(),\n",
    "        'min_bet_size': pre_dat_settled_grouped['BET_SIZE'].min(),\n",
    "        'stdev_bet_size': pre_dat_settled_grouped['BET_SIZE'].std(),\n",
    "        'profit': pre_dat_settled_grouped['correct_profit_loss'].sum()})\n",
    "same_form_dat = same_form_dat.fillna(0)"
   ]
  },
  {
   "cell_type": "code",
   "execution_count": 29,
   "metadata": {
    "collapsed": false
   },
   "outputs": [
    {
     "data": {
      "text/html": [
       "<div>\n",
       "<table border=\"1\" class=\"dataframe\">\n",
       "  <thead>\n",
       "    <tr style=\"text-align: right;\">\n",
       "      <th></th>\n",
       "      <th></th>\n",
       "      <th></th>\n",
       "      <th></th>\n",
       "      <th></th>\n",
       "      <th>avg_bet_size</th>\n",
       "      <th>max_bet_size</th>\n",
       "      <th>min_bet_size</th>\n",
       "      <th>profit</th>\n",
       "      <th>stdev_bet_size</th>\n",
       "      <th>trans_count</th>\n",
       "    </tr>\n",
       "    <tr>\n",
       "      <th>ACCOUNT_ID</th>\n",
       "      <th>EVENT_ID</th>\n",
       "      <th>BID_TYP</th>\n",
       "      <th>STATUS_ID</th>\n",
       "      <th>INPLAY_BET</th>\n",
       "      <th></th>\n",
       "      <th></th>\n",
       "      <th></th>\n",
       "      <th></th>\n",
       "      <th></th>\n",
       "      <th></th>\n",
       "    </tr>\n",
       "  </thead>\n",
       "  <tbody>\n",
       "    <tr>\n",
       "      <th>1011</th>\n",
       "      <th>101092958</th>\n",
       "      <th>B</th>\n",
       "      <th>S</th>\n",
       "      <th>Y</th>\n",
       "      <td>49.49500</td>\n",
       "      <td>49.495000</td>\n",
       "      <td>49.495000</td>\n",
       "      <td>-49.4950</td>\n",
       "      <td>0.000000</td>\n",
       "      <td>1</td>\n",
       "    </tr>\n",
       "    <tr>\n",
       "      <th>1534</th>\n",
       "      <th>101092958</th>\n",
       "      <th>B</th>\n",
       "      <th>S</th>\n",
       "      <th>Y</th>\n",
       "      <td>3.46465</td>\n",
       "      <td>5.187076</td>\n",
       "      <td>1.742224</td>\n",
       "      <td>-6.9293</td>\n",
       "      <td>2.435878</td>\n",
       "      <td>2</td>\n",
       "    </tr>\n",
       "    <tr>\n",
       "      <th>1887</th>\n",
       "      <th>101092958</th>\n",
       "      <th>L</th>\n",
       "      <th>S</th>\n",
       "      <th>N</th>\n",
       "      <td>397.93980</td>\n",
       "      <td>397.939800</td>\n",
       "      <td>397.939800</td>\n",
       "      <td>397.9398</td>\n",
       "      <td>0.000000</td>\n",
       "      <td>1</td>\n",
       "    </tr>\n",
       "    <tr>\n",
       "      <th>2155</th>\n",
       "      <th>101092958</th>\n",
       "      <th>B</th>\n",
       "      <th>S</th>\n",
       "      <th>Y</th>\n",
       "      <td>24.74750</td>\n",
       "      <td>43.555600</td>\n",
       "      <td>5.939400</td>\n",
       "      <td>-49.4950</td>\n",
       "      <td>26.598670</td>\n",
       "      <td>2</td>\n",
       "    </tr>\n",
       "    <tr>\n",
       "      <th>2166</th>\n",
       "      <th>101092958</th>\n",
       "      <th>B</th>\n",
       "      <th>S</th>\n",
       "      <th>Y</th>\n",
       "      <td>45.53540</td>\n",
       "      <td>87.111200</td>\n",
       "      <td>3.959600</td>\n",
       "      <td>-91.0708</td>\n",
       "      <td>58.797060</td>\n",
       "      <td>2</td>\n",
       "    </tr>\n",
       "  </tbody>\n",
       "</table>\n",
       "</div>"
      ],
      "text/plain": [
       "                                                   avg_bet_size  max_bet_size  \\\n",
       "ACCOUNT_ID EVENT_ID  BID_TYP STATUS_ID INPLAY_BET                               \n",
       "1011       101092958 B       S         Y               49.49500     49.495000   \n",
       "1534       101092958 B       S         Y                3.46465      5.187076   \n",
       "1887       101092958 L       S         N              397.93980    397.939800   \n",
       "2155       101092958 B       S         Y               24.74750     43.555600   \n",
       "2166       101092958 B       S         Y               45.53540     87.111200   \n",
       "\n",
       "                                                   min_bet_size    profit  \\\n",
       "ACCOUNT_ID EVENT_ID  BID_TYP STATUS_ID INPLAY_BET                           \n",
       "1011       101092958 B       S         Y              49.495000  -49.4950   \n",
       "1534       101092958 B       S         Y               1.742224   -6.9293   \n",
       "1887       101092958 L       S         N             397.939800  397.9398   \n",
       "2155       101092958 B       S         Y               5.939400  -49.4950   \n",
       "2166       101092958 B       S         Y               3.959600  -91.0708   \n",
       "\n",
       "                                                   stdev_bet_size  trans_count  \n",
       "ACCOUNT_ID EVENT_ID  BID_TYP STATUS_ID INPLAY_BET                               \n",
       "1011       101092958 B       S         Y                 0.000000            1  \n",
       "1534       101092958 B       S         Y                 2.435878            2  \n",
       "1887       101092958 L       S         N                 0.000000            1  \n",
       "2155       101092958 B       S         Y                26.598670            2  \n",
       "2166       101092958 B       S         Y                58.797060            2  "
      ]
     },
     "execution_count": 29,
     "metadata": {},
     "output_type": "execute_result"
    }
   ],
   "source": [
    "same_form_dat.head()"
   ]
  },
  {
   "cell_type": "code",
   "execution_count": 30,
   "metadata": {
    "collapsed": false
   },
   "outputs": [
    {
     "data": {
      "text/plain": [
       "(293481, 6)"
      ]
     },
     "execution_count": 30,
     "metadata": {},
     "output_type": "execute_result"
    }
   ],
   "source": [
    "same_form_dat.shape"
   ]
  },
  {
   "cell_type": "code",
   "execution_count": 25,
   "metadata": {
    "collapsed": true
   },
   "outputs": [],
   "source": [
    "random_subset = same_form_dat.sample(30000)"
   ]
  },
  {
   "cell_type": "code",
   "execution_count": 26,
   "metadata": {
    "collapsed": true
   },
   "outputs": [],
   "source": [
    "rfg = RandomForestRegressor()"
   ]
  },
  {
   "cell_type": "code",
   "execution_count": 27,
   "metadata": {
    "collapsed": false
   },
   "outputs": [
    {
     "data": {
      "text/plain": [
       "array([-3081.26770266, -2990.66196531, -3002.23213194])"
      ]
     },
     "execution_count": 27,
     "metadata": {},
     "output_type": "execute_result"
    }
   ],
   "source": [
    "scores = cross_val_score(rfg, \n",
    "                         random_subset[['avg_bet_size', 'max_bet_size', 'min_bet_size',\n",
    "                                        'stdev_bet_size', 'trans_count']],\n",
    "                         random_subset['profit'],\n",
    "                         cv=3,\n",
    "                         scoring='mean_absolute_error')\n",
    "scores"
   ]
  },
  {
   "cell_type": "code",
   "execution_count": 28,
   "metadata": {
    "collapsed": false
   },
   "outputs": [
    {
     "data": {
      "text/plain": [
       "RandomForestRegressor(bootstrap=True, criterion='mse', max_depth=None,\n",
       "           max_features='auto', max_leaf_nodes=None, min_samples_leaf=1,\n",
       "           min_samples_split=2, min_weight_fraction_leaf=0.0,\n",
       "           n_estimators=10, n_jobs=1, oob_score=False, random_state=None,\n",
       "           verbose=0, warm_start=False)"
      ]
     },
     "execution_count": 28,
     "metadata": {},
     "output_type": "execute_result"
    }
   ],
   "source": [
    "rfg.fit(same_form_dat[['avg_bet_size', 'max_bet_size', 'min_bet_size',\n",
    "                       'stdev_bet_size', 'trans_count']],\n",
    "        same_form_dat['profit'])"
   ]
  },
  {
   "cell_type": "code",
   "execution_count": 34,
   "metadata": {
    "collapsed": true
   },
   "outputs": [],
   "source": [
    "pred = rfg.predict(finals_settled[['AVG_BET_SIZE', 'MAX_BET_SIZE', 'MIN_BET_SIZE', 'STDEV_BET_SIZE', 'TRANSACTION_COUNT']])"
   ]
  },
  {
   "cell_type": "code",
   "execution_count": 36,
   "metadata": {
    "collapsed": false
   },
   "outputs": [
    {
     "data": {
      "text/plain": [
       "(38020,)"
      ]
     },
     "execution_count": 36,
     "metadata": {},
     "output_type": "execute_result"
    }
   ],
   "source": [
    "pred.shape"
   ]
  },
  {
   "cell_type": "code",
   "execution_count": 38,
   "metadata": {
    "collapsed": false
   },
   "outputs": [
    {
     "data": {
      "text/plain": [
       "array([  4.14471524e+00,   2.37849593e+03,  -1.49018312e+03, ...,\n",
       "         3.08674121e+04,   2.76247580e+04,  -3.85036672e+04])"
      ]
     },
     "execution_count": 38,
     "metadata": {},
     "output_type": "execute_result"
    }
   ],
   "source": [
    "pred"
   ]
  },
  {
   "cell_type": "code",
   "execution_count": 44,
   "metadata": {
    "collapsed": false
   },
   "outputs": [
    {
     "data": {
      "text/plain": [
       "(7374, 2)"
      ]
     },
     "execution_count": 44,
     "metadata": {},
     "output_type": "execute_result"
    }
   ],
   "source": [
    "rfg_to_submit = pd.DataFrame({\n",
    "    'Account_ID': finals_settled['ACCOUNT_ID'],\n",
    "    'Prediction': pred})\n",
    "rfg_to_submit = rfg_to_submit.groupby('Account_ID')['Prediction'].sum().loc[submit.Account_ID.tolist()].reset_index()\n",
    "rfg_to_submit.to_csv('rfg_pred.csv', index=False)\n",
    "rfg_to_submit.shape"
   ]
  },
  {
   "cell_type": "code",
   "execution_count": 66,
   "metadata": {
    "collapsed": false
   },
   "outputs": [],
   "source": [
    "label_dat = pre_dat.loc[pre_dat.EVENT_ID.isin([101183237, 101183757, 101183885, 101184013])]\n",
    "label_dat = label_dat.loc[(label_dat.STATUS_ID == 'S').values]\n",
    "labels = label_dat.groupby('ACCOUNT_ID')['correct_profit_loss'].sum()\n",
    "labels = labels.apply(lambda x: int(x > 0))\n",
    "labels = labels.reset_index()"
   ]
  },
  {
   "cell_type": "code",
   "execution_count": 179,
   "metadata": {
    "collapsed": true
   },
   "outputs": [],
   "source": [
    "dat = pre_dat.loc[~pre_dat.EVENT_ID.isin([101183237, 101183757, 101183885, 101184013])]\n",
    "# dat = pre_dat"
   ]
  },
  {
   "cell_type": "code",
   "execution_count": 180,
   "metadata": {
    "collapsed": false
   },
   "outputs": [],
   "source": [
    "dat = dat.loc[(dat.STATUS_ID == 'S').values]\n",
    "dat_by_account_bet = dat.groupby(['ACCOUNT_ID', 'EVENT_ID'])\n",
    "tran_freq = dat_by_account_bet.size()\n",
    "bet_size = dat_by_account_bet['BET_SIZE'].sum()\n",
    "tran_freq.name = 'tran_freq/game'\n",
    "bet_size.name = 'bet_size/game'\n",
    "tran_freq = tran_freq.reset_index()\n",
    "bet_size = bet_size.reset_index()\n",
    "features = pd.merge(tran_freq, bet_size, on=['ACCOUNT_ID', 'EVENT_ID'])\n",
    "features_by_account = features.groupby('ACCOUNT_ID')\n",
    "tran_freq = features_by_account['tran_freq/game'].mean()\n",
    "bet_size = features_by_account['bet_size/game'].mean()\n",
    "tran_freq = tran_freq.reset_index()\n",
    "bet_size = bet_size.reset_index()"
   ]
  },
  {
   "cell_type": "code",
   "execution_count": 162,
   "metadata": {
    "collapsed": true
   },
   "outputs": [],
   "source": [
    "# profit rate\n",
    "dat_by_account = dat.groupby('ACCOUNT_ID')\n",
    "profit = dat_by_account['correct_profit_loss'].sum()\n",
    "over_bet_size = dat_by_account['BET_SIZE'].sum()\n",
    "profit_rate = profit / over_bet_size\n",
    "profit_rate.name = 'profit_rate'\n",
    "profit_rate = profit_rate.reset_index()"
   ]
  },
  {
   "cell_type": "code",
   "execution_count": 181,
   "metadata": {
    "collapsed": true
   },
   "outputs": [],
   "source": [
    "# put everything together\n",
    "features = pd.merge(tran_freq, bet_size, on='ACCOUNT_ID')\n",
    "# features = pd.merge(features, profit_rate, on='ACCOUNT_ID', how='left')"
   ]
  },
  {
   "cell_type": "code",
   "execution_count": 182,
   "metadata": {
    "collapsed": true
   },
   "outputs": [],
   "source": [
    "# add labels\n",
    "features = pd.merge(features, labels, on='ACCOUNT_ID', how='right')\n",
    "features = features.rename(columns={'correct_profit_loss': 'label'})\n",
    "features = features.fillna(0)"
   ]
  },
  {
   "cell_type": "code",
   "execution_count": 188,
   "metadata": {
    "collapsed": false
   },
   "outputs": [
    {
     "data": {
      "text/plain": [
       "(9003, 4)"
      ]
     },
     "execution_count": 188,
     "metadata": {},
     "output_type": "execute_result"
    }
   ],
   "source": [
    "features.shape"
   ]
  },
  {
   "cell_type": "code",
   "execution_count": 168,
   "metadata": {
    "collapsed": false
   },
   "outputs": [
    {
     "name": "stdout",
     "output_type": "stream",
     "text": [
      "bdt\n",
      "rf\n"
     ]
    },
    {
     "data": {
      "text/plain": [
       "[array([ 0.39195101,  0.47030106,  0.40869565,  0.36281588,  0.49705305]),\n",
       " array([ 0.42377622,  0.44297277,  0.43023256,  0.41791045,  0.25662778])]"
      ]
     },
     "execution_count": 168,
     "metadata": {},
     "output_type": "execute_result"
    }
   ],
   "source": [
    "models = {\n",
    "    'rf': RandomForestClassifier(n_estimators=100),\n",
    "    'bdt': AdaBoostClassifier(n_estimators=100)}\n",
    "scores = []\n",
    "for model_name, model in models.items():\n",
    "    print(model_name)\n",
    "    clf = model\n",
    "    score = cross_val_score(clf, features[['tran_freq/game', 'bet_size/game']], \n",
    "                                             features['label'], cv=5, scoring='f1')\n",
    "    scores.append(score)\n",
    "scores"
   ]
  },
  {
   "cell_type": "code",
   "execution_count": 184,
   "metadata": {
    "collapsed": false
   },
   "outputs": [
    {
     "data": {
      "text/plain": [
       "AdaBoostClassifier(algorithm='SAMME.R', base_estimator=None,\n",
       "          learning_rate=1.0, n_estimators=100, random_state=None)"
      ]
     },
     "execution_count": 184,
     "metadata": {},
     "output_type": "execute_result"
    }
   ],
   "source": [
    "# train the models\n",
    "rfc = RandomForestClassifier(n_estimators=100)\n",
    "rfc.fit(features[['tran_freq/game', 'bet_size/game']], features['label'])\n",
    "bdt = AdaBoostClassifier(n_estimators=100)\n",
    "bdt.fit(features[['tran_freq/game', 'bet_size/game']], features['label'])"
   ]
  },
  {
   "cell_type": "code",
   "execution_count": 138,
   "metadata": {
    "collapsed": false
   },
   "outputs": [],
   "source": [
    "# features2 added dodgy \"profit_rate\"\n",
    "features2 = pd.merge(features2, features[['ACCOUNT_ID', 'profit_rate']], on='ACCOUNT_ID', how='left')"
   ]
  },
  {
   "cell_type": "code",
   "execution_count": 185,
   "metadata": {
    "collapsed": false
   },
   "outputs": [
    {
     "data": {
      "text/html": [
       "<div>\n",
       "<table border=\"1\" class=\"dataframe\">\n",
       "  <thead>\n",
       "    <tr style=\"text-align: right;\">\n",
       "      <th></th>\n",
       "      <th>ACCOUNT_ID</th>\n",
       "      <th>tran_freq/game</th>\n",
       "      <th>bet_size/game</th>\n",
       "    </tr>\n",
       "  </thead>\n",
       "  <tbody>\n",
       "    <tr>\n",
       "      <th>0</th>\n",
       "      <td>1000002</td>\n",
       "      <td>42.333333</td>\n",
       "      <td>6742.090950</td>\n",
       "    </tr>\n",
       "    <tr>\n",
       "      <th>2</th>\n",
       "      <td>1000004</td>\n",
       "      <td>1.000000</td>\n",
       "      <td>943.100000</td>\n",
       "    </tr>\n",
       "    <tr>\n",
       "      <th>3</th>\n",
       "      <td>1000005</td>\n",
       "      <td>6.500000</td>\n",
       "      <td>234.149450</td>\n",
       "    </tr>\n",
       "    <tr>\n",
       "      <th>5</th>\n",
       "      <td>1000010</td>\n",
       "      <td>7.500000</td>\n",
       "      <td>900.377670</td>\n",
       "    </tr>\n",
       "    <tr>\n",
       "      <th>8</th>\n",
       "      <td>1000014</td>\n",
       "      <td>1.000000</td>\n",
       "      <td>181.593333</td>\n",
       "    </tr>\n",
       "  </tbody>\n",
       "</table>\n",
       "</div>"
      ],
      "text/plain": [
       "   ACCOUNT_ID  tran_freq/game  bet_size/game\n",
       "0     1000002       42.333333    6742.090950\n",
       "2     1000004        1.000000     943.100000\n",
       "3     1000005        6.500000     234.149450\n",
       "5     1000010        7.500000     900.377670\n",
       "8     1000014        1.000000     181.593333"
      ]
     },
     "execution_count": 185,
     "metadata": {},
     "output_type": "execute_result"
    }
   ],
   "source": [
    "features2.head()"
   ]
  },
  {
   "cell_type": "code",
   "execution_count": 187,
   "metadata": {
    "collapsed": false
   },
   "outputs": [
    {
     "data": {
      "text/plain": [
       "ACCOUNT_ID        False\n",
       "tran_freq/game    False\n",
       "bet_size/game     False\n",
       "dtype: bool"
      ]
     },
     "execution_count": 187,
     "metadata": {},
     "output_type": "execute_result"
    }
   ],
   "source": [
    "features2.isnull().any()"
   ]
  },
  {
   "cell_type": "code",
   "execution_count": 144,
   "metadata": {
    "collapsed": false
   },
   "outputs": [],
   "source": [
    "features2 = features2.fillna(0)"
   ]
  },
  {
   "cell_type": "code",
   "execution_count": 199,
   "metadata": {
    "collapsed": false
   },
   "outputs": [],
   "source": [
    "rfc_pred = rfc.predict_proba(features2[['tran_freq/game', 'bet_size/game']])\n",
    "rfc_pred = pd.DataFrame({'Account_ID': submit.Account_ID, 'Prediction': rfc_pred[:, 1]})"
   ]
  },
  {
   "cell_type": "code",
   "execution_count": 200,
   "metadata": {
    "collapsed": false
   },
   "outputs": [
    {
     "data": {
      "text/html": [
       "<div>\n",
       "<table border=\"1\" class=\"dataframe\">\n",
       "  <thead>\n",
       "    <tr style=\"text-align: right;\">\n",
       "      <th></th>\n",
       "      <th>Account_ID</th>\n",
       "      <th>Prediction</th>\n",
       "    </tr>\n",
       "  </thead>\n",
       "  <tbody>\n",
       "    <tr>\n",
       "      <th>0</th>\n",
       "      <td>1004240</td>\n",
       "      <td>0.67</td>\n",
       "    </tr>\n",
       "    <tr>\n",
       "      <th>1</th>\n",
       "      <td>1009742</td>\n",
       "      <td>0.19</td>\n",
       "    </tr>\n",
       "    <tr>\n",
       "      <th>2</th>\n",
       "      <td>1003908</td>\n",
       "      <td>0.36</td>\n",
       "    </tr>\n",
       "    <tr>\n",
       "      <th>3</th>\n",
       "      <td>1020888</td>\n",
       "      <td>0.39</td>\n",
       "    </tr>\n",
       "    <tr>\n",
       "      <th>4</th>\n",
       "      <td>1010074</td>\n",
       "      <td>0.16</td>\n",
       "    </tr>\n",
       "  </tbody>\n",
       "</table>\n",
       "</div>"
      ],
      "text/plain": [
       "   Account_ID  Prediction\n",
       "0     1004240        0.67\n",
       "1     1009742        0.19\n",
       "2     1003908        0.36\n",
       "3     1020888        0.39\n",
       "4     1010074        0.16"
      ]
     },
     "execution_count": 200,
     "metadata": {},
     "output_type": "execute_result"
    }
   ],
   "source": [
    "rfc_pred.head()"
   ]
  },
  {
   "cell_type": "code",
   "execution_count": 201,
   "metadata": {
    "collapsed": true
   },
   "outputs": [],
   "source": [
    "rfc_pred.to_csv('rfc.csv', index=False)"
   ]
  },
  {
   "cell_type": "code",
   "execution_count": 196,
   "metadata": {
    "collapsed": false
   },
   "outputs": [],
   "source": [
    "bdt_pred = bdt.predict_proba(features2[['tran_freq/game', 'bet_size/game']])\n",
    "bdt_pred = pd.DataFrame({'Account_ID': submit.Account_ID, 'Prediction': bdt_pred[:, 1]})"
   ]
  },
  {
   "cell_type": "code",
   "execution_count": 197,
   "metadata": {
    "collapsed": false
   },
   "outputs": [
    {
     "data": {
      "text/html": [
       "<div>\n",
       "<table border=\"1\" class=\"dataframe\">\n",
       "  <thead>\n",
       "    <tr style=\"text-align: right;\">\n",
       "      <th></th>\n",
       "      <th>Account_ID</th>\n",
       "      <th>Prediction</th>\n",
       "    </tr>\n",
       "  </thead>\n",
       "  <tbody>\n",
       "    <tr>\n",
       "      <th>0</th>\n",
       "      <td>1004240</td>\n",
       "      <td>0.498705</td>\n",
       "    </tr>\n",
       "    <tr>\n",
       "      <th>1</th>\n",
       "      <td>1009742</td>\n",
       "      <td>0.501462</td>\n",
       "    </tr>\n",
       "    <tr>\n",
       "      <th>2</th>\n",
       "      <td>1003908</td>\n",
       "      <td>0.497959</td>\n",
       "    </tr>\n",
       "    <tr>\n",
       "      <th>3</th>\n",
       "      <td>1020888</td>\n",
       "      <td>0.498164</td>\n",
       "    </tr>\n",
       "    <tr>\n",
       "      <th>4</th>\n",
       "      <td>1010074</td>\n",
       "      <td>0.500636</td>\n",
       "    </tr>\n",
       "  </tbody>\n",
       "</table>\n",
       "</div>"
      ],
      "text/plain": [
       "   Account_ID  Prediction\n",
       "0     1004240    0.498705\n",
       "1     1009742    0.501462\n",
       "2     1003908    0.497959\n",
       "3     1020888    0.498164\n",
       "4     1010074    0.500636"
      ]
     },
     "execution_count": 197,
     "metadata": {},
     "output_type": "execute_result"
    }
   ],
   "source": [
    "bdt_pred.head()"
   ]
  },
  {
   "cell_type": "code",
   "execution_count": 198,
   "metadata": {
    "collapsed": true
   },
   "outputs": [],
   "source": [
    "bdt_pred.to_csv('bdt.csv', index=False)"
   ]
  },
  {
   "cell_type": "code",
   "execution_count": null,
   "metadata": {
    "collapsed": true
   },
   "outputs": [],
   "source": []
  }
 ],
 "metadata": {
  "kernelspec": {
   "display_name": "Python 3",
   "language": "python",
   "name": "python3"
  },
  "language_info": {
   "codemirror_mode": {
    "name": "ipython",
    "version": 3
   },
   "file_extension": ".py",
   "mimetype": "text/x-python",
   "name": "python",
   "nbconvert_exporter": "python",
   "pygments_lexer": "ipython3",
   "version": "3.4.3"
  }
 },
 "nbformat": 4,
 "nbformat_minor": 0
}
