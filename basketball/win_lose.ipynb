{
 "cells": [
  {
   "cell_type": "code",
   "execution_count": 1,
   "metadata": {
    "collapsed": true
   },
   "outputs": [],
   "source": [
    "%matplotlib inline\n",
    "import pandas as pd\n",
    "import numpy as np\n",
    "import matplotlib.pyplot as plt\n",
    "import seaborn as sb"
   ]
  },
  {
   "cell_type": "code",
   "execution_count": 2,
   "metadata": {
    "collapsed": true
   },
   "outputs": [],
   "source": [
    "rdat = pd.read_csv('RegularSeasonCompactResults.csv')\n",
    "tdat = pd.read_csv('TourneyCompactResults.csv')\n",
    "dat = pd.concat([rdat, tdat])"
   ]
  },
  {
   "cell_type": "code",
   "execution_count": 3,
   "metadata": {
    "collapsed": false
   },
   "outputs": [
    {
     "data": {
      "text/html": [
       "<div>\n",
       "<table border=\"1\" class=\"dataframe\">\n",
       "  <thead>\n",
       "    <tr style=\"text-align: right;\">\n",
       "      <th></th>\n",
       "      <th>Season</th>\n",
       "      <th>Daynum</th>\n",
       "      <th>Wteam</th>\n",
       "      <th>Wscore</th>\n",
       "      <th>Lteam</th>\n",
       "      <th>Lscore</th>\n",
       "      <th>Wloc</th>\n",
       "      <th>Numot</th>\n",
       "    </tr>\n",
       "  </thead>\n",
       "  <tbody>\n",
       "    <tr>\n",
       "      <th>0</th>\n",
       "      <td>1985</td>\n",
       "      <td>136</td>\n",
       "      <td>1116</td>\n",
       "      <td>63</td>\n",
       "      <td>1234</td>\n",
       "      <td>54</td>\n",
       "      <td>N</td>\n",
       "      <td>0</td>\n",
       "    </tr>\n",
       "    <tr>\n",
       "      <th>1</th>\n",
       "      <td>1985</td>\n",
       "      <td>136</td>\n",
       "      <td>1120</td>\n",
       "      <td>59</td>\n",
       "      <td>1345</td>\n",
       "      <td>58</td>\n",
       "      <td>N</td>\n",
       "      <td>0</td>\n",
       "    </tr>\n",
       "    <tr>\n",
       "      <th>2</th>\n",
       "      <td>1985</td>\n",
       "      <td>136</td>\n",
       "      <td>1207</td>\n",
       "      <td>68</td>\n",
       "      <td>1250</td>\n",
       "      <td>43</td>\n",
       "      <td>N</td>\n",
       "      <td>0</td>\n",
       "    </tr>\n",
       "    <tr>\n",
       "      <th>3</th>\n",
       "      <td>1985</td>\n",
       "      <td>136</td>\n",
       "      <td>1229</td>\n",
       "      <td>58</td>\n",
       "      <td>1425</td>\n",
       "      <td>55</td>\n",
       "      <td>N</td>\n",
       "      <td>0</td>\n",
       "    </tr>\n",
       "    <tr>\n",
       "      <th>4</th>\n",
       "      <td>1985</td>\n",
       "      <td>136</td>\n",
       "      <td>1242</td>\n",
       "      <td>49</td>\n",
       "      <td>1325</td>\n",
       "      <td>38</td>\n",
       "      <td>N</td>\n",
       "      <td>0</td>\n",
       "    </tr>\n",
       "  </tbody>\n",
       "</table>\n",
       "</div>"
      ],
      "text/plain": [
       "   Season  Daynum  Wteam  Wscore  Lteam  Lscore Wloc  Numot\n",
       "0    1985     136   1116      63   1234      54    N      0\n",
       "1    1985     136   1120      59   1345      58    N      0\n",
       "2    1985     136   1207      68   1250      43    N      0\n",
       "3    1985     136   1229      58   1425      55    N      0\n",
       "4    1985     136   1242      49   1325      38    N      0"
      ]
     },
     "execution_count": 3,
     "metadata": {},
     "output_type": "execute_result"
    }
   ],
   "source": [
    "tdat.head()"
   ]
  },
  {
   "cell_type": "code",
   "execution_count": 4,
   "metadata": {
    "collapsed": true
   },
   "outputs": [],
   "source": [
    "tdat_history = (tdat.Season.apply(str) + '_' + tdat.loc[:, ['Wteam', 'Lteam']].min(axis=1).apply(str) + '_' + tdat.loc[:, ['Wteam', 'Lteam']].max(axis=1).apply(str))"
   ]
  },
  {
   "cell_type": "code",
   "execution_count": 5,
   "metadata": {
    "collapsed": false
   },
   "outputs": [
    {
     "data": {
      "text/plain": [
       "(2050,)"
      ]
     },
     "execution_count": 5,
     "metadata": {},
     "output_type": "execute_result"
    }
   ],
   "source": [
    "tdat_history.shape"
   ]
  },
  {
   "cell_type": "code",
   "execution_count": 6,
   "metadata": {
    "collapsed": false
   },
   "outputs": [],
   "source": [
    "tdat_results = (tdat.loc[:, ['Wteam', 'Lteam']].min(axis=1) == tdat.Wteam).astype('int')"
   ]
  },
  {
   "cell_type": "code",
   "execution_count": 8,
   "metadata": {
    "collapsed": true
   },
   "outputs": [],
   "source": [
    "tdat_results = tdat_results.map({1: 0.99, 0: 0.01})"
   ]
  },
  {
   "cell_type": "code",
   "execution_count": 9,
   "metadata": {
    "collapsed": false
   },
   "outputs": [
    {
     "data": {
      "text/plain": [
       "0    0.99\n",
       "1    0.99\n",
       "2    0.99\n",
       "3    0.99\n",
       "4    0.99\n",
       "dtype: float64"
      ]
     },
     "execution_count": 9,
     "metadata": {},
     "output_type": "execute_result"
    }
   ],
   "source": [
    "tdat_results.head()"
   ]
  },
  {
   "cell_type": "code",
   "execution_count": 10,
   "metadata": {
    "collapsed": true
   },
   "outputs": [],
   "source": [
    "tdat_history.name = 'id'\n",
    "tdat_results.name = 'pred'\n",
    "gt = pd.concat([tdat_history, tdat_results], axis=1)"
   ]
  },
  {
   "cell_type": "code",
   "execution_count": 11,
   "metadata": {
    "collapsed": true
   },
   "outputs": [],
   "source": [
    "submit = pd.read_csv('sample_submission.csv')"
   ]
  },
  {
   "cell_type": "code",
   "execution_count": 12,
   "metadata": {
    "collapsed": false
   },
   "outputs": [
    {
     "data": {
      "text/html": [
       "<div>\n",
       "<table border=\"1\" class=\"dataframe\">\n",
       "  <thead>\n",
       "    <tr style=\"text-align: right;\">\n",
       "      <th></th>\n",
       "      <th>id</th>\n",
       "      <th>pred</th>\n",
       "    </tr>\n",
       "  </thead>\n",
       "  <tbody>\n",
       "    <tr>\n",
       "      <th>0</th>\n",
       "      <td>2013_1103_1107</td>\n",
       "      <td>0.5</td>\n",
       "    </tr>\n",
       "    <tr>\n",
       "      <th>1</th>\n",
       "      <td>2013_1103_1112</td>\n",
       "      <td>0.5</td>\n",
       "    </tr>\n",
       "    <tr>\n",
       "      <th>2</th>\n",
       "      <td>2013_1103_1125</td>\n",
       "      <td>0.5</td>\n",
       "    </tr>\n",
       "    <tr>\n",
       "      <th>3</th>\n",
       "      <td>2013_1103_1129</td>\n",
       "      <td>0.5</td>\n",
       "    </tr>\n",
       "    <tr>\n",
       "      <th>4</th>\n",
       "      <td>2013_1103_1137</td>\n",
       "      <td>0.5</td>\n",
       "    </tr>\n",
       "  </tbody>\n",
       "</table>\n",
       "</div>"
      ],
      "text/plain": [
       "               id  pred\n",
       "0  2013_1103_1107   0.5\n",
       "1  2013_1103_1112   0.5\n",
       "2  2013_1103_1125   0.5\n",
       "3  2013_1103_1129   0.5\n",
       "4  2013_1103_1137   0.5"
      ]
     },
     "execution_count": 12,
     "metadata": {},
     "output_type": "execute_result"
    }
   ],
   "source": [
    "submit.head()"
   ]
  },
  {
   "cell_type": "code",
   "execution_count": 13,
   "metadata": {
    "collapsed": false
   },
   "outputs": [
    {
     "data": {
      "text/html": [
       "<div>\n",
       "<table border=\"1\" class=\"dataframe\">\n",
       "  <thead>\n",
       "    <tr style=\"text-align: right;\">\n",
       "      <th></th>\n",
       "      <th>id</th>\n",
       "      <th>pred</th>\n",
       "    </tr>\n",
       "  </thead>\n",
       "  <tbody>\n",
       "    <tr>\n",
       "      <th>0</th>\n",
       "      <td>1985_1116_1234</td>\n",
       "      <td>0.99</td>\n",
       "    </tr>\n",
       "    <tr>\n",
       "      <th>1</th>\n",
       "      <td>1985_1120_1345</td>\n",
       "      <td>0.99</td>\n",
       "    </tr>\n",
       "    <tr>\n",
       "      <th>2</th>\n",
       "      <td>1985_1207_1250</td>\n",
       "      <td>0.99</td>\n",
       "    </tr>\n",
       "    <tr>\n",
       "      <th>3</th>\n",
       "      <td>1985_1229_1425</td>\n",
       "      <td>0.99</td>\n",
       "    </tr>\n",
       "    <tr>\n",
       "      <th>4</th>\n",
       "      <td>1985_1242_1325</td>\n",
       "      <td>0.99</td>\n",
       "    </tr>\n",
       "  </tbody>\n",
       "</table>\n",
       "</div>"
      ],
      "text/plain": [
       "               id  pred\n",
       "0  1985_1116_1234  0.99\n",
       "1  1985_1120_1345  0.99\n",
       "2  1985_1207_1250  0.99\n",
       "3  1985_1229_1425  0.99\n",
       "4  1985_1242_1325  0.99"
      ]
     },
     "execution_count": 13,
     "metadata": {},
     "output_type": "execute_result"
    }
   ],
   "source": [
    "gt.head()"
   ]
  },
  {
   "cell_type": "code",
   "execution_count": 14,
   "metadata": {
    "collapsed": true
   },
   "outputs": [],
   "source": [
    "submit = pd.merge(submit.loc[:, ['id']], gt, on='id', how='left').fillna(0.5)"
   ]
  },
  {
   "cell_type": "code",
   "execution_count": 15,
   "metadata": {
    "collapsed": false
   },
   "outputs": [
    {
     "data": {
      "text/plain": [
       "0.50    8844\n",
       "0.01     137\n",
       "0.99     131\n",
       "Name: pred, dtype: int64"
      ]
     },
     "execution_count": 15,
     "metadata": {},
     "output_type": "execute_result"
    }
   ],
   "source": [
    "submit.pred.value_counts(dropna=False)"
   ]
  },
  {
   "cell_type": "code",
   "execution_count": 16,
   "metadata": {
    "collapsed": true
   },
   "outputs": [],
   "source": [
    "submit.to_csv('gt.csv', index=False)"
   ]
  },
  {
   "cell_type": "code",
   "execution_count": 27,
   "metadata": {
    "collapsed": false
   },
   "outputs": [
    {
     "data": {
      "text/html": [
       "<div>\n",
       "<table border=\"1\" class=\"dataframe\">\n",
       "  <thead>\n",
       "    <tr style=\"text-align: right;\">\n",
       "      <th></th>\n",
       "      <th>Season</th>\n",
       "      <th>Daynum</th>\n",
       "      <th>Wteam</th>\n",
       "      <th>Wscore</th>\n",
       "      <th>Lteam</th>\n",
       "      <th>Lscore</th>\n",
       "      <th>Wloc</th>\n",
       "      <th>Numot</th>\n",
       "    </tr>\n",
       "  </thead>\n",
       "  <tbody>\n",
       "    <tr>\n",
       "      <th>123897</th>\n",
       "      <td>2013</td>\n",
       "      <td>4</td>\n",
       "      <td>1157</td>\n",
       "      <td>74</td>\n",
       "      <td>1103</td>\n",
       "      <td>70</td>\n",
       "      <td>H</td>\n",
       "      <td>1</td>\n",
       "    </tr>\n",
       "    <tr>\n",
       "      <th>124185</th>\n",
       "      <td>2013</td>\n",
       "      <td>10</td>\n",
       "      <td>1329</td>\n",
       "      <td>69</td>\n",
       "      <td>1103</td>\n",
       "      <td>65</td>\n",
       "      <td>N</td>\n",
       "      <td>1</td>\n",
       "    </tr>\n",
       "    <tr>\n",
       "      <th>124204</th>\n",
       "      <td>2013</td>\n",
       "      <td>11</td>\n",
       "      <td>1103</td>\n",
       "      <td>82</td>\n",
       "      <td>1421</td>\n",
       "      <td>63</td>\n",
       "      <td>N</td>\n",
       "      <td>0</td>\n",
       "    </tr>\n",
       "    <tr>\n",
       "      <th>124326</th>\n",
       "      <td>2013</td>\n",
       "      <td>13</td>\n",
       "      <td>1103</td>\n",
       "      <td>85</td>\n",
       "      <td>1336</td>\n",
       "      <td>60</td>\n",
       "      <td>N</td>\n",
       "      <td>0</td>\n",
       "    </tr>\n",
       "    <tr>\n",
       "      <th>124988</th>\n",
       "      <td>2013</td>\n",
       "      <td>27</td>\n",
       "      <td>1103</td>\n",
       "      <td>82</td>\n",
       "      <td>1292</td>\n",
       "      <td>77</td>\n",
       "      <td>H</td>\n",
       "      <td>1</td>\n",
       "    </tr>\n",
       "    <tr>\n",
       "      <th>125239</th>\n",
       "      <td>2013</td>\n",
       "      <td>34</td>\n",
       "      <td>1166</td>\n",
       "      <td>77</td>\n",
       "      <td>1103</td>\n",
       "      <td>61</td>\n",
       "      <td>H</td>\n",
       "      <td>0</td>\n",
       "    </tr>\n",
       "    <tr>\n",
       "      <th>125323</th>\n",
       "      <td>2013</td>\n",
       "      <td>40</td>\n",
       "      <td>1178</td>\n",
       "      <td>80</td>\n",
       "      <td>1103</td>\n",
       "      <td>73</td>\n",
       "      <td>H</td>\n",
       "      <td>0</td>\n",
       "    </tr>\n",
       "    <tr>\n",
       "      <th>125437</th>\n",
       "      <td>2013</td>\n",
       "      <td>43</td>\n",
       "      <td>1103</td>\n",
       "      <td>76</td>\n",
       "      <td>1115</td>\n",
       "      <td>46</td>\n",
       "      <td>H</td>\n",
       "      <td>0</td>\n",
       "    </tr>\n",
       "    <tr>\n",
       "      <th>125696</th>\n",
       "      <td>2013</td>\n",
       "      <td>48</td>\n",
       "      <td>1103</td>\n",
       "      <td>87</td>\n",
       "      <td>1156</td>\n",
       "      <td>57</td>\n",
       "      <td>H</td>\n",
       "      <td>0</td>\n",
       "    </tr>\n",
       "    <tr>\n",
       "      <th>125720</th>\n",
       "      <td>2013</td>\n",
       "      <td>52</td>\n",
       "      <td>1103</td>\n",
       "      <td>83</td>\n",
       "      <td>1411</td>\n",
       "      <td>68</td>\n",
       "      <td>H</td>\n",
       "      <td>0</td>\n",
       "    </tr>\n",
       "    <tr>\n",
       "      <th>125844</th>\n",
       "      <td>2013</td>\n",
       "      <td>55</td>\n",
       "      <td>1103</td>\n",
       "      <td>62</td>\n",
       "      <td>1343</td>\n",
       "      <td>58</td>\n",
       "      <td>H</td>\n",
       "      <td>0</td>\n",
       "    </tr>\n",
       "    <tr>\n",
       "      <th>125907</th>\n",
       "      <td>2013</td>\n",
       "      <td>58</td>\n",
       "      <td>1103</td>\n",
       "      <td>91</td>\n",
       "      <td>1164</td>\n",
       "      <td>63</td>\n",
       "      <td>H</td>\n",
       "      <td>0</td>\n",
       "    </tr>\n",
       "    <tr>\n",
       "      <th>126219</th>\n",
       "      <td>2013</td>\n",
       "      <td>65</td>\n",
       "      <td>1103</td>\n",
       "      <td>65</td>\n",
       "      <td>1444</td>\n",
       "      <td>43</td>\n",
       "      <td>H</td>\n",
       "      <td>0</td>\n",
       "    </tr>\n",
       "    <tr>\n",
       "      <th>126347</th>\n",
       "      <td>2013</td>\n",
       "      <td>68</td>\n",
       "      <td>1103</td>\n",
       "      <td>68</td>\n",
       "      <td>1296</td>\n",
       "      <td>53</td>\n",
       "      <td>A</td>\n",
       "      <td>0</td>\n",
       "    </tr>\n",
       "    <tr>\n",
       "      <th>126539</th>\n",
       "      <td>2013</td>\n",
       "      <td>72</td>\n",
       "      <td>1103</td>\n",
       "      <td>71</td>\n",
       "      <td>1123</td>\n",
       "      <td>64</td>\n",
       "      <td>H</td>\n",
       "      <td>0</td>\n",
       "    </tr>\n",
       "    <tr>\n",
       "      <th>126667</th>\n",
       "      <td>2013</td>\n",
       "      <td>75</td>\n",
       "      <td>1103</td>\n",
       "      <td>71</td>\n",
       "      <td>1245</td>\n",
       "      <td>67</td>\n",
       "      <td>A</td>\n",
       "      <td>0</td>\n",
       "    </tr>\n",
       "    <tr>\n",
       "      <th>126860</th>\n",
       "      <td>2013</td>\n",
       "      <td>79</td>\n",
       "      <td>1103</td>\n",
       "      <td>71</td>\n",
       "      <td>1405</td>\n",
       "      <td>56</td>\n",
       "      <td>A</td>\n",
       "      <td>0</td>\n",
       "    </tr>\n",
       "    <tr>\n",
       "      <th>126992</th>\n",
       "      <td>2013</td>\n",
       "      <td>82</td>\n",
       "      <td>1103</td>\n",
       "      <td>68</td>\n",
       "      <td>1138</td>\n",
       "      <td>64</td>\n",
       "      <td>H</td>\n",
       "      <td>0</td>\n",
       "    </tr>\n",
       "    <tr>\n",
       "      <th>127181</th>\n",
       "      <td>2013</td>\n",
       "      <td>86</td>\n",
       "      <td>1103</td>\n",
       "      <td>68</td>\n",
       "      <td>1132</td>\n",
       "      <td>55</td>\n",
       "      <td>A</td>\n",
       "      <td>0</td>\n",
       "    </tr>\n",
       "    <tr>\n",
       "      <th>127309</th>\n",
       "      <td>2013</td>\n",
       "      <td>89</td>\n",
       "      <td>1103</td>\n",
       "      <td>86</td>\n",
       "      <td>1325</td>\n",
       "      <td>72</td>\n",
       "      <td>H</td>\n",
       "      <td>0</td>\n",
       "    </tr>\n",
       "    <tr>\n",
       "      <th>127487</th>\n",
       "      <td>2013</td>\n",
       "      <td>92</td>\n",
       "      <td>1103</td>\n",
       "      <td>68</td>\n",
       "      <td>1141</td>\n",
       "      <td>56</td>\n",
       "      <td>H</td>\n",
       "      <td>0</td>\n",
       "    </tr>\n",
       "    <tr>\n",
       "      <th>127630</th>\n",
       "      <td>2013</td>\n",
       "      <td>96</td>\n",
       "      <td>1103</td>\n",
       "      <td>54</td>\n",
       "      <td>1275</td>\n",
       "      <td>50</td>\n",
       "      <td>A</td>\n",
       "      <td>0</td>\n",
       "    </tr>\n",
       "    <tr>\n",
       "      <th>127826</th>\n",
       "      <td>2013</td>\n",
       "      <td>100</td>\n",
       "      <td>1103</td>\n",
       "      <td>70</td>\n",
       "      <td>1185</td>\n",
       "      <td>62</td>\n",
       "      <td>A</td>\n",
       "      <td>0</td>\n",
       "    </tr>\n",
       "    <tr>\n",
       "      <th>127961</th>\n",
       "      <td>2013</td>\n",
       "      <td>103</td>\n",
       "      <td>1103</td>\n",
       "      <td>67</td>\n",
       "      <td>1132</td>\n",
       "      <td>50</td>\n",
       "      <td>H</td>\n",
       "      <td>0</td>\n",
       "    </tr>\n",
       "    <tr>\n",
       "      <th>128260</th>\n",
       "      <td>2013</td>\n",
       "      <td>109</td>\n",
       "      <td>1103</td>\n",
       "      <td>68</td>\n",
       "      <td>1295</td>\n",
       "      <td>53</td>\n",
       "      <td>H</td>\n",
       "      <td>0</td>\n",
       "    </tr>\n",
       "    <tr>\n",
       "      <th>128456</th>\n",
       "      <td>2013</td>\n",
       "      <td>114</td>\n",
       "      <td>1103</td>\n",
       "      <td>88</td>\n",
       "      <td>1325</td>\n",
       "      <td>81</td>\n",
       "      <td>A</td>\n",
       "      <td>1</td>\n",
       "    </tr>\n",
       "    <tr>\n",
       "      <th>128597</th>\n",
       "      <td>2013</td>\n",
       "      <td>117</td>\n",
       "      <td>1138</td>\n",
       "      <td>81</td>\n",
       "      <td>1103</td>\n",
       "      <td>67</td>\n",
       "      <td>H</td>\n",
       "      <td>0</td>\n",
       "    </tr>\n",
       "    <tr>\n",
       "      <th>128759</th>\n",
       "      <td>2013</td>\n",
       "      <td>120</td>\n",
       "      <td>1103</td>\n",
       "      <td>72</td>\n",
       "      <td>1275</td>\n",
       "      <td>58</td>\n",
       "      <td>H</td>\n",
       "      <td>0</td>\n",
       "    </tr>\n",
       "    <tr>\n",
       "      <th>128950</th>\n",
       "      <td>2013</td>\n",
       "      <td>124</td>\n",
       "      <td>1245</td>\n",
       "      <td>68</td>\n",
       "      <td>1103</td>\n",
       "      <td>64</td>\n",
       "      <td>A</td>\n",
       "      <td>0</td>\n",
       "    </tr>\n",
       "    <tr>\n",
       "      <th>129136</th>\n",
       "      <td>2013</td>\n",
       "      <td>130</td>\n",
       "      <td>1103</td>\n",
       "      <td>62</td>\n",
       "      <td>1245</td>\n",
       "      <td>59</td>\n",
       "      <td>N</td>\n",
       "      <td>0</td>\n",
       "    </tr>\n",
       "    <tr>\n",
       "      <th>129178</th>\n",
       "      <td>2013</td>\n",
       "      <td>131</td>\n",
       "      <td>1103</td>\n",
       "      <td>65</td>\n",
       "      <td>1325</td>\n",
       "      <td>46</td>\n",
       "      <td>N</td>\n",
       "      <td>0</td>\n",
       "    </tr>\n",
       "    <tr>\n",
       "      <th>1800</th>\n",
       "      <td>2013</td>\n",
       "      <td>136</td>\n",
       "      <td>1433</td>\n",
       "      <td>88</td>\n",
       "      <td>1103</td>\n",
       "      <td>42</td>\n",
       "      <td>N</td>\n",
       "      <td>0</td>\n",
       "    </tr>\n",
       "  </tbody>\n",
       "</table>\n",
       "</div>"
      ],
      "text/plain": [
       "        Season  Daynum  Wteam  Wscore  Lteam  Lscore Wloc  Numot\n",
       "123897    2013       4   1157      74   1103      70    H      1\n",
       "124185    2013      10   1329      69   1103      65    N      1\n",
       "124204    2013      11   1103      82   1421      63    N      0\n",
       "124326    2013      13   1103      85   1336      60    N      0\n",
       "124988    2013      27   1103      82   1292      77    H      1\n",
       "125239    2013      34   1166      77   1103      61    H      0\n",
       "125323    2013      40   1178      80   1103      73    H      0\n",
       "125437    2013      43   1103      76   1115      46    H      0\n",
       "125696    2013      48   1103      87   1156      57    H      0\n",
       "125720    2013      52   1103      83   1411      68    H      0\n",
       "125844    2013      55   1103      62   1343      58    H      0\n",
       "125907    2013      58   1103      91   1164      63    H      0\n",
       "126219    2013      65   1103      65   1444      43    H      0\n",
       "126347    2013      68   1103      68   1296      53    A      0\n",
       "126539    2013      72   1103      71   1123      64    H      0\n",
       "126667    2013      75   1103      71   1245      67    A      0\n",
       "126860    2013      79   1103      71   1405      56    A      0\n",
       "126992    2013      82   1103      68   1138      64    H      0\n",
       "127181    2013      86   1103      68   1132      55    A      0\n",
       "127309    2013      89   1103      86   1325      72    H      0\n",
       "127487    2013      92   1103      68   1141      56    H      0\n",
       "127630    2013      96   1103      54   1275      50    A      0\n",
       "127826    2013     100   1103      70   1185      62    A      0\n",
       "127961    2013     103   1103      67   1132      50    H      0\n",
       "128260    2013     109   1103      68   1295      53    H      0\n",
       "128456    2013     114   1103      88   1325      81    A      1\n",
       "128597    2013     117   1138      81   1103      67    H      0\n",
       "128759    2013     120   1103      72   1275      58    H      0\n",
       "128950    2013     124   1245      68   1103      64    A      0\n",
       "129136    2013     130   1103      62   1245      59    N      0\n",
       "129178    2013     131   1103      65   1325      46    N      0\n",
       "1800      2013     136   1433      88   1103      42    N      0"
      ]
     },
     "execution_count": 27,
     "metadata": {},
     "output_type": "execute_result"
    }
   ],
   "source": [
    "dat.loc[(dat.Season == 2013) & ((dat.Wteam == 1103) | (dat.Lteam == 1103))]"
   ]
  },
  {
   "cell_type": "code",
   "execution_count": 35,
   "metadata": {
    "collapsed": false
   },
   "outputs": [],
   "source": [
    "history = dat.Season.apply(str) + '_' + dat.loc[:, ['Wteam', 'Lteam']].min(axis=1).apply(str) + '_' + dat.loc[:, ['Wteam', 'Lteam']].max(axis=1).apply(str)"
   ]
  },
  {
   "cell_type": "code",
   "execution_count": 36,
   "metadata": {
    "collapsed": false
   },
   "outputs": [
    {
     "data": {
      "text/plain": [
       "(147339,)"
      ]
     },
     "execution_count": 36,
     "metadata": {},
     "output_type": "execute_result"
    }
   ],
   "source": [
    "history.shape"
   ]
  },
  {
   "cell_type": "code",
   "execution_count": 37,
   "metadata": {
    "collapsed": false
   },
   "outputs": [
    {
     "data": {
      "text/plain": [
       "101574"
      ]
     },
     "execution_count": 37,
     "metadata": {},
     "output_type": "execute_result"
    }
   ],
   "source": [
    "history.nunique()"
   ]
  },
  {
   "cell_type": "code",
   "execution_count": 17,
   "metadata": {
    "collapsed": true
   },
   "outputs": [],
   "source": [
    "games = dat.loc[:, ['Wteam', 'Lteam']].copy()"
   ]
  },
  {
   "cell_type": "code",
   "execution_count": 18,
   "metadata": {
    "collapsed": false
   },
   "outputs": [
    {
     "data": {
      "text/html": [
       "<div>\n",
       "<table border=\"1\" class=\"dataframe\">\n",
       "  <thead>\n",
       "    <tr style=\"text-align: right;\">\n",
       "      <th></th>\n",
       "      <th>Wteam</th>\n",
       "      <th>Lteam</th>\n",
       "    </tr>\n",
       "  </thead>\n",
       "  <tbody>\n",
       "    <tr>\n",
       "      <th>0</th>\n",
       "      <td>1228</td>\n",
       "      <td>1328</td>\n",
       "    </tr>\n",
       "    <tr>\n",
       "      <th>1</th>\n",
       "      <td>1106</td>\n",
       "      <td>1354</td>\n",
       "    </tr>\n",
       "    <tr>\n",
       "      <th>2</th>\n",
       "      <td>1112</td>\n",
       "      <td>1223</td>\n",
       "    </tr>\n",
       "    <tr>\n",
       "      <th>3</th>\n",
       "      <td>1165</td>\n",
       "      <td>1432</td>\n",
       "    </tr>\n",
       "    <tr>\n",
       "      <th>4</th>\n",
       "      <td>1192</td>\n",
       "      <td>1447</td>\n",
       "    </tr>\n",
       "  </tbody>\n",
       "</table>\n",
       "</div>"
      ],
      "text/plain": [
       "   Wteam  Lteam\n",
       "0   1228   1328\n",
       "1   1106   1354\n",
       "2   1112   1223\n",
       "3   1165   1432\n",
       "4   1192   1447"
      ]
     },
     "execution_count": 18,
     "metadata": {},
     "output_type": "execute_result"
    }
   ],
   "source": [
    "games.head()"
   ]
  },
  {
   "cell_type": "code",
   "execution_count": 19,
   "metadata": {
    "collapsed": true
   },
   "outputs": [],
   "source": [
    "games.loc[:, 'Min_team'] = games.loc[:, ['Wteam', 'Lteam']].min(axis=1)\n",
    "games.loc[:, 'Max_team'] = games.loc[:, ['Wteam', 'Lteam']].max(axis=1)"
   ]
  },
  {
   "cell_type": "code",
   "execution_count": 20,
   "metadata": {
    "collapsed": false
   },
   "outputs": [
    {
     "data": {
      "text/html": [
       "<div>\n",
       "<table border=\"1\" class=\"dataframe\">\n",
       "  <thead>\n",
       "    <tr style=\"text-align: right;\">\n",
       "      <th></th>\n",
       "      <th>Wteam</th>\n",
       "      <th>Lteam</th>\n",
       "      <th>Min_team</th>\n",
       "      <th>Max_team</th>\n",
       "    </tr>\n",
       "  </thead>\n",
       "  <tbody>\n",
       "    <tr>\n",
       "      <th>0</th>\n",
       "      <td>1228</td>\n",
       "      <td>1328</td>\n",
       "      <td>1228</td>\n",
       "      <td>1328</td>\n",
       "    </tr>\n",
       "    <tr>\n",
       "      <th>1</th>\n",
       "      <td>1106</td>\n",
       "      <td>1354</td>\n",
       "      <td>1106</td>\n",
       "      <td>1354</td>\n",
       "    </tr>\n",
       "    <tr>\n",
       "      <th>2</th>\n",
       "      <td>1112</td>\n",
       "      <td>1223</td>\n",
       "      <td>1112</td>\n",
       "      <td>1223</td>\n",
       "    </tr>\n",
       "    <tr>\n",
       "      <th>3</th>\n",
       "      <td>1165</td>\n",
       "      <td>1432</td>\n",
       "      <td>1165</td>\n",
       "      <td>1432</td>\n",
       "    </tr>\n",
       "    <tr>\n",
       "      <th>4</th>\n",
       "      <td>1192</td>\n",
       "      <td>1447</td>\n",
       "      <td>1192</td>\n",
       "      <td>1447</td>\n",
       "    </tr>\n",
       "  </tbody>\n",
       "</table>\n",
       "</div>"
      ],
      "text/plain": [
       "   Wteam  Lteam  Min_team  Max_team\n",
       "0   1228   1328      1228      1328\n",
       "1   1106   1354      1106      1354\n",
       "2   1112   1223      1112      1223\n",
       "3   1165   1432      1165      1432\n",
       "4   1192   1447      1192      1447"
      ]
     },
     "execution_count": 20,
     "metadata": {},
     "output_type": "execute_result"
    }
   ],
   "source": [
    "games.head()"
   ]
  },
  {
   "cell_type": "code",
   "execution_count": 21,
   "metadata": {
    "collapsed": true
   },
   "outputs": [],
   "source": [
    "games.loc[:, 'game'] = games.Min_team.apply(lambda x: str(int(x))) + ', ' + games.Max_team.apply(lambda x: str(int(x)))"
   ]
  },
  {
   "cell_type": "code",
   "execution_count": 22,
   "metadata": {
    "collapsed": false
   },
   "outputs": [
    {
     "data": {
      "text/html": [
       "<div>\n",
       "<table border=\"1\" class=\"dataframe\">\n",
       "  <thead>\n",
       "    <tr style=\"text-align: right;\">\n",
       "      <th></th>\n",
       "      <th>Wteam</th>\n",
       "      <th>Lteam</th>\n",
       "      <th>Min_team</th>\n",
       "      <th>Max_team</th>\n",
       "      <th>game</th>\n",
       "    </tr>\n",
       "  </thead>\n",
       "  <tbody>\n",
       "    <tr>\n",
       "      <th>0</th>\n",
       "      <td>1228</td>\n",
       "      <td>1328</td>\n",
       "      <td>1228</td>\n",
       "      <td>1328</td>\n",
       "      <td>1228, 1328</td>\n",
       "    </tr>\n",
       "    <tr>\n",
       "      <th>1</th>\n",
       "      <td>1106</td>\n",
       "      <td>1354</td>\n",
       "      <td>1106</td>\n",
       "      <td>1354</td>\n",
       "      <td>1106, 1354</td>\n",
       "    </tr>\n",
       "    <tr>\n",
       "      <th>2</th>\n",
       "      <td>1112</td>\n",
       "      <td>1223</td>\n",
       "      <td>1112</td>\n",
       "      <td>1223</td>\n",
       "      <td>1112, 1223</td>\n",
       "    </tr>\n",
       "    <tr>\n",
       "      <th>3</th>\n",
       "      <td>1165</td>\n",
       "      <td>1432</td>\n",
       "      <td>1165</td>\n",
       "      <td>1432</td>\n",
       "      <td>1165, 1432</td>\n",
       "    </tr>\n",
       "    <tr>\n",
       "      <th>4</th>\n",
       "      <td>1192</td>\n",
       "      <td>1447</td>\n",
       "      <td>1192</td>\n",
       "      <td>1447</td>\n",
       "      <td>1192, 1447</td>\n",
       "    </tr>\n",
       "  </tbody>\n",
       "</table>\n",
       "</div>"
      ],
      "text/plain": [
       "   Wteam  Lteam  Min_team  Max_team        game\n",
       "0   1228   1328      1228      1328  1228, 1328\n",
       "1   1106   1354      1106      1354  1106, 1354\n",
       "2   1112   1223      1112      1223  1112, 1223\n",
       "3   1165   1432      1165      1432  1165, 1432\n",
       "4   1192   1447      1192      1447  1192, 1447"
      ]
     },
     "execution_count": 22,
     "metadata": {},
     "output_type": "execute_result"
    }
   ],
   "source": [
    "games.head()"
   ]
  },
  {
   "cell_type": "code",
   "execution_count": 23,
   "metadata": {
    "collapsed": true
   },
   "outputs": [],
   "source": [
    "games.loc[:, 'win_lose'] = games.Wteam.apply(lambda x: str(int(x))) + ', ' + games.Lteam.apply(lambda x: str(int(x)))"
   ]
  },
  {
   "cell_type": "code",
   "execution_count": 24,
   "metadata": {
    "collapsed": true
   },
   "outputs": [],
   "source": [
    "gpd_win = games.groupby(['game', 'win_lose'])\n",
    "gpd_game = games.groupby('game')"
   ]
  },
  {
   "cell_type": "code",
   "execution_count": 25,
   "metadata": {
    "collapsed": true
   },
   "outputs": [],
   "source": [
    "game_counts = gpd_game.size()\n",
    "win_lose_history = gpd_win.size()"
   ]
  },
  {
   "cell_type": "code",
   "execution_count": 49,
   "metadata": {
    "collapsed": true
   },
   "outputs": [],
   "source": []
  },
  {
   "cell_type": "code",
   "execution_count": 50,
   "metadata": {
    "collapsed": false
   },
   "outputs": [
    {
     "data": {
      "text/plain": [
       "game\n",
       "0, 112    1\n",
       "0, 121    1\n",
       "0, 122    5\n",
       "0, 129    6\n",
       "0, 133    1\n",
       "dtype: int64"
      ]
     },
     "execution_count": 50,
     "metadata": {},
     "output_type": "execute_result"
    }
   ],
   "source": [
    "game_counts.head()"
   ]
  },
  {
   "cell_type": "code",
   "execution_count": 51,
   "metadata": {
    "collapsed": false
   },
   "outputs": [
    {
     "data": {
      "text/plain": [
       "game    win_lose\n",
       "0, 112  112, 0      1\n",
       "0, 121  121, 0      1\n",
       "0, 122  0, 122      3\n",
       "        122, 0      2\n",
       "0, 129  129, 0      6\n",
       "dtype: int64"
      ]
     },
     "execution_count": 51,
     "metadata": {},
     "output_type": "execute_result"
    }
   ],
   "source": [
    "win_lose_history.head()"
   ]
  },
  {
   "cell_type": "code",
   "execution_count": 61,
   "metadata": {
    "collapsed": true
   },
   "outputs": [],
   "source": [
    "min_ncontests = 20\n",
    "\n",
    "win_rate = win_lose_history.div(game_counts.loc[game_counts >= min_ncontests], level=0).dropna()"
   ]
  },
  {
   "cell_type": "code",
   "execution_count": 70,
   "metadata": {
    "collapsed": false
   },
   "outputs": [
    {
     "data": {
      "text/plain": [
       "game     win_lose\n",
       "1, 117   1, 117      0.379310\n",
       "         117, 1      0.620690\n",
       "1, 206   1, 206      0.253968\n",
       "         206, 1      0.746032\n",
       "1, 260   1, 260      0.318182\n",
       "         260, 1      0.681818\n",
       "1, 323   1, 323      0.255814\n",
       "         323, 1      0.744186\n",
       "1, 327   1, 327      0.207547\n",
       "         327, 1      0.792453\n",
       "1, 330   1, 330      0.129032\n",
       "         330, 1      0.870968\n",
       "1, 360   1, 360      0.323529\n",
       "         360, 1      0.676471\n",
       "1, 39    1, 39       0.181818\n",
       "         39, 1       0.818182\n",
       "1, 60    1, 60       0.294118\n",
       "         60, 1       0.705882\n",
       "10, 101  10, 101     0.509434\n",
       "         101, 10     0.490566\n",
       "dtype: float64"
      ]
     },
     "execution_count": 70,
     "metadata": {},
     "output_type": "execute_result"
    }
   ],
   "source": [
    "win_rate.head(20)"
   ]
  },
  {
   "cell_type": "code",
   "execution_count": 71,
   "metadata": {
    "collapsed": false
   },
   "outputs": [],
   "source": [
    "always_win = win_rate.loc[win_rate >= 1]\n",
    "\n",
    "always_win.name = 'percentage'\n",
    "\n",
    "always_win = always_win.reset_index()\n",
    "\n",
    "always_win"
   ]
  },
  {
   "cell_type": "code",
   "execution_count": 82,
   "metadata": {
    "collapsed": false
   },
   "outputs": [],
   "source": [
    "always_win.loc[:, 'Wteam_index'] = always_win.win_lose.str.extract(r'(\\d+), \\d+', expand=False)\n",
    "always_win.loc[:, 'Lteam_index'] = always_win.win_lose.str.extract(r'\\d+, (\\d+)', expand=False)"
   ]
  },
  {
   "cell_type": "code",
   "execution_count": 83,
   "metadata": {
    "collapsed": false
   },
   "outputs": [
    {
     "data": {
      "text/html": [
       "<div>\n",
       "<table border=\"1\" class=\"dataframe\">\n",
       "  <thead>\n",
       "    <tr style=\"text-align: right;\">\n",
       "      <th></th>\n",
       "      <th>game</th>\n",
       "      <th>win_lose</th>\n",
       "      <th>percentage</th>\n",
       "      <th>Wteam_index</th>\n",
       "      <th>Lteam_index</th>\n",
       "    </tr>\n",
       "  </thead>\n",
       "  <tbody>\n",
       "    <tr>\n",
       "      <th>0</th>\n",
       "      <td>11, 218</td>\n",
       "      <td>11, 218</td>\n",
       "      <td>1.0</td>\n",
       "      <td>11</td>\n",
       "      <td>218</td>\n",
       "    </tr>\n",
       "    <tr>\n",
       "      <th>1</th>\n",
       "      <td>160, 169</td>\n",
       "      <td>160, 169</td>\n",
       "      <td>1.0</td>\n",
       "      <td>160</td>\n",
       "      <td>169</td>\n",
       "    </tr>\n",
       "    <tr>\n",
       "      <th>2</th>\n",
       "      <td>237, 251</td>\n",
       "      <td>237, 251</td>\n",
       "      <td>1.0</td>\n",
       "      <td>237</td>\n",
       "      <td>251</td>\n",
       "    </tr>\n",
       "    <tr>\n",
       "      <th>3</th>\n",
       "      <td>54, 101</td>\n",
       "      <td>54, 101</td>\n",
       "      <td>1.0</td>\n",
       "      <td>54</td>\n",
       "      <td>101</td>\n",
       "    </tr>\n",
       "    <tr>\n",
       "      <th>4</th>\n",
       "      <td>58, 292</td>\n",
       "      <td>292, 58</td>\n",
       "      <td>1.0</td>\n",
       "      <td>292</td>\n",
       "      <td>58</td>\n",
       "    </tr>\n",
       "    <tr>\n",
       "      <th>5</th>\n",
       "      <td>64, 292</td>\n",
       "      <td>292, 64</td>\n",
       "      <td>1.0</td>\n",
       "      <td>292</td>\n",
       "      <td>64</td>\n",
       "    </tr>\n",
       "    <tr>\n",
       "      <th>6</th>\n",
       "      <td>71, 80</td>\n",
       "      <td>80, 71</td>\n",
       "      <td>1.0</td>\n",
       "      <td>80</td>\n",
       "      <td>71</td>\n",
       "    </tr>\n",
       "  </tbody>\n",
       "</table>\n",
       "</div>"
      ],
      "text/plain": [
       "       game  win_lose  percentage Wteam_index Lteam_index\n",
       "0   11, 218   11, 218         1.0          11         218\n",
       "1  160, 169  160, 169         1.0         160         169\n",
       "2  237, 251  237, 251         1.0         237         251\n",
       "3   54, 101   54, 101         1.0          54         101\n",
       "4   58, 292   292, 58         1.0         292          58\n",
       "5   64, 292   292, 64         1.0         292          64\n",
       "6    71, 80    80, 71         1.0          80          71"
      ]
     },
     "execution_count": 83,
     "metadata": {},
     "output_type": "execute_result"
    }
   ],
   "source": [
    "always_win"
   ]
  },
  {
   "cell_type": "code",
   "execution_count": 91,
   "metadata": {
    "collapsed": false
   },
   "outputs": [],
   "source": [
    "always_win.loc[:, 'Wteam_code'] = always_win.loc[:, 'Wteam_index'].astype('int').map(index2code)\n",
    "always_win.loc[:, 'Lteam_code'] = always_win.loc[:, 'Lteam_index'].astype('int').map(index2code)"
   ]
  },
  {
   "cell_type": "code",
   "execution_count": 92,
   "metadata": {
    "collapsed": false
   },
   "outputs": [
    {
     "data": {
      "text/html": [
       "<div>\n",
       "<table border=\"1\" class=\"dataframe\">\n",
       "  <thead>\n",
       "    <tr style=\"text-align: right;\">\n",
       "      <th></th>\n",
       "      <th>game</th>\n",
       "      <th>win_lose</th>\n",
       "      <th>percentage</th>\n",
       "      <th>Wteam_index</th>\n",
       "      <th>Lteam_index</th>\n",
       "      <th>Wteam_code</th>\n",
       "      <th>Lteam_code</th>\n",
       "    </tr>\n",
       "  </thead>\n",
       "  <tbody>\n",
       "    <tr>\n",
       "      <th>0</th>\n",
       "      <td>11, 218</td>\n",
       "      <td>11, 218</td>\n",
       "      <td>1.0</td>\n",
       "      <td>11</td>\n",
       "      <td>218</td>\n",
       "      <td>1112</td>\n",
       "      <td>1319</td>\n",
       "    </tr>\n",
       "    <tr>\n",
       "      <th>1</th>\n",
       "      <td>160, 169</td>\n",
       "      <td>160, 169</td>\n",
       "      <td>1.0</td>\n",
       "      <td>160</td>\n",
       "      <td>169</td>\n",
       "      <td>1261</td>\n",
       "      <td>1270</td>\n",
       "    </tr>\n",
       "    <tr>\n",
       "      <th>2</th>\n",
       "      <td>237, 251</td>\n",
       "      <td>237, 251</td>\n",
       "      <td>1.0</td>\n",
       "      <td>237</td>\n",
       "      <td>251</td>\n",
       "      <td>1338</td>\n",
       "      <td>1352</td>\n",
       "    </tr>\n",
       "    <tr>\n",
       "      <th>3</th>\n",
       "      <td>54, 101</td>\n",
       "      <td>54, 101</td>\n",
       "      <td>1.0</td>\n",
       "      <td>54</td>\n",
       "      <td>101</td>\n",
       "      <td>1155</td>\n",
       "      <td>1202</td>\n",
       "    </tr>\n",
       "    <tr>\n",
       "      <th>4</th>\n",
       "      <td>58, 292</td>\n",
       "      <td>292, 58</td>\n",
       "      <td>1.0</td>\n",
       "      <td>292</td>\n",
       "      <td>58</td>\n",
       "      <td>1393</td>\n",
       "      <td>1159</td>\n",
       "    </tr>\n",
       "    <tr>\n",
       "      <th>5</th>\n",
       "      <td>64, 292</td>\n",
       "      <td>292, 64</td>\n",
       "      <td>1.0</td>\n",
       "      <td>292</td>\n",
       "      <td>64</td>\n",
       "      <td>1393</td>\n",
       "      <td>1165</td>\n",
       "    </tr>\n",
       "    <tr>\n",
       "      <th>6</th>\n",
       "      <td>71, 80</td>\n",
       "      <td>80, 71</td>\n",
       "      <td>1.0</td>\n",
       "      <td>80</td>\n",
       "      <td>71</td>\n",
       "      <td>1181</td>\n",
       "      <td>1172</td>\n",
       "    </tr>\n",
       "  </tbody>\n",
       "</table>\n",
       "</div>"
      ],
      "text/plain": [
       "       game  win_lose  percentage Wteam_index Lteam_index  Wteam_code  \\\n",
       "0   11, 218   11, 218         1.0          11         218        1112   \n",
       "1  160, 169  160, 169         1.0         160         169        1261   \n",
       "2  237, 251  237, 251         1.0         237         251        1338   \n",
       "3   54, 101   54, 101         1.0          54         101        1155   \n",
       "4   58, 292   292, 58         1.0         292          58        1393   \n",
       "5   64, 292   292, 64         1.0         292          64        1393   \n",
       "6    71, 80    80, 71         1.0          80          71        1181   \n",
       "\n",
       "   Lteam_code  \n",
       "0        1319  \n",
       "1        1270  \n",
       "2        1352  \n",
       "3        1202  \n",
       "4        1159  \n",
       "5        1165  \n",
       "6        1172  "
      ]
     },
     "execution_count": 92,
     "metadata": {},
     "output_type": "execute_result"
    }
   ],
   "source": [
    "always_win"
   ]
  },
  {
   "cell_type": "code",
   "execution_count": 95,
   "metadata": {
    "collapsed": true
   },
   "outputs": [],
   "source": [
    "teams = pd.read_csv('Teams.csv').set_index('Team_Id')\n",
    "teams.head()"
   ]
  },
  {
   "cell_type": "code",
   "execution_count": 99,
   "metadata": {
    "collapsed": true
   },
   "outputs": [],
   "source": [
    "always_win.loc[:, 'Wteam'] = always_win.Wteam_code.map(teams.Team_Name)\n",
    "always_win.loc[:, 'Lteam'] = always_win.Lteam_code.map(teams.Team_Name)"
   ]
  },
  {
   "cell_type": "code",
   "execution_count": 100,
   "metadata": {
    "collapsed": false
   },
   "outputs": [
    {
     "data": {
      "text/html": [
       "<div>\n",
       "<table border=\"1\" class=\"dataframe\">\n",
       "  <thead>\n",
       "    <tr style=\"text-align: right;\">\n",
       "      <th></th>\n",
       "      <th>game</th>\n",
       "      <th>win_lose</th>\n",
       "      <th>percentage</th>\n",
       "      <th>Wteam_index</th>\n",
       "      <th>Lteam_index</th>\n",
       "      <th>Wteam_code</th>\n",
       "      <th>Lteam_code</th>\n",
       "      <th>Wteam</th>\n",
       "      <th>Lteam</th>\n",
       "    </tr>\n",
       "  </thead>\n",
       "  <tbody>\n",
       "    <tr>\n",
       "      <th>0</th>\n",
       "      <td>11, 218</td>\n",
       "      <td>11, 218</td>\n",
       "      <td>1.0</td>\n",
       "      <td>11</td>\n",
       "      <td>218</td>\n",
       "      <td>1112</td>\n",
       "      <td>1319</td>\n",
       "      <td>Arizona</td>\n",
       "      <td>Northern Arizona</td>\n",
       "    </tr>\n",
       "    <tr>\n",
       "      <th>1</th>\n",
       "      <td>160, 169</td>\n",
       "      <td>160, 169</td>\n",
       "      <td>1.0</td>\n",
       "      <td>160</td>\n",
       "      <td>169</td>\n",
       "      <td>1261</td>\n",
       "      <td>1270</td>\n",
       "      <td>LSU</td>\n",
       "      <td>McNeese St</td>\n",
       "    </tr>\n",
       "    <tr>\n",
       "      <th>2</th>\n",
       "      <td>237, 251</td>\n",
       "      <td>237, 251</td>\n",
       "      <td>1.0</td>\n",
       "      <td>237</td>\n",
       "      <td>251</td>\n",
       "      <td>1338</td>\n",
       "      <td>1352</td>\n",
       "      <td>Pittsburgh</td>\n",
       "      <td>Robert Morris</td>\n",
       "    </tr>\n",
       "    <tr>\n",
       "      <th>3</th>\n",
       "      <td>54, 101</td>\n",
       "      <td>54, 101</td>\n",
       "      <td>1.0</td>\n",
       "      <td>54</td>\n",
       "      <td>101</td>\n",
       "      <td>1155</td>\n",
       "      <td>1202</td>\n",
       "      <td>Clemson</td>\n",
       "      <td>Furman</td>\n",
       "    </tr>\n",
       "    <tr>\n",
       "      <th>4</th>\n",
       "      <td>58, 292</td>\n",
       "      <td>292, 58</td>\n",
       "      <td>1.0</td>\n",
       "      <td>292</td>\n",
       "      <td>58</td>\n",
       "      <td>1393</td>\n",
       "      <td>1159</td>\n",
       "      <td>Syracuse</td>\n",
       "      <td>Colgate</td>\n",
       "    </tr>\n",
       "    <tr>\n",
       "      <th>5</th>\n",
       "      <td>64, 292</td>\n",
       "      <td>292, 64</td>\n",
       "      <td>1.0</td>\n",
       "      <td>292</td>\n",
       "      <td>64</td>\n",
       "      <td>1393</td>\n",
       "      <td>1165</td>\n",
       "      <td>Syracuse</td>\n",
       "      <td>Cornell</td>\n",
       "    </tr>\n",
       "    <tr>\n",
       "      <th>6</th>\n",
       "      <td>71, 80</td>\n",
       "      <td>80, 71</td>\n",
       "      <td>1.0</td>\n",
       "      <td>80</td>\n",
       "      <td>71</td>\n",
       "      <td>1181</td>\n",
       "      <td>1172</td>\n",
       "      <td>Duke</td>\n",
       "      <td>Davidson</td>\n",
       "    </tr>\n",
       "  </tbody>\n",
       "</table>\n",
       "</div>"
      ],
      "text/plain": [
       "       game  win_lose  percentage Wteam_index Lteam_index  Wteam_code  \\\n",
       "0   11, 218   11, 218         1.0          11         218        1112   \n",
       "1  160, 169  160, 169         1.0         160         169        1261   \n",
       "2  237, 251  237, 251         1.0         237         251        1338   \n",
       "3   54, 101   54, 101         1.0          54         101        1155   \n",
       "4   58, 292   292, 58         1.0         292          58        1393   \n",
       "5   64, 292   292, 64         1.0         292          64        1393   \n",
       "6    71, 80    80, 71         1.0          80          71        1181   \n",
       "\n",
       "   Lteam_code       Wteam             Lteam  \n",
       "0        1319     Arizona  Northern Arizona  \n",
       "1        1270         LSU        McNeese St  \n",
       "2        1352  Pittsburgh     Robert Morris  \n",
       "3        1202     Clemson            Furman  \n",
       "4        1159    Syracuse           Colgate  \n",
       "5        1165    Syracuse           Cornell  \n",
       "6        1172        Duke          Davidson  "
      ]
     },
     "execution_count": 100,
     "metadata": {},
     "output_type": "execute_result"
    }
   ],
   "source": [
    "always_win"
   ]
  },
  {
   "cell_type": "code",
   "execution_count": null,
   "metadata": {
    "collapsed": true
   },
   "outputs": [],
   "source": []
  }
 ],
 "metadata": {
  "anaconda-cloud": {},
  "kernelspec": {
   "display_name": "Python [default]",
   "language": "python",
   "name": "python3"
  },
  "language_info": {
   "codemirror_mode": {
    "name": "ipython",
    "version": 3
   },
   "file_extension": ".py",
   "mimetype": "text/x-python",
   "name": "python",
   "nbconvert_exporter": "python",
   "pygments_lexer": "ipython3",
   "version": "3.5.2"
  }
 },
 "nbformat": 4,
 "nbformat_minor": 0
}
