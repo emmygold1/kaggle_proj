{
 "cells": [
  {
   "cell_type": "code",
   "execution_count": 1,
   "metadata": {
    "collapsed": true
   },
   "outputs": [],
   "source": [
    "%matplotlib inline\n",
    "import pandas as pd\n",
    "import numpy as np\n",
    "import matplotlib.pyplot as plt\n",
    "import seaborn as sb"
   ]
  },
  {
   "cell_type": "code",
   "execution_count": 2,
   "metadata": {
    "collapsed": true
   },
   "outputs": [],
   "source": [
    "rdat = pd.read_csv('RegularSeasonCompactResults.csv')\n",
    "tdat = pd.read_csv('TourneyCompactResults.csv')\n",
    "dat = pd.concat([rdat, tdat])"
   ]
  },
  {
   "cell_type": "code",
   "execution_count": 3,
   "metadata": {
    "collapsed": true
   },
   "outputs": [],
   "source": []
  },
  {
   "cell_type": "code",
   "execution_count": 4,
   "metadata": {
    "collapsed": true
   },
   "outputs": [],
   "source": []
  },
  {
   "cell_type": "code",
   "execution_count": 5,
   "metadata": {
    "collapsed": false
   },
   "outputs": [
    {
     "data": {
      "text/plain": [
       "(147339, 8)"
      ]
     },
     "execution_count": 5,
     "metadata": {},
     "output_type": "execute_result"
    }
   ],
   "source": [
    "dat.shape"
   ]
  },
  {
   "cell_type": "code",
   "execution_count": 6,
   "metadata": {
    "collapsed": false
   },
   "outputs": [
    {
     "data": {
      "text/html": [
       "<div>\n",
       "<table border=\"1\" class=\"dataframe\">\n",
       "  <thead>\n",
       "    <tr style=\"text-align: right;\">\n",
       "      <th></th>\n",
       "      <th>Season</th>\n",
       "      <th>Daynum</th>\n",
       "      <th>Wteam</th>\n",
       "      <th>Wscore</th>\n",
       "      <th>Lteam</th>\n",
       "      <th>Lscore</th>\n",
       "      <th>Wloc</th>\n",
       "      <th>Numot</th>\n",
       "    </tr>\n",
       "  </thead>\n",
       "  <tbody>\n",
       "    <tr>\n",
       "      <th>0</th>\n",
       "      <td>1985</td>\n",
       "      <td>20</td>\n",
       "      <td>1228</td>\n",
       "      <td>81</td>\n",
       "      <td>1328</td>\n",
       "      <td>64</td>\n",
       "      <td>N</td>\n",
       "      <td>0</td>\n",
       "    </tr>\n",
       "    <tr>\n",
       "      <th>1</th>\n",
       "      <td>1985</td>\n",
       "      <td>25</td>\n",
       "      <td>1106</td>\n",
       "      <td>77</td>\n",
       "      <td>1354</td>\n",
       "      <td>70</td>\n",
       "      <td>H</td>\n",
       "      <td>0</td>\n",
       "    </tr>\n",
       "    <tr>\n",
       "      <th>2</th>\n",
       "      <td>1985</td>\n",
       "      <td>25</td>\n",
       "      <td>1112</td>\n",
       "      <td>63</td>\n",
       "      <td>1223</td>\n",
       "      <td>56</td>\n",
       "      <td>H</td>\n",
       "      <td>0</td>\n",
       "    </tr>\n",
       "    <tr>\n",
       "      <th>3</th>\n",
       "      <td>1985</td>\n",
       "      <td>25</td>\n",
       "      <td>1165</td>\n",
       "      <td>70</td>\n",
       "      <td>1432</td>\n",
       "      <td>54</td>\n",
       "      <td>H</td>\n",
       "      <td>0</td>\n",
       "    </tr>\n",
       "    <tr>\n",
       "      <th>4</th>\n",
       "      <td>1985</td>\n",
       "      <td>25</td>\n",
       "      <td>1192</td>\n",
       "      <td>86</td>\n",
       "      <td>1447</td>\n",
       "      <td>74</td>\n",
       "      <td>H</td>\n",
       "      <td>0</td>\n",
       "    </tr>\n",
       "  </tbody>\n",
       "</table>\n",
       "</div>"
      ],
      "text/plain": [
       "   Season  Daynum  Wteam  Wscore  Lteam  Lscore Wloc  Numot\n",
       "0    1985      20   1228      81   1328      64    N      0\n",
       "1    1985      25   1106      77   1354      70    H      0\n",
       "2    1985      25   1112      63   1223      56    H      0\n",
       "3    1985      25   1165      70   1432      54    H      0\n",
       "4    1985      25   1192      86   1447      74    H      0"
      ]
     },
     "execution_count": 6,
     "metadata": {},
     "output_type": "execute_result"
    }
   ],
   "source": [
    "dat.head()"
   ]
  },
  {
   "cell_type": "code",
   "execution_count": 20,
   "metadata": {
    "collapsed": true
   },
   "outputs": [],
   "source": [
    "games = dat.loc[:, ['Wteam', 'Lteam']].copy()"
   ]
  },
  {
   "cell_type": "code",
   "execution_count": 21,
   "metadata": {
    "collapsed": true
   },
   "outputs": [],
   "source": [
    "index2code = pd.Series(sorted(games.Wteam.unique()))"
   ]
  },
  {
   "cell_type": "code",
   "execution_count": 22,
   "metadata": {
    "collapsed": false
   },
   "outputs": [
    {
     "data": {
      "text/plain": [
       "0    1101\n",
       "1    1102\n",
       "2    1103\n",
       "3    1104\n",
       "4    1105\n",
       "dtype: int64"
      ]
     },
     "execution_count": 22,
     "metadata": {},
     "output_type": "execute_result"
    }
   ],
   "source": [
    "index2code.head()"
   ]
  },
  {
   "cell_type": "code",
   "execution_count": 23,
   "metadata": {
    "collapsed": false
   },
   "outputs": [],
   "source": [
    "code2index = index2code.reset_index().set_index(0).loc[:, 'index']"
   ]
  },
  {
   "cell_type": "code",
   "execution_count": 24,
   "metadata": {
    "collapsed": false
   },
   "outputs": [
    {
     "data": {
      "text/plain": [
       "0\n",
       "1101    0\n",
       "1102    1\n",
       "1103    2\n",
       "1104    3\n",
       "1105    4\n",
       "Name: index, dtype: int64"
      ]
     },
     "execution_count": 24,
     "metadata": {},
     "output_type": "execute_result"
    }
   ],
   "source": [
    "code2index.head()"
   ]
  },
  {
   "cell_type": "code",
   "execution_count": 25,
   "metadata": {
    "collapsed": true
   },
   "outputs": [],
   "source": [
    "games.loc[:, 'Windex'] = games.Wteam.map(code2index)\n",
    "games.loc[:, 'Lindex'] = games.Lteam.map(code2index)"
   ]
  },
  {
   "cell_type": "code",
   "execution_count": 26,
   "metadata": {
    "collapsed": false
   },
   "outputs": [
    {
     "data": {
      "text/html": [
       "<div>\n",
       "<table border=\"1\" class=\"dataframe\">\n",
       "  <thead>\n",
       "    <tr style=\"text-align: right;\">\n",
       "      <th></th>\n",
       "      <th>Wteam</th>\n",
       "      <th>Lteam</th>\n",
       "      <th>Windex</th>\n",
       "      <th>Lindex</th>\n",
       "    </tr>\n",
       "  </thead>\n",
       "  <tbody>\n",
       "    <tr>\n",
       "      <th>0</th>\n",
       "      <td>1228</td>\n",
       "      <td>1328</td>\n",
       "      <td>127</td>\n",
       "      <td>227</td>\n",
       "    </tr>\n",
       "    <tr>\n",
       "      <th>1</th>\n",
       "      <td>1106</td>\n",
       "      <td>1354</td>\n",
       "      <td>5</td>\n",
       "      <td>253</td>\n",
       "    </tr>\n",
       "    <tr>\n",
       "      <th>2</th>\n",
       "      <td>1112</td>\n",
       "      <td>1223</td>\n",
       "      <td>11</td>\n",
       "      <td>122</td>\n",
       "    </tr>\n",
       "    <tr>\n",
       "      <th>3</th>\n",
       "      <td>1165</td>\n",
       "      <td>1432</td>\n",
       "      <td>64</td>\n",
       "      <td>331</td>\n",
       "    </tr>\n",
       "    <tr>\n",
       "      <th>4</th>\n",
       "      <td>1192</td>\n",
       "      <td>1447</td>\n",
       "      <td>91</td>\n",
       "      <td>346</td>\n",
       "    </tr>\n",
       "  </tbody>\n",
       "</table>\n",
       "</div>"
      ],
      "text/plain": [
       "   Wteam  Lteam  Windex  Lindex\n",
       "0   1228   1328     127     227\n",
       "1   1106   1354       5     253\n",
       "2   1112   1223      11     122\n",
       "3   1165   1432      64     331\n",
       "4   1192   1447      91     346"
      ]
     },
     "execution_count": 26,
     "metadata": {},
     "output_type": "execute_result"
    }
   ],
   "source": [
    "games.head()"
   ]
  },
  {
   "cell_type": "code",
   "execution_count": 27,
   "metadata": {
    "collapsed": true
   },
   "outputs": [],
   "source": [
    "games.loc[:, 'Min_index'] = games.loc[:, ['Windex', 'Lindex']].min(axis=1)\n",
    "games.loc[:, 'Max_index'] = games.loc[:, ['Windex', 'Lindex']].max(axis=1)"
   ]
  },
  {
   "cell_type": "code",
   "execution_count": 28,
   "metadata": {
    "collapsed": false
   },
   "outputs": [
    {
     "data": {
      "text/html": [
       "<div>\n",
       "<table border=\"1\" class=\"dataframe\">\n",
       "  <thead>\n",
       "    <tr style=\"text-align: right;\">\n",
       "      <th></th>\n",
       "      <th>Wteam</th>\n",
       "      <th>Lteam</th>\n",
       "      <th>Windex</th>\n",
       "      <th>Lindex</th>\n",
       "      <th>Min_index</th>\n",
       "      <th>Max_index</th>\n",
       "    </tr>\n",
       "  </thead>\n",
       "  <tbody>\n",
       "    <tr>\n",
       "      <th>0</th>\n",
       "      <td>1228</td>\n",
       "      <td>1328</td>\n",
       "      <td>127</td>\n",
       "      <td>227</td>\n",
       "      <td>127</td>\n",
       "      <td>227</td>\n",
       "    </tr>\n",
       "    <tr>\n",
       "      <th>1</th>\n",
       "      <td>1106</td>\n",
       "      <td>1354</td>\n",
       "      <td>5</td>\n",
       "      <td>253</td>\n",
       "      <td>5</td>\n",
       "      <td>253</td>\n",
       "    </tr>\n",
       "    <tr>\n",
       "      <th>2</th>\n",
       "      <td>1112</td>\n",
       "      <td>1223</td>\n",
       "      <td>11</td>\n",
       "      <td>122</td>\n",
       "      <td>11</td>\n",
       "      <td>122</td>\n",
       "    </tr>\n",
       "    <tr>\n",
       "      <th>3</th>\n",
       "      <td>1165</td>\n",
       "      <td>1432</td>\n",
       "      <td>64</td>\n",
       "      <td>331</td>\n",
       "      <td>64</td>\n",
       "      <td>331</td>\n",
       "    </tr>\n",
       "    <tr>\n",
       "      <th>4</th>\n",
       "      <td>1192</td>\n",
       "      <td>1447</td>\n",
       "      <td>91</td>\n",
       "      <td>346</td>\n",
       "      <td>91</td>\n",
       "      <td>346</td>\n",
       "    </tr>\n",
       "  </tbody>\n",
       "</table>\n",
       "</div>"
      ],
      "text/plain": [
       "   Wteam  Lteam  Windex  Lindex  Min_index  Max_index\n",
       "0   1228   1328     127     227        127        227\n",
       "1   1106   1354       5     253          5        253\n",
       "2   1112   1223      11     122         11        122\n",
       "3   1165   1432      64     331         64        331\n",
       "4   1192   1447      91     346         91        346"
      ]
     },
     "execution_count": 28,
     "metadata": {},
     "output_type": "execute_result"
    }
   ],
   "source": [
    "games.head()"
   ]
  },
  {
   "cell_type": "code",
   "execution_count": 29,
   "metadata": {
    "collapsed": true
   },
   "outputs": [],
   "source": [
    "games.loc[:, 'game'] = games.Min_index.apply(str) + ', ' + games.Max_index.apply(str)"
   ]
  },
  {
   "cell_type": "code",
   "execution_count": 30,
   "metadata": {
    "collapsed": false
   },
   "outputs": [
    {
     "data": {
      "text/html": [
       "<div>\n",
       "<table border=\"1\" class=\"dataframe\">\n",
       "  <thead>\n",
       "    <tr style=\"text-align: right;\">\n",
       "      <th></th>\n",
       "      <th>Wteam</th>\n",
       "      <th>Lteam</th>\n",
       "      <th>Windex</th>\n",
       "      <th>Lindex</th>\n",
       "      <th>Min_index</th>\n",
       "      <th>Max_index</th>\n",
       "      <th>game</th>\n",
       "    </tr>\n",
       "  </thead>\n",
       "  <tbody>\n",
       "    <tr>\n",
       "      <th>0</th>\n",
       "      <td>1228</td>\n",
       "      <td>1328</td>\n",
       "      <td>127</td>\n",
       "      <td>227</td>\n",
       "      <td>127</td>\n",
       "      <td>227</td>\n",
       "      <td>127, 227</td>\n",
       "    </tr>\n",
       "    <tr>\n",
       "      <th>1</th>\n",
       "      <td>1106</td>\n",
       "      <td>1354</td>\n",
       "      <td>5</td>\n",
       "      <td>253</td>\n",
       "      <td>5</td>\n",
       "      <td>253</td>\n",
       "      <td>5, 253</td>\n",
       "    </tr>\n",
       "    <tr>\n",
       "      <th>2</th>\n",
       "      <td>1112</td>\n",
       "      <td>1223</td>\n",
       "      <td>11</td>\n",
       "      <td>122</td>\n",
       "      <td>11</td>\n",
       "      <td>122</td>\n",
       "      <td>11, 122</td>\n",
       "    </tr>\n",
       "    <tr>\n",
       "      <th>3</th>\n",
       "      <td>1165</td>\n",
       "      <td>1432</td>\n",
       "      <td>64</td>\n",
       "      <td>331</td>\n",
       "      <td>64</td>\n",
       "      <td>331</td>\n",
       "      <td>64, 331</td>\n",
       "    </tr>\n",
       "    <tr>\n",
       "      <th>4</th>\n",
       "      <td>1192</td>\n",
       "      <td>1447</td>\n",
       "      <td>91</td>\n",
       "      <td>346</td>\n",
       "      <td>91</td>\n",
       "      <td>346</td>\n",
       "      <td>91, 346</td>\n",
       "    </tr>\n",
       "  </tbody>\n",
       "</table>\n",
       "</div>"
      ],
      "text/plain": [
       "   Wteam  Lteam  Windex  Lindex  Min_index  Max_index      game\n",
       "0   1228   1328     127     227        127        227  127, 227\n",
       "1   1106   1354       5     253          5        253    5, 253\n",
       "2   1112   1223      11     122         11        122   11, 122\n",
       "3   1165   1432      64     331         64        331   64, 331\n",
       "4   1192   1447      91     346         91        346   91, 346"
      ]
     },
     "execution_count": 30,
     "metadata": {},
     "output_type": "execute_result"
    }
   ],
   "source": [
    "games.head()"
   ]
  },
  {
   "cell_type": "code",
   "execution_count": 46,
   "metadata": {
    "collapsed": true
   },
   "outputs": [],
   "source": [
    "games.loc[:, 'win_lose'] = games.Windex.apply(str) + ', ' + games.Lindex.apply(str)"
   ]
  },
  {
   "cell_type": "code",
   "execution_count": 47,
   "metadata": {
    "collapsed": true
   },
   "outputs": [],
   "source": [
    "gpd_win = games.groupby(['game', 'win_lose'])\n",
    "gpd_game = games.groupby('game')"
   ]
  },
  {
   "cell_type": "code",
   "execution_count": 48,
   "metadata": {
    "collapsed": true
   },
   "outputs": [],
   "source": [
    "game_counts = gpd_game.size()\n",
    "win_lose_history = gpd_win.size()"
   ]
  },
  {
   "cell_type": "code",
   "execution_count": 49,
   "metadata": {
    "collapsed": true
   },
   "outputs": [],
   "source": []
  },
  {
   "cell_type": "code",
   "execution_count": 50,
   "metadata": {
    "collapsed": false
   },
   "outputs": [
    {
     "data": {
      "text/plain": [
       "game\n",
       "0, 112    1\n",
       "0, 121    1\n",
       "0, 122    5\n",
       "0, 129    6\n",
       "0, 133    1\n",
       "dtype: int64"
      ]
     },
     "execution_count": 50,
     "metadata": {},
     "output_type": "execute_result"
    }
   ],
   "source": [
    "game_counts.head()"
   ]
  },
  {
   "cell_type": "code",
   "execution_count": 51,
   "metadata": {
    "collapsed": false
   },
   "outputs": [
    {
     "data": {
      "text/plain": [
       "game    win_lose\n",
       "0, 112  112, 0      1\n",
       "0, 121  121, 0      1\n",
       "0, 122  0, 122      3\n",
       "        122, 0      2\n",
       "0, 129  129, 0      6\n",
       "dtype: int64"
      ]
     },
     "execution_count": 51,
     "metadata": {},
     "output_type": "execute_result"
    }
   ],
   "source": [
    "win_lose_history.head()"
   ]
  },
  {
   "cell_type": "code",
   "execution_count": 61,
   "metadata": {
    "collapsed": true
   },
   "outputs": [],
   "source": [
    "min_ncontests = 20\n",
    "\n",
    "win_rate = win_lose_history.div(game_counts.loc[game_counts >= min_ncontests], level=0).dropna()"
   ]
  },
  {
   "cell_type": "code",
   "execution_count": 70,
   "metadata": {
    "collapsed": false
   },
   "outputs": [
    {
     "data": {
      "text/plain": [
       "game     win_lose\n",
       "1, 117   1, 117      0.379310\n",
       "         117, 1      0.620690\n",
       "1, 206   1, 206      0.253968\n",
       "         206, 1      0.746032\n",
       "1, 260   1, 260      0.318182\n",
       "         260, 1      0.681818\n",
       "1, 323   1, 323      0.255814\n",
       "         323, 1      0.744186\n",
       "1, 327   1, 327      0.207547\n",
       "         327, 1      0.792453\n",
       "1, 330   1, 330      0.129032\n",
       "         330, 1      0.870968\n",
       "1, 360   1, 360      0.323529\n",
       "         360, 1      0.676471\n",
       "1, 39    1, 39       0.181818\n",
       "         39, 1       0.818182\n",
       "1, 60    1, 60       0.294118\n",
       "         60, 1       0.705882\n",
       "10, 101  10, 101     0.509434\n",
       "         101, 10     0.490566\n",
       "dtype: float64"
      ]
     },
     "execution_count": 70,
     "metadata": {},
     "output_type": "execute_result"
    }
   ],
   "source": [
    "win_rate.head(20)"
   ]
  },
  {
   "cell_type": "code",
   "execution_count": 71,
   "metadata": {
    "collapsed": false
   },
   "outputs": [],
   "source": [
    "always_win = win_rate.loc[win_rate >= 1]\n",
    "\n",
    "always_win.name = 'percentage'\n",
    "\n",
    "always_win = always_win.reset_index()\n",
    "\n",
    "always_win"
   ]
  },
  {
   "cell_type": "code",
   "execution_count": 82,
   "metadata": {
    "collapsed": false
   },
   "outputs": [],
   "source": [
    "always_win.loc[:, 'Wteam_index'] = always_win.win_lose.str.extract(r'(\\d+), \\d+', expand=False)\n",
    "always_win.loc[:, 'Lteam_index'] = always_win.win_lose.str.extract(r'\\d+, (\\d+)', expand=False)"
   ]
  },
  {
   "cell_type": "code",
   "execution_count": 83,
   "metadata": {
    "collapsed": false
   },
   "outputs": [
    {
     "data": {
      "text/html": [
       "<div>\n",
       "<table border=\"1\" class=\"dataframe\">\n",
       "  <thead>\n",
       "    <tr style=\"text-align: right;\">\n",
       "      <th></th>\n",
       "      <th>game</th>\n",
       "      <th>win_lose</th>\n",
       "      <th>percentage</th>\n",
       "      <th>Wteam_index</th>\n",
       "      <th>Lteam_index</th>\n",
       "    </tr>\n",
       "  </thead>\n",
       "  <tbody>\n",
       "    <tr>\n",
       "      <th>0</th>\n",
       "      <td>11, 218</td>\n",
       "      <td>11, 218</td>\n",
       "      <td>1.0</td>\n",
       "      <td>11</td>\n",
       "      <td>218</td>\n",
       "    </tr>\n",
       "    <tr>\n",
       "      <th>1</th>\n",
       "      <td>160, 169</td>\n",
       "      <td>160, 169</td>\n",
       "      <td>1.0</td>\n",
       "      <td>160</td>\n",
       "      <td>169</td>\n",
       "    </tr>\n",
       "    <tr>\n",
       "      <th>2</th>\n",
       "      <td>237, 251</td>\n",
       "      <td>237, 251</td>\n",
       "      <td>1.0</td>\n",
       "      <td>237</td>\n",
       "      <td>251</td>\n",
       "    </tr>\n",
       "    <tr>\n",
       "      <th>3</th>\n",
       "      <td>54, 101</td>\n",
       "      <td>54, 101</td>\n",
       "      <td>1.0</td>\n",
       "      <td>54</td>\n",
       "      <td>101</td>\n",
       "    </tr>\n",
       "    <tr>\n",
       "      <th>4</th>\n",
       "      <td>58, 292</td>\n",
       "      <td>292, 58</td>\n",
       "      <td>1.0</td>\n",
       "      <td>292</td>\n",
       "      <td>58</td>\n",
       "    </tr>\n",
       "    <tr>\n",
       "      <th>5</th>\n",
       "      <td>64, 292</td>\n",
       "      <td>292, 64</td>\n",
       "      <td>1.0</td>\n",
       "      <td>292</td>\n",
       "      <td>64</td>\n",
       "    </tr>\n",
       "    <tr>\n",
       "      <th>6</th>\n",
       "      <td>71, 80</td>\n",
       "      <td>80, 71</td>\n",
       "      <td>1.0</td>\n",
       "      <td>80</td>\n",
       "      <td>71</td>\n",
       "    </tr>\n",
       "  </tbody>\n",
       "</table>\n",
       "</div>"
      ],
      "text/plain": [
       "       game  win_lose  percentage Wteam_index Lteam_index\n",
       "0   11, 218   11, 218         1.0          11         218\n",
       "1  160, 169  160, 169         1.0         160         169\n",
       "2  237, 251  237, 251         1.0         237         251\n",
       "3   54, 101   54, 101         1.0          54         101\n",
       "4   58, 292   292, 58         1.0         292          58\n",
       "5   64, 292   292, 64         1.0         292          64\n",
       "6    71, 80    80, 71         1.0          80          71"
      ]
     },
     "execution_count": 83,
     "metadata": {},
     "output_type": "execute_result"
    }
   ],
   "source": [
    "always_win"
   ]
  },
  {
   "cell_type": "code",
   "execution_count": 91,
   "metadata": {
    "collapsed": false
   },
   "outputs": [],
   "source": [
    "always_win.loc[:, 'Wteam_code'] = always_win.loc[:, 'Wteam_index'].astype('int').map(index2code)\n",
    "always_win.loc[:, 'Lteam_code'] = always_win.loc[:, 'Lteam_index'].astype('int').map(index2code)"
   ]
  },
  {
   "cell_type": "code",
   "execution_count": 92,
   "metadata": {
    "collapsed": false
   },
   "outputs": [
    {
     "data": {
      "text/html": [
       "<div>\n",
       "<table border=\"1\" class=\"dataframe\">\n",
       "  <thead>\n",
       "    <tr style=\"text-align: right;\">\n",
       "      <th></th>\n",
       "      <th>game</th>\n",
       "      <th>win_lose</th>\n",
       "      <th>percentage</th>\n",
       "      <th>Wteam_index</th>\n",
       "      <th>Lteam_index</th>\n",
       "      <th>Wteam_code</th>\n",
       "      <th>Lteam_code</th>\n",
       "    </tr>\n",
       "  </thead>\n",
       "  <tbody>\n",
       "    <tr>\n",
       "      <th>0</th>\n",
       "      <td>11, 218</td>\n",
       "      <td>11, 218</td>\n",
       "      <td>1.0</td>\n",
       "      <td>11</td>\n",
       "      <td>218</td>\n",
       "      <td>1112</td>\n",
       "      <td>1319</td>\n",
       "    </tr>\n",
       "    <tr>\n",
       "      <th>1</th>\n",
       "      <td>160, 169</td>\n",
       "      <td>160, 169</td>\n",
       "      <td>1.0</td>\n",
       "      <td>160</td>\n",
       "      <td>169</td>\n",
       "      <td>1261</td>\n",
       "      <td>1270</td>\n",
       "    </tr>\n",
       "    <tr>\n",
       "      <th>2</th>\n",
       "      <td>237, 251</td>\n",
       "      <td>237, 251</td>\n",
       "      <td>1.0</td>\n",
       "      <td>237</td>\n",
       "      <td>251</td>\n",
       "      <td>1338</td>\n",
       "      <td>1352</td>\n",
       "    </tr>\n",
       "    <tr>\n",
       "      <th>3</th>\n",
       "      <td>54, 101</td>\n",
       "      <td>54, 101</td>\n",
       "      <td>1.0</td>\n",
       "      <td>54</td>\n",
       "      <td>101</td>\n",
       "      <td>1155</td>\n",
       "      <td>1202</td>\n",
       "    </tr>\n",
       "    <tr>\n",
       "      <th>4</th>\n",
       "      <td>58, 292</td>\n",
       "      <td>292, 58</td>\n",
       "      <td>1.0</td>\n",
       "      <td>292</td>\n",
       "      <td>58</td>\n",
       "      <td>1393</td>\n",
       "      <td>1159</td>\n",
       "    </tr>\n",
       "    <tr>\n",
       "      <th>5</th>\n",
       "      <td>64, 292</td>\n",
       "      <td>292, 64</td>\n",
       "      <td>1.0</td>\n",
       "      <td>292</td>\n",
       "      <td>64</td>\n",
       "      <td>1393</td>\n",
       "      <td>1165</td>\n",
       "    </tr>\n",
       "    <tr>\n",
       "      <th>6</th>\n",
       "      <td>71, 80</td>\n",
       "      <td>80, 71</td>\n",
       "      <td>1.0</td>\n",
       "      <td>80</td>\n",
       "      <td>71</td>\n",
       "      <td>1181</td>\n",
       "      <td>1172</td>\n",
       "    </tr>\n",
       "  </tbody>\n",
       "</table>\n",
       "</div>"
      ],
      "text/plain": [
       "       game  win_lose  percentage Wteam_index Lteam_index  Wteam_code  \\\n",
       "0   11, 218   11, 218         1.0          11         218        1112   \n",
       "1  160, 169  160, 169         1.0         160         169        1261   \n",
       "2  237, 251  237, 251         1.0         237         251        1338   \n",
       "3   54, 101   54, 101         1.0          54         101        1155   \n",
       "4   58, 292   292, 58         1.0         292          58        1393   \n",
       "5   64, 292   292, 64         1.0         292          64        1393   \n",
       "6    71, 80    80, 71         1.0          80          71        1181   \n",
       "\n",
       "   Lteam_code  \n",
       "0        1319  \n",
       "1        1270  \n",
       "2        1352  \n",
       "3        1202  \n",
       "4        1159  \n",
       "5        1165  \n",
       "6        1172  "
      ]
     },
     "execution_count": 92,
     "metadata": {},
     "output_type": "execute_result"
    }
   ],
   "source": [
    "always_win"
   ]
  },
  {
   "cell_type": "code",
   "execution_count": 95,
   "metadata": {
    "collapsed": true
   },
   "outputs": [],
   "source": [
    "teams = pd.read_csv('Teams.csv').set_index('Team_Id')\n",
    "teams.head()"
   ]
  },
  {
   "cell_type": "code",
   "execution_count": 99,
   "metadata": {
    "collapsed": true
   },
   "outputs": [],
   "source": [
    "always_win.loc[:, 'Wteam'] = always_win.Wteam_code.map(teams.Team_Name)\n",
    "always_win.loc[:, 'Lteam'] = always_win.Lteam_code.map(teams.Team_Name)"
   ]
  },
  {
   "cell_type": "code",
   "execution_count": 100,
   "metadata": {
    "collapsed": false
   },
   "outputs": [
    {
     "data": {
      "text/html": [
       "<div>\n",
       "<table border=\"1\" class=\"dataframe\">\n",
       "  <thead>\n",
       "    <tr style=\"text-align: right;\">\n",
       "      <th></th>\n",
       "      <th>game</th>\n",
       "      <th>win_lose</th>\n",
       "      <th>percentage</th>\n",
       "      <th>Wteam_index</th>\n",
       "      <th>Lteam_index</th>\n",
       "      <th>Wteam_code</th>\n",
       "      <th>Lteam_code</th>\n",
       "      <th>Wteam</th>\n",
       "      <th>Lteam</th>\n",
       "    </tr>\n",
       "  </thead>\n",
       "  <tbody>\n",
       "    <tr>\n",
       "      <th>0</th>\n",
       "      <td>11, 218</td>\n",
       "      <td>11, 218</td>\n",
       "      <td>1.0</td>\n",
       "      <td>11</td>\n",
       "      <td>218</td>\n",
       "      <td>1112</td>\n",
       "      <td>1319</td>\n",
       "      <td>Arizona</td>\n",
       "      <td>Northern Arizona</td>\n",
       "    </tr>\n",
       "    <tr>\n",
       "      <th>1</th>\n",
       "      <td>160, 169</td>\n",
       "      <td>160, 169</td>\n",
       "      <td>1.0</td>\n",
       "      <td>160</td>\n",
       "      <td>169</td>\n",
       "      <td>1261</td>\n",
       "      <td>1270</td>\n",
       "      <td>LSU</td>\n",
       "      <td>McNeese St</td>\n",
       "    </tr>\n",
       "    <tr>\n",
       "      <th>2</th>\n",
       "      <td>237, 251</td>\n",
       "      <td>237, 251</td>\n",
       "      <td>1.0</td>\n",
       "      <td>237</td>\n",
       "      <td>251</td>\n",
       "      <td>1338</td>\n",
       "      <td>1352</td>\n",
       "      <td>Pittsburgh</td>\n",
       "      <td>Robert Morris</td>\n",
       "    </tr>\n",
       "    <tr>\n",
       "      <th>3</th>\n",
       "      <td>54, 101</td>\n",
       "      <td>54, 101</td>\n",
       "      <td>1.0</td>\n",
       "      <td>54</td>\n",
       "      <td>101</td>\n",
       "      <td>1155</td>\n",
       "      <td>1202</td>\n",
       "      <td>Clemson</td>\n",
       "      <td>Furman</td>\n",
       "    </tr>\n",
       "    <tr>\n",
       "      <th>4</th>\n",
       "      <td>58, 292</td>\n",
       "      <td>292, 58</td>\n",
       "      <td>1.0</td>\n",
       "      <td>292</td>\n",
       "      <td>58</td>\n",
       "      <td>1393</td>\n",
       "      <td>1159</td>\n",
       "      <td>Syracuse</td>\n",
       "      <td>Colgate</td>\n",
       "    </tr>\n",
       "    <tr>\n",
       "      <th>5</th>\n",
       "      <td>64, 292</td>\n",
       "      <td>292, 64</td>\n",
       "      <td>1.0</td>\n",
       "      <td>292</td>\n",
       "      <td>64</td>\n",
       "      <td>1393</td>\n",
       "      <td>1165</td>\n",
       "      <td>Syracuse</td>\n",
       "      <td>Cornell</td>\n",
       "    </tr>\n",
       "    <tr>\n",
       "      <th>6</th>\n",
       "      <td>71, 80</td>\n",
       "      <td>80, 71</td>\n",
       "      <td>1.0</td>\n",
       "      <td>80</td>\n",
       "      <td>71</td>\n",
       "      <td>1181</td>\n",
       "      <td>1172</td>\n",
       "      <td>Duke</td>\n",
       "      <td>Davidson</td>\n",
       "    </tr>\n",
       "  </tbody>\n",
       "</table>\n",
       "</div>"
      ],
      "text/plain": [
       "       game  win_lose  percentage Wteam_index Lteam_index  Wteam_code  \\\n",
       "0   11, 218   11, 218         1.0          11         218        1112   \n",
       "1  160, 169  160, 169         1.0         160         169        1261   \n",
       "2  237, 251  237, 251         1.0         237         251        1338   \n",
       "3   54, 101   54, 101         1.0          54         101        1155   \n",
       "4   58, 292   292, 58         1.0         292          58        1393   \n",
       "5   64, 292   292, 64         1.0         292          64        1393   \n",
       "6    71, 80    80, 71         1.0          80          71        1181   \n",
       "\n",
       "   Lteam_code       Wteam             Lteam  \n",
       "0        1319     Arizona  Northern Arizona  \n",
       "1        1270         LSU        McNeese St  \n",
       "2        1352  Pittsburgh     Robert Morris  \n",
       "3        1202     Clemson            Furman  \n",
       "4        1159    Syracuse           Colgate  \n",
       "5        1165    Syracuse           Cornell  \n",
       "6        1172        Duke          Davidson  "
      ]
     },
     "execution_count": 100,
     "metadata": {},
     "output_type": "execute_result"
    }
   ],
   "source": [
    "always_win"
   ]
  },
  {
   "cell_type": "code",
   "execution_count": null,
   "metadata": {
    "collapsed": true
   },
   "outputs": [],
   "source": []
  }
 ],
 "metadata": {
  "anaconda-cloud": {},
  "kernelspec": {
   "display_name": "Python [default]",
   "language": "python",
   "name": "python3"
  },
  "language_info": {
   "codemirror_mode": {
    "name": "ipython",
    "version": 3
   },
   "file_extension": ".py",
   "mimetype": "text/x-python",
   "name": "python",
   "nbconvert_exporter": "python",
   "pygments_lexer": "ipython3",
   "version": "3.5.2"
  }
 },
 "nbformat": 4,
 "nbformat_minor": 0
}
