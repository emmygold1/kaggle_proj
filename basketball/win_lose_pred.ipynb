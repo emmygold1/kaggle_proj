{
 "cells": [
  {
   "cell_type": "code",
   "execution_count": 1,
   "metadata": {
    "collapsed": true
   },
   "outputs": [],
   "source": [
    "%matplotlib inline\n",
    "import pandas as pd\n",
    "import numpy as np\n",
    "import matplotlib.pyplot as plt\n",
    "import seaborn as sb"
   ]
  },
  {
   "cell_type": "code",
   "execution_count": 4,
   "metadata": {
    "collapsed": false
   },
   "outputs": [
    {
     "data": {
      "text/html": [
       "<div>\n",
       "<table border=\"1\" class=\"dataframe\">\n",
       "  <thead>\n",
       "    <tr style=\"text-align: right;\">\n",
       "      <th></th>\n",
       "      <th>Season</th>\n",
       "      <th>Daynum</th>\n",
       "      <th>Wteam</th>\n",
       "      <th>Wscore</th>\n",
       "      <th>Lteam</th>\n",
       "      <th>Lscore</th>\n",
       "      <th>Wloc</th>\n",
       "      <th>Numot</th>\n",
       "    </tr>\n",
       "  </thead>\n",
       "  <tbody>\n",
       "    <tr>\n",
       "      <th>0</th>\n",
       "      <td>1985</td>\n",
       "      <td>20</td>\n",
       "      <td>1228</td>\n",
       "      <td>81</td>\n",
       "      <td>1328</td>\n",
       "      <td>64</td>\n",
       "      <td>N</td>\n",
       "      <td>0</td>\n",
       "    </tr>\n",
       "    <tr>\n",
       "      <th>1</th>\n",
       "      <td>1985</td>\n",
       "      <td>25</td>\n",
       "      <td>1106</td>\n",
       "      <td>77</td>\n",
       "      <td>1354</td>\n",
       "      <td>70</td>\n",
       "      <td>H</td>\n",
       "      <td>0</td>\n",
       "    </tr>\n",
       "    <tr>\n",
       "      <th>2</th>\n",
       "      <td>1985</td>\n",
       "      <td>25</td>\n",
       "      <td>1112</td>\n",
       "      <td>63</td>\n",
       "      <td>1223</td>\n",
       "      <td>56</td>\n",
       "      <td>H</td>\n",
       "      <td>0</td>\n",
       "    </tr>\n",
       "    <tr>\n",
       "      <th>3</th>\n",
       "      <td>1985</td>\n",
       "      <td>25</td>\n",
       "      <td>1165</td>\n",
       "      <td>70</td>\n",
       "      <td>1432</td>\n",
       "      <td>54</td>\n",
       "      <td>H</td>\n",
       "      <td>0</td>\n",
       "    </tr>\n",
       "    <tr>\n",
       "      <th>4</th>\n",
       "      <td>1985</td>\n",
       "      <td>25</td>\n",
       "      <td>1192</td>\n",
       "      <td>86</td>\n",
       "      <td>1447</td>\n",
       "      <td>74</td>\n",
       "      <td>H</td>\n",
       "      <td>0</td>\n",
       "    </tr>\n",
       "  </tbody>\n",
       "</table>\n",
       "</div>"
      ],
      "text/plain": [
       "   Season  Daynum  Wteam  Wscore  Lteam  Lscore Wloc  Numot\n",
       "0    1985      20   1228      81   1328      64    N      0\n",
       "1    1985      25   1106      77   1354      70    H      0\n",
       "2    1985      25   1112      63   1223      56    H      0\n",
       "3    1985      25   1165      70   1432      54    H      0\n",
       "4    1985      25   1192      86   1447      74    H      0"
      ]
     },
     "execution_count": 4,
     "metadata": {},
     "output_type": "execute_result"
    }
   ],
   "source": [
    "rdat = pd.read_csv('RegularSeasonCompactResults.csv')\n",
    "tdat = pd.read_csv('TourneyCompactResults.csv')\n",
    "dat = pd.concat([rdat, tdat])\n",
    "dat.head()"
   ]
  },
  {
   "cell_type": "code",
   "execution_count": 43,
   "metadata": {
    "collapsed": false
   },
   "outputs": [
    {
     "data": {
      "text/plain": [
       "count    2050.000000\n",
       "mean     2000.676585\n",
       "std         9.274791\n",
       "min      1985.000000\n",
       "25%      1993.000000\n",
       "50%      2001.000000\n",
       "75%      2009.000000\n",
       "max      2016.000000\n",
       "Name: Season, dtype: float64"
      ]
     },
     "execution_count": 43,
     "metadata": {},
     "output_type": "execute_result"
    }
   ],
   "source": [
    "tdat.Season.describe()"
   ]
  },
  {
   "cell_type": "code",
   "execution_count": 25,
   "metadata": {
    "collapsed": true
   },
   "outputs": [],
   "source": [
    "games = dat.loc[:, ['Season', 'Daynum', 'Wteam', 'Lteam']].copy()"
   ]
  },
  {
   "cell_type": "code",
   "execution_count": 26,
   "metadata": {
    "collapsed": true
   },
   "outputs": [],
   "source": [
    "games.loc[:, 'Min_team'] = games.loc[:, ['Wteam', 'Lteam']].min(axis=1)\n",
    "games.loc[:, 'Max_team'] = games.loc[:, ['Wteam', 'Lteam']].max(axis=1)"
   ]
  },
  {
   "cell_type": "code",
   "execution_count": 27,
   "metadata": {
    "collapsed": false
   },
   "outputs": [
    {
     "data": {
      "text/html": [
       "<div>\n",
       "<table border=\"1\" class=\"dataframe\">\n",
       "  <thead>\n",
       "    <tr style=\"text-align: right;\">\n",
       "      <th></th>\n",
       "      <th>Season</th>\n",
       "      <th>Daynum</th>\n",
       "      <th>Wteam</th>\n",
       "      <th>Lteam</th>\n",
       "      <th>Min_team</th>\n",
       "      <th>Max_team</th>\n",
       "    </tr>\n",
       "  </thead>\n",
       "  <tbody>\n",
       "    <tr>\n",
       "      <th>0</th>\n",
       "      <td>1985</td>\n",
       "      <td>20</td>\n",
       "      <td>1228</td>\n",
       "      <td>1328</td>\n",
       "      <td>1228</td>\n",
       "      <td>1328</td>\n",
       "    </tr>\n",
       "    <tr>\n",
       "      <th>1</th>\n",
       "      <td>1985</td>\n",
       "      <td>25</td>\n",
       "      <td>1106</td>\n",
       "      <td>1354</td>\n",
       "      <td>1106</td>\n",
       "      <td>1354</td>\n",
       "    </tr>\n",
       "    <tr>\n",
       "      <th>2</th>\n",
       "      <td>1985</td>\n",
       "      <td>25</td>\n",
       "      <td>1112</td>\n",
       "      <td>1223</td>\n",
       "      <td>1112</td>\n",
       "      <td>1223</td>\n",
       "    </tr>\n",
       "    <tr>\n",
       "      <th>3</th>\n",
       "      <td>1985</td>\n",
       "      <td>25</td>\n",
       "      <td>1165</td>\n",
       "      <td>1432</td>\n",
       "      <td>1165</td>\n",
       "      <td>1432</td>\n",
       "    </tr>\n",
       "    <tr>\n",
       "      <th>4</th>\n",
       "      <td>1985</td>\n",
       "      <td>25</td>\n",
       "      <td>1192</td>\n",
       "      <td>1447</td>\n",
       "      <td>1192</td>\n",
       "      <td>1447</td>\n",
       "    </tr>\n",
       "  </tbody>\n",
       "</table>\n",
       "</div>"
      ],
      "text/plain": [
       "   Season  Daynum  Wteam  Lteam  Min_team  Max_team\n",
       "0    1985      20   1228   1328      1228      1328\n",
       "1    1985      25   1106   1354      1106      1354\n",
       "2    1985      25   1112   1223      1112      1223\n",
       "3    1985      25   1165   1432      1165      1432\n",
       "4    1985      25   1192   1447      1192      1447"
      ]
     },
     "execution_count": 27,
     "metadata": {},
     "output_type": "execute_result"
    }
   ],
   "source": [
    "games.head()"
   ]
  },
  {
   "cell_type": "code",
   "execution_count": 28,
   "metadata": {
    "collapsed": true
   },
   "outputs": [],
   "source": [
    "games.loc[:, 'game'] = games.Min_team.apply(lambda x: str(int(x))) + '_' + games.Max_team.apply(lambda x: str(int(x)))"
   ]
  },
  {
   "cell_type": "code",
   "execution_count": 29,
   "metadata": {
    "collapsed": false
   },
   "outputs": [
    {
     "data": {
      "text/html": [
       "<div>\n",
       "<table border=\"1\" class=\"dataframe\">\n",
       "  <thead>\n",
       "    <tr style=\"text-align: right;\">\n",
       "      <th></th>\n",
       "      <th>Season</th>\n",
       "      <th>Daynum</th>\n",
       "      <th>Wteam</th>\n",
       "      <th>Lteam</th>\n",
       "      <th>Min_team</th>\n",
       "      <th>Max_team</th>\n",
       "      <th>game</th>\n",
       "    </tr>\n",
       "  </thead>\n",
       "  <tbody>\n",
       "    <tr>\n",
       "      <th>0</th>\n",
       "      <td>1985</td>\n",
       "      <td>20</td>\n",
       "      <td>1228</td>\n",
       "      <td>1328</td>\n",
       "      <td>1228</td>\n",
       "      <td>1328</td>\n",
       "      <td>1228_1328</td>\n",
       "    </tr>\n",
       "    <tr>\n",
       "      <th>1</th>\n",
       "      <td>1985</td>\n",
       "      <td>25</td>\n",
       "      <td>1106</td>\n",
       "      <td>1354</td>\n",
       "      <td>1106</td>\n",
       "      <td>1354</td>\n",
       "      <td>1106_1354</td>\n",
       "    </tr>\n",
       "    <tr>\n",
       "      <th>2</th>\n",
       "      <td>1985</td>\n",
       "      <td>25</td>\n",
       "      <td>1112</td>\n",
       "      <td>1223</td>\n",
       "      <td>1112</td>\n",
       "      <td>1223</td>\n",
       "      <td>1112_1223</td>\n",
       "    </tr>\n",
       "    <tr>\n",
       "      <th>3</th>\n",
       "      <td>1985</td>\n",
       "      <td>25</td>\n",
       "      <td>1165</td>\n",
       "      <td>1432</td>\n",
       "      <td>1165</td>\n",
       "      <td>1432</td>\n",
       "      <td>1165_1432</td>\n",
       "    </tr>\n",
       "    <tr>\n",
       "      <th>4</th>\n",
       "      <td>1985</td>\n",
       "      <td>25</td>\n",
       "      <td>1192</td>\n",
       "      <td>1447</td>\n",
       "      <td>1192</td>\n",
       "      <td>1447</td>\n",
       "      <td>1192_1447</td>\n",
       "    </tr>\n",
       "  </tbody>\n",
       "</table>\n",
       "</div>"
      ],
      "text/plain": [
       "   Season  Daynum  Wteam  Lteam  Min_team  Max_team       game\n",
       "0    1985      20   1228   1328      1228      1328  1228_1328\n",
       "1    1985      25   1106   1354      1106      1354  1106_1354\n",
       "2    1985      25   1112   1223      1112      1223  1112_1223\n",
       "3    1985      25   1165   1432      1165      1432  1165_1432\n",
       "4    1985      25   1192   1447      1192      1447  1192_1447"
      ]
     },
     "execution_count": 29,
     "metadata": {},
     "output_type": "execute_result"
    }
   ],
   "source": [
    "games.head()"
   ]
  },
  {
   "cell_type": "code",
   "execution_count": 30,
   "metadata": {
    "collapsed": true
   },
   "outputs": [],
   "source": [
    "games.loc[:, 'Min_team_win'] = games.Wteam == games.Min_team"
   ]
  },
  {
   "cell_type": "code",
   "execution_count": 31,
   "metadata": {
    "collapsed": false
   },
   "outputs": [
    {
     "data": {
      "text/html": [
       "<div>\n",
       "<table border=\"1\" class=\"dataframe\">\n",
       "  <thead>\n",
       "    <tr style=\"text-align: right;\">\n",
       "      <th></th>\n",
       "      <th>Season</th>\n",
       "      <th>Daynum</th>\n",
       "      <th>Wteam</th>\n",
       "      <th>Lteam</th>\n",
       "      <th>Min_team</th>\n",
       "      <th>Max_team</th>\n",
       "      <th>game</th>\n",
       "      <th>Min_team_win</th>\n",
       "    </tr>\n",
       "  </thead>\n",
       "  <tbody>\n",
       "    <tr>\n",
       "      <th>0</th>\n",
       "      <td>1985</td>\n",
       "      <td>20</td>\n",
       "      <td>1228</td>\n",
       "      <td>1328</td>\n",
       "      <td>1228</td>\n",
       "      <td>1328</td>\n",
       "      <td>1228_1328</td>\n",
       "      <td>True</td>\n",
       "    </tr>\n",
       "    <tr>\n",
       "      <th>1</th>\n",
       "      <td>1985</td>\n",
       "      <td>25</td>\n",
       "      <td>1106</td>\n",
       "      <td>1354</td>\n",
       "      <td>1106</td>\n",
       "      <td>1354</td>\n",
       "      <td>1106_1354</td>\n",
       "      <td>True</td>\n",
       "    </tr>\n",
       "    <tr>\n",
       "      <th>2</th>\n",
       "      <td>1985</td>\n",
       "      <td>25</td>\n",
       "      <td>1112</td>\n",
       "      <td>1223</td>\n",
       "      <td>1112</td>\n",
       "      <td>1223</td>\n",
       "      <td>1112_1223</td>\n",
       "      <td>True</td>\n",
       "    </tr>\n",
       "    <tr>\n",
       "      <th>3</th>\n",
       "      <td>1985</td>\n",
       "      <td>25</td>\n",
       "      <td>1165</td>\n",
       "      <td>1432</td>\n",
       "      <td>1165</td>\n",
       "      <td>1432</td>\n",
       "      <td>1165_1432</td>\n",
       "      <td>True</td>\n",
       "    </tr>\n",
       "    <tr>\n",
       "      <th>4</th>\n",
       "      <td>1985</td>\n",
       "      <td>25</td>\n",
       "      <td>1192</td>\n",
       "      <td>1447</td>\n",
       "      <td>1192</td>\n",
       "      <td>1447</td>\n",
       "      <td>1192_1447</td>\n",
       "      <td>True</td>\n",
       "    </tr>\n",
       "  </tbody>\n",
       "</table>\n",
       "</div>"
      ],
      "text/plain": [
       "   Season  Daynum  Wteam  Lteam  Min_team  Max_team       game Min_team_win\n",
       "0    1985      20   1228   1328      1228      1328  1228_1328         True\n",
       "1    1985      25   1106   1354      1106      1354  1106_1354         True\n",
       "2    1985      25   1112   1223      1112      1223  1112_1223         True\n",
       "3    1985      25   1165   1432      1165      1432  1165_1432         True\n",
       "4    1985      25   1192   1447      1192      1447  1192_1447         True"
      ]
     },
     "execution_count": 31,
     "metadata": {},
     "output_type": "execute_result"
    }
   ],
   "source": [
    "games.head()"
   ]
  },
  {
   "cell_type": "code",
   "execution_count": 32,
   "metadata": {
    "collapsed": false
   },
   "outputs": [
    {
     "data": {
      "text/html": [
       "<div>\n",
       "<table border=\"1\" class=\"dataframe\">\n",
       "  <thead>\n",
       "    <tr style=\"text-align: right;\">\n",
       "      <th></th>\n",
       "      <th>Season</th>\n",
       "      <th>Daynum</th>\n",
       "      <th>Wteam</th>\n",
       "      <th>Lteam</th>\n",
       "      <th>Min_team</th>\n",
       "      <th>Max_team</th>\n",
       "      <th>game</th>\n",
       "      <th>Min_team_win</th>\n",
       "    </tr>\n",
       "  </thead>\n",
       "  <tbody>\n",
       "    <tr>\n",
       "      <th>2045</th>\n",
       "      <td>2016</td>\n",
       "      <td>146</td>\n",
       "      <td>1314</td>\n",
       "      <td>1323</td>\n",
       "      <td>1314</td>\n",
       "      <td>1323</td>\n",
       "      <td>1314_1323</td>\n",
       "      <td>True</td>\n",
       "    </tr>\n",
       "    <tr>\n",
       "      <th>2046</th>\n",
       "      <td>2016</td>\n",
       "      <td>146</td>\n",
       "      <td>1393</td>\n",
       "      <td>1438</td>\n",
       "      <td>1393</td>\n",
       "      <td>1438</td>\n",
       "      <td>1393_1438</td>\n",
       "      <td>True</td>\n",
       "    </tr>\n",
       "    <tr>\n",
       "      <th>2047</th>\n",
       "      <td>2016</td>\n",
       "      <td>152</td>\n",
       "      <td>1314</td>\n",
       "      <td>1393</td>\n",
       "      <td>1314</td>\n",
       "      <td>1393</td>\n",
       "      <td>1314_1393</td>\n",
       "      <td>True</td>\n",
       "    </tr>\n",
       "    <tr>\n",
       "      <th>2048</th>\n",
       "      <td>2016</td>\n",
       "      <td>152</td>\n",
       "      <td>1437</td>\n",
       "      <td>1328</td>\n",
       "      <td>1328</td>\n",
       "      <td>1437</td>\n",
       "      <td>1328_1437</td>\n",
       "      <td>False</td>\n",
       "    </tr>\n",
       "    <tr>\n",
       "      <th>2049</th>\n",
       "      <td>2016</td>\n",
       "      <td>154</td>\n",
       "      <td>1437</td>\n",
       "      <td>1314</td>\n",
       "      <td>1314</td>\n",
       "      <td>1437</td>\n",
       "      <td>1314_1437</td>\n",
       "      <td>False</td>\n",
       "    </tr>\n",
       "  </tbody>\n",
       "</table>\n",
       "</div>"
      ],
      "text/plain": [
       "      Season  Daynum  Wteam  Lteam  Min_team  Max_team       game Min_team_win\n",
       "2045    2016     146   1314   1323      1314      1323  1314_1323         True\n",
       "2046    2016     146   1393   1438      1393      1438  1393_1438         True\n",
       "2047    2016     152   1314   1393      1314      1393  1314_1393         True\n",
       "2048    2016     152   1437   1328      1328      1437  1328_1437        False\n",
       "2049    2016     154   1437   1314      1314      1437  1314_1437        False"
      ]
     },
     "execution_count": 32,
     "metadata": {},
     "output_type": "execute_result"
    }
   ],
   "source": [
    "games.tail()"
   ]
  },
  {
   "cell_type": "code",
   "execution_count": 81,
   "metadata": {
    "collapsed": true
   },
   "outputs": [],
   "source": [
    "sample = games.loc[games.game == '1276_1409'].sort_values(by=['Season', 'Daynum'])"
   ]
  },
  {
   "cell_type": "code",
   "execution_count": 82,
   "metadata": {
    "collapsed": false
   },
   "outputs": [
    {
     "data": {
      "text/html": [
       "<div>\n",
       "<table border=\"1\" class=\"dataframe\">\n",
       "  <thead>\n",
       "    <tr style=\"text-align: right;\">\n",
       "      <th></th>\n",
       "      <th>Season</th>\n",
       "      <th>Daynum</th>\n",
       "      <th>Wteam</th>\n",
       "      <th>Lteam</th>\n",
       "      <th>Min_team</th>\n",
       "      <th>Max_team</th>\n",
       "      <th>game</th>\n",
       "      <th>Min_team_win</th>\n",
       "    </tr>\n",
       "  </thead>\n",
       "  <tbody>\n",
       "    <tr>\n",
       "      <th>1986</th>\n",
       "      <td>2016</td>\n",
       "      <td>135</td>\n",
       "      <td>1276</td>\n",
       "      <td>1409</td>\n",
       "      <td>1276</td>\n",
       "      <td>1409</td>\n",
       "      <td>1276_1409</td>\n",
       "      <td>True</td>\n",
       "    </tr>\n",
       "  </tbody>\n",
       "</table>\n",
       "</div>"
      ],
      "text/plain": [
       "      Season  Daynum  Wteam  Lteam  Min_team  Max_team       game Min_team_win\n",
       "1986    2016     135   1276   1409      1276      1409  1276_1409         True"
      ]
     },
     "execution_count": 82,
     "metadata": {},
     "output_type": "execute_result"
    }
   ],
   "source": [
    "sample"
   ]
  },
  {
   "cell_type": "code",
   "execution_count": 41,
   "metadata": {
    "collapsed": false
   },
   "outputs": [
    {
     "data": {
      "text/html": [
       "<div>\n",
       "<table border=\"1\" class=\"dataframe\">\n",
       "  <thead>\n",
       "    <tr style=\"text-align: right;\">\n",
       "      <th></th>\n",
       "      <th>Season</th>\n",
       "      <th>Daynum</th>\n",
       "      <th>Wteam</th>\n",
       "      <th>Lteam</th>\n",
       "      <th>Min_team</th>\n",
       "      <th>Max_team</th>\n",
       "      <th>game</th>\n",
       "      <th>Min_team_win</th>\n",
       "    </tr>\n",
       "  </thead>\n",
       "  <tbody>\n",
       "    <tr>\n",
       "      <th>37</th>\n",
       "      <td>1985</td>\n",
       "      <td>138</td>\n",
       "      <td>1314</td>\n",
       "      <td>1323</td>\n",
       "      <td>1314</td>\n",
       "      <td>1323</td>\n",
       "      <td>1314_1323</td>\n",
       "      <td>True</td>\n",
       "    </tr>\n",
       "    <tr>\n",
       "      <th>175</th>\n",
       "      <td>1987</td>\n",
       "      <td>143</td>\n",
       "      <td>1314</td>\n",
       "      <td>1323</td>\n",
       "      <td>1314</td>\n",
       "      <td>1323</td>\n",
       "      <td>1314_1323</td>\n",
       "      <td>True</td>\n",
       "    </tr>\n",
       "    <tr>\n",
       "      <th>2045</th>\n",
       "      <td>2016</td>\n",
       "      <td>146</td>\n",
       "      <td>1314</td>\n",
       "      <td>1323</td>\n",
       "      <td>1314</td>\n",
       "      <td>1323</td>\n",
       "      <td>1314_1323</td>\n",
       "      <td>True</td>\n",
       "    </tr>\n",
       "  </tbody>\n",
       "</table>\n",
       "</div>"
      ],
      "text/plain": [
       "      Season  Daynum  Wteam  Lteam  Min_team  Max_team       game Min_team_win\n",
       "37      1985     138   1314   1323      1314      1323  1314_1323         True\n",
       "175     1987     143   1314   1323      1314      1323  1314_1323         True\n",
       "2045    2016     146   1314   1323      1314      1323  1314_1323         True"
      ]
     },
     "execution_count": 41,
     "metadata": {},
     "output_type": "execute_result"
    }
   ],
   "source": [
    "sample.loc[sample.Daynum > 132]"
   ]
  },
  {
   "cell_type": "code",
   "execution_count": 42,
   "metadata": {
    "collapsed": true
   },
   "outputs": [],
   "source": [
    "last_reg_day = 132"
   ]
  },
  {
   "cell_type": "code",
   "execution_count": 45,
   "metadata": {
    "collapsed": true
   },
   "outputs": [],
   "source": [
    "def get_winning_index(win_rate, n_games):\n",
    "    return (win_rate + 0.01)**(n_games + 1)"
   ]
  },
  {
   "cell_type": "code",
   "execution_count": 70,
   "metadata": {
    "collapsed": true
   },
   "outputs": [],
   "source": [
    "def make_trainset(dat, year):\n",
    "    feature_dat = dat.loc[(dat.Season < year) | ((dat.Season == year) & (dat.Daynum <= last_reg_day))]\n",
    "    label_dat = dat.loc[(dat.Season == year) & (dat.Daynum > last_reg_day), ['Season', 'game', 'Min_team_win']]\n",
    "    gpd = feature_dat.groupby('game')\n",
    "    n_games = gpd.size()\n",
    "    win_rate = gpd['Min_team_win'].sum() / n_games\n",
    "    winning_index = get_winning_index(win_rate, n_games)\n",
    "    tgpd = feature_dat.loc[feature_dat.Daynum > last_reg_day].groupby('game')\n",
    "    n_tgames = tgpd.size()\n",
    "    twin_rate = tgpd['Min_team_win'].sum() / n_tgames\n",
    "    twinning_index = get_winning_index(twin_rate, n_tgames)\n",
    "    \n",
    "    winning_index.name = 'winning_index'\n",
    "    twinning_index.name = 'twinning_index'\n",
    "    features = pd.concat([winning_index, twinning_index], axis=1)\n",
    "    res = label_dat.join(features, on='game', how='left').fillna(get_winning_index(0, 1))\n",
    "    return res"
   ]
  },
  {
   "cell_type": "code",
   "execution_count": 71,
   "metadata": {
    "collapsed": false
   },
   "outputs": [
    {
     "data": {
      "text/html": [
       "<div>\n",
       "<table border=\"1\" class=\"dataframe\">\n",
       "  <thead>\n",
       "    <tr style=\"text-align: right;\">\n",
       "      <th></th>\n",
       "      <th>Season</th>\n",
       "      <th>game</th>\n",
       "      <th>Min_team_win</th>\n",
       "      <th>winning_index</th>\n",
       "      <th>twinning_index</th>\n",
       "    </tr>\n",
       "  </thead>\n",
       "  <tbody>\n",
       "    <tr>\n",
       "      <th>2045</th>\n",
       "      <td>2016</td>\n",
       "      <td>1314_1323</td>\n",
       "      <td>True</td>\n",
       "      <td>0.001932</td>\n",
       "      <td>1.030301</td>\n",
       "    </tr>\n",
       "  </tbody>\n",
       "</table>\n",
       "</div>"
      ],
      "text/plain": [
       "      Season       game Min_team_win  winning_index  twinning_index\n",
       "2045    2016  1314_1323         True       0.001932        1.030301"
      ]
     },
     "execution_count": 71,
     "metadata": {},
     "output_type": "execute_result"
    }
   ],
   "source": [
    "make_trainset(sample, 2016)"
   ]
  },
  {
   "cell_type": "code",
   "execution_count": 68,
   "metadata": {
    "collapsed": false
   },
   "outputs": [],
   "source": [
    "feature_dat = games.loc[(games.Season < 1986) | ((games.Season == 1986) & (games.Daynum <= last_reg_day))]"
   ]
  },
  {
   "cell_type": "code",
   "execution_count": 69,
   "metadata": {
    "collapsed": false
   },
   "outputs": [
    {
     "data": {
      "text/plain": [
       "(7583, 8)"
      ]
     },
     "execution_count": 69,
     "metadata": {},
     "output_type": "execute_result"
    }
   ],
   "source": [
    "feature_dat.shape"
   ]
  },
  {
   "cell_type": "code",
   "execution_count": 83,
   "metadata": {
    "collapsed": false
   },
   "outputs": [],
   "source": [
    "train_set = pd.DataFrame(None)\n",
    "for year in range(1986, 2016):\n",
    "    train_set = train_set.append(make_trainset(games, year))"
   ]
  },
  {
   "cell_type": "code",
   "execution_count": 84,
   "metadata": {
    "collapsed": false
   },
   "outputs": [
    {
     "data": {
      "text/html": [
       "<div>\n",
       "<table border=\"1\" class=\"dataframe\">\n",
       "  <thead>\n",
       "    <tr style=\"text-align: right;\">\n",
       "      <th></th>\n",
       "      <th>Season</th>\n",
       "      <th>game</th>\n",
       "      <th>Min_team_win</th>\n",
       "      <th>winning_index</th>\n",
       "      <th>twinning_index</th>\n",
       "    </tr>\n",
       "  </thead>\n",
       "  <tbody>\n",
       "    <tr>\n",
       "      <th>63</th>\n",
       "      <td>1986</td>\n",
       "      <td>1133_1431</td>\n",
       "      <td>True</td>\n",
       "      <td>0.0001</td>\n",
       "      <td>0.0001</td>\n",
       "    </tr>\n",
       "    <tr>\n",
       "      <th>64</th>\n",
       "      <td>1986</td>\n",
       "      <td>1177_1438</td>\n",
       "      <td>True</td>\n",
       "      <td>0.0001</td>\n",
       "      <td>0.0001</td>\n",
       "    </tr>\n",
       "    <tr>\n",
       "      <th>65</th>\n",
       "      <td>1986</td>\n",
       "      <td>1181_1290</td>\n",
       "      <td>True</td>\n",
       "      <td>0.0001</td>\n",
       "      <td>0.0001</td>\n",
       "    </tr>\n",
       "    <tr>\n",
       "      <th>66</th>\n",
       "      <td>1986</td>\n",
       "      <td>1207_1403</td>\n",
       "      <td>True</td>\n",
       "      <td>0.0001</td>\n",
       "      <td>0.0001</td>\n",
       "    </tr>\n",
       "    <tr>\n",
       "      <th>67</th>\n",
       "      <td>1986</td>\n",
       "      <td>1210_1265</td>\n",
       "      <td>True</td>\n",
       "      <td>0.0001</td>\n",
       "      <td>0.0001</td>\n",
       "    </tr>\n",
       "  </tbody>\n",
       "</table>\n",
       "</div>"
      ],
      "text/plain": [
       "    Season       game Min_team_win  winning_index  twinning_index\n",
       "63    1986  1133_1431         True         0.0001          0.0001\n",
       "64    1986  1177_1438         True         0.0001          0.0001\n",
       "65    1986  1181_1290         True         0.0001          0.0001\n",
       "66    1986  1207_1403         True         0.0001          0.0001\n",
       "67    1986  1210_1265         True         0.0001          0.0001"
      ]
     },
     "execution_count": 84,
     "metadata": {},
     "output_type": "execute_result"
    }
   ],
   "source": [
    "train_set.head()"
   ]
  },
  {
   "cell_type": "code",
   "execution_count": 85,
   "metadata": {
    "collapsed": false
   },
   "outputs": [
    {
     "data": {
      "text/html": [
       "<div>\n",
       "<table border=\"1\" class=\"dataframe\">\n",
       "  <thead>\n",
       "    <tr style=\"text-align: right;\">\n",
       "      <th></th>\n",
       "      <th>Season</th>\n",
       "      <th>winning_index</th>\n",
       "      <th>twinning_index</th>\n",
       "    </tr>\n",
       "  </thead>\n",
       "  <tbody>\n",
       "    <tr>\n",
       "      <th>count</th>\n",
       "      <td>1920.000000</td>\n",
       "      <td>1.920000e+03</td>\n",
       "      <td>1.920000e+03</td>\n",
       "    </tr>\n",
       "    <tr>\n",
       "      <th>mean</th>\n",
       "      <td>2000.656250</td>\n",
       "      <td>1.472591e-01</td>\n",
       "      <td>6.318838e-02</td>\n",
       "    </tr>\n",
       "    <tr>\n",
       "      <th>std</th>\n",
       "      <td>8.693829</td>\n",
       "      <td>3.428586e-01</td>\n",
       "      <td>2.417776e-01</td>\n",
       "    </tr>\n",
       "    <tr>\n",
       "      <th>min</th>\n",
       "      <td>1986.000000</td>\n",
       "      <td>6.162810e-22</td>\n",
       "      <td>1.000000e-08</td>\n",
       "    </tr>\n",
       "    <tr>\n",
       "      <th>25%</th>\n",
       "      <td>1993.000000</td>\n",
       "      <td>1.000000e-04</td>\n",
       "      <td>1.000000e-04</td>\n",
       "    </tr>\n",
       "    <tr>\n",
       "      <th>50%</th>\n",
       "      <td>2001.000000</td>\n",
       "      <td>1.000000e-04</td>\n",
       "      <td>1.000000e-04</td>\n",
       "    </tr>\n",
       "    <tr>\n",
       "      <th>75%</th>\n",
       "      <td>2008.000000</td>\n",
       "      <td>1.188138e-03</td>\n",
       "      <td>1.000000e-04</td>\n",
       "    </tr>\n",
       "    <tr>\n",
       "      <th>max</th>\n",
       "      <td>2015.000000</td>\n",
       "      <td>1.104622e+00</td>\n",
       "      <td>1.061520e+00</td>\n",
       "    </tr>\n",
       "  </tbody>\n",
       "</table>\n",
       "</div>"
      ],
      "text/plain": [
       "            Season  winning_index  twinning_index\n",
       "count  1920.000000   1.920000e+03    1.920000e+03\n",
       "mean   2000.656250   1.472591e-01    6.318838e-02\n",
       "std       8.693829   3.428586e-01    2.417776e-01\n",
       "min    1986.000000   6.162810e-22    1.000000e-08\n",
       "25%    1993.000000   1.000000e-04    1.000000e-04\n",
       "50%    2001.000000   1.000000e-04    1.000000e-04\n",
       "75%    2008.000000   1.188138e-03    1.000000e-04\n",
       "max    2015.000000   1.104622e+00    1.061520e+00"
      ]
     },
     "execution_count": 85,
     "metadata": {},
     "output_type": "execute_result"
    }
   ],
   "source": [
    "train_set.describe()"
   ]
  },
  {
   "cell_type": "code",
   "execution_count": null,
   "metadata": {
    "collapsed": true
   },
   "outputs": [],
   "source": []
  }
 ],
 "metadata": {
  "anaconda-cloud": {},
  "kernelspec": {
   "display_name": "Python [conda env:ds_py3]",
   "language": "python",
   "name": "conda-env-ds_py3-py"
  },
  "language_info": {
   "codemirror_mode": {
    "name": "ipython",
    "version": 3
   },
   "file_extension": ".py",
   "mimetype": "text/x-python",
   "name": "python",
   "nbconvert_exporter": "python",
   "pygments_lexer": "ipython3",
   "version": "3.5.2"
  }
 },
 "nbformat": 4,
 "nbformat_minor": 2
}
