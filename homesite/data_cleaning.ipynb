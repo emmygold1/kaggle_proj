{
 "cells": [
  {
   "cell_type": "code",
   "execution_count": 1,
   "metadata": {
    "collapsed": true
   },
   "outputs": [],
   "source": [
    "%matplotlib inline\n",
    "import pandas as pd\n",
    "import numpy as np\n",
    "import matplotlib.pyplot as plt\n",
    "from sklearn.preprocessing import MultiLabelBinarizer"
   ]
  },
  {
   "cell_type": "code",
   "execution_count": 2,
   "metadata": {
    "collapsed": true
   },
   "outputs": [],
   "source": [
    "train = pd.read_csv('train.csv')"
   ]
  },
  {
   "cell_type": "code",
   "execution_count": 63,
   "metadata": {
    "collapsed": false,
    "scrolled": false
   },
   "outputs": [],
   "source": [
    "train.loc[:, 'Original_Quote_Date'] = pd.to_datetime(train.loc[:, 'Original_Quote_Date'])"
   ]
  },
  {
   "cell_type": "code",
   "execution_count": 3,
   "metadata": {
    "collapsed": false
   },
   "outputs": [
    {
     "data": {
      "text/plain": [
       "(260753, 299)"
      ]
     },
     "execution_count": 3,
     "metadata": {},
     "output_type": "execute_result"
    }
   ],
   "source": [
    "train.shape"
   ]
  },
  {
   "cell_type": "code",
   "execution_count": 3,
   "metadata": {
    "collapsed": false
   },
   "outputs": [
    {
     "data": {
      "text/html": [
       "<div>\n",
       "<table border=\"1\" class=\"dataframe\">\n",
       "  <thead>\n",
       "    <tr style=\"text-align: right;\">\n",
       "      <th></th>\n",
       "      <th>PersonalField7</th>\n",
       "      <th>PersonalField84</th>\n",
       "      <th>PropertyField3</th>\n",
       "      <th>PropertyField4</th>\n",
       "      <th>PropertyField29</th>\n",
       "      <th>PropertyField32</th>\n",
       "      <th>PropertyField34</th>\n",
       "      <th>PropertyField36</th>\n",
       "      <th>PropertyField38</th>\n",
       "    </tr>\n",
       "  </thead>\n",
       "  <tbody>\n",
       "    <tr>\n",
       "      <th>0</th>\n",
       "      <td>N</td>\n",
       "      <td>2</td>\n",
       "      <td>N</td>\n",
       "      <td>N</td>\n",
       "      <td>0</td>\n",
       "      <td>Y</td>\n",
       "      <td>Y</td>\n",
       "      <td>N</td>\n",
       "      <td>N</td>\n",
       "    </tr>\n",
       "    <tr>\n",
       "      <th>1</th>\n",
       "      <td>N</td>\n",
       "      <td>NaN</td>\n",
       "      <td>N</td>\n",
       "      <td>N</td>\n",
       "      <td>NaN</td>\n",
       "      <td>N</td>\n",
       "      <td>Y</td>\n",
       "      <td>N</td>\n",
       "      <td>N</td>\n",
       "    </tr>\n",
       "    <tr>\n",
       "      <th>2</th>\n",
       "      <td>N</td>\n",
       "      <td>NaN</td>\n",
       "      <td>Y</td>\n",
       "      <td>Y</td>\n",
       "      <td>NaN</td>\n",
       "      <td>Y</td>\n",
       "      <td>Y</td>\n",
       "      <td>N</td>\n",
       "      <td>N</td>\n",
       "    </tr>\n",
       "    <tr>\n",
       "      <th>3</th>\n",
       "      <td>N</td>\n",
       "      <td>NaN</td>\n",
       "      <td>N</td>\n",
       "      <td>N</td>\n",
       "      <td>NaN</td>\n",
       "      <td>Y</td>\n",
       "      <td>N</td>\n",
       "      <td>N</td>\n",
       "      <td>N</td>\n",
       "    </tr>\n",
       "    <tr>\n",
       "      <th>4</th>\n",
       "      <td>N</td>\n",
       "      <td>2</td>\n",
       "      <td>Y</td>\n",
       "      <td>Y</td>\n",
       "      <td>0</td>\n",
       "      <td>N</td>\n",
       "      <td>N</td>\n",
       "      <td>N</td>\n",
       "      <td>N</td>\n",
       "    </tr>\n",
       "  </tbody>\n",
       "</table>\n",
       "</div>"
      ],
      "text/plain": [
       "  PersonalField7  PersonalField84 PropertyField3 PropertyField4  \\\n",
       "0              N                2              N              N   \n",
       "1              N              NaN              N              N   \n",
       "2              N              NaN              Y              Y   \n",
       "3              N              NaN              N              N   \n",
       "4              N                2              Y              Y   \n",
       "\n",
       "   PropertyField29 PropertyField32 PropertyField34 PropertyField36  \\\n",
       "0                0               Y               Y               N   \n",
       "1              NaN               N               Y               N   \n",
       "2              NaN               Y               Y               N   \n",
       "3              NaN               Y               N               N   \n",
       "4                0               N               N               N   \n",
       "\n",
       "  PropertyField38  \n",
       "0               N  \n",
       "1               N  \n",
       "2               N  \n",
       "3               N  \n",
       "4               N  "
      ]
     },
     "execution_count": 3,
     "metadata": {},
     "output_type": "execute_result"
    }
   ],
   "source": [
    "train.loc[:, train.isnull().any().values].head()"
   ]
  },
  {
   "cell_type": "code",
   "execution_count": 15,
   "metadata": {
    "collapsed": false
   },
   "outputs": [
    {
     "data": {
      "text/plain": [
       "1    139141\n",
       "2    107528\n",
       "3     13714\n",
       "4       312\n",
       "5        34\n",
       "7        13\n",
       "6        11\n",
       "dtype: int64"
      ]
     },
     "execution_count": 15,
     "metadata": {},
     "output_type": "execute_result"
    }
   ],
   "source": [
    "train_to_save.PersonalField29.value_counts()"
   ]
  },
  {
   "cell_type": "code",
   "execution_count": 91,
   "metadata": {
    "collapsed": false
   },
   "outputs": [],
   "source": [
    "train_to_save = train.copy()"
   ]
  },
  {
   "cell_type": "code",
   "execution_count": 92,
   "metadata": {
    "collapsed": false
   },
   "outputs": [],
   "source": [
    "train_to_save.loc[:, 'PersonalField7'] = train_to_save.loc[:, 'PersonalField7'].fillna('Unknown')"
   ]
  },
  {
   "cell_type": "code",
   "execution_count": 93,
   "metadata": {
    "collapsed": false
   },
   "outputs": [],
   "source": [
    "train_to_save.loc[:, 'PropertyField3'] = train_to_save.loc[:, 'PropertyField3'].fillna('Unknown')"
   ]
  },
  {
   "cell_type": "code",
   "execution_count": 94,
   "metadata": {
    "collapsed": true
   },
   "outputs": [],
   "source": [
    "train_to_save.loc[:, 'PropertyField4'] = train_to_save.loc[:, 'PropertyField4'].fillna('Unknown')"
   ]
  },
  {
   "cell_type": "code",
   "execution_count": 95,
   "metadata": {
    "collapsed": true
   },
   "outputs": [],
   "source": [
    "train_to_save.loc[:, 'PropertyField32'] = train_to_save.loc[:, 'PropertyField32'].fillna('Unknown')"
   ]
  },
  {
   "cell_type": "code",
   "execution_count": 96,
   "metadata": {
    "collapsed": true
   },
   "outputs": [],
   "source": [
    "train_to_save.loc[:, 'PropertyField34'] = train_to_save.loc[:, 'PropertyField34'].fillna('Unknown')"
   ]
  },
  {
   "cell_type": "code",
   "execution_count": 97,
   "metadata": {
    "collapsed": true
   },
   "outputs": [],
   "source": [
    "train_to_save.loc[:, 'PropertyField36'] = train_to_save.loc[:, 'PropertyField36'].fillna('Unknown')"
   ]
  },
  {
   "cell_type": "code",
   "execution_count": 98,
   "metadata": {
    "collapsed": true
   },
   "outputs": [],
   "source": [
    "train_to_save.loc[:, 'PropertyField38'] = train_to_save.loc[:, 'PropertyField38'].fillna('Unknown')"
   ]
  },
  {
   "cell_type": "code",
   "execution_count": 99,
   "metadata": {
    "collapsed": true
   },
   "outputs": [],
   "source": [
    "train_to_save.loc[:, 'PersonalField84'] = train_to_save.loc[:, 'PersonalField84'].fillna(-999)"
   ]
  },
  {
   "cell_type": "code",
   "execution_count": 100,
   "metadata": {
    "collapsed": true
   },
   "outputs": [],
   "source": [
    "train_to_save.loc[:, 'PropertyField29'] = train_to_save.loc[:, 'PropertyField29'].fillna(-999)"
   ]
  },
  {
   "cell_type": "code",
   "execution_count": 101,
   "metadata": {
    "collapsed": true
   },
   "outputs": [],
   "source": [
    "train_to_save.loc[:, 'Field10'] = train_to_save.loc[:, 'Field10'].str.replace(',', '').astype('float')"
   ]
  },
  {
   "cell_type": "code",
   "execution_count": 102,
   "metadata": {
    "collapsed": false
   },
   "outputs": [],
   "source": [
    "train_to_save.loc[:, 'year'] = train_to_save.loc[:, 'Original_Quote_Date'].dt.year.apply(lambda x: str(x))\n",
    "train_to_save.loc[:, 'month'] = train_to_save.loc[:, 'Original_Quote_Date'].dt.month.apply(lambda x: str(x))\n",
    "train_to_save.loc[:, 'dayofweek'] = train_to_save.loc[:, 'Original_Quote_Date'].dt.dayofweek.apply(lambda x: str(x))"
   ]
  },
  {
   "cell_type": "code",
   "execution_count": 105,
   "metadata": {
    "collapsed": true
   },
   "outputs": [],
   "source": [
    "train_to_save = train_to_save.drop('Original_Quote_Date', axis=1)"
   ]
  },
  {
   "cell_type": "code",
   "execution_count": 106,
   "metadata": {
    "collapsed": true
   },
   "outputs": [],
   "source": [
    "train_to_save.to_csv('train_fillna.csv', index=False)"
   ]
  },
  {
   "cell_type": "code",
   "execution_count": 107,
   "metadata": {
    "collapsed": false
   },
   "outputs": [],
   "source": [
    "object_index = train_to_save.select_dtypes(exclude=['number']).dtypes.index"
   ]
  },
  {
   "cell_type": "code",
   "execution_count": 108,
   "metadata": {
    "collapsed": false
   },
   "outputs": [],
   "source": [
    "train_to_transform = pd.DataFrame({})\n",
    "for oi in object_index:\n",
    "    train_to_transform.loc[:, oi] = oi + train_to_save.loc[:, oi]"
   ]
  },
  {
   "cell_type": "code",
   "execution_count": 109,
   "metadata": {
    "collapsed": false,
    "scrolled": true
   },
   "outputs": [
    {
     "data": {
      "text/plain": [
       "(260753, 29)"
      ]
     },
     "execution_count": 109,
     "metadata": {},
     "output_type": "execute_result"
    }
   ],
   "source": [
    "train_to_transform.shape"
   ]
  },
  {
   "cell_type": "code",
   "execution_count": 126,
   "metadata": {
    "collapsed": true
   },
   "outputs": [],
   "source": [
    "test = pd.read_csv('test.csv')"
   ]
  },
  {
   "cell_type": "code",
   "execution_count": 127,
   "metadata": {
    "collapsed": true
   },
   "outputs": [],
   "source": [
    "test.loc[:, 'Original_Quote_Date'] = pd.to_datetime(test.loc[:, 'Original_Quote_Date'])"
   ]
  },
  {
   "cell_type": "code",
   "execution_count": 111,
   "metadata": {
    "collapsed": false
   },
   "outputs": [
    {
     "data": {
      "text/html": [
       "<div>\n",
       "<table border=\"1\" class=\"dataframe\">\n",
       "  <thead>\n",
       "    <tr style=\"text-align: right;\">\n",
       "      <th></th>\n",
       "      <th>PersonalField7</th>\n",
       "      <th>PersonalField84</th>\n",
       "      <th>PropertyField3</th>\n",
       "      <th>PropertyField4</th>\n",
       "      <th>PropertyField5</th>\n",
       "      <th>PropertyField29</th>\n",
       "      <th>PropertyField30</th>\n",
       "      <th>PropertyField32</th>\n",
       "      <th>PropertyField34</th>\n",
       "      <th>PropertyField36</th>\n",
       "      <th>PropertyField38</th>\n",
       "    </tr>\n",
       "  </thead>\n",
       "  <tbody>\n",
       "    <tr>\n",
       "      <th>0</th>\n",
       "      <td>N</td>\n",
       "      <td>NaN</td>\n",
       "      <td>N</td>\n",
       "      <td>N</td>\n",
       "      <td>Y</td>\n",
       "      <td>NaN</td>\n",
       "      <td>N</td>\n",
       "      <td>Y</td>\n",
       "      <td>N</td>\n",
       "      <td>N</td>\n",
       "      <td>N</td>\n",
       "    </tr>\n",
       "    <tr>\n",
       "      <th>1</th>\n",
       "      <td>N</td>\n",
       "      <td>NaN</td>\n",
       "      <td>N</td>\n",
       "      <td>N</td>\n",
       "      <td>Y</td>\n",
       "      <td>NaN</td>\n",
       "      <td>N</td>\n",
       "      <td>Y</td>\n",
       "      <td>N</td>\n",
       "      <td>N</td>\n",
       "      <td>N</td>\n",
       "    </tr>\n",
       "    <tr>\n",
       "      <th>2</th>\n",
       "      <td>N</td>\n",
       "      <td>NaN</td>\n",
       "      <td>N</td>\n",
       "      <td>N</td>\n",
       "      <td>Y</td>\n",
       "      <td>NaN</td>\n",
       "      <td>N</td>\n",
       "      <td>Y</td>\n",
       "      <td>Y</td>\n",
       "      <td>N</td>\n",
       "      <td>N</td>\n",
       "    </tr>\n",
       "    <tr>\n",
       "      <th>3</th>\n",
       "      <td>N</td>\n",
       "      <td>NaN</td>\n",
       "      <td>N</td>\n",
       "      <td>N</td>\n",
       "      <td>Y</td>\n",
       "      <td>NaN</td>\n",
       "      <td>N</td>\n",
       "      <td>N</td>\n",
       "      <td>N</td>\n",
       "      <td>N</td>\n",
       "      <td>N</td>\n",
       "    </tr>\n",
       "    <tr>\n",
       "      <th>4</th>\n",
       "      <td>N</td>\n",
       "      <td>2</td>\n",
       "      <td>N</td>\n",
       "      <td>N</td>\n",
       "      <td>Y</td>\n",
       "      <td>NaN</td>\n",
       "      <td>N</td>\n",
       "      <td>Y</td>\n",
       "      <td>N</td>\n",
       "      <td>Y</td>\n",
       "      <td>N</td>\n",
       "    </tr>\n",
       "  </tbody>\n",
       "</table>\n",
       "</div>"
      ],
      "text/plain": [
       "  PersonalField7  PersonalField84 PropertyField3 PropertyField4  \\\n",
       "0              N              NaN              N              N   \n",
       "1              N              NaN              N              N   \n",
       "2              N              NaN              N              N   \n",
       "3              N              NaN              N              N   \n",
       "4              N                2              N              N   \n",
       "\n",
       "  PropertyField5  PropertyField29 PropertyField30 PropertyField32  \\\n",
       "0              Y              NaN               N               Y   \n",
       "1              Y              NaN               N               Y   \n",
       "2              Y              NaN               N               Y   \n",
       "3              Y              NaN               N               N   \n",
       "4              Y              NaN               N               Y   \n",
       "\n",
       "  PropertyField34 PropertyField36 PropertyField38  \n",
       "0               N               N               N  \n",
       "1               N               N               N  \n",
       "2               Y               N               N  \n",
       "3               N               N               N  \n",
       "4               N               Y               N  "
      ]
     },
     "execution_count": 111,
     "metadata": {},
     "output_type": "execute_result"
    }
   ],
   "source": [
    "test.loc[:, test.isnull().any().values].head()"
   ]
  },
  {
   "cell_type": "code",
   "execution_count": 128,
   "metadata": {
    "collapsed": true
   },
   "outputs": [],
   "source": [
    "test_to_save = test.copy()"
   ]
  },
  {
   "cell_type": "code",
   "execution_count": 129,
   "metadata": {
    "collapsed": true
   },
   "outputs": [],
   "source": [
    "test_to_save.loc[:, 'PersonalField7'] = test_to_save.loc[:, 'PersonalField7'].fillna('Unknown')"
   ]
  },
  {
   "cell_type": "code",
   "execution_count": 130,
   "metadata": {
    "collapsed": true
   },
   "outputs": [],
   "source": [
    "test_to_save.loc[:, 'PropertyField3'] = test_to_save.loc[:, 'PropertyField3'].fillna('Unknown')"
   ]
  },
  {
   "cell_type": "code",
   "execution_count": 131,
   "metadata": {
    "collapsed": true
   },
   "outputs": [],
   "source": [
    "test_to_save.loc[:, 'PropertyField4'] = test_to_save.loc[:, 'PropertyField4'].fillna('Unknown')"
   ]
  },
  {
   "cell_type": "code",
   "execution_count": 132,
   "metadata": {
    "collapsed": true
   },
   "outputs": [],
   "source": [
    "test_to_save.loc[:, 'PropertyField5'] = test_to_save.loc[:, 'PropertyField5'].fillna('Unknown')"
   ]
  },
  {
   "cell_type": "code",
   "execution_count": 133,
   "metadata": {
    "collapsed": true
   },
   "outputs": [],
   "source": [
    "test_to_save.loc[:, 'PropertyField30'] = test_to_save.loc[:, 'PropertyField30'].fillna('Unknown')"
   ]
  },
  {
   "cell_type": "code",
   "execution_count": 134,
   "metadata": {
    "collapsed": true
   },
   "outputs": [],
   "source": [
    "test_to_save.loc[:, 'PropertyField32'] = test_to_save.loc[:, 'PropertyField32'].fillna('Unknown')"
   ]
  },
  {
   "cell_type": "code",
   "execution_count": 135,
   "metadata": {
    "collapsed": true
   },
   "outputs": [],
   "source": [
    "test_to_save.loc[:, 'PropertyField34'] = test_to_save.loc[:, 'PropertyField34'].fillna('Unknown')"
   ]
  },
  {
   "cell_type": "code",
   "execution_count": 136,
   "metadata": {
    "collapsed": true
   },
   "outputs": [],
   "source": [
    "test_to_save.loc[:, 'PropertyField36'] = test_to_save.loc[:, 'PropertyField36'].fillna('Unknown')"
   ]
  },
  {
   "cell_type": "code",
   "execution_count": 137,
   "metadata": {
    "collapsed": true
   },
   "outputs": [],
   "source": [
    "test_to_save.loc[:, 'PropertyField38'] = test_to_save.loc[:, 'PropertyField38'].fillna('Unknown')"
   ]
  },
  {
   "cell_type": "code",
   "execution_count": 138,
   "metadata": {
    "collapsed": true
   },
   "outputs": [],
   "source": [
    "test_to_save.loc[:, 'PersonalField84'] = test_to_save.loc[:, 'PersonalField84'].fillna(-999)"
   ]
  },
  {
   "cell_type": "code",
   "execution_count": 139,
   "metadata": {
    "collapsed": true
   },
   "outputs": [],
   "source": [
    "test_to_save.loc[:, 'PropertyField29'] = test_to_save.loc[:, 'PropertyField29'].fillna(-999)"
   ]
  },
  {
   "cell_type": "code",
   "execution_count": 140,
   "metadata": {
    "collapsed": true
   },
   "outputs": [],
   "source": [
    "test_to_save.loc[:, 'Field10'] = test_to_save.loc[:, 'Field10'].str.replace(',', '').astype('float')"
   ]
  },
  {
   "cell_type": "code",
   "execution_count": 141,
   "metadata": {
    "collapsed": false
   },
   "outputs": [],
   "source": [
    "test_to_save.loc[:, 'year'] = test_to_save.loc[:, 'Original_Quote_Date'].dt.year.apply(lambda x: str(x))\n",
    "test_to_save.loc[:, 'month'] = test_to_save.loc[:, 'Original_Quote_Date'].dt.month.apply(lambda x: str(x))\n",
    "test_to_save.loc[:, 'dayofweek'] = test_to_save.loc[:, 'Original_Quote_Date'].dt.dayofweek.apply(lambda x: str(x))"
   ]
  },
  {
   "cell_type": "code",
   "execution_count": 142,
   "metadata": {
    "collapsed": true
   },
   "outputs": [],
   "source": [
    "test_to_save = test_to_save.drop('Original_Quote_Date', axis=1)"
   ]
  },
  {
   "cell_type": "code",
   "execution_count": 143,
   "metadata": {
    "collapsed": true
   },
   "outputs": [],
   "source": [
    "test_to_save.to_csv('test_fillna.csv', index=False)"
   ]
  },
  {
   "cell_type": "code",
   "execution_count": 144,
   "metadata": {
    "collapsed": true
   },
   "outputs": [],
   "source": [
    "test_to_transform = pd.DataFrame({})\n",
    "for oi in object_index:\n",
    "    test_to_transform.loc[:, oi] = oi + test_to_save.loc[:, oi]"
   ]
  },
  {
   "cell_type": "code",
   "execution_count": 145,
   "metadata": {
    "collapsed": true
   },
   "outputs": [],
   "source": [
    "to_transform = pd.concat([train_to_transform, test_to_transform])"
   ]
  },
  {
   "cell_type": "code",
   "execution_count": 146,
   "metadata": {
    "collapsed": false
   },
   "outputs": [
    {
     "data": {
      "text/plain": [
       "(434589, 29)"
      ]
     },
     "execution_count": 146,
     "metadata": {},
     "output_type": "execute_result"
    }
   ],
   "source": [
    "to_transform.shape"
   ]
  },
  {
   "cell_type": "code",
   "execution_count": 148,
   "metadata": {
    "collapsed": true
   },
   "outputs": [],
   "source": [
    "mlb = MultiLabelBinarizer()"
   ]
  },
  {
   "cell_type": "code",
   "execution_count": 149,
   "metadata": {
    "collapsed": false
   },
   "outputs": [
    {
     "data": {
      "text/plain": [
       "MultiLabelBinarizer(classes=None, sparse_output=False)"
      ]
     },
     "execution_count": 149,
     "metadata": {},
     "output_type": "execute_result"
    }
   ],
   "source": [
    "mlb.fit(to_transform.values)"
   ]
  },
  {
   "cell_type": "code",
   "execution_count": 150,
   "metadata": {
    "collapsed": false
   },
   "outputs": [],
   "source": [
    "train_bin = mlb.transform(train_to_transform.values)\n",
    "train_bin = pd.DataFrame(train_bin, columns=mlb.classes_)\n",
    "train_dataset = pd.concat([train_to_save.select_dtypes(include=['number']), train_bin], axis=1)"
   ]
  },
  {
   "cell_type": "code",
   "execution_count": 151,
   "metadata": {
    "collapsed": false
   },
   "outputs": [],
   "source": [
    "test_bin = mlb.transform(test_to_transform.values)\n",
    "test_bin = pd.DataFrame(test_bin, columns=mlb.classes_)\n",
    "test_dataset = pd.concat([test_to_save.select_dtypes(include=['number']), test_bin], axis=1)"
   ]
  },
  {
   "cell_type": "code",
   "execution_count": 152,
   "metadata": {
    "collapsed": true
   },
   "outputs": [],
   "source": [
    "train_dataset.to_csv('train_dataset.csv', index=False)"
   ]
  },
  {
   "cell_type": "code",
   "execution_count": 153,
   "metadata": {
    "collapsed": true
   },
   "outputs": [],
   "source": [
    "test_dataset.to_csv('test_dataset.csv', index=False)"
   ]
  },
  {
   "cell_type": "code",
   "execution_count": null,
   "metadata": {
    "collapsed": true
   },
   "outputs": [],
   "source": []
  }
 ],
 "metadata": {
  "kernelspec": {
   "display_name": "Python 3",
   "language": "python",
   "name": "python3"
  },
  "language_info": {
   "codemirror_mode": {
    "name": "ipython",
    "version": 3
   },
   "file_extension": ".py",
   "mimetype": "text/x-python",
   "name": "python",
   "nbconvert_exporter": "python",
   "pygments_lexer": "ipython3",
   "version": "3.4.3"
  }
 },
 "nbformat": 4,
 "nbformat_minor": 0
}
